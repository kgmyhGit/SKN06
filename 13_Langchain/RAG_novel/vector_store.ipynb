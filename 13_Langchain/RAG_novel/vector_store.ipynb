{
 "cells": [
  {
   "cell_type": "markdown",
   "metadata": {},
   "source": [
    "- vector_store.ipynb\n",
    "- data/소설들.pdf 들 Vector store에 저장.\n",
    "    - chroma, pinecone (알아서)\n",
    "    - metadata \n",
    "        - title: 소설제목\n",
    "        - author: 저자\n",
    "        - full_text: 소설 전체 내용\n",
    "    - Document(page_content=\"split된 내용\", metadata={})\n",
    "    - page_content는 조회할 때 사용할 embedding vector를 생성할 때 사용될 내용.\n",
    "    - llm 모델에 전송할 context는 metadata의 full_text\n",
    "\n"
   ]
  },
  {
   "cell_type": "markdown",
   "metadata": {},
   "source": [
    "- app.py\n",
    "    - streamlit을 이용해서 서비스하는 application\n",
    "    - vector_store.ipynb에서 구축한 DB를 이용해 질문과 관련된 내용들을 \n",
    "      조회해서 llm에 전송하고 그 결과를 채팅창에 출력.\n",
    "    - memory 기능은 사용하지 않는다."
   ]
  }
 ],
 "metadata": {
  "language_info": {
   "name": "python"
  }
 },
 "nbformat": 4,
 "nbformat_minor": 2
}
