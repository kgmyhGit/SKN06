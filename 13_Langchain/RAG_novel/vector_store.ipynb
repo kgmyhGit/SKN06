{
 "cells": [
  {
   "cell_type": "markdown",
   "metadata": {},
   "source": [
    "# TODO\n",
    "\n",
    "- vector_store.ipynb\n",
    "    - data/소설들.pdf 들 Vector store에 저장.\n",
    "        - chroma, pinecone (알아서)\n",
    "        - metadata \n",
    "            - title: 소설제목\n",
    "            - author: 저자\n",
    "            - full_text: 소설 전체 내용\n",
    "        - Document(page_content=\"split된 내용\", metadata={})\n",
    "        - page_content는 조회할 때 사용할 embedding vector를 생성할 때 사용될 내용.\n",
    "        - llm 모델에 전송할 context는 metadata의 full_text\n",
    "\n",
    "- app.py\n",
    "    - streamlit을 이용해서 서비스하는 application\n",
    "    - vector_store.ipynb에서 구축한 DB를 이용해 질문과 관련된 내용들을 \n",
    "      조회해서 llm에 전송하고 그 결과를 채팅창에 출력.\n",
    "    - memory 기능은 사용하지 않는다."
   ]
  },
  {
   "cell_type": "markdown",
   "metadata": {},
   "source": [
    "# 소설들을 Vector Store에 저장\n",
    "\n",
    "## Load\n",
    "- `data/*.pdf` 파일들을 모두 load"
   ]
  },
  {
   "cell_type": "markdown",
   "metadata": {},
   "source": [
    "- 각 소설들을 split 한 뒤 vector store에 저장한다.   \n",
    "- metadata:\n",
    "    - title: 소설제목\n",
    "    - author: 저자\n",
    "    - full_text: 소설 전체 내용"
   ]
  },
  {
   "cell_type": "code",
   "execution_count": null,
   "metadata": {},
   "outputs": [],
   "source": [
    "import re\n",
    "import os\n",
    "import config\n",
    "from glob import glob\n",
    "\n",
    "from langchain_community.document_loaders import PyMuPDFLoader\n",
    "from langchain.text_splitter import RecursiveCharacterTextSplitter\n",
    "from langchain_core.documents import Document\n",
    "\n",
    "from dotenv import load_dotenv\n",
    "\n",
    "load_dotenv()\n",
    "\n",
    "# 설정 정보 읽기\n",
    "CHUNK_SIZE = config.chunk_size\n",
    "CHUNK_OVERLAP = config.chunk_overlap\n",
    "\n",
    "MODEL_NAME  = config.model_name\n",
    "EMBEDDING_NAME = config.embedding_name\n",
    "\n",
    "COLLECTION_NAME = config.collection_name\n",
    "PERSIST_DIRECTORY = config.persist_directory\n",
    "\n",
    "# 소설 파일들 경로 조회\n",
    "path_list = glob(\"data/*.pdf\")\n",
    "\n",
    "document_list = []\n",
    "\n",
    "# load -> 전처리 -> split -> metadata 추가 \n",
    "for path in path_list:\n",
    "    # Document Load\n",
    "    loader = PyMuPDFLoader(path)\n",
    "    load_docs = loader.load()\n",
    "\n",
    "    # 전처리 - 페이지 번호 제거, 🙝🙟 를 \\n\\n 으로 변경\n",
    "    full_text = [doc.page_content for doc in load_docs]\n",
    "    full_text = ''.join(full_text)\n",
    "    full_text = full_text.replace(\"🙝🙟\", \"\\n\\n\")\n",
    "    full_text = re.sub(r\"\\d+\\n\", \" \", full_text)   # 페이지 번호 제거\n",
    "    \n",
    "    # Split\n",
    "    splitter = RecursiveCharacterTextSplitter.from_tiktoken_encoder(\n",
    "        model_name=MODEL_NAME,\n",
    "        chunk_size=CHUNK_SIZE,\n",
    "        chunk_overlap=CHUNK_OVERLAP,\n",
    "    )\n",
    "    docs = splitter.split_text(full_text)\n",
    "\n",
    "    # Metadata 생성\n",
    "    author = os.path.splitext(os.path.basename(path))[0].split('_')[-1]\n",
    "    metadata = {\n",
    "        \"title\":load_docs[0].metadata[\"title\"],\n",
    "        \"author\": author,\n",
    "        \"full_text\":full_text\n",
    "    }\n",
    "\n",
    "    # Document 생성\n",
    "    for doc in docs:\n",
    "        _doc = Document(metadata=metadata, page_content=doc)\n",
    "        document_list.append(_doc)\n",
    "\n",
    "print(len(document_list))"
   ]
  },
  {
   "cell_type": "markdown",
   "metadata": {},
   "source": [
    "## Vector Store 저장\n",
    "- Chroma Vector Store에 저장"
   ]
  },
  {
   "cell_type": "code",
   "execution_count": 2,
   "metadata": {},
   "outputs": [],
   "source": [
    "from langchain_openai import OpenAIEmbeddings\n",
    "from langchain_chroma import Chroma\n",
    "\n",
    "\n",
    "embedding_model = OpenAIEmbeddings(\n",
    "    model=EMBEDDING_NAME\n",
    ")\n",
    "\n",
    "vector_store = Chroma.from_documents(\n",
    "    documents=document_list,\n",
    "    embedding=embedding_model,\n",
    "    collection_name=COLLECTION_NAME,\n",
    "    persist_directory=PERSIST_DIRECTORY\n",
    ")"
   ]
  },
  {
   "cell_type": "markdown",
   "metadata": {},
   "source": [
    "# 확인"
   ]
  },
  {
   "cell_type": "code",
   "execution_count": null,
   "metadata": {},
   "outputs": [],
   "source": [
    "# 자정 개수 확인\n",
    "vector_store._collection.count()"
   ]
  },
  {
   "cell_type": "code",
   "execution_count": 10,
   "metadata": {},
   "outputs": [],
   "source": [
    "###########################\n",
    "# 검색\n",
    "\n",
    "query = \"현진건의 소설들의 특징은 어떤 것이 있을까?\" \n",
    "query = \"운수좋은 날에서 주인공은 왜 괴상하게도 운수가 좋다고 느꼈을까?\"\n",
    "query = \"허 생원은 어느 장으로 가서 장사를 할 예정인가?\"\n",
    "query = \"이효석의 메밀꽃 필 무렵의 주인공은 누구인가?\"\n",
    "query = \"벙어리 삼룡이는 화자가 몇살 때 일인가?\"\n",
    "query = \"삼룡이의 주인 아들의 색시는 몇살인가?\"\n",
    "\n",
    "result = vector_store.similarity_search(\n",
    "    query,\n",
    "    k=5,\n",
    "    # filter={\"author\": \"현진건\"}\n",
    ")"
   ]
  },
  {
   "cell_type": "code",
   "execution_count": null,
   "metadata": {},
   "outputs": [],
   "source": [
    "for res in result:\n",
    "    print(res.metadata['title'], res.metadata['author'], sep=\" | \")\n",
    "    print(res.page_content)\n",
    "    print(\"=====================================\")"
   ]
  },
  {
   "cell_type": "code",
   "execution_count": null,
   "metadata": {},
   "outputs": [],
   "source": []
  },
  {
   "cell_type": "code",
   "execution_count": null,
   "metadata": {},
   "outputs": [],
   "source": []
  }
 ],
 "metadata": {
  "kernelspec": {
   "display_name": "langchain",
   "language": "python",
   "name": "python3"
  },
  "language_info": {
   "codemirror_mode": {
    "name": "ipython",
    "version": 3
   },
   "file_extension": ".py",
   "mimetype": "text/x-python",
   "name": "python",
   "nbconvert_exporter": "python",
   "pygments_lexer": "ipython3",
   "version": "3.12.7"
  }
 },
 "nbformat": 4,
 "nbformat_minor": 2
}
