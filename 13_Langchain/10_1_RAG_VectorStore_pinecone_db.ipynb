{
 "cells": [
  {
   "cell_type": "markdown",
   "id": "bfa57b58-f9a5-4c3c-95e5-d8e44daace77",
   "metadata": {},
   "source": [
    "# Pinecone(파인콘)\n",
    "- https://www.pinecone.io/\n",
    "- Pinecone은 AI 및 머신러닝 애플리케이션을 지원하기 위해 설계된 클라우드 기반 벡터 데이터베이스다. \n",
    "- 고차원 벡터 임베딩을 효율적으로 저장하고 검색할 수 있는 플랫폼을 제공하며, 사용자가 의미 기반 검색, 추천 시스템, 이미지 유사성 검색 등 다양한 기능을 애플리케이션에 손쉽게 통합할 수 있도록 돕는다.\n",
    "-  현재 Milvus, Weaviate, Chroma 등 다른 벡터 데이터베이스들과 비교했을 때 가장 선호되는 솔루션이다.\n",
    "- Vector Database 순위: https://db-engines.com/en/ranking/vector+dbms\n",
    "\n",
    "## 장점\n",
    "- **유사성 검색 지원**\n",
    "  -  Pinecone은 데이터 간의 유사성을 기반으로 가장 가까운 결과를 제공하는 유사성 검색 기능을 지원한다. \n",
    "- **초저 지연 속도** \n",
    "  - 초당 수십억 개의 항목을 검색할 수 있으며, 지연 속도는 50ms 미만으로 매우 빠르다. \n",
    "- **실시간 데이터 처리**\n",
    "  - 새로운 데이터의 즉각적인 추가 및 인덱싱 지원.\n",
    "  - 다운타임(downtime-시스템을 이용할 수 없는 시간) 없이 최신 데이터에 지속적으로 접근 가능.\n",
    "- **확장성** \n",
    "  - AI 응용 프로그램이 확장됨에 따라 데이터 용량이 커질 경우에도 안정적인 성능을 제공한다. \n",
    "- **클라우드 기반 완전 관리형 인프라 제공** \n",
    "  - Pinecone은 클라우드에서 벡터 데이터를 저장하고 관리하기 때문에 개발자가 직접 인프라를 관리할 필요가 없다. \n",
    "  - 데이터 백업, 복구, 보안, 스케일링, 장애 복구등과 같은 인프라 운영을 pinecone이 담당하므로 개발자는 데이터에 집중할 수 있다.\n",
    "- **개발자 친화성**\n",
    "  -  API와 Python 클라이언트를 제공하여 쉽게 시작하고 사용할 수 있으며, 다양한 프로그래밍 언어와 프레임워크와의 통합이 원활하다. \n"
   ]
  },
  {
   "cell_type": "markdown",
   "id": "b2f32d71-f03d-42c6-a24b-e4a796bbbf54",
   "metadata": {},
   "source": [
    "## package 설치\n",
    "  - `pip install -qU pinecone-client`\n",
    "  - `pip install -qU langchain-pinecone`\n",
    "\n",
    "## Pinecone API Key 생성\n",
    "- **로그인 후 API Key를 생성하고 복사한다.**\n",
    "  \n",
    "![pinecone_apikey.png](figures/pinecone_apikey.png)\n",
    "- **복사한 API Key를 환경변수에 등록한다.**\n",
    "    - 변수명: `PINECONE_API_KEY` \n",
    "    - `.env`에 등록한 뒤 `dotenv` 모듈을 이용해 Loading."
   ]
  },
  {
   "cell_type": "code",
   "execution_count": null,
   "id": "caf51ac1-d493-4597-b5b4-1733a23bc4cb",
   "metadata": {},
   "outputs": [],
   "source": [
    "# %pip install -qU pandas matplotlib tqdm ipywidgets\n",
    "# %pip install -qU pinecone-client langchain-pinecone"
   ]
  },
  {
   "cell_type": "markdown",
   "id": "0b6b413c-d1c8-4e7f-b74e-c3fd70eef940",
   "metadata": {},
   "source": [
    "## Index 생성\n",
    "- **Index**는 RDMBS에서의 Database 역할을 한다.\n",
    "- Main -> Database -> Indexes -> Create Index\n",
    "\n",
    "![pinecone_index_create.png](figures/pinecone_index_create.png)\n",
    "\n",
    "- **Index 이름, Dimensions, Metric** 을 넣고 생성한다. (Create Index)\n",
    "    - 나머지 항목은 유료 Plan에서만 변경할 수있다.\n",
    "    - **Dimensions**\n",
    "        -  Vector 차원 수\n",
    "        -  아래 Pretrained Embedding 모델을 선택하면 그것에 맞춰 dimension을 잡아준다. \n",
    "    - **Metric**: 유사도 확인시 사용할 방법\n",
    "\n",
    "![pinecone_index_create2](figures/pinecone_index_create2.png)"
   ]
  },
  {
   "cell_type": "code",
   "execution_count": 3,
   "id": "4afc02d5-e15f-4594-aff5-f92c72ad3012",
   "metadata": {},
   "outputs": [],
   "source": [
    "from dotenv import load_dotenv\n",
    "import os\n",
    "\n",
    "load_dotenv()\n",
    "\n",
    "PINECONE_API_KEY = os.getenv(\"PINECONE_API_KEY\")\n",
    "# print(PINECONE_API_KEY)"
   ]
  },
  {
   "cell_type": "code",
   "execution_count": 4,
   "id": "86f396c6-a990-4105-a90e-09b5cfe216f4",
   "metadata": {},
   "outputs": [],
   "source": [
    "INDEX_NAME = 'embedding3'\n",
    "NAMESPACE = 'embedding3-ns-1'\n",
    "# index - Database\n",
    "# namespace - Table"
   ]
  },
  {
   "cell_type": "markdown",
   "id": "1a06c75f-7ab4-426d-864b-91b3db413ae8",
   "metadata": {},
   "source": [
    "# Pinecone API 이용해 연동\n",
    "\n",
    "## Pinecone Client 초기화(생성)"
   ]
  },
  {
   "cell_type": "code",
   "execution_count": 5,
   "id": "23f729dc-1793-44d5-a9c3-6a7f3d5e04a5",
   "metadata": {},
   "outputs": [],
   "source": [
    "from pinecone import Pinecone\n",
    "\n",
    "pc = Pinecone(api_key=PINECONE_API_KEY) # Pinecone 서비스에 연결."
   ]
  },
  {
   "cell_type": "code",
   "execution_count": 6,
   "id": "8dd7c641",
   "metadata": {},
   "outputs": [],
   "source": [
    "# index와 연결\n",
    "index = pc.Index(INDEX_NAME) "
   ]
  },
  {
   "cell_type": "code",
   "execution_count": 7,
   "id": "bd9f75c5",
   "metadata": {},
   "outputs": [
    {
     "name": "stdout",
     "output_type": "stream",
     "text": [
      "{'dimension': 3,\n",
      " 'index_fullness': 0.0,\n",
      " 'namespaces': {},\n",
      " 'total_vector_count': 0}\n"
     ]
    }
   ],
   "source": [
    "# 연결된 index의 정보를 확인\n",
    "index_info = index.describe_index_stats()\n",
    "print(index_info)"
   ]
  },
  {
   "cell_type": "markdown",
   "id": "a558d61b-6bc0-4dc8-946f-0909ff4d5282",
   "metadata": {},
   "source": [
    "## Record Upsert\n",
    "- **Upsert**: index에 vector data를 저장.\n",
    "- `Index.upsert()`: Index에 vector data를 저장 및 수정.\n",
    "  - **vectors**: upsert할 Record들을 List에 담아서 전달한다.\n",
    "    - 개별 데이터는 dict 형태로 전달한다. **key는 id, values, metadata**로 구성된다.\n",
    "      - **\"id\"**: Record의 고유 ID. 같은 id로 upsert하면 기존 데이터를 수정한다.\n",
    "        - 문자열(string) 타입 사용.\n",
    "        - 각 벡터의 ID는 인덱스 내에서 고유해야 한다.\n",
    "        - 최대 길이는 **512바이트** 이다.\n",
    "        - 사용 가능한 문자는 영숫자, `-`, `_`, `#`, `:` 이다.\n",
    "        - 대소문자를 구분한다.\n",
    "      - **\"values\"**: Record의 의미를 나타내는 Embedding Vector. Record 조회할 때 유사도 계산에 사용된다.\n",
    "      - **\"metadata\"**: Record의 추가 정보. 보통 실제 조회결과로 사용할 데이터를 key-value 쌍의 dictionary로 저장한다. 조회할 때 조회조건으로도 사용할 수 있다. (optional)\n",
    "        - value에는 **문자열, 정수, 실수, boolean, 문자열리스트**가 가능하다. value에 null은 올 수 없다. 이 경우 해당 key를 제거한다.\n",
    "  - **namespace**: Record들을 저장할 Index 내의 namespace 이름\n",
    "\n",
    "> - **Namespace**\n",
    ">     - Index 내의 데이터들을 분리하기 위한 이름 공간. Index 내에 여러 개의 namespace를 생성할 수 있다.\n",
    ">    - namespace를 사용하면 Index 내에 여러 개의 데이터 집합을 저장하고, 각 데이터 집합을 분리하여 관리할 수 있다.\n",
    ">    - 관계형 데이터베이스 기준에서 **Index는 Database, namespace는 Table**로 볼 수 있다. "
   ]
  },
  {
   "cell_type": "code",
   "execution_count": null,
   "id": "4f80360c-033f-4621-96d1-4b2679ddaa86",
   "metadata": {},
   "outputs": [
    {
     "data": {
      "text/plain": [
       "{'upserted_count': 6}"
      ]
     },
     "execution_count": 9,
     "metadata": {},
     "output_type": "execute_result"
    }
   ],
   "source": [
    "# list[dict]  개별 데이터를 dictionary로 정의.\n",
    "upsert_data = [\n",
    "    {\n",
    "        \"id\":\"vec1\",\n",
    "        \"values\":[1.0, 1.5, 2.0], # embedding 모델이 변환한 embedding vector\n",
    "        \"metadata\":{\"genre\":\"drama\", \"title\":\"별에서 온 그대\"}, # 조회결과로 사용할 값 + 이 데이터에 대한 정보.\n",
    "    }, \n",
    "    {\n",
    "        \"id\":\"vec2\",\n",
    "        \"values\":[2.0, 1.0, 0.5],\n",
    "        \"metadata\":{\"genre\":\"action\", \"title\":\"트랜스포터\"}\n",
    "    },\n",
    "    {\n",
    "        \"id\":\"vec3\",\n",
    "        \"values\":[0.1, 0.3, 0.7],\n",
    "        \"metadata\":{\"genre\":\"drama\", \"title\":\"사랑의 불시착\"}\n",
    "    },\n",
    "    {\n",
    "        \"id\":\"vec4\",\n",
    "        \"values\":[1.0, 2.7, 3.6],\n",
    "        \"metadata\":{\"genre\":\"action\", \"title\":\"킹덤\"}\n",
    "    },\n",
    "    {\n",
    "        \"id\":\"vec5\",\n",
    "        \"values\":[0.2, 0.6, 0.5],\n",
    "        \"metadata\": {\"genre\":\"drama\", \"title\":\"눈물의 여왕\"}\n",
    "    },\n",
    "    {\n",
    "        \"id\":\"vec6\",\n",
    "        \"values\":[0.3, 1.1, 3.3],\n",
    "        \"metadata\":{\"genre\":\"comedy\", \"title\":\"마스크\"}\n",
    "    }\n",
    "]\n",
    "\n",
    "# upsert()\n",
    "index.upsert(\n",
    "    vectors=upsert_data, # upsert(insert) 할 데이터셋\n",
    "    namespace=NAMESPACE  # upsert할 namespace\n",
    "    # namespace=\"embedding3-ns-2\"\n",
    ")"
   ]
  },
  {
   "cell_type": "code",
   "execution_count": 10,
   "id": "720fd62c",
   "metadata": {},
   "outputs": [
    {
     "name": "stdout",
     "output_type": "stream",
     "text": [
      "{'dimension': 3,\n",
      " 'index_fullness': 0.0,\n",
      " 'namespaces': {'embedding3-ns-1': {'vector_count': 6},\n",
      "                'embedding3-ns-2': {'vector_count': 6}},\n",
      " 'total_vector_count': 12}\n"
     ]
    }
   ],
   "source": [
    "print(index.describe_index_stats()) # index 정보 확인"
   ]
  },
  {
   "cell_type": "markdown",
   "id": "f02f881a-c114-483b-9ec2-d15a8c3d4894",
   "metadata": {},
   "source": [
    "### 파인콘 Home에서 확인\n",
    "- Main -> Database -> Indexes 에서 **index**를 선택한다.\n",
    "- Upsert된 데이터를 확인할 수있다.\n",
    "- 직접 값을 넣어 저장된 데이터 중 유사도 높은 K개 조회를 할 수있다.\n",
    "![pinecone_index_search.png](figures/pinecone_index_search.png)"
   ]
  },
  {
   "cell_type": "markdown",
   "id": "4444d324-e0c0-456c-b32b-220c61f4818b",
   "metadata": {},
   "source": [
    "## Query(조회하기)\n",
    "- `Index.list(namespace)`\n",
    "    -  namespace에 있는 모든 record 의 id들 조회\n",
    "-  `Index.fetch(ids, namespace)`\n",
    "    -  namespace의 지정한 id의 recored들을 조회\n",
    "    -  ids: list - 조회하려는 id들을 리스트로 묶어 전달\n",
    "- `Index.query()`\n",
    "    - query vector(조회하려는 vector)와 유사도가 높은 record들 조회 \n",
    "    - namespace: 대상 namespace\n",
    "    - vector: query vector\n",
    "    - top_k: query vector와 유사한 것 몇개를 조회할 지 설정\n",
    "    - include_values: value 조회결과에 포함 여부\n",
    "    - include_metadata: metadata 조회결과에 포함 여부\n",
    "    - filter: Meta data 값을 이용해 추가 조회조건을 지정한다.\n",
    "- filter에서 사용하는 연산자.\n",
    "    - `$eq`: 지정된 값과 동일한 메타데이터 값을 가진 벡터를 찾습니다.\n",
    "    - `$ne`: 지정된 값과 다른 메타데이터 값을 가진 벡터를 찾습니다.\n",
    "    - `$gt`: 지정된 값보다 큰 메타데이터 값을 가진 벡터를 찾습니다.\n",
    "    - `$gte`: 지정된 값보다 크거나 같은 메타데이터 값을 가진 벡터를 찾습니다.\n",
    "    - `$lt`: 지정된 값보다 작은 메타데이터 값을 가진 벡터를 찾습니다.\n",
    "    - `$lte`: 지정된 값보다 작거나 같은 메타데이터 값을 가진 벡터를 찾습니다.\n",
    "    - `$in`: 지정된 배열 내의 값 중 하나를 가진 메타데이터 값을 가진 벡터를 찾습니다.\n",
    "    - `$nin`: 지정된 배열 내의 값과 다른 메타데이터 값을 가진 벡터를 찾습니다.\n",
    "    - `$exists`: 특정 메타데이터 필드가 존재하는 벡터를 찾습니다. "
   ]
  },
  {
   "cell_type": "code",
   "execution_count": 20,
   "id": "90f5fe95-59c2-420f-a30c-a45c28c571bd",
   "metadata": {},
   "outputs": [
    {
     "name": "stdout",
     "output_type": "stream",
     "text": [
      "{'matches': [{'id': 'vec3',\n",
      "              'metadata': {'genre': 'drama', 'title': '사랑의 불시착'},\n",
      "              'score': 0.997341454,\n",
      "              'values': [0.1, 0.3, 0.7]},\n",
      "             {'id': 'vec6',\n",
      "              'metadata': {'genre': 'comedy', 'title': '마스크'},\n",
      "              'score': 0.994015276,\n",
      "              'values': [0.3, 1.1, 3.3]},\n",
      "             {'id': 'vec4',\n",
      "              'metadata': {'genre': 'action', 'title': '킹덤'},\n",
      "              'score': 0.965858519,\n",
      "              'values': [1.0, 2.7, 3.6]}],\n",
      " 'namespace': 'embedding3-ns-1',\n",
      " 'usage': {'read_units': 6}}\n"
     ]
    }
   ],
   "source": [
    "query_vec = [0.1, 0.3, 0.7]\n",
    "res = index.query(\n",
    "    namespace=NAMESPACE,\n",
    "    vector=query_vec,   # 대상 query vector\n",
    "    top_k=3, # 몇개를 조회할 지정.\n",
    "    include_values=True,  # values(embedding vector) 를 결과에 포함할 지 여부\n",
    "    include_metadata=True # metadata를 결과에 포함할 지 여부.\n",
    ")\n",
    "\n",
    "print(res)"
   ]
  },
  {
   "cell_type": "code",
   "execution_count": null,
   "id": "c3b94797",
   "metadata": {},
   "outputs": [
    {
     "name": "stdout",
     "output_type": "stream",
     "text": [
      "{'matches': [{'id': 'vec4',\n",
      "              'metadata': {'genre': 'action', 'title': '킹덤'},\n",
      "              'score': 0.965858519,\n",
      "              'values': []},\n",
      "             {'id': 'vec2',\n",
      "              'metadata': {'genre': 'action', 'title': '트랜스포터'},\n",
      "              'score': 0.483622849,\n",
      "              'values': []}],\n",
      " 'namespace': 'embedding3-ns-1',\n",
      " 'usage': {'read_units': 6}}\n"
     ]
    }
   ],
   "source": [
    "res = index.query(\n",
    "    namespace=NAMESPACE,\n",
    "    vector=query_vec,   # 대상 query vector\n",
    "    top_k=3, # 몇개를 조회할 지정.\n",
    "    # include_values=True,  # values(embedding vector) 를 결과에 포함할 지 여부\n",
    "    include_metadata=True, # metadata를 결과에 포함할 지 여부.\n",
    "    filter = {  # 추가 검색 조건 -> metadata의 정보를 이용해 지정.\n",
    "        \"genre\":{\"$eq\":\"action\"} # metadata의 키:{연산자:값} -> genre:action 인 데이터들만 유사도를 계산.\n",
    "        # , \"genre\":{\"$exists\":True} # genre key가 있는 데이터들.\n",
    "        # , \"year\":{\"$gt\":2020}  # year가 2020 보다 큰 데이터들.\n",
    "\n",
    "    }\n",
    ")\n",
    "# filter가 없으면 전체 record들을 대상으로 검색.\n",
    "# filter가 있으면 그 조건이 True인 record들을 대상으로 검색.\n",
    "print(res)"
   ]
  },
  {
   "cell_type": "code",
   "execution_count": 25,
   "id": "1d4d6e1c",
   "metadata": {},
   "outputs": [
    {
     "name": "stdout",
     "output_type": "stream",
     "text": [
      "킹덤\n",
      "트랜스포터\n"
     ]
    }
   ],
   "source": [
    "for record in res['matches']:\n",
    "    print(record['metadata'][\"title\"])"
   ]
  },
  {
   "cell_type": "code",
   "execution_count": null,
   "id": "70634009",
   "metadata": {},
   "outputs": [
    {
     "data": {
      "text/plain": [
       "[['vec1', 'vec2', 'vec3', 'vec4', 'vec5', 'vec6']]"
      ]
     },
     "execution_count": 27,
     "metadata": {},
     "output_type": "execute_result"
    }
   ],
   "source": [
    "# namespace에 전체 record의 id들을 조회\n",
    "list(index.list(namespace=NAMESPACE)) # index.list() -> generator"
   ]
  },
  {
   "cell_type": "code",
   "execution_count": 28,
   "id": "13b4921c",
   "metadata": {},
   "outputs": [
    {
     "name": "stdout",
     "output_type": "stream",
     "text": [
      "['vec1', 'vec2', 'vec3', 'vec4', 'vec5', 'vec6']\n"
     ]
    }
   ],
   "source": [
    "for ids in index.list(namespace=NAMESPACE):\n",
    "    print(ids)"
   ]
  },
  {
   "cell_type": "code",
   "execution_count": 29,
   "id": "c4075e0d",
   "metadata": {},
   "outputs": [
    {
     "name": "stdout",
     "output_type": "stream",
     "text": [
      "{'namespace': 'embedding3-ns-1',\n",
      " 'usage': {'read_units': 1},\n",
      " 'vectors': {'vec1': {'id': 'vec1',\n",
      "                      'metadata': {'genre': 'drama', 'title': '별에서 온 그대'},\n",
      "                      'values': [1.0, 1.5, 2.0]},\n",
      "             'vec4': {'id': 'vec4',\n",
      "                      'metadata': {'genre': 'action', 'title': '킹덤'},\n",
      "                      'values': [1.0, 2.7, 3.6]}}}\n"
     ]
    }
   ],
   "source": [
    "# id로 조회\n",
    "res = index.fetch([\"vec1\", \"vec4\"], namespace=NAMESPACE)\n",
    "print(res)"
   ]
  },
  {
   "cell_type": "code",
   "execution_count": 31,
   "id": "0d0f4a15",
   "metadata": {},
   "outputs": [
    {
     "data": {
      "text/plain": [
       "{'namespace': 'embedding3-ns-1',\n",
       " 'usage': {'read_units': 1},\n",
       " 'vectors': {'vec1': {'id': 'vec1',\n",
       "                      'metadata': {'genre': 'drama', 'title': '별에서 온 그대'},\n",
       "                      'values': [1.0, 1.5, 2.0]},\n",
       "             'vec2': {'id': 'vec2',\n",
       "                      'metadata': {'genre': 'action', 'title': '트랜스포터'},\n",
       "                      'values': [2.0, 1.0, 0.5]},\n",
       "             'vec3': {'id': 'vec3',\n",
       "                      'metadata': {'genre': 'drama', 'title': '사랑의 불시착'},\n",
       "                      'values': [0.1, 0.3, 0.7]},\n",
       "             'vec4': {'id': 'vec4',\n",
       "                      'metadata': {'genre': 'action', 'title': '킹덤'},\n",
       "                      'values': [1.0, 2.7, 3.6]},\n",
       "             'vec5': {'id': 'vec5',\n",
       "                      'metadata': {'genre': 'drama', 'title': '눈물의 여왕'},\n",
       "                      'values': [0.2, 0.6, 0.5]},\n",
       "             'vec6': {'id': 'vec6',\n",
       "                      'metadata': {'genre': 'comedy', 'title': '마스크'},\n",
       "                      'values': [0.3, 1.1, 3.3]}}}"
      ]
     },
     "execution_count": 31,
     "metadata": {},
     "output_type": "execute_result"
    }
   ],
   "source": [
    "# vector들을 시각화\n",
    "res = index.fetch(\n",
    "    ['vec1', 'vec2', 'vec3', 'vec4', 'vec5', 'vec6'],\n",
    "    namespace=NAMESPACE\n",
    ")\n",
    "res"
   ]
  },
  {
   "cell_type": "code",
   "execution_count": null,
   "id": "e1d6ce58",
   "metadata": {},
   "outputs": [
    {
     "data": {
      "text/plain": [
       "([[1.0, 1.5, 2.0],\n",
       "  [0.3, 1.1, 3.3],\n",
       "  [0.2, 0.6, 0.5],\n",
       "  [1.0, 2.7, 3.6],\n",
       "  [2.0, 1.0, 0.5],\n",
       "  [0.1, 0.3, 0.7],\n",
       "  [0.1, 0.3, 0.7]],\n",
       " ['vec1', 'vec6', 'vec5', 'vec4', 'vec2', 'vec3', 'query_vector'])"
      ]
     },
     "execution_count": 37,
     "metadata": {},
     "output_type": "execute_result"
    }
   ],
   "source": [
    "# values(embedding vector) 만 추출\n",
    "res['vectors']  # dict[str:id, dict:정보]\n",
    "res['vectors'].values() # dict의 value들만 조회\n",
    "\n",
    "embedding_vectors = [value['values'] for value in res['vectors'].values()]\n",
    "ids = [value['id'] for value in res['vectors'].values()]\n",
    "\n",
    "# query_vector를 추가\n",
    "embedding_vectors.append(query_vec)\n",
    "ids.append(\"query_vector\")\n",
    "\n",
    "embedding_vectors, ids"
   ]
  },
  {
   "cell_type": "code",
   "execution_count": null,
   "id": "10ffc2ec",
   "metadata": {},
   "outputs": [
    {
     "data": {
      "image/png": "[encoded data removed]",
      "text/plain": [
       "<Figure size 640x480 with 1 Axes>"
      ]
     },
     "metadata": {},
     "output_type": "display_data"
    }
   ],
   "source": [
    "import matplotlib.pyplot as plt\n",
    "fig = plt.figure()\n",
    "ax = fig.add_subplot(111, projection=\"3d\")  # 3차원(x, y, z) 그래프를 그릴 axes 반환\n",
    "for idx, id in enumerate(ids):\n",
    "    if id == \"query_vector\": # 다른 모양의 점을 찍기.\n",
    "        ax.scatter(\n",
    "            embedding_vectors[idx][0], # x축 좌표\n",
    "            embedding_vectors[idx][1], # y축 좌표\n",
    "            embedding_vectors[idx][2], # z축 좌표\n",
    "            color=\"green\",\n",
    "            s=50,  # 점 크기\n",
    "            marker=\"s\" #점모양\n",
    "        )\n",
    "    else:\n",
    "        ax.scatter(\n",
    "            embedding_vectors[idx][0], # x축 좌표\n",
    "            embedding_vectors[idx][1], # y축 좌표\n",
    "            embedding_vectors[idx][2], # z축 좌표\n",
    "        )\n",
    "    ax.set_xlabel(\"X\")\n",
    "    ax.set_ylabel(\"Y\")\n",
    "    ax.set_zlabel(\"Z\")\n",
    "plt.show()"
   ]
  },
  {
   "cell_type": "code",
   "execution_count": null,
   "id": "103d07ef",
   "metadata": {},
   "outputs": [],
   "source": []
  },
  {
   "cell_type": "markdown",
   "id": "6f553d0c-7bba-4bcc-944a-877b76112928",
   "metadata": {},
   "source": [
    "## ServerLess Index 생성\n",
    "- 코드로 Index 생성"
   ]
  },
  {
   "cell_type": "code",
   "execution_count": null,
   "id": "0439f8d6-d693-462d-a6dc-5eee24b664e8",
   "metadata": {},
   "outputs": [],
   "source": []
  },
  {
   "cell_type": "code",
   "execution_count": null,
   "id": "7f7abf82-e86b-4b19-8972-36babcaf864f",
   "metadata": {},
   "outputs": [],
   "source": []
  },
  {
   "cell_type": "code",
   "execution_count": null,
   "id": "25d6ec99-f714-4405-bc5c-13c62a04f697",
   "metadata": {},
   "outputs": [],
   "source": []
  },
  {
   "cell_type": "markdown",
   "id": "87365b49-dc20-4d9b-afb7-31d021ccf737",
   "metadata": {},
   "source": [
    "### Index들 조회\n",
    "- `Pinecone.list_indexes()`"
   ]
  },
  {
   "cell_type": "code",
   "execution_count": null,
   "id": "daa1a960-29c1-4ff8-9168-18b36fa9769e",
   "metadata": {},
   "outputs": [],
   "source": []
  },
  {
   "cell_type": "code",
   "execution_count": null,
   "id": "a2ca7e64-8a24-477d-a604-628e45724ccf",
   "metadata": {},
   "outputs": [],
   "source": []
  },
  {
   "cell_type": "code",
   "execution_count": null,
   "id": "66216f88-e625-4eaf-9b1c-1c53bb914a33",
   "metadata": {},
   "outputs": [],
   "source": []
  },
  {
   "cell_type": "markdown",
   "id": "e0b829eb-245c-4dc1-bc18-21f8f84eeb68",
   "metadata": {},
   "source": [
    "### index 삭제\n",
    "- `Pinecone.delete_index(\"index 이름\")`"
   ]
  },
  {
   "cell_type": "code",
   "execution_count": null,
   "id": "793d45e3-2836-4fbf-b8d5-5d327713c711",
   "metadata": {},
   "outputs": [],
   "source": []
  },
  {
   "cell_type": "code",
   "execution_count": null,
   "id": "feb3f26d-f9fb-4efb-80a2-452e346d5eb7",
   "metadata": {},
   "outputs": [],
   "source": []
  },
  {
   "cell_type": "code",
   "execution_count": null,
   "id": "28a8e421-7f43-473a-8d30-928a7778fbb2",
   "metadata": {},
   "outputs": [],
   "source": []
  },
  {
   "cell_type": "markdown",
   "id": "d95baa89-a0d6-4ec8-93fb-0fdea6403435",
   "metadata": {},
   "source": [
    "### Index 생성\n",
    "- `Pinecone.create_index()`\n",
    "  - **name**: Index 이름\n",
    "  - **dimension**: Embedding vector 차원 수\n",
    "  - **metric**: 유사도 계산 방법\n",
    "  - **spec**: ServerlessSpec - 추가설정"
   ]
  },
  {
   "cell_type": "code",
   "execution_count": null,
   "id": "8f4bf778-9700-4ce5-9126-c55cd2029565",
   "metadata": {},
   "outputs": [],
   "source": []
  },
  {
   "cell_type": "code",
   "execution_count": null,
   "id": "782ead4a-3fe4-42a9-8a72-8f777a07de6a",
   "metadata": {},
   "outputs": [],
   "source": []
  },
  {
   "cell_type": "code",
   "execution_count": null,
   "id": "fb5948dd-e971-4254-933a-54c78e9f5d97",
   "metadata": {},
   "outputs": [],
   "source": []
  },
  {
   "cell_type": "code",
   "execution_count": null,
   "id": "3cda8f87-3a36-4aa7-b5c6-f6defb1fc5d1",
   "metadata": {},
   "outputs": [],
   "source": [
    "data = [\n",
    "    {\"id\": \"rec01\", \"text\": \"사과는 건강에 좋은 과일로 아침에 먹기 좋아요.\"},\n",
    "    {\"id\": \"rec02\", \"text\": \"애플은 전 세계적으로 인기 있는 기술 회사입니다.\"},\n",
    "    {\"id\": \"rec03\", \"text\": \"가을에 수확한 사과는 달콤하고 영향소가 풍부합니다.\"},\n",
    "    {\"id\": \"rec04\", \"text\": \"애플의 아이폰은 많은 사람들이 선호하는 스마트폰이에요.\"},\n",
    "    {\"id\": \"rec05\", \"text\": \"사과를 갈아 만든 주스는 아침에 마시기 좋습니다.\"},\n",
    "    {\"id\": \"rec06\", \"text\": \"애플은 혁신적인 제품으로 기술 산업을 이끌고 있습니다.\"},\n",
    "    {\"id\": \"rec07\", \"text\": \"빨간 사과와 초록 사과 중 어떤 것을 좋아하세요?\"},\n",
    "    {\"id\": \"rec08\", \"text\": \"애플의 맥북은 디자인과 성능 면에서 뛰어난 평가를 받습니다.\"},\n",
    "    {\"id\": \"rec09\", \"text\": \"사과는 다이어트와 건강 관리에 효과적인 과일이에요.\"},\n",
    "    {\"id\": \"rec10\", \"text\": \"애플은 환경을 고려한 지속 가능한 제품을 생산하려고 합니다.\"},\n",
    "    {\"id\": \"rec11\", \"text\": \"하루에 사과 하나면 의사를 멀리할 수 있다는 속담이 있습니다.\"},\n",
    "    {\"id\": \"rec12\", \"text\": \"애플은 1976년 4월 1일 스티브 잡스, 스티브 워즈니악, 로널드 웨인에 의해 파트너십으로 설립되었습니다.\"}\n",
    "]"
   ]
  },
  {
   "cell_type": "markdown",
   "id": "e1ef57c9-b07b-45a1-8c2f-e3c432578c05",
   "metadata": {},
   "source": [
    "### Embedding Vector로 변환\n",
    "- `Pinecone.inference.embed()`  \n",
    "  - 텍스트 데이터를 임베딩 벡터로 변환\n",
    "  - **`inputs`**:  \n",
    "    - 임베딩할 텍스트 데이터를 지정.  \n",
    "-  **`parameters`**:  \n",
    "   - 추가적인 파라미터를 dictionary에 넣어 설정.\n",
    "   - **`input_type`**:  \n",
    "       - 입력 데이터 유형 지정.  \n",
    "         - `\"passage\"`: 문단 또는 긴 텍스트임을 알려준다..  \n",
    "         - `\"query\"`: 검색 쿼리 임을 알려준다.  \n",
    "       - 모델이 입력 데이터를 어떻게 처리할 지 방식 결정하는데 사용된다.\n",
    "\n",
    "     - **`truncate`**:  \n",
    "       - 입력 데이터가 모델의 최대 길이(embedding 모델이 학습할 때 사용한 문장의 최대길이)를 초과할 경우 처리 방법 지정.\n",
    "       - **옵션**:  \n",
    "         - `\"NONE\"`: 입력 텍스트를 자르지 않음.  \n",
    "         - `\"START\"`: 텍스트 시작 부분 기준으로 잘림. (앞을 자름.) \n",
    "         - `\"END\"`: 텍스트 끝 부분 기준으로 잘림. (뒤를 자름)\n",
    "       - **특징**:  \n",
    "         - 설정된 방향에서 자동으로 자름.\n",
    "\n"
   ]
  },
  {
   "cell_type": "code",
   "execution_count": null,
   "id": "dc3a4b3a-0a65-47d2-93e6-25b0c1a4fb74",
   "metadata": {},
   "outputs": [],
   "source": []
  },
  {
   "cell_type": "code",
   "execution_count": null,
   "id": "9e2ea41d-f541-4276-91aa-724f8b422aa6",
   "metadata": {},
   "outputs": [],
   "source": []
  },
  {
   "cell_type": "code",
   "execution_count": null,
   "id": "1bbece33-9f74-492a-a2c8-c03f5e7a9ed7",
   "metadata": {},
   "outputs": [],
   "source": []
  },
  {
   "cell_type": "markdown",
   "id": "a94c2a5d-dbb3-4adc-8c2e-320f7b55fe85",
   "metadata": {},
   "source": [
    "#### Record Upsert\n",
    "\n",
    "##### Upsert 할 Record set 만들기\n",
    "- 아래 구조로 만든다\n",
    "```\n",
    "{\"id\": id, \n",
    " \"values\": 변환된 embedding vector,\n",
    " \"metadata\": {\"text\": 원문텍스트}}\n",
    "```"
   ]
  },
  {
   "cell_type": "code",
   "execution_count": null,
   "id": "f01c37fc-9ce7-4ca4-a8f1-39353848bb20",
   "metadata": {},
   "outputs": [],
   "source": []
  },
  {
   "cell_type": "code",
   "execution_count": null,
   "id": "dd69aa92-80c9-4255-acae-ac9b18be7ac6",
   "metadata": {},
   "outputs": [],
   "source": []
  },
  {
   "cell_type": "markdown",
   "id": "97531788-17f3-4f1b-b2a8-55ff8092c1e9",
   "metadata": {},
   "source": [
    "### Query\n",
    "\n",
    "#### Query를 Vector로 변환 "
   ]
  },
  {
   "cell_type": "code",
   "execution_count": null,
   "id": "2db4a461-80c2-490f-becf-bbca66d0dc9b",
   "metadata": {},
   "outputs": [],
   "source": []
  },
  {
   "cell_type": "code",
   "execution_count": null,
   "id": "990b68ee-7659-4e70-b8bc-ff4c77b9b40e",
   "metadata": {},
   "outputs": [],
   "source": []
  },
  {
   "cell_type": "code",
   "execution_count": null,
   "id": "50c18f09-528b-424a-8657-b216196f4829",
   "metadata": {},
   "outputs": [],
   "source": []
  },
  {
   "cell_type": "markdown",
   "id": "080a9969-9747-402a-8838-f0d1569e125d",
   "metadata": {},
   "source": [
    "#### Vector DB에서 query와 유사한 Record 조회"
   ]
  },
  {
   "cell_type": "code",
   "execution_count": null,
   "id": "845bbf86-5b3e-4438-911b-56d1da34a6be",
   "metadata": {},
   "outputs": [],
   "source": []
  },
  {
   "cell_type": "code",
   "execution_count": null,
   "id": "2d133526-7789-4763-8e9c-16749eb70e70",
   "metadata": {},
   "outputs": [],
   "source": []
  },
  {
   "cell_type": "code",
   "execution_count": null,
   "id": "afbaf978-37c5-44b3-84e6-9c1006ed9c9b",
   "metadata": {},
   "outputs": [],
   "source": []
  },
  {
   "cell_type": "markdown",
   "id": "62a4021c-6745-4a77-9297-9d058b27cf57",
   "metadata": {},
   "source": [
    "# Langchain 을 이용해 Pinecone 연동"
   ]
  },
  {
   "cell_type": "code",
   "execution_count": null,
   "id": "79ff4650-882b-4ee0-99d5-caa321a3cac8",
   "metadata": {},
   "outputs": [],
   "source": []
  },
  {
   "cell_type": "code",
   "execution_count": null,
   "id": "b0ce36dd-49e8-4f40-b83f-cfb21bfb3503",
   "metadata": {},
   "outputs": [],
   "source": []
  },
  {
   "cell_type": "code",
   "execution_count": null,
   "id": "74dcf55c-3113-4a8a-af71-267212bcf4fd",
   "metadata": {},
   "outputs": [],
   "source": []
  },
  {
   "cell_type": "markdown",
   "id": "adef8684-ec48-40d0-8eae-87f11f42f4b7",
   "metadata": {},
   "source": [
    "## pipnecone 에 Index 만들기\n",
    "- 주의: embedding vector 차원을 사용하는 embedding model의 차원에 맞춰야 한다.\n",
    "- openai embedding 모델 output 차원 확인\n",
    "  - https://platform.openai.com/docs/models#embeddings "
   ]
  },
  {
   "cell_type": "code",
   "execution_count": null,
   "id": "b1c85541-fe01-4af8-a69c-edc85971265b",
   "metadata": {},
   "outputs": [],
   "source": []
  },
  {
   "cell_type": "code",
   "execution_count": null,
   "id": "caab6275-d98d-40ba-83be-193cb63b00b8",
   "metadata": {},
   "outputs": [],
   "source": []
  },
  {
   "cell_type": "code",
   "execution_count": null,
   "id": "2b892971-22d9-4f4f-8c64-d11ec42eeaae",
   "metadata": {},
   "outputs": [],
   "source": []
  },
  {
   "cell_type": "markdown",
   "id": "d0acb6cb-ca42-418b-a6a9-702af0ffb374",
   "metadata": {},
   "source": [
    "## Dataset 만들기"
   ]
  },
  {
   "cell_type": "code",
   "execution_count": null,
   "id": "588d3fe0-d003-4d15-8af9-9386c88d99f9",
   "metadata": {},
   "outputs": [],
   "source": [
    "dataset = [\n",
    "    {\"id\": \"rec01\", \"text\": \"사과는 건강에 좋은 과일로 아침에 먹기 좋아요.\", \"metadata\": {\"category\": \"fruit\"}},\n",
    "    {\"id\": \"rec02\", \"text\": \"애플은 전 세계적으로 인기 있는 기술 회사입니다.\", \"metadata\": {\"category\": \"it\"}},\n",
    "    {\"id\": \"rec03\", \"text\": \"가을에 수확한 사과는 달콤하고 영향소가 풍부합니다.\", \"metadata\": {\"category\": \"fruit\"}},\n",
    "    {\"id\": \"rec04\", \"text\": \"애플의 아이폰은 많은 사람들이 선호하는 스마트폰이에요.\", \"metadata\": {\"category\": \"it\"}},\n",
    "    {\"id\": \"rec05\", \"text\": \"사과를 갈아 만든 주스는 아침에 마시기 좋습니다.\", \"metadata\": {\"category\": \"fruit\"}},\n",
    "    {\"id\": \"rec06\", \"text\": \"애플은 혁신적인 제품으로 기술 산업을 이끌고 있습니다.\", \"metadata\": {\"category\": \"it\"}},\n",
    "    {\"id\": \"rec07\", \"text\": \"빨간 사과와 초록 사과 중 어떤 것을 좋아하세요?\", \"metadata\": {\"category\": \"fruit\"}},\n",
    "    {\"id\": \"rec08\", \"text\": \"애플의 맥북은 디자인과 성능 면에서 뛰어난 평가를 받습니다.\", \"metadata\": {\"category\": \"it\"}},\n",
    "    {\"id\": \"rec09\", \"text\": \"사과는 다이어트와 건강 관리에 효과적인 과일이에요.\", \"metadata\": {\"category\": \"fruit\"}},\n",
    "    {\"id\": \"rec10\", \"text\": \"애플은 환경을 고려한 지속 가능한 제품을 생산하려고 합니다.\", \"metadata\": {\"category\": \"it\"}},\n",
    "    {\"id\": \"rec11\", \"text\": \"하루에 사과 하나면 의사를 멀리할 수 있다는 속담이 있습니다.\", \"metadata\": {\"category\": \"fruit\"}},\n",
    "    {\"id\": \"rec12\", \"text\": \"애플은 1976년 4월 1일 스티브 잡스, 스티브 워즈니악, 로널드 웨인에 의해 파트너십으로 설립되었습니다.\", \"metadata\": {\"category\": \"it\"}}\n",
    "]"
   ]
  },
  {
   "cell_type": "code",
   "execution_count": null,
   "id": "bd42a9c4-4bfc-49b7-ae78-a0a69374cad6",
   "metadata": {},
   "outputs": [],
   "source": []
  },
  {
   "cell_type": "code",
   "execution_count": null,
   "id": "90c5aedc-4963-4a50-8d4b-c58687b1f4e5",
   "metadata": {},
   "outputs": [],
   "source": []
  },
  {
   "cell_type": "markdown",
   "id": "03384a20-7dd2-4f9c-b592-1b469d7c2ab9",
   "metadata": {},
   "source": [
    "## Vector Store 생성 및 초기화\n",
    "\n",
    "- PineconeVectorStore.from_documents()\n",
    "  - VectorStore를 초기화(생성)하고 문서를 추가한다. "
   ]
  },
  {
   "cell_type": "code",
   "execution_count": null,
   "id": "505cf2dc-f6a4-46b9-96cc-9302fa5688ab",
   "metadata": {},
   "outputs": [],
   "source": []
  },
  {
   "cell_type": "code",
   "execution_count": null,
   "id": "e4c0f8bb-762e-462f-bf68-930711b3e6a8",
   "metadata": {},
   "outputs": [],
   "source": []
  },
  {
   "cell_type": "markdown",
   "id": "81327329-b190-49fb-a610-7ed9e1a8af6d",
   "metadata": {},
   "source": [
    "## Vector Store 연결\n",
    "- 문서 추가 없이 연결만 한다.\n",
    "- PineconeVectorStore(index=\"Index이름\", embedding=embedding_model)"
   ]
  },
  {
   "cell_type": "code",
   "execution_count": null,
   "id": "21ea1f3e-4e0e-4a24-ad43-bdf08c5bf9fa",
   "metadata": {},
   "outputs": [],
   "source": []
  },
  {
   "cell_type": "code",
   "execution_count": null,
   "id": "e43eb19e-29b8-433e-9386-342c50fb7120",
   "metadata": {},
   "outputs": [],
   "source": []
  },
  {
   "cell_type": "markdown",
   "id": "db16c9fd-290f-470a-b812-43dfcb5b27b0",
   "metadata": {},
   "source": [
    "## 추가, 수정\n",
    "- `vectorStore.add_documents(documents:list, ids:list)`\n",
    "  - documents: 추가할 문서들\n",
    "  - ids: 추가, 수정할 문서들의 id. 없으면 추가, 있으면 수정한다."
   ]
  },
  {
   "cell_type": "code",
   "execution_count": null,
   "id": "908ac61c-85a4-4cf7-937d-337fd7ddd5cc",
   "metadata": {},
   "outputs": [],
   "source": []
  },
  {
   "cell_type": "code",
   "execution_count": null,
   "id": "8fff6814-9459-42a1-b37f-8388230a993c",
   "metadata": {},
   "outputs": [],
   "source": []
  },
  {
   "cell_type": "markdown",
   "id": "42457af6-7fc4-489e-988c-87f1cf428d71",
   "metadata": {},
   "source": [
    "## 삭제\n",
    "- `vectorStore.delete(ids:str)`\n",
    "  - ids: 삭제할 문서들의 id"
   ]
  },
  {
   "cell_type": "code",
   "execution_count": null,
   "id": "eaa1475a-72b4-422a-8a38-69e21a0e17d8",
   "metadata": {},
   "outputs": [],
   "source": []
  },
  {
   "cell_type": "code",
   "execution_count": null,
   "id": "2747a4cd-30de-40e2-a260-2d05980a3c07",
   "metadata": {},
   "outputs": [],
   "source": []
  },
  {
   "cell_type": "markdown",
   "id": "ee4a21e9-6c6f-48dc-8906-5180f81a4d2b",
   "metadata": {},
   "source": [
    "## Query\n",
    "- 유사도 검색을 통해 유사도가 높은 record를 조회\n",
    "- `vectorStore.similarity_search(query: str, k: int, filter: dict)`\n",
    "  - query: 검색할 문서\n",
    "  - k: 유사도가 높은 record의 개수\n",
    "  - filter: metadata를 이용한 추가 조회 조건 설정\n",
    "  - namespace: index의 namespace\n",
    "- `vectorStore.similarity_search_with_score()`\n",
    "  - similarity_search()와 동일한 기능을 하지만, 유사도 점수를 함께 반환한다."
   ]
  },
  {
   "cell_type": "code",
   "execution_count": null,
   "id": "c256e75d-d172-4c5e-b961-4f4fe9d8f8b0",
   "metadata": {},
   "outputs": [],
   "source": []
  },
  {
   "cell_type": "code",
   "execution_count": null,
   "id": "fd187bde-389f-4df2-a411-1dd327b9b599",
   "metadata": {},
   "outputs": [],
   "source": []
  },
  {
   "cell_type": "code",
   "execution_count": null,
   "id": "2f91a364-154d-4b2f-8390-df9bab0b6c20",
   "metadata": {},
   "outputs": [],
   "source": []
  }
 ],
 "metadata": {
  "kernelspec": {
   "display_name": "langchain",
   "language": "python",
   "name": "python3"
  },
  "language_info": {
   "codemirror_mode": {
    "name": "ipython",
    "version": 3
   },
   "file_extension": ".py",
   "mimetype": "text/x-python",
   "name": "python",
   "nbconvert_exporter": "python",
   "pygments_lexer": "ipython3",
   "version": "3.12.7"
  }
 },
 "nbformat": 4,
 "nbformat_minor": 5
}
