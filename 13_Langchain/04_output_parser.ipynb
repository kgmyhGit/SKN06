{
 "cells": [
  {
   "cell_type": "markdown",
   "id": "b8e37759-3e94-4abc-bac5-334a0c0adc1f",
   "metadata": {},
   "source": [
    "# Output Parser\n",
    "- Output Parser는 LLM의 출력을 처리하여 애플리케이션에서 사용할 수 있는 적절한 형식으로 변환하는 역할을 한다. \n",
    "  - LLM이 생성한 결과(Raw text)를 분석하여 **특정 정보를 추출**하거나, **원하는 형식으로 재구성**하는 데 사용된다.\n",
    "- Output parser를 통해 LLM이 응답하는 **비구조적 데이터를 구조화된 데이터로 변환**하여 후속 작업에 적합하게 만드는 데 사용된다.\n",
    "\n",
    "## 주요 Output Parser\n",
    "1. **CommaSeparatedListOutputParser**\n",
    "    - 쉼표로 구분된 텍스트를 리스트로 변환\n",
    "2. **JsonOutputParser**\n",
    "    - JSON 형태로 받은 결과를 JSON 형식으로 변환\n",
    "3. **PydanticOutputParser**\n",
    "    - JSON 형태로 받은 결과를 Pydantic 모델 객체로 변환\n",
    "4. **YamlOutputParser**\n",
    "    - YAML 형태로 받은 응답을 pydantic 모델객체로 변환.\n",
    "5. **StrOutputParser**\n",
    "    - 모델의 출력결과를 문자열로 변환\n",
    "- PydanticOutputParser, JsonOutputParser, YamlOutputParser는 Pydantic을 이용해 schema를 정의하고 이를 이용해 출력을 변환한다.\n",
    "  \n",
    "## 메소드\n",
    "- parse(text:str)\n",
    "  - LLM이 생성한 응답(text)을 받아 출력 구조에 맞게 변환하여 반환.\n",
    "- get_format_instructions(): str\n",
    "  - output parser가 입력받을 형식으로 LLM이 출력(응답) 하도록 하는 프롬프트를 반환한다.\n",
    "  - LLM에 전송하는 프롬프트에 포함되어 출력 형식을 안내한다.\n",
    "- [**Runnable**](05_chaing_LECL.ipynb#Runnable)을 상속받아 구현되어 invoke()를 이용해서 parsing 할 수있다.\n"
   ]
  },
  {
   "cell_type": "code",
   "execution_count": null,
   "id": "fb27467a-c221-4464-8d63-9cd5c390c7db",
   "metadata": {},
   "outputs": [],
   "source": []
  },
  {
   "cell_type": "markdown",
   "id": "f08d0e64-7c94-45fc-8070-b76965ed0943",
   "metadata": {},
   "source": [
    "## StrOutputParser\n",
    "- 모델(LLM)의 출력 결과를 string으로 변환하여 반환하는 output parser.\n",
    "- Chat Model은  Message 객체에서 content 속성값을 추출하여 문자열로 반환한다."
   ]
  },
  {
   "cell_type": "code",
   "execution_count": null,
   "id": "8a12c88d-3b3c-48e2-8137-8e25a49075db",
   "metadata": {},
   "outputs": [],
   "source": []
  },
  {
   "cell_type": "code",
   "execution_count": null,
   "id": "acc69603-8a16-4980-bd0d-3b8a2e112b1a",
   "metadata": {},
   "outputs": [],
   "source": []
  },
  {
   "cell_type": "code",
   "execution_count": null,
   "id": "a2c3d245-ff2f-4587-bf2c-9815f6878030",
   "metadata": {},
   "outputs": [],
   "source": []
  },
  {
   "cell_type": "markdown",
   "id": "85c38dec-0141-468f-9145-96c7062db100",
   "metadata": {},
   "source": [
    "## CommaSeparatedListOutputParser\n",
    "\n",
    "- `,`를 구분자로 하는 항목들을 받아서 List로 반환한다.\n",
    "  - \"a,b,c\" => ['a','b','c']"
   ]
  },
  {
   "cell_type": "code",
   "execution_count": null,
   "id": "e7676198-380d-44e9-90a5-1e400244add8",
   "metadata": {},
   "outputs": [],
   "source": []
  },
  {
   "cell_type": "code",
   "execution_count": null,
   "id": "4b93df61-56af-450b-9255-d5c5026cd2a2",
   "metadata": {},
   "outputs": [],
   "source": []
  },
  {
   "cell_type": "code",
   "execution_count": null,
   "id": "dfdc3bb2-ff64-4be7-87d0-f0445babad33",
   "metadata": {},
   "outputs": [],
   "source": []
  },
  {
   "cell_type": "markdown",
   "id": "abe378b6-26db-4218-a0b1-64ff93fa044d",
   "metadata": {},
   "source": [
    "## JsonOutputParser\n",
    "\n",
    "- JSON 형태로 받은 응답을 dictionary로 반환\n",
    "- JSON 형식을 정하려는 경우 [Pydantic](Pydantic.ipynb)을 이용해 JSON 스키마를 정의하여 JsonOutputParser 생성시 전달한다.\n",
    "- LLM이 JSON Schema를 따르는 형태로 응답을 하게 하고 그 것을 JsonOutputParser는 Dictionary로 변환한다.\n",
    "\n"
   ]
  },
  {
   "cell_type": "code",
   "execution_count": null,
   "id": "d0274a4d-c883-4473-b0d3-f9ac3f3e13fd",
   "metadata": {},
   "outputs": [],
   "source": []
  },
  {
   "cell_type": "code",
   "execution_count": null,
   "id": "15f82523-783e-41ea-99c1-798157a296a1",
   "metadata": {},
   "outputs": [],
   "source": []
  },
  {
   "cell_type": "code",
   "execution_count": null,
   "id": "74aeb5b0-bc53-4129-a728-0a1d3252cefc",
   "metadata": {},
   "outputs": [],
   "source": []
  },
  {
   "cell_type": "markdown",
   "id": "6c47de9c-f028-45e0-adf7-f31239afaf2f",
   "metadata": {},
   "source": [
    "## PydanticOutputParser\n",
    "\n",
    "- JSON 형태로 받은 응답을 Pydantic 모델로 변환하여 반환한다.\n",
    "- 구현은 JsonOutputParser와 동일한데 parsing 결과를 pydantic 모델로 반환한다."
   ]
  },
  {
   "cell_type": "code",
   "execution_count": null,
   "id": "4474a71b-61aa-4877-b1ae-8d54cfc51bbe",
   "metadata": {},
   "outputs": [],
   "source": []
  },
  {
   "cell_type": "code",
   "execution_count": null,
   "id": "1b95da11-4334-4d01-a33f-b48148659f57",
   "metadata": {},
   "outputs": [],
   "source": []
  },
  {
   "cell_type": "code",
   "execution_count": null,
   "id": "38662eb2-a7c2-473b-bdb0-a5054048458a",
   "metadata": {},
   "outputs": [],
   "source": []
  },
  {
   "cell_type": "markdown",
   "id": "70f0ad0a-83f0-4472-97a1-777197194aac",
   "metadata": {},
   "source": [
    "## YamlOutputParser\n",
    "- YAML 형태로 받은 응답을 pydantic Model 객체로 반환한다."
   ]
  },
  {
   "cell_type": "code",
   "execution_count": null,
   "id": "123e8012-c2df-43ce-b7e1-b341efd353e9",
   "metadata": {},
   "outputs": [],
   "source": []
  },
  {
   "cell_type": "code",
   "execution_count": null,
   "id": "79943cb5-7fac-4306-99e7-522b81915f0c",
   "metadata": {},
   "outputs": [],
   "source": []
  },
  {
   "cell_type": "code",
   "execution_count": null,
   "id": "f2977085-d5bc-438f-91d4-14227e66761b",
   "metadata": {},
   "outputs": [],
   "source": []
  }
 ],
 "metadata": {
  "kernelspec": {
   "display_name": "Python 3 (ipykernel)",
   "language": "python",
   "name": "python3"
  },
  "language_info": {
   "codemirror_mode": {
    "name": "ipython",
    "version": 3
   },
   "file_extension": ".py",
   "mimetype": "text/x-python",
   "name": "python",
   "nbconvert_exporter": "python",
   "pygments_lexer": "ipython3",
   "version": "3.12.7"
  }
 },
 "nbformat": 4,
 "nbformat_minor": 5
}
