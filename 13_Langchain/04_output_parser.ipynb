{
 "cells": [
  {
   "cell_type": "markdown",
   "id": "b8e37759-3e94-4abc-bac5-334a0c0adc1f",
   "metadata": {},
   "source": [
    "# Output Parser\n",
    "- Output Parser는 LLM의 출력을 처리하여 애플리케이션에서 사용할 수 있는 적절한 형식으로 변환하는 역할을 한다. \n",
    "  - LLM이 생성한 결과(Raw text)를 분석하여 **특정 정보를 추출**하거나, **원하는 형식으로 재구성**하는 데 사용된다.\n",
    "- Output parser를 통해 LLM이 응답하는 **비구조적 데이터를 구조화된 데이터로 변환**하여 후속 작업에 적합하게 만드는 데 사용된다.\n",
    "\n",
    "## 주요 Output Parser\n",
    "1. **CommaSeparatedListOutputParser**\n",
    "    - 쉼표로 구분된 텍스트를 리스트로 변환\n",
    "2. **JsonOutputParser**\n",
    "    - JSON 형태로 받은 결과를 JSON 형식으로 변환\n",
    "3. **PydanticOutputParser**\n",
    "    - JSON 형태로 받은 결과를 Pydantic 모델 객체로 변환\n",
    "4. **YamlOutputParser**\n",
    "    - YAML 형태로 받은 응답을 pydantic 모델객체로 변환.\n",
    "5. **StrOutputParser**\n",
    "    - 모델의 출력결과를 문자열로 변환\n",
    "- PydanticOutputParser, JsonOutputParser, YamlOutputParser는 Pydantic을 이용해 schema를 정의하고 이를 이용해 출력을 변환한다.\n",
    "  \n",
    "## 메소드\n",
    "- parse(text:str)\n",
    "  - LLM이 생성한 응답(text)을 받아 출력 구조에 맞게 변환하여 반환.\n",
    "- get_format_instructions(): str\n",
    "  - output parser가 입력받을 형식으로 LLM이 출력(응답) 하도록 하는 프롬프트를 반환한다.\n",
    "  - LLM에 전송하는 프롬프트에 포함되어 출력 형식을 안내한다.\n",
    "- [**Runnable**](05_chaing_LECL.ipynb#Runnable)을 상속받아 구현되어 invoke()를 이용해서 parsing 할 수있다.\n"
   ]
  },
  {
   "cell_type": "code",
   "execution_count": null,
   "id": "fb27467a-c221-4464-8d63-9cd5c390c7db",
   "metadata": {},
   "outputs": [
    {
     "data": {
      "text/plain": [
       "True"
      ]
     },
     "execution_count": 1,
     "metadata": {},
     "output_type": "execute_result"
    }
   ],
   "source": [
    "from dotenv import load_dotenv\n",
    "load_dotenv()"
   ]
  },
  {
   "cell_type": "markdown",
   "id": "f08d0e64-7c94-45fc-8070-b76965ed0943",
   "metadata": {},
   "source": [
    "## StrOutputParser\n",
    "- 모델(LLM)의 출력 결과를 string으로 변환하여 반환하는 output parser.\n",
    "- Chat Model은  Message 객체에서 content 속성값을 추출하여 문자열로 반환한다."
   ]
  },
  {
   "cell_type": "code",
   "execution_count": null,
   "id": "8a12c88d-3b3c-48e2-8137-8e25a49075db",
   "metadata": {},
   "outputs": [],
   "source": [
    "from langchain.prompts import ChatPromptTemplate\n",
    "from langchain_openai import ChatOpenAI\n",
    "# output parser \n",
    "from langchain_core.output_parsers import StrOutputParser\n",
    "\n",
    "prompt_template = ChatPromptTemplate.from_template(\n",
    "    \"한국의 {topic} 관련된 속담을 {count}개 알려줘. 목록형식로 작성해줘.\"\n",
    ")\n",
    "model = ChatOpenAI(model=\"gpt-4o-mini\")\n",
    "# output parser\n",
    "parser = StrOutputParser()"
   ]
  },
  {
   "cell_type": "code",
   "execution_count": 9,
   "id": "acc69603-8a16-4980-bd0d-3b8a2e112b1a",
   "metadata": {},
   "outputs": [
    {
     "name": "stdout",
     "output_type": "stream",
     "text": [
      "content='1. 호랑이 굴에 가야 호랑이 새끼를 잡는다.\\n2. 호랑이 담배 피우던 시절.\\n3. 호랑이도 제 말 하면 온다.\\n4. 호랑이와 양.\\n5. 호랑이의 눈빛.' additional_kwargs={'refusal': None} response_metadata={'token_usage': {'completion_tokens': 61, 'prompt_tokens': 31, 'total_tokens': 92, 'completion_tokens_details': {'accepted_prediction_tokens': 0, 'audio_tokens': 0, 'reasoning_tokens': 0, 'rejected_prediction_tokens': 0}, 'prompt_tokens_details': {'audio_tokens': 0, 'cached_tokens': 0}}, 'model_name': 'gpt-4o-mini-2024-07-18', 'system_fingerprint': 'fp_0705bf87c0', 'finish_reason': 'stop', 'logprobs': None} id='run-9c3ac80a-61a5-431c-869a-504bcb0b0e3f-0' usage_metadata={'input_tokens': 31, 'output_tokens': 61, 'total_tokens': 92, 'input_token_details': {'audio': 0, 'cache_read': 0}, 'output_token_details': {'audio': 0, 'reasoning': 0}}\n",
      "1. 호랑이 굴에 가야 호랑이 새끼를 잡는다.\n",
      "2. 호랑이 담배 피우던 시절.\n",
      "3. 호랑이도 제 말 하면 온다.\n",
      "4. 호랑이와 양.\n",
      "5. 호랑이의 눈빛.\n"
     ]
    }
   ],
   "source": [
    "# 프롬프트 생성\n",
    "prompt = prompt_template.invoke({\"topic\":\"호랑이\", \"count\":5})\n",
    "# print(prompt)\n",
    "# LLM 모델에 요청\n",
    "res = model.invoke(prompt)\n",
    "# 응답결과를 확인\n",
    "print(res)\n",
    "## parser 를 이용해서 content 만 추출\n",
    "result = parser.invoke(res)\n",
    "print(result)"
   ]
  },
  {
   "cell_type": "markdown",
   "id": "85c38dec-0141-468f-9145-96c7062db100",
   "metadata": {},
   "source": [
    "## CommaSeparatedListOutputParser\n",
    "\n",
    "- `,`를 구분자로 하는 항목들을 받아서 List로 반환한다.\n",
    "  - \"a,b,c\" => ['a','b','c']"
   ]
  },
  {
   "cell_type": "code",
   "execution_count": null,
   "id": "e7676198-380d-44e9-90a5-1e400244add8",
   "metadata": {},
   "outputs": [
    {
     "name": "stdout",
     "output_type": "stream",
     "text": [
      "<class 'list'>\n",
      "['이순신', '유관순', '강감찬', '안중근']\n"
     ]
    }
   ],
   "source": [
    "from langchain_core.output_parsers import CommaSeparatedListOutputParser\n",
    "parser = CommaSeparatedListOutputParser()\n",
    "txt = \"이순신, 유관순, 강감찬, 안중근\"\n",
    "res = parser.invoke(txt)\n",
    "print(type(res))\n",
    "print(res)"
   ]
  },
  {
   "cell_type": "code",
   "execution_count": null,
   "id": "4b93df61-56af-450b-9255-d5c5026cd2a2",
   "metadata": {},
   "outputs": [
    {
     "name": "stdout",
     "output_type": "stream",
     "text": [
      "Your response should be a list of comma separated values, eg: `foo, bar, baz` or `foo,bar,baz`\n"
     ]
    }
   ],
   "source": [
    "# 이 output parser가 변환할 수있는 형식의 문자열을 받기 위한 가이드. \n",
    "# 이것을 프롬프트에 추가한다.\n",
    "print(parser.get_format_instructions())"
   ]
  },
  {
   "cell_type": "code",
   "execution_count": 15,
   "id": "0d4a03be",
   "metadata": {},
   "outputs": [],
   "source": [
    "from langchain.prompts import PromptTemplate\n",
    "\n",
    "paser = CommaSeparatedListOutputParser()\n",
    "prompt_template = PromptTemplate(\n",
    "    template=\"{subject}의 이름 다섯개를 나열해 주세요.\\n{format_instruction}\",\n",
    "    partial_variables={\"format_instruction\":parser.get_format_instructions()}\n",
    ")\n",
    "# partial_variables=dict : 템플릿 변수에 값을 prompt template을 만들면서 넣을 때 사용.\n",
    "#                          (invoke() 에서 넣지 않고.)\n",
    "# print(prompt_template.template)\n",
    "model = ChatOpenAI(model=\"gpt-4o-mini\")\n",
    "\n",
    "# prompt 생성 - {format_instruction} 변수에는 partial_variables에 설정한 값을 넣는다.\n",
    "prompt = prompt_template.invoke({\"subject\":\"과일\"}) \n",
    "# print(prompt)\n",
    "# llm 요청\n",
    "res = model.invoke(prompt)"
   ]
  },
  {
   "cell_type": "code",
   "execution_count": 23,
   "id": "b5fe6777",
   "metadata": {},
   "outputs": [
    {
     "name": "stdout",
     "output_type": "stream",
     "text": [
      "사과, 바나나, 오렌지, 포도, 키위\n",
      "['사과', '바나나', '오렌지', '포도', '키위']\n"
     ]
    }
   ],
   "source": [
    "# res.content.split(', ')\n",
    "print(res.content)\n",
    "result = parser.invoke(res)\n",
    "print(result)"
   ]
  },
  {
   "cell_type": "code",
   "execution_count": 24,
   "id": "d487fc7b",
   "metadata": {},
   "outputs": [
    {
     "name": "stdout",
     "output_type": "stream",
     "text": [
      "['현대 아반떼', '기아 K5', '토요타 캠리', 'BMW 3시리즈', '메르세데스-벤츠 C-Class']\n"
     ]
    }
   ],
   "source": [
    "# 입력 -> prompt template -prompt생성-> llm -응답-> parser -> 최종 응답\n",
    "## chain 생성. (pipeline)\n",
    "chain = prompt_template | model | parser\n",
    "\n",
    "result = chain.invoke({\"subject\":\"자동차\"})\n",
    "print(result)"
   ]
  },
  {
   "cell_type": "code",
   "execution_count": null,
   "id": "dfdc3bb2-ff64-4be7-87d0-f0445babad33",
   "metadata": {},
   "outputs": [
    {
     "data": {
      "text/plain": [
       "{'이름': '홍길동'}"
      ]
     },
     "execution_count": 25,
     "metadata": {},
     "output_type": "execute_result"
    }
   ],
   "source": []
  },
  {
   "cell_type": "markdown",
   "id": "abe378b6-26db-4218-a0b1-64ff93fa044d",
   "metadata": {},
   "source": [
    "## JsonOutputParser\n",
    "\n",
    "- JSON 형태로 받은 응답을 dictionary로 반환\n",
    "- JSON 형식을 정하려는 경우 [Pydantic](Pydantic.ipynb)을 이용해 JSON 스키마를 정의하여 JsonOutputParser 생성시 전달한다.\n",
    "- LLM이 JSON Schema를 따르는 형태로 응답을 하게 하고 그 것을 JsonOutputParser는 Dictionary로 변환한다.\n",
    "\n"
   ]
  },
  {
   "cell_type": "code",
   "execution_count": 30,
   "id": "d0274a4d-c883-4473-b0d3-f9ac3f3e13fd",
   "metadata": {},
   "outputs": [
    {
     "name": "stdout",
     "output_type": "stream",
     "text": [
      "<class 'dict'>\n",
      "홍길동 20\n",
      "Return a JSON object.\n"
     ]
    }
   ],
   "source": [
    "from langchain_core.output_parsers import JsonOutputParser\n",
    "\n",
    "parser = JsonOutputParser()\n",
    "txt = '''{\n",
    "    \"이름\":\"홍길동\",\n",
    "    \"나이\":20,\n",
    "    \"취미\":[\"게임\", \"독서\"]\n",
    "}'''\n",
    "res = parser.invoke(txt)\n",
    "print(type(res))\n",
    "print(res['이름'], res['나이'])\n",
    "print(parser.get_format_instructions())"
   ]
  },
  {
   "cell_type": "code",
   "execution_count": 33,
   "id": "15f82523-783e-41ea-99c1-798157a296a1",
   "metadata": {},
   "outputs": [],
   "source": [
    "parser = JsonOutputParser()\n",
    "prompt_template = PromptTemplate(\n",
    "    template=\"{name}에 대해서 설명해줘.\\n{format_instuction}\",\n",
    "    partial_variables={\"format_instuction\":parser.get_format_instructions()}\n",
    ")\n",
    "model = ChatOpenAI(model=\"gpt-4o-mini\")\n",
    "\n",
    "prompt = prompt_template.invoke({\"name\":\"아이폰\"})\n",
    "# print(prompt)\n",
    "res = model.invoke(prompt)"
   ]
  },
  {
   "cell_type": "code",
   "execution_count": null,
   "id": "e443bffc",
   "metadata": {},
   "outputs": [
    {
     "name": "stdout",
     "output_type": "stream",
     "text": [
      "```json\n",
      "{\n",
      "  \"device\": \"iPhone\",\n",
      "  \"manufacturer\": \"Apple Inc.\",\n",
      "  \"introduction\": \"The iPhone is a line of smartphones designed and marketed by Apple Inc. It was first introduced in 2007 and has since become one of the most popular smartphones in the world.\",\n",
      "  \"features\": {\n",
      "    \"operating_system\": \"iOS\",\n",
      "    \"screen_sizes\": [\n",
      "      \"4.7 inches\",\n",
      "      \"5.5 inches\",\n",
      "      \"6.1 inches\",\n",
      "      \"6.7 inches\"\n",
      "    ],\n",
      "    \"camera\": {\n",
      "      \"front_camera\": \"12 MP\",\n",
      "      \"rear_camera\": \"up to 48 MP\",\n",
      "      \"video_recording\": \"up to 4K\"\n",
      "    },\n",
      "    \"storage_options\": [\n",
      "      \"64 GB\",\n",
      "      \"128 GB\",\n",
      "      \"256 GB\",\n",
      "      \"512 GB\",\n",
      "      \"1 TB\"\n",
      "    ],\n",
      "    \"color_options\": [\n",
      "      \"Black\",\n",
      "      \"White\",\n",
      "      \"Red\",\n",
      "      \"Green\",\n",
      "      \"Blue\",\n",
      "      \"Purple\",\n",
      "      \"Gold\",\n",
      "      \"Silver\"\n",
      "    ],\n",
      "    \"connectivity\": [\n",
      "      \"5G\",\n",
      "      \"Wi-Fi\",\n",
      "      \"Bluetooth\",\n",
      "      \"NFC\"\n",
      "    ],\n",
      "    \"special_features\": [\n",
      "      \"Face ID\",\n",
      "      \"Touch ID\",\n",
      "      \"Siri\",\n",
      "      \"Apple Pay\",\n",
      "      \"App Store\"\n",
      "    ]\n",
      "  },\n",
      "  \"models\": [\n",
      "    {\n",
      "      \"name\": \"iPhone 14\",\n",
      "      \"release_year\": 2022\n",
      "    },\n",
      "    {\n",
      "      \"name\": \"iPhone 13\",\n",
      "      \"release_year\": 2021\n",
      "    },\n",
      "    {\n",
      "      \"name\": \"iPhone 12\",\n",
      "      \"release_year\": 2020\n",
      "    },\n",
      "    {\n",
      "      \"name\": \"iPhone SE\",\n",
      "      \"release_year\": 2020\n",
      "    }\n",
      "  ],\n",
      "  \"market_position\": \"The iPhone is considered a premium smartphone, known for its build quality, software ecosystem, and customer support.\"\n",
      "}\n",
      "```\n",
      "====================================================================================================\n",
      "<class 'dict'>\n"
     ]
    },
    {
     "data": {
      "text/plain": [
       "{'device': 'iPhone',\n",
       " 'manufacturer': 'Apple Inc.',\n",
       " 'introduction': 'The iPhone is a line of smartphones designed and marketed by Apple Inc. It was first introduced in 2007 and has since become one of the most popular smartphones in the world.',\n",
       " 'features': {'operating_system': 'iOS',\n",
       "  'screen_sizes': ['4.7 inches', '5.5 inches', '6.1 inches', '6.7 inches'],\n",
       "  'camera': {'front_camera': '12 MP',\n",
       "   'rear_camera': 'up to 48 MP',\n",
       "   'video_recording': 'up to 4K'},\n",
       "  'storage_options': ['64 GB', '128 GB', '256 GB', '512 GB', '1 TB'],\n",
       "  'color_options': ['Black',\n",
       "   'White',\n",
       "   'Red',\n",
       "   'Green',\n",
       "   'Blue',\n",
       "   'Purple',\n",
       "   'Gold',\n",
       "   'Silver'],\n",
       "  'connectivity': ['5G', 'Wi-Fi', 'Bluetooth', 'NFC'],\n",
       "  'special_features': ['Face ID',\n",
       "   'Touch ID',\n",
       "   'Siri',\n",
       "   'Apple Pay',\n",
       "   'App Store']},\n",
       " 'models': [{'name': 'iPhone 14', 'release_year': 2022},\n",
       "  {'name': 'iPhone 13', 'release_year': 2021},\n",
       "  {'name': 'iPhone 12', 'release_year': 2020},\n",
       "  {'name': 'iPhone SE', 'release_year': 2020}],\n",
       " 'market_position': 'The iPhone is considered a premium smartphone, known for its build quality, software ecosystem, and customer support.'}"
      ]
     },
     "execution_count": 37,
     "metadata": {},
     "output_type": "execute_result"
    }
   ],
   "source": [
    "print(res.content)\n",
    "print(\"=\"*100)\n",
    "\n",
    "result = parser.invoke(res)\n",
    "print(type(result))\n",
    "result"
   ]
  },
  {
   "cell_type": "code",
   "execution_count": 38,
   "id": "580df63c",
   "metadata": {},
   "outputs": [
    {
     "data": {
      "text/plain": [
       "'iPhone'"
      ]
     },
     "execution_count": 38,
     "metadata": {},
     "output_type": "execute_result"
    }
   ],
   "source": [
    "result['device']"
   ]
  },
  {
   "cell_type": "code",
   "execution_count": null,
   "id": "9542b52e",
   "metadata": {},
   "outputs": [],
   "source": [
    "# JSON 문자열의 구조(schema-스키마) 를 정의\n",
    "## 알고싶은 정보가 무엇인지(json에 어떤 내용을 넣어야 하는지)를 설정.\n",
    "## pydantic 라이브러리를 이용해서 정의"
   ]
  },
  {
   "cell_type": "code",
   "execution_count": null,
   "id": "74aeb5b0-bc53-4129-a728-0a1d3252cefc",
   "metadata": {},
   "outputs": [],
   "source": [
    "# control + ` : 터미널 실행\n",
    "## pip show pydantic"
   ]
  },
  {
   "cell_type": "code",
   "execution_count": 43,
   "id": "e0fcefc3",
   "metadata": {},
   "outputs": [
    {
     "name": "stdout",
     "output_type": "stream",
     "text": [
      "The output should be formatted as a JSON instance that conforms to the JSON schema below.\n",
      "\n",
      "As an example, for the schema {\"properties\": {\"foo\": {\"title\": \"Foo\", \"description\": \"a list of strings\", \"type\": \"array\", \"items\": {\"type\": \"string\"}}}, \"required\": [\"foo\"]}\n",
      "the object {\"foo\": [\"bar\", \"baz\"]} is a well-formatted instance of the schema. The object {\"properties\": {\"foo\": [\"bar\", \"baz\"]}} is not well-formatted.\n",
      "\n",
      "Here is the output schema:\n",
      "```\n",
      "{\"properties\": {\"name\": {\"description\": \"제품의 이름\", \"title\": \"Name\", \"type\": \"string\"}, \"info\": {\"description\": \"제품에 대한 소개 정보\", \"title\": \"Info\", \"type\": \"string\"}, \"price\": {\"description\": \"제품의 한국에서 가격\", \"title\": \"Price\", \"type\": \"integer\"}}, \"required\": [\"name\", \"info\", \"price\"]}\n",
      "```\n"
     ]
    }
   ],
   "source": [
    "# 스키마 정의\n",
    "from pydantic import BaseModel, Field\n",
    "class Item(BaseModel):\n",
    "    # 스키마를 class 변수로 정의 - \n",
    "    ## 변수명=key. \n",
    "    ## type hint로 dict로 변환될때 value의 타입\n",
    "    name:str = Field(description=\"제품의 이름\")\n",
    "    info:str = Field(description=\"제품에 대한 소개 정보\")\n",
    "    price:int = Field(description=\"제품의 한국에서 가격\")\n",
    "\n",
    "parser = JsonOutputParser(pydantic_object=Item)\n",
    "print(parser.get_format_instructions())\n",
    "\n",
    "\n",
    "prompt_template = PromptTemplate(\n",
    "    template=\"{name}에 대해서 설명해줘.\\n{format_instuction}\",\n",
    "    partial_variables={\"format_instuction\":parser.get_format_instructions()}\n",
    ")\n",
    "model = ChatOpenAI(model=\"gpt-4o-mini\")\n",
    "\n",
    "prompt = prompt_template.invoke({\"name\":\"갤럭시S 24\"})\n",
    "# print(prompt)\n",
    "res = model.invoke(prompt)"
   ]
  },
  {
   "cell_type": "code",
   "execution_count": 44,
   "id": "ac5b8089",
   "metadata": {},
   "outputs": [
    {
     "name": "stdout",
     "output_type": "stream",
     "text": [
      "```json\n",
      "{\n",
      "  \"name\": \"갤럭시 S24\",\n",
      "  \"info\": \"갤럭시 S24는 삼성의 최신 스마트폰으로, 향상된 카메라 성능과 뛰어난 배터리 수명을 제공합니다. 혁신적인 디스플레이와 함께 강력한 성능을 자랑하며, 최신 안드로이드 운영체제를 기반으로 합니다.\",\n",
      "  \"price\": 1200000\n",
      "}\n",
      "```\n",
      "{'name': '갤럭시 S24', 'info': '갤럭시 S24는 삼성의 최신 스마트폰으로, 향상된 카메라 성능과 뛰어난 배터리 수명을 제공합니다. 혁신적인 디스플레이와 함께 강력한 성능을 자랑하며, 최신 안드로이드 운영체제를 기반으로 합니다.', 'price': 1200000}\n"
     ]
    }
   ],
   "source": [
    "print(res.content)\n",
    "result = parser.invoke(res)\n",
    "\n",
    "print(result)"
   ]
  },
  {
   "cell_type": "markdown",
   "id": "6c47de9c-f028-45e0-adf7-f31239afaf2f",
   "metadata": {},
   "source": [
    "## PydanticOutputParser\n",
    "\n",
    "- JSON 형태로 받은 응답을 Pydantic 모델로 변환하여 반환한다.\n",
    "- 구현은 JsonOutputParser와 동일한데 parsing 결과를 pydantic 모델로 반환한다."
   ]
  },
  {
   "cell_type": "code",
   "execution_count": null,
   "id": "4474a71b-61aa-4877-b1ae-8d54cfc51bbe",
   "metadata": {},
   "outputs": [
    {
     "name": "stdout",
     "output_type": "stream",
     "text": [
      "The output should be formatted as a JSON instance that conforms to the JSON schema below.\n",
      "\n",
      "As an example, for the schema {\"properties\": {\"foo\": {\"title\": \"Foo\", \"description\": \"a list of strings\", \"type\": \"array\", \"items\": {\"type\": \"string\"}}}, \"required\": [\"foo\"]}\n",
      "the object {\"foo\": [\"bar\", \"baz\"]} is a well-formatted instance of the schema. The object {\"properties\": {\"foo\": [\"bar\", \"baz\"]}} is not well-formatted.\n",
      "\n",
      "Here is the output schema:\n",
      "```\n",
      "{\"properties\": {\"name\": {\"description\": \"사람의 이름\", \"title\": \"Name\", \"type\": \"string\"}, \"yob\": {\"description\": \"name의 사람이 태어난 년도\", \"title\": \"Yob\", \"type\": \"integer\"}, \"yod\": {\"description\": \"name의 사람이 사망한 년도\", \"title\": \"Yod\", \"type\": \"integer\"}, \"profile\": {\"description\": \"name의 사람에대한 정보(profile)\", \"title\": \"Profile\", \"type\": \"string\"}}, \"required\": [\"name\", \"yob\", \"yod\", \"profile\"]}\n",
      "```\n"
     ]
    }
   ],
   "source": [
    "from langchain_core.output_parsers import PydanticOutputParser\n",
    "class Person(BaseModel):\n",
    "    name: str = Field(description=\"사람의 이름\")\n",
    "    yob: int = Field(description=\"name의 사람이 태어난 년도\")\n",
    "    yod: int = Field(description=\"name의 사람이 사망한 년도\")\n",
    "    profile:str = Field(description=\"name의 사람에대한 정보(profile)\")\n",
    "\n",
    "parser = PydanticOutputParser(pydantic_object=Person)\n",
    "print(parser.get_format_instructions()) \n",
    "# JsonOutputParser와 동일한 guide. JSON 응답 -> Pydantic Model 객체로 변환.\n",
    "\n",
    "prompt_template = PromptTemplate(\n",
    "    template=\"{name}에 대해서 설명해주세요.\\n{format_instruction}\",\n",
    "    partial_variables={\"format_instruction\": parser.get_format_instructions()}\n",
    ")\n",
    "\n",
    "prompt = prompt_template.invoke({\"name\":\"유관순\"})\n",
    "res = model.invoke(prompt)"
   ]
  },
  {
   "cell_type": "code",
   "execution_count": 49,
   "id": "1b95da11-4334-4d01-a33f-b48148659f57",
   "metadata": {},
   "outputs": [
    {
     "name": "stdout",
     "output_type": "stream",
     "text": [
      "```json\n",
      "{\n",
      "  \"name\": \"유관순\",\n",
      "  \"yob\": 1902,\n",
      "  \"yod\": 1943,\n",
      "  \"profile\": \"유관순은 한국의 독립운동가로, 3.1 운동에 참여하여 한국의 독립을 위해 싸운 인물입니다. 그녀는 1919년 3월 1일에 시작된 독립운동에서 중요한 역할을 하였으며, 이후 일본 경찰에 체포되어 투옥되었습니다. 유관순은 감옥에서 고문을 당하면서도 독립에 대한 의지를 굽히지 않았고, 그녀의 용기와 희생은 한국 독립운동의 상징으로 여겨지고 있습니다.\"\n",
      "}\n",
      "```\n"
     ]
    }
   ],
   "source": [
    "print(res.content)"
   ]
  },
  {
   "cell_type": "code",
   "execution_count": 50,
   "id": "38662eb2-a7c2-473b-bdb0-a5054048458a",
   "metadata": {},
   "outputs": [
    {
     "name": "stdout",
     "output_type": "stream",
     "text": [
      "<class '__main__.Person'>\n",
      "name='유관순' yob=1902 yod=1943 profile='유관순은 한국의 독립운동가로, 3.1 운동에 참여하여 한국의 독립을 위해 싸운 인물입니다. 그녀는 1919년 3월 1일에 시작된 독립운동에서 중요한 역할을 하였으며, 이후 일본 경찰에 체포되어 투옥되었습니다. 유관순은 감옥에서 고문을 당하면서도 독립에 대한 의지를 굽히지 않았고, 그녀의 용기와 희생은 한국 독립운동의 상징으로 여겨지고 있습니다.'\n"
     ]
    }
   ],
   "source": [
    "result = parser.invoke(res)\n",
    "print(type(result))\n",
    "print(result)"
   ]
  },
  {
   "cell_type": "code",
   "execution_count": 51,
   "id": "2d28035d",
   "metadata": {},
   "outputs": [
    {
     "data": {
      "text/plain": [
       "('유관순',\n",
       " '유관순은 한국의 독립운동가로, 3.1 운동에 참여하여 한국의 독립을 위해 싸운 인물입니다. 그녀는 1919년 3월 1일에 시작된 독립운동에서 중요한 역할을 하였으며, 이후 일본 경찰에 체포되어 투옥되었습니다. 유관순은 감옥에서 고문을 당하면서도 독립에 대한 의지를 굽히지 않았고, 그녀의 용기와 희생은 한국 독립운동의 상징으로 여겨지고 있습니다.')"
      ]
     },
     "execution_count": 51,
     "metadata": {},
     "output_type": "execute_result"
    }
   ],
   "source": [
    "result.name, result.profile"
   ]
  },
  {
   "cell_type": "markdown",
   "id": "70f0ad0a-83f0-4472-97a1-777197194aac",
   "metadata": {},
   "source": [
    "## YamlOutputParser\n",
    "- YAML 형태로 받은 응답을 pydantic Model 객체로 반환한다."
   ]
  },
  {
   "cell_type": "code",
   "execution_count": null,
   "id": "123e8012-c2df-43ce-b7e1-b341efd353e9",
   "metadata": {},
   "outputs": [],
   "source": [
    "'''\n",
    "<info>\n",
    "  <name>홍길동</name>\n",
    "  <age>30</age>\n",
    "  <address>서울</address>\n",
    "  <hobby>\n",
    "      <item>독서</item>\n",
    "      <item>게임</item>\n",
    "  </hoby>\n",
    "</info>\n",
    "'''"
   ]
  },
  {
   "cell_type": "code",
   "execution_count": null,
   "id": "79943cb5-7fac-4306-99e7-522b81915f0c",
   "metadata": {},
   "outputs": [],
   "source": [
    "'''\n",
    "JavaScript Object Notation\n",
    "{\n",
    "    \"name\":\"홍길동\",\n",
    "    \"age\":20\n",
    "    \"hobby\":[\"독서\", \"게임\"]\n",
    "}\n",
    "'''"
   ]
  },
  {
   "cell_type": "code",
   "execution_count": null,
   "id": "f2977085-d5bc-438f-91d4-14227e66761b",
   "metadata": {},
   "outputs": [],
   "source": [
    "'''\n",
    "- name: 홍길동\n",
    "- age: 20\n",
    "- hobby:\n",
    "   - 독서\n",
    "   - 게임\n",
    "'''"
   ]
  },
  {
   "cell_type": "code",
   "execution_count": null,
   "id": "eaaa306d",
   "metadata": {},
   "outputs": [
    {
     "name": "stdout",
     "output_type": "stream",
     "text": [
      "The output should be formatted as a YAML instance that conforms to the given JSON schema below.\n",
      "\n",
      "# Examples\n",
      "## Schema\n",
      "```\n",
      "{\"title\": \"Players\", \"description\": \"A list of players\", \"type\": \"array\", \"items\": {\"$ref\": \"#/definitions/Player\"}, \"definitions\": {\"Player\": {\"title\": \"Player\", \"type\": \"object\", \"properties\": {\"name\": {\"title\": \"Name\", \"description\": \"Player name\", \"type\": \"string\"}, \"avg\": {\"title\": \"Avg\", \"description\": \"Batting average\", \"type\": \"number\"}}, \"required\": [\"name\", \"avg\"]}}}\n",
      "```\n",
      "## Well formatted instance\n",
      "```\n",
      "- name: John Doe\n",
      "  avg: 0.3\n",
      "- name: Jane Maxfield\n",
      "  avg: 1.4\n",
      "```\n",
      "\n",
      "## Schema\n",
      "```\n",
      "{\"properties\": {\"habit\": { \"description\": \"A common daily habit\", \"type\": \"string\" }, \"sustainable_alternative\": { \"description\": \"An environmentally friendly alternative to the habit\", \"type\": \"string\"}}, \"required\": [\"habit\", \"sustainable_alternative\"]}\n",
      "```\n",
      "## Well formatted instance\n",
      "```\n",
      "habit: Using disposable water bottles for daily hydration.\n",
      "sustainable_alternative: Switch to a reusable water bottle to reduce plastic waste and decrease your environmental footprint.\n",
      "``` \n",
      "\n",
      "Please follow the standard YAML formatting conventions with an indent of 2 spaces and make sure that the data types adhere strictly to the following JSON schema: \n",
      "```\n",
      "{\"properties\": {\"name\": {\"description\": \"\\uc0ac\\ub78c\\uc758 \\uc774\\ub984\", \"title\": \"Name\", \"type\": \"string\"}, \"yob\": {\"description\": \"name\\uc758 \\uc0ac\\ub78c\\uc774 \\ud0dc\\uc5b4\\ub09c \\ub144\\ub3c4\", \"title\": \"Yob\", \"type\": \"integer\"}, \"yod\": {\"description\": \"name\\uc758 \\uc0ac\\ub78c\\uc774 \\uc0ac\\ub9dd\\ud55c \\ub144\\ub3c4\", \"title\": \"Yod\", \"type\": \"integer\"}, \"profile\": {\"description\": \"name\\uc758 \\uc0ac\\ub78c\\uc5d0\\ub300\\ud55c \\uc815\\ubcf4(profile)\", \"title\": \"Profile\", \"type\": \"string\"}}, \"required\": [\"name\", \"yob\", \"yod\", \"profile\"]}\n",
      "```\n",
      "\n",
      "Make sure to always enclose the YAML output in triple backticks (```). Please do not add anything other than valid YAML output!\n"
     ]
    }
   ],
   "source": [
    "from langchain.output_parsers import YamlOutputParser\n",
    "\n",
    "# pydantic으로 JSON schema 를 정의\n",
    "class Person(BaseModel):\n",
    "    name: str = Field(description=\"사람의 이름\")\n",
    "    yob: int = Field(description=\"name의 사람이 태어난 년도\")\n",
    "    yod: int = Field(description=\"name의 사람이 사망한 년도\")\n",
    "    profile:str = Field(description=\"name의 사람에대한 정보(profile)\")\n",
    "\n",
    "parser = YamlOutputParser(pydantic_object=Person)\n",
    "print(parser.get_format_instructions()) \n",
    "# JsonOutputParser와 동일한 guide. JSON 응답 -> Pydantic Model 객체로 변환.\n",
    "\n",
    "prompt_template = PromptTemplate(\n",
    "    template=\"{name}에 대해서 설명해주세요.\\n{format_instruction}\",\n",
    "    partial_variables={\"format_instruction\": parser.get_format_instructions()}\n",
    ")\n",
    "\n",
    "prompt = prompt_template.invoke({\"name\":\"이순신\"})\n",
    "\n",
    "res = model.invoke(prompt)"
   ]
  },
  {
   "cell_type": "code",
   "execution_count": 55,
   "id": "f4ca0202",
   "metadata": {},
   "outputs": [
    {
     "name": "stdout",
     "output_type": "stream",
     "text": [
      "```\n",
      "name: 이순신\n",
      "yob: 1545\n",
      "yod: 1598\n",
      "profile: 조선시대의 유명한 군인으로, 임진왜란 동안 일본군과의 전투에서 여러 차례의 승리를 거두며 국가를 지킨 인물입니다.\n",
      "```\n"
     ]
    }
   ],
   "source": [
    "print(res.content)"
   ]
  },
  {
   "cell_type": "code",
   "execution_count": 56,
   "id": "e72a331d",
   "metadata": {},
   "outputs": [
    {
     "name": "stdout",
     "output_type": "stream",
     "text": [
      "<class '__main__.Person'>\n"
     ]
    },
    {
     "data": {
      "text/plain": [
       "Person(name='이순신', yob=1545, yod=1598, profile='조선시대의 유명한 군인으로, 임진왜란 동안 일본군과의 전투에서 여러 차례의 승리를 거두며 국가를 지킨 인물입니다.')"
      ]
     },
     "execution_count": 56,
     "metadata": {},
     "output_type": "execute_result"
    }
   ],
   "source": [
    "result = parser.invoke(res)\n",
    "print(type(result))\n",
    "result"
   ]
  },
  {
   "cell_type": "code",
   "execution_count": 57,
   "id": "355b0fa8",
   "metadata": {},
   "outputs": [
    {
     "data": {
      "text/plain": [
       "('이순신', 1598)"
      ]
     },
     "execution_count": 57,
     "metadata": {},
     "output_type": "execute_result"
    }
   ],
   "source": [
    "result.name, result.yod"
   ]
  }
 ],
 "metadata": {
  "kernelspec": {
   "display_name": "langchain",
   "language": "python",
   "name": "python3"
  },
  "language_info": {
   "codemirror_mode": {
    "name": "ipython",
    "version": 3
   },
   "file_extension": ".py",
   "mimetype": "text/x-python",
   "name": "python",
   "nbconvert_exporter": "python",
   "pygments_lexer": "ipython3",
   "version": "3.12.7"
  }
 },
 "nbformat": 4,
 "nbformat_minor": 5
}
