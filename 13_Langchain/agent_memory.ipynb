{
 "cells": [
  {
   "cell_type": "code",
   "execution_count": 1,
   "id": "5a63b3a4-ee96-41eb-9994-bf623f80d397",
   "metadata": {
    "execution": {
     "iopub.execute_input": "2024-12-17T14:07:23.311688Z",
     "iopub.status.busy": "2024-12-17T14:07:23.311688Z",
     "iopub.status.idle": "2024-12-17T14:07:23.323424Z",
     "shell.execute_reply": "2024-12-17T14:07:23.323424Z",
     "shell.execute_reply.started": "2024-12-17T14:07:23.311688Z"
    }
   },
   "outputs": [
    {
     "data": {
      "text/plain": [
       "True"
      ]
     },
     "execution_count": 1,
     "metadata": {},
     "output_type": "execute_result"
    }
   ],
   "source": [
    "from langchain_core.tools import tool\n",
    "from langchain.agents import create_tool_calling_agent, AgentExecutor\n",
    "from langchain.prompts import ChatPromptTemplate, MessagesPlaceholder\n",
    "from langchain_openai import ChatOpenAI\n",
    "from langchain_core.chat_history import InMemoryChatMessageHistory\n",
    "from langchain_core.runnables.history import RunnableWithMessageHistory\n",
    "\n",
    "from textwrap import dedent\n",
    "from dotenv import load_dotenv\n",
    "\n",
    "load_dotenv()"
   ]
  },
  {
   "cell_type": "code",
   "execution_count": 2,
   "id": "5eed09c8-0039-4772-8bb7-14036fdbbe03",
   "metadata": {
    "execution": {
     "iopub.execute_input": "2024-12-17T14:02:02.243886Z",
     "iopub.status.busy": "2024-12-17T14:02:02.242762Z",
     "iopub.status.idle": "2024-12-17T14:02:02.265465Z",
     "shell.execute_reply": "2024-12-17T14:02:02.265465Z",
     "shell.execute_reply.started": "2024-12-17T14:02:02.243886Z"
    }
   },
   "outputs": [],
   "source": [
    "# 도구 정의\n",
    "@tool\n",
    "def multiply(num1: int|float, num2: int|float) -> int|float:\n",
    "    \"\"\"입력받은 두 수를 곱한 결과를 반환한다. \"\"\"\n",
    "    return num1 * num2\n",
    "\n",
    "@tool\n",
    "def plus(num1: int|float, num2: int|float) -> int|float:\n",
    "    \"\"\"입력 받은 두 수를 더한 결과를 반환한다. \"\"\"\n",
    "    return num1 + num2\n",
    "\n",
    "@tool\n",
    "def minus(num1: int|float, num2: int|float) -> int|float:\n",
    "    \"\"\"입력 받은 두 수를 뺀 결과를 반환한다. \"\"\"\n",
    "    return num1 - num2\n",
    "\n",
    "@tool\n",
    "def divide(num1: int|float, num2: int|float) -> int|float:\n",
    "    \"\"\"입력 받은 두 수를 나눈 결과를 반환한다. \"\"\"\n",
    "    return num1 / num2\n"
   ]
  },
  {
   "cell_type": "code",
   "execution_count": 4,
   "id": "54fab021-13c3-44bd-a590-89d6f6c55677",
   "metadata": {
    "execution": {
     "iopub.execute_input": "2024-12-17T14:17:06.906368Z",
     "iopub.status.busy": "2024-12-17T14:17:06.905364Z",
     "iopub.status.idle": "2024-12-17T14:17:07.280172Z",
     "shell.execute_reply": "2024-12-17T14:17:07.280172Z",
     "shell.execute_reply.started": "2024-12-17T14:17:06.906368Z"
    }
   },
   "outputs": [],
   "source": [
    "agent_prompt = ChatPromptTemplate(\n",
    "    [\n",
    "        (\"system\", dedent(\"\"\"\n",
    "            당신은 계산기 agent입니다. 사칙연산을 할 수있는 toolkit 을 가지고 있습니다. \n",
    "            두개의 숫자를 사칙연산하는 작업은 toolkit의 plus, minus, multiply, divide 툴들을 이용합니다.\n",
    "            연산이 복잡할 경우 단계적으로 나눠서 계산하도록 합니다.\n",
    "            \"\"\")\n",
    "        ),\n",
    "        MessagesPlaceholder(variable_name=\"chat_history\"),\n",
    "        (\"human\", \"{input}\"),\n",
    "        MessagesPlaceholder(variable_name=\"agent_scratchpad\")\n",
    "    ]\n",
    ")\n",
    "\n",
    "\n",
    "toolkit = [multiply, plus, minus, divide]\n",
    "model = ChatOpenAI(model=\"gpt-4o\")\n",
    "agent = create_tool_calling_agent(model, toolkit, agent_prompt)\n",
    "agent_executor = AgentExecutor(agent=agent, tools=toolkit)"
   ]
  },
  {
   "cell_type": "code",
   "execution_count": 5,
   "id": "c27d51de-7527-4e97-ad72-8176905fd553",
   "metadata": {
    "execution": {
     "iopub.execute_input": "2024-12-17T14:17:07.310112Z",
     "iopub.status.busy": "2024-12-17T14:17:07.310112Z",
     "iopub.status.idle": "2024-12-17T14:17:07.315195Z",
     "shell.execute_reply": "2024-12-17T14:17:07.315195Z",
     "shell.execute_reply.started": "2024-12-17T14:17:07.310112Z"
    }
   },
   "outputs": [],
   "source": [
    "store = {}\n",
    "def get_session_history(session_id: str) -> InMemoryChatMessageHistory:\n",
    "    \"\"\"\n",
    "    store(dict) 에서 session_id의 InMemoryChatMessageHistory를 찾아서 반환.\n",
    "    store에 session_id의 InMemoryChatMessageHistory가 없다면 생성하여 반환한다.\n",
    "    invoke() 시 전달한 config의 session_id를 파라미터로 받는다.\n",
    "\n",
    "    Parameter\n",
    "        session_id: 반환할 Memory 객체의 id\n",
    "    return\n",
    "        (InMemoryChatMessageHistory: BaseChatMessageHistory 타입 객체.)\n",
    "    \"\"\"\n",
    "    # 위 dictionary에서 찾아서 InMemoryChatMessageHistory 반환.\n",
    "    if session_id not in store:\n",
    "        store[session_id] = InMemoryChatMessageHistory()\n",
    "    return store[session_id]\n",
    "\n",
    "agent_with_chat_history = RunnableWithMessageHistory(\n",
    "    runnable=agent_executor,                     # agent를 runnable로 등록\n",
    "    get_session_history=get_session_history,  # 메모리 저장 객체를 반환하는 함수. \n",
    "    input_messages_key=\"input\",\n",
    "    history_messages_key=\"chat_history\",\n",
    ")"
   ]
  },
  {
   "cell_type": "code",
   "execution_count": 6,
   "id": "734ff059-fab1-4a03-b6c4-c15184de60fb",
   "metadata": {
    "execution": {
     "iopub.execute_input": "2024-12-17T14:54:42.384032Z",
     "iopub.status.busy": "2024-12-17T14:54:42.384032Z",
     "iopub.status.idle": "2024-12-17T14:55:19.763306Z",
     "shell.execute_reply": "2024-12-17T14:55:19.763306Z",
     "shell.execute_reply.started": "2024-12-17T14:54:42.384032Z"
    }
   },
   "outputs": [
    {
     "name": "stdout",
     "output_type": "stream",
     "text": [
      "1 + 1 = 2\n",
      "2에 2를 더하면 4입니다.\n",
      "1에 무엇을 더하거나 빼거나 곱하거나 나누고 싶으신가요? 추가적인 계산이 필요하다면 말씀해 주세요!\n",
      "안내가 필요하시면 언제든 말씀해 주세요! 도움이 필요하신가요?\n"
     ]
    }
   ],
   "source": [
    "input_message = input(\"Question:\")\n",
    "while True:\n",
    "    if input_message == \"!q\":\n",
    "        break\n",
    "    res =  agent_with_chat_history.invoke({\"input\":input_message}, config={\"configurable\":{\"session_id\": \"test-id\"}})\n",
    "    print(res['output'])\n",
    "    input_message = input(\"Question:\")"
   ]
  },
  {
   "cell_type": "code",
   "execution_count": 6,
   "id": "3e8c8e4e-cc95-43de-bd5f-42aa975d45c2",
   "metadata": {
    "execution": {
     "iopub.execute_input": "2024-12-17T15:00:04.849933Z",
     "iopub.status.busy": "2024-12-17T15:00:04.848837Z",
     "iopub.status.idle": "2024-12-17T15:00:50.145353Z",
     "shell.execute_reply": "2024-12-17T15:00:50.144634Z",
     "shell.execute_reply.started": "2024-12-17T15:00:04.849933Z"
    }
   },
   "outputs": [
    {
     "name": "stdout",
     "output_type": "stream",
     "text": [
      "1 + 1 = 2입니다.1 + 1 = 2입니다.\n",
      "1 + 1의 결과인 2에서 5를 빼면 -3입니다.1 + 1의 결과인 2에서 5를 빼면 -3입니다.\n"
     ]
    }
   ],
   "source": [
    "# Stream 처리\n",
    "# callback 정의\n",
    "from langchain.callbacks.base import BaseCallbackHandler\n",
    "class StreamHandler(BaseCallbackHandler):\n",
    "    def __init__(self, initial_text=\"\"):\n",
    "        self.full_text = [initial_text]\n",
    "\n",
    "    def on_llm_new_token(self, token: str, **kwargs) -> None:\n",
    "        \"\"\"token을 받을 때 마다 호출됨\"\"\"\n",
    "        self.full_text.append(token)\n",
    "        print(token, end=\"\")\n",
    "\n",
    "\n",
    "input_message = input(\"Question:\")\n",
    "callback = StreamHandler()\n",
    "while True:\n",
    "    if input_message == \"!q\":\n",
    "        break\n",
    "    res =  agent_with_chat_history.invoke({\"input\":input_message}, config={\"configurable\":{\"session_id\": \"test-id\"}, \"callbacks\":[callback]})\n",
    "    print(res['output'])\n",
    "    input_message = input(\"Question:\")"
   ]
  },
  {
   "cell_type": "code",
   "execution_count": null,
   "id": "c93757e0-606c-47c1-b150-c8bcf3a861b4",
   "metadata": {},
   "outputs": [],
   "source": []
  }
 ],
 "metadata": {
  "kernelspec": {
   "display_name": "langchain",
   "language": "python",
   "name": "python3"
  },
  "language_info": {
   "codemirror_mode": {
    "name": "ipython",
    "version": 3
   },
   "file_extension": ".py",
   "mimetype": "text/x-python",
   "name": "python",
   "nbconvert_exporter": "python",
   "pygments_lexer": "ipython3",
   "version": "3.12.7"
  }
 },
 "nbformat": 4,
 "nbformat_minor": 5
}
