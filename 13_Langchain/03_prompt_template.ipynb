{
 "cells": [
  {
   "cell_type": "markdown",
   "id": "16b0fba8-3087-41f0-a3eb-afe810a16464",
   "metadata": {},
   "source": [
    "# Model IO\n",
    "- 모델에 prompt를 만들어 입력하고 모델이 처리한 결과(output)을 받아서 처리하는 과정과 그 구성 요소들을 Model IO 라고 한다.     \n",
    "- Model IO는 **프롬프트 템플릿**, **언어 모델**, **출력 파서**로 구성된다\n",
    "\n",
    "\n",
    "![model id](figures/model_io.jpg)\n",
    "\n",
    "## 프롬프트(Prompt)\n",
    "- 생성형 AI 모델에게 작업을 요청하기 위해 전달하는 입력값을 말한다.\n",
    "- 일반적으로 사람이 사용하는 자연어를 사용한다.\n",
    "\n",
    "### 프롬프트 엔지니어링(Prompt Engineering)\n",
    "- 생성형 AI 모델로 부터 **원하는 결과물을 얻기 위해 프롬프트를 설계하고 최적화하는 기법** 을 말한다.\n",
    "    - 더 낳은 품질의 답변을 얻기 위해 prompt를 설계하고 최적화 하는 작업을 하는 것을 말한다.\n",
    "- 생성형 AI 모델들의 능력과 성격을 잘 이해하여 항상 일관되고 정확한 답을 하도록 작성하는 것에 중점을 둔다.\n",
    "    - 생성형 AI 모델들은 각기 다른 성능과 특성을 지닌다. 그래서 목적에 맞는 모델을 선택하고 또 모델에 맞는 프롬프트를 작성하는 것이 중요하다.\n",
    "    - 중요한 것은 **사용자 의도에 맞는 답이 일관되게 나오는 것이다.**\n",
    "        - 생성형 AI이 같은 질문에 다른 결과가 나올 수있다. 그래서 그 답변이 부분적으로 다를 수는 있지만 의미 자체가 바뀌면안된다. 이런 **일관성을 유지하도록 작성하는 것**이 중요하다.\n",
    "- 프롬프트 엔지니어링은 언어모델 구축에 소요되는 기간과 비용을 획기적으로 줄여준다.\n",
    "    - 생성형 AI 모델을 추가적으로 학습하지(fine tuning) 않고도 우리가 원하는 결과를 얻을 수있다.\n",
    "    - 프롬프트는 자연어로 작성되기 때문에 딥러닝이나 모델 구조에 대한 전문 지식 없이도 성능을 향상시킬 수 있다.\n"
   ]
  },
  {
   "cell_type": "markdown",
   "id": "ef4c15a5-2ecb-465d-b9fe-3e0e6741db99",
   "metadata": {},
   "source": [
    "### 프롬프트 구성 요소\n",
    "\n",
    "프롬프트는 다음 네가지로 구성될 수있다. 물론 모든 프롬프트가 네가지 구성요소를 다 필요한 것은 아니다.\n",
    "\n",
    "- **지시(Instruction)**: 생성형 AI 모델이 수행할 작업에 대한 지시사항.\n",
    "- **문맥(Context)**: 더 나은 응답을 위해 모델에 제공하는 외부 정보나 추가 문맥.\n",
    "- **입력 데이터(Input Data)**: 생성형 AI 모델이 처리해야하거나 응답 해야 하는 결과에 대한 질문(query)\n",
    "- **출력 지시자(Ouptput Indicator)**: 생성형 AI 모델의 응답 출력결과의 유형이나 형식\n"
   ]
  },
  {
   "cell_type": "markdown",
   "id": "84895274-7d51-417f-9284-86b2433f7f9a",
   "metadata": {},
   "source": [
    "###  프롬프트 작성 기법\n",
    "1. 간단한 프롬프트로 시작해서 답변을 확인하며 다양한 요소와 context(맥락정보)들을 추가해 가면서 개선해 나간다.\n",
    "    - 한번에 좋은 프롬프트를 작성하는 것이 아니라 반복적으로 결과를 보면서 개선해 나간다.\n",
    "1. **구체적으로 작성한다.**\n",
    "    - 모델이 처리하기를 원하는 지시사항과 작업에 대해 아주 구체적으로 작성한다. 더 기술적으고 자세할 수록 결과도 더 좋다.\n",
    "    - \"인공지능에 대해 알려줘. \" -> \"인공지능이 의료분야에 어떻게 사용되고 있는지 500자 이내로 알려줘.\"\n",
    "1. 불필요한 내용은 빼고 **꼭 필요한 내용만 작성**한다.\n",
    "   - 구체적으로 작성하 되 불필요한 내용이 들어가지 않도록 한다.\n",
    "1. **명확한 작업 지시(Instruction)** 를 한다.\n",
    "    - 사용자가 얻고자 하는 정보나 수행하고자 하는 작업 즉 목적을 명확하게 기술한다. \n",
    "    - \"다음 사항을 충족하는 프로그램을 파이썬으로 작성하라\", \"다음 내용을 번역하라\", \"다음 기사를 요약하라\", \"다음 내용을 긍정,부정으로 분류하라\"와 같은 명확한 지시 명령어를 사용한다.\n",
    "1. **열린 질문 사용**\n",
    "    - 구체적인 지시 대신 AI에게 필요한 정보를 묻는 열린 질문을 통해 **우리가 생각지 못했던 다양한 관점에서 문제를 해결**할 수 있다.\n",
    "    - \"이 문제를 해결하기 위해 어떤 정보가 필요할까?\", \"인공지능에 대한 최신 연구 동향은 어떻게 되나?\"\n",
    "1. **원하는 출력 형식이 있을 경우 예시를 작성한다.**\n",
    "    ```\n",
    "     인공지능이 어떤 분야에서 사용되고 있는지 다음 형식으로 알려줘.\n",
    "     분야1, 분야2, 분야3\n",
    "    ```\n",
    "1. **출력 토큰 수 제한**\n",
    "    - 출력 토큰이 너무 길면 LLM 모델은 답변에 부연설명과 같은 꼭 필요하지 않은 내용까지 넣는 경우가 있다.     \n",
    "1. **맥락(context) 제공**\n",
    "    -  요청하는 작업의 배경을 설명한다. 이를 통해 모델이 맥락을 이해하고, 주어진 맥락 내에서 정확한 답변을 제공하는데 도움이 된다. \n",
    "1. **페르소나(역할) 지정**\n",
    "   - 질문을 하기 전에 AI에게 역할을 지정한다. \n",
    "   - ex) `너는 딥러닝 전문가야`, `너는 인사관리 분야의 전문가야`\n",
    "1. **제약 조건을 명시한다.**\n",
    "    - 글자수나 꼭 들어가야 할 것, 들어가면 안되는 것이 있을 경우 그  조건을 명시한다.     \n",
    "1. **예시를 제시한다.**\n",
    "   - **Zero-Shot Prompt**: 어떠한 예시없이 질문하는 방식\n",
    "     - ex) `1 + 1 은 얼마인가?`\n",
    "   - **One-Shot Prompt**: 어떻게 답할 지 한개의 예시를 제시한다.\n",
    "     - ex) \n",
    "     ```\n",
    "     1 + 1 = 2\n",
    "     2 + 3 는 얼마인가\n",
    "     ```\n",
    "   - **Few-Shot Prompt**: 적은 양의 예시를 제시한다.\n",
    "     - ex)\n",
    "     ```\n",
    "        1 + 1 = 2\n",
    "        2 + 2 = 4\n",
    "        3 + 3 = 6\n",
    "        4 + 4 는 얼마인가?\n",
    "     ```\n",
    "1.  **Chain of Thought(생각의 사슬-CoT)**\n",
    "  - 인간처럼 단계적 사고 과정을 통해 문제를 해결하도록 설계된 AI 모델의 사고 방식을 말한다. \n",
    "  - 복잡한 질문에 대한 답변을 생성할 때 모델이 논리적 단계들을 따라가며 점진적으로 결론에 도달하도록 하는 기법\n",
    "  - LLM에게 인과관계를 추론하는 문제의 해결을 요청할 때 전체 내용을 프롬프트로 작성해서 전달 하지 않고 **문답 형식(질문-답-연결된 질문-답-연결된 질문-답-...)으로 풀어서 요청**했을 때 더 좋은 추론능력을 보여준다.\n",
    "      - **Zero-shot Chain of Thought**\n",
    "          - 프롬프트에 \"단계적으로 풀어보자\", \"차근 차근 생각해보자\", \"Think step by step\" 같은 말을 입력해 모델이 스스로 단계를 밟아가며 추론하도록 한다.\n",
    "      -  **Few-shot Chain of Thought**\n",
    "          -  직접 문답 형식의 예를 작성해서 프롬프트에 넣는다.\n",
    "          ```\n",
    "          질문: 가게에서 사과를 4개 샀고, 한 개에 3달러입니다. 총 비용은 얼마인가요?\n",
    "          CoT:  1. 사과 1개의 가격은 3달러이다.\n",
    "                2. 사과는 총 4개를 샀다.\n",
    "                3. 4개의 사과 가격은 4 × 3 = 12달러이다.\n",
    "          답: 총 비용은 12달러입니다.\n",
    "\n",
    "          질문: 하나에 32000원인 음식을 3명이 먹었다면 총비용은 얼마인가요?\n",
    "          ```\n"
   ]
  },
  {
   "cell_type": "code",
   "execution_count": null,
   "id": "ae3eaa39-aac1-4547-97c1-2e8c895bf34f",
   "metadata": {},
   "outputs": [],
   "source": []
  },
  {
   "cell_type": "code",
   "execution_count": null,
   "id": "4a144cc4-f26e-4ff9-ad34-682d1c75c121",
   "metadata": {},
   "outputs": [],
   "source": []
  },
  {
   "cell_type": "code",
   "execution_count": null,
   "id": "85fb37ff-f870-473c-beac-5ade979cfa2d",
   "metadata": {},
   "outputs": [],
   "source": []
  },
  {
   "cell_type": "markdown",
   "id": "e98c7628-fabc-4a35-abf7-f958b19e9dab",
   "metadata": {},
   "source": [
    "## 프롬프트 공유 사이트\n",
    "- [Langchain Hub](https://smith.langchain.com/hub)\n",
    "- [Promry](https://www.promry.com/ko)\n",
    "- [오픈프롬프트](https://www.prpt.ai)\n",
    "- [GPT테이블](https://gptable.net)\n",
    "- [Prompt Hero](https://prompthero.com/)"
   ]
  },
  {
   "cell_type": "markdown",
   "id": "f9b6d5bb-d6b7-410d-bbd0-2658cac36a5b",
   "metadata": {},
   "source": [
    "## Prompt Template\n",
    "- 프롬프트 템플릿은 언어 모델에 입력할 프롬프트를 생성하는 재사용 가능한 방식이다.\n",
    "- 변수를 사용한 템플릿을 만들고 동적으로 입력이 가능하게 프롬프트의 재사용성을 높인다.\n",
    "\n",
    "### 종류\n",
    "- PromptTemplate\n",
    "    - 지시형 프롬프트 생성시 사용하는 가장 기본적인 텍스트 기반 템플릿\n",
    "    - 단순 텍스트 포맷팅에 사용\n",
    "    - 변수를 중괄호 {}로 표시\n",
    "- ChatPromptTemplate\n",
    "    - 대화형(chat) 형식의 프롬프트 생성시 사용되는 템플릿\n",
    "    - 시스템, 사용자, AI 메시지 등 다양한 역할 지정 가능\n",
    "    - 대화 맥락 유지에 효과적\n",
    "- FewShotPromptTemplate\n",
    "    - 예제를 포함한 프롬프트 생성시 사용되는 템플릿"
   ]
  },
  {
   "cell_type": "markdown",
   "id": "effe4364-c31d-44ab-a910-b62c22b8fc68",
   "metadata": {},
   "source": [
    "### 사용법\n",
    "- template은 **문자열로 정의**하고 변수는 `{변수명}` 형식으로 지정한다. (변수는 차후 입력할 값으로 대체된다)\n",
    "    - 예) \"{country}의 수도는 어디인가요?\"\n",
    "- 생성한 template 문자열을 이용해 Prompt Template 객체를 생성한다.\n",
    "- **공통 method**\n",
    "    - template 생성 메소드\n",
    "        - `from_template()`\n",
    "            - 지시형 template 정의.\n",
    "            - string 타입 prompt를 생성한다.\n",
    "            - PromptTemplate, ChatPromptTemplate의 메소드.\n",
    "        - `from_messages()`\n",
    "            - 대화형 template 정의.\n",
    "            - Message 타입 객체로 prompt를 생성한다.\n",
    "            - ChatPromptTemplate의 메소드.\n",
    "    - 템플릿 완성해서 **prompt 생성하는 메소드**\n",
    "        - `format(변수=넣을값, 변수=넣을값, ..)`\n",
    "            - template 변수에 넣을 값들을 keyword arguments로 전달.\n",
    "            - Prompt template을 string으로 반환\n",
    "        - `format_messages(변수=넣을값, 변수=넣을값, ...)`\n",
    "            - ChatMessageTemplate에서 사용\n",
    "            - template 변수에 넣을 값들을 keyword arguments로 전달.\n",
    "            - Prompt를 list로 반환. List[Message] \n",
    "        - `invoke(dict)`\n",
    "            - template 변수에 넣을 값들을 dictionary로 모아서 전달. `key: 변수이름, value: 넣을값\n",
    "         \n",
    "> ### invoke() 메소드\n",
    "> - **[Runnable](05_chaing_LECL.ipynb#Runnable)** 타입의 공통 메소드\n",
    ">     - Model IO 를 구성하는 클래스들은 모두 Runnable를 구현한 하위클래스다. \n",
    "> - Runnable은 LECL 을 이용한 chain(연속된 작업들을 순서대로 연결한 것)을 만들 때 **Chain을 구성하는 작업단위 클래스**들의 최상의 클래스다.\n",
    "> - **invoke() 메소드는 입력 데이터를 처리하여 그 결과를 반환하는 Runnable 객체의 공통 메소드다.**\n",
    ">     - invoke() 의 반환 값은 다음 작업단위의 invoke() 메소드로 전달된다.\n",
    "    "
   ]
  },
  {
   "cell_type": "code",
   "execution_count": null,
   "id": "cadbc96d-35aa-4930-b5c9-323dc308be3e",
   "metadata": {},
   "outputs": [],
   "source": []
  },
  {
   "cell_type": "code",
   "execution_count": null,
   "id": "dc1f0a56-f618-4ef1-ab89-58c405852448",
   "metadata": {},
   "outputs": [],
   "source": []
  },
  {
   "cell_type": "code",
   "execution_count": null,
   "id": "eab32372-69f7-471e-a500-f5d7004a2251",
   "metadata": {},
   "outputs": [],
   "source": []
  },
  {
   "cell_type": "code",
   "execution_count": null,
   "id": "f1c002e0-c9f2-4a34-8373-5f07322d42b4",
   "metadata": {},
   "outputs": [],
   "source": []
  },
  {
   "cell_type": "markdown",
   "id": "9ec74eb1-3092-4dd3-bedf-48502392ed71",
   "metadata": {},
   "source": [
    "### MessagePlaceHolder\n",
    "- 메시지 리스트를 전달하기 위한 특별한 프롬프트 템플릿으로, 채팅 히스토리나 예제 메시지를 포함할 때 사용된다.\n",
    "  - 변수가 프롬프트 문장안에 일부내용을 입력받을 때 사용된다면 **MessagePlaceHolder** 는 여러개의 메세지 문장들을 입력받는 데 사용된다.\n",
    "- 보통 Chat Template의 채팅 히스토리나 예제 메시지를 포함할 때 사용된다.\n",
    "- 객체 생성시 파라미터\n",
    "  - variable_name: str: 변수명 지정\n",
    "  - optional: bool = False\n",
    "    - True일 경우 생략 할 수있다. \n",
    "  - n_messages: int \n",
    "    - 최근 N개의 메세지만 포함시킨다."
   ]
  },
  {
   "cell_type": "code",
   "execution_count": null,
   "id": "236db4d2-0f05-463a-b943-7bd88872a7ee",
   "metadata": {},
   "outputs": [],
   "source": []
  },
  {
   "cell_type": "code",
   "execution_count": null,
   "id": "3c287d61-efb9-4fd1-afc5-a37c4f02ee34",
   "metadata": {},
   "outputs": [],
   "source": []
  },
  {
   "cell_type": "code",
   "execution_count": null,
   "id": "37692348-c1d5-4716-b2d5-f45ab4e27574",
   "metadata": {},
   "outputs": [],
   "source": []
  },
  {
   "cell_type": "markdown",
   "id": "43f48bb9-3f2c-4646-b4b6-eb3ea3fa704a",
   "metadata": {},
   "source": [
    "### FewShotTemplate \n",
    "Few-Shot Prompt를 작성하기 위한 Prompt Template\n",
    "- **FewShotPromptTemplate**: 예시를 넣은 지시형 template을 정의한다.\n",
    "- **FewShotChatMessagePromptTemplate**: 예시를 넣은 대화형(chat) prompt template을 정의한다.\n",
    "\n",
    "#### FewShotPromptTemplate\n",
    "- 지시형 template message 정의"
   ]
  },
  {
   "cell_type": "code",
   "execution_count": null,
   "id": "fe895755-4583-47ed-988b-7a9c7899cc0c",
   "metadata": {},
   "outputs": [],
   "source": []
  },
  {
   "cell_type": "code",
   "execution_count": null,
   "id": "ac4ae5c1-943f-481d-955a-f215802bb342",
   "metadata": {},
   "outputs": [],
   "source": []
  },
  {
   "cell_type": "code",
   "execution_count": null,
   "id": "56391c75-9bc0-4b3f-957e-ab9aa74c9fec",
   "metadata": {},
   "outputs": [],
   "source": []
  },
  {
   "cell_type": "markdown",
   "id": "d559409d-6955-44bc-9532-7ef313a933c3",
   "metadata": {},
   "source": [
    "#### FewShotChatMessagePromptTemplate\n",
    "대화형 template message 정의"
   ]
  },
  {
   "cell_type": "code",
   "execution_count": null,
   "id": "d359ad01-4768-4e6b-a387-7e5da8c20087",
   "metadata": {},
   "outputs": [],
   "source": []
  },
  {
   "cell_type": "code",
   "execution_count": null,
   "id": "41e27012-e8fe-41f6-9f0c-4c2d1b2d5f24",
   "metadata": {},
   "outputs": [],
   "source": []
  },
  {
   "cell_type": "code",
   "execution_count": null,
   "id": "95fa469a-7c7e-4146-bd89-297f255f30e6",
   "metadata": {},
   "outputs": [],
   "source": []
  },
  {
   "cell_type": "markdown",
   "id": "ea0f0798-fcd2-43d4-85aa-f66f102a3403",
   "metadata": {},
   "source": [
    "### Prompt 조합(Prompt Composition)\n",
    "- 여러개의 프롬프트를 합치거나 프롬프트 내에 다른 프롬프트를 포함시켜 새로운 프롬프트를 만들 수 있다.\n",
    "\n",
    "#### 프롬프트 합치기\n",
    "- `+` 연산자로 프롬프트를 합친다.\n",
    "    - `PromptTemplate + PromptTemplate`"
   ]
  },
  {
   "cell_type": "code",
   "execution_count": null,
   "id": "f84dce65-fca8-427c-a205-a39c369fbd12",
   "metadata": {},
   "outputs": [],
   "source": []
  },
  {
   "cell_type": "code",
   "execution_count": null,
   "id": "6742fb07-bda3-4240-8d23-7e1b38328052",
   "metadata": {},
   "outputs": [],
   "source": []
  },
  {
   "cell_type": "code",
   "execution_count": null,
   "id": "bec51449-4522-482e-adea-c59709331ba6",
   "metadata": {},
   "outputs": [],
   "source": []
  },
  {
   "cell_type": "markdown",
   "id": "386e161c-72c1-4105-9ea3-4c63e707132b",
   "metadata": {},
   "source": [
    "#### PipelinePromptTemplate\n",
    "- 프롬프트 안에 다른 프롬프트를 넣어서 만든다.\n",
    "- `+` 와는 달리 단순히 합치는 것이 아니라 프롬프트 안에 다른 프롬프트들을 추가하는 개념.\n",
    "- 프롬프르트를 재사용해서 새로운 프롬프트를 만들때 유용하다."
   ]
  },
  {
   "cell_type": "code",
   "execution_count": null,
   "id": "eea149ea-b7df-4d31-9fb4-a9f1a791698c",
   "metadata": {},
   "outputs": [],
   "source": []
  },
  {
   "cell_type": "code",
   "execution_count": null,
   "id": "250d9567-f5fd-490a-ac79-4d5b536ca193",
   "metadata": {},
   "outputs": [],
   "source": []
  },
  {
   "cell_type": "code",
   "execution_count": null,
   "id": "3299c5ec-fd6b-465e-9738-0b674db916c1",
   "metadata": {},
   "outputs": [],
   "source": []
  }
 ],
 "metadata": {
  "kernelspec": {
   "display_name": "Python 3 (ipykernel)",
   "language": "python",
   "name": "python3"
  },
  "language_info": {
   "codemirror_mode": {
    "name": "ipython",
    "version": 3
   },
   "file_extension": ".py",
   "mimetype": "text/x-python",
   "name": "python",
   "nbconvert_exporter": "python",
   "pygments_lexer": "ipython3",
   "version": "3.12.7"
  }
 },
 "nbformat": 4,
 "nbformat_minor": 5
}
