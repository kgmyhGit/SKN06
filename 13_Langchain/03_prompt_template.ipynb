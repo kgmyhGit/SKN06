{
 "cells": [
  {
   "cell_type": "markdown",
   "id": "16b0fba8-3087-41f0-a3eb-afe810a16464",
   "metadata": {},
   "source": [
    "# Model IO\n",
    "- 모델에 prompt를 만들어 입력하고 모델이 처리한 결과(output)을 받아서 처리하는 과정과 그 구성 요소들을 Model IO 라고 한다.     \n",
    "- Model IO는 **프롬프트 템플릿**, **언어 모델**, **출력 파서**로 구성된다\n",
    "\n",
    "\n",
    "![model id](figures/model_io.jpg)\n",
    "\n",
    "## 프롬프트(Prompt)\n",
    "- 생성형 AI 모델에게 작업을 요청하기 위해 전달하는 입력값을 말한다.\n",
    "- 일반적으로 사람이 사용하는 자연어를 사용한다.\n",
    "\n",
    "### 프롬프트 엔지니어링(Prompt Engineering)\n",
    "- 생성형 AI 모델로 부터 **원하는 결과물을 얻기 위해 프롬프트를 설계하고 최적화하는 기법** 을 말한다.\n",
    "    - 더 낳은 품질의 답변을 얻기 위해 prompt를 설계하고 최적화 하는 작업을 하는 것을 말한다.\n",
    "- 생성형 AI 모델들의 능력과 성격을 잘 이해하여 항상 일관되고 정확한 답을 하도록 작성하는 것에 중점을 둔다.\n",
    "    - 생성형 AI 모델들은 각기 다른 성능과 특성을 지닌다. 그래서 목적에 맞는 모델을 선택하고 또 모델에 맞는 프롬프트를 작성하는 것이 중요하다.\n",
    "    - 중요한 것은 **사용자 의도에 맞는 답이 일관되게 나오는 것이다.**\n",
    "        - 생성형 AI이 같은 질문에 다른 결과가 나올 수있다. 그래서 그 답변이 부분적으로 다를 수는 있지만 의미 자체가 바뀌면안된다. 이런 **일관성을 유지하도록 작성하는 것**이 중요하다.\n",
    "- 프롬프트 엔지니어링은 언어모델 구축에 소요되는 기간과 비용을 획기적으로 줄여준다.\n",
    "    - 생성형 AI 모델을 추가적으로 학습하지(fine tuning) 않고도 우리가 원하는 결과를 얻을 수있다.\n",
    "    - 프롬프트는 자연어로 작성되기 때문에 딥러닝이나 모델 구조에 대한 전문 지식 없이도 성능을 향상시킬 수 있다.\n"
   ]
  },
  {
   "cell_type": "markdown",
   "id": "ef4c15a5-2ecb-465d-b9fe-3e0e6741db99",
   "metadata": {},
   "source": [
    "### 프롬프트 구성 요소\n",
    "\n",
    "프롬프트는 다음 네가지로 구성될 수있다. 물론 모든 프롬프트가 네가지 구성요소를 다 필요한 것은 아니다.\n",
    "\n",
    "- **지시(Instruction)**: 생성형 AI 모델이 수행할 작업에 대한 지시사항.\n",
    "- **문맥(Context)**: 더 나은 응답을 위해 모델에 제공하는 외부 정보나 추가 문맥.\n",
    "- **입력 데이터(Input Data)**: 생성형 AI 모델이 처리해야하거나 응답 해야 하는 결과에 대한 질문(query)\n",
    "- **출력 지시자(Ouptput Indicator)**: 생성형 AI 모델의 응답 출력결과의 유형이나 형식\n"
   ]
  },
  {
   "cell_type": "markdown",
   "id": "84895274-7d51-417f-9284-86b2433f7f9a",
   "metadata": {},
   "source": [
    "###  프롬프트 작성 기법\n",
    "1. 간단한 프롬프트로 시작해서 답변을 확인하며 다양한 요소와 context(맥락정보)들을 추가해 가면서 개선해 나간다.\n",
    "    - 한번에 좋은 프롬프트를 작성하는 것이 아니라 반복적으로 결과를 보면서 개선해 나간다.\n",
    "1. **구체적으로 작성한다.**\n",
    "    - 모델이 처리하기를 원하는 지시사항과 작업에 대해 아주 구체적으로 작성한다. 더 기술적으고 자세할 수록 결과도 더 좋다.\n",
    "    - \"인공지능에 대해 알려줘. \" -> \"인공지능이 의료분야에 어떻게 사용되고 있는지 500자 이내로 알려줘.\"\n",
    "1. 불필요한 내용은 빼고 **꼭 필요한 내용만 작성**한다.\n",
    "   - 구체적으로 작성하 되 불필요한 내용이 들어가지 않도록 한다.\n",
    "1. **명확한 작업 지시(Instruction)** 를 한다.\n",
    "    - 사용자가 얻고자 하는 정보나 수행하고자 하는 작업 즉 목적을 명확하게 기술한다. \n",
    "    - \"다음 사항을 충족하는 프로그램을 파이썬으로 작성하라\", \"다음 내용을 번역하라\", \"다음 기사를 요약하라\", \"다음 내용을 긍정,부정으로 분류하라\"와 같은 명확한 지시 명령어를 사용한다.\n",
    "1. **열린 질문 사용**\n",
    "    - 구체적인 지시 대신 AI에게 필요한 정보를 묻는 열린 질문을 통해 **우리가 생각지 못했던 다양한 관점에서 문제를 해결**할 수 있다.\n",
    "    - \"이 문제를 해결하기 위해 어떤 정보가 필요할까?\", \"인공지능에 대한 최신 연구 동향은 어떻게 되나?\"\n",
    "1. **원하는 출력 형식이 있을 경우 예시를 작성한다.**\n",
    "    ```\n",
    "     인공지능이 어떤 분야에서 사용되고 있는지 다음 형식으로 알려줘.\n",
    "     분야1, 분야2, 분야3\n",
    "    ```\n",
    "1. **출력 토큰 수 제한**\n",
    "    - 출력 토큰이 너무 길면 LLM 모델은 답변에 부연설명과 같은 꼭 필요하지 않은 내용까지 넣는 경우가 있다.     \n",
    "1. **맥락(context) 제공**\n",
    "    -  요청하는 작업의 배경을 설명한다. 이를 통해 모델이 맥락을 이해하고, 주어진 맥락 내에서 정확한 답변을 제공하는데 도움이 된다. \n",
    "1. **페르소나(역할) 지정**\n",
    "   - 질문을 하기 전에 AI에게 역할을 지정한다. \n",
    "   - ex) `너는 딥러닝 전문가야`, `너는 인사관리 분야의 전문가야`\n",
    "1. **제약 조건을 명시한다.**\n",
    "    - 글자수나 꼭 들어가야 할 것, 들어가면 안되는 것이 있을 경우 그  조건을 명시한다.     \n",
    "1. **예시를 제시한다.**\n",
    "   - **Zero-Shot Prompt**: 어떠한 예시없이 질문하는 방식\n",
    "     - ex) `1 + 1 은 얼마인가?`\n",
    "   - **One-Shot Prompt**: 어떻게 답할 지 한개의 예시를 제시한다.\n",
    "     - ex) \n",
    "     ```\n",
    "     1 + 1 = 2\n",
    "     2 + 3 는 얼마인가\n",
    "     ```\n",
    "   - **Few-Shot Prompt**: 적은 양의 예시를 제시한다.\n",
    "     - ex)\n",
    "     ```\n",
    "        1 + 1 = 2\n",
    "        2 + 2 = 4\n",
    "        3 + 3 = 6\n",
    "        4 + 4 는 얼마인가?\n",
    "     ```\n",
    "1.  **Chain of Thought(생각의 사슬-CoT)**\n",
    "  - 인간처럼 단계적 사고 과정을 통해 문제를 해결하도록 설계된 AI 모델의 사고 방식을 말한다. \n",
    "  - 복잡한 질문에 대한 답변을 생성할 때 모델이 논리적 단계들을 따라가며 점진적으로 결론에 도달하도록 하는 기법\n",
    "  - LLM에게 인과관계를 추론하는 문제의 해결을 요청할 때 전체 내용을 프롬프트로 작성해서 전달 하지 않고 **문답 형식(질문-답-연결된 질문-답-연결된 질문-답-...)으로 풀어서 요청**했을 때 더 좋은 추론능력을 보여준다.\n",
    "      - **Zero-shot Chain of Thought**\n",
    "          - 프롬프트에 \"단계적으로 풀어보자\", \"차근 차근 생각해보자\", \"Think step by step\" 같은 말을 입력해 모델이 스스로 단계를 밟아가며 추론하도록 한다.\n",
    "      -  **Few-shot Chain of Thought**\n",
    "          -  직접 문답 형식의 예를 작성해서 프롬프트에 넣는다.\n",
    "          ```\n",
    "          질문: 가게에서 사과를 4개 샀고, 한 개에 3달러입니다. 총 비용은 얼마인가요?\n",
    "          CoT:  1. 사과 1개의 가격은 3달러이다.\n",
    "                2. 사과는 총 4개를 샀다.\n",
    "                3. 4개의 사과 가격은 4 × 3 = 12달러이다.\n",
    "          답: 총 비용은 12달러입니다.\n",
    "\n",
    "          질문: 하나에 32000원인 음식을 3명이 먹었다면 총비용은 얼마인가요?\n",
    "          ```\n"
   ]
  },
  {
   "cell_type": "code",
   "execution_count": null,
   "id": "85fb37ff-f870-473c-beac-5ade979cfa2d",
   "metadata": {},
   "outputs": [],
   "source": []
  },
  {
   "cell_type": "markdown",
   "id": "e98c7628-fabc-4a35-abf7-f958b19e9dab",
   "metadata": {},
   "source": [
    "## 프롬프트 공유 사이트\n",
    "- [Langchain Hub](https://smith.langchain.com/hub)\n",
    "- [Promry](https://www.promry.com/ko)\n",
    "- [오픈프롬프트](https://www.prpt.ai)\n",
    "- [GPT테이블](https://gptable.net)\n",
    "- [Prompt Hero](https://prompthero.com/)"
   ]
  },
  {
   "cell_type": "markdown",
   "id": "f9b6d5bb-d6b7-410d-bbd0-2658cac36a5b",
   "metadata": {},
   "source": [
    "## Prompt Template\n",
    "- 프롬프트 템플릿은 언어 모델에 입력할 프롬프트를 생성하는 재사용 가능한 방식이다.\n",
    "- 변수를 사용한 템플릿을 만들고 동적으로 입력이 가능하게 프롬프트의 재사용성을 높인다.\n",
    "\n",
    "### 종류\n",
    "- PromptTemplate\n",
    "    - 지시형 프롬프트 생성시 사용하는 가장 기본적인 텍스트 기반 템플릿\n",
    "    - 단순 텍스트 포맷팅에 사용\n",
    "    - 변수를 중괄호 {}로 표시\n",
    "- ChatPromptTemplate\n",
    "    - 대화형(chat) 형식의 프롬프트 생성시 사용되는 템플릿\n",
    "    - 시스템, 사용자, AI 메시지 등 다양한 역할 지정 가능\n",
    "    - 대화 맥락 유지에 효과적\n",
    "- FewShotPromptTemplate\n",
    "    - 예제를 포함한 프롬프트 생성시 사용되는 템플릿"
   ]
  },
  {
   "cell_type": "code",
   "execution_count": 2,
   "id": "ad690caa",
   "metadata": {},
   "outputs": [
    {
     "data": {
      "text/plain": [
       "True"
      ]
     },
     "execution_count": 2,
     "metadata": {},
     "output_type": "execute_result"
    }
   ],
   "source": [
    "from dotenv import load_dotenv\n",
    "load_dotenv()"
   ]
  },
  {
   "cell_type": "code",
   "execution_count": 3,
   "id": "cadbc96d-35aa-4930-b5c9-323dc308be3e",
   "metadata": {},
   "outputs": [],
   "source": [
    "from langchain.prompts import PromptTemplate\n",
    "\n",
    "message = \"{country}의 수도는 어디입니까?\"  # {변수명}: 값으로 바뀔 위치. ==> 변수.\n",
    "# PromptTemplate 생성 \n",
    "# initializer를 이용해 생성.\n",
    "# PromptTemplate.from_template()\n",
    "# prompt_template = PromptTemplate(\n",
    "prompt_template = PromptTemplate.from_template(\n",
    "    template=message,\n",
    "    # input_variables=[\"country\"]  # 변수를 등록 -> v0.3에서는 생략가능.\n",
    ")"
   ]
  },
  {
   "cell_type": "code",
   "execution_count": 4,
   "id": "dc1f0a56-f618-4ef1-ab89-58c405852448",
   "metadata": {},
   "outputs": [
    {
     "name": "stdout",
     "output_type": "stream",
     "text": [
      "변수들: ['country']\n",
      "template: {country}의 수도는 어디입니까?\n"
     ]
    }
   ],
   "source": [
    "print(\"변수들:\", prompt_template.input_variables)\n",
    "print(\"template:\", prompt_template.template)"
   ]
  },
  {
   "cell_type": "code",
   "execution_count": 5,
   "id": "7d1a594f-5e7b-43e6-a9dd-ec486a29118d",
   "metadata": {},
   "outputs": [
    {
     "name": "stdout",
     "output_type": "stream",
     "text": [
      "한국의 수도는 어디입니까?\n"
     ]
    }
   ],
   "source": [
    "prompt = prompt_template.format(country=\"한국\") # 변수명=넣을값 -> kwargs\n",
    "print(prompt)"
   ]
  },
  {
   "cell_type": "code",
   "execution_count": 6,
   "id": "47912048-8e2f-4fac-8e84-653ed555a932",
   "metadata": {},
   "outputs": [
    {
     "data": {
      "text/plain": [
       "'영국의 수도는 어디입니까?'"
      ]
     },
     "execution_count": 6,
     "metadata": {},
     "output_type": "execute_result"
    }
   ],
   "source": [
    "prompt2 = prompt_template.format(country=\"영국\")\n",
    "prompt2"
   ]
  },
  {
   "cell_type": "code",
   "execution_count": 7,
   "id": "f8289ed8-4018-4f45-a444-8853e6dc940b",
   "metadata": {},
   "outputs": [
    {
     "data": {
      "text/plain": [
       "StringPromptValue(text='미국의 수도는 어디입니까?')"
      ]
     },
     "execution_count": 7,
     "metadata": {},
     "output_type": "execute_result"
    }
   ],
   "source": [
    "prompt3 = prompt_template.invoke({\"country\":\"미국\"}) \n",
    "# invoke(dictionary 로 변수:넣을값 들을 묶어서 전달.)\n",
    "prompt3"
   ]
  },
  {
   "cell_type": "code",
   "execution_count": 8,
   "id": "eab32372-69f7-471e-a500-f5d7004a2251",
   "metadata": {},
   "outputs": [],
   "source": [
    "from langchain_openai import ChatOpenAI\n",
    "from dotenv import load_dotenv\n",
    "load_dotenv()\n",
    "\n",
    "model = ChatOpenAI(model=\"gpt-4o-mini\")\n",
    "res = model.invoke(prompt3)"
   ]
  },
  {
   "cell_type": "code",
   "execution_count": 9,
   "id": "f1c002e0-c9f2-4a34-8373-5f07322d42b4",
   "metadata": {},
   "outputs": [
    {
     "data": {
      "text/plain": [
       "'미국의 수도는 워싱턴 D.C.입니다.'"
      ]
     },
     "execution_count": 9,
     "metadata": {},
     "output_type": "execute_result"
    }
   ],
   "source": [
    "res.content"
   ]
  },
  {
   "cell_type": "code",
   "execution_count": null,
   "id": "6130b2e1-ae8c-4f30-bf3d-89125aa8d3cf",
   "metadata": {},
   "outputs": [
    {
     "name": "stdout",
     "output_type": "stream",
     "text": [
      "질문: 서울과 부산 간의 거리는 얼마인가요?\n",
      "답변: 서울과 부산 간의 거리는 약 325킬로미터(약 202마일)입니다. 이 거리는 교통 수단에 따라 다소 차이가 있을 수 있으며, 자동차나 기차로 이동할 경우 소요 시간도 달라질 수 있습니다.\n"
     ]
    }
   ],
   "source": [
    "# 변수는 여러개 올 수있다.\n",
    "template = \"{place1}과 {place2} 간의 거리는 얼마인가요?\"\n",
    "prompt_template = PromptTemplate(template=template)\n",
    "\n",
    "prompt1 = prompt_template.format(place1=\"서울\", place2=\"부산\")\n",
    "print(\"질문:\", prompt1)\n",
    "print(\"답변:\", model.invoke(prompt1).content)"
   ]
  },
  {
   "cell_type": "code",
   "execution_count": 21,
   "id": "036612ff-c42b-492a-822d-3b6ef05c6a98",
   "metadata": {},
   "outputs": [
    {
     "name": "stdout",
     "output_type": "stream",
     "text": [
      "질문: text='서울과 런던 간의 거리는 얼마인가요?'\n",
      "답변: 서울과 런던 간의 직선 거리(항공 거리)는 약 8,800킬로미터(약 5,500마일) 정도입니다. 하지만 실제 비행 경로에 따라 거리는 다소 차이가 있을 수 있습니다.\n"
     ]
    }
   ],
   "source": [
    "prompt2 = prompt_template.invoke({\"place1\":\"서울\", \"place2\":\"런던\"})\n",
    "print(\"질문:\", prompt2)\n",
    "print(\"답변:\", model.invoke(prompt2).content)"
   ]
  },
  {
   "cell_type": "code",
   "execution_count": null,
   "id": "44e7db86-3319-47bd-b4d3-b87f30ce73de",
   "metadata": {},
   "outputs": [],
   "source": [
    "########################################################################\n",
    "# ChatPromptTemplate 생성\n",
    "#\n",
    "# Chatting 용 -> 한개 메세지가 \"role\"과 \"content\" 로 구성됨.\n",
    "# role: \"ai\", \"assistant\" -> 인공지능 모델,  \"user\", \"human\": 사용자, \n",
    "#       \"system\": AI에게 보내는 지시어로 대화 전반에 영향을 주는 메세지\n",
    "# 한개 메세지: tuple(str, str) => (\"role\", \"content\")\n",
    "# 한번에 여러개의 메세지를 전달할 수있다. 메세지들을 리스트로 묶어서 생성."
   ]
  },
  {
   "cell_type": "code",
   "execution_count": 11,
   "id": "dc8d5622-ac73-4e66-ba91-539ee05e133a",
   "metadata": {},
   "outputs": [],
   "source": [
    "from langchain.prompts import ChatPromptTemplate\n",
    "\n",
    "template = [\n",
    "    (\"system\", \"당신은 {domain} 전문가 입니다. 답변은 {char_length} 글자 이하로 해주세요.\"), # 페르소나(역할) 부여.\n",
    "    (\"human\", \"{question}\")\n",
    "]\n",
    "# 생성 - 생성자이용, from_messages() 메소드 이용.\n",
    "# prompt_template = ChatPromptTemplate(\n",
    "prompt_template = ChatPromptTemplate.from_messages(\n",
    "    messages=template,\n",
    ")"
   ]
  },
  {
   "cell_type": "code",
   "execution_count": 30,
   "id": "32351fb8-3d2a-42c8-9e55-c51b91106fee",
   "metadata": {
    "collapsed": true,
    "jupyter": {
     "outputs_hidden": true
    }
   },
   "outputs": [
    {
     "name": "stdout",
     "output_type": "stream",
     "text": [
      "변수들: ['char_length', 'domain', 'question']\n",
      "messages: [SystemMessagePromptTemplate(prompt=PromptTemplate(input_variables=['char_length', 'domain'], input_types={}, partial_variables={}, template='당신은 {domain} 전문가 입니다. 답변은 {char_length} 글자 이하로 해주세요.'), additional_kwargs={}), HumanMessagePromptTemplate(prompt=PromptTemplate(input_variables=['question'], input_types={}, partial_variables={}, template='{question}'), additional_kwargs={})]\n"
     ]
    }
   ],
   "source": [
    "print(\"변수들:\", prompt_template.input_variables)\n",
    "print(\"messages:\", prompt_template.messages)"
   ]
  },
  {
   "cell_type": "code",
   "execution_count": 12,
   "id": "60027e3d-096f-40cb-96d1-5722904f9ba7",
   "metadata": {},
   "outputs": [
    {
     "name": "stdout",
     "output_type": "stream",
     "text": [
      "System: 당신은 와인 전문가 입니다. 답변은 200 글자 이하로 해주세요.\n",
      "Human: 해산물 요리에 어울리는 와인을 추천해주세요.\n",
      "<class 'str'>\n"
     ]
    }
   ],
   "source": [
    "# ChatPromptTemplate - format() : string을 반환\n",
    "#                     **format_messages(): 메세지 별로 Message객체 넣어서 반환.\n",
    "#                      invoke()\n",
    "prompt1= prompt_template.format(domain=\"와인\", \n",
    "                                char_length=\"200\", \n",
    "                                question=\"해산물 요리에 어울리는 와인을 추천해주세요.\")\n",
    "print(prompt1) # \"role: 메세지\\nrole: 메세지\"\n",
    "print(type(prompt1))"
   ]
  },
  {
   "cell_type": "code",
   "execution_count": 13,
   "id": "22be2c9b-6dfd-4979-a316-ffe6e81e47df",
   "metadata": {},
   "outputs": [
    {
     "name": "stdout",
     "output_type": "stream",
     "text": [
      "[SystemMessage(content='당신은 와인 전문가 입니다. 답변은 100 글자 이하로 해주세요.', additional_kwargs={}, response_metadata={}), HumanMessage(content='고기 요리에 어울리는 와인은?', additional_kwargs={}, response_metadata={})]\n",
      "<class 'list'>\n"
     ]
    }
   ],
   "source": [
    "prompt2 = prompt_template.format_messages(domain=\"와인\",\n",
    "                                          char_length=\"100\", \n",
    "                                          question=\"고기 요리에 어울리는 와인은?\")\n",
    "print(prompt2)\n",
    "print(type(prompt2))"
   ]
  },
  {
   "cell_type": "code",
   "execution_count": 14,
   "id": "86c4a671-385b-4f9e-96e4-9947004e3494",
   "metadata": {},
   "outputs": [
    {
     "name": "stdout",
     "output_type": "stream",
     "text": [
      "<class 'langchain_core.prompt_values.ChatPromptValue'>\n",
      "messages=[SystemMessage(content='당신은 와인 전문가 입니다. 답변은 50 글자 이하로 해주세요.', additional_kwargs={}, response_metadata={}), HumanMessage(content='가장 맛있는 와인 이름을 알려주세요.', additional_kwargs={}, response_metadata={})]\n"
     ]
    }
   ],
   "source": [
    "prompt3 = prompt_template.invoke({\n",
    "    \"domain\":\"와인\", \"char_length\":\"50\", \"question\":\"가장 맛있는 와인 이름을 알려주세요.\"\n",
    "})\n",
    "print(type(prompt3))\n",
    "print(prompt3)"
   ]
  },
  {
   "cell_type": "code",
   "execution_count": 15,
   "id": "72e47130-47db-4be1-ab10-f6e8a641e1cb",
   "metadata": {},
   "outputs": [],
   "source": [
    "res = model.invoke(prompt3)"
   ]
  },
  {
   "cell_type": "code",
   "execution_count": 16,
   "id": "03246491",
   "metadata": {},
   "outputs": [
    {
     "data": {
      "text/plain": [
       "AIMessage(content='맛은 개인 차이가 있지만, 샤토 마고(Château Margaux)를 추천합니다.', additional_kwargs={'refusal': None}, response_metadata={'token_usage': {'completion_tokens': 21, 'prompt_tokens': 42, 'total_tokens': 63, 'completion_tokens_details': {'accepted_prediction_tokens': 0, 'audio_tokens': 0, 'reasoning_tokens': 0, 'rejected_prediction_tokens': 0}, 'prompt_tokens_details': {'audio_tokens': 0, 'cached_tokens': 0}}, 'model_name': 'gpt-4o-mini-2024-07-18', 'system_fingerprint': 'fp_0705bf87c0', 'finish_reason': 'stop', 'logprobs': None}, id='run-fff7a9ae-ad91-4f69-8a8f-4d6aacd6262e-0', usage_metadata={'input_tokens': 42, 'output_tokens': 21, 'total_tokens': 63, 'input_token_details': {'audio': 0, 'cache_read': 0}, 'output_token_details': {'audio': 0, 'reasoning': 0}})"
      ]
     },
     "execution_count": 16,
     "metadata": {},
     "output_type": "execute_result"
    }
   ],
   "source": [
    "res"
   ]
  },
  {
   "cell_type": "code",
   "execution_count": 17,
   "id": "49d97265-a1d4-459c-92b7-d426de83f71a",
   "metadata": {},
   "outputs": [
    {
     "name": "stdout",
     "output_type": "stream",
     "text": [
      "<class 'langchain_core.messages.ai.AIMessage'>\n",
      "맛은 개인 차이가 있지만, 샤토 마고(Château Margaux)를 추천합니다.\n"
     ]
    }
   ],
   "source": [
    "print(type(res))\n",
    "res\n",
    "print(res.content)"
   ]
  },
  {
   "cell_type": "code",
   "execution_count": null,
   "id": "f4277168-8e74-44fa-a20b-8c60df08c1be",
   "metadata": {},
   "outputs": [],
   "source": []
  },
  {
   "cell_type": "markdown",
   "id": "9ec74eb1-3092-4dd3-bedf-48502392ed71",
   "metadata": {},
   "source": [
    "### MessagesPlaceholder\n",
    "- 메시지 리스트를 전달하기 위한 특별한 프롬프트 템플릿으로, 채팅 히스토리나 예제 메시지를 포함할 때 사용된다.\n",
    "  - 변수가 프롬프트 문장안에 일부내용을 입력받을 때 사용된다면 **MessagesPlaceholder** 는 여러개의 메세지 문장들을 입력받는 데 사용된다.\n",
    "- 보통 Chat Template의 채팅 히스토리나 예제 메시지를 포함할 때 사용된다.\n",
    "- 객체 생성시 파라미터\n",
    "  - variable_name: str: 변수명 지정\n",
    "  - optional: bool = False\n",
    "    - True일 경우 생략 할 수있다. \n",
    "  - n_messages: int \n",
    "    - 최근 N개의 메세지만 포함시킨다."
   ]
  },
  {
   "cell_type": "code",
   "execution_count": 50,
   "id": "09740106-8715-4d18-937f-2f0f99e5ecd2",
   "metadata": {},
   "outputs": [],
   "source": [
    "from pprint import pprint\n",
    "from langchain.prompts import ChatPromptTemplate, MessagesPlaceholder\n",
    "template = [\n",
    "    (\"system\", \"당신은 수학 전문가입니다.\"),\n",
    "    MessagesPlaceholder(variable_name=\"history\", optional=True), \n",
    "    (\"human\", \"{question}\")\n",
    "]\n",
    "prompt_template = ChatPromptTemplate(template)\n",
    "\n",
    "#..... 채팅 history가 있는 경우.\n",
    "chatting_history = [\n",
    "    (\"human\", \"1 + 1의 결과는?\"),\n",
    "    (\"ai\", \"2입니다.\"), \n",
    "    (\"human\", \"5 * 7의 결과는?\"),\n",
    "    (\"ai\", \"35입니다.\")\n",
    "]\n",
    "\n",
    "prompt = prompt_template.invoke({\n",
    "    \"question\":\"위의 결과에 4제곱을 한 결과는?\",\n",
    "    \"history\": chatting_history  # MessagesPlaceHolder 넣어줄 대화들.\n",
    "})\n",
    "# 변수-> 문자열, MessagesPlaceHolder -> 대화목록"
   ]
  },
  {
   "cell_type": "code",
   "execution_count": 51,
   "id": "d4a5ce44-9dc1-4f6e-b1cc-6e2fe7ac48b9",
   "metadata": {},
   "outputs": [
    {
     "name": "stdout",
     "output_type": "stream",
     "text": [
      "[SystemMessage(content='당신은 수학 전문가입니다.', additional_kwargs={}, response_metadata={}),\n",
      " HumanMessage(content='1 + 1의 결과는?', additional_kwargs={}, response_metadata={}),\n",
      " AIMessage(content='2입니다.', additional_kwargs={}, response_metadata={}),\n",
      " HumanMessage(content='5 * 7의 결과는?', additional_kwargs={}, response_metadata={}),\n",
      " AIMessage(content='21입니다.', additional_kwargs={}, response_metadata={}),\n",
      " HumanMessage(content='위의 결과에 4제곱을 한 결과는?', additional_kwargs={}, response_metadata={})]\n"
     ]
    }
   ],
   "source": [
    "pprint(prompt.messages)"
   ]
  },
  {
   "cell_type": "code",
   "execution_count": 52,
   "id": "236db4d2-0f05-463a-b943-7bd88872a7ee",
   "metadata": {},
   "outputs": [],
   "source": [
    "res = model.invoke(prompt)"
   ]
  },
  {
   "cell_type": "code",
   "execution_count": 54,
   "id": "3c287d61-efb9-4fd1-afc5-a37c4f02ee34",
   "metadata": {},
   "outputs": [
    {
     "name": "stdout",
     "output_type": "stream",
     "text": [
      "5 * 7의 결과는 35입니다. 35의 4제곱은 35^4로 계산할 수 있습니다.\n",
      "\n",
      "35^4 = 35 * 35 * 35 * 35 = 1,500,625입니다.\n",
      "\n",
      "따라서, 5 * 7의 결과에 4제곱을 한 결과는 1,500,625입니다.\n"
     ]
    }
   ],
   "source": [
    "print(res.content)"
   ]
  },
  {
   "cell_type": "code",
   "execution_count": 55,
   "id": "37692348-c1d5-4716-b2d5-f45ab4e27574",
   "metadata": {},
   "outputs": [
    {
     "data": {
      "text/plain": [
       "1500625"
      ]
     },
     "execution_count": 55,
     "metadata": {},
     "output_type": "execute_result"
    }
   ],
   "source": []
  },
  {
   "cell_type": "markdown",
   "id": "43f48bb9-3f2c-4646-b4b6-eb3ea3fa704a",
   "metadata": {},
   "source": [
    "### FewShotTemplate \n",
    "Few-Shot Prompt를 작성하기 위한 Prompt Template\n",
    "- **FewShotPromptTemplate**: 예시를 넣은 지시형 template을 정의한다.\n",
    "- **FewShotChatMessagePromptTemplate**: 예시를 넣은 대화형(chat) prompt template을 정의한다.\n",
    "\n",
    "#### FewShotPromptTemplate\n",
    "- 지시형 template message 정의"
   ]
  },
  {
   "cell_type": "code",
   "execution_count": null,
   "id": "fe895755-4583-47ed-988b-7a9c7899cc0c",
   "metadata": {},
   "outputs": [
    {
     "name": "stdout",
     "output_type": "stream",
     "text": [
      "English:Good morning?\n",
      "Korean:좋은 아침입니다.\n",
      "\n",
      "English:Good afternoon?\n",
      "Korean:즐거운 오후 되세요.\n",
      "\n",
      "English:Thank you.\n",
      "Korean:고맙습니다.\n",
      "\n",
      "English:Good Evening?\n",
      "Korean:\n"
     ]
    }
   ],
   "source": [
    "from langchain.prompts import PromptTemplate, FewShotPromptTemplate\n",
    "\n",
    "# 예제\n",
    "# English:Good morning?\\nKorean:좋은 아침입니다.\n",
    "# English:Good afternoon?\\nKorean: 즐거운 오후 되세요.\n",
    "# English:Thank you.\\nKorean: 고맙습니다.\n",
    "# # 질문\n",
    "# English:Good evening?\\nKorean:  -> 질문\n",
    "\n",
    "# 예제(Example)을 만드는 프롬프트 템플릿.\n",
    "example_template = PromptTemplate(\n",
    "    template=\"English:{english}\\nKorean:{korean}\"\n",
    ")\n",
    "# 예제 템플릿에 넣을 값들을 만들기.\n",
    "examples = [\n",
    "    {\"english\":\"Good morning?\", \"korean\": \"좋은 아침입니다.\"}, # dict 1개 -> 한개의 예제\n",
    "    {\"english\":\"Good afternoon?\", \"korean\": \"즐거운 오후 되세요.\"},\n",
    "    {\"english\":\"Thank you.\", \"korean\": \"고맙습니다.\"},\n",
    "]\n",
    "# FewShotPromptTemplate 생성 -> 최종 template\n",
    "prompt_template = FewShotPromptTemplate(\n",
    "    examples=examples, #example_template 에 넣어줄 값들\n",
    "    example_prompt=example_template, # 예제 만들 프롬프트\n",
    "    suffix=\"English:{input}\\nKorean:\", # Example들 뒤에 붙인 prompt (실제 요청할 query)\n",
    ")\n",
    "\n",
    "prompt = prompt_template.format(input=\"Good Evening?\")\n",
    "print(prompt)"
   ]
  },
  {
   "cell_type": "code",
   "execution_count": 59,
   "id": "ac4ae5c1-943f-481d-955a-f215802bb342",
   "metadata": {},
   "outputs": [],
   "source": [
    "res = model.invoke(prompt)"
   ]
  },
  {
   "cell_type": "code",
   "execution_count": 60,
   "id": "56391c75-9bc0-4b3f-957e-ab9aa74c9fec",
   "metadata": {},
   "outputs": [
    {
     "data": {
      "text/plain": [
       "'좋은 저녁입니다.'"
      ]
     },
     "execution_count": 60,
     "metadata": {},
     "output_type": "execute_result"
    }
   ],
   "source": [
    "res.content"
   ]
  },
  {
   "cell_type": "markdown",
   "id": "d559409d-6955-44bc-9532-7ef313a933c3",
   "metadata": {},
   "source": [
    "#### FewShotChatMessagePromptTemplate\n",
    "대화형 template message 정의"
   ]
  },
  {
   "cell_type": "code",
   "execution_count": null,
   "id": "d359ad01-4768-4e6b-a387-7e5da8c20087",
   "metadata": {},
   "outputs": [],
   "source": [
    "from langchain.prompts import ChatPromptTemplate, FewShotChatMessagePromptTemplate\n",
    "examples = [\n",
    "    {\"english\":\"Good morning?\", \"korean\": \"좋은 아침입니다.\"}, # dict 1개 -> 한개의 예제\n",
    "    {\"english\":\"Good afternoon?\", \"korean\": \"즐거운 오후 되세요.\"},\n",
    "    {\"english\":\"Thank you.\", \"korean\": \"고맙습니다.\"},\n",
    "]\n",
    "# example을 만들 prompt template 생성 -> 대화 메세지 형식 구성\n",
    "example_template = ChatPromptTemplate(\n",
    "    [\n",
    "        (\"human\", \"{english}\"),\n",
    "        (\"ai\", \"{korean}\")\n",
    "    ]\n",
    ")\n",
    "# example을 생성.\n",
    "fewshot_template = FewShotChatMessagePromptTemplate(\n",
    "    examples=examples, # 예제 메세지에 넣을 값들\n",
    "    example_prompt=example_template, # 예제를 만들 chat prompt template\n",
    "    # input_variables=[\"english\", \"korean\"] # v0.2 에서는 지정.\n",
    ")\n",
    "# 예제에 질문을 포함한 최종 ChatPromptTemplate 생성.\n",
    "prompt_template = ChatPromptTemplate(\n",
    "    [\n",
    "        (\"system\", \"당신은 영어를 한국어로 번역하는 번역가입니다. 최대한 자연스럽고 간결하게 번역해주세요.\"),\n",
    "        fewshot_template, # 예제\n",
    "        (\"human\", \"{input}\")\n",
    "    ]\n",
    ")\n",
    "prompt = prompt_template.invoke({\"input\":\"Good evening?\"})"
   ]
  },
  {
   "cell_type": "code",
   "execution_count": 67,
   "id": "41e27012-e8fe-41f6-9f0c-4c2d1b2d5f24",
   "metadata": {},
   "outputs": [
    {
     "name": "stdout",
     "output_type": "stream",
     "text": [
      "[SystemMessage(content='당신은 영어를 한국어로 번역하는 번역가입니다. 최대한 자연스럽고 간결하게 번역해주세요.', additional_kwargs={}, response_metadata={}),\n",
      " HumanMessage(content='Good morning?', additional_kwargs={}, response_metadata={}),\n",
      " AIMessage(content='좋은 아침입니다.', additional_kwargs={}, response_metadata={}),\n",
      " HumanMessage(content='Good afternoon?', additional_kwargs={}, response_metadata={}),\n",
      " AIMessage(content='즐거운 오후 되세요.', additional_kwargs={}, response_metadata={}),\n",
      " HumanMessage(content='Thank you.', additional_kwargs={}, response_metadata={}),\n",
      " AIMessage(content='고맙습니다.', additional_kwargs={}, response_metadata={}),\n",
      " HumanMessage(content='Good evening?', additional_kwargs={}, response_metadata={})]\n"
     ]
    }
   ],
   "source": [
    "pprint(prompt.messages)"
   ]
  },
  {
   "cell_type": "code",
   "execution_count": 68,
   "id": "95fa469a-7c7e-4146-bd89-297f255f30e6",
   "metadata": {},
   "outputs": [],
   "source": [
    "res = model.invoke(prompt)"
   ]
  },
  {
   "cell_type": "code",
   "execution_count": 70,
   "id": "cd388355-9eb2-4915-99b0-67dd9191781a",
   "metadata": {},
   "outputs": [
    {
     "name": "stdout",
     "output_type": "stream",
     "text": [
      "좋은 저녁입니다.\n",
      "=================\n"
     ]
    },
    {
     "data": {
      "text/plain": [
       "AIMessage(content='좋은 저녁입니다.', additional_kwargs={'refusal': None}, response_metadata={'token_usage': {'completion_tokens': 6, 'prompt_tokens': 93, 'total_tokens': 99, 'completion_tokens_details': {'accepted_prediction_tokens': 0, 'audio_tokens': 0, 'reasoning_tokens': 0, 'rejected_prediction_tokens': 0}, 'prompt_tokens_details': {'audio_tokens': 0, 'cached_tokens': 0}}, 'model_name': 'gpt-4o-mini-2024-07-18', 'system_fingerprint': 'fp_0705bf87c0', 'finish_reason': 'stop', 'logprobs': None}, id='run-d7f89924-af26-447b-813a-a5c7c0302878-0', usage_metadata={'input_tokens': 93, 'output_tokens': 6, 'total_tokens': 99, 'input_token_details': {'audio': 0, 'cache_read': 0}, 'output_token_details': {'audio': 0, 'reasoning': 0}})"
      ]
     },
     "execution_count": 70,
     "metadata": {},
     "output_type": "execute_result"
    }
   ],
   "source": [
    "print(res.content)\n",
    "print(\"=================\")\n",
    "res"
   ]
  },
  {
   "cell_type": "markdown",
   "id": "ea0f0798-fcd2-43d4-85aa-f66f102a3403",
   "metadata": {},
   "source": [
    "### Prompt 조합(Prompt Composition)\n",
    "- 여러개의 프롬프트를 합치거나 프롬프트 내에 다른 프롬프트를 포함시켜 새로운 프롬프트를 만들 수 있다.\n",
    "\n",
    "#### 프롬프트 합치기\n",
    "- `+` 연산자로 프롬프트를 합친다.\n",
    "    - `PromptTemplate + PromptTemplate`"
   ]
  },
  {
   "cell_type": "code",
   "execution_count": 73,
   "id": "f84dce65-fca8-427c-a205-a39c369fbd12",
   "metadata": {},
   "outputs": [],
   "source": [
    "prompt_template1 = PromptTemplate(template=\"당신은 {country}의 여행가이드입니다.\")\n",
    "prompt_template2 = PromptTemplate(template=\"{country}의 {interest}에 대해 소개해 주세요.\")\n",
    "prompt_template = prompt_template1 + prompt_template2"
   ]
  },
  {
   "cell_type": "code",
   "execution_count": 74,
   "id": "6742fb07-bda3-4240-8d23-7e1b38328052",
   "metadata": {},
   "outputs": [
    {
     "data": {
      "text/plain": [
       "'당신은 {country}의 여행가이드입니다.{country}의 {interest}에 대해 소개해 주세요.'"
      ]
     },
     "execution_count": 74,
     "metadata": {},
     "output_type": "execute_result"
    }
   ],
   "source": [
    "prompt_template.template"
   ]
  },
  {
   "cell_type": "code",
   "execution_count": 76,
   "id": "be20522f-f0fe-400d-b6b4-e7d140c82256",
   "metadata": {},
   "outputs": [
    {
     "data": {
      "text/plain": [
       "['country', 'interest']"
      ]
     },
     "execution_count": 76,
     "metadata": {},
     "output_type": "execute_result"
    }
   ],
   "source": [
    "prompt_template.input_variables"
   ]
  },
  {
   "cell_type": "code",
   "execution_count": 77,
   "id": "cd4e35cd-c3ca-48c5-a77f-a2f453fcc4e5",
   "metadata": {},
   "outputs": [
    {
     "data": {
      "text/plain": [
       "'당신은 한국의 여행가이드입니다.한국의 맛있는 음식에 대해 소개해 주세요.'"
      ]
     },
     "execution_count": 77,
     "metadata": {},
     "output_type": "execute_result"
    }
   ],
   "source": [
    "prompt_template.format(country=\"한국\", interest=\"맛있는 음식\")"
   ]
  },
  {
   "cell_type": "code",
   "execution_count": null,
   "id": "bec51449-4522-482e-adea-c59709331ba6",
   "metadata": {},
   "outputs": [],
   "source": []
  },
  {
   "cell_type": "markdown",
   "id": "386e161c-72c1-4105-9ea3-4c63e707132b",
   "metadata": {},
   "source": [
    "#### PipelinePromptTemplate\n",
    "- 프롬프트 안에 다른 프롬프트를 넣어서 만든다.\n",
    "- `+` 와는 달리 단순히 합치는 것이 아니라 프롬프트 안에 다른 프롬프트들을 추가하는 개념.\n",
    "- 프롬프르트를 재사용해서 새로운 프롬프트를 만들때 유용하다."
   ]
  },
  {
   "cell_type": "code",
   "execution_count": 79,
   "id": "1929bfcc-7c1e-42dc-881b-d7edc655f614",
   "metadata": {},
   "outputs": [],
   "source": [
    "from langchain.prompts.pipeline import PipelinePromptTemplate\n",
    "\n",
    "full_template = PromptTemplate(\n",
    "    template=\"{role}\\n{question}\\n10개 이하의 단어로 답해주세요.\"\n",
    ")\n",
    "role_template = PromptTemplate(template=\"당신은 {country}의 여행가이드 입니다.\")\n",
    "question_template = PromptTemplate(template=\"{country}의 {interest}에 대해 알려주세요.\")\n",
    "input_templates = [\n",
    "    (\"role\", role_template),    # (full_template의 변수, 포함시킬 템플릿)\n",
    "    (\"question\", question_template)\n",
    "]\n",
    "prompt_template = PipelinePromptTemplate(\n",
    "    final_prompt = full_template,    # 모든 것들을 포함할 템플릿.\n",
    "    pipeline_prompts=input_templates # final_prompt에 포함시킬 템플릿들: list(tupe(str, template))\n",
    ")"
   ]
  },
  {
   "cell_type": "code",
   "execution_count": 80,
   "id": "441bcaa9-7d05-4306-9fc1-c8c9cbde8826",
   "metadata": {},
   "outputs": [
    {
     "data": {
      "text/plain": [
       "['country', 'interest']"
      ]
     },
     "execution_count": 80,
     "metadata": {},
     "output_type": "execute_result"
    }
   ],
   "source": [
    "prompt_template.input_variables"
   ]
  },
  {
   "cell_type": "code",
   "execution_count": 84,
   "id": "c16fbb45-aa9f-43df-9fe8-009d3bf72f1d",
   "metadata": {},
   "outputs": [
    {
     "name": "stdout",
     "output_type": "stream",
     "text": [
      "당신은 미국의 여행가이드 입니다.\n",
      "미국의 유명한 여행지에 대해 알려주세요.\n",
      "10개 이하의 단어로 답해주세요.\n"
     ]
    }
   ],
   "source": [
    "prompt = prompt_template.format(country=\"미국\", interest=\"유명한 여행지\")\n",
    "print(prompt)"
   ]
  },
  {
   "cell_type": "code",
   "execution_count": 85,
   "id": "eea149ea-b7df-4d31-9fb4-a9f1a791698c",
   "metadata": {},
   "outputs": [
    {
     "data": {
      "text/plain": [
       "StringPromptValue(text='당신은 영국의 여행가이드 입니다.\\n영국의 유명한 관광지에 대해 알려주세요.\\n10개 이하의 단어로 답해주세요.')"
      ]
     },
     "execution_count": 85,
     "metadata": {},
     "output_type": "execute_result"
    }
   ],
   "source": [
    "prompt_template.invoke({\"country\":\"영국\", \"interest\":\"유명한 관광지\"})"
   ]
  },
  {
   "cell_type": "code",
   "execution_count": 87,
   "id": "250d9567-f5fd-490a-ac79-4d5b536ca193",
   "metadata": {},
   "outputs": [],
   "source": [
    "res = model.invoke(prompt)"
   ]
  },
  {
   "cell_type": "code",
   "execution_count": 89,
   "id": "3299c5ec-fd6b-465e-9738-0b674db916c1",
   "metadata": {},
   "outputs": [
    {
     "name": "stdout",
     "output_type": "stream",
     "text": [
      "그랜드 캐년, 뉴욕, 요세미티, 올랜도, 나이아가라 폭포.\n"
     ]
    }
   ],
   "source": [
    "print(res.content)"
   ]
  },
  {
   "cell_type": "markdown",
   "id": "ac3fde97-5eaa-44f0-a765-d4c086d0b8a6",
   "metadata": {},
   "source": [
    "# Langchain-Hub 에서 prompt 받아오기\n",
    "\n",
    "- https://smith.langchain.com/hub"
   ]
  },
  {
   "cell_type": "code",
   "execution_count": 90,
   "id": "8502c115-c3df-437b-b0f7-2f34d9194355",
   "metadata": {},
   "outputs": [
    {
     "name": "stderr",
     "output_type": "stream",
     "text": [
      "C:\\Users\\Playdata\\miniconda3\\envs\\langchain\\Lib\\site-packages\\langsmith\\client.py:241: LangSmithMissingAPIKeyWarning: API key must be provided when using hosted LangSmith API\n",
      "  warnings.warn(\n"
     ]
    }
   ],
   "source": [
    "# set the LANGCHAIN_API_KEY environment variable (create key in settings)\n",
    "from langchain import hub\n",
    "prompt = hub.pull(\"hardkothari/prompt-maker\")"
   ]
  },
  {
   "cell_type": "code",
   "execution_count": 92,
   "id": "2302f3cd-43c3-455f-9178-1a4ca1dbf333",
   "metadata": {
    "collapsed": true,
    "jupyter": {
     "outputs_hidden": true
    }
   },
   "outputs": [
    {
     "data": {
      "text/plain": [
       "[SystemMessagePromptTemplate(prompt=PromptTemplate(input_variables=[], input_types={}, partial_variables={}, template='You are an expert Prompt Writer for Large Language Models.\\n\\n'), additional_kwargs={}),\n",
       " HumanMessagePromptTemplate(prompt=PromptTemplate(input_variables=['lazy_prompt', 'task'], input_types={}, partial_variables={}, template='Your goal is to improve the prompt given below for {task} :\\n--------------------\\n\\nPrompt: {lazy_prompt}\\n\\n--------------------\\n\\nHere are several tips on writing great prompts:\\n\\n-------\\n\\nStart the prompt by stating that it is an expert in the subject.\\n\\nPut instructions at the beginning of the prompt and use ### or to separate the instruction and context \\n\\nBe specific, descriptive and as detailed as possible about the desired context, outcome, length, format, style, etc \\n\\n---------\\n\\nHere\\'s an example of a great prompt:\\n\\nAs a master YouTube content creator, develop an engaging script that revolves around the theme of \"Exploring Ancient Ruins.\"\\n\\nYour script should encompass exciting discoveries, historical insights, and a sense of adventure.\\n\\nInclude a mix of on-screen narration, engaging visuals, and possibly interactions with co-hosts or experts.\\n\\nThe script should ideally result in a video of around 10-15 minutes, providing viewers with a captivating journey through the secrets of the past.\\n\\nExample:\\n\\n\"Welcome back, fellow history enthusiasts, to our channel! Today, we embark on a thrilling expedition...\"\\n\\n-----\\n\\nNow, improve the prompt.\\n\\nIMPROVED PROMPT:'), additional_kwargs={})]"
      ]
     },
     "execution_count": 92,
     "metadata": {},
     "output_type": "execute_result"
    }
   ],
   "source": [
    "prompt.messages"
   ]
  },
  {
   "cell_type": "code",
   "execution_count": 93,
   "id": "15dac8fd-55ef-4ca3-86cc-507f05976ed8",
   "metadata": {},
   "outputs": [
    {
     "data": {
      "text/plain": [
       "['lazy_prompt', 'task']"
      ]
     },
     "execution_count": 93,
     "metadata": {},
     "output_type": "execute_result"
    }
   ],
   "source": [
    "prompt.input_variables"
   ]
  },
  {
   "cell_type": "code",
   "execution_count": 95,
   "id": "d5ae6c66-ad6b-4998-b480-2fe5f0cabc69",
   "metadata": {},
   "outputs": [
    {
     "data": {
      "text/plain": [
       "[SystemMessage(content='You are an expert Prompt Writer for Large Language Models.\\n\\n', additional_kwargs={}, response_metadata={}),\n",
       " HumanMessage(content='Your goal is to improve the prompt given below for 11qqqqqqqqqq :\\n--------------------\\n\\nPrompt: ㅁㅁㅁㅁㅁㅁ\\n\\n--------------------\\n\\nHere are several tips on writing great prompts:\\n\\n-------\\n\\nStart the prompt by stating that it is an expert in the subject.\\n\\nPut instructions at the beginning of the prompt and use ### or to separate the instruction and context \\n\\nBe specific, descriptive and as detailed as possible about the desired context, outcome, length, format, style, etc \\n\\n---------\\n\\nHere\\'s an example of a great prompt:\\n\\nAs a master YouTube content creator, develop an engaging script that revolves around the theme of \"Exploring Ancient Ruins.\"\\n\\nYour script should encompass exciting discoveries, historical insights, and a sense of adventure.\\n\\nInclude a mix of on-screen narration, engaging visuals, and possibly interactions with co-hosts or experts.\\n\\nThe script should ideally result in a video of around 10-15 minutes, providing viewers with a captivating journey through the secrets of the past.\\n\\nExample:\\n\\n\"Welcome back, fellow history enthusiasts, to our channel! Today, we embark on a thrilling expedition...\"\\n\\n-----\\n\\nNow, improve the prompt.\\n\\nIMPROVED PROMPT:', additional_kwargs={}, response_metadata={})]"
      ]
     },
     "execution_count": 95,
     "metadata": {},
     "output_type": "execute_result"
    }
   ],
   "source": [
    "prompt.invoke({\"lazy_prompt\":\"ㅁㅁㅁㅁㅁㅁ\", \"task\":\"11qqqqqqqqqq\"}).messages"
   ]
  }
 ],
 "metadata": {
  "kernelspec": {
   "display_name": "langchain",
   "language": "python",
   "name": "python3"
  },
  "language_info": {
   "codemirror_mode": {
    "name": "ipython",
    "version": 3
   },
   "file_extension": ".py",
   "mimetype": "text/x-python",
   "name": "python",
   "nbconvert_exporter": "python",
   "pygments_lexer": "ipython3",
   "version": "3.12.7"
  }
 },
 "nbformat": 4,
 "nbformat_minor": 5
}
