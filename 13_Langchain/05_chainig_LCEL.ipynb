{
 "cells": [
  {
   "cell_type": "markdown",
   "id": "35ee8245-0329-4185-971d-21bf20cc780e",
   "metadata": {},
   "source": [
    "# Chain\n",
    "\n",
    "- 여러 컴포넌트들을 논리적 순서대로 연결하여 복잡한 작업을 수행하는 구조로 복잡한 AI 작업을 체계적이고 효율적으로 구현할 수 있게 해준다.\n",
    "- 기본 개념\n",
    "    - 일련의 작업을 구성하는 여러 개별 컴포넌트들을 정의된 순서대로 실행시킨다.\n",
    "    - 단일 API 호출을 넘어 여러 호출을 논리적 순서로 연결 가능하다.\n",
    "    - 복잡한 작업을 작은 단계로 분해하여 순차적으로 처리할 수 있다.\n",
    "\n",
    "- Langchain은 `off-the-shelf chains` 방식과 `LCEL(Langchain Expression Language)`  두가지 방식이 있다.\n",
    "  - off-the-shelf chains 방식\n",
    "    - 미리정의된 Chain 클래스를 사용해 체인을 구성하는 방식\n",
    "    - Langchain의 초기 방식으로 대부분의 class들이 deprecated 되었다.\n",
    "  - LCEL 방식\n",
    "    - 표현식을 이용해 체인을 구성하는 방식이다.\n",
    "    - 현재 LangChain은 LCEL(LangChain Expression Language)을 중심으로 발전하고 있다\n"
   ]
  },
  {
   "cell_type": "markdown",
   "id": "52ecc9c2-1744-4beb-84f3-257faddbec60",
   "metadata": {},
   "source": [
    "# Off-the-shelf chains 예제"
   ]
  },
  {
   "cell_type": "code",
   "execution_count": 1,
   "id": "83c6e80d-36bc-449d-bc94-6e92295e66ec",
   "metadata": {},
   "outputs": [
    {
     "data": {
      "text/plain": [
       "True"
      ]
     },
     "execution_count": 1,
     "metadata": {},
     "output_type": "execute_result"
    }
   ],
   "source": [
    "from dotenv import load_dotenv\n",
    "load_dotenv()"
   ]
  },
  {
   "cell_type": "code",
   "execution_count": 3,
   "id": "c5f09c17",
   "metadata": {},
   "outputs": [
    {
     "name": "stdout",
     "output_type": "stream",
     "text": [
      "content='물론이죠! 스마트폰에 어울리는 이름 5개를 제안해드릴게요.\\n\\n1. **소닉폰 (Sonic Phone)** - 빠르고 효율적인 성능을 강조하는 이름.\\n2. **넥서스 (Nexus)** - 연결과 통합을 의미하는 이름으로, 다양한 기능을 포괄하는 스마트폰에 적합.\\n3. **스텔라 (Stella)** - 별을 의미하여, 반짝이는 디자인과 성능을 나타내는 이름.\\n4. **비전포 (VisionPro)** - 뛰어난 디스플레이와 카메라 기능을 강조하는 이름.\\n5. **에코스 (Echos)** - 사용자와의 소통과 반향을 중시하는 스마트폰에 잘 어울리는 이름.\\n\\n필요한 정보가 더 있으시면 말씀해 주세요!' additional_kwargs={'refusal': None} response_metadata={'token_usage': {'completion_tokens': 183, 'prompt_tokens': 22, 'total_tokens': 205, 'completion_tokens_details': {'accepted_prediction_tokens': 0, 'audio_tokens': 0, 'reasoning_tokens': 0, 'rejected_prediction_tokens': 0}, 'prompt_tokens_details': {'audio_tokens': 0, 'cached_tokens': 0}}, 'model_name': 'gpt-4o-mini-2024-07-18', 'system_fingerprint': 'fp_0705bf87c0', 'finish_reason': 'stop', 'logprobs': None} id='run-6bfca022-8a3a-41ab-8a50-80b14b9d3cfe-0' usage_metadata={'input_tokens': 22, 'output_tokens': 183, 'total_tokens': 205, 'input_token_details': {'audio': 0, 'cache_read': 0}, 'output_token_details': {'audio': 0, 'reasoning': 0}}\n"
     ]
    }
   ],
   "source": [
    "from langchain import PromptTemplate\n",
    "from langchain_openai import ChatOpenAI\n",
    "from pprint import pprint\n",
    "\n",
    "prompt_template = PromptTemplate(\n",
    "    template=\"{item}에 어울리는 이름 {count}개를 만들어 주세요.\"\n",
    ")\n",
    "model = ChatOpenAI(\n",
    "    model=\"gpt-4o-mini\",\n",
    "    temperature=1.0\n",
    ")\n",
    "\n",
    "# 순서\n",
    "## 1. prompt생성 -> 2. llm 요청\n",
    "prompt = prompt_template.invoke({\"item\":\"스마트폰\", \"count\": 5})\n",
    "# prompt.text\n",
    "result = model.invoke(prompt)\n",
    "print(result)"
   ]
  },
  {
   "cell_type": "code",
   "execution_count": 4,
   "id": "66e2ce78",
   "metadata": {},
   "outputs": [
    {
     "name": "stderr",
     "output_type": "stream",
     "text": [
      "C:\\Users\\Playdata\\AppData\\Local\\Temp\\ipykernel_4532\\22492021.py:3: LangChainDeprecationWarning: The class `LLMChain` was deprecated in LangChain 0.1.17 and will be removed in 1.0. Use :meth:`~RunnableSequence, e.g., `prompt | llm`` instead.\n",
      "  chain = LLMChain(\n"
     ]
    }
   ],
   "source": [
    "from langchain import LLMChain\n",
    "\n",
    "chain = LLMChain(\n",
    "    prompt=prompt_template,\n",
    "    llm=model\n",
    "    # , output_parser=OutputParser객체\n",
    ")\n",
    "# 입력: prompt_template의 전달할 값 -> chain(prompt_template -> llm) -> 출력:llm의 결과\n",
    "result = chain.invoke({\"item\":\"가방\", \"count\":3})"
   ]
  },
  {
   "cell_type": "code",
   "execution_count": 5,
   "id": "ac4eb688",
   "metadata": {},
   "outputs": [
    {
     "name": "stdout",
     "output_type": "stream",
     "text": [
      "물론이죠! 가방에 어울리는 이름 3개를 제안해 드릴게요.\n",
      "\n",
      "1. **모던 스퀘어** - 세련된 디자인의 가방에 잘 어울리는 이름으로, 도시적인 느낌을 줍니다.\n",
      "2. **에코 투고** - 자연친화적인 소재로 만든 가방에 적합한 이름으로, 환경을 생각하는 소비자에게 어필할 수 있습니다.\n",
      "3. **루나 클러치** - 우아하고 스타일리시한 클러치 백에 잘 어울리는 이름으로, 밤 외출 시 사용하기 좋습니다.\n",
      "\n",
      "이 이름들이 도움이 되길 바랍니다!\n"
     ]
    }
   ],
   "source": [
    "print(result['text'])"
   ]
  },
  {
   "cell_type": "code",
   "execution_count": 6,
   "id": "958fa29b",
   "metadata": {},
   "outputs": [],
   "source": [
    "# LCEL\n",
    "chain2 = prompt_template | model \n",
    "result2 = chain2.invoke({\"item\":\"컴퓨터\", \"count\": 5})"
   ]
  },
  {
   "cell_type": "code",
   "execution_count": 7,
   "id": "5dcfb67c",
   "metadata": {},
   "outputs": [
    {
     "name": "stdout",
     "output_type": "stream",
     "text": [
      "물론입니다! 여기 컴퓨터에 어울리는 이름 5개를 제안드립니다:\n",
      "\n",
      "1. **코드마스터 (CodeMaster)**\n",
      "2. **데이터스미스 (DataSmith)**\n",
      "3. **알고리즘스 (Algorithmus)**\n",
      "4. **바이트비전 (ByteVision)**\n",
      "5. **네트워크우즈 (NetworkWiz)**\n",
      "\n",
      "이 이름들이 마음에 드시길 바랍니다!\n"
     ]
    }
   ],
   "source": [
    "print(result2.content)"
   ]
  },
  {
   "cell_type": "markdown",
   "id": "59ba00ec-6c7c-496e-b31f-f3978b74bdba",
   "metadata": {},
   "source": [
    "# LCEL (LangChain Expression Language)\n",
    "- LCEL은 LangChain의 핵심 기능인 **체인(Chain)을 더욱 효율적으로 구현하기 위해 도입된 **선언적 방식의 체인(chain) 구성 언어**이다.\n",
    "- `|` 연산자를 이용해 선언적 방법으로 Chain을 만든다.\n",
    "- [Runnable](https://api.python.langchain.com/en/latest/runnables/langchain_core.runnables.base.Runnable.html) type의 component들이 chain에 포함될 수있다.\n",
    "    - `|` 연산자를 이용해 Runnable들을 연결한다.\n",
    "    - chain이 실행되면 각 Runnable의 invoke() 메소드가 실행된다. 그리고 invoke()의 리턴값을 다음 Runnable의 invoke()에 전달해서 실행시킨다.\n",
    "    - [Runnable 컴포넌트별 입출력 타입](https://python.langchain.com/docs/expression_language/interface)\n",
    "        - 각 컴포넌트의 input과 output 타입에 맞춰 값이 전달되도록 한다.\n",
    "- https://python.langchain.com/v0.2/docs/concepts/#langchain-expression-language-lcel"
   ]
  },
  {
   "cell_type": "markdown",
   "id": "b3f0d52c-23da-4ec6-87cc-925e3d6259ea",
   "metadata": {},
   "source": [
    "## Runnable\n",
    "- LangChain의 Runnable은 실행 가능한 작업 단위를 캡슐화한 개념으로, 데이터 흐름의 각 단계를 정의하고 체인(chain) 형태로 연결하여 복잡한 작업을 수행할 수 있게 한다.\n",
    "- Chain을 구성하는 class들은 Runnable의 하위 클래스로 구현한다.\n",
    "\n",
    "### 주요 특징\n",
    "- 작업 단위의 캡슐화:\n",
    "    - Runnable은 특정 작업(예: 프롬프트 생성, LLM 요청)을 수행하는 독립적인 컴포넌트이다.\n",
    "    - LangChain의 다양한 컴포넌트(PromptTemplate, LLM, OutputParser 등)들이 Runnable을# Runnable\n",
    "- LangChain의 Runnable은 실행 가능한 작업 단위를 캡슐화한 개념으로, 데이터 흐름의 각 단계를 정의하고 체인(chain) 형태로 연결하여 복잡한 작업을 수행할 수 있게 한다.\n",
    "- Chain을 구성하는 class들은 Runnable의 하위 클래스로 구현한다.\n",
    "\n",
    "### 주요 특징\n",
    "- 작업 단위의 캡슐화:\n",
    "    - Runnable은 특정 작업(예: 프롬프트 생성, LLM 요청)을 수행하는 독립적인 컴포넌트이다.\n",
    "    - LangChain의 다양한 컴포넌트(PromptTemplate, LLM, OutputParser 등)들이 Runnable을 상속받아 구현된다.\n",
    "- 체인 연결 및 작업 흐름 관리:\n",
    "    - Runnable은 파이프라인처럼 체인(순차적으로 실행되는 작업들을 연결한 것)을 구성할 수 있으며, `|` 연산자를 사용해 간단히 연결 가능하다.\n",
    "    - 입력과 출력 형식을 통일해서 컴포넌트를 매끄럽게 연결한다\n",
    "- 모듈화 및 디버깅 용이성:\n",
    "    - 각 단계가 명확히 분리되어 디버깅 및 유지보수가 용이하다.\n",
    "    - 복잡한 작업을 작은 단위로 나누어 관리할 수 있다.\n",
    "### Runnable의 표준 메소드\n",
    "- 모든 Runnable이 구현하는 공통 메소드\n",
    "- `invoke()`: 입력 데이터를 처리하여 결과를 반환.\n",
    "- `batch()`: 여러 입력 데이터들을 한 번에 처리.\n",
    "- `stream()`: 스트리밍 방식으로 응답 반환.\n",
    "- `ainvoke()`: 비동기 호출 지원.\n",
    "\n",
    "### Runnable의 주요 구현체\n",
    "- **`RunnablePassThrough`**\n",
    "    - 입력데이터를 다음 chain으로 그대로 전달하거나, 필요에 따라 추가적인 key-value 쌍을 더해서 전달한다. \n",
    "- **`RunnableParallel`**\n",
    "    - 여러 Runnable을 병렬로 실행하고 결과들을 합쳐서 다음 chain으로 전달한다.`**\n",
    "- **`RunnableLambda`**\n",
    "    - 일반 함수나 lambda 함수를 Runnable로 만들 때 사용."
   ]
  },
  {
   "cell_type": "code",
   "execution_count": 8,
   "id": "c9491b0c-b9ec-4e12-a59c-ef6f04904b47",
   "metadata": {},
   "outputs": [
    {
     "data": {
      "text/plain": [
       "True"
      ]
     },
     "execution_count": 8,
     "metadata": {},
     "output_type": "execute_result"
    }
   ],
   "source": [
    "from dotenv import load_dotenv\n",
    "load_dotenv()"
   ]
  },
  {
   "cell_type": "code",
   "execution_count": 37,
   "id": "78906348",
   "metadata": {},
   "outputs": [
    {
     "data": {
      "text/plain": [
       "'Explain 아이폰 in one sentence.'"
      ]
     },
     "execution_count": 37,
     "metadata": {},
     "output_type": "execute_result"
    }
   ],
   "source": [
    "### 사용자 정의 Runnable class\n",
    "from langchain_core.runnables import Runnable\n",
    "\n",
    "class MyRunnable(Runnable):\n",
    "    # invoke(): 1개 파라미터는 필수. -> Runnable이 작업할 때 필요한 입력 값.\n",
    "    def invoke(self, input_data:str, config=None):\n",
    "        # 이 Runnable이 해야하는 일을 invoke()에 구현.\n",
    "        ## config: 추가 설정 정보들. RunnableConfig 타입 받는다.-> 호출할 때 dict로 전달.\n",
    "        ### config에 어떤 값을 어떤 key로 넣을 지는 구현하는 쪽에서 결정.\n",
    "        ### lang:언어코드 => 그 코드에 맞는 prompt 문장을 반환하도록 구현.\n",
    "        if config is not None:\n",
    "            # config : {\"configurable\": {\"설정key\":\"설정값\"}} -> chain에서 호출시 config 전달형식\n",
    "            if config['configurable']['lang'] == \"en\":\n",
    "                return f\"Explain {input_data} in one sentence.\"\n",
    "        return f\"{input_data}에 대해서 한문장으로 설명해줘.\"\n",
    "    \n",
    "my_runnable = MyRunnable()\n",
    "my_runnable.invoke(\"사과\")\n",
    "my_runnable.invoke(\"아이폰\", {\"configurable\":{\"lang\":\"en\"}})"
   ]
  },
  {
   "cell_type": "code",
   "execution_count": 38,
   "id": "80ffbeb7",
   "metadata": {},
   "outputs": [
    {
     "name": "stdout",
     "output_type": "stream",
     "text": [
      "사과는 달콤하고 상큼한 맛을 가진 과일로, 건강에 좋은 영양소와 항산화 물질이 풍부하여 다양한 요리에 활용됩니다.\n"
     ]
    }
   ],
   "source": [
    "from langchain_openai import ChatOpenAI\n",
    "model = ChatOpenAI(model=\"gpt-4o-mini\", max_tokens=100)\n",
    "prompt = my_runnable.invoke(\"사과\")\n",
    "res = model.invoke(prompt)\n",
    "print(res.content)"
   ]
  },
  {
   "cell_type": "code",
   "execution_count": 39,
   "id": "afd2c247-a4e3-4b1b-a494-400b077eba54",
   "metadata": {},
   "outputs": [],
   "source": [
    "from langchain_core.output_parsers import StrOutputParser\n",
    "chain = my_runnable | model | StrOutputParser()\n",
    "result = chain.invoke(\"Galaxy s24\", {\"lang\":\"en\"})\n",
    "# chain에서 Runnable로 config를 전달할 때: config={\"configurable\":{\"lang\":\"en\"}})"
   ]
  },
  {
   "cell_type": "code",
   "execution_count": 40,
   "id": "cdbb04b1-00c3-4534-9bed-45ac5064caa8",
   "metadata": {},
   "outputs": [
    {
     "name": "stdout",
     "output_type": "stream",
     "text": [
      "The Samsung Galaxy S24 is an upcoming flagship smartphone expected to feature advanced technology, improved camera capabilities, and enhanced performance, building on the success of its predecessors in the Galaxy S series.\n"
     ]
    }
   ],
   "source": [
    "print(result)"
   ]
  },
  {
   "cell_type": "code",
   "execution_count": null,
   "id": "39c880f6",
   "metadata": {},
   "outputs": [],
   "source": [
    "from langchain_openai import ChatOpenAI\n",
    "from langchain.prompts import ChatPromptTemplate\n",
    "from langchain_core.output_parsers import CommaSeparatedListOutputParser\n",
    "\n",
    "# 실행 순서: prompt -> model -> outputParser\n",
    "model = ChatOpenAI(\n",
    "    model=\"gpt-4o-mini\",\n",
    "    temperature=0.1\n",
    ")\n",
    "parser = CommaSeparatedListOutputParser()\n",
    "# system: 가이드, human: 질문\n",
    "prompt_template = ChatPromptTemplate(\n",
    "    messages=[\n",
    "        (\"system\", \"{format_instruction}.\\n목록의 item은 {count}개를 넘지 안도록 해주세요.\"),\n",
    "        (\"human\", \"{query}\")\n",
    "    ],\n",
    "    partial_variables={\"format_instruction\":parser.get_format_instructions()}\n",
    ")\n",
    "\n",
    "chain = prompt_template | model | parser # RunnableSequence=>Chain\n",
    "\n",
    "result = chain.invoke({\"count\":5, \"query\":\"서울에 가 볼만한 여행지를 알려줘.\"})"
   ]
  },
  {
   "cell_type": "code",
   "execution_count": 35,
   "id": "f5874ef5",
   "metadata": {},
   "outputs": [
    {
     "name": "stdout",
     "output_type": "stream",
     "text": [
      "['경복궁', '남산타워', '인사동', '홍대', '동대문 디자인 플라자']\n"
     ]
    }
   ],
   "source": [
    "print(result)"
   ]
  },
  {
   "cell_type": "code",
   "execution_count": 59,
   "id": "ef8c73aa",
   "metadata": {},
   "outputs": [],
   "source": [
    "# 레시피 요청 -(llm)-> 영어 레시피  한국어로 번역 요청 -llm-> 한국어 레시피\n",
    "# 1. chain(레시피를 알려주는 chain): 레시피요청 -> 레시피 출력(영어)\n",
    "# 2. chain(번역하는 chain): 영어 -> 한국어 번역\n",
    "# 3. 최종 chain: 레시피체인 -> 번역체인\n",
    "\n",
    "##### 레시피 체인\n",
    "model = ChatOpenAI(\n",
    "    model=\"gpt-4o-mini\", \n",
    "    temperature=0.1\n",
    ")\n",
    "chef_template = ChatPromptTemplate(\n",
    "    [\n",
    "        (\"system\", \"You are world-class international chef. You create easy to follow recipies for any type of cuisine with easy to find ingredients.\"),\n",
    "        (\"human\", \"I want to cook {food} food.\")\n",
    "    ]\n",
    ")\n",
    "\n",
    "chef_chain = chef_template | model | StrOutputParser()"
   ]
  },
  {
   "cell_type": "code",
   "execution_count": 44,
   "id": "f3c81a4b-17aa-4649-b2c8-f6d3c5787c77",
   "metadata": {},
   "outputs": [],
   "source": [
    "res = chef_chain.invoke({\"food\":\"steak\"})"
   ]
  },
  {
   "cell_type": "code",
   "execution_count": null,
   "id": "52b2551e-9fc3-440b-8280-bc0d3ea0f91d",
   "metadata": {},
   "outputs": [],
   "source": [
    "print(res.content)"
   ]
  },
  {
   "cell_type": "code",
   "execution_count": 52,
   "id": "ae212bd1",
   "metadata": {},
   "outputs": [],
   "source": [
    "##### 번역 chain\n",
    "translate_template = ChatPromptTemplate(\n",
    "    [\n",
    "        (\"system\", \"당신은 번역가 입니다. 다음 내용을 한국어로 번역해 주세요.\"),\n",
    "        (\"human\", \"{query}\")\n",
    "    ]\n",
    ")\n",
    "\n",
    "translate_chain = translate_template | model | StrOutputParser()\n",
    "\n",
    "# res = translate_chain.invoke({\"query\":\"You are world-class international chef.\"})\n",
    "res = translate_chain.invoke({\"query\":\"Ich bin hungrig.\"})"
   ]
  },
  {
   "cell_type": "code",
   "execution_count": 53,
   "id": "73cf0eda",
   "metadata": {},
   "outputs": [
    {
     "name": "stdout",
     "output_type": "stream",
     "text": [
      "나는 배고파.\n"
     ]
    }
   ],
   "source": [
    "print(res)"
   ]
  },
  {
   "cell_type": "code",
   "execution_count": 60,
   "id": "c71f50f8",
   "metadata": {},
   "outputs": [],
   "source": [
    "# chain도 Runnble Type -> 다른 chain의 컴포넌트로 포함될 수있다.\n",
    "final_chain = chef_chain | translate_chain"
   ]
  },
  {
   "cell_type": "code",
   "execution_count": 61,
   "id": "960c92b3",
   "metadata": {},
   "outputs": [],
   "source": [
    "result = final_chain.invoke({\"food\":\"steak\"})"
   ]
  },
  {
   "cell_type": "code",
   "execution_count": 62,
   "id": "76090d11",
   "metadata": {},
   "outputs": [
    {
     "name": "stdout",
     "output_type": "stream",
     "text": [
      "<class 'str'>\n",
      "좋은 선택입니다! 스테이크는 맛있고 다양한 방식으로 조리할 수 있는 요리입니다. 여기 클래식한 팬 시어드 스테이크와 마늘 버터를 위한 간단하고 쉬운 레시피가 있습니다. 이 레시피는 2인분입니다.\n",
      "\n",
      "### 마늘 버터를 곁들인 팬 시어드 스테이크\n",
      "\n",
      "#### 재료:\n",
      "- 리브아이 또는 등심 스테이크 2개 (약 1인치 두께)\n",
      "- 소금과 갓 간 블랙 페퍼\n",
      "- 올리브 오일 2큰술\n",
      "- 무염 버터 3큰술\n",
      "- 다진 마늘 3쪽\n",
      "- 장식용 신선한 허브 (타임이나 로즈마리 등, 선택 사항)\n",
      "\n",
      "#### 조리 방법:\n",
      "\n",
      "1. **스테이크 준비하기:**\n",
      "   - 스테이크를 냉장고에서 꺼내어 실온에서 약 30분간 두세요. 이렇게 하면 더 고르게 익습니다.\n",
      "   - 종이 타올로 스테이크의 수분을 제거하고, 양면에 소금과 갓 간 블랙 페퍼를 넉넉히 뿌려주세요.\n",
      "\n",
      "2. **팬 가열하기:**\n",
      "   - 중-강 불로 큰 팬(가급적 주철 팬)에 올리브 오일을 넣고 가열합니다. 오일이 반짝이지만 연기가 나지 않을 정도로 가열하세요.\n",
      "\n",
      "3. **스테이크 시어링하기:**\n",
      "   - 뜨거운 팬에 조심스럽게 스테이크를 놓습니다. 팬이 너무 붐비지 않도록 하세요; 필요하다면 한 번에 하나씩 조리하세요.\n",
      "   - 스테이크를 한쪽에서 약 4-5분간 움직이지 않고 시어링합니다. 이렇게 하면 맛있는 크러스트가 생깁니다.\n",
      "\n",
      "4. **뒤집고 버터 추가하기:**\n",
      "   - 집게를 사용하여 스테이크를 뒤집습니다. 팬에 버터와 다진 마늘을 추가합니다.\n",
      "   - 버터가 녹으면서 팬을 약간 기울이고 숟가락을 사용하여 녹은 버터를 스테이크 위에 뿌려줍니다. 이렇게 하면 풍미가 더해지고 스테이크의 윗부분이 익는 데 도움이 됩니다.\n",
      "\n",
      "5. **원하는 익힘 정도로 조리하기:**\n",
      "   - 원하는 익힘 정도에 따라 스테이크를 추가로 3-5분간 더 조리합니다:\n",
      "     - 레어: 125°F (51°C)\n",
      "     - 미디엄 레어: 135°F (57°C)\n",
      "     - 미디엄: 145°F (63°C)\n",
      "     - 미디엄 웰: 150°F (66°C)\n",
      "     - 웰던: 160°F (71°C)\n",
      "   - 정확한 온도를 위해 고기 온도계를 사용하세요.\n",
      "\n",
      "6. **스테이크 휴지시키기:**\n",
      "   - 원하는 익힘 정도로 조리한 후, 스테이크를 팬에서 꺼내어 도마에 놓습니다. 알루미늄 포일로 느슨하게 덮고 약 5-10분간 휴지시킵니다. 이렇게 하면 육즙이 재분배됩니다.\n",
      "\n",
      "7. **서빙하기:**\n",
      "   - 스테이크를 결 반대 방향으로 썰고, 위에 마늘 버터를 뿌려서 제공합니다. 원하시면 신선한 허브로 장식하세요.\n",
      "\n",
      "### 팁:\n",
      "- 스테이크와 함께 매시드 포테이토, 찐 야채 또는 신선한 샐러드 같은 사이드를 곁들여 보세요.\n",
      "- 다양한 양념이나 마리네이드로 풍미를 더해보세요.\n",
      "\n",
      "맛있는 스테이크 저녁을 즐기세요!\n"
     ]
    }
   ],
   "source": [
    "print(type(result))\n",
    "print(result)"
   ]
  },
  {
   "cell_type": "markdown",
   "id": "2194af7c",
   "metadata": {},
   "source": [
    "## RunnablePassThrough\n",
    "1. 입력 값(이전 작업에서 전달한 값)을 다음 체인(작업)으로 그대로 넘길때 사용\n",
    "2. 입력 값에 item(key-value)를 추가해서 다음 체인으로 넘길때 사용\n",
    "- 주로 RunnableParallel(동시에 여러 작업을 처리-병렬처리) 에 넣어 사용."
   ]
  },
  {
   "cell_type": "code",
   "execution_count": null,
   "id": "76f5fe1d",
   "metadata": {},
   "outputs": [
    {
     "data": {
      "text/plain": [
       "{'key': 'value'}"
      ]
     },
     "execution_count": 63,
     "metadata": {},
     "output_type": "execute_result"
    }
   ],
   "source": [
    "from langchain_core.runnables import RunnablePassthrough\n",
    "# 1 그대로 넘기는 것.\n",
    "r = RunnablePassthrough()\n",
    "r.invoke({\"key\":\"value\"})"
   ]
  },
  {
   "cell_type": "code",
   "execution_count": null,
   "id": "33b9340a",
   "metadata": {},
   "outputs": [
    {
     "data": {
      "text/plain": [
       "{'key': 'value', 'new_key': 'value new value'}"
      ]
     },
     "execution_count": 66,
     "metadata": {},
     "output_type": "execute_result"
    }
   ],
   "source": [
    "# 2. item(key-value)을 추가\n",
    "# RunnablePassthrough.assign(key=Callable)  # 입력 dict 에 key:Callable반환값\n",
    "r = RunnablePassthrough.assign(new_key=lambda _input: \" new value\") # 새로운값 추가\n",
    "r = RunnablePassthrough.assign(new_key=lambda _input: _input['key'] + \" new value\") \n",
    "    # 입력 dictionary의 값을 이용해서 생성한 값 추가.\n",
    "# Callable: 파라미터 1개 필수 선언 -> 입력 dictionary\n",
    "r.invoke({\"key\":\"value\"})"
   ]
  },
  {
   "cell_type": "code",
   "execution_count": 67,
   "id": "72a78dca",
   "metadata": {},
   "outputs": [
    {
     "data": {
      "text/plain": [
       "True"
      ]
     },
     "execution_count": 67,
     "metadata": {},
     "output_type": "execute_result"
    }
   ],
   "source": [
    "from dotenv import load_dotenv\n",
    "load_dotenv()"
   ]
  },
  {
   "cell_type": "code",
   "execution_count": null,
   "id": "0d34b9d4",
   "metadata": {},
   "outputs": [],
   "source": [
    "from langchain.prompts import ChatPromptTemplate\n",
    "from langchain_openai import ChatOpenAI\n",
    "from langchain_core.output_parsers import StrOutputParser\n",
    "\n",
    "##### 레시피 체인\n",
    "model = ChatOpenAI(\n",
    "    model=\"gpt-4o-mini\", \n",
    "    temperature=0.1\n",
    ")\n",
    "chef_template = ChatPromptTemplate(\n",
    "    [\n",
    "        (\"system\", \"You are world-class international chef. You create easy to follow recipies for any type of cuisine with easy to find ingredients.\"),\n",
    "        (\"human\", \"I want to cook {food} food.\")\n",
    "    ]\n",
    ")\n",
    "\n",
    "chef_chain = chef_template | model | StrOutputParser()"
   ]
  },
  {
   "cell_type": "code",
   "execution_count": 71,
   "id": "c48034ae",
   "metadata": {},
   "outputs": [
    {
     "name": "stdout",
     "output_type": "stream",
     "text": [
      "أنا جائع.\n"
     ]
    }
   ],
   "source": [
    "##### 번역 chain\n",
    "translate_template = ChatPromptTemplate(\n",
    "    [\n",
    "        (\"system\", \"당신은 {language} 번역가 입니다. 다음 내용을 {language}로 번역해 주세요.\"),\n",
    "        (\"human\", \"{query}\")\n",
    "    ]\n",
    ")\n",
    "\n",
    "translate_chain = translate_template | model | StrOutputParser()\n",
    "\n",
    "# res = translate_chain.invoke({\"query\":\"You are world-class international chef.\"})\n",
    "res = translate_chain.invoke({\"query\":\"Ich bin hungrig.\", \"language\":\"아랍어\"})\n",
    "print(res)"
   ]
  },
  {
   "cell_type": "code",
   "execution_count": null,
   "id": "efaccac5",
   "metadata": {},
   "outputs": [],
   "source": [
    "# chain = 작업1 | 작업2 | 작업3 | ...\n",
    "## 한 작업에서 두개 이상의 Runnable이 실행되야 할 경우. - RunnableParallel\n",
    "# chain = 작업1(두개가 병렬로 처리) | ==> RunnableParallel 에 두개작업을 묶어 준다.\n",
    "# LCEL의 표현식 - {key1:작업A, key2:작업B} | 작업2\n",
    "### 작업X->Runnable -> 작업A가 처리한 결과를 key1, 작업 B가 처리한 결과를 key2 에 넣은 뒤 \n",
    "###  그 dictionary를 다음 chain으로 넘겨준다."
   ]
  },
  {
   "cell_type": "code",
   "execution_count": null,
   "id": "991f507b",
   "metadata": {},
   "outputs": [],
   "source": [
    "# \"query\":runnable호출->결과를 대입\n",
    "{\"query\":chef_chain, \"language\":RunnablePassthrough()} \n",
    "\n",
    "\n",
    "{\"query\":\"x.........\", \"language\":\"한국어\"}\n",
    "translate_template.invoke({\"query\":\"x.........\", \"language\":\"한국어\"})"
   ]
  },
  {
   "cell_type": "code",
   "execution_count": null,
   "id": "25caba35",
   "metadata": {},
   "outputs": [],
   "source": [
    "final_chain = chef_chain | translate_chain\n",
    "\n",
    "final_chain = ({\"query\":chef_chain, \"language\":RunnablePassthrough()} \n",
    "               | translate_chain)\n",
    "# chef_chain 입력: food - final_chain.invoke() 호출할 때 food:음식이름  으로 전달.\n",
    "# translate_chain: \n",
    "#     - query: chef_chain의 output\n",
    "#     - language: 직접입력 - final_chain의 입력중 language key값을 그대로 전달.\n",
    "result = final_chain.invoke({\"food\":\"steak\", \"language\":\"한국어\"})"
   ]
  },
  {
   "cell_type": "code",
   "execution_count": 73,
   "id": "bbe5d597",
   "metadata": {},
   "outputs": [
    {
     "name": "stdout",
     "output_type": "stream",
     "text": [
      "훌륭한 선택입니다! 스테이크는 맛있고 다재다능한 요리입니다. 여기 클래식 팬 시어드 스테이크와 마늘 버터를 만드는 간단한 레시피가 있습니다. 따라하기 쉽고 몇 가지 재료만 필요합니다.\n",
      "\n",
      "### 마늘 버터를 곁들인 팬 시어드 스테이크\n",
      "\n",
      "#### 재료:\n",
      "- 리브아이 또는 등심 스테이크 2개 (약 1인치 두께)\n",
      "- 소금과 후추 (기호에 따라)\n",
      "- 올리브 오일 2큰술\n",
      "- 무염 버터 3큰술\n",
      "- 다진 마늘 3쪽\n",
      "- 신선한 허브 (타임이나 로즈마리 등, 선택 사항)\n",
      "- 레몬 조각 (서빙용, 선택 사항)\n",
      "\n",
      "#### 조리 방법:\n",
      "\n",
      "1. **스테이크 준비하기:**\n",
      "   - 요리하기 약 30분 전에 냉장고에서 스테이크를 꺼내어 실온으로 두세요. 이렇게 하면 고기가 고르게 익습니다.\n",
      "   - 종이 타올로 스테이크의 수분을 제거하고, 양면에 소금과 후추를 넉넉히 뿌려 간을 합니다.\n",
      "\n",
      "2. **팬 가열하기:**\n",
      "   - 큰 프라이팬(가급적 주철 팬)에 올리브 오일을 중-강불로 가열하여 기름이 반짝이지만 연기가 나지 않도록 합니다.\n",
      "\n",
      "3. **스테이크 시어링하기:**\n",
      "   - 뜨거운 팬에 조심스럽게 스테이크를 올립니다. 팬이 너무 붐비지 않도록 하고, 필요하다면 한 번에 한두 개씩 요리합니다.\n",
      "   - 스테이크를 한쪽 면에서 약 4-5분 동안 움직이지 않고 시어링합니다. 이렇게 하면 맛있는 크러스트가 생깁니다.\n",
      "\n",
      "4. **뒤집고 버터 추가하기:**\n",
      "   - 집게를 사용하여 스테이크를 뒤집습니다. 팬에 버터, 다진 마늘, 허브(사용하는 경우)를 추가합니다.\n",
      "   - 버터가 녹으면서 팬을 약간 기울이고 숟가락을 사용하여 녹은 버터를 스테이크 위에 끼얹습니다. 미디엄 레어를 원하시면 추가로 3-4분 더 요리하거나, 더 익힌 스테이크를 원하시면 더 오래 요리합니다.\n",
      "\n",
      "5. **익힘 정도 확인하기:**\n",
      "   - 고기 온도계를 사용하여 내부 온도를 확인합니다:\n",
      "     - 레어: 125°F (52°C)\n",
      "     - 미디엄 레어: 135°F (57°C)\n",
      "     - 미디엄: 145°F (63°C)\n",
      "     - 미디엄 웰: 150°F (66°C)\n",
      "     - 웰던: 160°F (71°C)\n",
      "\n",
      "6. **스테이크 휴지시키기:**\n",
      "   - 원하는 익힘 정도로 조리한 후, 스테이크를 팬에서 꺼내 도마에 올립니다. 알루미늄 포일로 느슨하게 덮고 약 5-10분 동안 휴지시킵니다. 이렇게 하면 육즙이 재분배됩니다.\n",
      "\n",
      "7. **서빙하기:**\n",
      "   - 스테이크를 결 반대 방향으로 썰고, 위에 마늘 버터를 뿌려서 제공합니다. 원하시면 신선한 맛을 위해 옆에 레몬 조각을 추가하세요.\n",
      "\n",
      "### 팁:\n",
      "- 스테이크와 함께 매시드 포테이토, 구운 채소 또는 신선한 샐러드와 같은 사이드를 곁들여 완벽한 식사를 만들어 보세요.\n",
      "- 기호에 맞게 다양한 양념이나 마리네이드를 실험해 보세요.\n",
      "\n",
      "맛있는 스테이크 저녁을 즐기세요!\n"
     ]
    }
   ],
   "source": [
    "print(result)"
   ]
  },
  {
   "cell_type": "code",
   "execution_count": 74,
   "id": "9ad4ebbe",
   "metadata": {},
   "outputs": [],
   "source": [
    "result2 = final_chain.invoke({\"food\":\"steak\", \"language\":\"일본어\"})"
   ]
  },
  {
   "cell_type": "code",
   "execution_count": 75,
   "id": "66f49353",
   "metadata": {},
   "outputs": [
    {
     "name": "stdout",
     "output_type": "stream",
     "text": [
      "素晴らしい選択です！ステーキは美味しくて多様性のある料理で、さまざまな方法で調理できます。ここでは、クラシックなガーリックバターのパンシアードステーキのシンプルで簡単なレシピをご紹介します。このレシピは2人分です。\n",
      "\n",
      "### ガーリックバターのパンシアードステーキ\n",
      "\n",
      "#### 材料：\n",
      "- リブアイまたはサーロインステーキ 2枚（約1インチの厚さ）\n",
      "- 塩と胡椒、適量\n",
      "- オリーブオイル 大さじ2\n",
      "- 無塩バター 大さじ3\n",
      "- ニンニク 3片、みじん切り\n",
      "- 新鮮なハーブ（タイムやローズマリーなど）、飾り用（任意）\n",
      "\n",
      "#### 作り方：\n",
      "\n",
      "1. **ステーキの準備：**\n",
      "   - ステーキを冷蔵庫から出し、室温で約30分置きます。これにより、均等に調理されます。\n",
      "   - ペーパータオルでステーキの水分を拭き取り、両面に塩と胡椒をたっぷり振ります。\n",
      "\n",
      "2. **フライパンを熱する：**\n",
      "   - 中高火の大きなフライパン（できれば鋳鉄製）にオリーブオイルを加え、煙が出ない程度に熱します。\n",
      "\n",
      "3. **ステーキを焼く：**\n",
      "   - 熱いフライパンにステーキを慎重に置きます。パンが混雑しないようにし、必要に応じて1枚ずつ焼きます。\n",
      "   - ステーキを動かさずに片面を約4-5分焼きます。これにより、良いクラストができます。\n",
      "\n",
      "4. **ひっくり返してバターを加える：**\n",
      "   - トングを使ってステーキをひっくり返します。フライパンにバターとみじん切りのニンニクを加えます。\n",
      "   - バターが溶けるにつれて、スプーンを使って溶けたバターとニンニクでステーキにバスティングします。ミディアムレアの場合はさらに3-4分焼き、好みに応じて長く焼きます。\n",
      "\n",
      "5. **焼き加減を確認する：**\n",
      "   - 肉用温度計を使って内部温度を確認します：\n",
      "     - レア：125°F（52°C）\n",
      "     - ミディアムレア：135°F（57°C）\n",
      "     - ミディアム：145°F（63°C）\n",
      "     - ミディアムウェル：150°F（66°C）\n",
      "     - ウェルダン：160°F（71°C）\n",
      "\n",
      "6. **ステーキを休ませる：**\n",
      "   - お好みの焼き加減になったら、ステーキをフライパンから取り出し、まな板に置きます。アルミホイルでゆるく覆い、約5-10分休ませます。これにより、肉汁が再分配されます。\n",
      "\n",
      "7. **サーブする：**\n",
      "   - ステーキを繊維に対してスライスし、上にガーリックバターをかけて提供します。必要に応じて新鮮なハーブで飾ります。\n",
      "\n",
      "### ヒント：\n",
      "- ステーキにはマッシュポテト、ロースト野菜、または新鮮なサラダなどのサイドを合わせてください。\n",
      "- さまざまな調味料やマリネで風味を加えることも自由に試してみてください。\n",
      "\n",
      "美味しいステーキディナーをお楽しみください！\n"
     ]
    }
   ],
   "source": [
    "print(result2)"
   ]
  },
  {
   "cell_type": "code",
   "execution_count": null,
   "id": "7f5c200f",
   "metadata": {},
   "outputs": [],
   "source": []
  },
  {
   "cell_type": "markdown",
   "id": "01456936-8643-4dbc-8771-46678243d46f",
   "metadata": {},
   "source": [
    "## 사용자 함수를 chain으로 정의\n",
    "- 임의의 함수를 Runnable로 정의 할 수있다.\n",
    "    - LangChain 에서 제공하지 않는 기능을 Chain으로 만들 때 유용한다.\n",
    "- LangChain에서는 Runnable로 사용되는 사용자 정의 함수를 **Runnable Lambda** 라고 한다.\n",
    "- 함수를 Runnable 로 명시하는데는 다음 두가지 방법이 있다.\n",
    "1. `RunnableLambda` 이용\n",
    "   - `RunnableLambda(함수)`\n",
    "3. `@chain` 데코레이터 이용\n",
    "   - ```python\n",
    "     @chain\n",
    "     def func():\n",
    "         ...\n",
    "    ```\n",
    "### Runnable 로 정의 하는 함수 정의\n",
    "- 이전 Chain의 출력을 입력 받는 파라미터를 한개 선언한다.\n",
    "- 만약 함수가 여러개의 인자를 받는 경우 단일 입력을 받아들이고 이를 여러 인수로 풀어내는 래퍼 함수를 작성하여 Runnable로 만든다.\n",
    "```python\n",
    "def plus(num1, num2):\n",
    "    ...\n",
    "\n",
    "def wrapper_plus(nums:dict|list):\n",
    "    return plus(nums['num1'], nums['num2'])\n",
    "```\n",
    "- Chain의 실행결과를 return 한다."
   ]
  },
  {
   "cell_type": "code",
   "execution_count": 77,
   "id": "8f2616e7-27df-4012-8d54-e1d7cdaae11b",
   "metadata": {},
   "outputs": [
    {
     "data": {
      "text/plain": [
       "'Python에 대해 설명해줘.'"
      ]
     },
     "execution_count": 77,
     "metadata": {},
     "output_type": "execute_result"
    }
   ],
   "source": [
    "from langchain_core.runnables import RunnableLambda\n",
    "# RunnableLambda(함수): 함수-필수파라미터:1 (invoke()를 통해 전달될 인수값.)\n",
    "r_lambda = RunnableLambda(lambda _input : f\"{_input}에 대해 설명해줘.\")\n",
    "r_lambda.invoke(\"Python\")"
   ]
  },
  {
   "cell_type": "code",
   "execution_count": 79,
   "id": "26c3436c-dc85-432b-8355-1a144af4577e",
   "metadata": {},
   "outputs": [
    {
     "name": "stdout",
     "output_type": "stream",
     "text": [
      "파이썬(Python)은 1991년 귀도 반 로썸(Guido van Rossum)에 의해 처음 개발된 고급 프로그래밍 언어입니다. 파이썬은 코드의 가독성이 뛰어나고, 문법이 간결하여 배우기 쉽고 사용하기 편리한 언어로 널리 알려져 있습니다. 다음은 파이썬의 주요 특징과 장점입니다.\n",
      "\n",
      "### 주요 특징\n",
      "\n",
      "1. **가독성**: 파이썬은 코드가 명확하고 읽기 쉬워서, 다른 프로그래머가 작성한 코드를 이해하기 쉽습니다.\n",
      "\n",
      "2. **다양한 용도**: 웹 개발, 데이터 분석, 인공지능, 머신러닝, 자동화 스크립트, 게임 개발 등 다양한 분야에서 사용됩니다.\n",
      "\n",
      "3. **풍부한 라이브러리**: 파이썬은 다양한 표준 라이브러리와 서드파티 라이브러리를 제공하여, 복잡한 작업을 쉽게 수행할 수 있습니다. 예를 들어, NumPy, Pandas, Matplotlib, TensorFlow, Django 등이 있습니다.\n",
      "\n",
      "4. **인터프리터 언어**: 파이썬은 인터프리터 언어로, 코드를 한 줄씩 실행할 수 있어 디버깅이 용이합니다.\n",
      "\n",
      "5. **객체 지향 프로그래밍**: 파이썬은 객체 지향 프로그래밍(OOP)을 지원하여, 코드의 재사용성과 유지보수성을 높입니다.\n",
      "\n",
      "6. **크로스 플랫폼**: 파이썬은 Windows, macOS, Linux 등 다양한 운영 체제에서 실행할 수 있습니다.\n",
      "\n",
      "### 장점\n",
      "\n",
      "- **쉬운 학습 곡선**: 초보자에게 적합하여, 프로그래밍을 처음 배우는 사람들도 쉽게 접근할 수 있습니다.\n",
      "- **커뮤니티 지원**: 활발한 사용자 커뮤니티가 있어, 문제 해결이나 정보 공유가 용이합니다.\n",
      "- **빠른 개발**: 간결한 문법 덕분에 개발 속도가 빠르며, 프로토타입을 신속하게 만들 수 있습니다.\n",
      "\n",
      "### 사용 예시\n",
      "\n",
      "- **웹 개발**: Django, Flask와 같은 프레임워크를 사용하여 웹 애플리케이션을 개발할 수 있습니다.\n",
      "- **데이터 분석**: Pandas와 NumPy를 사용하여 데이터 처리 및 분석을 수행할 수 있습니다.\n",
      "- **인공지능 및 머신러닝**: TensorFlow, Keras, PyTorch와 같은 라이브러리를 사용하여 AI 모델을 구축할 수 있습니다.\n",
      "\n",
      "파이썬은 그 유연성과 강력함 덕분에 많은 개발자와 기업에서 선호하는 언어입니다.\n"
     ]
    }
   ],
   "source": [
    "chain = r_lambda | model\n",
    "res = chain.invoke(\"python\")\n",
    "print(res.content)"
   ]
  },
  {
   "cell_type": "code",
   "execution_count": 84,
   "id": "28dd2ad7-ea19-44a4-93b8-a74c80e3b96b",
   "metadata": {},
   "outputs": [],
   "source": [
    "from langchain_core.runnables import chain\n",
    "## @chain - chain을 구성할 때 사용. (RunnableLambda-개별 작업단위 구현.)\n",
    "# Runnable\n",
    "@chain\n",
    "def custom_chain(topic: str):\n",
    "    # 이야기를 생성하는 체인\n",
    "    # 이야기를 요약하는 체인\n",
    "    story_prompt = PromptTemplate(\n",
    "        template=\"{topic}에 대한 재미있는 이야기를 만들어 주세요.\\n이야기는 30문장 이내로 만들어 주세요.\"\n",
    "    )\n",
    "    story_model = ChatOpenAI(model=\"gpt-4o\", temperature=1)\n",
    "    story_chain = story_prompt | story_model | StrOutputParser()\n",
    "    story_result = story_chain.invoke({\"topic\":topic})\n",
    "\n",
    "    # story_result 를 summary_chain 전달 하기전에 전처리등을 할 수있다.\n",
    "\n",
    "    summary_prompt = PromptTemplate(\n",
    "        template=\"다음 내용을 2문장으로 요약해줘.\\n[요약할 내용]\\n{content}\"\n",
    "    )\n",
    "    summary_model = ChatOpenAI(model=\"gpt-4o-mini\")\n",
    "    summary_chain = summary_prompt | summary_model | StrOutputParser()\n",
    "    summary_result = summary_chain.invoke({\"content\":story_result})\n",
    "\n",
    "    # 최종 결과 뿐아니라 중간결과도 사용할 수있다.\n",
    "    return {\"story\":story_result, \"summary\":summary_result}\n"
   ]
  },
  {
   "cell_type": "code",
   "execution_count": null,
   "id": "d3751a1e",
   "metadata": {},
   "outputs": [],
   "source": [
    "res = custom_chain.invoke(\"곰과 호랑의 우정\")"
   ]
  },
  {
   "cell_type": "code",
   "execution_count": 86,
   "id": "cb6eba27",
   "metadata": {},
   "outputs": [
    {
     "name": "stdout",
     "output_type": "stream",
     "text": [
      "옛날 옛적, 깊은 숲속에 곰과 호랑이가 살고 있었습니다. 곰은 성격이 온순하고 인내심이 많았으며, 호랑이는 활발하고 용감했습니다. 처음에는 둘은 서로의 차이 때문에 서로를 이해하기 어려웠습니다. 곰은 호랑이의 활달함을 가끔 무서워했고, 호랑이는 곰의 느긋함에 답답함을 느꼈습니다.\n",
      "\n",
      "어느 날, 숲 속에서 커다란 폭풍이 불어 닥쳤습니다. 나무들이 거세게 흔들리고, 동물들은 모두 안전한 곳을 찾아 도망쳤습니다. 곰과 호랑이는 서로 다른 방향으로 달려갔지만, 결국 같은 동굴에 도착하게 되었습니다. 동굴 안에서 둘은 서로를 마주보고 어색하게 웃었습니다.\n",
      "\n",
      "폭풍이 지나갈 동안, 곰은 호랑이에게 맛있는 벌꿀을 나누어 주었습니다. 호랑이는 곰에게 이야기꾼으로서의 자신의 재능을 보여주며, 재미있는 이야기들을 들려주었습니다. 그들은 서로의 이야기를 들으며 마음의 벽을 허물기 시작했습니다.\n",
      "\n",
      "폭풍이 그친 후, 곰과 호랑이는 함께 숲을 거닐었습니다. 곰은 호랑이에게 자연 속에서 어떻게 여유를 즐기는지 가르쳤고, 호랑이는 곰에게 빠르게 달리는 법을 알려주었습니다. 서로에게 배움을 주고 받으며 그들은 점점 더 가까워졌습니다.\n",
      "\n",
      "계절이 바뀌면서 두 친구는 숲에서 팀을 이루어 다른 동물들을 도왔습니다. 곰은 큰 힘으로 장애물을 옮겼고, 호랑이는 빠른 발로 발 빠르게 문제를 해결했습니다. 그들의 노력에 숲의 다른 동물들은 큰 감명을 받았습니다.\n",
      "\n",
      "결국, 곰과 호랑이는 자신의 차이가 오히려 큰 장점이 될 수 있음을 깨달았습니다. 그들은 서로의 부족한 부분을 보완하며, 더욱 끈끈한 우정을 쌓아갔습니다. 그리고 그들의 이야기는 숲 속 어딘가에서 오랜 시간 동안 전해져 내려오게 되었습니다.\n",
      "\n",
      "이렇게 곰과 호랑이는 서로 다름을 이해하고 존중하는 법을 배워, 숲 속의 가장 친한 친구로서 평생을 함께하였습니다. 그들은 서로에게 없어서는 안 될 존재가 되었고, 이 우정 이야기는 지금도 전설처럼 전해지고 있습니다.\n"
     ]
    }
   ],
   "source": [
    "print(res['story'])"
   ]
  },
  {
   "cell_type": "code",
   "execution_count": 87,
   "id": "dbbf565c",
   "metadata": {},
   "outputs": [
    {
     "name": "stdout",
     "output_type": "stream",
     "text": [
      "곰과 호랑이는 성격이 달라 처음에는 서로를 이해하지 못했지만, 폭풍을 겪으며 함께 시간을 보내고 서로의 장점을 배우면서 가까워졌습니다. 결국 그들은 서로의 차이를 존중하고 보완하며 깊은 우정을 쌓았고, 이 이야기는 숲 속에서 전해져 오고 있습니다.\n"
     ]
    }
   ],
   "source": [
    "print(res['summary'])"
   ]
  },
  {
   "cell_type": "code",
   "execution_count": null,
   "id": "59552010",
   "metadata": {},
   "outputs": [],
   "source": [
    "  "
   ]
  },
  {
   "cell_type": "markdown",
   "id": "1c8b48ae-b4b2-412f-a7b5-17e9c1ebc1a4",
   "metadata": {},
   "source": [
    "# Cache\n",
    "\n",
    "- 응답 결과를 저장해서 같은 질문이 들어오면 LLM에 요청하지 않고 저장된 결과를 보여주도록 한다.\n",
    "    - 처리속도와 비용을 절감할 수 있다.\n",
    "    - 특히 chatbot같이 비슷한 질문을 하는 경우 유용하다.\n",
    "- 저장 방식은 `메모리`, `sqlite` 등 다양한 방식을 지원한다.\n",
    "    - https://python.langchain.com/docs/how_to/llm_caching/\n",
    "```python\n",
    "set_llm_cache(Cache객체)\n",
    "```"
   ]
  },
  {
   "cell_type": "code",
   "execution_count": 96,
   "id": "a189e830",
   "metadata": {},
   "outputs": [],
   "source": [
    "from langchain.cache import InMemoryCache, SQLiteCache  # cache 저장소별 클래스를 제공.\n",
    "from langchain.globals import set_llm_cache\n",
    "\n",
    "# model 호출 전에 set_llm_cache(저장소객체) 를 실행해서 cache 사용을 선언하면 됨.\n",
    "# set_llm_cache(InMemoryCache())\n",
    "set_llm_cache(SQLiteCache(\"cache.sqlite\"))  #SQLite의 DB에 저장 -> file db\n"
   ]
  },
  {
   "cell_type": "code",
   "execution_count": 97,
   "id": "608823ac",
   "metadata": {},
   "outputs": [],
   "source": [
    "res = final_chain.invoke({\"food\":\"pasta\", \"language\":\"한국어\"})"
   ]
  },
  {
   "cell_type": "code",
   "execution_count": 99,
   "id": "3e8c002f-7f0c-4357-b3ae-efe8569f04cf",
   "metadata": {},
   "outputs": [],
   "source": [
    "res2 = final_chain.invoke({\"food\":\"pasta\", \"language\":\"한국어\"})"
   ]
  },
  {
   "cell_type": "code",
   "execution_count": 94,
   "id": "b74a46a8-703c-452b-9d57-e80749c3f528",
   "metadata": {},
   "outputs": [
    {
     "name": "stdout",
     "output_type": "stream",
     "text": [
      "훌륭한 선택입니다! 파스타는 다재다능하며 여러 가지 맛있는 방법으로 준비할 수 있습니다. 약 20분 안에 만들 수 있는 **갈릭 버터 파스타**의 간단한 레시피를 소개합니다. 맛이 풍부하고 만들기 쉬우며, 몇 가지 재료만 필요합니다.\n",
      "\n",
      "### 갈릭 버터 파스타\n",
      "\n",
      "#### 재료:\n",
      "- 스파게티 또는 좋아하는 파스타 8 oz (225 g)\n",
      "- 무염 버터 4 큰술\n",
      "- 다진 마늘 4 쪽\n",
      "- 레드 페퍼 플레이크 1/4 작은술 (선택 사항, 약간의 매운맛을 위해)\n",
      "- 소금, 기호에 따라\n",
      "- 갓 갈은 후추, 기호에 따라\n",
      "- 파마산 치즈 1/4 컵 (서빙용 추가)\n",
      "- 다진 신선한 파슬리 (장식용)\n",
      "- 레몬 조각 (선택 사항, 서빙용)\n",
      "\n",
      "#### 조리 방법:\n",
      "\n",
      "1. **파스타 삶기:**\n",
      "   - 큰 냄비에 소금을 넣은 물을 끓입니다. 파스타를 넣고 포장지의 지시에 따라 알 덴테가 될 때까지 삶습니다. 약 1컵의 파스타 물을 남겨두고, 나머지는 물기를 빼줍니다.\n",
      "\n",
      "2. **갈릭 버터 소스 준비:**\n",
      "   - 중불로 큰 팬에 버터를 녹입니다.\n",
      "   - 다진 마늘과 레드 페퍼 플레이크(사용하는 경우)를 추가합니다. 마늘이 향이 나지만 갈색이 되지 않을 때까지 약 1-2분간 볶습니다.\n",
      "\n",
      "3. **파스타와 소스 결합:**\n",
      "   - 물기를 뺀 파스타를 갈릭 버터가 있는 팬에 넣습니다. 파스타가 고루 코팅되도록 잘 섞어줍니다.\n",
      "   - 파스타가 너무 건조해 보이면, 남겨둔 파스타 물을 한 큰술씩 추가하여 원하는 농도가 될 때까지 조절합니다.\n",
      "\n",
      "4. **간 맞추기:**\n",
      "   - 소금과 갓 갈은 후추로 기호에 맞게 간을 맞춥니다. 파마산 치즈를 넣고 녹을 때까지 잘 섞어줍니다.\n",
      "\n",
      "5. **서빙:**\n",
      "   - 파스타를 접시에 담고 다진 파슬리와 추가 파마산 치즈로 장식합니다. 원하시면 신선한 레몬즙을 위해 레몬 조각을 곁들여 서빙합니다.\n",
      "\n",
      "### 팁:\n",
      "- 시금치, 체리 토마토, 브로콜리와 같은 익힌 채소나 구운 치킨, 새우와 같은 단백질을 추가하여 더 완전한 식사로 만들 수 있습니다.\n",
      "- 개인의 취향에 따라 마늘과 레드 페퍼 플레이크의 양을 조절해도 좋습니다.\n",
      "\n",
      "맛있는 갈릭 버터 파스타를 즐기세요!\n"
     ]
    }
   ],
   "source": [
    "print(res)"
   ]
  },
  {
   "cell_type": "code",
   "execution_count": 95,
   "id": "520effd5-677c-46e3-9068-553e973bfea4",
   "metadata": {},
   "outputs": [
    {
     "name": "stdout",
     "output_type": "stream",
     "text": [
      "훌륭한 선택입니다! 파스타는 다재다능하며 여러 가지 맛있는 방법으로 준비할 수 있습니다. 약 20분 안에 만들 수 있는 **갈릭 버터 파스타**의 간단한 레시피를 소개합니다. 맛이 풍부하고 만들기 쉬우며, 몇 가지 재료만 필요합니다.\n",
      "\n",
      "### 갈릭 버터 파스타\n",
      "\n",
      "#### 재료:\n",
      "- 스파게티 또는 좋아하는 파스타 8 oz (225 g)\n",
      "- 무염 버터 4 큰술\n",
      "- 다진 마늘 4 쪽\n",
      "- 레드 페퍼 플레이크 1/4 작은술 (선택 사항, 약간의 매운맛을 위해)\n",
      "- 소금, 기호에 따라\n",
      "- 갓 갈은 후추, 기호에 따라\n",
      "- 파마산 치즈 1/4 컵 (서빙용 추가)\n",
      "- 다진 신선한 파슬리 (장식용)\n",
      "- 레몬 조각 (선택 사항, 서빙용)\n",
      "\n",
      "#### 조리 방법:\n",
      "\n",
      "1. **파스타 삶기:**\n",
      "   - 큰 냄비에 소금을 넣은 물을 끓입니다. 파스타를 넣고 포장지의 지시에 따라 알 덴테가 될 때까지 삶습니다. 약 1컵의 파스타 물을 남겨두고, 나머지는 물기를 빼줍니다.\n",
      "\n",
      "2. **갈릭 버터 소스 준비:**\n",
      "   - 중불로 큰 팬에 버터를 녹입니다.\n",
      "   - 다진 마늘과 레드 페퍼 플레이크(사용하는 경우)를 추가합니다. 마늘이 향이 나지만 갈색이 되지 않을 때까지 약 1-2분간 볶습니다.\n",
      "\n",
      "3. **파스타와 소스 결합:**\n",
      "   - 물기를 뺀 파스타를 갈릭 버터가 있는 팬에 넣습니다. 파스타가 고루 코팅되도록 잘 섞어줍니다.\n",
      "   - 파스타가 너무 건조해 보이면, 남겨둔 파스타 물을 한 큰술씩 추가하여 원하는 농도가 될 때까지 조절합니다.\n",
      "\n",
      "4. **간 맞추기:**\n",
      "   - 소금과 갓 갈은 후추로 기호에 맞게 간을 맞춥니다. 파마산 치즈를 넣고 녹을 때까지 잘 섞어줍니다.\n",
      "\n",
      "5. **서빙:**\n",
      "   - 파스타를 접시에 담고 다진 파슬리와 추가 파마산 치즈로 장식합니다. 원하시면 신선한 레몬즙을 위해 레몬 조각을 곁들여 서빙합니다.\n",
      "\n",
      "### 팁:\n",
      "- 시금치, 체리 토마토, 브로콜리와 같은 익힌 채소나 구운 치킨, 새우와 같은 단백질을 추가하여 더 완전한 식사로 만들 수 있습니다.\n",
      "- 개인의 취향에 따라 마늘과 레드 페퍼 플레이크의 양을 조절해도 좋습니다.\n",
      "\n",
      "맛있는 갈릭 버터 파스타를 즐기세요!\n"
     ]
    }
   ],
   "source": [
    "print(res2)"
   ]
  }
 ],
 "metadata": {
  "kernelspec": {
   "display_name": "langchain",
   "language": "python",
   "name": "python3"
  },
  "language_info": {
   "codemirror_mode": {
    "name": "ipython",
    "version": 3
   },
   "file_extension": ".py",
   "mimetype": "text/x-python",
   "name": "python",
   "nbconvert_exporter": "python",
   "pygments_lexer": "ipython3",
   "version": "3.12.7"
  }
 },
 "nbformat": 4,
 "nbformat_minor": 5
}
