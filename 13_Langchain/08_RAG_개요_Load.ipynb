{
 "cells": [
  {
   "cell_type": "markdown",
   "id": "2f7f2a80-97fa-43a4-836a-f5141e7764cf",
   "metadata": {},
   "source": [
    "# RAG = Vector Embedding + LLM\n",
    "\n",
    "[RAG](https://python.langchain.com/v0.1/docs/modules/data_connection/)는 Retrieval-Augmented Generation의 약자로 LLM 모델이 특정 문서에 근거하여 보다 **정확한 답변**을 할 수 있도록 하는 기법. 자체적으로 구축한 DB나 외부 DB에서 사용자 질의에 대해 답변할 수 있는 근거 문서를 찾고, 이를 질문과 함께 LLM에게 전달하여 답변하게 한다. 이렇게 하므로써 LLM 모델이 학습하지 않은 내용에 대해 응답할 수있으며, 환각 현상 (hallucination) 이 줄어든 답변을 생성할 수있다.\n",
    "\n",
    "## RAG와 Fine tuning\n",
    "\n",
    "- **Fine tuning**\n",
    "    - 범용적인 대용량의 데이터로 학습된 사전 학습 모델(pre-trained model)에 모델이 처리하기 바라는 특정 도메인 데이터를 추로 학습시켜 맞춤형 모델로 업데이트 하는 방식이다.\n",
    "    - **장점**\n",
    "      - 도메인 최적화되어 높은 성능을 낼 수있다.\n",
    "    - **단점**\n",
    "      - 학습에 시간과 노력이 크게 든다. \n",
    "      - 실시간 정보가 반영되지 못한다. 그래서 새로운 데이터가 업데이트 되는 경우 재학습을 시켜야 한다.\n",
    "- **RAG**\n",
    "  - 장점\n",
    "    - 최신정보를 반영하는 것이 쉽다. "
   ]
  },
  {
   "cell_type": "markdown",
   "id": "9017ca94-32e0-4460-8937-90a8d92ca07b",
   "metadata": {},
   "source": [
    "## RAG 작동 단계\n",
    "1. 정보 저장\n",
    "    1. **Load**: 원본 text 데이터를 읽어온다.\n",
    "    2. **Split**: Load한 데이터를 작은 덩어리(chunk)로 나눈다.\n",
    "    3. **Embedding**: text를 embedding vector로 변환한다.\n",
    "    4. **Store**: Embedding된 chunk를 vector db에 저장한다.\n",
    "   \n",
    "![rag](figures/rag1.png)\n",
    "\n",
    "2. 탐색, 질의, 생성\n",
    "    1. **Retrieve**: 질문과 관련있는 vector db에서 검색한다.\n",
    "    2. **Query**: 질문과 검색한 내용을 prompt로 만들어 LLM에 질의한다.\n",
    "    3. **Generation**: LLM은 받은 query에 대한 답변을 생성한다.\n",
    "   \n",
    "- RAG 흐름\n",
    "  \n",
    "![Retrieve and Generation](figures/rag2.png)\n"
   ]
  },
  {
   "cell_type": "markdown",
   "id": "6879082c-2366-49e0-a657-be14450a521e",
   "metadata": {},
   "source": [
    "## RAG 작동 단계\n",
    "1. 정보 저장\n",
    "    1. **Load**: 원본 text 데이터를 읽어온다.\n",
    "    2. **Split**: Load한 데이터를 작은 덩어리(chunk)로 나눈다.\n",
    "    3. **Embedding**: text를 embedding vector로 변환한다.\n",
    "    4. **Store**: Embedding된 chunk를 vector db에 저장한다.\n",
    "   \n",
    "![rag](figures/rag1.png)\n",
    "\n",
    "2. 탐색, 질의, 생성\n",
    "    1. **Retrieve**: 질문과 관련있는 vector db에서 검색한다.\n",
    "    2. **Query**: 질문과 검색한 내용을 prompt로 만들어 LLM에 질의한다.\n",
    "    3. **Generation**: LLM은 받은 query에 대한 답변을 생성한다.\n",
    "   \n",
    "- RAG 흐름\n",
    "  \n",
    "![Retrieve and Generation](figures/rag2.png)\n"
   ]
  },
  {
   "cell_type": "code",
   "execution_count": null,
   "id": "9e7e3d03-2250-4c79-aa83-7faf709ba4cc",
   "metadata": {},
   "outputs": [],
   "source": []
  },
  {
   "cell_type": "markdown",
   "id": "49ca2070-4f0a-4979-84b1-64190cc62eef",
   "metadata": {},
   "source": [
    "# Loader\n",
    "\n",
    "![rag_load](figures/rag_load.png)\n",
    "\n",
    "- 다양한 문서 형식(format)에 맞춰 읽어오는 다양한 Loader 들이 있다.\n",
    "  - https://python.langchain.com/docs/how_to/#document-loaders\n",
    "  - 3rd party library(ppt, github 등등 다양한 3rd party lib도 있음. ) 들과 연동해 다양한 형식의 문서를 읽어올 수 있다.\n",
    "    - https://python.langchain.com/docs/integrations/document_loaders/\n",
    "- **모든 Loader는 기본적으로 동일한 interface(사용법)로 호출할 수있다.**\n",
    "- **반환타입**\n",
    "  - **list[Document]**\n",
    "  - Load 한 문서는 Document객체에 정보들을 넣는다. 여러 문서를 읽을 수 있기 대문에 list에 묶어서 반환한다.\n",
    "    - **Document 속성**\n",
    "      - page_content: 문서의 내용\n",
    "      - metadata(option): 문서에 대한 메타데이터(정보)를 dict 형태로 저장한다. \n",
    "      - id(option): 문서의 고유 id\n",
    "## 주요 Loader\n",
    "\n",
    "### Text file\n",
    "- TextLoader 이용"
   ]
  },
  {
   "cell_type": "code",
   "execution_count": null,
   "id": "40998e95-a607-45d5-a3f6-2bb598b1aa19",
   "metadata": {},
   "outputs": [],
   "source": []
  },
  {
   "cell_type": "code",
   "execution_count": null,
   "id": "0ec8523a-e87c-4214-aee9-c1aa8d1745c4",
   "metadata": {},
   "outputs": [],
   "source": []
  },
  {
   "cell_type": "code",
   "execution_count": null,
   "id": "8afdf1c6-436e-4026-a178-7c8b48c360ca",
   "metadata": {},
   "outputs": [],
   "source": []
  },
  {
   "cell_type": "markdown",
   "id": "a2bbbd08-6afc-4f2f-985b-c96da7c3b943",
   "metadata": {},
   "source": [
    "### PDF\n",
    "- PyPDF, Pymupdf 등 다양한 3rd party library를 이용해 pdf 문서를 읽어온다.\n",
    "  - https://python.langchain.com/docs/integrations/document_loaders/#pdfs\n",
    "- 설치 패키지\n",
    "  - `pip install pypdf -qU`\n",
    "  - `pip install pymupdf -qU`"
   ]
  },
  {
   "cell_type": "code",
   "execution_count": null,
   "id": "a9647515-7c2d-447d-a4e4-d70a18e4e025",
   "metadata": {},
   "outputs": [],
   "source": []
  },
  {
   "cell_type": "code",
   "execution_count": null,
   "id": "cdbd7f13-c4d5-4db7-b5d7-27de7984624f",
   "metadata": {},
   "outputs": [],
   "source": []
  },
  {
   "cell_type": "code",
   "execution_count": null,
   "id": "196a703e-dd86-4cb5-82bf-8b6726aea0e0",
   "metadata": {},
   "outputs": [],
   "source": []
  },
  {
   "cell_type": "markdown",
   "id": "dfad817d-97a5-43b5-a4ba-08d8b032e59a",
   "metadata": {},
   "source": [
    "### CSV\n",
    "- CSVLoader"
   ]
  },
  {
   "cell_type": "code",
   "execution_count": null,
   "id": "6e9df1e3-35b9-452c-b980-e8d899b6190b",
   "metadata": {},
   "outputs": [],
   "source": []
  },
  {
   "cell_type": "code",
   "execution_count": null,
   "id": "82089852-20d8-47c0-9057-32fdde8f2587",
   "metadata": {},
   "outputs": [],
   "source": []
  },
  {
   "cell_type": "code",
   "execution_count": null,
   "id": "780f263f-62a6-4433-9003-9d3d56701201",
   "metadata": {},
   "outputs": [],
   "source": []
  },
  {
   "cell_type": "markdown",
   "id": "b507b334-e33b-435f-8a50-7dd31fa6da6b",
   "metadata": {},
   "source": [
    "### Web\n",
    "\n",
    "- WebBaseLoader 이용\n",
    "- https://python.langchain.com/docs/how_to/document_loader_web/"
   ]
  },
  {
   "cell_type": "code",
   "execution_count": null,
   "id": "da98b0ba-97ac-445d-85c8-1e000299f926",
   "metadata": {},
   "outputs": [],
   "source": []
  },
  {
   "cell_type": "code",
   "execution_count": null,
   "id": "406c0672-a932-4b55-bc39-1863e00ef3ad",
   "metadata": {},
   "outputs": [],
   "source": []
  },
  {
   "cell_type": "code",
   "execution_count": null,
   "id": "6c6cd786-947d-49ae-933c-627ca714c06e",
   "metadata": {},
   "outputs": [],
   "source": []
  },
  {
   "cell_type": "markdown",
   "id": "76d0d3eb-8af4-432f-a207-728ff62358ee",
   "metadata": {},
   "source": [
    "### UnstructuredLoader\n",
    "- 다양한 비정형 문서들을 읽어 오는 Unstrctured 를 사용해, 다양한 형식의 문서들을 load 해 RAG, 모델 파인튜닝에 적용할 수있게 한다.\n",
    "  - 지원 파일 형식: \"csv\", \"doc\", \"docx\", \"epub\", \"image\", \"md\", \"msg\", \"odt\", \"org\", \"pdf\", \"ppt\", \"pptx\", \"rtf\", \"rst\", \"tsv\", \"xlsx\"\n",
    "\n",
    "- **다양한 형식의 파일로 부터 text를 로딩**해야 할 경우 유용하다. \n",
    "- Local에 library를 설치해서 사용하거나,  Unstructured 가 제공하는 API service를 사용할 수 있다.\n",
    "  - https://docs.unstructured.io\n",
    "- 텍스트 파일, PDF, 이미지, HTML, XML, ms-office(word, ppt), epub 등 다양한 비정형 데이터 파일을 처리할 수 있다.\n",
    "  - 설치, 지원 문서: https://docs.unstructured.io/open-source/installation/full-installation\n",
    "  - Langchain 문서: https://python.langchain.com/docs/integrations/document_loaders/unstructured_file\n",
    "\n",
    "> - UnstructuredLoader PDF Load 시 Document 분할 기준\n",
    ">     -  문서의 구조와 콘텐츠를 기반으로 텍스트를 분할해 Document에 넣는다.\n",
    ">     -  분할 기준\n",
    ">        - 헤더(Header): 문서의 제목이나 섹션 제목 등\n",
    ">        - 본문 텍스트(NarrativeText): 일반적인 문단이나 설명문\n",
    ">        - 표(Table): 데이터가 표 형식으로 구성된 부분\n",
    ">        - 리스트(List): 순서가 있거나 없는 목록\n",
    ">        - 이미지(Image): 사진이나 그래픽 요소"
   ]
  },
  {
   "cell_type": "markdown",
   "id": "b87686d9-03d9-401a-9573-d57a2aacf965",
   "metadata": {},
   "source": [
    "#### 설치할 프로그램\n",
    "- poppler\n",
    "  - pdf 파일을 text로 변환하기 위해 필요한 프로그램\n",
    "  - windows: https://github.com/oschwartz10612/poppler-windows/releases/ 에서 최신 버전 다운로드 후 압축 풀어서 설치.\n",
    "    - 환경변수 Path에 \"설치경로\\Library\\bin\" 을 추가. (설치 후 IDE를 다시 시작한다.)\n",
    "  - macOS: `brew install poppler`\n",
    "  - Linux: `sudo apt-get install poppler-utils`\n",
    "- tesseract-ocr\n",
    "  - OCR 라이브러리로 pdf 이미지를 text로 변환하기 위해 필요한 프로그램 \n",
    "  - windows: https://github.com/UB-Mannheim/tesseract/wiki 에서 다운받아 설치. \n",
    "    - 환경변수 Path에 설치 경로(\"C:\\Program Files\\Tesseract-OCR\") 추가 한다. (설치 후 IDE를 다시 시작한다.)\n",
    "  - macOS: `brew install tesseract`\n",
    "  - linux(unbuntu): `sudo apt install tesseract-ocr`\n",
    "- 설치 패키지\n",
    "  - `pip install \"unstructured[pdf]\" -qU`\n",
    "  - libmagic 설치\n",
    "      - windows: `pip install python-magic-bin -qU`\n",
    "      - macOS: `brew install libmagic`\n",
    "      - linux(ubuntu): `sudo apt-get install libmagic-dev`\n",
    "  - `pip install langchain-unstructured -qU`"
   ]
  },
  {
   "cell_type": "code",
   "execution_count": null,
   "id": "fac0868b-d043-4007-a511-68eeb1fa1764",
   "metadata": {},
   "outputs": [],
   "source": []
  },
  {
   "cell_type": "code",
   "execution_count": null,
   "id": "d98a32d3-b64c-427f-8663-86e00ee88f38",
   "metadata": {},
   "outputs": [],
   "source": []
  },
  {
   "cell_type": "code",
   "execution_count": null,
   "id": "372606d9-8859-4d08-a488-dcd5e81fe9ff",
   "metadata": {},
   "outputs": [],
   "source": []
  },
  {
   "cell_type": "markdown",
   "id": "4acfcbe1-cc26-4e87-8c41-d6fa7d461701",
   "metadata": {},
   "source": [
    "### Directory 내의 문서파일들 로딩\n",
    "- DirectoryLoader 이용"
   ]
  },
  {
   "cell_type": "code",
   "execution_count": null,
   "id": "1b8eb4d8-3c1d-418d-a499-ee181d54b759",
   "metadata": {},
   "outputs": [],
   "source": []
  },
  {
   "cell_type": "code",
   "execution_count": null,
   "id": "10ebc232-48ae-4cd2-ab3a-f6e26bd95ac9",
   "metadata": {},
   "outputs": [],
   "source": []
  },
  {
   "cell_type": "code",
   "execution_count": null,
   "id": "04a1e8eb-2569-43f3-a458-dd020a322c56",
   "metadata": {},
   "outputs": [],
   "source": []
  }
 ],
 "metadata": {
  "kernelspec": {
   "display_name": "Python 3 (ipykernel)",
   "language": "python",
   "name": "python3"
  },
  "language_info": {
   "codemirror_mode": {
    "name": "ipython",
    "version": 3
   },
   "file_extension": ".py",
   "mimetype": "text/x-python",
   "name": "python",
   "nbconvert_exporter": "python",
   "pygments_lexer": "ipython3",
   "version": "3.12.2"
  }
 },
 "nbformat": 4,
 "nbformat_minor": 5
}
