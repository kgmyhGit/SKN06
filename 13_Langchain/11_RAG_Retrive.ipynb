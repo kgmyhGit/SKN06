{
 "cells": [
  {
   "cell_type": "markdown",
   "id": "74df2380-7ec3-41d5-b030-5df2d83c10ce",
   "metadata": {},
   "source": [
    "# Retriever\n",
    "- 비정형 질의(query)를 입력 받아 Vector store에서 관련된 내용을 검색하는 기능을 제공하는 인터페이스로 다양한 데이터 소스에서 정보를 검색하여 대규모 언어 모델(LLM) 기반 애플리케이션의 **정확성을** 향상시키는 데 핵심적인 역할을 한다.\n",
    "\n",
    "![RAG](figures/rag2.png)\n",
    "\n",
    "## 주요 특징\n",
    "- **다양한 데이터 소스 지원**\n",
    "\t- Retriever는 벡터 스토어, 그래프 데이터베이스, 관계형 데이터베이스 등 여러 종류의 검색 시스템과 상호작용할 수 있는 통일된 인터페이스를 제공.\n",
    "- **간단한 인터페이스**: Retriever는 문자열 형태의 쿼리를 입력받아 관련 문서의 리스트를 반환한다. 이러한 단순한 구조 덕분에 다양한 검색 시스템과 쉽게 통합할 수 있다. \n",
    "\n",
    "## 다양한 Retriever 유형\n",
    "   - **벡터 스토어(Vector Store) Retriever**\n",
    "\t\t- 텍스트 조각마다 임베딩을 생성하여 유사도 검색을 수행합니다. 빠르고 간단한 검색 시스템을 구축할 때 적합하다.\n",
    "   - **ParentDocument Retriever**\n",
    "\t\t- 문서를 여러 청크로 나누어 인덱싱한 후, 가장 유사한 청크를 찾아 전체 원본 문서를 반환한다. 작은 정보 조각들이 모여 하나의 문서를 구성할 때 유용하다.\n",
    "   - **멀티 벡터(Multi Vector) Retriever**\n",
    "\t\t- 각 문서에 대해 요약이나 가상의 질문 생성과 수동 추가 방식을 통해 문서당 여러 벡터를 생성하여 인덱싱한다. 텍스트 자체보다 더 관련성 있는 정보를 추출할 수 있을 때 사용한다.\n",
    "   - **Self Query Retriever**\n",
    "\t\t- LLM을 활용하여 사용자 입력을 텍스트 검색어와 메타데이터 필터로 변환한다. 문서의 메타데이터에 대한 질문을 처리할 때 효과적.\n",
    "   - **Contextual Compression Retriever**\n",
    "\t\t- 검색된 문서에서 불필요한 정보를 제거하고, 쿼리와 관련된 핵심 내용만을 추출한다. \n",
    "\n",
    "## **고급 검색 패턴 지원**:\n",
    "   - **앙상블(Ensemble) Retriever**: 여러 Retriever의 검색 결과를 결합하여 더 정확한 결과를 제공한다.\n",
    "   - **소스 문서 보존(Source Document Retention)**: 인덱싱 과정에서 변환된 문서와 원본 문서 간의 연결을 유지하여, 검색 시 원본 문서를 반환할 수 있게 한다. \n",
    "\n",
    "> **인덱싱**\n",
    "> - 인덱싱은 벡터화된 문서들을 효율적으로 저장하고 관리하여, 유사성 검색 시 빠르게 원하는 정보를 찾을 수 있도록 하는 과정을 말한다. 이를 통해 벡터화된 데이터의 신속하게 찾을 수있다."
   ]
  },
  {
   "cell_type": "code",
   "execution_count": 2,
   "id": "a5c5b8a9-c216-4115-acfa-b5f187698883",
   "metadata": {},
   "outputs": [
    {
     "data": {
      "text/plain": [
       "True"
      ]
     },
     "execution_count": 2,
     "metadata": {},
     "output_type": "execute_result"
    }
   ],
   "source": [
    "from langchain_community.document_loaders import TextLoader\n",
    "from langchain.text_splitter import RecursiveCharacterTextSplitter\n",
    "from langchain_openai import OpenAIEmbeddings\n",
    "from langchain_ollama import OllamaEmbeddings\n",
    "from langchain_chroma import Chroma\n",
    "from dotenv import load_dotenv\n",
    "\n",
    "load_dotenv()"
   ]
  },
  {
   "cell_type": "code",
   "execution_count": null,
   "id": "0455f582-74bf-47b8-9276-58f978936629",
   "metadata": {},
   "outputs": [],
   "source": [
    "# COLLECTION_NAME = \"olympic_db\" # ollama embedding \n",
    "COLLECTION_NAME = \"olympic_db_openai\"\n",
    "PERSIST_DIRECTORY = \"vector_store/chroma/olympic_db\"\n",
    "\n",
    "EMBEDDING_MODEL_NAME = \"text-embedding-3-small\"\n",
    "embedding_model = OpenAIEmbeddings(model=EMBEDDING_MODEL_NAME)\n",
    "\n",
    "# EMBEDDING_MODEL_NAME = \"nomic-embed-text\"\n",
    "# embedding_model = OllamaEmbeddings(model=EMBEDDING_MODEL_NAME)\n",
    "\n",
    "# vector store 연결\n",
    "vector_store = Chroma(\n",
    "    embedding_function=embedding_model,\n",
    "    collection_name=COLLECTION_NAME,\n",
    "    persist_directory=PERSIST_DIRECTORY\n",
    ")"
   ]
  },
  {
   "cell_type": "code",
   "execution_count": 4,
   "id": "a4db555d-ca62-445d-999a-d46713cb5f06",
   "metadata": {},
   "outputs": [],
   "source": [
    "# Retriever(Runnable 타입 -> LCEL의 체인에 들어갈 수있다.)를 생성 - 조회대상 vector_store로 부터 생성\n",
    "## query와 유사도가 높은 문서들을 조회하는 기능을 제공.\n",
    "retriever = vector_store.as_retriever()\n",
    "\n",
    "# vector store에서 query와 관련된 문서 조회.\n",
    "query = \"국제 올림픽 위원회에 대해 알려주세요.\"\n",
    "result = retriever.invoke(query) # 문자열로 query를 전달. (dictionary사용하지 않음.)"
   ]
  },
  {
   "cell_type": "code",
   "execution_count": 5,
   "id": "aeb3fe72",
   "metadata": {},
   "outputs": [
    {
     "data": {
      "text/plain": [
       "[Document(metadata={'source': 'data/olympic.txt'}, page_content='국제 올림픽 위원회\\n올림픽 활동이란 많은 수의 국가, 국제 경기 연맹과 협회 • 미디어 파트너를 맺기 • 선수, 직원, 심판, 모든 사람과 기관이 올림픽 헌장을 지키는 것을 말한다. 국제올림픽위원회(IOC)는 모든 올림픽 활동을 통솔하는 단체로서, 올림픽 개최 도시 선정, 계획 감독, 종목 변경, 스폰서 및 방송권 계약 체결 등의 권리가 있다. 올림픽 활동은 크게 세 가지로 구성된다.'),\n",
       " Document(metadata={'source': 'data/olympic.txt'}, page_content='- 국가 올림픽 위원회(NOC)는 각국의 올림픽 활동을 감독하는 기구이다. 예를 들어서 대한 올림픽 위원회(KOC)는 대한민국의 국가 올림픽 위원회이다. 현재 IOC에 소속된 국가 올림픽 위원회는 205개이다.\\n- 올림픽 조직 위원회(OCOG)는 임시적인 조직으로 올림픽의 총체적인 것(개막식, 페막식 등)을 책임지기 위해 구성된 조직이다. 올림픽 조직 위원회는 올림픽이 끝나면 해산되며 최종보고서를 IOC에 제출한다.'),\n",
       " Document(metadata={'source': 'data/olympic.txt'}, page_content='올림픽은 국제경기연맹(IF), 국가 올림픽 위원회(NOC), 각 올림픽의 위원회(예-벤쿠버동계올림픽조직위원회)로 구성된다. 의사 결정 기구인 IOC는 올림픽 개최 도시를 선정하며, 각 올림픽 대회마다 열리는 올림픽 종목도 IOC에서 결정한다. 올림픽 경기 개최 도시는 경기 축하 의식이 올림픽 헌장에 부합하도록 조직하고 기금을 마련해야 한다. 올림픽 축하 행사로는 여러 의식과 상징을 들 수 있는데 올림픽기나 성화가 그 예이다.'),\n",
       " Document(metadata={'source': 'data/olympic.txt'}, page_content='설립했다. 여기서는 올림픽 종목과 올림픽 종목이 아닌 스포츠를 모두 재검토하는 일을 한다. 이 위원회의 목표는 올림픽 종목에 더 체계적으로 다가가는 것이다. 위원회에서는 우선적으로 올림픽 종목으로 포함되기 위해서는 7개의 기준을 충족시켜야 한다고 말한다. 이 7개의 기준은 역사, 전통, 보편성, 인기도와 잠재성, 선수의 건강, 연맹의 스포츠를 관리할만한 능력, 스포츠를 여는 데에 필요한 비용이다. 예를 들면 2012년 하계 올림픽의 정식종목 후보에 7개 조건을 포함한 비(非)올림픽 스포츠가 올랐고 그 내용은, 골프, 가라테, 럭비, 인라인 스케이팅, 스쿼시였다.')]"
      ]
     },
     "execution_count": 5,
     "metadata": {},
     "output_type": "execute_result"
    }
   ],
   "source": [
    "result"
   ]
  },
  {
   "cell_type": "code",
   "execution_count": null,
   "id": "43c027eb",
   "metadata": {},
   "outputs": [
    {
     "data": {
      "text/plain": [
       "[Document(metadata={'source': 'data/olympic.txt'}, page_content='국제 올림픽 위원회\\n올림픽 활동이란 많은 수의 국가, 국제 경기 연맹과 협회 • 미디어 파트너를 맺기 • 선수, 직원, 심판, 모든 사람과 기관이 올림픽 헌장을 지키는 것을 말한다. 국제올림픽위원회(IOC)는 모든 올림픽 활동을 통솔하는 단체로서, 올림픽 개최 도시 선정, 계획 감독, 종목 변경, 스폰서 및 방송권 계약 체결 등의 권리가 있다. 올림픽 활동은 크게 세 가지로 구성된다.'),\n",
       " Document(metadata={'source': 'data/olympic.txt'}, page_content='- 국가 올림픽 위원회(NOC)는 각국의 올림픽 활동을 감독하는 기구이다. 예를 들어서 대한 올림픽 위원회(KOC)는 대한민국의 국가 올림픽 위원회이다. 현재 IOC에 소속된 국가 올림픽 위원회는 205개이다.\\n- 올림픽 조직 위원회(OCOG)는 임시적인 조직으로 올림픽의 총체적인 것(개막식, 페막식 등)을 책임지기 위해 구성된 조직이다. 올림픽 조직 위원회는 올림픽이 끝나면 해산되며 최종보고서를 IOC에 제출한다.')]"
      ]
     },
     "execution_count": 8,
     "metadata": {},
     "output_type": "execute_result"
    }
   ],
   "source": [
    "# 조회 조건, 설정 들을 as_retriever() search_kwargs={\"설정명\":\"설정값\", ..} 인자로 전달.\n",
    "retriever2 = vector_store.as_retriever(\n",
    "    search_kwargs = {\n",
    "        \"k\":2,\n",
    "        \"filter\":{\"source\":\"data/olympic.txt\"}\n",
    "    }\n",
    ")\n",
    "retriever2.invoke(query)\n",
    "\n",
    "# \"filter\":{\"year\":{\"$ge\":2020}}  # metadata의 year >= 2020"
   ]
  },
  {
   "cell_type": "code",
   "execution_count": 9,
   "id": "0ed28e7b",
   "metadata": {},
   "outputs": [
    {
     "data": {
      "text/plain": [
       "[Document(metadata={'source': 'data/olympic.txt'}, page_content='국제 올림픽 위원회\\n올림픽 활동이란 많은 수의 국가, 국제 경기 연맹과 협회 • 미디어 파트너를 맺기 • 선수, 직원, 심판, 모든 사람과 기관이 올림픽 헌장을 지키는 것을 말한다. 국제올림픽위원회(IOC)는 모든 올림픽 활동을 통솔하는 단체로서, 올림픽 개최 도시 선정, 계획 감독, 종목 변경, 스폰서 및 방송권 계약 체결 등의 권리가 있다. 올림픽 활동은 크게 세 가지로 구성된다.'),\n",
       " Document(metadata={'source': 'data/olympic.txt'}, page_content='- 국가 올림픽 위원회(NOC)는 각국의 올림픽 활동을 감독하는 기구이다. 예를 들어서 대한 올림픽 위원회(KOC)는 대한민국의 국가 올림픽 위원회이다. 현재 IOC에 소속된 국가 올림픽 위원회는 205개이다.\\n- 올림픽 조직 위원회(OCOG)는 임시적인 조직으로 올림픽의 총체적인 것(개막식, 페막식 등)을 책임지기 위해 구성된 조직이다. 올림픽 조직 위원회는 올림픽이 끝나면 해산되며 최종보고서를 IOC에 제출한다.'),\n",
       " Document(metadata={'source': 'data/olympic.txt'}, page_content='올림픽은 국제경기연맹(IF), 국가 올림픽 위원회(NOC), 각 올림픽의 위원회(예-벤쿠버동계올림픽조직위원회)로 구성된다. 의사 결정 기구인 IOC는 올림픽 개최 도시를 선정하며, 각 올림픽 대회마다 열리는 올림픽 종목도 IOC에서 결정한다. 올림픽 경기 개최 도시는 경기 축하 의식이 올림픽 헌장에 부합하도록 조직하고 기금을 마련해야 한다. 올림픽 축하 행사로는 여러 의식과 상징을 들 수 있는데 올림픽기나 성화가 그 예이다.'),\n",
       " Document(metadata={'source': 'data/olympic.txt'}, page_content='위원회의 목표는 올림픽 종목에 더 체계적으로 다가가는 것이다. 위원회에서는 우선적으로 올림픽 종목으로 포함되기 위해서는 7개의 기준을 충족시켜야 한다고 말한다. 이 7개의 기준은 역사, 전통, 보편성, 인기도와 잠재성, 선수의 건강, 연맹의 스포츠를 관리할만한 능력, 스포츠를 여는 데에 필요한 비용이다. 예를 들면 2012년 하계 올림픽의 정식종목 후보에 7개 조건을 포함한 비(非)올림픽 스포츠가 올랐고 그 내용은, 골프, 가라테, 럭비, 인라인 스케이팅, 스쿼시였다. 이 스포츠들은 IOC 상임이사회에서 재검토되어 2005년 7월에 열린 싱가포르 총회에서'),\n",
       " Document(metadata={'source': 'data/olympic.txt'}, page_content='올림픽에 참가하는 나라는 UN에 등록된 국가의 수 193개보다 많다. 다른 국제조직이 개최하는 대회들은 정치적 주권국으로 참가를 제한하는 반면, IOC는 그에 상관없이 올림픽에 모든 공동체들이 참가할 수 있도록 한다. 이는 연합체나 공동체에서 국가올림픽위원회(NOC)를 만드는 것을 허용한다는 의미이다. 예를 들면 푸에르토리코, 버뮤다, 홍콩과 같은 곳도 올림픽에서 다른 나라와 스포츠 경쟁을 합법적으로 할 수 있다.')]"
      ]
     },
     "execution_count": 9,
     "metadata": {},
     "output_type": "execute_result"
    }
   ],
   "source": [
    "### MMR 방식 조회\n",
    "retriever3 = vector_store.as_retriever(\n",
    "    search_type=\"mmr\",  #MMR 방식을 지정.\n",
    "    search_kwargs = {\n",
    "        \"k\":5,\n",
    "        \"fetch_k\": 10,\n",
    "        \"lambda_mult\":0.2, # 1<- 유사도를 강조, 0<- 다양성을 강조\n",
    "        \"filter\":{\"source\":\"data/olympic.txt\"}\n",
    "    }\n",
    ")\n",
    "retriever3.invoke(query)"
   ]
  },
  {
   "cell_type": "code",
   "execution_count": null,
   "id": "4263fa34-618f-482a-adb3-110b419cb732",
   "metadata": {},
   "outputs": [
    {
     "data": {
      "text/plain": [
       "[Document(metadata={'source': 'data/olympic.txt'}, page_content='국제 올림픽 위원회\\n올림픽 활동이란 많은 수의 국가, 국제 경기 연맹과 협회 • 미디어 파트너를 맺기 • 선수, 직원, 심판, 모든 사람과 기관이 올림픽 헌장을 지키는 것을 말한다. 국제올림픽위원회(IOC)는 모든 올림픽 활동을 통솔하는 단체로서, 올림픽 개최 도시 선정, 계획 감독, 종목 변경, 스폰서 및 방송권 계약 체결 등의 권리가 있다. 올림픽 활동은 크게 세 가지로 구성된다.'),\n",
       " Document(metadata={'source': 'data/olympic.txt'}, page_content='위원회의 목표는 올림픽 종목에 더 체계적으로 다가가는 것이다. 위원회에서는 우선적으로 올림픽 종목으로 포함되기 위해서는 7개의 기준을 충족시켜야 한다고 말한다. 이 7개의 기준은 역사, 전통, 보편성, 인기도와 잠재성, 선수의 건강, 연맹의 스포츠를 관리할만한 능력, 스포츠를 여는 데에 필요한 비용이다. 예를 들면 2012년 하계 올림픽의 정식종목 후보에 7개 조건을 포함한 비(非)올림픽 스포츠가 올랐고 그 내용은, 골프, 가라테, 럭비, 인라인 스케이팅, 스쿼시였다. 이 스포츠들은 IOC 상임이사회에서 재검토되어 2005년 7월에 열린 싱가포르 총회에서')]"
      ]
     },
     "execution_count": 30,
     "metadata": {},
     "output_type": "execute_result"
    }
   ],
   "source": [
    "#### invoke() 할 때 검색 조건 설정을 변경 - configuable(RunnableConfig)에 설정한다.\n",
    "from langchain_core.runnables import ConfigurableField\n",
    "\n",
    "retriever4 = vector_store.as_retriever(\n",
    "    search_type=\"mmr\",  #MMR 방식을 지정.\n",
    "    search_kwargs = {\n",
    "        \"k\":5,\n",
    "        \"fetch_k\": 10,\n",
    "        \"lambda_mult\":0.2, # 1<- 유사도를 강조, 0<- 다양성을 강조\n",
    "        \"filter\":{\"source\":\"data/olympic.txt\"}\n",
    "    }\n",
    ")\n",
    "retriever4 = retriever4.configurable_fields(\n",
    "    # 파라미터 이름 = ConfigurableFieldSpec()->RunnableConfig의 어떤값으로 바꿀지 설정 \n",
    "    search_kwargs=ConfigurableField(\n",
    "        # search_kwargs의 인자 값을 RunnableConfig의 search_kwargs(id) key로 넘어오는 값으로 변경.\n",
    "        id=\"search_kwargs\",   \n",
    "        name=\"Search Kwargs\", # 설정이름 (생략가능)\n",
    "        description=\"조회 파라미터값들을 변경\" # 설명(생략가능)\n",
    "    )\n",
    ")\n",
    "\n",
    "config = {\n",
    "    \"configurable\":{\n",
    "        \"search_kwargs\":{\n",
    "            \"k\":2,\n",
    "            \"fetch_k\": 10,\n",
    "            \"lambda_mult\":0.7, # 1<- 유사도를 강조, 0<- 다양성을 강조\n",
    "            \"filter\":{\"source\":\"data/olympic.txt\"}\n",
    "        }\n",
    "    }\n",
    "}\n",
    "retriever4.invoke(query, config=config)\n"
   ]
  },
  {
   "cell_type": "markdown",
   "id": "fce6b3aa-ecf9-4874-b71d-35d74c9e6574",
   "metadata": {},
   "source": [
    "# TODO 다음을 작성한다."
   ]
  },
  {
   "cell_type": "code",
   "execution_count": 34,
   "id": "b567e3a0-df09-4ebc-91ad-34d1a56ebca7",
   "metadata": {
    "execution": {
     "iopub.execute_input": "2024-12-02T12:14:52.978789Z",
     "iopub.status.busy": "2024-12-02T12:14:52.977794Z",
     "iopub.status.idle": "2024-12-02T12:14:56.143202Z",
     "shell.execute_reply": "2024-12-02T12:14:56.142870Z",
     "shell.execute_reply.started": "2024-12-02T12:14:52.978789Z"
    }
   },
   "outputs": [
    {
     "name": "stdout",
     "output_type": "stream",
     "text": [
      "18\n"
     ]
    }
   ],
   "source": [
    "from langchain_community.document_loaders import TextLoader\n",
    "from langchain_chroma import Chroma\n",
    "from langchain_openai import OpenAIEmbeddings, ChatOpenAI\n",
    "from langchain_text_splitters import RecursiveCharacterTextSplitter\n",
    "from langchain.prompts import ChatPromptTemplate\n",
    "from langchain_core.runnables import RunnablePassthrough\n",
    "from langchain.globals import set_llm_cache\n",
    "from langchain.cache import InMemoryCache, SQLiteCache\n",
    "from langchain_core.output_parsers import StrOutputParser\n",
    "\n",
    "set_llm_cache(SQLiteCache(\".cache_prompt.sqlite\"))\n",
    "\n",
    "collection_name = \"olmpic_docs\"\n",
    "persist_directory = \"vector_store/chroma/olympic3\"\n",
    "\n",
    "# Text Loading\n",
    "# Split\n",
    "loader = TextLoader(\"data/olympic.txt\", encoding=\"utf-8\")\n",
    "splitter = RecursiveCharacterTextSplitter.from_tiktoken_encoder(\n",
    "    model_name=\"gpt-4o-mini\", \n",
    "    chunk_size=1000,\n",
    "    chunk_overlap=100\n",
    ")\n",
    "docs = loader.load_and_split(splitter)\n",
    "print(len(docs))\n",
    "\n",
    "# Vector Store 생성/연결\n",
    "embedding_model = OpenAIEmbeddings(model=\"text-embedding-3-small\")\n",
    "vector_store = Chroma.from_documents(\n",
    "    documents=docs,\n",
    "    embedding=embedding_model, \n",
    "    collection_name=collection_name,\n",
    "    persist_directory=persist_directory\n",
    ")\n",
    "\n",
    "# Retriever 생성 - \"mmr\" 방식\n",
    "retriever = vector_store.as_retriever(\n",
    "    search_type=\"mmr\",\n",
    "    search_kwargs={\"k\":5, \"fetch_k\":10}\n",
    ")\n"
   ]
  },
  {
   "cell_type": "code",
   "execution_count": 37,
   "id": "ace68f09-666b-4e17-83e7-d5ecb64ef5e0",
   "metadata": {},
   "outputs": [],
   "source": [
    "# Prompt Template 생성\n",
    "messages = [\n",
    "        (\"ai\", \"\"\"\n",
    "You are a helpful assistanct. Answer question using only the following context. \n",
    "If you don't know the answer, just say you don't know. Don't make it up. \n",
    "Answer in Korean.\n",
    "\n",
    "{context}\"\"\"),\n",
    "        (\"human\", \"{question}\"),\n",
    "]\n",
    "\n",
    "prompt_template = ChatPromptTemplate(messages)\n",
    "\n",
    "# 모델\n",
    "model = ChatOpenAI(model=\"gpt-4o-mini\")\n",
    "\n",
    "# output parser\n",
    "parser = StrOutputParser()\n",
    "\n",
    "# Chain 구성 retriever(관련문서 조회) -> prompt_template(prompt생성) -> model(정답) -> output parser\n",
    "chain = {\"context\":retriever, \"question\":RunnablePassthrough()} | prompt_template | model | parser"
   ]
  },
  {
   "cell_type": "code",
   "execution_count": 39,
   "id": "b82baeb6-6a5f-4026-aa98-1873a65dfe3b",
   "metadata": {},
   "outputs": [
    {
     "name": "stdout",
     "output_type": "stream",
     "text": [
      "올림픽과 관련된 논란들은 다음과 같습니다:\n",
      "\n",
      "1. **전쟁으로 인한 올림픽 취소**: 제1차 세계대전으로 인해 1916년 베를린 올림픽이 취소되었고, 제2차 세계대전 동안 1940년 도쿄 올림픽과 삿포로 동계 올림픽, 1944년 런던 올림픽과 코르티나담페초 동계 올림픽이 취소되었다.\n",
      "\n",
      "2. **정치적 갈등**: 2008년 베이징 올림픽 개막식 날 조지아와 러시아 간의 전쟁이 발생하였으며, 이 사건은 올림픽의 정치적 맥락을 드러냈다.\n",
      "\n",
      "3. **테러 사건**: 1972년 뮌헨 올림픽에서 이스라엘 선수 11명이 테러리스트에 의해 인질로 잡혀 사망한 사건과 1996년 애틀란타 올림픽에서 발생한 폭발 사건이 있었다.\n",
      "\n",
      "4. **프로 선수 참가 문제**: 20세기 초, 프로 선수의 참가 불허로 인해 여러 분쟁이 있었으며, 특히 1912년 하계 올림픽에서 준프로야구선수로 활동한 짐 소프가 메달을 박탈당한 사례가 있다.\n",
      "\n",
      "5. **아마추어 정신의 변화**: 아마추어 선수에 대한 정의가 시대에 뒤처지면서, 많은 국가들이 '정식 아마추어 선수'를 양성해 순수한 아마추어 정신을 벗어나고 있다는 비판이 제기되었다.\n",
      "\n",
      "이와 같은 논란들은 올림픽의 역사와 발전 과정에서 중요한 이슈로 자리잡고 있다.\n"
     ]
    }
   ],
   "source": [
    "# Chain을 이용해 질의\n",
    "query = \"국제 올림픽 위원회에 대해서 설명해주세요.\"\n",
    "query = \"올림픽과 관련된 논란들을 정리해주세요.\"\n",
    "result = chain.invoke(query)\n",
    "print(result)"
   ]
  },
  {
   "cell_type": "code",
   "execution_count": null,
   "id": "9495bdf3",
   "metadata": {},
   "outputs": [],
   "source": []
  },
  {
   "cell_type": "markdown",
   "id": "d7af6f92-e2b3-4e11-a671-76c7fbf936d6",
   "metadata": {},
   "source": [
    "## Map Reduce 방식\n",
    "\n",
    "- RAG에서 질문과 유사한 document들을 찾아  그대로 질문과 함께 전달하는 방식을 **stuff** 방식이라고 한다.\n",
    "- Map reduce 방식은 document들에서 질문을 답하는데 적합한 document를 llm을 이용해 찾은 뒤 전달하는 방식이다.\n",
    "  1. vectorstore에서 질문과 유사한 document들을 유사도 검색으로 찾음\n",
    "     - 이것들은 단순 유사도라서 질문과 직접 관계 없는 것도 있다.\n",
    "  2. document들이 질문을 답하는데 적합한지 llm에게 질문해서 관련있는 것들만 문자열로 묶어준다.\n",
    "  3. 질문과 `2`에서 찾은 내용을 context로해서 llm에 질문하여 최종 답을 받는다.\n",
    "- context를 좀더 질문과 관련된 내용으로 전달 할 수있는 장점이 있는 반면 비용이 드는 폐쇄형 llm을 사용하는 경우 비용이 추가로 드는 단점이 있다."
   ]
  },
  {
   "cell_type": "code",
   "execution_count": 1,
   "id": "6c4d6867-f0bc-42c4-9035-51e8d69a5657",
   "metadata": {},
   "outputs": [
    {
     "data": {
      "text/plain": [
       "True"
      ]
     },
     "execution_count": 1,
     "metadata": {},
     "output_type": "execute_result"
    }
   ],
   "source": [
    "from langchain_chroma import Chroma\n",
    "from langchain_openai import OpenAIEmbeddings, ChatOpenAI\n",
    "from langchain.prompts import ChatPromptTemplate\n",
    "from langchain_core.runnables import RunnablePassthrough, RunnableLambda \n",
    "from langchain_core.output_parsers import StrOutputParser\n",
    "from dotenv import load_dotenv\n",
    "load_dotenv()"
   ]
  },
  {
   "cell_type": "code",
   "execution_count": 2,
   "id": "41b69af7",
   "metadata": {},
   "outputs": [],
   "source": [
    "collection_name = \"olmpic_docs\"\n",
    "persist_directory = \"vector_store/chroma/olympic3\"\n",
    "\n",
    "# Vector DB와 연결. + retriever\n",
    "embedding_model = OpenAIEmbeddings(model=\"text-embedding-3-small\")\n",
    "vector_store = Chroma(\n",
    "    embedding_function=embedding_model,\n",
    "    collection_name=collection_name,\n",
    "    persist_directory=persist_directory\n",
    ")\n",
    "retriever = vector_store.as_retriever(search_kwargs={\"k\":10})"
   ]
  },
  {
   "cell_type": "code",
   "execution_count": 7,
   "id": "a12e6199-b17e-486d-a316-eb0e3d6bbfa1",
   "metadata": {},
   "outputs": [],
   "source": [
    "# vector store에서 찾은 문서들과 질문을 비교해서 진짜 관련 있는 문서들만 찾는 프롬프트.\n",
    "## context: 찾은 문서, question: 질문\n",
    "map_doc_prompt = ChatPromptTemplate.from_messages([\n",
    "    (\"system\",  \"\"\"\n",
    "Use the following portion of a long document to see if any of the text is relevant to answer the question. \n",
    "Return any relevant text verbatim. If there is no relevant text, return : ''\n",
    "-------\n",
    "{context}\n",
    "\"\"\"),\n",
    "    (\"human\", \"{question}\"),\n",
    "])\n",
    "\n",
    "model = ChatOpenAI(model=\"gpt-4o-mini\")\n",
    "\n",
    "# 질문 - 문서 관련성을 비교하는 체인\n",
    "map_doc_chain = map_doc_prompt | model\n",
    "# map_doc_chain.invoke({\"context\":\"사과는 맛있어요?\", \"question\":\"올림픽 종목에 대해 설명해줘.\"})\n",
    "# map_doc_chain.invoke({\"context\":\"올림픽에는 300개의 종목이 있습니다.\", \"question\":\"올림픽 종목에 대해 설명해줘.\"})\n",
    "\n",
    "## retriever로 문서 조회 -> map_doc_chain으로 관련문서를 찾기 \n",
    "def map_doc(inputs):\n",
    "    \"\"\"\n",
    "    Runnable로 정의할 함수. \n",
    "    retriever가 조회한 문서들과 question을 받아서 map_doc_chain을 이용해 관련성을 확인한다.\n",
    "    관련된 문서 내용만 모아서 반환.\n",
    "    parameter\n",
    "        inputs: dict[documents: list[Document], question:질문]. {\"documents\":retriever, \"question\":RunnablePassthrough()}\n",
    "    \"\"\"\n",
    "    docs = inputs[\"documents\"]   # list[Document, Document, Document, ...]\n",
    "    question= inputs[\"question\"] # str\n",
    "    context = \"\" # 질문과 관련된 내용들만 모아 놓을 변수.\n",
    "    for doc in docs:\n",
    "        # Document와 question을 map_doc_chain에 전달해서 관련된 내용인지 확인.\n",
    "        res = map_doc_chain.invoke({\"context\":doc.page_content, \"question\":question})\n",
    "        context += res.content+\"\\n\\n\" # AIMessage.content\n",
    "\n",
    "    return context\n",
    "\n",
    "map_reduce_chain = {\"documents\":retriever, \"question\":RunnablePassthrough()} | RunnableLambda(map_doc)\n",
    "# r = map_reduce_chain.invoke(\"올림픽 종목에 대해 설명해줘.\")\n",
    "# print(r)\n"
   ]
  },
  {
   "cell_type": "code",
   "execution_count": 9,
   "id": "b4e34c98-1b69-415a-ad88-62b54e2d86b7",
   "metadata": {},
   "outputs": [],
   "source": [
    "final_prompt = ChatPromptTemplate.from_messages(\n",
    "    [\n",
    "        (\n",
    "            \"system\",\n",
    "            \"\"\"\n",
    "            Given the following extracted parts of a long document and a question, create a final answer. \n",
    "            If you don't know the answer, just say that you don't know. Don't try to make up an answer.\n",
    "            ------\n",
    "            {context}\n",
    "            \"\"\",\n",
    "        ),\n",
    "        (\"human\", \"{question}\"),\n",
    "    ]\n",
    ")\n",
    "\n",
    "chain = ({\"context\":map_reduce_chain, \"question\":RunnablePassthrough()} \n",
    "         | final_prompt\n",
    "         | model\n",
    "         | StrOutputParser())"
   ]
  },
  {
   "cell_type": "code",
   "execution_count": 10,
   "id": "3af8ef3d-696a-4a35-a666-a2d98a7b5a1b",
   "metadata": {},
   "outputs": [
    {
     "name": "stdout",
     "output_type": "stream",
     "text": [
      "올림픽 경기 종목에 대한 설명은 다음과 같습니다:\n",
      "\n",
      "1. **하계 올림픽**\n",
      "   - 총 33개 종목\n",
      "   - 약 400개의 세부종목\n",
      "   - 주요 종목 예시:\n",
      "     - 육상\n",
      "     - 수영\n",
      "     - 펜싱\n",
      "     - 체조\n",
      "     - 레슬링 (자유형, 그레코로만형)\n",
      "     - 사이클\n",
      "     - 사격\n",
      "     - 테니스\n",
      "     - 역도\n",
      "     - 조정\n",
      "\n",
      "2. **동계 올림픽**\n",
      "   - 총 7개 종목\n",
      "   - 주요 종목 예시:\n",
      "     - 크로스컨트리\n",
      "     - 피겨 스케이팅\n",
      "     - 아이스 하키\n",
      "     - 노르딕 복합\n",
      "     - 스키 점프\n",
      "     - 스피드 스케이팅\n",
      "\n",
      "3. **정식 종목 선정**\n",
      "   - IOC의 승인을 받은 국제경기연맹의 관리 하에 있음\n",
      "   - 정식종목으로 승인되기 위해서는 재적 위원 수의 과반수 이상 찬성 필요\n",
      "\n",
      "4. **시범종목과 과거 종목**\n",
      "   - 일부 종목은 처음에는 시범종목으로 시작하여 정식종목으로 승인됨 (예: 배드민턴, 농구, 배구)\n",
      "   - 과거에 정식종목이었으나 현재는 빠진 종목도 존재 (예: 야구)\n",
      "\n",
      "위의 정보는 올림픽 경기 종목에 대한 기본적인 설명입니다. 추가적인 정보가 필요하다면 특정 종목에 대해 질문해 주시면 더 자세히 설명해 드릴 수 있습니다.\n"
     ]
    }
   ],
   "source": [
    "result = chain.invoke(\"올림픽 경기 종목에 대해서 설명해줘. 목록형식으로 답변을 작성해줘.\")\n",
    "print(result)"
   ]
  },
  {
   "cell_type": "code",
   "execution_count": null,
   "id": "6858ec88-2ea1-4028-bcf4-5105efd970b8",
   "metadata": {},
   "outputs": [],
   "source": []
  },
  {
   "cell_type": "code",
   "execution_count": null,
   "id": "1b551faf-f1ce-44dc-bbfe-c0ad84fbcdcf",
   "metadata": {},
   "outputs": [],
   "source": []
  },
  {
   "cell_type": "code",
   "execution_count": null,
   "id": "8177863b-e4d9-44c3-9af2-0acbb4482548",
   "metadata": {},
   "outputs": [],
   "source": []
  }
 ],
 "metadata": {
  "kernelspec": {
   "display_name": "langchain",
   "language": "python",
   "name": "python3"
  },
  "language_info": {
   "codemirror_mode": {
    "name": "ipython",
    "version": 3
   },
   "file_extension": ".py",
   "mimetype": "text/x-python",
   "name": "python",
   "nbconvert_exporter": "python",
   "pygments_lexer": "ipython3",
   "version": "3.12.7"
  }
 },
 "nbformat": 4,
 "nbformat_minor": 5
}
