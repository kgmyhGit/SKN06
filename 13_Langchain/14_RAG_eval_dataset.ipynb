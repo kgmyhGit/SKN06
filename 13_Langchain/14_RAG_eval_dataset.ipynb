{
 "cells": [
  {
   "cell_type": "code",
   "execution_count": 1,
   "metadata": {},
   "outputs": [
    {
     "data": {
      "text/plain": [
       "True"
      ]
     },
     "execution_count": 1,
     "metadata": {},
     "output_type": "execute_result"
    }
   ],
   "source": [
    "# Load and Split\n",
    "from langchain_community.document_loaders import TextLoader\n",
    "from langchain_text_splitters import RecursiveCharacterTextSplitter\n",
    "from langchain_chroma import Chroma\n",
    "\n",
    "from langchain_openai import ChatOpenAI, OpenAIEmbeddings\n",
    "from langchain.prompts import PromptTemplate\n",
    "from langchain_core.output_parsers import JsonOutputParser,StrOutputParser\n",
    "\n",
    "from langchain import hub\n",
    "from langchain_core.runnables import RunnablePassthrough, RunnableLambda\n",
    "from langchain_core.documents import Document\n",
    "\n",
    "from ragas import EvaluationDataset, RunConfig, evaluate\n",
    "from ragas.metrics import (\n",
    "    LLMContextRecall, Faithfulness, LLMContextPrecisionWithReference, AnswerRelevancy\n",
    ")\n",
    "from ragas.llms import LangchainLLMWrapper\n",
    "from ragas.embeddings import LangchainEmbeddingsWrapper\n",
    "\n",
    "from pydantic import BaseModel, Field\n",
    "\n",
    "from textwrap import dedent\n",
    "from operator import itemgetter\n",
    "from pprint import pprint\n",
    "import random\n",
    "\n",
    "from dotenv import load_dotenv\n",
    "load_dotenv()\n"
   ]
  },
  {
   "cell_type": "code",
   "execution_count": 4,
   "metadata": {},
   "outputs": [
    {
     "data": {
      "text/plain": [
       "36"
      ]
     },
     "execution_count": 4,
     "metadata": {},
     "output_type": "execute_result"
    }
   ],
   "source": [
    "COLLECTION_NAME = \"olympic_info\"\n",
    "DOC_PATH = 'data/olympic.txt'\n",
    "#  Vector DB와 동일하게 split(위의 것을 사용해도 된다.)\n",
    "loader = TextLoader(DOC_PATH, encoding='utf-8')\n",
    "splitter = RecursiveCharacterTextSplitter.from_tiktoken_encoder(\n",
    "    model_name=\"gpt-4o-mini\", chunk_size=500, chunk_overlap=100\n",
    ")\n",
    "docs = loader.load_and_split(splitter) # list[Document]\n",
    "\n",
    "len(docs)"
   ]
  },
  {
   "cell_type": "code",
   "execution_count": 5,
   "metadata": {},
   "outputs": [
    {
     "data": {
      "text/plain": [
       "3"
      ]
     },
     "execution_count": 5,
     "metadata": {},
     "output_type": "execute_result"
    }
   ],
   "source": [
    "### 평가 데이터로 사용할 context 추출\n",
    "total_samples = 3\n",
    "\n",
    "# index shuffle 후 total_samples만큼 context 추출\n",
    "\n",
    "idx_list = list(range(len(docs)))\n",
    "random.shuffle(idx_list)\n",
    "\n",
    "eval_context_list = []\n",
    "while len(eval_context_list) < total_samples:\n",
    "    idx = idx_list.pop()\n",
    "    context = docs[idx].page_content\n",
    "    if len(context) > 100: # 100글자 이상인 text만 사용\n",
    "        eval_context_list.append(context)\n",
    "\n",
    "len(eval_context_list)"
   ]
  },
  {
   "cell_type": "code",
   "execution_count": 6,
   "metadata": {},
   "outputs": [],
   "source": [
    "# user_input: 질문\n",
    "# ####### retrieved_contexts: 검색된 문서의 내용(page_content)들\n",
    "# qa_context: 질문 답변 쌍을 만들 때 참고한 context\n",
    "        # retrieved_contexts: 검색된 문서의 내용은 실제 RAG 실행시 넣는다.\n",
    "        # response: 모델의 답변 - 실제 RAG 실행시 넣는다.\n",
    "# reference: 정답\n",
    "class EvalDatasetSchema(BaseModel):\n",
    "    user_input: str = Field(..., title=\"질문(question)\")\n",
    "    qa_context: list[str] = Field(..., title=\"질문-답변 쌍을 만들 때 참조한 context.\")\n",
    "    reference: str = Field(..., title=\"질문의 정답(ground truth)\")\n",
    "\n",
    "parser = JsonOutputParser(pydantic_object=EvalDatasetSchema)\n",
    "\n",
    "eval_model = ChatOpenAI(model=\"gpt-4o\")\n",
    "prompt_template = PromptTemplate.from_template(\n",
    "    template=dedent(\"\"\"\n",
    "        당신은 RAG 평가를 위해 질문과 정답 쌍을 생성하는 인공지능 비서입니다.\n",
    "        다음 [Context] 에 문서가 주어지면 해당 문서를 기반으로 {num_questions}개 질문-정답 쌍을 생성하세요. \n",
    "        \n",
    "        질문과 정답을 생성한 후 아래의 출력 형식 GUIDE 에 맞게 생성합니다.\n",
    "        질문은 반드시 [Context] 문서에 있는 정보를 바탕으로 생성해야 합니다. [Context]에 없는 내용을 가지고 질문-정답을 절대 만들면 안됩니다.\n",
    "        질문은 간결하게 작성합니다.\n",
    "        하나의 질문에는 한 가지씩만 내용만 작성합니다. \n",
    "        질문을 만들 때 \"제공된 문맥에서\", \"문서에 설명된 대로\", \"주어진 문서에 따라\" 또는 이와 유사한 말을 하지 마세요.\n",
    "        정답은 반드시 [Context]에 있는 정보를 바탕으로 작성합니다. 없는 내용을 추가하지 않습니다.\n",
    "        질문과 정답을 만들고 그 내용이 [Context] 에 있는 항목인지 다시 한번 확인합니다.\n",
    "        생성된 질문-답변 쌍은 반드시 dictionary 형태로 정의하고 list로 묶어서 반환해야 합니다.\n",
    "        질문-답변 쌍은 반드시 {num_questions}개를 만들어야 합니다.\n",
    "\n",
    "        출력 형식: {format_instructions}\n",
    "                    \n",
    "        [Context]\n",
    "        {context}\n",
    "        \"\"\"\n",
    "    ),\n",
    "    partial_variables={\"format_instructions\":parser.get_format_instructions()}\n",
    ")\n",
    "# print(prompt_template.template)\n",
    "\n",
    "eval_dataset_generator = prompt_template | eval_model | parser"
   ]
  },
  {
   "cell_type": "code",
   "execution_count": 7,
   "metadata": {},
   "outputs": [],
   "source": [
    "############################################################\n",
    "# eval_context_list 모두로 만들기\n",
    "# \n",
    "# 생성된 질문-답변을 눈으로 보고 검증한 및 수정해야 한다.\n",
    "############################################################\n",
    "eval_data_list = []\n",
    "num_questions = 5\n",
    "for context in eval_context_list:\n",
    "    _eval_data_list = eval_dataset_generator.invoke({\"context\":context, \"num_questions\":num_questions})\n",
    "    eval_data_list.extend(_eval_data_list)"
   ]
  },
  {
   "cell_type": "code",
   "execution_count": 8,
   "metadata": {},
   "outputs": [
    {
     "data": {
      "text/plain": [
       "(15, 3)"
      ]
     },
     "execution_count": 8,
     "metadata": {},
     "output_type": "execute_result"
    }
   ],
   "source": [
    "import pandas as pd\n",
    "eval_df = pd.DataFrame(eval_data_list)\n",
    "eval_df.shape"
   ]
  },
  {
   "cell_type": "code",
   "execution_count": 10,
   "metadata": {},
   "outputs": [
    {
     "data": {
      "text/html": [
       "<div>\n",
       "<style scoped>\n",
       "    .dataframe tbody tr th:only-of-type {\n",
       "        vertical-align: middle;\n",
       "    }\n",
       "\n",
       "    .dataframe tbody tr th {\n",
       "        vertical-align: top;\n",
       "    }\n",
       "\n",
       "    .dataframe thead th {\n",
       "        text-align: right;\n",
       "    }\n",
       "</style>\n",
       "<table border=\"1\" class=\"dataframe\">\n",
       "  <thead>\n",
       "    <tr style=\"text-align: right;\">\n",
       "      <th></th>\n",
       "      <th>user_input</th>\n",
       "      <th>qa_context</th>\n",
       "      <th>reference</th>\n",
       "    </tr>\n",
       "  </thead>\n",
       "  <tbody>\n",
       "    <tr>\n",
       "      <th>10</th>\n",
       "      <td>다큐멘터리 '파노라마'가 조사한 주제는 무엇인가?</td>\n",
       "      <td>[BBC 다큐멘터리인 '파노라마'에서는 '매수된 올림픽'이란 주제로 2004년 8월...</td>\n",
       "      <td>'파노라마'는 2012년 하계 올림픽의 개최지 선정과 관련된 뇌물을 조사했다.</td>\n",
       "    </tr>\n",
       "    <tr>\n",
       "      <th>11</th>\n",
       "      <td>베르트랑 들라노에가 비난한 인물은 누구인가?</td>\n",
       "      <td>[특히 파리 시장이었던 베르트랑 들라노에(Bertrand Delanoë)는 영국의 ...</td>\n",
       "      <td>베르트랑 들라노에는 영국의 총리인 토니 블레어를 비난했다.</td>\n",
       "    </tr>\n",
       "    <tr>\n",
       "      <th>12</th>\n",
       "      <td>자크 시라크 대통령의 반응은 어땠는가?</td>\n",
       "      <td>[그는 당시 프랑스 대통령이었던 자크 시라크를 목격자로 내세웠지만 시라크 대통령은 ...</td>\n",
       "      <td>자크 시라크 대통령은 분쟁에 휘말리는 것을 피하고 인터뷰를 삼갔다.</td>\n",
       "    </tr>\n",
       "    <tr>\n",
       "      <th>13</th>\n",
       "      <td>마크 호들러가 주장한 내용은 무엇인가?</td>\n",
       "      <td>[이번에는 스위스 국적의 IOC위원 마크 호들러(Marc Hodler)가 이 논쟁의...</td>\n",
       "      <td>마크 호들러는 토리노가 IOC위원들에게 뇌물수수를 했다고 주장했다.</td>\n",
       "    </tr>\n",
       "    <tr>\n",
       "      <th>14</th>\n",
       "      <td>토리노가 개최지로 선정되는데 어떤 영향이 있었는가?</td>\n",
       "      <td>[이 언행이 많은 IOC위원들이 시온에 대해 언짢게 생각하게 되고 토리노가 개최지로...</td>\n",
       "      <td>마크 호들러의 발언은 많은 IOC위원들이 시온에 대해 언짢게 생각하게 하고 토리노가...</td>\n",
       "    </tr>\n",
       "  </tbody>\n",
       "</table>\n",
       "</div>"
      ],
      "text/plain": [
       "                      user_input  \\\n",
       "10   다큐멘터리 '파노라마'가 조사한 주제는 무엇인가?   \n",
       "11      베르트랑 들라노에가 비난한 인물은 누구인가?   \n",
       "12         자크 시라크 대통령의 반응은 어땠는가?   \n",
       "13         마크 호들러가 주장한 내용은 무엇인가?   \n",
       "14  토리노가 개최지로 선정되는데 어떤 영향이 있었는가?   \n",
       "\n",
       "                                           qa_context  \\\n",
       "10  [BBC 다큐멘터리인 '파노라마'에서는 '매수된 올림픽'이란 주제로 2004년 8월...   \n",
       "11  [특히 파리 시장이었던 베르트랑 들라노에(Bertrand Delanoë)는 영국의 ...   \n",
       "12  [그는 당시 프랑스 대통령이었던 자크 시라크를 목격자로 내세웠지만 시라크 대통령은 ...   \n",
       "13  [이번에는 스위스 국적의 IOC위원 마크 호들러(Marc Hodler)가 이 논쟁의...   \n",
       "14  [이 언행이 많은 IOC위원들이 시온에 대해 언짢게 생각하게 되고 토리노가 개최지로...   \n",
       "\n",
       "                                            reference  \n",
       "10        '파노라마'는 2012년 하계 올림픽의 개최지 선정과 관련된 뇌물을 조사했다.  \n",
       "11                   베르트랑 들라노에는 영국의 총리인 토니 블레어를 비난했다.  \n",
       "12              자크 시라크 대통령은 분쟁에 휘말리는 것을 피하고 인터뷰를 삼갔다.  \n",
       "13              마크 호들러는 토리노가 IOC위원들에게 뇌물수수를 했다고 주장했다.  \n",
       "14  마크 호들러의 발언은 많은 IOC위원들이 시온에 대해 언짢게 생각하게 하고 토리노가...  "
      ]
     },
     "execution_count": 10,
     "metadata": {},
     "output_type": "execute_result"
    }
   ],
   "source": [
    "## 생성 된 질문/답 쌍 확인\n",
    "eval_df.head()\n",
    "eval_df.tail()"
   ]
  },
  {
   "cell_type": "code",
   "execution_count": null,
   "metadata": {},
   "outputs": [],
   "source": []
  },
  {
   "cell_type": "markdown",
   "metadata": {},
   "source": [
    "# Chain 구성"
   ]
  },
  {
   "cell_type": "code",
   "execution_count": 11,
   "metadata": {},
   "outputs": [],
   "source": [
    "# Vector Store 연결\n",
    "COLLECTION_NAME = \"olympic_info\"\n",
    "PERSIST_DIRECTORY = \"vector_store/olympic_info\"\n",
    "embedding_model = OpenAIEmbeddings(model=\"text-embedding-3-small\")\n",
    "vector_store = Chroma(\n",
    "    embedding_function=embedding_model,\n",
    "    collection_name=COLLECTION_NAME,\n",
    "    persist_directory=PERSIST_DIRECTORY\n",
    ")"
   ]
  },
  {
   "cell_type": "code",
   "execution_count": 12,
   "metadata": {},
   "outputs": [
    {
     "data": {
      "text/plain": [
       "36"
      ]
     },
     "execution_count": 12,
     "metadata": {},
     "output_type": "execute_result"
    }
   ],
   "source": [
    "vector_store._collection.count()"
   ]
  },
  {
   "cell_type": "code",
   "execution_count": 13,
   "metadata": {},
   "outputs": [],
   "source": [
    "# Chain 구성\n",
    "# prompt template. langchain hub에 등록된 것을 가져와서 사용.\n",
    "prompt_template = hub.pull(\"rlm/rag-prompt\")\n",
    "# prompt_template\n",
    "\n",
    "# Retriever 생성\n",
    "retriever = vector_store.as_retriever(\n",
    "    search_type='mmr',\n",
    "    search_kwargs={\n",
    "        'k':3,\n",
    "        'fetch_k':10,\n",
    "        'lambda_mult':0.5\n",
    "    }\n",
    ")\n",
    "model = ChatOpenAI(model=\"gpt-4o-mini\")\n",
    "\n",
    "def format_docs(src_docs:dict[str, list[Document]]) -> str:\n",
    "    \"\"\"list[Document]: Vector Store에서 검색한 context들에서 \n",
    "    page_content만 추출해서 하나의 문자열로 합쳐서 반환\"\"\"\n",
    "    docs = src_docs['context']\n",
    "    return \"\\n\\n\".join([doc.page_content for doc in docs])\n",
    "\n",
    "def str_from_documents(docs: list[Document]) -> list[str]:\n",
    "    \"\"\"list[Document]에서 page_content 값들만 추출한 list를 반환.\"\"\"\n",
    "    return [doc.page_content for doc in docs]\n",
    "\n",
    "rag_chain = (\n",
    "    RunnablePassthrough() # rag chain을 RunnableSequence로 만들기 위해 Runnable인 것으로 시작.\n",
    "    | {\n",
    "        \"context\": retriever, \"question\":RunnablePassthrough()\n",
    "    } # retriver -> {\"context\":list[Document], \"question\":\"user input\"}\n",
    "    | {\n",
    "        # 앞에서 넘어온 dictionary에서 context(List[Document])를 추출 -> page_content값들을 list로 반환. list[str]\n",
    "        \"source_context\" : itemgetter(\"context\") | RunnableLambda(str_from_documents), \n",
    "        \"llm_answer\": {\n",
    "            # {\"context\":list[Document]} -> str(page_content들만 모은 string)\n",
    "            \"context\": RunnableLambda(format_docs), \"question\":itemgetter(\"question\")\n",
    "        } | prompt_template | model | StrOutputParser()  # LLM 응답 처리 chain. \n",
    "    }\n",
    ")"
   ]
  },
  {
   "cell_type": "code",
   "execution_count": 15,
   "metadata": {},
   "outputs": [
    {
     "data": {
      "text/plain": [
       "0                    동계 올림픽은 몇 년 주기로 개최되었나요?\n",
       "1                       1회 동계 올림픽은 어디서 열렸나요?\n",
       "2         피겨스케이팅과 아이스하키는 언제 하계 올림픽 종목이 되었나요?\n",
       "3                 동계 올림픽은 언제 처음 열리기로 결정되었나요?\n",
       "4                1994년 동계 올림픽은 어느 나라에서 열렸나요?\n",
       "5     1936년 하계 올림픽에서 나치 독일이 보여주려 했던 것은 무엇인가?\n",
       "6        제시 오언스가 1936년 하계 올림픽에서 획득한 금메달 개수는?\n",
       "7                소련이 처음으로 참가한 올림픽은 어떤 대회였는가?\n",
       "8                    노동자 올림픽은 어떤 이유로 조직되었는가?\n",
       "9                소련이 스포츠 강국으로서의 면모를 드러낸 시기는?\n",
       "10               다큐멘터리 '파노라마'가 조사한 주제는 무엇인가?\n",
       "11                  베르트랑 들라노에가 비난한 인물은 누구인가?\n",
       "12                     자크 시라크 대통령의 반응은 어땠는가?\n",
       "13                     마크 호들러가 주장한 내용은 무엇인가?\n",
       "14              토리노가 개최지로 선정되는데 어떤 영향이 있었는가?\n",
       "Name: user_input, dtype: object"
      ]
     },
     "execution_count": 15,
     "metadata": {},
     "output_type": "execute_result"
    }
   ],
   "source": [
    "eval_df['user_input']"
   ]
  },
  {
   "cell_type": "code",
   "execution_count": 14,
   "metadata": {},
   "outputs": [],
   "source": [
    "# rag_chain에 평가 질문을 입력해서 context들과 모델답변을 응답 받아 eval_dataset(eval_df)에 추가.\n",
    "context_list = []\n",
    "response_list = []\n",
    "\n",
    "for user_input in eval_df['user_input']:\n",
    "    res = rag_chain.invoke(user_input)\n",
    "    context_list.append(res['source_context'])\n",
    "    response_list.append(res['llm_answer'])"
   ]
  },
  {
   "cell_type": "code",
   "execution_count": 16,
   "metadata": {},
   "outputs": [
    {
     "name": "stdout",
     "output_type": "stream",
     "text": [
      "15 15\n"
     ]
    }
   ],
   "source": [
    "print(len(context_list), len(response_list))\n",
    "# pprint(context_list[:2])\n",
    "# pprint(response_list[:2])"
   ]
  },
  {
   "cell_type": "code",
   "execution_count": 18,
   "metadata": {},
   "outputs": [
    {
     "data": {
      "text/plain": [
       "['동계 올림픽은 4년 주기로 개최됩니다. 이 전통은 1924년 첫 동계 올림픽부터 시작되었으며, 1994년부터는 하계 올림픽이 끝난 후 2년 뒤에 개최되고 있습니다.',\n",
       " '1회 동계 올림픽은 1924년 프랑스의 샤모니에서 열렸습니다. 대회는 11일간 진행되었고, 총 16개 종목의 경기가 치러졌습니다.',\n",
       " '피겨스케이팅과 아이스하키는 하계 올림픽 종목이 아닙니다. 이 두 스포츠는 동계 올림픽에서 정식 종목으로 채택되었습니다. 따라서 하계 올림픽에서는 이들 스포츠의 경기가 이루어지지 않습니다.',\n",
       " '동계 올림픽은 1921년 로잔에서 열린 올림픽 의회에서 열기로 합의되었습니다. 첫 번째 동계 올림픽은 1924년 프랑스의 샤모니에서 11일간 진행되었습니다. 이 대회는 IOC가 하계 올림픽과 같은 해에 4년 주기로 개최하기로 결정한 것입니다.',\n",
       " '1994년 동계 올림픽은 노르웨이의 릴레함메르에서 열렸습니다.',\n",
       " '1936년 하계 올림픽에서 나치 독일은 자비롭고 평화를 위한다는 이미지를 보여주고 싶어 했습니다. 또한 아리안족의 우월성을 드러내려 했으나, 흑인 선수 제시 오언스가 금메달 4개를 따내면서 그 목표는 이루어지지 않았습니다.',\n",
       " '제시 오언스는 1936년 하계 올림픽에서 금메달을 4개 획득했습니다. 이는 나치 독일의 아리안족 우월성을 반박하는 상징적 사건이었습니다.',\n",
       " '소련이 처음으로 참가한 올림픽은 1952년 헬싱키에서 열린 하계 올림픽입니다. 그 이전에는 소련이 스파르타키아다라는 대회에 참가하였지만, 올림픽에는 처음으로 참석한 것입니다. 이후 소련은 1956년부터 1988년까지 올림픽에서 두각을 나타냈습니다.',\n",
       " '노동자 올림픽은 올림픽이 자본가와 귀족들의 대회로 여겨지면서 그에 대한 대안으로 조직된 대회입니다. 이는 1920년대와 1930년대 전쟁 기간 사이에 다른 공산주의 국가들과 함께 개최되었습니다. 따라서 노동자 올림픽은 사회주의 이념을 바탕으로 한 스포츠 행사로 시작되었습니다.',\n",
       " '소련은 1952년 헬싱키 하계 올림픽에 처음 참가하였고, 이후 1956년 하계 올림픽부터 1988년 하계 올림픽까지 스포츠 강국으로서의 면모를 드러냈습니다. 이 시기에 소련은 올림픽에서 많은 성과를 거두며 명성을 높였습니다.',\n",
       " \"다큐멘터리 '파노라마'는 '매수된 올림픽'이라는 주제로 2012년 하계 올림픽의 개최지 선정과 관련된 뇌물 수수 문제를 조사했습니다. 이 프로그램에서는 특정 후보 도시가 IOC 위원들에게 뇌물을 제공했을 가능성을 주장하며, 관련된 인물들의 발언과 논쟁을 다루었습니다. 특히, 프랑스의 베르트랑 들라노에가 영국의 토니 블레어와 런던올림픽유치위원회를 비난한 내용을 포함하고 있습니다.\",\n",
       " '베르트랑 들라노에는 영국 총리인 토니 블레어를 비난했습니다. 그는 런던올림픽유치위원회가 입후보 규정을 위반했다고 주장했습니다.',\n",
       " '자크 시라크 대통령에 대한 구체적인 반응은 이 retrieved context에 포함되어 있지 않습니다. 따라서 그의 반응에 대해서는 알 수 없습니다.',\n",
       " '마크 호들러는 2006년 동계 올림픽 유치와 관련하여 토리노가 IOC 위원들에게 뇌물을 수수했다고 주장했습니다. 이 발언으로 인해 광범위한 조사가 이루어졌으며, 그의 언행이 많은 IOC 위원들이 시온에 대해 불만을 가지게 하고 토리노가 개최지로 선정되는 데 영향을 미쳤을 가능성도 제기되었습니다.',\n",
       " '토리노가 개최지로 선정되는 과정에서 IOC 위원들에게 뇌물수수 allegations가 제기되었고, 이로 인해 광범위한 조사가 이루어졌다. 스위스 IOC위원 마크 호들러의 발언은 많은 IOC위원들이 시온에 불만을 느끼게 하여 토리노의 선정에 긍정적인 영향을 미쳤을 가능성이 제기되었다. 따라서, 토리노의 선정은 부정적 논란과 관련이 깊었다.']"
      ]
     },
     "execution_count": 18,
     "metadata": {},
     "output_type": "execute_result"
    }
   ],
   "source": [
    "response_list"
   ]
  },
  {
   "cell_type": "code",
   "execution_count": 19,
   "metadata": {},
   "outputs": [],
   "source": [
    "eval_df[\"retrieved_contexts\"] = context_list # context 추가\n",
    "eval_df[\"response\"] = response_list   # 정답 추가"
   ]
  },
  {
   "cell_type": "code",
   "execution_count": 20,
   "metadata": {},
   "outputs": [
    {
     "data": {
      "text/html": [
       "<div>\n",
       "<style scoped>\n",
       "    .dataframe tbody tr th:only-of-type {\n",
       "        vertical-align: middle;\n",
       "    }\n",
       "\n",
       "    .dataframe tbody tr th {\n",
       "        vertical-align: top;\n",
       "    }\n",
       "\n",
       "    .dataframe thead th {\n",
       "        text-align: right;\n",
       "    }\n",
       "</style>\n",
       "<table border=\"1\" class=\"dataframe\">\n",
       "  <thead>\n",
       "    <tr style=\"text-align: right;\">\n",
       "      <th></th>\n",
       "      <th>user_input</th>\n",
       "      <th>qa_context</th>\n",
       "      <th>reference</th>\n",
       "      <th>retrieved_contexts</th>\n",
       "      <th>response</th>\n",
       "    </tr>\n",
       "  </thead>\n",
       "  <tbody>\n",
       "    <tr>\n",
       "      <th>0</th>\n",
       "      <td>동계 올림픽은 몇 년 주기로 개최되었나요?</td>\n",
       "      <td>[동계 올림픽은 눈과 얼음을 이용하는 스포츠들을 모아 이루어졌으며 하계 올림픽 때 ...</td>\n",
       "      <td>동계 올림픽은 원래 4년 주기로 하계 올림픽과 같은 해에 열렸으나, 1994년부터는...</td>\n",
       "      <td>[동계올림픽\\n동계 올림픽은 눈과 얼음을 이용하는 스포츠들을 모아 이루어졌으며 하계...</td>\n",
       "      <td>동계 올림픽은 4년 주기로 개최됩니다. 이 전통은 1924년 첫 동계 올림픽부터 시...</td>\n",
       "    </tr>\n",
       "    <tr>\n",
       "      <th>1</th>\n",
       "      <td>1회 동계 올림픽은 어디서 열렸나요?</td>\n",
       "      <td>[1회 동계올림픽은 1924년, 프랑스의 샤모니에서 11일간 진행되었고, 16개 종...</td>\n",
       "      <td>1회 동계 올림픽은 프랑스의 샤모니에서 열렸습니다.</td>\n",
       "      <td>[동계올림픽\\n동계 올림픽은 눈과 얼음을 이용하는 스포츠들을 모아 이루어졌으며 하계...</td>\n",
       "      <td>1회 동계 올림픽은 1924년 프랑스의 샤모니에서 열렸습니다. 대회는 11일간 진행...</td>\n",
       "    </tr>\n",
       "    <tr>\n",
       "      <th>2</th>\n",
       "      <td>피겨스케이팅과 아이스하키는 언제 하계 올림픽 종목이 되었나요?</td>\n",
       "      <td>[피겨스케이팅, 아이스하키는 각각 1908년과 1920년에 하계올림픽 종목으로 들어...</td>\n",
       "      <td>피겨스케이팅은 1908년에, 아이스하키는 1920년에 하계 올림픽 종목이 되었습니다.</td>\n",
       "      <td>[하계올림픽\\n1859년 자파스 올림픽에 참가한 선수의 수는 250명을 넘지 못했다...</td>\n",
       "      <td>피겨스케이팅과 아이스하키는 하계 올림픽 종목이 아닙니다. 이 두 스포츠는 동계 올림...</td>\n",
       "    </tr>\n",
       "  </tbody>\n",
       "</table>\n",
       "</div>"
      ],
      "text/plain": [
       "                           user_input  \\\n",
       "0             동계 올림픽은 몇 년 주기로 개최되었나요?   \n",
       "1                1회 동계 올림픽은 어디서 열렸나요?   \n",
       "2  피겨스케이팅과 아이스하키는 언제 하계 올림픽 종목이 되었나요?   \n",
       "\n",
       "                                          qa_context  \\\n",
       "0  [동계 올림픽은 눈과 얼음을 이용하는 스포츠들을 모아 이루어졌으며 하계 올림픽 때 ...   \n",
       "1  [1회 동계올림픽은 1924년, 프랑스의 샤모니에서 11일간 진행되었고, 16개 종...   \n",
       "2  [피겨스케이팅, 아이스하키는 각각 1908년과 1920년에 하계올림픽 종목으로 들어...   \n",
       "\n",
       "                                           reference  \\\n",
       "0  동계 올림픽은 원래 4년 주기로 하계 올림픽과 같은 해에 열렸으나, 1994년부터는...   \n",
       "1                       1회 동계 올림픽은 프랑스의 샤모니에서 열렸습니다.   \n",
       "2    피겨스케이팅은 1908년에, 아이스하키는 1920년에 하계 올림픽 종목이 되었습니다.   \n",
       "\n",
       "                                  retrieved_contexts  \\\n",
       "0  [동계올림픽\\n동계 올림픽은 눈과 얼음을 이용하는 스포츠들을 모아 이루어졌으며 하계...   \n",
       "1  [동계올림픽\\n동계 올림픽은 눈과 얼음을 이용하는 스포츠들을 모아 이루어졌으며 하계...   \n",
       "2  [하계올림픽\\n1859년 자파스 올림픽에 참가한 선수의 수는 250명을 넘지 못했다...   \n",
       "\n",
       "                                            response  \n",
       "0  동계 올림픽은 4년 주기로 개최됩니다. 이 전통은 1924년 첫 동계 올림픽부터 시...  \n",
       "1  1회 동계 올림픽은 1924년 프랑스의 샤모니에서 열렸습니다. 대회는 11일간 진행...  \n",
       "2  피겨스케이팅과 아이스하키는 하계 올림픽 종목이 아닙니다. 이 두 스포츠는 동계 올림...  "
      ]
     },
     "execution_count": 20,
     "metadata": {},
     "output_type": "execute_result"
    }
   ],
   "source": [
    "eval_df.head(3)"
   ]
  },
  {
   "cell_type": "markdown",
   "metadata": {},
   "source": [
    "# 평가"
   ]
  },
  {
   "cell_type": "code",
   "execution_count": 21,
   "metadata": {},
   "outputs": [
    {
     "data": {
      "text/plain": [
       "EvaluationDataset(features=['user_input', 'retrieved_contexts', 'response', 'reference'], len=15)"
      ]
     },
     "execution_count": 21,
     "metadata": {},
     "output_type": "execute_result"
    }
   ],
   "source": [
    "# Dataframe으로 부터 EvalDataset 생성\n",
    "eval_dataset = EvaluationDataset.from_pandas(eval_df)\n",
    "eval_dataset"
   ]
  },
  {
   "cell_type": "code",
   "execution_count": 22,
   "metadata": {},
   "outputs": [
    {
     "data": {
      "text/plain": [
       "Dataset({\n",
       "    features: ['user_input', 'retrieved_contexts', 'response', 'reference'],\n",
       "    num_rows: 15\n",
       "})"
      ]
     },
     "execution_count": 22,
     "metadata": {},
     "output_type": "execute_result"
    }
   ],
   "source": [
    "# HuggingFace에 업로드 -> datasets.Dataset 으로 변환\n",
    "eval_dataset.to_hf_dataset()#.push_to_hub()"
   ]
  },
  {
   "cell_type": "code",
   "execution_count": 23,
   "metadata": {},
   "outputs": [
    {
     "data": {
      "application/vnd.jupyter.widget-view+json": {
       "model_id": "36a79b8f8703452d8e4a5ac93c2088b6",
       "version_major": 2,
       "version_minor": 0
      },
      "text/plain": [
       "Evaluating:   0%|          | 0/60 [00:00<?, ?it/s]"
      ]
     },
     "metadata": {},
     "output_type": "display_data"
    }
   ],
   "source": [
    "# model_name = \"gpt-4o\"\n",
    "model_name = \"gpt-4o-mini\"\n",
    "model = ChatOpenAI(model=model_name)\n",
    "eval_llm = LangchainLLMWrapper(model)\n",
    "\n",
    "embedding_model = OpenAIEmbeddings(model=\"text-embedding-3-small\")\n",
    "eval_embedding = LangchainEmbeddingsWrapper(embedding_model)\n",
    "\n",
    "\n",
    "## GPT-4o-mini 모델을 사용하여 평가 \n",
    "metrics = [\n",
    "    LLMContextRecall(llm=eval_llm),\n",
    "    LLMContextPrecisionWithReference(llm=eval_llm),\n",
    "    Faithfulness(llm=eval_llm),\n",
    "    AnswerRelevancy(llm=eval_llm, embeddings=eval_embedding)\n",
    "]\n",
    "result = evaluate(dataset=eval_dataset, metrics=metrics)"
   ]
  },
  {
   "cell_type": "code",
   "execution_count": 24,
   "metadata": {},
   "outputs": [
    {
     "data": {
      "text/plain": [
       "{'context_recall': 0.8000, 'llm_context_precision_with_reference': 0.7556, 'faithfulness': 0.8389, 'answer_relevancy': 0.3016}"
      ]
     },
     "execution_count": 24,
     "metadata": {},
     "output_type": "execute_result"
    }
   ],
   "source": [
    "result"
   ]
  },
  {
   "cell_type": "code",
   "execution_count": null,
   "metadata": {},
   "outputs": [],
   "source": [
    "# gpt-4o : 분당 토큰 리미트에 걸려 RateLimitError 가 발생할 수있다. gpt-40: 30,000 TPM, gpt-4o-mini: 200,000 TPM\n",
    "# 또한 network 연결등 문제가 발생하면 timeout 이 되어 평가가 실패할 수 있다.\n",
    "# LLM 연결과 관련해 timetout이나 ratelimiterror 발생시 metrics를 나눠서 실행, 설정 변경을 통해 해결한다.\n",
    "## https://platform.openai.com/settings/organization/limits\n",
    "run_config = RunConfig(\n",
    "    timeout=360,     # LLM 호출 이후 최대 대기 시간. 지정한 초까지 응답을 기다린다. \n",
    "    max_retries=20, # API 호출시 지정한 횟수만큼 재시도 한다.\n",
    "    max_wait=360,   # 재시도 대기 시간(초) 180초 기다린 후 재시도 한다.\n",
    "    max_workers=1   # 병렬처리 worker 수. 1로 설정하면 순차적으로 처리한다. (default: 16)\n",
    ")\n",
    "metrics1 = [\n",
    "    LLMContextRecall(llm=eval_llm),\n",
    "]\n",
    "metrics2 = [\n",
    "    LLMContextPrecisionWithReference(llm=eval_llm),\n",
    "]\n",
    "metrics3 = [\n",
    "    Faithfulness(llm=eval_llm),\n",
    "]\n",
    "metrics4 = [\n",
    "    AnswerRelevancy(llm=eval_llm, embeddings=eval_embedding)\n",
    "]"
   ]
  },
  {
   "cell_type": "code",
   "execution_count": null,
   "metadata": {},
   "outputs": [],
   "source": [
    "result1 = evaluate(dataset=eval_dataset, metrics=metrics1, run_config=run_config)\n",
    "result1"
   ]
  },
  {
   "cell_type": "code",
   "execution_count": null,
   "metadata": {},
   "outputs": [],
   "source": [
    "result2 = evaluate(dataset=eval_dataset, metrics=metrics2, run_config=run_config)\n",
    "result2"
   ]
  },
  {
   "cell_type": "code",
   "execution_count": null,
   "metadata": {},
   "outputs": [],
   "source": [
    "result3 = evaluate(dataset=eval_dataset, metrics=metrics3, run_config=run_config)\n",
    "result3"
   ]
  },
  {
   "cell_type": "code",
   "execution_count": null,
   "metadata": {},
   "outputs": [],
   "source": [
    "result4 = evaluate(dataset=eval_dataset, metrics=metrics4, run_config=run_config)\n",
    "result4"
   ]
  }
 ],
 "metadata": {
  "kernelspec": {
   "display_name": "langchain",
   "language": "python",
   "name": "python3"
  },
  "language_info": {
   "codemirror_mode": {
    "name": "ipython",
    "version": 3
   },
   "file_extension": ".py",
   "mimetype": "text/x-python",
   "name": "python",
   "nbconvert_exporter": "python",
   "pygments_lexer": "ipython3",
   "version": "3.12.7"
  }
 },
 "nbformat": 4,
 "nbformat_minor": 2
}
