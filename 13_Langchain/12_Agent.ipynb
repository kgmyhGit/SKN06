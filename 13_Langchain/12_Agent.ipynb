{
 "cells": [
  {
   "cell_type": "markdown",
   "metadata": {},
   "source": [
    "# Agent 개요\n",
    "\n",
    "- Agent 대형 언어 모델(LLM)과 다양한 도구(Tool)를 결합하여 복잡한 작업을 처리할 수 있도록 설계된 사용자 요청 처리 인공지능 시스템이다.\n",
    "    - Agent는 주어진 목표를 달성하기 위해 환경(toolkit)과 상호작용하며 의사 결정을 내리고 행동을 취하는 자율적인 개체이다.\n",
    "    - Agent의 자율적인 의사 결정은 LLM 이 담당하여 사람의 개입이 최소화 된다.\n",
    "\n",
    "## Agent의 주요 특징\n",
    "- **자율성**: 사전 정의된 규칙 없이도 스스로 결정을 내리고 행동할 수 있다.\n",
    "- **목표 지향성**: 특정 목표나 작업을 달성하기 위해 설계되어 있다.\n",
    "- **도구 활용**: 다양한 도구나 API를 활용하여 작업을 수행한다.\n",
    "\n",
    "## Agent 기본 동작 원리\n",
    "\n",
    "![agent_concept](figures/agent_concept.png)\n",
    "\n",
    "### ReAct\n",
    "- Reasoning and Acting의 약자로, 에이전트가 문제를 해결할 때 추론과 행동을 결합하는 방식이다.\n",
    "\n",
    "#### 동작 단계\n",
    "- **사용자 입력 수신**: \n",
    "    - 에이전트는 사용자가 입력한 질문이나 명령을 받는다.\n",
    "- **추론(Reasoning)**\n",
    "    - 입력된 내용을 분석하여 문제를 이해하고, 해결 방안을 계획합니다. \n",
    "- **행동 결정 및 도구 실행(Action)**: \n",
    "    - 계획에 따라 어떤 도구를 사용할지 결정하고 그 도구를 호출하여 작업을 수행한다.\n",
    "- **결과 평가 및 추가 행동 결정**: \n",
    "    - 도구 실행 결과를 바탕으로 추가로 도구를 사용할지, 아니면 최종 답변을 생성할지를 결정한다.\n",
    "    - 추가로 도구를 사용하기로 결정한 경우 도구를 실행한다.\n",
    "- **최종 답변 반환**: \n",
    "    - 최종 결과를 사용자에게 제공한다."
   ]
  },
  {
   "cell_type": "markdown",
   "metadata": {},
   "source": [
    "# TOOL\n",
    "# Tool Calling 개요\n",
    "- LLM이 외부 도구나 API를 활용하여 작업을 수행할 수 있게 하는 기능이다.\n",
    "\t- 예) LLM이 수학 계산을 수행해야 할 때, 직접 계산하는 대신 미리 정의된 '계산' 도구를 호출하여 정확한 결과를 얻을 수 있다.\n",
    "\t- 예) LLM에 최신 정보를 요청하는 질문이 들어왔을 때 '검색' 도구나 'Database 연동' 도구를 사용해 최신 뉴스를 검색하거나, 특정 데이터베이스에서 정보를 조회하는 등의 작업을 수행할 수 있다.\n",
    "- LLM은 도구를 이용해 자체 지식의 한계를 넘어서는 정보를 제공할 수 있습니다.\n",
    "- Tool calling은 OpenAI, Anthropic 등 여러 LLM 제공업체에서 지원한다.\n",
    "- LangChain은 이러한 다양한 모델들의 도구 호출 방식을 표준화하여 일관된 인터페이스로 제공한다. 이를 통해 개발자들은 다양한 모델과 도구들을 쉽게 통합할 수있다.\n",
    "- Tool Calling Concept: https://python.langchain.com/docs/concepts/tool_calling/\n",
    "- Langchain 지원 tools (Builtin Tool)\n",
    "    -  https://python.langchain.com/docs/integrations/tools/#search\n",
    "- **Agent:**\n",
    "\t- LLM 모델이 목표한 결과를 얻기 위해 적절한 도구를 선택하고, 이를 활용하여 작업을 수행하는 시스템을 **Agent**라고 한다."
   ]
  },
  {
   "cell_type": "markdown",
   "metadata": {},
   "source": [
    "# 랭체인 내장 도구(tools) 사용\n",
    "- Tavily 웹 검색 도구 사용해 Tool calling을 이해한다.\n",
    "\n",
    "\n",
    "## Tavily\n",
    "- 웹 검색 API.\n",
    "- https://tavily.com/\n",
    "-  LLM과 RAG 시스템에 최적화된 검색 엔진.\n",
    "   -  기존의 일반 검색 엔진들과 달리, Tavily는 AI 애플리케이션의 요구사항에 맞춰 설계되었다.\n",
    "   -  Tavily는 검색 결과에서 검색 query와 관련 콘텐츠를 추출하여 제공한다.\n",
    "   -  월 1000회 무료 사용 가능.\n",
    "### Tavily API Key 받기\n",
    "- 로그인 한다.\n",
    "- Overview 화면에서 API Key 생성\n",
    "  \n",
    "- **API Keys \\[+\\] 클릭**\n",
    "\n",
    "![apikey1](figures/travily_apikey1.png)\n",
    "\n",
    "- **Key Name을 입력하고 생성**\n",
    "\n",
    "![apikey1](figures/travily_apikey2.png)\n",
    "\n",
    "- **API Key를 복사**\n",
    "\n",
    "![apikey1](figures/travily_apikey3.png)\n",
    "\n",
    "- 환경변수에 등록한다.\n",
    "    - 변수이름: \"TAVILY_API_KEY\""
   ]
  },
  {
   "cell_type": "markdown",
   "metadata": {},
   "source": [
    "## TavilySearchResults\n",
    "- Langchain에서 제공하는 tool로 Tavily 의 검색 엔진 API를 사용해 검색을 수행한다.\n",
    "- 모듈: `langchain_community.tools` \n",
    "- https://python.langchain.com/docs/integrations/tools/tavily_search/"
   ]
  },
  {
   "cell_type": "code",
   "execution_count": 17,
   "metadata": {},
   "outputs": [
    {
     "data": {
      "text/plain": [
       "True"
      ]
     },
     "execution_count": 17,
     "metadata": {},
     "output_type": "execute_result"
    }
   ],
   "source": [
    "from pprint import pprint\n",
    "from dotenv import load_dotenv\n",
    "from langchain_community.tools import TavilySearchResults\n",
    "\n",
    "load_dotenv()"
   ]
  },
  {
   "cell_type": "markdown",
   "metadata": {},
   "source": [
    "## Tool 호출"
   ]
  },
  {
   "cell_type": "code",
   "execution_count": 3,
   "metadata": {},
   "outputs": [],
   "source": [
    "tavily_search = TavilySearchResults(\n",
    "    max_results=3 # 최대 몇개 결과를 반환할지.(검색할지.)\n",
    ")\n",
    "query = \"2024년 한국 시리즈 우승팀은 어디인가요?\"\n",
    "result = tavily_search.invoke(query) # Tool객체들은 Runnable 타입."
   ]
  },
  {
   "cell_type": "code",
   "execution_count": 6,
   "metadata": {},
   "outputs": [
    {
     "name": "stdout",
     "output_type": "stream",
     "text": [
      "<class 'list'> 3\n",
      "<class 'dict'>\n",
      "dict_keys(['url', 'content'])\n"
     ]
    }
   ],
   "source": [
    "print(type(result), len(result))\n",
    "print(type(result[0]))  # 응답: JSON 으로 온다. 이것을 dict로 반환.\n",
    "print(result[0].keys())"
   ]
  },
  {
   "cell_type": "code",
   "execution_count": 9,
   "metadata": {},
   "outputs": [
    {
     "name": "stdout",
     "output_type": "stream",
     "text": [
      "검색 URL: https://m.blog.naver.com/baekhw1/223631292469\n"
     ]
    }
   ],
   "source": [
    "print(\"검색 URL:\", result[0]['url'])"
   ]
  },
  {
   "cell_type": "code",
   "execution_count": 10,
   "metadata": {},
   "outputs": [
    {
     "name": "stdout",
     "output_type": "stream",
     "text": [
      "검색결과:\n",
      "2024년 한국시리즈가 시작되었다. 이번 우승팀은 과연 어디가 될지 . ... 김도영은 2차전에서 한국시리즈 . 첫 홈런까지 만들어내며 . 좋은 모습을 이어갔다. 결과는 8:3으로 기아가 승리했다. 오늘은 2024 한국시리즈 .\n"
     ]
    }
   ],
   "source": [
    "print(\"검색결과:\")\n",
    "print(result[0][\"content\"])"
   ]
  },
  {
   "cell_type": "code",
   "execution_count": 12,
   "metadata": {},
   "outputs": [
    {
     "name": "stdout",
     "output_type": "stream",
     "text": [
      "tool의 이름: tavily_search_results_json\n"
     ]
    }
   ],
   "source": [
    "# TOOL의 정보 -> 이 정보들이 LLM이 도구를 선택하는 기준\n",
    "print('tool의 이름:', tavily_search.name)"
   ]
  },
  {
   "cell_type": "code",
   "execution_count": 13,
   "metadata": {},
   "outputs": [
    {
     "name": "stdout",
     "output_type": "stream",
     "text": [
      "tool에 대한 설명:\n",
      "A search engine optimized for comprehensive, accurate, and trusted results. Useful for when you need to answer questions about current events. Input should be a search query.\n"
     ]
    }
   ],
   "source": [
    "print('tool에 대한 설명:')\n",
    "print(tavily_search.description)"
   ]
  },
  {
   "cell_type": "code",
   "execution_count": 18,
   "metadata": {},
   "outputs": [
    {
     "name": "stdout",
     "output_type": "stream",
     "text": [
      "tool의 schema(전체 구조)\n",
      "{'description': 'Input for the Tavily tool.',\n",
      " 'properties': {'query': {'description': 'search query to look up',\n",
      "                          'title': 'Query',\n",
      "                          'type': 'string'}},\n",
      " 'required': ['query'],\n",
      " 'title': 'TavilyInput',\n",
      " 'type': 'object'}\n"
     ]
    }
   ],
   "source": [
    "from pprint import pprint\n",
    "print(\"tool의 schema(전체 구조)\")\n",
    "pprint(tavily_search.args_schema.model_json_schema())"
   ]
  },
  {
   "cell_type": "markdown",
   "metadata": {},
   "source": [
    "```bash\n",
    "{'description': 'Input for the Tavily tool.',\n",
    " # 입력 파라미터(tool이 호출될 때때 전달되는 값을 받을 변수.)\n",
    " # {변수명: {변수 정보보}}\n",
    " 'properties': {'query': {'description': 'search query to look up', # 변수 설명(어떤 값을 받을 지 설명명)\n",
    "                          'title': 'Query',  # 이 변수 설정정의 식별값\n",
    "                          'type': 'string'}}, # Datatype\n",
    " 'required': ['query'],  # 입력 파라미터 중 필수인 것을 지정정\n",
    " 'title': 'TavilyInput', # TOOL 의 이름.\n",
    " 'type': 'object'}\n",
    "```"
   ]
  },
  {
   "cell_type": "markdown",
   "metadata": {},
   "source": [
    "## LLM tool callings\n",
    "![toolcalling_concept](figures/toolcalling_concept.png)\n",
    "1. Tool 생성\n",
    "2. 생성한 Tool을 tool calling을 지원하는 LLM 모델에 연결(binding)\n",
    "   - LLM 이 사용할 수있는 tool들을 등록(bind) 한다.\n",
    "    - `Model.bind([tool_1, tool_2, ...]): RunnableBinding`\n",
    "    - Model에 tool을 bind 하면 `Runnable` 타입의 `RunnableBinding` 객체가 반환된다.\n",
    "3. 질의가 들어오면 모델(LLM + tool) 은 tool calling 정보(어떤 툴을 어떤 query로 호출할지 schema 에 맞게 만든 정보)를 응답.\n",
    "    - 질의에 대해 tool 요청이 **필요하다고** 결정한 경우 tool들 중 어떤 tool을 어떤 query로 호출해야 하는지를 응답한다.\n",
    "    - 질의에 대해 tool 요청이 **필요 없다고** 결정한 경우는 LLM API를 호출한다.(모델이 직접 응답)\n",
    "5. 3에서 응답한 tool calling 정보를 이용해 tool 호출"
   ]
  },
  {
   "cell_type": "markdown",
   "metadata": {},
   "source": [
    "### LLM Model에 tool binding\n",
    "- `LLM.bind_tools(tools=[tool_1, tool_2, ...])`"
   ]
  },
  {
   "cell_type": "code",
   "execution_count": 37,
   "metadata": {},
   "outputs": [
    {
     "name": "stdout",
     "output_type": "stream",
     "text": [
      "<class 'langchain_openai.chat_models.base.ChatOpenAI'> <class 'langchain_core.runnables.base.RunnableBinding'>\n"
     ]
    }
   ],
   "source": [
    "from langchain_openai import ChatOpenAI\n",
    "from langchain_community.tools import TavilySearchResults\n",
    "\n",
    "# 1. tool 생성\n",
    "tavily_search = TavilySearchResults(\n",
    "    max_results=3,\n",
    "    include_answer=True,\n",
    "    include_images=True, # 검색 페이지의 이미지들 경로.\n",
    "    include_raw_content=True, # 원본 내용을 포함해서 응답. (False: 요약내용만 반환.)\n",
    ")\n",
    "\n",
    "# 모델 생성 + tool binding\n",
    "model = ChatOpenAI(model=\"gpt-4o-mini\") # Agent에서 사용하는 모델은 성능 좋은 것을 쓴다.\n",
    "tool_model = model.bind_tools(tools=[tavily_search])\n",
    "\n",
    "print(type(model), type(tool_model))"
   ]
  },
  {
   "cell_type": "code",
   "execution_count": 38,
   "metadata": {},
   "outputs": [
    {
     "name": "stdout",
     "output_type": "stream",
     "text": [
      "<class 'langchain_core.messages.ai.AIMessage'>\n"
     ]
    }
   ],
   "source": [
    "# 도구호출이 필요없는 query를 전송.\n",
    "result1 = tool_model.invoke(\"안녕하세요.\")\n",
    "print(type(result1))"
   ]
  },
  {
   "cell_type": "code",
   "execution_count": 40,
   "metadata": {},
   "outputs": [
    {
     "data": {
      "text/plain": [
       "{'content': '안녕하세요! 어떻게 도와드릴까요?',\n",
       " 'additional_kwargs': {'refusal': None},\n",
       " 'response_metadata': {'token_usage': {'completion_tokens': 11,\n",
       "   'prompt_tokens': 82,\n",
       "   'total_tokens': 93,\n",
       "   'completion_tokens_details': {'accepted_prediction_tokens': 0,\n",
       "    'audio_tokens': 0,\n",
       "    'reasoning_tokens': 0,\n",
       "    'rejected_prediction_tokens': 0},\n",
       "   'prompt_tokens_details': {'audio_tokens': 0, 'cached_tokens': 0}},\n",
       "  'model_name': 'gpt-4o-mini-2024-07-18',\n",
       "  'system_fingerprint': 'fp_6fc10e10eb',\n",
       "  'finish_reason': 'stop',\n",
       "  'logprobs': None},\n",
       " 'type': 'ai',\n",
       " 'name': None,\n",
       " 'id': 'run-2bc2464a-abf2-4c1a-91e9-1f58944d2897-0',\n",
       " 'example': False,\n",
       " 'tool_calls': [],\n",
       " 'invalid_tool_calls': [],\n",
       " 'usage_metadata': {'input_tokens': 82,\n",
       "  'output_tokens': 11,\n",
       "  'total_tokens': 93,\n",
       "  'input_token_details': {'audio': 0, 'cache_read': 0},\n",
       "  'output_token_details': {'audio': 0, 'reasoning': 0}}}"
      ]
     },
     "execution_count": 40,
     "metadata": {},
     "output_type": "execute_result"
    }
   ],
   "source": [
    "dict(result1)"
   ]
  },
  {
   "cell_type": "code",
   "execution_count": 41,
   "metadata": {},
   "outputs": [
    {
     "data": {
      "text/plain": [
       "'안녕하세요! 어떻게 도와드릴까요?'"
      ]
     },
     "execution_count": 41,
     "metadata": {},
     "output_type": "execute_result"
    }
   ],
   "source": [
    "result1.content  # LLM 응답 (값이 있으면 LLM 최종 응답을 함.)"
   ]
  },
  {
   "cell_type": "code",
   "execution_count": 42,
   "metadata": {},
   "outputs": [
    {
     "data": {
      "text/plain": [
       "[]"
      ]
     },
     "execution_count": 42,
     "metadata": {},
     "output_type": "execute_result"
    }
   ],
   "source": [
    "result1.tool_calls # Tool 호출 정보 (비어있으면 LLM 이 최종응답을 함.)"
   ]
  },
  {
   "cell_type": "code",
   "execution_count": 43,
   "metadata": {},
   "outputs": [],
   "source": [
    "####### tool 호출이 필요한 요청\n",
    "query = \"2024년 프로야구 한국 시리즈 우승팀은 어디인지 알려주세요.\"\n",
    "result2 = tool_model.invoke(query)"
   ]
  },
  {
   "cell_type": "code",
   "execution_count": 44,
   "metadata": {},
   "outputs": [
    {
     "data": {
      "text/plain": [
       "''"
      ]
     },
     "execution_count": 44,
     "metadata": {},
     "output_type": "execute_result"
    }
   ],
   "source": [
    "result2.content"
   ]
  },
  {
   "cell_type": "code",
   "execution_count": 45,
   "metadata": {},
   "outputs": [
    {
     "data": {
      "text/plain": [
       "[{'name': 'tavily_search_results_json',\n",
       "  'args': {'query': '2024년 프로야구 한국 시리즈 우승팀'},\n",
       "  'id': 'call_AZfQdyw0SGSxXUnRcvcxuPBY',\n",
       "  'type': 'tool_call'}]"
      ]
     },
     "execution_count": 45,
     "metadata": {},
     "output_type": "execute_result"
    }
   ],
   "source": [
    "result2.tool_calls"
   ]
  },
  {
   "cell_type": "code",
   "execution_count": 47,
   "metadata": {},
   "outputs": [
    {
     "data": {
      "text/plain": [
       "'tavily_search_results_json'"
      ]
     },
     "execution_count": 47,
     "metadata": {},
     "output_type": "execute_result"
    }
   ],
   "source": [
    "tavily_search.args_schema.model_json_schema()\n",
    "tavily_search.name"
   ]
  },
  {
   "cell_type": "markdown",
   "metadata": {},
   "source": [
    "## tool_calls 를 이용해 Tool 호출\n",
    "- LLM 모델이 tool 요청을 결정한 경우 어떤 tool을 어떻게 호출할 지 tool_calls를 반환한다.\n",
    "- tool_calls를 이용해 TOOL을 호출한다.\n",
    "\n",
    "### 방법\n",
    "1. tool_calls의 query만 추출해서 호출\n",
    "   - `tool.invoke(tool_calls['args'])`\n",
    "   - **반환타입**: list[dict]\n",
    "2. tool_calls 정보를 넣어 호출\n",
    "   - **반환타입**: `ToolMessage`\n",
    "   - tool의 처리결과를 담는 Message Type 이다."
   ]
  },
  {
   "cell_type": "markdown",
   "metadata": {},
   "source": [
    "#### tool_calls의 query만 추출해서 호출"
   ]
  },
  {
   "cell_type": "code",
   "execution_count": 51,
   "metadata": {},
   "outputs": [],
   "source": [
    "query = result2.tool_calls[0]['args']\n",
    "search_result = tavily_search.invoke(query)"
   ]
  },
  {
   "cell_type": "code",
   "execution_count": 55,
   "metadata": {},
   "outputs": [
    {
     "name": "stdout",
     "output_type": "stream",
     "text": [
      "<class 'list'> <class 'dict'>\n"
     ]
    },
    {
     "data": {
      "text/plain": [
       "3"
      ]
     },
     "execution_count": 55,
     "metadata": {},
     "output_type": "execute_result"
    }
   ],
   "source": [
    "print(type(search_result), type(search_result[0]))\n",
    "len(search_result)"
   ]
  },
  {
   "cell_type": "code",
   "execution_count": 54,
   "metadata": {},
   "outputs": [
    {
     "name": "stdout",
     "output_type": "stream",
     "text": [
      "{'content': '프로야구의 출발점: 1982년 첫 한국시리즈는 한국 프로야구의 시작을 알리는 기념비적인 사건이었습니다. 이는 한국 '\n",
      "            '스포츠 산업의 발전을 이끌고, 프로 스포츠의 대중화를 촉진하는 계기가 되었습니다. ... 2024년: Kia 타이거즈 '\n",
      "            '. 24년 한국시리즈 우승팀 KIA',\n",
      " 'url': 'https://galaxy0715.com/entry/한국시리즈-영광의-순간들-역대-한국시리즈-우승팀24년-한국시리즈-우승팀'}\n"
     ]
    }
   ],
   "source": [
    "pprint(search_result[0])"
   ]
  },
  {
   "cell_type": "markdown",
   "metadata": {},
   "source": [
    "#### tool_call 정보를 넣어 Tool 호출"
   ]
  },
  {
   "cell_type": "code",
   "execution_count": 58,
   "metadata": {},
   "outputs": [],
   "source": [
    "search_result2 = tavily_search.invoke(result2.tool_calls[0])"
   ]
  },
  {
   "cell_type": "code",
   "execution_count": 60,
   "metadata": {},
   "outputs": [
    {
     "name": "stdout",
     "output_type": "stream",
     "text": [
      "<class 'langchain_core.messages.tool.ToolMessage'>\n"
     ]
    }
   ],
   "source": [
    "print(type(search_result2))"
   ]
  },
  {
   "cell_type": "code",
   "execution_count": 62,
   "metadata": {},
   "outputs": [
    {
     "data": {
      "text/plain": [
       "{'content': '[{\"url\": \"https://namu.wiki/w/KBO+한국시리즈\", \"content\": \"1988년 한국시리즈 우승팀 해태 ... 결국 2014년을 끝으로 한국프로야구 리그의 명칭이 \\'kbo 리그\\'로 리브랜딩되고 한국시리즈 명칭 역시 \\'kbo 한국시리즈\\'로 개칭되면서 이 우승기 디자인도 더 이상 쓰이지 않게 됐다. ... 2024년 한국시리즈 mvp\"}, {\"url\": \"https://namu.wiki/w/2024+신한+SOL+Bank+KBO+한국시리즈\", \"content\": \"2024년 kbo 한국시리즈 우승팀. ... 올 시즌 kia는 한국프로야구 43년 역사상 단일 시즌 최다 실책을 기록했을 만큼 매우 불안한 수비를 보여주고 있다. ... 가을야구 경험 부족 2017년 한국시리즈 이후 포스트시즌이 단 2번 뿐이고, 그마저도 전부 5위로 진출해서 와일드\"}, {\"url\": \"https://m.blog.naver.com/dicasub/223637908357\", \"content\": \"프로야구 한국시리즈 역대 우승팀 및 팀별 우승 횟수(~2024년까지) : 네이버 블로그 본문 바로가기 카테고리 이동 디카섭(DiCaSub)의 스포츠 통계 이야기 야구[국내일반] [공지] 프로야구 한국시리즈 역대 우승팀 및 팀별 우승 횟수(~2024년까지) 디카섭 DiCaSub 이웃추가 본문 기타 기능 공유하기 국내 프로야구(KBO) 한국시리즈 역대 우승팀 정리 삼성과의 상대전적 4승 1패로 KIA가 한국시리즈 우승 트로피를 들어올렸습니다!! 역대 한국시리즈 우승팀 현황을 아래 <표>와 <그림>으로 정리해보았습니다. 국내 프로야구(KBO) 구단(팀)별 한국시리즈 우승 횟수<표> 국내 프로야구(KBO) 구단(팀)별 한국시리즈 우승 횟수<그림> [그림1] 국내 프로야구(KBO) 구단(팀)별 한국시리즈 우승 횟수 (막대형) [그림2] 국내 프로야구(KBO) 구단(팀)별 한국시리즈 우승 횟수 (원형) https://blog.naver.com/dicasub/223603577717 2024년 국내 프로야구(KBO) 정규리그 최종 순위 정리(월별 순위 분석/최종)2024년 국내 프로야구(KBO) 정규리그 최종 순위 정리 (월별 순위 분석/최종) 드디어 오늘 2024년 국내 ... http://blog.naver.com/dicasub #야구 #한국시리즈 댓글 1 공유하기 {\\\\\"title\\\\\":\\\\\"프로야구 한국시리즈 역대 우승팀 및 팀별 우승 횟수(~2024년까지)\\\\\",\\\\\"source\\\\\":\\\\\"https://blog.naver.com/dicasub/223637908357\\\\\",\\\\\"blogName\\\\\":\\\\\"디카섭(Di..\\\\\",\\\\\"blogId\\\\\":\\\\\"dicasub\\\\\",\\\\\"domainIdOrBlogId\\\\\":\\\\\"dicasub\\\\\",\\\\\"nicknameOrBlogId\\\\\":\\\\\"디카섭 DiCaSub\\\\\",\\\\\"logNo\\\\\":223637908357,\\\\\"smartEditorVersion\\\\\":4,\\\\\"meDisplay\\\\\":true,\\\\\"lineDisplay\\\\\":true,\\\\\"outsideDisplay\\\\\":false,\\\\\"cafeDisplay\\\\\":true,\\\\\"blogDisplay\\\\\":true} 댓글 1 공유하기 취소 이웃추가\"}]',\n",
       " 'additional_kwargs': {},\n",
       " 'response_metadata': {},\n",
       " 'type': 'tool',\n",
       " 'name': 'tavily_search_results_json',\n",
       " 'id': None,\n",
       " 'tool_call_id': 'call_AZfQdyw0SGSxXUnRcvcxuPBY',\n",
       " 'artifact': {'query': '2024년 프로야구 한국 시리즈 우승팀',\n",
       "  'follow_up_questions': None,\n",
       "  'answer': 'Based on the data provided, the 2024 KBO Korean Series was won by KIA. KIA secured the victory in the Korean Series by defeating their opponent. This win marked a significant achievement for KIA in the realm of Korean professional baseball.',\n",
       "  'images': ['https://dimg1.donga.com/wps/SPORTS/IMAGE/2024/04/23/124610379.2.jpg',\n",
       "   'http://img.tf.co.kr/article/home/2024/04/23/202414281713838977.jpg',\n",
       "   'https://img1.daumcdn.net/thumb/S1200x630/?fname=https://t1.daumcdn.net/news/202404/23/poctan/20240423114250478duvz.jpg',\n",
       "   'https://img1.daumcdn.net/thumb/S1200x630/?fname=https://t1.daumcdn.net/news/202404/23/sportsdonga/20240423112425221pghu.jpg',\n",
       "   'https://cdn.ziksir.com/news/photo/202211/31044_61479_4548.jpg'],\n",
       "  'results': [{'title': 'Kbo 한국시리즈 - 나무위키',\n",
       "    'url': 'https://namu.wiki/w/KBO+한국시리즈',\n",
       "    'content': \"1988년 한국시리즈 우승팀 해태 ... 결국 2014년을 끝으로 한국프로야구 리그의 명칭이 'kbo 리그'로 리브랜딩되고 한국시리즈 명칭 역시 'kbo 한국시리즈'로 개칭되면서 이 우승기 디자인도 더 이상 쓰이지 않게 됐다. ... 2024년 한국시리즈 mvp\",\n",
       "    'score': 0.99989367,\n",
       "    'raw_content': None},\n",
       "   {'title': '2024 신한 SOL Bank KBO 한국시리즈 - 나무위키',\n",
       "    'url': 'https://namu.wiki/w/2024+신한+SOL+Bank+KBO+한국시리즈',\n",
       "    'content': '2024년 kbo 한국시리즈 우승팀. ... 올 시즌 kia는 한국프로야구 43년 역사상 단일 시즌 최다 실책을 기록했을 만큼 매우 불안한 수비를 보여주고 있다. ... 가을야구 경험 부족 2017년 한국시리즈 이후 포스트시즌이 단 2번 뿐이고, 그마저도 전부 5위로 진출해서 와일드',\n",
       "    'score': 0.9998822,\n",
       "    'raw_content': None},\n",
       "   {'title': '프로야구 한국시리즈 역대 우승팀 및 팀별 우승 횟수(~2024년까지) : 네이버 블로그',\n",
       "    'url': 'https://m.blog.naver.com/dicasub/223637908357',\n",
       "    'content': '프로야구 한국시리즈 역대 우승팀 및 팀별 우승 횟수(~2024년까지) : 네이버 블로그 본문 바로가기 카테고리 이동 디카섭(DiCaSub)의 스포츠 통계 이야기 야구[국내일반] [공지] 프로야구 한국시리즈 역대 우승팀 및 팀별 우승 횟수(~2024년까지) 디카섭 DiCaSub 이웃추가 본문 기타 기능 공유하기 국내 프로야구(KBO) 한국시리즈 역대 우승팀 정리 삼성과의 상대전적 4승 1패로 KIA가 한국시리즈 우승 트로피를 들어올렸습니다!! 역대 한국시리즈 우승팀 현황을 아래 <표>와 <그림>으로 정리해보았습니다. 국내 프로야구(KBO) 구단(팀)별 한국시리즈 우승 횟수<표> 국내 프로야구(KBO) 구단(팀)별 한국시리즈 우승 횟수<그림> [그림1] 국내 프로야구(KBO) 구단(팀)별 한국시리즈 우승 횟수 (막대형) [그림2] 국내 프로야구(KBO) 구단(팀)별 한국시리즈 우승 횟수 (원형) https://blog.naver.com/dicasub/223603577717 2024년 국내 프로야구(KBO) 정규리그 최종 순위 정리(월별 순위 분석/최종)2024년 국내 프로야구(KBO) 정규리그 최종 순위 정리 (월별 순위 분석/최종) 드디어 오늘 2024년 국내 ... http://blog.naver.com/dicasub #야구 #한국시리즈 댓글 1 공유하기 {\"title\":\"프로야구 한국시리즈 역대 우승팀 및 팀별 우승 횟수(~2024년까지)\",\"source\":\"https://blog.naver.com/dicasub/223637908357\",\"blogName\":\"디카섭(Di..\",\"blogId\":\"dicasub\",\"domainIdOrBlogId\":\"dicasub\",\"nicknameOrBlogId\":\"디카섭 DiCaSub\",\"logNo\":223637908357,\"smartEditorVersion\":4,\"meDisplay\":true,\"lineDisplay\":true,\"outsideDisplay\":false,\"cafeDisplay\":true,\"blogDisplay\":true} 댓글 1 공유하기 취소 이웃추가',\n",
       "    'score': 0.99980444,\n",
       "    'raw_content': '프로야구 한국시리즈 역대 우승팀 및 팀별 우승 횟수(~2024년까지) : 네이버 블로그\\n \\n본문 바로가기\\n블로그\\n카테고리 이동 디카섭(DiCaSub)의 스포츠 통계 이야기\\n\\n검색 MY메뉴 열기\\n야구[국내일반]\\n[공지] 프로야구 한국시리즈 역대 우승팀 및 팀별 우승 횟수(~2024년까지)\\n\\n디카섭 DiCaSub\\n4시간 전\\n이웃추가\\n본문 기타 기능\\n\\n본문 폰트 크기 조정 본문 폰트 크기 작게 보기 본문 폰트 크기 크게 보기 가\\n\\n공감하기\\n\\n\\n공유하기\\n\\nURL복사\\n신고하기\\n\\n\\n국내 프로야구(KBO) 한국시리즈 역대 우승팀 정리\\n(2024 시즌까지 업데이트 완료)\\n작성자 DiCaSub / 작성일 2024-10-28\\n\\n\\u200b오늘 한국시리즈 5차전이 KIA의 역전승으로 종료되면서,\\n삼성과의 상대전적 4승 1패로 KIA가 한국시리즈 우승 트로피를 들어올렸습니다!!\\n축하축하!!\\n\\n2024년의 국내 프로야구의 대장정은 이렇게 마무리되었습니다.\\n모든 구단, 모든 선수들 정말 고생 많으셨습니다!\\n\\n\\n역대 한국시리즈 우승팀 현황을 아래 <표>와 <그림>으로 정리해보았습니다.\\n<표 항목 : 시즌별 우승팀/준우승팀/상대전적>\\n(이제 나의 팀 한화이글스도 여기서 이름 좀 올려봅시다^^)\\n시즌우승팀준우승팀전적2024년KIA삼성4승1패2023년LGKT4승1패2022년SSG키움4승2패2021년KT두산4승2020년NC두산4승2패2019년두산키움4승2018년SK두산4승2패2017년KIA두산4승1패2016년두산NC4승2015년두산삼성4승1패2014년삼성넥센4승2패2013년삼성두산4승3패2012년삼성SK4승2패2011년삼성SK4승1패2010년SK삼성4승2009년KIASK4승3패2008년SK두산4승1패2007년SK두산4승2패2006년삼성한화4승1무1패2005년삼성두산4승2004년현대삼성4승3무2패2003년현대SK4승3패2002년삼성LG4승2패2001년두산삼성4승2패2000년현대두산4승3패1999년한화롯데4승1패1998년현대LG4승2패1997년해태LG4승1패1996년해태현대4승2패1995년OB롯데4승3패1994년LG태평양4승1993년해태삼성4승1무2패1992년롯데빙그레4승1패1991년해태빙그레4승1990년LG삼성4승1989년해태빙그레4승1패1988년해태빙그레4승2패1987년해태삼성4승1986년해태삼성4승1패1985년삼성 전·후기 통합우승(한국시리즈 열리지 않음)1984년롯데삼성4승3패1983년해태MBC4승1무1982년OB삼성4승1무1패\\n\\n\\n국내 프로야구(KBO) 구단(팀)별\\n한국시리즈 우승 횟수<표>\\n작성자 DiCaSub / 작성일 2024-10-28\\n\\n우승팀우승횟수 (회)KIA (해태포함)12삼성8두산 (OB포함)6SSG (SK포함)5현대4LG3롯데2한화1NC1KT1\\n\\n\\n국내 프로야구(KBO) 구단(팀)별\\n한국시리즈 우승 횟수<그림>\\n작성자 DiCaSub / 작성일 2024-10-28\\n\\n\\n[그림1] 국내 프로야구(KBO) 구단(팀)별 한국시리즈 우승 횟수 (막대형)\\n\\n[그림2] 국내 프로야구(KBO) 구단(팀)별 한국시리즈 우승 횟수 (원형)\\n\\n(참고) 2024 정규리그 성적 포스팅!\\nhttps://blog.naver.com/dicasub/223603577717\\n2024년 국내 프로야구(KBO) 정규리그 최종 순위 정리(월별 순위 분석/최종)2024년 국내 프로야구(KBO) 정규리그 최종 순위 정리 (월별 순위 분석/최종) 드디어 오늘 2024년 국내 ... blog.naver.com\\n\\n디카섭의 스포츠통계 이야기\\nhttp://blog.naver.com/dicasub\\n작성자 DiCaSub / 작성일 2024-10-28\\n\\n\\n\\n\\u200b\\n\\n#야구\\n#프로야구\\n#한국시리즈\\n#한국시리즈일정\\n#한국시리즈우승\\n#한국시리즈준우승\\n#기아삼성\\n#kia삼성\\n#기아우승\\n#삼성준우승\\n#야구우승\\n#프로야구포스트시즌\\n#포스트시즌\\n#프로야구한국시리즈\\n#2024프로야구한국시리즈\\n#야구한국시리즈\\n#야구한국시리즈우승\\n#프로야구순위\\n#프로야구우승\\n#kbo포스트시즌\\n#kbo순위\\n#kbo리그\\n#kbo우승\\n#kbo우승팀\\n#kbo우승횟수\\n#역대kbo우승팀\\n#역대한국시리즈우승\\n#역대한국시리즈우승팀\\n#역대한국시리즈\\n#역대한국시리즈전적\\n\\n\\n공감한 사람 보러가기\\n댓글 1 공유하기\\n{\"title\":\"프로야구 한국시리즈 역대 우승팀 및 팀별 우승 횟수(~2024년까지)\",\"source\":\"https://blog.naver.com/dicasub/223637908357\",\"blogName\":\"디카섭(Di..\",\"blogId\":\"dicasub\",\"domainIdOrBlogId\":\"dicasub\",\"nicknameOrBlogId\":\"디카섭 DiCaSub\",\"logNo\":223637908357,\"smartEditorVersion\":4,\"meDisplay\":true,\"lineDisplay\":true,\"outsideDisplay\":false,\"cafeDisplay\":true,\"blogDisplay\":true}\\n닫기\\n카테고리\\n이 블로그 홈\\n\\n공감한 사람 보러가기\\n댓글 1 공유하기\\n디카섭 DiCaSub(dicasub) 님을 이웃추가하고 새글을 받아보세요\\n취소 이웃추가'}],\n",
       "  'response_time': 4.37},\n",
       " 'status': 'success'}"
      ]
     },
     "execution_count": 62,
     "metadata": {},
     "output_type": "execute_result"
    }
   ],
   "source": [
    "dict(search_result2)"
   ]
  },
  {
   "cell_type": "markdown",
   "metadata": {},
   "source": [
    "#### tool_call 이 여러개일 경우 \n",
    "- 질의에 대해 tool을 여러번 호출 해야 하는 경우 tool_calling 정보를 여러개 반환할 수 있다.\n",
    "    - 예) 검색할 키워드가 여러개인 경우. \n",
    "- `tool.batch([tool_call1, tool_call2, ..])`"
   ]
  },
  {
   "cell_type": "code",
   "execution_count": 64,
   "metadata": {},
   "outputs": [
    {
     "data": {
      "text/plain": [
       "[ToolMessage(content='[{\"url\": \"https://namu.wiki/w/KBO+한국시리즈\", \"content\": \"1988년 한국시리즈 우승팀 해태 ... 결국 2014년을 끝으로 한국프로야구 리그의 명칭이 \\'kbo 리그\\'로 리브랜딩되고 한국시리즈 명칭 역시 \\'kbo 한국시리즈\\'로 개칭되면서 이 우승기 디자인도 더 이상 쓰이지 않게 됐다. ... 2024년 한국시리즈 mvp\"}, {\"url\": \"https://namu.wiki/w/2024+신한+SOL+Bank+KBO+한국시리즈\", \"content\": \"2024년 kbo 한국시리즈 우승팀. ... 올 시즌 kia는 한국프로야구 43년 역사상 단일 시즌 최다 실책을 기록했을 만큼 매우 불안한 수비를 보여주고 있다. ... 가을야구 경험 부족 2017년 한국시리즈 이후 포스트시즌이 단 2번 뿐이고, 그마저도 전부 5위로 진출해서 와일드\"}, {\"url\": \"https://m.blog.naver.com/dicasub/223637908357\", \"content\": \"프로야구 한국시리즈 역대 우승팀 및 팀별 우승 횟수(~2024년까지) : 네이버 블로그 본문 바로가기 카테고리 이동 디카섭(DiCaSub)의 스포츠 통계 이야기 야구[국내일반] [공지] 프로야구 한국시리즈 역대 우승팀 및 팀별 우승 횟수(~2024년까지) 디카섭 DiCaSub 이웃추가 본문 기타 기능 공유하기 국내 프로야구(KBO) 한국시리즈 역대 우승팀 정리 삼성과의 상대전적 4승 1패로 KIA가 한국시리즈 우승 트로피를 들어올렸습니다!! 역대 한국시리즈 우승팀 현황을 아래 <표>와 <그림>으로 정리해보았습니다. 국내 프로야구(KBO) 구단(팀)별 한국시리즈 우승 횟수<표> 국내 프로야구(KBO) 구단(팀)별 한국시리즈 우승 횟수<그림> [그림1] 국내 프로야구(KBO) 구단(팀)별 한국시리즈 우승 횟수 (막대형) [그림2] 국내 프로야구(KBO) 구단(팀)별 한국시리즈 우승 횟수 (원형) https://blog.naver.com/dicasub/223603577717 2024년 국내 프로야구(KBO) 정규리그 최종 순위 정리(월별 순위 분석/최종)2024년 국내 프로야구(KBO) 정규리그 최종 순위 정리 (월별 순위 분석/최종) 드디어 오늘 2024년 국내 ... http://blog.naver.com/dicasub #야구 #한국시리즈 댓글 1 공유하기 {\\\\\"title\\\\\":\\\\\"프로야구 한국시리즈 역대 우승팀 및 팀별 우승 횟수(~2024년까지)\\\\\",\\\\\"source\\\\\":\\\\\"https://blog.naver.com/dicasub/223637908357\\\\\",\\\\\"blogName\\\\\":\\\\\"디카섭(Di..\\\\\",\\\\\"blogId\\\\\":\\\\\"dicasub\\\\\",\\\\\"domainIdOrBlogId\\\\\":\\\\\"dicasub\\\\\",\\\\\"nicknameOrBlogId\\\\\":\\\\\"디카섭 DiCaSub\\\\\",\\\\\"logNo\\\\\":223637908357,\\\\\"smartEditorVersion\\\\\":4,\\\\\"meDisplay\\\\\":true,\\\\\"lineDisplay\\\\\":true,\\\\\"outsideDisplay\\\\\":false,\\\\\"cafeDisplay\\\\\":true,\\\\\"blogDisplay\\\\\":true} 댓글 1 공유하기 취소 이웃추가\"}]', name='tavily_search_results_json', tool_call_id='call_AZfQdyw0SGSxXUnRcvcxuPBY', artifact={'query': '2024년 프로야구 한국 시리즈 우승팀', 'follow_up_questions': None, 'answer': '2024년 KBO 한국 시리즈 우승팀은 KIA 타이거즈입니다.삼성 라이온즈와의 상대전적은 4승 1패로 KIA가 우승을 차지했습니다. KIA는 이번 시즌에 우승을 이끌었으며, 이는 팀의 역대 한국 시리즈 우승 횟수를 늘렸습니다.', 'images': ['https://dimg1.donga.com/wps/SPORTS/IMAGE/2024/04/23/124610379.2.jpg', 'http://img.tf.co.kr/article/home/2024/04/23/202414281713838977.jpg', 'https://img1.daumcdn.net/thumb/S1200x630/?fname=https://t1.daumcdn.net/news/202404/23/poctan/20240423114250478duvz.jpg', 'https://img1.daumcdn.net/thumb/S1200x630/?fname=https://t1.daumcdn.net/news/202404/23/sportsdonga/20240423112425221pghu.jpg', 'https://i.ytimg.com/vi/L0Y38pQbEeQ/maxresdefault.jpg'], 'results': [{'title': 'Kbo 한국시리즈 - 나무위키', 'url': 'https://namu.wiki/w/KBO+한국시리즈', 'content': \"1988년 한국시리즈 우승팀 해태 ... 결국 2014년을 끝으로 한국프로야구 리그의 명칭이 'kbo 리그'로 리브랜딩되고 한국시리즈 명칭 역시 'kbo 한국시리즈'로 개칭되면서 이 우승기 디자인도 더 이상 쓰이지 않게 됐다. ... 2024년 한국시리즈 mvp\", 'score': 0.99989367, 'raw_content': None}, {'title': '2024 신한 SOL Bank KBO 한국시리즈 - 나무위키', 'url': 'https://namu.wiki/w/2024+신한+SOL+Bank+KBO+한국시리즈', 'content': '2024년 kbo 한국시리즈 우승팀. ... 올 시즌 kia는 한국프로야구 43년 역사상 단일 시즌 최다 실책을 기록했을 만큼 매우 불안한 수비를 보여주고 있다. ... 가을야구 경험 부족 2017년 한국시리즈 이후 포스트시즌이 단 2번 뿐이고, 그마저도 전부 5위로 진출해서 와일드', 'score': 0.9998822, 'raw_content': None}, {'title': '프로야구 한국시리즈 역대 우승팀 및 팀별 우승 횟수(~2024년까지) : 네이버 블로그', 'url': 'https://m.blog.naver.com/dicasub/223637908357', 'content': '프로야구 한국시리즈 역대 우승팀 및 팀별 우승 횟수(~2024년까지) : 네이버 블로그 본문 바로가기 카테고리 이동 디카섭(DiCaSub)의 스포츠 통계 이야기 야구[국내일반] [공지] 프로야구 한국시리즈 역대 우승팀 및 팀별 우승 횟수(~2024년까지) 디카섭 DiCaSub 이웃추가 본문 기타 기능 공유하기 국내 프로야구(KBO) 한국시리즈 역대 우승팀 정리 삼성과의 상대전적 4승 1패로 KIA가 한국시리즈 우승 트로피를 들어올렸습니다!! 역대 한국시리즈 우승팀 현황을 아래 <표>와 <그림>으로 정리해보았습니다. 국내 프로야구(KBO) 구단(팀)별 한국시리즈 우승 횟수<표> 국내 프로야구(KBO) 구단(팀)별 한국시리즈 우승 횟수<그림> [그림1] 국내 프로야구(KBO) 구단(팀)별 한국시리즈 우승 횟수 (막대형) [그림2] 국내 프로야구(KBO) 구단(팀)별 한국시리즈 우승 횟수 (원형) https://blog.naver.com/dicasub/223603577717 2024년 국내 프로야구(KBO) 정규리그 최종 순위 정리(월별 순위 분석/최종)2024년 국내 프로야구(KBO) 정규리그 최종 순위 정리 (월별 순위 분석/최종) 드디어 오늘 2024년 국내 ... http://blog.naver.com/dicasub #야구 #한국시리즈 댓글 1 공유하기 {\"title\":\"프로야구 한국시리즈 역대 우승팀 및 팀별 우승 횟수(~2024년까지)\",\"source\":\"https://blog.naver.com/dicasub/223637908357\",\"blogName\":\"디카섭(Di..\",\"blogId\":\"dicasub\",\"domainIdOrBlogId\":\"dicasub\",\"nicknameOrBlogId\":\"디카섭 DiCaSub\",\"logNo\":223637908357,\"smartEditorVersion\":4,\"meDisplay\":true,\"lineDisplay\":true,\"outsideDisplay\":false,\"cafeDisplay\":true,\"blogDisplay\":true} 댓글 1 공유하기 취소 이웃추가', 'score': 0.99980444, 'raw_content': '프로야구 한국시리즈 역대 우승팀 및 팀별 우승 횟수(~2024년까지) : 네이버 블로그\\n \\n본문 바로가기\\n블로그\\n카테고리 이동 디카섭(DiCaSub)의 스포츠 통계 이야기\\n\\n검색 MY메뉴 열기\\n야구[국내일반]\\n[공지] 프로야구 한국시리즈 역대 우승팀 및 팀별 우승 횟수(~2024년까지)\\n\\n디카섭 DiCaSub\\n4시간 전\\n이웃추가\\n본문 기타 기능\\n\\n본문 폰트 크기 조정 본문 폰트 크기 작게 보기 본문 폰트 크기 크게 보기 가\\n\\n공감하기\\n\\n\\n공유하기\\n\\nURL복사\\n신고하기\\n\\n\\n국내 프로야구(KBO) 한국시리즈 역대 우승팀 정리\\n(2024 시즌까지 업데이트 완료)\\n작성자 DiCaSub / 작성일 2024-10-28\\n\\n\\u200b오늘 한국시리즈 5차전이 KIA의 역전승으로 종료되면서,\\n삼성과의 상대전적 4승 1패로 KIA가 한국시리즈 우승 트로피를 들어올렸습니다!!\\n축하축하!!\\n\\n2024년의 국내 프로야구의 대장정은 이렇게 마무리되었습니다.\\n모든 구단, 모든 선수들 정말 고생 많으셨습니다!\\n\\n\\n역대 한국시리즈 우승팀 현황을 아래 <표>와 <그림>으로 정리해보았습니다.\\n<표 항목 : 시즌별 우승팀/준우승팀/상대전적>\\n(이제 나의 팀 한화이글스도 여기서 이름 좀 올려봅시다^^)\\n시즌우승팀준우승팀전적2024년KIA삼성4승1패2023년LGKT4승1패2022년SSG키움4승2패2021년KT두산4승2020년NC두산4승2패2019년두산키움4승2018년SK두산4승2패2017년KIA두산4승1패2016년두산NC4승2015년두산삼성4승1패2014년삼성넥센4승2패2013년삼성두산4승3패2012년삼성SK4승2패2011년삼성SK4승1패2010년SK삼성4승2009년KIASK4승3패2008년SK두산4승1패2007년SK두산4승2패2006년삼성한화4승1무1패2005년삼성두산4승2004년현대삼성4승3무2패2003년현대SK4승3패2002년삼성LG4승2패2001년두산삼성4승2패2000년현대두산4승3패1999년한화롯데4승1패1998년현대LG4승2패1997년해태LG4승1패1996년해태현대4승2패1995년OB롯데4승3패1994년LG태평양4승1993년해태삼성4승1무2패1992년롯데빙그레4승1패1991년해태빙그레4승1990년LG삼성4승1989년해태빙그레4승1패1988년해태빙그레4승2패1987년해태삼성4승1986년해태삼성4승1패1985년삼성 전·후기 통합우승(한국시리즈 열리지 않음)1984년롯데삼성4승3패1983년해태MBC4승1무1982년OB삼성4승1무1패\\n\\n\\n국내 프로야구(KBO) 구단(팀)별\\n한국시리즈 우승 횟수<표>\\n작성자 DiCaSub / 작성일 2024-10-28\\n\\n우승팀우승횟수 (회)KIA (해태포함)12삼성8두산 (OB포함)6SSG (SK포함)5현대4LG3롯데2한화1NC1KT1\\n\\n\\n국내 프로야구(KBO) 구단(팀)별\\n한국시리즈 우승 횟수<그림>\\n작성자 DiCaSub / 작성일 2024-10-28\\n\\n\\n[그림1] 국내 프로야구(KBO) 구단(팀)별 한국시리즈 우승 횟수 (막대형)\\n\\n[그림2] 국내 프로야구(KBO) 구단(팀)별 한국시리즈 우승 횟수 (원형)\\n\\n(참고) 2024 정규리그 성적 포스팅!\\nhttps://blog.naver.com/dicasub/223603577717\\n2024년 국내 프로야구(KBO) 정규리그 최종 순위 정리(월별 순위 분석/최종)2024년 국내 프로야구(KBO) 정규리그 최종 순위 정리 (월별 순위 분석/최종) 드디어 오늘 2024년 국내 ... blog.naver.com\\n\\n디카섭의 스포츠통계 이야기\\nhttp://blog.naver.com/dicasub\\n작성자 DiCaSub / 작성일 2024-10-28\\n\\n\\n\\n\\u200b\\n\\n#야구\\n#프로야구\\n#한국시리즈\\n#한국시리즈일정\\n#한국시리즈우승\\n#한국시리즈준우승\\n#기아삼성\\n#kia삼성\\n#기아우승\\n#삼성준우승\\n#야구우승\\n#프로야구포스트시즌\\n#포스트시즌\\n#프로야구한국시리즈\\n#2024프로야구한국시리즈\\n#야구한국시리즈\\n#야구한국시리즈우승\\n#프로야구순위\\n#프로야구우승\\n#kbo포스트시즌\\n#kbo순위\\n#kbo리그\\n#kbo우승\\n#kbo우승팀\\n#kbo우승횟수\\n#역대kbo우승팀\\n#역대한국시리즈우승\\n#역대한국시리즈우승팀\\n#역대한국시리즈\\n#역대한국시리즈전적\\n\\n\\n공감한 사람 보러가기\\n댓글 1 공유하기\\n{\"title\":\"프로야구 한국시리즈 역대 우승팀 및 팀별 우승 횟수(~2024년까지)\",\"source\":\"https://blog.naver.com/dicasub/223637908357\",\"blogName\":\"디카섭(Di..\",\"blogId\":\"dicasub\",\"domainIdOrBlogId\":\"dicasub\",\"nicknameOrBlogId\":\"디카섭 DiCaSub\",\"logNo\":223637908357,\"smartEditorVersion\":4,\"meDisplay\":true,\"lineDisplay\":true,\"outsideDisplay\":false,\"cafeDisplay\":true,\"blogDisplay\":true}\\n닫기\\n카테고리\\n이 블로그 홈\\n\\n공감한 사람 보러가기\\n댓글 1 공유하기\\n디카섭 DiCaSub(dicasub) 님을 이웃추가하고 새글을 받아보세요\\n취소 이웃추가'}], 'response_time': 4.21})]"
      ]
     },
     "execution_count": 64,
     "metadata": {},
     "output_type": "execute_result"
    }
   ],
   "source": [
    "tavily_search.batch(result2.tool_calls)"
   ]
  },
  {
   "cell_type": "code",
   "execution_count": null,
   "metadata": {},
   "outputs": [],
   "source": []
  },
  {
   "cell_type": "markdown",
   "metadata": {},
   "source": [
    "## Tool 의 처리(응답) 결과를 LLM 요청시 사용\n",
    "- ToolMessage를 prompt 에 추가하여 LLM에 요청한다.\n",
    "- ToolMessage 는 Tool Calling 정보를 가진 AIMessage 다음에 들어와야 한다.\n",
    "- Prompt 순서\n",
    "    1. 일반 prompt (system, 대화 history, .., human)\n",
    "    2. AIMessage: tool calling 정보를 가진 AIMessage. (tool_model에 질의 받은 tool calling 정보가 있는 응답)\n",
    "    3. ToolMessage:  Tool의 처리 결과"
   ]
  },
  {
   "cell_type": "code",
   "execution_count": 68,
   "metadata": {},
   "outputs": [
    {
     "data": {
      "text/plain": [
       "'2024년12-13'"
      ]
     },
     "execution_count": 68,
     "metadata": {},
     "output_type": "execute_result"
    }
   ],
   "source": [
    "from datetime import datetime\n",
    "datetime.now().strftime(\"%Y-%m-%d\")\n",
    "# datetime.today()"
   ]
  },
  {
   "cell_type": "code",
   "execution_count": 89,
   "metadata": {},
   "outputs": [],
   "source": [
    "from datetime import datetime\n",
    "from langchain_core.runnables import chain\n",
    "from langchain.prompts import ChatPromptTemplate, MessagesPlaceholder\n",
    "from textwrap import dedent\n",
    "# tool 들 생성\n",
    "# model 생성\n",
    "# model에 tool들을 binding.\n",
    "today = datetime.now().strftime(\"%Y-%m-%d\")\n",
    "prompt_template = ChatPromptTemplate(\n",
    "    [\n",
    "        (\"system\", dedent(\"\"\"\n",
    "            당신은 유능한 AI 비서입니다. \n",
    "            오늘 날짜는 {today}입니다. \n",
    "            답변을 할 때 오늘 날짜와 가장 가까운 정보를 검색해서 대답해 주세요.\n",
    "            \"\"\")),\n",
    "        (\"human\", \"{user_input}\"), # 질문\n",
    "        MessagesPlaceholder(\"message\", optional=True) \n",
    "        # AIMessage(tool_calls정보) - ToolMessage\n",
    "    ],\n",
    "    partial_variables={\"today\":today}\n",
    ")\n",
    "# MessagesPlaceholder(\"message\", optional=True) == (\"placeholder\", \"{message}\")\n",
    "\n",
    "tool_model_chain = prompt_template | tool_model  # tool_model = model + tool들\n",
    "\n",
    "@chain\n",
    "def web_search_chain(input):\n",
    "    # input: 사용자 질의의\n",
    "    ai_message = tool_model_chain.invoke({\"user_input\":input})\n",
    "    if ai_message.tool_calls: # Tool을 호출 -> query + Tool결과 -> llm 요청청\n",
    "        tool_messages = tavily_search.batch(ai_message.tool_calls)#list[ToolMessage\n",
    "        input_dict = {\n",
    "            \"user_input\":input, \n",
    "            \"message\":[ai_message, *tool_messages]\n",
    "        }\n",
    "        return tool_model_chain.invoke(input_dict).content\n",
    "    else: # LLM이 답변을 한 경우 -> 답변을 응답.\n",
    "        return ai_message.content\n"
   ]
  },
  {
   "cell_type": "code",
   "execution_count": 90,
   "metadata": {},
   "outputs": [],
   "source": [
    "result = web_search_chain.invoke({\"user_input\":\"2024년 한국시리즈 우승팀은 어디에요?\"})"
   ]
  },
  {
   "cell_type": "code",
   "execution_count": 88,
   "metadata": {},
   "outputs": [
    {
     "data": {
      "text/plain": [
       "'2024년 한국시리즈에서 KIA 타이거즈가 우승했습니다. KIA는 삼성 라이온즈를 상대로 5차전에서 7대5로 승리하며 통산 12번째 우승을 차지했습니다. 이번 우승은 KIA에게 7년 만의 통합 우승이기도 하며, 2017년 이후 처음입니다.'"
      ]
     },
     "execution_count": 88,
     "metadata": {},
     "output_type": "execute_result"
    }
   ],
   "source": [
    "result"
   ]
  },
  {
   "cell_type": "code",
   "execution_count": 26,
   "metadata": {},
   "outputs": [],
   "source": [
    "# !pip install -U duckduckgo-search"
   ]
  },
  {
   "cell_type": "markdown",
   "metadata": {},
   "source": [
    "# 사용자 정의 Tool 구현\n",
    "\n",
    "## @tool 사용\n",
    "- 함수로 구현하고 `@tool` 데코레이터를 사용해 tool(StructuredTool)로 정의한다.\n",
    "    - `langchain_core.tools` 모듈에 있다.\n",
    "- tool name\n",
    "    - 함수의 이름이 tool의 이름이 된다.\n",
    "- parameters\n",
    "    - 함수의 파라미터가 tool의 파라미터가 된다.\n",
    "    - **type hint**를 이용해 타입을 지정한다.  \n",
    "- description\n",
    "    - doctring이 description이 된다.\n",
    "    - RunnableBinding이 tool을 잘 찾을 수 있도록 하려면 **tool의 기능을 최대한 구체적**으로 작성한다.\n",
    "- **@tool이 적용된 함수(StructuredTool)이 tool**이므로 model에 binding 한다."
   ]
  },
  {
   "cell_type": "code",
   "execution_count": null,
   "metadata": {},
   "outputs": [],
   "source": []
  },
  {
   "cell_type": "code",
   "execution_count": null,
   "metadata": {},
   "outputs": [],
   "source": []
  },
  {
   "cell_type": "code",
   "execution_count": null,
   "metadata": {},
   "outputs": [],
   "source": []
  },
  {
   "cell_type": "markdown",
   "metadata": {},
   "source": [
    "## Runnable을 tool로 정의\n",
    "- `Runnable객체.as_tool()`\n",
    "    - name, description, args_schema 파라미터를 이용해 tool의 이름, 설명, 스키마를 설정한다."
   ]
  },
  {
   "cell_type": "code",
   "execution_count": null,
   "metadata": {},
   "outputs": [],
   "source": []
  },
  {
   "cell_type": "code",
   "execution_count": null,
   "metadata": {},
   "outputs": [],
   "source": []
  },
  {
   "cell_type": "code",
   "execution_count": null,
   "metadata": {},
   "outputs": [],
   "source": []
  },
  {
   "cell_type": "markdown",
   "metadata": {},
   "source": [
    "## Vector Store(Vector 저장소) tool\n",
    "\n",
    "### text loading -> Document 생성\n",
    "- 레스토랑 메뉴를 vector store에 저장한다.\n",
    "1. 메뉴 text 를 로딩한다.\n",
    "2. 각 메뉴의 내용(음식이름, 메뉴설명, 파일명)을 넣어 Document를 생성한다."
   ]
  },
  {
   "cell_type": "code",
   "execution_count": null,
   "metadata": {},
   "outputs": [],
   "source": []
  },
  {
   "cell_type": "code",
   "execution_count": null,
   "metadata": {},
   "outputs": [],
   "source": []
  },
  {
   "cell_type": "markdown",
   "metadata": {},
   "source": [
    "### vector store(Chroma), Retriever 생성"
   ]
  },
  {
   "cell_type": "code",
   "execution_count": null,
   "metadata": {},
   "outputs": [],
   "source": []
  },
  {
   "cell_type": "code",
   "execution_count": null,
   "metadata": {},
   "outputs": [],
   "source": []
  },
  {
   "cell_type": "code",
   "execution_count": null,
   "metadata": {},
   "outputs": [],
   "source": []
  },
  {
   "cell_type": "markdown",
   "metadata": {},
   "source": [
    "### Vector Store를 Tool로 정의"
   ]
  },
  {
   "cell_type": "code",
   "execution_count": null,
   "metadata": {},
   "outputs": [],
   "source": []
  },
  {
   "cell_type": "code",
   "execution_count": null,
   "metadata": {},
   "outputs": [],
   "source": []
  },
  {
   "cell_type": "code",
   "execution_count": null,
   "metadata": {},
   "outputs": [],
   "source": []
  },
  {
   "cell_type": "markdown",
   "metadata": {},
   "source": [
    "# Agent 구현\n",
    "\n",
    "- `create_tool_calling_agent()` 를 이용해 Agent 생성\n",
    "    - 파라미터\n",
    "        - llm: 에이전트로 사용할 LLM.\n",
    "        - tools: 에이전트가 접근할 수 있는 도구들의 목록.\n",
    "        - prompt: 에이전트의 동작을 안내하는 프롬프트 템플릿.\n",
    "- AgentExecutor를 이용해 Agent 실행\n",
    "    - Agent의 동작을 관리하는 클래스.\n",
    "    - AgentExecutor는 사용자 요청을 처리할 때 까지 적절한 tool들을 호출하고 최종 결과를 생성해 반환하는 작업을 처리한다.\n",
    "    - 파라미터\n",
    "        - agent: 실행할 Agent.\n",
    "        - tools: Agent가 사용할 tool들 목록."
   ]
  },
  {
   "cell_type": "code",
   "execution_count": null,
   "metadata": {},
   "outputs": [],
   "source": []
  },
  {
   "cell_type": "code",
   "execution_count": null,
   "metadata": {},
   "outputs": [],
   "source": []
  }
 ],
 "metadata": {
  "kernelspec": {
   "display_name": "langchain",
   "language": "python",
   "name": "python3"
  },
  "language_info": {
   "codemirror_mode": {
    "name": "ipython",
    "version": 3
   },
   "file_extension": ".py",
   "mimetype": "text/x-python",
   "name": "python",
   "nbconvert_exporter": "python",
   "pygments_lexer": "ipython3",
   "version": "3.12.7"
  }
 },
 "nbformat": 4,
 "nbformat_minor": 4
}
