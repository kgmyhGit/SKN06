{
 "cells": [
  {
   "cell_type": "markdown",
   "metadata": {},
   "source": [
    "# Agent 개요\n",
    "\n",
    "- Agent 대형 언어 모델(LLM)과 다양한 도구(Tool)를 결합하여 복잡한 작업을 처리할 수 있도록 설계된 사용자 요청 처리 인공지능 시스템이다.\n",
    "    - Agent는 주어진 목표를 달성하기 위해 환경(toolkit)과 상호작용하며 의사 결정을 내리고 행동을 취하는 자율적인 개체이다.\n",
    "    - Agent의 자율적인 의사 결정은 LLM 이 담당하여 사람의 개입이 최소화 된다.\n",
    "\n",
    "## Agent의 주요 특징\n",
    "- **자율성**: 사전 정의된 규칙 없이도 스스로 결정을 내리고 행동할 수 있다.\n",
    "- **목표 지향성**: 특정 목표나 작업을 달성하기 위해 설계되어 있다.\n",
    "- **도구 활용**: 다양한 도구나 API를 활용하여 작업을 수행한다.\n",
    "\n",
    "## Agent 기본 동작 원리\n",
    "\n",
    "![agent_concept](figures/agent_concept.png)\n",
    "\n",
    "### ReAct\n",
    "- Reasoning and Acting의 약자로, 에이전트가 문제를 해결할 때 추론과 행동을 결합하는 방식이다.\n",
    "\n",
    "#### 동작 단계\n",
    "- **사용자 입력 수신**: \n",
    "    - 에이전트는 사용자가 입력한 질문이나 명령을 받는다.\n",
    "- **추론(Reasoning)**\n",
    "    - 입력된 내용을 분석하여 문제를 이해하고, 해결 방안을 계획합니다. \n",
    "- **행동 결정 및 도구 실행(Action)**: \n",
    "    - 계획에 따라 어떤 도구를 사용할지 결정하고 그 도구를 호출하여 작업을 수행한다.\n",
    "- **결과 평가 및 추가 행동 결정**: \n",
    "    - 도구 실행 결과를 바탕으로 추가로 도구를 사용할지, 아니면 최종 답변을 생성할지를 결정한다.\n",
    "    - 추가로 도구를 사용하기로 결정한 경우 도구를 실행한다.\n",
    "- **최종 답변 반환**: \n",
    "    - 최종 결과를 사용자에게 제공한다."
   ]
  },
  {
   "cell_type": "markdown",
   "metadata": {},
   "source": [
    "# TOOL\n",
    "# Tool Calling 개요\n",
    "- LLM이 외부 도구나 API를 활용하여 작업을 수행할 수 있게 하는 기능이다.\n",
    "\t- 예) LLM이 수학 계산을 수행해야 할 때, 직접 계산하는 대신 미리 정의된 '계산' 도구를 호출하여 정확한 결과를 얻을 수 있다.\n",
    "\t- 예) LLM에 최신 정보를 요청하는 질문이 들어왔을 때 '검색' 도구나 'Database 연동' 도구를 사용해 최신 뉴스를 검색하거나, 특정 데이터베이스에서 정보를 조회하는 등의 작업을 수행할 수 있다.\n",
    "- LLM은 도구를 이용해 자체 지식의 한계를 넘어서는 정보를 제공할 수 있습니다.\n",
    "- Tool calling은 OpenAI, Anthropic 등 여러 LLM 제공업체에서 지원한다.\n",
    "- LangChain은 이러한 다양한 모델들의 도구 호출 방식을 표준화하여 일관된 인터페이스로 제공한다. 이를 통해 개발자들은 다양한 모델과 도구들을 쉽게 통합할 수있다.\n",
    "- Tool Calling Concept: https://python.langchain.com/docs/concepts/tool_calling/\n",
    "- Langchain 지원 tools (Builtin Tool)\n",
    "    -  https://python.langchain.com/docs/integrations/tools/#search\n",
    "- **Agent:**\n",
    "\t- LLM 모델이 목표한 결과를 얻기 위해 적절한 도구를 선택하고, 이를 활용하여 작업을 수행하는 시스템을 **Agent**라고 한다."
   ]
  },
  {
   "cell_type": "markdown",
   "metadata": {},
   "source": [
    "# 랭체인 내장 도구(tools) 사용\n",
    "- Tavily 웹 검색 도구 사용해 Tool calling을 이해한다.\n",
    "\n",
    "\n",
    "## Tavily\n",
    "- 웹 검색 API.\n",
    "- https://tavily.com/\n",
    "-  LLM과 RAG 시스템에 최적화된 검색 엔진.\n",
    "   -  기존의 일반 검색 엔진들과 달리, Tavily는 AI 애플리케이션의 요구사항에 맞춰 설계되었다.\n",
    "   -  Tavily는 검색 결과에서 검색 query와 관련 콘텐츠를 추출하여 제공한다.\n",
    "   -  월 1000회 무료 사용 가능.\n",
    "### Tavily API Key 받기\n",
    "- 로그인 한다.\n",
    "- Overview 화면에서 API Key 생성\n",
    "  \n",
    "- **API Keys \\[+\\] 클릭**\n",
    "\n",
    "![apikey1](figures/travily_apikey1.png)\n",
    "\n",
    "- **Key Name을 입력하고 생성**\n",
    "\n",
    "![apikey1](figures/travily_apikey2.png)\n",
    "\n",
    "- **API Key를 복사**\n",
    "\n",
    "![apikey1](figures/travily_apikey3.png)\n",
    "\n",
    "- 환경변수에 등록한다.\n",
    "    - 변수이름: \"TAVILY_API_KEY\""
   ]
  },
  {
   "cell_type": "markdown",
   "metadata": {},
   "source": [
    "## TavilySearchResults\n",
    "- Langchain에서 제공하는 tool로 Tavily 의 검색 엔진 API를 사용해 검색을 수행한다.\n",
    "- 모듈: `langchain_community.tools` \n",
    "- https://python.langchain.com/docs/integrations/tools/tavily_search/"
   ]
  },
  {
   "cell_type": "code",
   "execution_count": 17,
   "metadata": {},
   "outputs": [
    {
     "data": {
      "text/plain": [
       "True"
      ]
     },
     "execution_count": 17,
     "metadata": {},
     "output_type": "execute_result"
    }
   ],
   "source": [
    "from pprint import pprint\n",
    "from dotenv import load_dotenv\n",
    "from langchain_community.tools import TavilySearchResults\n",
    "\n",
    "load_dotenv()"
   ]
  },
  {
   "cell_type": "markdown",
   "metadata": {},
   "source": [
    "## Tool 호출"
   ]
  },
  {
   "cell_type": "code",
   "execution_count": 3,
   "metadata": {},
   "outputs": [],
   "source": [
    "tavily_search = TavilySearchResults(\n",
    "    max_results=3 # 최대 몇개 결과를 반환할지.(검색할지.)\n",
    ")\n",
    "query = \"2024년 한국 시리즈 우승팀은 어디인가요?\"\n",
    "result = tavily_search.invoke(query) # Tool객체들은 Runnable 타입."
   ]
  },
  {
   "cell_type": "code",
   "execution_count": 6,
   "metadata": {},
   "outputs": [
    {
     "name": "stdout",
     "output_type": "stream",
     "text": [
      "<class 'list'> 3\n",
      "<class 'dict'>\n",
      "dict_keys(['url', 'content'])\n"
     ]
    }
   ],
   "source": [
    "print(type(result), len(result))\n",
    "print(type(result[0]))  # 응답: JSON 으로 온다. 이것을 dict로 반환.\n",
    "print(result[0].keys())"
   ]
  },
  {
   "cell_type": "code",
   "execution_count": 9,
   "metadata": {},
   "outputs": [
    {
     "name": "stdout",
     "output_type": "stream",
     "text": [
      "검색 URL: https://m.blog.naver.com/baekhw1/223631292469\n"
     ]
    }
   ],
   "source": [
    "print(\"검색 URL:\", result[0]['url'])"
   ]
  },
  {
   "cell_type": "code",
   "execution_count": 10,
   "metadata": {},
   "outputs": [
    {
     "name": "stdout",
     "output_type": "stream",
     "text": [
      "검색결과:\n",
      "2024년 한국시리즈가 시작되었다. 이번 우승팀은 과연 어디가 될지 . ... 김도영은 2차전에서 한국시리즈 . 첫 홈런까지 만들어내며 . 좋은 모습을 이어갔다. 결과는 8:3으로 기아가 승리했다. 오늘은 2024 한국시리즈 .\n"
     ]
    }
   ],
   "source": [
    "print(\"검색결과:\")\n",
    "print(result[0][\"content\"])"
   ]
  },
  {
   "cell_type": "code",
   "execution_count": 12,
   "metadata": {},
   "outputs": [
    {
     "name": "stdout",
     "output_type": "stream",
     "text": [
      "tool의 이름: tavily_search_results_json\n"
     ]
    }
   ],
   "source": [
    "# TOOL의 정보 -> 이 정보들이 LLM이 도구를 선택하는 기준\n",
    "print('tool의 이름:', tavily_search.name)"
   ]
  },
  {
   "cell_type": "code",
   "execution_count": 13,
   "metadata": {},
   "outputs": [
    {
     "name": "stdout",
     "output_type": "stream",
     "text": [
      "tool에 대한 설명:\n",
      "A search engine optimized for comprehensive, accurate, and trusted results. Useful for when you need to answer questions about current events. Input should be a search query.\n"
     ]
    }
   ],
   "source": [
    "print('tool에 대한 설명:')\n",
    "print(tavily_search.description)"
   ]
  },
  {
   "cell_type": "code",
   "execution_count": 18,
   "metadata": {},
   "outputs": [
    {
     "name": "stdout",
     "output_type": "stream",
     "text": [
      "tool의 schema(전체 구조)\n",
      "{'description': 'Input for the Tavily tool.',\n",
      " 'properties': {'query': {'description': 'search query to look up',\n",
      "                          'title': 'Query',\n",
      "                          'type': 'string'}},\n",
      " 'required': ['query'],\n",
      " 'title': 'TavilyInput',\n",
      " 'type': 'object'}\n"
     ]
    }
   ],
   "source": [
    "from pprint import pprint\n",
    "print(\"tool의 schema(전체 구조)\")\n",
    "pprint(tavily_search.args_schema.model_json_schema())"
   ]
  },
  {
   "cell_type": "markdown",
   "metadata": {},
   "source": [
    "```bash\n",
    "{'description': 'Input for the Tavily tool.',\n",
    " # 입력 파라미터(tool이 호출될 때때 전달되는 값을 받을 변수.)\n",
    " # {변수명: {변수 정보보}}\n",
    " 'properties': {'query': {'description': 'search query to look up', # 변수 설명(어떤 값을 받을 지 설명명)\n",
    "                          'title': 'Query',  # 이 변수 설정정의 식별값\n",
    "                          'type': 'string'}}, # Datatype\n",
    " 'required': ['query'],  # 입력 파라미터 중 필수인 것을 지정정\n",
    " 'title': 'TavilyInput', # TOOL 의 이름.\n",
    " 'type': 'object'}\n",
    "```"
   ]
  },
  {
   "cell_type": "markdown",
   "metadata": {},
   "source": [
    "## LLM tool callings\n",
    "![toolcalling_concept](figures/toolcalling_concept.png)\n",
    "1. Tool 생성\n",
    "2. 생성한 Tool을 tool calling을 지원하는 LLM 모델에 연결(binding)\n",
    "   - LLM 이 사용할 수있는 tool들을 등록(bind) 한다.\n",
    "    - `Model.bind([tool_1, tool_2, ...]): RunnableBinding`\n",
    "    - Model에 tool을 bind 하면 `Runnable` 타입의 `RunnableBinding` 객체가 반환된다.\n",
    "3. 질의가 들어오면 모델(LLM + tool) 은 tool calling 정보(어떤 툴을 어떤 query로 호출할지 schema 에 맞게 만든 정보)를 응답.\n",
    "    - 질의에 대해 tool 요청이 **필요하다고** 결정한 경우 tool들 중 어떤 tool을 어떤 query로 호출해야 하는지를 응답한다.\n",
    "    - 질의에 대해 tool 요청이 **필요 없다고** 결정한 경우는 LLM API를 호출한다.(모델이 직접 응답)\n",
    "5. 3에서 응답한 tool calling 정보를 이용해 tool 호출"
   ]
  },
  {
   "cell_type": "markdown",
   "metadata": {},
   "source": [
    "### LLM Model에 tool binding\n",
    "- `LLM.bind_tools(tools=[tool_1, tool_2, ...])`"
   ]
  },
  {
   "cell_type": "code",
   "execution_count": 37,
   "metadata": {},
   "outputs": [
    {
     "name": "stdout",
     "output_type": "stream",
     "text": [
      "<class 'langchain_openai.chat_models.base.ChatOpenAI'> <class 'langchain_core.runnables.base.RunnableBinding'>\n"
     ]
    }
   ],
   "source": [
    "from langchain_openai import ChatOpenAI\n",
    "from langchain_community.tools import TavilySearchResults\n",
    "\n",
    "# 1. tool 생성\n",
    "tavily_search = TavilySearchResults(\n",
    "    max_results=3,\n",
    "    include_answer=True,\n",
    "    include_images=True, # 검색 페이지의 이미지들 경로.\n",
    "    include_raw_content=True, # 원본 내용을 포함해서 응답. (False: 요약내용만 반환.)\n",
    ")\n",
    "\n",
    "# 모델 생성 + tool binding\n",
    "model = ChatOpenAI(model=\"gpt-4o-mini\") # Agent에서 사용하는 모델은 성능 좋은 것을 쓴다.\n",
    "tool_model = model.bind_tools(tools=[tavily_search])\n",
    "\n",
    "print(type(model), type(tool_model))"
   ]
  },
  {
   "cell_type": "code",
   "execution_count": 38,
   "metadata": {},
   "outputs": [
    {
     "name": "stdout",
     "output_type": "stream",
     "text": [
      "<class 'langchain_core.messages.ai.AIMessage'>\n"
     ]
    }
   ],
   "source": [
    "# 도구호출이 필요없는 query를 전송.\n",
    "result1 = tool_model.invoke(\"안녕하세요.\")\n",
    "print(type(result1))"
   ]
  },
  {
   "cell_type": "code",
   "execution_count": 40,
   "metadata": {},
   "outputs": [
    {
     "data": {
      "text/plain": [
       "{'content': '안녕하세요! 어떻게 도와드릴까요?',\n",
       " 'additional_kwargs': {'refusal': None},\n",
       " 'response_metadata': {'token_usage': {'completion_tokens': 11,\n",
       "   'prompt_tokens': 82,\n",
       "   'total_tokens': 93,\n",
       "   'completion_tokens_details': {'accepted_prediction_tokens': 0,\n",
       "    'audio_tokens': 0,\n",
       "    'reasoning_tokens': 0,\n",
       "    'rejected_prediction_tokens': 0},\n",
       "   'prompt_tokens_details': {'audio_tokens': 0, 'cached_tokens': 0}},\n",
       "  'model_name': 'gpt-4o-mini-2024-07-18',\n",
       "  'system_fingerprint': 'fp_6fc10e10eb',\n",
       "  'finish_reason': 'stop',\n",
       "  'logprobs': None},\n",
       " 'type': 'ai',\n",
       " 'name': None,\n",
       " 'id': 'run-2bc2464a-abf2-4c1a-91e9-1f58944d2897-0',\n",
       " 'example': False,\n",
       " 'tool_calls': [],\n",
       " 'invalid_tool_calls': [],\n",
       " 'usage_metadata': {'input_tokens': 82,\n",
       "  'output_tokens': 11,\n",
       "  'total_tokens': 93,\n",
       "  'input_token_details': {'audio': 0, 'cache_read': 0},\n",
       "  'output_token_details': {'audio': 0, 'reasoning': 0}}}"
      ]
     },
     "execution_count": 40,
     "metadata": {},
     "output_type": "execute_result"
    }
   ],
   "source": [
    "dict(result1)"
   ]
  },
  {
   "cell_type": "code",
   "execution_count": 41,
   "metadata": {},
   "outputs": [
    {
     "data": {
      "text/plain": [
       "'안녕하세요! 어떻게 도와드릴까요?'"
      ]
     },
     "execution_count": 41,
     "metadata": {},
     "output_type": "execute_result"
    }
   ],
   "source": [
    "result1.content  # LLM 응답 (값이 있으면 LLM 최종 응답을 함.)"
   ]
  },
  {
   "cell_type": "code",
   "execution_count": 42,
   "metadata": {},
   "outputs": [
    {
     "data": {
      "text/plain": [
       "[]"
      ]
     },
     "execution_count": 42,
     "metadata": {},
     "output_type": "execute_result"
    }
   ],
   "source": [
    "result1.tool_calls # Tool 호출 정보 (비어있으면 LLM 이 최종응답을 함.)"
   ]
  },
  {
   "cell_type": "code",
   "execution_count": 43,
   "metadata": {},
   "outputs": [],
   "source": [
    "####### tool 호출이 필요한 요청\n",
    "query = \"2024년 프로야구 한국 시리즈 우승팀은 어디인지 알려주세요.\"\n",
    "result2 = tool_model.invoke(query)"
   ]
  },
  {
   "cell_type": "code",
   "execution_count": 44,
   "metadata": {},
   "outputs": [
    {
     "data": {
      "text/plain": [
       "''"
      ]
     },
     "execution_count": 44,
     "metadata": {},
     "output_type": "execute_result"
    }
   ],
   "source": [
    "result2.content"
   ]
  },
  {
   "cell_type": "code",
   "execution_count": 45,
   "metadata": {},
   "outputs": [
    {
     "data": {
      "text/plain": [
       "[{'name': 'tavily_search_results_json',\n",
       "  'args': {'query': '2024년 프로야구 한국 시리즈 우승팀'},\n",
       "  'id': 'call_AZfQdyw0SGSxXUnRcvcxuPBY',\n",
       "  'type': 'tool_call'}]"
      ]
     },
     "execution_count": 45,
     "metadata": {},
     "output_type": "execute_result"
    }
   ],
   "source": [
    "result2.tool_calls"
   ]
  },
  {
   "cell_type": "code",
   "execution_count": 47,
   "metadata": {},
   "outputs": [
    {
     "data": {
      "text/plain": [
       "'tavily_search_results_json'"
      ]
     },
     "execution_count": 47,
     "metadata": {},
     "output_type": "execute_result"
    }
   ],
   "source": [
    "tavily_search.args_schema.model_json_schema()\n",
    "tavily_search.name"
   ]
  },
  {
   "cell_type": "markdown",
   "metadata": {},
   "source": [
    "## tool_calls 를 이용해 Tool 호출\n",
    "- LLM 모델이 tool 요청을 결정한 경우 어떤 tool을 어떻게 호출할 지 tool_calls를 반환한다.\n",
    "- tool_calls를 이용해 TOOL을 호출한다.\n",
    "\n",
    "### 방법\n",
    "1. tool_calls의 query만 추출해서 호출\n",
    "   - `tool.invoke(tool_calls['args'])`\n",
    "   - **반환타입**: list[dict]\n",
    "2. tool_calls 정보를 넣어 호출\n",
    "   - **반환타입**: `ToolMessage`\n",
    "   - tool의 처리결과를 담는 Message Type 이다."
   ]
  },
  {
   "cell_type": "markdown",
   "metadata": {},
   "source": [
    "#### tool_calls의 query만 추출해서 호출"
   ]
  },
  {
   "cell_type": "code",
   "execution_count": 51,
   "metadata": {},
   "outputs": [],
   "source": [
    "query = result2.tool_calls[0]['args']\n",
    "search_result = tavily_search.invoke(query)"
   ]
  },
  {
   "cell_type": "code",
   "execution_count": 55,
   "metadata": {},
   "outputs": [
    {
     "name": "stdout",
     "output_type": "stream",
     "text": [
      "<class 'list'> <class 'dict'>\n"
     ]
    },
    {
     "data": {
      "text/plain": [
       "3"
      ]
     },
     "execution_count": 55,
     "metadata": {},
     "output_type": "execute_result"
    }
   ],
   "source": [
    "print(type(search_result), type(search_result[0]))\n",
    "len(search_result)"
   ]
  },
  {
   "cell_type": "code",
   "execution_count": 54,
   "metadata": {},
   "outputs": [
    {
     "name": "stdout",
     "output_type": "stream",
     "text": [
      "{'content': '프로야구의 출발점: 1982년 첫 한국시리즈는 한국 프로야구의 시작을 알리는 기념비적인 사건이었습니다. 이는 한국 '\n",
      "            '스포츠 산업의 발전을 이끌고, 프로 스포츠의 대중화를 촉진하는 계기가 되었습니다. ... 2024년: Kia 타이거즈 '\n",
      "            '. 24년 한국시리즈 우승팀 KIA',\n",
      " 'url': 'https://galaxy0715.com/entry/한국시리즈-영광의-순간들-역대-한국시리즈-우승팀24년-한국시리즈-우승팀'}\n"
     ]
    }
   ],
   "source": [
    "pprint(search_result[0])"
   ]
  },
  {
   "cell_type": "markdown",
   "metadata": {},
   "source": [
    "#### tool_call 정보를 넣어 Tool 호출"
   ]
  },
  {
   "cell_type": "code",
   "execution_count": 58,
   "metadata": {},
   "outputs": [],
   "source": [
    "search_result2 = tavily_search.invoke(result2.tool_calls[0])"
   ]
  },
  {
   "cell_type": "code",
   "execution_count": 60,
   "metadata": {},
   "outputs": [
    {
     "name": "stdout",
     "output_type": "stream",
     "text": [
      "<class 'langchain_core.messages.tool.ToolMessage'>\n"
     ]
    }
   ],
   "source": [
    "print(type(search_result2))"
   ]
  },
  {
   "cell_type": "code",
   "execution_count": 62,
   "metadata": {},
   "outputs": [
    {
     "data": {
      "text/plain": [
       "{'content': '[{\"url\": \"https://namu.wiki/w/KBO+한국시리즈\", \"content\": \"1988년 한국시리즈 우승팀 해태 ... 결국 2014년을 끝으로 한국프로야구 리그의 명칭이 \\'kbo 리그\\'로 리브랜딩되고 한국시리즈 명칭 역시 \\'kbo 한국시리즈\\'로 개칭되면서 이 우승기 디자인도 더 이상 쓰이지 않게 됐다. ... 2024년 한국시리즈 mvp\"}, {\"url\": \"https://namu.wiki/w/2024+신한+SOL+Bank+KBO+한국시리즈\", \"content\": \"2024년 kbo 한국시리즈 우승팀. ... 올 시즌 kia는 한국프로야구 43년 역사상 단일 시즌 최다 실책을 기록했을 만큼 매우 불안한 수비를 보여주고 있다. ... 가을야구 경험 부족 2017년 한국시리즈 이후 포스트시즌이 단 2번 뿐이고, 그마저도 전부 5위로 진출해서 와일드\"}, {\"url\": \"https://m.blog.naver.com/dicasub/223637908357\", \"content\": \"프로야구 한국시리즈 역대 우승팀 및 팀별 우승 횟수(~2024년까지) : 네이버 블로그 본문 바로가기 카테고리 이동 디카섭(DiCaSub)의 스포츠 통계 이야기 야구[국내일반] [공지] 프로야구 한국시리즈 역대 우승팀 및 팀별 우승 횟수(~2024년까지) 디카섭 DiCaSub 이웃추가 본문 기타 기능 공유하기 국내 프로야구(KBO) 한국시리즈 역대 우승팀 정리 삼성과의 상대전적 4승 1패로 KIA가 한국시리즈 우승 트로피를 들어올렸습니다!! 역대 한국시리즈 우승팀 현황을 아래 <표>와 <그림>으로 정리해보았습니다. 국내 프로야구(KBO) 구단(팀)별 한국시리즈 우승 횟수<표> 국내 프로야구(KBO) 구단(팀)별 한국시리즈 우승 횟수<그림> [그림1] 국내 프로야구(KBO) 구단(팀)별 한국시리즈 우승 횟수 (막대형) [그림2] 국내 프로야구(KBO) 구단(팀)별 한국시리즈 우승 횟수 (원형) https://blog.naver.com/dicasub/223603577717 2024년 국내 프로야구(KBO) 정규리그 최종 순위 정리(월별 순위 분석/최종)2024년 국내 프로야구(KBO) 정규리그 최종 순위 정리 (월별 순위 분석/최종) 드디어 오늘 2024년 국내 ... http://blog.naver.com/dicasub #야구 #한국시리즈 댓글 1 공유하기 {\\\\\"title\\\\\":\\\\\"프로야구 한국시리즈 역대 우승팀 및 팀별 우승 횟수(~2024년까지)\\\\\",\\\\\"source\\\\\":\\\\\"https://blog.naver.com/dicasub/223637908357\\\\\",\\\\\"blogName\\\\\":\\\\\"디카섭(Di..\\\\\",\\\\\"blogId\\\\\":\\\\\"dicasub\\\\\",\\\\\"domainIdOrBlogId\\\\\":\\\\\"dicasub\\\\\",\\\\\"nicknameOrBlogId\\\\\":\\\\\"디카섭 DiCaSub\\\\\",\\\\\"logNo\\\\\":223637908357,\\\\\"smartEditorVersion\\\\\":4,\\\\\"meDisplay\\\\\":true,\\\\\"lineDisplay\\\\\":true,\\\\\"outsideDisplay\\\\\":false,\\\\\"cafeDisplay\\\\\":true,\\\\\"blogDisplay\\\\\":true} 댓글 1 공유하기 취소 이웃추가\"}]',\n",
       " 'additional_kwargs': {},\n",
       " 'response_metadata': {},\n",
       " 'type': 'tool',\n",
       " 'name': 'tavily_search_results_json',\n",
       " 'id': None,\n",
       " 'tool_call_id': 'call_AZfQdyw0SGSxXUnRcvcxuPBY',\n",
       " 'artifact': {'query': '2024년 프로야구 한국 시리즈 우승팀',\n",
       "  'follow_up_questions': None,\n",
       "  'answer': 'Based on the data provided, the 2024 KBO Korean Series was won by KIA. KIA secured the victory in the Korean Series by defeating their opponent. This win marked a significant achievement for KIA in the realm of Korean professional baseball.',\n",
       "  'images': ['https://dimg1.donga.com/wps/SPORTS/IMAGE/2024/04/23/124610379.2.jpg',\n",
       "   'http://img.tf.co.kr/article/home/2024/04/23/202414281713838977.jpg',\n",
       "   'https://img1.daumcdn.net/thumb/S1200x630/?fname=https://t1.daumcdn.net/news/202404/23/poctan/20240423114250478duvz.jpg',\n",
       "   'https://img1.daumcdn.net/thumb/S1200x630/?fname=https://t1.daumcdn.net/news/202404/23/sportsdonga/20240423112425221pghu.jpg',\n",
       "   'https://cdn.ziksir.com/news/photo/202211/31044_61479_4548.jpg'],\n",
       "  'results': [{'title': 'Kbo 한국시리즈 - 나무위키',\n",
       "    'url': 'https://namu.wiki/w/KBO+한국시리즈',\n",
       "    'content': \"1988년 한국시리즈 우승팀 해태 ... 결국 2014년을 끝으로 한국프로야구 리그의 명칭이 'kbo 리그'로 리브랜딩되고 한국시리즈 명칭 역시 'kbo 한국시리즈'로 개칭되면서 이 우승기 디자인도 더 이상 쓰이지 않게 됐다. ... 2024년 한국시리즈 mvp\",\n",
       "    'score': 0.99989367,\n",
       "    'raw_content': None},\n",
       "   {'title': '2024 신한 SOL Bank KBO 한국시리즈 - 나무위키',\n",
       "    'url': 'https://namu.wiki/w/2024+신한+SOL+Bank+KBO+한국시리즈',\n",
       "    'content': '2024년 kbo 한국시리즈 우승팀. ... 올 시즌 kia는 한국프로야구 43년 역사상 단일 시즌 최다 실책을 기록했을 만큼 매우 불안한 수비를 보여주고 있다. ... 가을야구 경험 부족 2017년 한국시리즈 이후 포스트시즌이 단 2번 뿐이고, 그마저도 전부 5위로 진출해서 와일드',\n",
       "    'score': 0.9998822,\n",
       "    'raw_content': None},\n",
       "   {'title': '프로야구 한국시리즈 역대 우승팀 및 팀별 우승 횟수(~2024년까지) : 네이버 블로그',\n",
       "    'url': 'https://m.blog.naver.com/dicasub/223637908357',\n",
       "    'content': '프로야구 한국시리즈 역대 우승팀 및 팀별 우승 횟수(~2024년까지) : 네이버 블로그 본문 바로가기 카테고리 이동 디카섭(DiCaSub)의 스포츠 통계 이야기 야구[국내일반] [공지] 프로야구 한국시리즈 역대 우승팀 및 팀별 우승 횟수(~2024년까지) 디카섭 DiCaSub 이웃추가 본문 기타 기능 공유하기 국내 프로야구(KBO) 한국시리즈 역대 우승팀 정리 삼성과의 상대전적 4승 1패로 KIA가 한국시리즈 우승 트로피를 들어올렸습니다!! 역대 한국시리즈 우승팀 현황을 아래 <표>와 <그림>으로 정리해보았습니다. 국내 프로야구(KBO) 구단(팀)별 한국시리즈 우승 횟수<표> 국내 프로야구(KBO) 구단(팀)별 한국시리즈 우승 횟수<그림> [그림1] 국내 프로야구(KBO) 구단(팀)별 한국시리즈 우승 횟수 (막대형) [그림2] 국내 프로야구(KBO) 구단(팀)별 한국시리즈 우승 횟수 (원형) https://blog.naver.com/dicasub/223603577717 2024년 국내 프로야구(KBO) 정규리그 최종 순위 정리(월별 순위 분석/최종)2024년 국내 프로야구(KBO) 정규리그 최종 순위 정리 (월별 순위 분석/최종) 드디어 오늘 2024년 국내 ... http://blog.naver.com/dicasub #야구 #한국시리즈 댓글 1 공유하기 {\"title\":\"프로야구 한국시리즈 역대 우승팀 및 팀별 우승 횟수(~2024년까지)\",\"source\":\"https://blog.naver.com/dicasub/223637908357\",\"blogName\":\"디카섭(Di..\",\"blogId\":\"dicasub\",\"domainIdOrBlogId\":\"dicasub\",\"nicknameOrBlogId\":\"디카섭 DiCaSub\",\"logNo\":223637908357,\"smartEditorVersion\":4,\"meDisplay\":true,\"lineDisplay\":true,\"outsideDisplay\":false,\"cafeDisplay\":true,\"blogDisplay\":true} 댓글 1 공유하기 취소 이웃추가',\n",
       "    'score': 0.99980444,\n",
       "    'raw_content': '프로야구 한국시리즈 역대 우승팀 및 팀별 우승 횟수(~2024년까지) : 네이버 블로그\\n \\n본문 바로가기\\n블로그\\n카테고리 이동 디카섭(DiCaSub)의 스포츠 통계 이야기\\n\\n검색 MY메뉴 열기\\n야구[국내일반]\\n[공지] 프로야구 한국시리즈 역대 우승팀 및 팀별 우승 횟수(~2024년까지)\\n\\n디카섭 DiCaSub\\n4시간 전\\n이웃추가\\n본문 기타 기능\\n\\n본문 폰트 크기 조정 본문 폰트 크기 작게 보기 본문 폰트 크기 크게 보기 가\\n\\n공감하기\\n\\n\\n공유하기\\n\\nURL복사\\n신고하기\\n\\n\\n국내 프로야구(KBO) 한국시리즈 역대 우승팀 정리\\n(2024 시즌까지 업데이트 완료)\\n작성자 DiCaSub / 작성일 2024-10-28\\n\\n\\u200b오늘 한국시리즈 5차전이 KIA의 역전승으로 종료되면서,\\n삼성과의 상대전적 4승 1패로 KIA가 한국시리즈 우승 트로피를 들어올렸습니다!!\\n축하축하!!\\n\\n2024년의 국내 프로야구의 대장정은 이렇게 마무리되었습니다.\\n모든 구단, 모든 선수들 정말 고생 많으셨습니다!\\n\\n\\n역대 한국시리즈 우승팀 현황을 아래 <표>와 <그림>으로 정리해보았습니다.\\n<표 항목 : 시즌별 우승팀/준우승팀/상대전적>\\n(이제 나의 팀 한화이글스도 여기서 이름 좀 올려봅시다^^)\\n시즌우승팀준우승팀전적2024년KIA삼성4승1패2023년LGKT4승1패2022년SSG키움4승2패2021년KT두산4승2020년NC두산4승2패2019년두산키움4승2018년SK두산4승2패2017년KIA두산4승1패2016년두산NC4승2015년두산삼성4승1패2014년삼성넥센4승2패2013년삼성두산4승3패2012년삼성SK4승2패2011년삼성SK4승1패2010년SK삼성4승2009년KIASK4승3패2008년SK두산4승1패2007년SK두산4승2패2006년삼성한화4승1무1패2005년삼성두산4승2004년현대삼성4승3무2패2003년현대SK4승3패2002년삼성LG4승2패2001년두산삼성4승2패2000년현대두산4승3패1999년한화롯데4승1패1998년현대LG4승2패1997년해태LG4승1패1996년해태현대4승2패1995년OB롯데4승3패1994년LG태평양4승1993년해태삼성4승1무2패1992년롯데빙그레4승1패1991년해태빙그레4승1990년LG삼성4승1989년해태빙그레4승1패1988년해태빙그레4승2패1987년해태삼성4승1986년해태삼성4승1패1985년삼성 전·후기 통합우승(한국시리즈 열리지 않음)1984년롯데삼성4승3패1983년해태MBC4승1무1982년OB삼성4승1무1패\\n\\n\\n국내 프로야구(KBO) 구단(팀)별\\n한국시리즈 우승 횟수<표>\\n작성자 DiCaSub / 작성일 2024-10-28\\n\\n우승팀우승횟수 (회)KIA (해태포함)12삼성8두산 (OB포함)6SSG (SK포함)5현대4LG3롯데2한화1NC1KT1\\n\\n\\n국내 프로야구(KBO) 구단(팀)별\\n한국시리즈 우승 횟수<그림>\\n작성자 DiCaSub / 작성일 2024-10-28\\n\\n\\n[그림1] 국내 프로야구(KBO) 구단(팀)별 한국시리즈 우승 횟수 (막대형)\\n\\n[그림2] 국내 프로야구(KBO) 구단(팀)별 한국시리즈 우승 횟수 (원형)\\n\\n(참고) 2024 정규리그 성적 포스팅!\\nhttps://blog.naver.com/dicasub/223603577717\\n2024년 국내 프로야구(KBO) 정규리그 최종 순위 정리(월별 순위 분석/최종)2024년 국내 프로야구(KBO) 정규리그 최종 순위 정리 (월별 순위 분석/최종) 드디어 오늘 2024년 국내 ... blog.naver.com\\n\\n디카섭의 스포츠통계 이야기\\nhttp://blog.naver.com/dicasub\\n작성자 DiCaSub / 작성일 2024-10-28\\n\\n\\n\\n\\u200b\\n\\n#야구\\n#프로야구\\n#한국시리즈\\n#한국시리즈일정\\n#한국시리즈우승\\n#한국시리즈준우승\\n#기아삼성\\n#kia삼성\\n#기아우승\\n#삼성준우승\\n#야구우승\\n#프로야구포스트시즌\\n#포스트시즌\\n#프로야구한국시리즈\\n#2024프로야구한국시리즈\\n#야구한국시리즈\\n#야구한국시리즈우승\\n#프로야구순위\\n#프로야구우승\\n#kbo포스트시즌\\n#kbo순위\\n#kbo리그\\n#kbo우승\\n#kbo우승팀\\n#kbo우승횟수\\n#역대kbo우승팀\\n#역대한국시리즈우승\\n#역대한국시리즈우승팀\\n#역대한국시리즈\\n#역대한국시리즈전적\\n\\n\\n공감한 사람 보러가기\\n댓글 1 공유하기\\n{\"title\":\"프로야구 한국시리즈 역대 우승팀 및 팀별 우승 횟수(~2024년까지)\",\"source\":\"https://blog.naver.com/dicasub/223637908357\",\"blogName\":\"디카섭(Di..\",\"blogId\":\"dicasub\",\"domainIdOrBlogId\":\"dicasub\",\"nicknameOrBlogId\":\"디카섭 DiCaSub\",\"logNo\":223637908357,\"smartEditorVersion\":4,\"meDisplay\":true,\"lineDisplay\":true,\"outsideDisplay\":false,\"cafeDisplay\":true,\"blogDisplay\":true}\\n닫기\\n카테고리\\n이 블로그 홈\\n\\n공감한 사람 보러가기\\n댓글 1 공유하기\\n디카섭 DiCaSub(dicasub) 님을 이웃추가하고 새글을 받아보세요\\n취소 이웃추가'}],\n",
       "  'response_time': 4.37},\n",
       " 'status': 'success'}"
      ]
     },
     "execution_count": 62,
     "metadata": {},
     "output_type": "execute_result"
    }
   ],
   "source": [
    "dict(search_result2)"
   ]
  },
  {
   "cell_type": "markdown",
   "metadata": {},
   "source": [
    "#### tool_call 이 여러개일 경우 \n",
    "- 질의에 대해 tool을 여러번 호출 해야 하는 경우 tool_calling 정보를 여러개 반환할 수 있다.\n",
    "    - 예) 검색할 키워드가 여러개인 경우. \n",
    "- `tool.batch([tool_call1, tool_call2, ..])`"
   ]
  },
  {
   "cell_type": "code",
   "execution_count": 64,
   "metadata": {},
   "outputs": [
    {
     "data": {
      "text/plain": [
       "[ToolMessage(content='[{\"url\": \"https://namu.wiki/w/KBO+한국시리즈\", \"content\": \"1988년 한국시리즈 우승팀 해태 ... 결국 2014년을 끝으로 한국프로야구 리그의 명칭이 \\'kbo 리그\\'로 리브랜딩되고 한국시리즈 명칭 역시 \\'kbo 한국시리즈\\'로 개칭되면서 이 우승기 디자인도 더 이상 쓰이지 않게 됐다. ... 2024년 한국시리즈 mvp\"}, {\"url\": \"https://namu.wiki/w/2024+신한+SOL+Bank+KBO+한국시리즈\", \"content\": \"2024년 kbo 한국시리즈 우승팀. ... 올 시즌 kia는 한국프로야구 43년 역사상 단일 시즌 최다 실책을 기록했을 만큼 매우 불안한 수비를 보여주고 있다. ... 가을야구 경험 부족 2017년 한국시리즈 이후 포스트시즌이 단 2번 뿐이고, 그마저도 전부 5위로 진출해서 와일드\"}, {\"url\": \"https://m.blog.naver.com/dicasub/223637908357\", \"content\": \"프로야구 한국시리즈 역대 우승팀 및 팀별 우승 횟수(~2024년까지) : 네이버 블로그 본문 바로가기 카테고리 이동 디카섭(DiCaSub)의 스포츠 통계 이야기 야구[국내일반] [공지] 프로야구 한국시리즈 역대 우승팀 및 팀별 우승 횟수(~2024년까지) 디카섭 DiCaSub 이웃추가 본문 기타 기능 공유하기 국내 프로야구(KBO) 한국시리즈 역대 우승팀 정리 삼성과의 상대전적 4승 1패로 KIA가 한국시리즈 우승 트로피를 들어올렸습니다!! 역대 한국시리즈 우승팀 현황을 아래 <표>와 <그림>으로 정리해보았습니다. 국내 프로야구(KBO) 구단(팀)별 한국시리즈 우승 횟수<표> 국내 프로야구(KBO) 구단(팀)별 한국시리즈 우승 횟수<그림> [그림1] 국내 프로야구(KBO) 구단(팀)별 한국시리즈 우승 횟수 (막대형) [그림2] 국내 프로야구(KBO) 구단(팀)별 한국시리즈 우승 횟수 (원형) https://blog.naver.com/dicasub/223603577717 2024년 국내 프로야구(KBO) 정규리그 최종 순위 정리(월별 순위 분석/최종)2024년 국내 프로야구(KBO) 정규리그 최종 순위 정리 (월별 순위 분석/최종) 드디어 오늘 2024년 국내 ... http://blog.naver.com/dicasub #야구 #한국시리즈 댓글 1 공유하기 {\\\\\"title\\\\\":\\\\\"프로야구 한국시리즈 역대 우승팀 및 팀별 우승 횟수(~2024년까지)\\\\\",\\\\\"source\\\\\":\\\\\"https://blog.naver.com/dicasub/223637908357\\\\\",\\\\\"blogName\\\\\":\\\\\"디카섭(Di..\\\\\",\\\\\"blogId\\\\\":\\\\\"dicasub\\\\\",\\\\\"domainIdOrBlogId\\\\\":\\\\\"dicasub\\\\\",\\\\\"nicknameOrBlogId\\\\\":\\\\\"디카섭 DiCaSub\\\\\",\\\\\"logNo\\\\\":223637908357,\\\\\"smartEditorVersion\\\\\":4,\\\\\"meDisplay\\\\\":true,\\\\\"lineDisplay\\\\\":true,\\\\\"outsideDisplay\\\\\":false,\\\\\"cafeDisplay\\\\\":true,\\\\\"blogDisplay\\\\\":true} 댓글 1 공유하기 취소 이웃추가\"}]', name='tavily_search_results_json', tool_call_id='call_AZfQdyw0SGSxXUnRcvcxuPBY', artifact={'query': '2024년 프로야구 한국 시리즈 우승팀', 'follow_up_questions': None, 'answer': '2024년 KBO 한국 시리즈 우승팀은 KIA 타이거즈입니다.삼성 라이온즈와의 상대전적은 4승 1패로 KIA가 우승을 차지했습니다. KIA는 이번 시즌에 우승을 이끌었으며, 이는 팀의 역대 한국 시리즈 우승 횟수를 늘렸습니다.', 'images': ['https://dimg1.donga.com/wps/SPORTS/IMAGE/2024/04/23/124610379.2.jpg', 'http://img.tf.co.kr/article/home/2024/04/23/202414281713838977.jpg', 'https://img1.daumcdn.net/thumb/S1200x630/?fname=https://t1.daumcdn.net/news/202404/23/poctan/20240423114250478duvz.jpg', 'https://img1.daumcdn.net/thumb/S1200x630/?fname=https://t1.daumcdn.net/news/202404/23/sportsdonga/20240423112425221pghu.jpg', 'https://i.ytimg.com/vi/L0Y38pQbEeQ/maxresdefault.jpg'], 'results': [{'title': 'Kbo 한국시리즈 - 나무위키', 'url': 'https://namu.wiki/w/KBO+한국시리즈', 'content': \"1988년 한국시리즈 우승팀 해태 ... 결국 2014년을 끝으로 한국프로야구 리그의 명칭이 'kbo 리그'로 리브랜딩되고 한국시리즈 명칭 역시 'kbo 한국시리즈'로 개칭되면서 이 우승기 디자인도 더 이상 쓰이지 않게 됐다. ... 2024년 한국시리즈 mvp\", 'score': 0.99989367, 'raw_content': None}, {'title': '2024 신한 SOL Bank KBO 한국시리즈 - 나무위키', 'url': 'https://namu.wiki/w/2024+신한+SOL+Bank+KBO+한국시리즈', 'content': '2024년 kbo 한국시리즈 우승팀. ... 올 시즌 kia는 한국프로야구 43년 역사상 단일 시즌 최다 실책을 기록했을 만큼 매우 불안한 수비를 보여주고 있다. ... 가을야구 경험 부족 2017년 한국시리즈 이후 포스트시즌이 단 2번 뿐이고, 그마저도 전부 5위로 진출해서 와일드', 'score': 0.9998822, 'raw_content': None}, {'title': '프로야구 한국시리즈 역대 우승팀 및 팀별 우승 횟수(~2024년까지) : 네이버 블로그', 'url': 'https://m.blog.naver.com/dicasub/223637908357', 'content': '프로야구 한국시리즈 역대 우승팀 및 팀별 우승 횟수(~2024년까지) : 네이버 블로그 본문 바로가기 카테고리 이동 디카섭(DiCaSub)의 스포츠 통계 이야기 야구[국내일반] [공지] 프로야구 한국시리즈 역대 우승팀 및 팀별 우승 횟수(~2024년까지) 디카섭 DiCaSub 이웃추가 본문 기타 기능 공유하기 국내 프로야구(KBO) 한국시리즈 역대 우승팀 정리 삼성과의 상대전적 4승 1패로 KIA가 한국시리즈 우승 트로피를 들어올렸습니다!! 역대 한국시리즈 우승팀 현황을 아래 <표>와 <그림>으로 정리해보았습니다. 국내 프로야구(KBO) 구단(팀)별 한국시리즈 우승 횟수<표> 국내 프로야구(KBO) 구단(팀)별 한국시리즈 우승 횟수<그림> [그림1] 국내 프로야구(KBO) 구단(팀)별 한국시리즈 우승 횟수 (막대형) [그림2] 국내 프로야구(KBO) 구단(팀)별 한국시리즈 우승 횟수 (원형) https://blog.naver.com/dicasub/223603577717 2024년 국내 프로야구(KBO) 정규리그 최종 순위 정리(월별 순위 분석/최종)2024년 국내 프로야구(KBO) 정규리그 최종 순위 정리 (월별 순위 분석/최종) 드디어 오늘 2024년 국내 ... http://blog.naver.com/dicasub #야구 #한국시리즈 댓글 1 공유하기 {\"title\":\"프로야구 한국시리즈 역대 우승팀 및 팀별 우승 횟수(~2024년까지)\",\"source\":\"https://blog.naver.com/dicasub/223637908357\",\"blogName\":\"디카섭(Di..\",\"blogId\":\"dicasub\",\"domainIdOrBlogId\":\"dicasub\",\"nicknameOrBlogId\":\"디카섭 DiCaSub\",\"logNo\":223637908357,\"smartEditorVersion\":4,\"meDisplay\":true,\"lineDisplay\":true,\"outsideDisplay\":false,\"cafeDisplay\":true,\"blogDisplay\":true} 댓글 1 공유하기 취소 이웃추가', 'score': 0.99980444, 'raw_content': '프로야구 한국시리즈 역대 우승팀 및 팀별 우승 횟수(~2024년까지) : 네이버 블로그\\n \\n본문 바로가기\\n블로그\\n카테고리 이동 디카섭(DiCaSub)의 스포츠 통계 이야기\\n\\n검색 MY메뉴 열기\\n야구[국내일반]\\n[공지] 프로야구 한국시리즈 역대 우승팀 및 팀별 우승 횟수(~2024년까지)\\n\\n디카섭 DiCaSub\\n4시간 전\\n이웃추가\\n본문 기타 기능\\n\\n본문 폰트 크기 조정 본문 폰트 크기 작게 보기 본문 폰트 크기 크게 보기 가\\n\\n공감하기\\n\\n\\n공유하기\\n\\nURL복사\\n신고하기\\n\\n\\n국내 프로야구(KBO) 한국시리즈 역대 우승팀 정리\\n(2024 시즌까지 업데이트 완료)\\n작성자 DiCaSub / 작성일 2024-10-28\\n\\n\\u200b오늘 한국시리즈 5차전이 KIA의 역전승으로 종료되면서,\\n삼성과의 상대전적 4승 1패로 KIA가 한국시리즈 우승 트로피를 들어올렸습니다!!\\n축하축하!!\\n\\n2024년의 국내 프로야구의 대장정은 이렇게 마무리되었습니다.\\n모든 구단, 모든 선수들 정말 고생 많으셨습니다!\\n\\n\\n역대 한국시리즈 우승팀 현황을 아래 <표>와 <그림>으로 정리해보았습니다.\\n<표 항목 : 시즌별 우승팀/준우승팀/상대전적>\\n(이제 나의 팀 한화이글스도 여기서 이름 좀 올려봅시다^^)\\n시즌우승팀준우승팀전적2024년KIA삼성4승1패2023년LGKT4승1패2022년SSG키움4승2패2021년KT두산4승2020년NC두산4승2패2019년두산키움4승2018년SK두산4승2패2017년KIA두산4승1패2016년두산NC4승2015년두산삼성4승1패2014년삼성넥센4승2패2013년삼성두산4승3패2012년삼성SK4승2패2011년삼성SK4승1패2010년SK삼성4승2009년KIASK4승3패2008년SK두산4승1패2007년SK두산4승2패2006년삼성한화4승1무1패2005년삼성두산4승2004년현대삼성4승3무2패2003년현대SK4승3패2002년삼성LG4승2패2001년두산삼성4승2패2000년현대두산4승3패1999년한화롯데4승1패1998년현대LG4승2패1997년해태LG4승1패1996년해태현대4승2패1995년OB롯데4승3패1994년LG태평양4승1993년해태삼성4승1무2패1992년롯데빙그레4승1패1991년해태빙그레4승1990년LG삼성4승1989년해태빙그레4승1패1988년해태빙그레4승2패1987년해태삼성4승1986년해태삼성4승1패1985년삼성 전·후기 통합우승(한국시리즈 열리지 않음)1984년롯데삼성4승3패1983년해태MBC4승1무1982년OB삼성4승1무1패\\n\\n\\n국내 프로야구(KBO) 구단(팀)별\\n한국시리즈 우승 횟수<표>\\n작성자 DiCaSub / 작성일 2024-10-28\\n\\n우승팀우승횟수 (회)KIA (해태포함)12삼성8두산 (OB포함)6SSG (SK포함)5현대4LG3롯데2한화1NC1KT1\\n\\n\\n국내 프로야구(KBO) 구단(팀)별\\n한국시리즈 우승 횟수<그림>\\n작성자 DiCaSub / 작성일 2024-10-28\\n\\n\\n[그림1] 국내 프로야구(KBO) 구단(팀)별 한국시리즈 우승 횟수 (막대형)\\n\\n[그림2] 국내 프로야구(KBO) 구단(팀)별 한국시리즈 우승 횟수 (원형)\\n\\n(참고) 2024 정규리그 성적 포스팅!\\nhttps://blog.naver.com/dicasub/223603577717\\n2024년 국내 프로야구(KBO) 정규리그 최종 순위 정리(월별 순위 분석/최종)2024년 국내 프로야구(KBO) 정규리그 최종 순위 정리 (월별 순위 분석/최종) 드디어 오늘 2024년 국내 ... blog.naver.com\\n\\n디카섭의 스포츠통계 이야기\\nhttp://blog.naver.com/dicasub\\n작성자 DiCaSub / 작성일 2024-10-28\\n\\n\\n\\n\\u200b\\n\\n#야구\\n#프로야구\\n#한국시리즈\\n#한국시리즈일정\\n#한국시리즈우승\\n#한국시리즈준우승\\n#기아삼성\\n#kia삼성\\n#기아우승\\n#삼성준우승\\n#야구우승\\n#프로야구포스트시즌\\n#포스트시즌\\n#프로야구한국시리즈\\n#2024프로야구한국시리즈\\n#야구한국시리즈\\n#야구한국시리즈우승\\n#프로야구순위\\n#프로야구우승\\n#kbo포스트시즌\\n#kbo순위\\n#kbo리그\\n#kbo우승\\n#kbo우승팀\\n#kbo우승횟수\\n#역대kbo우승팀\\n#역대한국시리즈우승\\n#역대한국시리즈우승팀\\n#역대한국시리즈\\n#역대한국시리즈전적\\n\\n\\n공감한 사람 보러가기\\n댓글 1 공유하기\\n{\"title\":\"프로야구 한국시리즈 역대 우승팀 및 팀별 우승 횟수(~2024년까지)\",\"source\":\"https://blog.naver.com/dicasub/223637908357\",\"blogName\":\"디카섭(Di..\",\"blogId\":\"dicasub\",\"domainIdOrBlogId\":\"dicasub\",\"nicknameOrBlogId\":\"디카섭 DiCaSub\",\"logNo\":223637908357,\"smartEditorVersion\":4,\"meDisplay\":true,\"lineDisplay\":true,\"outsideDisplay\":false,\"cafeDisplay\":true,\"blogDisplay\":true}\\n닫기\\n카테고리\\n이 블로그 홈\\n\\n공감한 사람 보러가기\\n댓글 1 공유하기\\n디카섭 DiCaSub(dicasub) 님을 이웃추가하고 새글을 받아보세요\\n취소 이웃추가'}], 'response_time': 4.21})]"
      ]
     },
     "execution_count": 64,
     "metadata": {},
     "output_type": "execute_result"
    }
   ],
   "source": [
    "tavily_search.batch(result2.tool_calls)"
   ]
  },
  {
   "cell_type": "code",
   "execution_count": null,
   "metadata": {},
   "outputs": [],
   "source": []
  },
  {
   "cell_type": "markdown",
   "metadata": {},
   "source": [
    "## Tool 의 처리(응답) 결과를 LLM 요청시 사용\n",
    "- ToolMessage를 prompt 에 추가하여 LLM에 요청한다.\n",
    "- ToolMessage 는 Tool Calling 정보를 가진 AIMessage 다음에 들어와야 한다.\n",
    "- Prompt 순서\n",
    "    1. 일반 prompt (system, 대화 history, .., human)\n",
    "    2. AIMessage: tool calling 정보를 가진 AIMessage. (tool_model에 질의 받은 tool calling 정보가 있는 응답)\n",
    "    3. ToolMessage:  Tool의 처리 결과"
   ]
  },
  {
   "cell_type": "code",
   "execution_count": 68,
   "metadata": {},
   "outputs": [
    {
     "data": {
      "text/plain": [
       "'2024년12-13'"
      ]
     },
     "execution_count": 68,
     "metadata": {},
     "output_type": "execute_result"
    }
   ],
   "source": [
    "from datetime import datetime\n",
    "datetime.now().strftime(\"%Y-%m-%d\")\n",
    "# datetime.today()"
   ]
  },
  {
   "cell_type": "code",
   "execution_count": 89,
   "metadata": {},
   "outputs": [],
   "source": [
    "from datetime import datetime\n",
    "from langchain_core.runnables import chain\n",
    "from langchain.prompts import ChatPromptTemplate, MessagesPlaceholder\n",
    "from textwrap import dedent\n",
    "# tool 들 생성\n",
    "# model 생성\n",
    "# model에 tool들을 binding.\n",
    "today = datetime.now().strftime(\"%Y-%m-%d\")\n",
    "prompt_template = ChatPromptTemplate(\n",
    "    [\n",
    "        (\"system\", dedent(\"\"\"\n",
    "            당신은 유능한 AI 비서입니다. \n",
    "            오늘 날짜는 {today}입니다. \n",
    "            답변을 할 때 오늘 날짜와 가장 가까운 정보를 검색해서 대답해 주세요.\n",
    "            \"\"\")),\n",
    "        (\"human\", \"{user_input}\"), # 질문\n",
    "        MessagesPlaceholder(\"message\", optional=True) \n",
    "        # AIMessage(tool_calls정보) - ToolMessage\n",
    "    ],\n",
    "    partial_variables={\"today\":today}\n",
    ")\n",
    "# MessagesPlaceholder(\"message\", optional=True) == (\"placeholder\", \"{message}\")\n",
    "\n",
    "tool_model_chain = prompt_template | tool_model  # tool_model = model + tool들\n",
    "\n",
    "@chain\n",
    "def web_search_chain(input):\n",
    "    # input: 사용자 질의의\n",
    "    ai_message = tool_model_chain.invoke({\"user_input\":input})\n",
    "    if ai_message.tool_calls: # Tool을 호출 -> query + Tool결과 -> llm 요청청\n",
    "        tool_messages = tavily_search.batch(ai_message.tool_calls)#list[ToolMessage\n",
    "        input_dict = {\n",
    "            \"user_input\":input, \n",
    "            \"message\":[ai_message, *tool_messages]\n",
    "        }\n",
    "        return tool_model_chain.invoke(input_dict).content\n",
    "    else: # LLM이 답변을 한 경우 -> 답변을 응답.\n",
    "        return ai_message.content\n"
   ]
  },
  {
   "cell_type": "code",
   "execution_count": 90,
   "metadata": {},
   "outputs": [],
   "source": [
    "result = web_search_chain.invoke({\"user_input\":\"2024년 한국시리즈 우승팀은 어디에요?\"})"
   ]
  },
  {
   "cell_type": "code",
   "execution_count": 88,
   "metadata": {},
   "outputs": [
    {
     "data": {
      "text/plain": [
       "'2024년 한국시리즈에서 KIA 타이거즈가 우승했습니다. KIA는 삼성 라이온즈를 상대로 5차전에서 7대5로 승리하며 통산 12번째 우승을 차지했습니다. 이번 우승은 KIA에게 7년 만의 통합 우승이기도 하며, 2017년 이후 처음입니다.'"
      ]
     },
     "execution_count": 88,
     "metadata": {},
     "output_type": "execute_result"
    }
   ],
   "source": [
    "result"
   ]
  },
  {
   "cell_type": "markdown",
   "metadata": {},
   "source": [
    "# 사용자 정의 Tool 구현\n",
    "\n",
    "## @tool 사용\n",
    "- 함수로 구현하고 `@tool` 데코레이터를 사용해 tool(StructuredTool)로 정의한다.\n",
    "    - `langchain_core.tools` 모듈에 있다.\n",
    "- tool name\n",
    "    - 함수의 이름이 tool의 이름이 된다.\n",
    "- parameters\n",
    "    - 함수의 파라미터가 tool의 파라미터가 된다.\n",
    "    - **type hint**를 이용해 타입을 지정한다.  \n",
    "- description\n",
    "    - doctring이 description이 된다.\n",
    "    - RunnableBinding이 tool을 잘 찾을 수 있도록 하려면 **tool의 기능을 최대한 구체적**으로 작성한다.\n",
    "- **@tool이 적용된 함수(StructuredTool)이 tool**이므로 model에 binding 한다."
   ]
  },
  {
   "cell_type": "code",
   "execution_count": 43,
   "metadata": {},
   "outputs": [],
   "source": [
    "from langchain_core.tools import tool #tool decorator import\n",
    "\n",
    "@tool\n",
    "def plus(num1:int|float, num2:int|float) -> int|float:\n",
    "    \"\"\"입력받은 두 수를 더한 결과를 반환하는 tool.\"\"\"\n",
    "    \n",
    "    return num1 + num2\n",
    "\n",
    "@tool\n",
    "def multiply(num1:int|float, num2:int|float) -> int|float:\n",
    "    \"\"\"입력받은 두 수를 곱한 결과를 반환하는 tool.\"\"\"\n",
    "    return num1 * num2"
   ]
  },
  {
   "cell_type": "code",
   "execution_count": 33,
   "metadata": {},
   "outputs": [
    {
     "data": {
      "text/plain": [
       "langchain_core.tools.structured.StructuredTool"
      ]
     },
     "execution_count": 33,
     "metadata": {},
     "output_type": "execute_result"
    }
   ],
   "source": [
    "type(multiply)"
   ]
  },
  {
   "cell_type": "code",
   "execution_count": 44,
   "metadata": {},
   "outputs": [],
   "source": [
    "from langchain_openai import ChatOpenAI\n",
    "from dotenv import load_dotenv\n",
    "load_dotenv()\n",
    "\n",
    "model = ChatOpenAI(model=\"gpt-4o-mini\")\n",
    "# model에 tool을 연결\n",
    "## tool 함수를 등록한다.\n",
    "tool_model = model.bind_tools(tools=[plus,  multiply])\n",
    "\n",
    "result1 = tool_model.invoke(\"3 X 10 의 결과는?\")"
   ]
  },
  {
   "cell_type": "code",
   "execution_count": 45,
   "metadata": {},
   "outputs": [
    {
     "name": "stdout",
     "output_type": "stream",
     "text": [
      "content='' additional_kwargs={'tool_calls': [{'id': 'call_h7uZZwxVgmD6f2ieDXai3cPs', 'function': {'arguments': '{\"num1\":3,\"num2\":10}', 'name': 'multiply'}, 'type': 'function'}], 'refusal': None} response_metadata={'token_usage': {'completion_tokens': 19, 'prompt_tokens': 106, 'total_tokens': 125, 'completion_tokens_details': {'accepted_prediction_tokens': 0, 'audio_tokens': 0, 'reasoning_tokens': 0, 'rejected_prediction_tokens': 0}, 'prompt_tokens_details': {'audio_tokens': 0, 'cached_tokens': 0}}, 'model_name': 'gpt-4o-mini-2024-07-18', 'system_fingerprint': 'fp_6fc10e10eb', 'finish_reason': 'tool_calls', 'logprobs': None} id='run-816fca74-6e15-4c51-803c-8525b9fa9965-0' tool_calls=[{'name': 'multiply', 'args': {'num1': 3, 'num2': 10}, 'id': 'call_h7uZZwxVgmD6f2ieDXai3cPs', 'type': 'tool_call'}] usage_metadata={'input_tokens': 106, 'output_tokens': 19, 'total_tokens': 125, 'input_token_details': {'audio': 0, 'cache_read': 0}, 'output_token_details': {'audio': 0, 'reasoning': 0}}\n",
      "\n",
      "{'name': 'multiply', 'args': {'num1': 3, 'num2': 10}, 'id': 'call_h7uZZwxVgmD6f2ieDXai3cPs', 'type': 'tool_call'}\n"
     ]
    }
   ],
   "source": [
    "print(result1)\n",
    "print(result1.content)\n",
    "print(result1.tool_calls[0])\n",
    "# print(multiply.invoke(result1.tool_calls[0]))"
   ]
  },
  {
   "cell_type": "code",
   "execution_count": 46,
   "metadata": {},
   "outputs": [],
   "source": [
    "result2 = tool_model.invoke(\"20에 50을 더하면 얼마일까요?\")"
   ]
  },
  {
   "cell_type": "code",
   "execution_count": 21,
   "metadata": {},
   "outputs": [
    {
     "name": "stdout",
     "output_type": "stream",
     "text": [
      "content='' additional_kwargs={'tool_calls': [{'id': 'call_BwEO23juWsqxmqs4GRmIvtgl', 'function': {'arguments': '{\"num1\":20,\"num2\":50}', 'name': 'plus'}, 'type': 'function'}], 'refusal': None} response_metadata={'token_usage': {'completion_tokens': 19, 'prompt_tokens': 109, 'total_tokens': 128, 'completion_tokens_details': {'accepted_prediction_tokens': 0, 'audio_tokens': 0, 'reasoning_tokens': 0, 'rejected_prediction_tokens': 0}, 'prompt_tokens_details': {'audio_tokens': 0, 'cached_tokens': 0}}, 'model_name': 'gpt-4o-mini-2024-07-18', 'system_fingerprint': 'fp_6fc10e10eb', 'finish_reason': 'tool_calls', 'logprobs': None} id='run-a142ca7f-7eda-444d-804f-7096d8e1b0b0-0' tool_calls=[{'name': 'plus', 'args': {'num1': 20, 'num2': 50}, 'id': 'call_BwEO23juWsqxmqs4GRmIvtgl', 'type': 'tool_call'}] usage_metadata={'input_tokens': 109, 'output_tokens': 19, 'total_tokens': 128, 'input_token_details': {'audio': 0, 'cache_read': 0}, 'output_token_details': {'audio': 0, 'reasoning': 0}}\n",
      "\n",
      "{'name': 'plus', 'args': {'num1': 20, 'num2': 50}, 'id': 'call_BwEO23juWsqxmqs4GRmIvtgl', 'type': 'tool_call'}\n",
      "content='70' name='plus' tool_call_id='call_BwEO23juWsqxmqs4GRmIvtgl'\n"
     ]
    }
   ],
   "source": [
    "print(result2)\n",
    "print(result2.content)\n",
    "print(result2.tool_calls[0])\n",
    "print(plus.invoke(result2.tool_calls[0]))"
   ]
  },
  {
   "cell_type": "code",
   "execution_count": 22,
   "metadata": {},
   "outputs": [],
   "source": [
    "result3 = tool_model.invoke(\"20과 5를 더한 결과와 곱한 결과를 알려주세요.\")"
   ]
  },
  {
   "cell_type": "code",
   "execution_count": 24,
   "metadata": {},
   "outputs": [
    {
     "name": "stdout",
     "output_type": "stream",
     "text": [
      "content='' additional_kwargs={'tool_calls': [{'id': 'call_JHm8vZDWYBoq20jgVrH4EZua', 'function': {'arguments': '{\"num1\": 20, \"num2\": 5}', 'name': 'plus'}, 'type': 'function'}, {'id': 'call_GdR9sDM8jnLcAmAPKwtQg7Y5', 'function': {'arguments': '{\"num1\": 20, \"num2\": 5}', 'name': 'multiply'}, 'type': 'function'}], 'refusal': None} response_metadata={'token_usage': {'completion_tokens': 54, 'prompt_tokens': 115, 'total_tokens': 169, 'completion_tokens_details': {'accepted_prediction_tokens': 0, 'audio_tokens': 0, 'reasoning_tokens': 0, 'rejected_prediction_tokens': 0}, 'prompt_tokens_details': {'audio_tokens': 0, 'cached_tokens': 0}}, 'model_name': 'gpt-4o-mini-2024-07-18', 'system_fingerprint': 'fp_6fc10e10eb', 'finish_reason': 'tool_calls', 'logprobs': None} id='run-c4e67509-ccd0-462f-b0e3-b460496b488e-0' tool_calls=[{'name': 'plus', 'args': {'num1': 20, 'num2': 5}, 'id': 'call_JHm8vZDWYBoq20jgVrH4EZua', 'type': 'tool_call'}, {'name': 'multiply', 'args': {'num1': 20, 'num2': 5}, 'id': 'call_GdR9sDM8jnLcAmAPKwtQg7Y5', 'type': 'tool_call'}] usage_metadata={'input_tokens': 115, 'output_tokens': 54, 'total_tokens': 169, 'input_token_details': {'audio': 0, 'cache_read': 0}, 'output_token_details': {'audio': 0, 'reasoning': 0}}\n",
      "\n"
     ]
    },
    {
     "data": {
      "text/plain": [
       "[{'name': 'plus',\n",
       "  'args': {'num1': 20, 'num2': 5},\n",
       "  'id': 'call_JHm8vZDWYBoq20jgVrH4EZua',\n",
       "  'type': 'tool_call'},\n",
       " {'name': 'multiply',\n",
       "  'args': {'num1': 20, 'num2': 5},\n",
       "  'id': 'call_GdR9sDM8jnLcAmAPKwtQg7Y5',\n",
       "  'type': 'tool_call'}]"
      ]
     },
     "execution_count": 24,
     "metadata": {},
     "output_type": "execute_result"
    }
   ],
   "source": [
    "print(result3)\n",
    "print(result3.content)\n",
    "result3.tool_calls"
   ]
  },
  {
   "cell_type": "code",
   "execution_count": 29,
   "metadata": {},
   "outputs": [
    {
     "name": "stdout",
     "output_type": "stream",
     "text": [
      "tool 이름: plus\n",
      "tool 설명: 입력받은 두 수를 더한 결과를 반환하는 tool.\n",
      "tool schema:\n"
     ]
    },
    {
     "data": {
      "text/plain": [
       "{'description': '입력받은 두 수를 더한 결과를 반환하는 tool.',\n",
       " 'properties': {'num1': {'anyOf': [{'type': 'integer'}, {'type': 'number'}],\n",
       "   'title': 'Num1'},\n",
       "  'num2': {'anyOf': [{'type': 'integer'}, {'type': 'number'}],\n",
       "   'title': 'Num2'}},\n",
       " 'required': ['num1', 'num2'],\n",
       " 'title': 'plus',\n",
       " 'type': 'object'}"
      ]
     },
     "execution_count": 29,
     "metadata": {},
     "output_type": "execute_result"
    }
   ],
   "source": [
    "print(\"tool 이름:\", plus.name) #함수이름 == tool 이름\n",
    "print(\"tool 설명:\", plus.description) # 함수 docstring == tool description(설명)\n",
    "print(\"tool schema:\")\n",
    "plus.args_schema.model_json_schema()"
   ]
  },
  {
   "cell_type": "code",
   "execution_count": 49,
   "metadata": {},
   "outputs": [],
   "source": [
    "# TavilySearch로 검색한 결과를 Document에 담아서 반환하는 tool을 생성.\n",
    "from langchain_community.tools import TavilySearchResults\n",
    "from langchain_core.documents import Document\n",
    "from langchain_core.tools import tool\n",
    "\n",
    "@tool\n",
    "def search_web(query:str, max_results:int=2) -> list[Document]|str:\n",
    "    \"\"\"\n",
    "    가지고 있지 않은 정보나 최신 정보를 찾기 위해 인터넷 검색을 하는 툴입니다.\n",
    "    검색할 내용은 query 로 입력 받습니다.\n",
    "    검색 개수는 max_results로 받습니다. 입력되지 않은 경우에는 2개를 검색합니다.\n",
    "    검색 결과는 Document 객체에 담아 list로 묶어서 반환합니다.\n",
    "    \"\"\"\n",
    "    tavily_search = TavilySearchResults(max_results=max_results)\n",
    "    docs = tavily_search.invoke(query) # list[dict]\n",
    "    # print(docs)\n",
    "    # list[dict] => list[Document(page_content:검색결과, metadata={url:검색 url})]\n",
    "    document_list = []\n",
    "    for doc in docs:\n",
    "        _doc = Document(\n",
    "            page_content=doc['content'],\n",
    "            metadata={\"url\":doc['url'], \"question\":query}\n",
    "        )\n",
    "        document_list.append(_doc)\n",
    "    if document_list: # True: 원소 한개 이상 있는 경우.\n",
    "        return document_list\n",
    "    else: #False: 검색결과가 없는 경우.\n",
    "        return \"관련된 정보를 검색할 수 없습니다.\"\n",
    "\n"
   ]
  },
  {
   "cell_type": "code",
   "execution_count": null,
   "metadata": {},
   "outputs": [
    {
     "data": {
      "text/plain": [
       "[Document(metadata={'url': 'https://item.gmarket.co.kr/Item?goodscode=2518692425', 'question': '한우 등심 100g당 가격은 어떻게 되나요?'}, page_content='한우 등심 구이용 1+등급 (100g) (팩) 포장단위별 내용물의 용량(중량), 수량, 크기: 100g: 생산자/수입자 (주)이마트 미트센터: 원산지 (국내산) 제조연월일, 소비기한 또는 품질유지기한: 점포상품으로 지점별 정보가 상이합니다.'),\n",
       " Document(metadata={'url': 'https://wisely.store/product/1등급-한우-등심-구이용-200g-100g당-7995원-매일-22시-재입고/2078/', 'question': '한우 등심 100g당 가격은 어떻게 되나요?'}, page_content='상품 상세 정보  1+등급 한우 등심 구이용 200g (100g당 6,495원) | 마지막재고 입니다.상품명풍부한 육즙과 마블링이 예술인 1+ 한우 등심상품요약정보프레시메이커스브랜드27,990원 일반가12,990원제로마진가냉동배송공급사43 상품 옵션   배송국내배송 해외배송옵션 선택1+등급 한우 등심 구이용 200g (100g당 6,495원) | 마지막재고 입니다. - 월~금요일 오후 6시 이전 결제 시 : 당일 출고 후 1~2일 내 도착 - 금요일 오후 6시 이후 ~ 일요일 오후 6시 이전 결제 시 : 일요일 출고 후 1~2일 내 도착   상품 상세 정보  상품명1+등급 한우 등심 구이용 200g (100g당 6,495원) | 마지막재고 입니다.상품요약정보풍부한 육즙과 마블링이 예술인 1+ 한우 등심브랜드프레시메이커스일반가27,990원 제로마진가12,990원공급사냉동배송43 - 월~금요일 오후 6시 이전 결제 시 : 당일 출고 후 1~2일 내 도착 - 금요일 오후 6시 이후 ~ 일요일 오후 6시 이전 결제 시 : 일요일 출고 후 1~2일 내 도착  ')]"
      ]
     },
     "execution_count": 50,
     "metadata": {},
     "output_type": "execute_result"
    }
   ],
   "source": [
    "query = \"한우 등심 100g당 가격은 어떻게 되나요?\"\n",
    "search_web.invoke(query)"
   ]
  },
  {
   "cell_type": "code",
   "execution_count": 54,
   "metadata": {},
   "outputs": [
    {
     "name": "stdout",
     "output_type": "stream",
     "text": [
      "search_web\n",
      "가지고 있지 않은 정보나 최신 정보를 찾기 위해 인터넷 검색을 하는 툴입니다.\n",
      "검색할 내용은 query 로 입력 받습니다.\n",
      "검색 개수는 max_results로 받습니다. 입력되지 않은 경우에는 2개를 검색합니다.\n",
      "검색 결과는 Document 객체에 담아 list로 묶어서 반환합니다.\n"
     ]
    },
    {
     "data": {
      "text/plain": [
       "{'description': '가지고 있지 않은 정보나 최신 정보를 찾기 위해 인터넷 검색을 하는 툴입니다.\\n검색할 내용은 query 로 입력 받습니다.\\n검색 개수는 max_results로 받습니다. 입력되지 않은 경우에는 2개를 검색합니다.\\n검색 결과는 Document 객체에 담아 list로 묶어서 반환합니다.',\n",
       " 'properties': {'query': {'title': 'Query', 'type': 'string'},\n",
       "  'max_results': {'default': 2, 'title': 'Max Results', 'type': 'integer'}},\n",
       " 'required': ['query'],\n",
       " 'title': 'search_web',\n",
       " 'type': 'object'}"
      ]
     },
     "execution_count": 54,
     "metadata": {},
     "output_type": "execute_result"
    }
   ],
   "source": [
    "print(search_web.name)\n",
    "print(search_web.description)\n",
    "search_web.args_schema.model_json_schema()"
   ]
  },
  {
   "cell_type": "code",
   "execution_count": 68,
   "metadata": {},
   "outputs": [
    {
     "name": "stdout",
     "output_type": "stream",
     "text": [
      "content='[Document(metadata={\\'url\\': \\'https://department.ssg.com/search.ssg?query=한우등심\\', \\'question\\': \\'한우 등심 100g 가격\\'}, page_content=\\'신세계백화점에서 한우등심 최저가 상품부터 한우등심 추천•인기 상품까지, 할인 가격으로 만나보세요! ... 가격 상세보기. 판매가 59,900 세일가 42,900 ssg money 할인쿠폰 4,290원 최적가 38,610 (100g당:15,444원)\\'), Document(metadata={\\'url\\': \\'https://wisely.store/product/1등급-한우-등심-구이용-200g-100g당-7995원-매일-22시-재입고/2078/\\', \\'question\\': \\'한우 등심 100g 가격\\'}, page_content=\\'상품 상세 정보  1+등급 한우 등심 구이용 200g (100g당 6,495원) | 마지막재고 입니다.상품명풍부한 육즙과 마블링이 예술인 1+ 한우 등심상품요약정보프레시메이커스브랜드27,990원 일반가12,990원제로마진가냉동배송공급사43 상품 옵션   배송국내배송 해외배송옵션 선택1+등급 한우 등심 구이용 200g (100g당 6,495원) | 마지막재고 입니다. - 월~금요일 오후 6시 이전 결제 시 : 당일 출고 후 1~2일 내 도착 - 금요일 오후 6시 이후 ~ 일요일 오후 6시 이전 결제 시 : 일요일 출고 후 1~2일 내 도착   상품 상세 정보  상품명1+등급 한우 등심 구이용 200g (100g당 6,495원) | 마지막재고 입니다.상품요약정보풍부한 육즙과 마블링이 예술인 1+ 한우 등심브랜드프레시메이커스일반가27,990원 제로마진가12,990원공급사냉동배송43 - 월~금요일 오후 6시 이전 결제 시 : 당일 출고 후 1~2일 내 도착 - 금요일 오후 6시 이후 ~ 일요일 오후 6시 이전 결제 시 : 일요일 출고 후 1~2일 내 도착  \\'), Document(metadata={\\'url\\': \\'http://item.gmarket.co.kr/Item?goodsCode=2663536998\\', \\'question\\': \\'한우 등심 100g 가격\\'}, page_content=\\'스테이크용 한우 등심 (1등급) (100G) 포장단위별 내용물의 용량(중량), 수량, 크기: 100g: 생산자/수입자: 롯데신선품질혁신센터: 원산지: 국내산 한우고기: 제조연월일, 소비기한 또는 품질유지기한: 본 상품은 제조일자별로 유통기한이 상이하여 정보 제공이\\'), Document(metadata={\\'url\\': \\'https://item.gmarket.co.kr/Item?goodscode=2518692425\\', \\'question\\': \\'한우 등심 100g 가격\\'}, page_content=\\'한우 등심 구이용 1+등급 (100g) (팩) 포장단위별 내용물의 용량(중량), 수량, 크기: 100g: 생산자/수입자 (주)이마트 미트센터: 원산지 (국내산) 제조연월일, 소비기한 또는 품질유지기한: 점포상품으로 지점별 정보가 상이합니다.\\'), Document(metadata={\\'url\\': \\'https://emart.ssg.com/search.ssg?query=한우등심\\', \\'question\\': \\'한우 등심 100g 가격\\'}, page_content=\\'장바구니 담기 {\"advertBidId\":\"9999999998\",\"displayPrc\":\"41900\",\"giftBtnShowType\":\"\",\"giftBtnActType\":\"Y\",\"itemChrctDivCd\":\"10\",\"giftBtnMsg\":\"\",\"itemNm\":\"[냉장] 1++등급 한우 채끝 200g 투뿔한우 구이용 채끝 등심 소고기 (근내지방도 7이상)\",\"shppTypeCd\":\"20\",\"shppTypeDtlCd\":\"22\",\"goItemDetailYn\":\"Y\",\"dealItemYn\":\"N\",\"itemRegDivCd\":\"10\",\"advertExtensTeryDivCd\":\"\",\"siteNo\":\"6001\",\"brandNm\":\"압구정한우\",\"useForcedSsg\":\"N\",\"cartPsblType\":\"\",\"msgItemDetail\":\"이 상품은 옵션이 있는 상품 입니다.\\\\\\\\n상품상세에서 옵션을 선택해주세요.\",\"bsplItemDivCd\":null,\"itemLnkd\":\"https://emart.ssg.com/item/itemView.ssg?itemId=1000627057633&siteNo=6001&salestrNo=6005&tlidSrchWd=한우등심&srchPgNo=1&advertBidId=9999999998\",\"bothSsgMorningShppYn\":\"N\",\"drctPurchYn\":\"N\",\"gourmetYn\":\"\",\"itemId\":\"1000627057633\",\"cleaningLabYn\":\"N\",\"uitemId\":\"00000\",\"infloSiteNo\":\"7018\",\"salestrNo\":\"6005\"} 장바구니 담기 {\"advertBidId\":\"9999999998\",\"displayPrc\":\"18900\",\"giftBtnShowType\":\"\",\"giftBtnActType\":\"Y\",\"itemChrctDivCd\":\"10\",\"giftBtnMsg\":\"\",\"itemNm\":\"[냉장] 1++등급 한우 국거리 200g 투뿔한우 국거리용 소고기 (근내지방도 7이상)\",\"shppTypeCd\":\"20\",\"shppTypeDtlCd\":\"22\",\"goItemDetailYn\":\"Y\",\"dealItemYn\":\"N\",\"itemRegDivCd\":\"10\",\"advertExtensTeryDivCd\":\"\",\"siteNo\":\"6001\",\"brandNm\":\"압구정한우\",\"useForcedSsg\":\"N\",\"cartPsblType\":\"\",\"msgItemDetail\":\"이 상품은 옵션이 있는 상품 입니다.\\\\\\\\n상품상세에서 옵션을 선택해주세요.\",\"bsplItemDivCd\":null,\"itemLnkd\":\"https://emart.ssg.com/item/itemView.ssg?itemId=1000627016965&siteNo=6001&salestrNo=6005&tlidSrchWd=한우등심&srchPgNo=1&advertBidId=9999999998\",\"bothSsgMorningShppYn\":\"N\",\"drctPurchYn\":\"N\",\"gourmetYn\":\"\",\"itemId\":\"1000627016965\",\"cleaningLabYn\":\"N\",\"uitemId\":\"00000\",\"infloSiteNo\":\"7018\",\"salestrNo\":\"6005\"} 장바구니 담기 {\"advertBidId\":\"\",\"displayPrc\":\"37800\",\"giftBtnShowType\":\"\",\"giftBtnActType\":\"N\",\"itemChrctDivCd\":\"10\",\"giftBtnMsg\":\"선물하기 불가 상품 입니다.\",\"itemNm\":\"[냉장] 1++등급(9) 한우 등심 구이 200g\",\"shppTypeCd\":\"10\",\"shppTypeDtlCd\":\"16\",\"goItemDetailYn\":\"N\",\"dealItemYn\":\"N\",\"itemRegDivCd\":\"20\",\"advertExtensTeryDivCd\":\"\",\"siteNo\":\"7009\",\"brandNm\":\"조우\",\"useForcedSsg\":\"N\",\"cartPsblType\":\"\",\"msgItemDetail\":\"\",\"bsplItemDivCd\":null,\"itemLnkd\":\"https://emart.ssg.com/item/itemView.ssg?itemId=2097001784853&siteNo=7009&salestrNo=2493&tlidSrchWd=한우등심&srchPgNo=1\",\"bothSsgMorningShppYn\":\"N\",\"drctPurchYn\":\"N\",\"gourmetYn\":\"Y\",\"itemId\":\"2097001784853\",\"cleaningLabYn\":\"N\",\"uitemId\":\"00000\",\"infloSiteNo\":\"7018\",\"salestrNo\":\"2493\"} 장바구니 담기 {\"advertBidId\":\"\",\"displayPrc\":\"41800\",\"giftBtnShowType\":\"\",\"giftBtnActType\":\"N\",\"itemChrctDivCd\":\"10\",\"giftBtnMsg\":\"선물하기 불가 상품 입니다.\",\"itemNm\":\"[냉장] 1++등급(9) 한우 채끝 스테이크 200g\",\"shppTypeCd\":\"10\",\"shppTypeDtlCd\":\"16\",\"goItemDetailYn\":\"N\",\"dealItemYn\":\"N\",\"itemRegDivCd\":\"20\",\"advertExtensTeryDivCd\":\"\",\"siteNo\":\"7009\",\"brandNm\":\"조우\",\"useForcedSsg\":\"N\",\"cartPsblType\":\"\",\"msgItemDetail\":\"\",\"bsplItemDivCd\":null,\"itemLnkd\":\"https://emart.ssg.com/item/itemView.ssg?itemId=2097002082385&siteNo=7009&salestrNo=2493&tlidSrchWd=한우등심&srchPgNo=1\",\"bothSsgMorningShppYn\":\"N\",\"drctPurchYn\":\"N\",\"gourmetYn\":\"Y\",\"itemId\":\"2097002082385\",\"cleaningLabYn\":\"N\",\"uitemId\":\"00000\",\"infloSiteNo\":\"7018\",\"salestrNo\":\"2493\"} 장바구니 담기 {\"advertBidId\":\"\",\"displayPrc\":\"46800\",\"giftBtnShowType\":\"\",\"giftBtnActType\":\"N\",\"itemChrctDivCd\":\"10\",\"giftBtnMsg\":\"선물하기 불가 상품 입니다.\",\"itemNm\":\"[냉장] 1++등급(9) 한우 안심 구이 200g\",\"shppTypeCd\":\"10\",\"shppTypeDtlCd\":\"16\",\"goItemDetailYn\":\"N\",\"dealItemYn\":\"N\",\"itemRegDivCd\":\"20\",\"advertExtensTeryDivCd\":\"\",\"siteNo\":\"7009\",\"brandNm\":\"조우\",\"useForcedSsg\":\"N\",\"cartPsblType\":\"\",\"msgItemDetail\":\"\",\"bsplItemDivCd\":null,\"itemLnkd\":\"https://emart.ssg.com/item/itemView.ssg?itemId=2097002075493&siteNo=7009&salestrNo=2493&tlidSrchWd=한우등심&srchPgNo=1\",\"bothSsgMorningShppYn\":\"N\",\"drctPurchYn\":\"N\",\"gourmetYn\":\"Y\",\"itemId\":\"2097002075493\",\"cleaningLabYn\":\"N\",\"uitemId\":\"00000\",\"infloSiteNo\":\"7018\",\"salestrNo\":\"2493\"} 장바구니 담기 {\"advertBidId\":\"\",\"displayPrc\":\"68250\",\"giftBtnShowType\":\"\",\"giftBtnActType\":\"Y\",\"itemChrctDivCd\":\"10\",\"giftBtnMsg\":\"\",\"itemNm\":\"[냉장]1++등급(7이상) 투뿔 한우 등심 구이용 500g 대용량팩\",\"shppTypeCd\":\"20\",\"shppTypeDtlCd\":\"22\",\"goItemDetailYn\":\"N\",\"dealItemYn\":\"N\",\"itemRegDivCd\":\"10\",\"advertExtensTeryDivCd\":\"\",\"siteNo\":\"6001\",\"brandNm\":\"농협안심한우\",\"useForcedSsg\":\"N\",\"cartPsblType\":\"\",\"msgItemDetail\":\"\",\"bsplItemDivCd\":null,\"itemLnkd\":\"https://emart.ssg.com/item/itemView.ssg?itemId=1000553941877&siteNo=6001&salestrNo=6005&tlidSrchWd=한우등심&srchPgNo=1\",\"bothSsgMorningShppYn\":\"N\",\"drctPurchYn\":\"N\",\"gourmetYn\":\"Y\",\"itemId\":\"1000553941877\",\"cleaningLabYn\":\"N\",\"uitemId\":\"00000\",\"infloSiteNo\":\"7018\",\"salestrNo\":\"6005\"} 장바구니 담기 {\"advertBidId\":\"\",\"displayPrc\":\"54800\",\"giftBtnShowType\":\"\",\"giftBtnActType\":\"N\",\"itemChrctDivCd\":\"10\",\"giftBtnMsg\":\"선물하기 불가 상품 입니다.\",\"itemNm\":\"[냉장] 한우 등심(구이용)1++등급(7) 300g(팩)\",\"shppTypeCd\":\"10\",\"shppTypeDtlCd\":\"16\",\"goItemDetailYn\":\"N\",\"dealItemYn\":\"N\",\"itemRegDivCd\":\"20\",\"advertExtensTeryDivCd\":\"\",\"siteNo\":\"7009\",\"brandNm\":null,\"useForcedSsg\":\"N\",\"cartPsblType\":\"\",\"msgItemDetail\":\"\",\"bsplItemDivCd\":null,\"itemLnkd\":\"https://emart.ssg.com/item/itemView.ssg?itemId=2097001144428&siteNo=7009&salestrNo=2493&tlidSrchWd=한우등심&srchPgNo=1\",\"bothSsgMorningShppYn\":\"N\",\"drctPurchYn\":\"N\",\"gourmetYn\":\"\",\"itemId\":\"2097001144428\",\"cleaningLabYn\":\"N\",\"uitemId\":\"00000\",\"infloSiteNo\":\"7018\",\"salestrNo\":\"2493\"} 장바구니 담기 {\"advertBidId\":\"\",\"displayPrc\":\"54800\",\"giftBtnShowType\":\"\",\"giftBtnActType\":\"N\",\"itemChrctDivCd\":\"10\",\"giftBtnMsg\":\"선물하기 불가 상품 입니다.\",\"itemNm\":\"[냉장] 한우 등심(구이용)1++등급(7) 300g(팩)\",\"shppTypeCd\":\"10\",\"shppTypeDtlCd\":\"16\",\"goItemDetailYn\":\"N\",\"dealItemYn\":\"N\",\"itemRegDivCd\":\"20\",\"advertExtensTeryDivCd\":\"\",\"siteNo\":\"7009\",\"brandNm\":null,\"useForcedSsg\":\"N\",\"cartPsblType\":\"\",\"msgItemDetail\":\"\",\"bsplItemDivCd\":null,\"itemLnkd\":\"https://emart.ssg.com/item/itemView.ssg?itemId=2097001144428&siteNo=7009&salestrNo=2493&tlidSrchWd=한우등심&srchPgNo=1\",\"bothSsgMorningShppYn\":\"N\",\"drctPurchYn\":\"N\",\"gourmetYn\":\"\",\"itemId\":\"2097001144428\",\"cleaningLabYn\":\"N\",\"uitemId\":\"00000\",\"infloSiteNo\":\"7018\",\"salestrNo\":\"2493\"} 장바구니 담기 {\"advertBidId\":\"\",\"displayPrc\":\"29800\",\"giftBtnShowType\":\"\",\"giftBtnActType\":\"N\",\"itemChrctDivCd\":\"10\",\"giftBtnMsg\":\"선물하기 불가 상품 입니다.\",\"itemNm\":\"[냉장] 1++등급(9) 한우 등심 대패 구이 200g\",\"shppTypeCd\":\"10\",\"shppTypeDtlCd\":\"16\",\"goItemDetailYn\":\"N\",\"dealItemYn\":\"N\",\"itemRegDivCd\":\"20\",\"advertExtensTeryDivCd\":\"\",\"siteNo\":\"7009\",\"brandNm\":\"조우\",\"useForcedSsg\":\"N\",\"cartPsblType\":\"\",\"msgItemDetail\":\"\",\"bsplItemDivCd\":null,\"itemLnkd\":\"https://emart.ssg.com/item/itemView.ssg?itemId=2097002082590&siteNo=7009&salestrNo=2493&tlidSrchWd=한우등심&srchPgNo=1\",\"bothSsgMorningShppYn\":\"N\",\"drctPurchYn\":\"N\",\"gourmetYn\":\"Y\",\"itemId\":\"2097002082590\",\"cleaningLabYn\":\"N\",\"uitemId\":\"00000\",\"infloSiteNo\":\"7018\",\"salestrNo\":\"2493\"} 장바구니 담기 {\"advertBidId\":\"\",\"displayPrc\":\"29800\",\"giftBtnShowType\":\"\",\"giftBtnActType\":\"N\",\"itemChrctDivCd\":\"10\",\"giftBtnMsg\":\"선물하기 불가 상품 입니다.\",\"itemNm\":\"[냉장] 1++등급(9) 한우 등심 대패 구이 200g\",\"shppTypeCd\":\"10\",\"shppTypeDtlCd\":\"16\",\"goItemDetailYn\":\"N\",\"dealItemYn\":\"N\",\"itemRegDivCd\":\"20\",\"advertExtensTeryDivCd\":\"\",\"siteNo\":\"7009\",\"brandNm\":\"조우\",\"useForcedSsg\":\"N\",\"cartPsblType\":\"\",\"msgItemDetail\":\"\",\"bsplItemDivCd\":null,\"itemLnkd\":\"https://emart.ssg.com/item/itemView.ssg?itemId=2097002082590&siteNo=7009&salestrNo=2493&tlidSrchWd=한우등심&srchPgNo=1\",\"bothSsgMorningShppYn\":\"N\",\"drctPurchYn\":\"N\",\"gourmetYn\":\"Y\",\"itemId\":\"2097002082590\",\"cleaningLabYn\":\"N\",\"uitemId\":\"00000\",\"infloSiteNo\":\"7018\",\"salestrNo\":\"2493\"}\\')]' name='search_web' tool_call_id='call_zM6y5abSkCOZM3cvCuX0o7fp'\n"
     ]
    }
   ],
   "source": [
    "# llm 모델 연동\n",
    "model = ChatOpenAI(model=\"gpt-4o-mini\")\n",
    "tool_model = model.bind_tools(tools=[search_web])\n",
    "query = \"한우 등심 100g당 가격은 어떻게 되나요?\"\n",
    "# query = \"안녕하세요\"\n",
    "result = tool_model.invoke(query)\n",
    "result.tool_calls\n",
    "if result.tool_calls: \n",
    "    # tool을 호출\n",
    "    # 호출 파라미터 값을 변경 - max_result를 추가.\n",
    "    result.tool_calls[0][\"args\"][\"max_results\"] = 1   #  result.tool_calls[0].args: tool의 파라미터에 전달할 argument\n",
    "    # print(result.tool_calls)\n",
    "    # tool 호출\n",
    "    tool_result = search_web.invoke(result.tool_calls[0])\n",
    "    print(tool_result)\n",
    "else: #LLM이 바로 응답\n",
    "    print(result.content)"
   ]
  },
  {
   "cell_type": "markdown",
   "metadata": {},
   "source": [
    "## Runnable을 tool로 정의\n",
    "- `Runnable객체.as_tool()`\n",
    "    - name, description, args_schema 파라미터를 이용해 tool의 이름, 설명, 스키마를 설정한다."
   ]
  },
  {
   "cell_type": "code",
   "execution_count": null,
   "metadata": {},
   "outputs": [],
   "source": [
    "# pip install wikipedia"
   ]
  },
  {
   "cell_type": "code",
   "execution_count": 72,
   "metadata": {},
   "outputs": [],
   "source": [
    "# WikipediaLoader: Document loader -> wikipedia 백과사전에서 검색한 결과를 문서로 loading.\n",
    "from langchain_community.document_loaders import WikipediaLoader\n",
    "from langchain_core.documents import Document\n",
    "from langchain_core.runnables import RunnableLambda \n",
    "from pydantic import BaseModel, Field\n",
    "from textwrap import dedent\n",
    "\n",
    "# Runnable로 만들 함수\n",
    "def wikipedia_search(input_data:dict) -> list[Document]:\n",
    "    \"\"\"\n",
    "    사용자 query(검색 키워드)를 위키백과사전(wikipedia)에서 검색한 결과 k개를 Document로 반환\n",
    "    parameter:\n",
    "        input_data: dict dict[str:query, int:검색개수-max_results]\n",
    "    return:\n",
    "        list[Document] - 개별 검색결과: Document\n",
    "    \"\"\"\n",
    "    query = input_data['query']\n",
    "    k = input_data.get('max_results', 2)\n",
    "    # Document Loader 생성\n",
    "    wiki_loader = WikipediaLoader(query=query, load_max_docs=k, lang='ko')\n",
    "    # 문서 로드.\n",
    "    wiki_docs = wiki_loader.load() # list[Document]\n",
    "    return wiki_docs\n",
    "\n",
    "wiki_runnable = RunnableLambda(wikipedia_search)"
   ]
  },
  {
   "cell_type": "code",
   "execution_count": 78,
   "metadata": {},
   "outputs": [
    {
     "data": {
      "text/plain": [
       "[Document(metadata={'title': 'FIFA 월드컵', 'summary': 'FIFA 월드컵(영어: FIFA World Cup)은 축구 국제 기구인 국제 축구 연맹(FIFA)에 가맹한 축구 협회(연맹)의 남자 축구 국가대표팀만 참가하는 국제 축구 대회이다. 일반적으로 월드컵 축구나 월드컵이라고도 한다.\\n4년마다 열리는 월드컵은 1930년에 첫 대회가 열렸다. 1942년과 1946년 대회는 제2차 세계 대전으로 인하여 열리지 못했다. 대회는 예선 무대와 본선 무대 등 두 부분으로 나뉜다. 예선 무대는 본선에 진출할 32팀을 가려내기 위해 본선 보다 3년 일찍 시작한다. 현재 본선은 개최국 경기장에서 한 달 남짓 32개 팀이 우승을 놓고 경쟁하는 방식으로 진행된다. 월드컵 결승전은 세계에서 가장 많은 사람이 시청하는 단일 스포츠 경기이다. 어림잡아 7억 1,510만 명이 2006년 FIFA 월드컵 결승전을 시청했다고 한다.\\n총 20번 대회가 열리는 동안 8팀이 우승을 차지했다. 가장 우승 횟수가 많은 팀은 브라질로 총 다섯 번의 우승컵을 들어올렸다. 그 다음으로 이탈리아와 독일이 네 번, 아르헨티나가 세 번, 그리고 초대 우승팀인 우루과이와 프랑스가 각각 두 차례씩, 잉글랜드와 스페인가 각각 한 차례씩 우승을 차지했다. 네덜란드는 준우승만 3번(1974·1978·2010)했다.대한민국은 4위가 최고 기록이다.(2002)\\n가장 최근에 열린 2022년 FIFA 월드컵은 카타르에서 열렸고, 아르헨티나가 우승했다. 2026년은 캐나다/멕시코/미국에서 개최된다.\\n세계적인 종합 스포츠 행사 중 하나인 올림픽과 달리 월드컵은 단일 종목 대회다. 그리고 올림픽은 고대 그리스의 전통을 따라 한 도시를 중심으로 개최되지만, 월드컵은 한 국가를 중심으로 열리며 대회 기간은 올림픽이 보통 2주 동안 열리는데 비해 월드컵은 약 한달 동안 진행된다.', 'source': 'https://ko.wikipedia.org/wiki/FIFA_%EC%9B%94%EB%93%9C%EC%BB%B5'}, page_content='FIFA 월드컵(영어: FIFA World Cup)은 축구 국제 기구인 국제 축구 연맹(FIFA)에 가맹한 축구 협회(연맹)의 남자 축구 국가대표팀만 참가하는 국제 축구 대회이다. 일반적으로 월드컵 축구나 월드컵이라고도 한다.\\n4년마다 열리는 월드컵은 1930년에 첫 대회가 열렸다. 1942년과 1946년 대회는 제2차 세계 대전으로 인하여 열리지 못했다. 대회는 예선 무대와 본선 무대 등 두 부분으로 나뉜다. 예선 무대는 본선에 진출할 32팀을 가려내기 위해 본선 보다 3년 일찍 시작한다. 현재 본선은 개최국 경기장에서 한 달 남짓 32개 팀이 우승을 놓고 경쟁하는 방식으로 진행된다. 월드컵 결승전은 세계에서 가장 많은 사람이 시청하는 단일 스포츠 경기이다. 어림잡아 7억 1,510만 명이 2006년 FIFA 월드컵 결승전을 시청했다고 한다.\\n총 20번 대회가 열리는 동안 8팀이 우승을 차지했다. 가장 우승 횟수가 많은 팀은 브라질로 총 다섯 번의 우승컵을 들어올렸다. 그 다음으로 이탈리아와 독일이 네 번, 아르헨티나가 세 번, 그리고 초대 우승팀인 우루과이와 프랑스가 각각 두 차례씩, 잉글랜드와 스페인가 각각 한 차례씩 우승을 차지했다. 네덜란드는 준우승만 3번(1974·1978·2010)했다.대한민국은 4위가 최고 기록이다.(2002)\\n가장 최근에 열린 2022년 FIFA 월드컵은 카타르에서 열렸고, 아르헨티나가 우승했다. 2026년은 캐나다/멕시코/미국에서 개최된다.\\n세계적인 종합 스포츠 행사 중 하나인 올림픽과 달리 월드컵은 단일 종목 대회다. 그리고 올림픽은 고대 그리스의 전통을 따라 한 도시를 중심으로 개최되지만, 월드컵은 한 국가를 중심으로 열리며 대회 기간은 올림픽이 보통 2주 동안 열리는데 비해 월드컵은 약 한달 동안 진행된다.\\n\\n\\n== 역사 ==\\n\\n\\n=== 이전의 국제 대회들 ===\\n세계 최초의 A매치는 1872년 글래스고에서 열린 스코틀랜드 대 잉글랜드의 경기였으며, 1884년에 시작된 첫 국제 대회인 브리티시 홈 챔피언십(영국 정기전)의 계기가 되기도 했다. (이후 이 대회는 1984년까지 이어졌다.)  이때 축구는 영국과 아일랜드 외의 다른 나라에서는 찾아보기 어려웠다. 한 세기가 지나 다른 지역에서도 축구의 인기가 높아지면서 1900년, 1904년, 1906년 하계 올림픽에서 시범 종목으로 채택되었다. 이 대회에서 별도의 메달은 수여되지 않았다.\\n월드컵의 역사는\\nFIFA가 1904년에 설립된 이후로 FIFA가 주관하며 올림픽과는 별개로 국가대항 축구 대회를 만들고자 하는 시도가 1906년에 스위스에서 있었다. 하지만 FIFA의 공식적인 기록에 의하면 이 대회의 계획은 실패로 돌아갔다고 한다.\\n올림픽 대회가 아마추어 팀들 간에 계속 경쟁을 하는 방향으로 가는 가운데 1909년, 토머스 립튼은 토머스 립튼 트로피 선수권 대회를 토리노에서 개최한다. 립튼 선수권은 각기 한 국가를 대표하러 나온 개인 클럽간(국가 대표팀간이 아닌)의 대회였다. 대회는 때때로 첫 번째 월드컵이라고 묘사되곤 했으며, 이탈리아, 독일, 그리고 스위스의 일류 프로 클럽팀이 주로 참가했다. 그러나 잉글랜드 축구 협회는 이 대회에 관여하려 않았으며, 프로팀들을 보내달라는 제안을 거절했다. 립튼은 카운티 더럼에 있는 아마추어 팀인 웨스트 오클랜드를 잉글랜드 팀을 대표하여 대신 초대했다. 웨스트 오클랜드는 대회에서 우승했고, 1911년의 대회에서도 성공적으로 타이틀을 방어, 대회 규칙에 따라 트로피를 영원히 보유하게 되었다.\\n1914년에, FIFA는 올림픽에서의 축구 대회를 ‘세계 아마추어 축구 선수권대회’로서 승인해주었고, 대회의 관리를 맡게 되었다. 그 결과 1920년 하계 올림픽에서 세계 최초의 대륙 간 축구 대회가 열렸다. 이 대회에는 이집트와 13개의 유럽 팀들이 참가하였다. 금메달은 벨기에가 차지하였다.\\n1928년에 FIFA는 올림픽과는 별개로 직접 주관하는 대회를 개최하기로 한다. FIFA는 첫 번째 FIFA 월드컵 개최국을 1924년 하계 올림픽과 1928년 하계 올림픽의 축구 종목에서 금메달을 차지했고, 1930년에 독립 100주년을 맞이하게 되는 우루과이로 결정한다.\\n\\n\\n=== 첫 번째 월드컵 ===\\n\\n로스앤젤레스에서 열린 1932년 하계 올림픽에서는 개최국인 미국에서 미식축구의 인기 탓에 축구의 인기가 낮아 정식 종목으로 채택될 계획이 없었다. 또한, FIFA와 IOC의 아마추어 선수의 지위에 관한 의견이 일치하지 않았고 이에 따라 축구는 올림픽에서 제외되었다. 이어 당시 FIFA 회장이었던 쥘 리메는 첫 번째 월드컵 대회를 1930년 우루과이에서 개최하기로 했다. 각 국가의 축구 협회들은 대회 참가 초청을 받았지만, 유럽 지역의 팀들에는 우루과이가 대서양을 횡단해야 하는 먼 나라였기 때문에, 큰 지출과 오랜 여정이 불가피했다. 그런 이유에 따라 대회 2달 전까지도 팀을 보내겠다는 확약을 한 유럽 국가는 없었다. 결국, 쥘 리메는 유럽 팀들을 한 팀이라도 설득하기 위해 노력했으며 우루과이는 모든 체류비와 차비를 출전팀들에게 제공하겠다는 조건을 내건 끝에 여비 및 체류비용이 공짜라는 점과 쥘 리메의 눈치를 봐서 벨기에, 프랑스, 루마니아, 유고슬라비아가 대회 참가에 응했다. 이리하여 유럽에서 4팀, 북중미에서 2팀, 남미에서 7팀, 총 13개 팀이 대회에 참가하였다.\\n월드컵 개막식은 두 경기가 동시에 열렸으며, 프랑스와 미국이 각각 멕시코를 4-1로, 벨기에를 3-0으로 꺾고 승리했다. 월드컵 사상 첫 번째 득점은 프랑스의 루시앙 로랑이 기록했다.\\n우루과이는 몬테비데오에서 열린 결승전에서 93,000명의 관중 앞에서 아르헨티나를 4-2로 꺾으며 첫 번째 FIFA 월드컵 우승 팀이 되었다.\\n\\n\\n=== 월드컵 대회가 맞은 시련 ===\\n초창기 월드컵 대회가 직면했던 문제는 두 가지였다. 첫 번째는 대륙 간 장거리 여행의 어려움이었다. 첫 번째 대회가 우루과이에서 열렸을 때에는 유럽팀들이 장거리 여행의 어려움을 이유로 많은 팀이 불참했다면, 반대로 유럽에서 열린 두 번째, 세 번째 대회에서는 남미 팀들이 이와 같은 이유로 대회에 불참하였다.\\n두 번째는 전쟁 문제로, 네 번째 대회는 원래 1942년에 개최될 예정이었다. 1936년 8월 13일, 베를린에서 열린 제23차 FIFA 총회에서 독일이 공식적으로 개최 신청을 했다. 곧이어 브라질도 월드컵 개최를 신청하였다. 1939년 6월에는 아르헨티나도 개최 신청에 참여했다. 하지만, 제4회 대회의 개최국이 결정되기 전인 1939년 9월 1일, 독일이 폴란드를 침공하면서 제2차 세계 대전이 발발하여 결국 무산되었다. 이 탓에 다음 대회인 1946년 대회도 자동으로 무산되었다.\\n종전 후인 1946년 7월 26일 룩셈부르크 시에서 열린 FIFA 총회에서 제4회 대회를 1949년 브라질에서, 제5회 대회를 1953년 스위스에서 개최하기로 했다. 개최국이 결정된 다음날, 대회 준비를 이유로 개최가 한 해씩 미뤄져 제4회 대회는 1950년, 제5회 대회는 1954년 개최되게 되었다.\\n\\n\\n=== 시련 이후 계속되는 성장 ===\\n\\n1950년 FIFA 월드컵은 처음으로 영국의 팀들이 참가한 대회였다. 영국의 일부 팀들은 그들과 전쟁했던 나라들과의 대결하기를 꺼렸고 또 그들의 팀들이 다른 나라의 축구에 영향을 주는 것을 항의하고자 1920년에 FIFA에서 탈퇴했으나, 그러나 FIFA의 초청에 따라 1946년에 다시 가입했다. 추가로 1950년 월드컵은 한국 전쟁이 발발한 시각과 동일한 시각에 개막되었다. 그리고 1950년 대회에서는 또한, 제1회 대회의 우승국이었던 우루과이가 이전 두 대회의 참가 거부 끝에 복귀했다. 우루과이는 이 대회에서 다시 한 번 우승했고 이 대회는 마라카낭의 비극이라고 하는 역사상 유명한 경기로 후에 남게 되었다. 우루과이에 패배한 브라질은 그 굴욕을 참지 못해 유니폼의 색깔이 변경되었다.\\n1934년부터 1978년 대회까지는 1938년 대회에서 오스트리아가 나치 독일에 예선 통과 후에 흡수됨에 따라 15개 팀의 참가로 치러진 경우와, 1950년 대회에서 인도, 스코틀랜드, 터키가 기권해서 13개 팀의 참가로 치러진 경우를 제외하면 총 16개의 팀이 본선에서 경쟁을 치렀다. '),\n",
       " Document(metadata={'title': '2002년 FIFA 월드컵', 'summary': \"2002년 FIFA 월드컵(영어: 2002 FIFA World Cup, 일본어: 2002 FIFAワールドカップ)은 17번째 FIFA 월드컵 대회로, 2002년 5월 31일에서 6월 30일까지 대한민국과 일본에서 열렸다.\\n아시아에서 열린 첫 FIFA 월드컵 대회이자 유럽과 아메리카 밖에서 열린 첫 대회이며, 골든골 제도가 시행된 마지막 FIFA 월드컵이자 전 대회 우승국 자동 출전권이 적용된 마지막 FIFA 월드컵이기도 하다. 또한 이 대회는 역사상 유일하게 2개 이상의 나라에서 공동으로 개최된 FIFA 월드컵이기도 하다. 브라질은 결승전에서 독일을 2 – 0으로 이기고 대회 역대 최다인 5번째 우승을 차지했다. 이 대회 우승으로 브라질은 FIFA 월드컵 우승국 자격으로 2005년 FIFA 컨페더레이션스컵 참가 자격을 얻었으며, 이도 또한 해당 대회의 5번째 출전 대회이다. 튀르키예는 대한민국과의 3위 결정전 경기에서 3-2로 승리해 이 대회를 3위로 마감하였다. 에콰도르, 세네갈, 슬로베니아, 중국이 이 대회를 통해 월드컵에 처음으로 모습을 나타냈으며, 튀르키예는 1954년 이후 48년만에 본선에 모습을 드러냈다.\\n충격적인 결과와 이변이 속출한 대회로 전 대회 우승팀 프랑스가 승점 1점을 얻는데 그치고 무득점으로 조별 리그에 탈락하였고, 또다른 우승 후보인 아르헨티나 역시 조별 리그에서 살아남지 못했다. 또한 튀르키예가 깜짝 3위를 기록하였고, 공동 개최국 대한민국은 포르투갈, 이탈리아, 그리고 스페인을 차례로 무너뜨리고 준결승전까지 진출하였다. 또다른 대이변으로는 세네갈이 개막전에서 프랑스를, 16강전에서 스웨덴을 제압하고 8강에 오른 것으로 여기서 튀르키예에게 아쉽게 제동이 걸렸다. 물론, 이 대회에서 가장 강력한 모습을 보인 국가는 브라질로, 이 대회에서 5번째로 FIFA 월드컵을 우승한 최초의 국가가 되었다.\\n공식 슬로건은 '새 천년, 새 만남, 새 출발'(New Millenium, New Encounter, New Start)로 하였다.\", 'source': 'https://ko.wikipedia.org/wiki/2002%EB%85%84_FIFA_%EC%9B%94%EB%93%9C%EC%BB%B5'}, page_content=\"2002년 FIFA 월드컵(영어: 2002 FIFA World Cup, 일본어: 2002 FIFAワールドカップ)은 17번째 FIFA 월드컵 대회로, 2002년 5월 31일에서 6월 30일까지 대한민국과 일본에서 열렸다.\\n아시아에서 열린 첫 FIFA 월드컵 대회이자 유럽과 아메리카 밖에서 열린 첫 대회이며, 골든골 제도가 시행된 마지막 FIFA 월드컵이자 전 대회 우승국 자동 출전권이 적용된 마지막 FIFA 월드컵이기도 하다. 또한 이 대회는 역사상 유일하게 2개 이상의 나라에서 공동으로 개최된 FIFA 월드컵이기도 하다. 브라질은 결승전에서 독일을 2 – 0으로 이기고 대회 역대 최다인 5번째 우승을 차지했다. 이 대회 우승으로 브라질은 FIFA 월드컵 우승국 자격으로 2005년 FIFA 컨페더레이션스컵 참가 자격을 얻었으며, 이도 또한 해당 대회의 5번째 출전 대회이다. 튀르키예는 대한민국과의 3위 결정전 경기에서 3-2로 승리해 이 대회를 3위로 마감하였다. 에콰도르, 세네갈, 슬로베니아, 중국이 이 대회를 통해 월드컵에 처음으로 모습을 나타냈으며, 튀르키예는 1954년 이후 48년만에 본선에 모습을 드러냈다.\\n충격적인 결과와 이변이 속출한 대회로 전 대회 우승팀 프랑스가 승점 1점을 얻는데 그치고 무득점으로 조별 리그에 탈락하였고, 또다른 우승 후보인 아르헨티나 역시 조별 리그에서 살아남지 못했다. 또한 튀르키예가 깜짝 3위를 기록하였고, 공동 개최국 대한민국은 포르투갈, 이탈리아, 그리고 스페인을 차례로 무너뜨리고 준결승전까지 진출하였다. 또다른 대이변으로는 세네갈이 개막전에서 프랑스를, 16강전에서 스웨덴을 제압하고 8강에 오른 것으로 여기서 튀르키예에게 아쉽게 제동이 걸렸다. 물론, 이 대회에서 가장 강력한 모습을 보인 국가는 브라질로, 이 대회에서 5번째로 FIFA 월드컵을 우승한 최초의 국가가 되었다.\\n공식 슬로건은 '새 천년, 새 만남, 새 출발'(New Millenium, New Encounter, New Start)로 하였다.\\n\\n\\n== 개최지 선정 ==\\n\\n1991년 6월 일본에서 2002 월드컵 유치위원회를 발족하였고,1994년 한국은 월드컵 유치위원회를 조직했다,1995년 2월에 멕시코 사퇴.\\n대한민국과 일본이 1996년 5월 31일, FIFA에 의해 개최국으로 선정되었다. 본래 대한민국, 일본, 그리고 멕시코가 셋이서 따로 경합했었다. 그러나, 두 아시아 국가들이 최종 결정이 나기 전에 협력할 것을 합의하였고, 양국은 멕시코를 제치고 만장일치로 개최국이 되었다. 이 대회는 복수의 국가에서 개최하는 최초의 FIFA 월드컵이다.\\n결정이 내려지던 시점까지 일본은 단 한번도 FIFA 월드컵 본선에 출전하지 못하였다. (일본은 개최국 선정 이후인 1998년에서야 본선에 처음으로 진출하였다.) FIFA 월드컵 개최국들 대회 유치 전까지 한번도 출전하지 못한 국가는 1934년의 이탈리아와 2022년의 카타르 뿐이다. (우루과이는 1930년 초대 FIFA 월드컵을 개최함에 따라 그 전 대회가 없었으며, 이들은 1928년 하계 올림픽에서 금메달을 획득했었다.)\\n이 과정에서 되려 남아메리카가 당사국들인 대한민국과 일본보다 더 노골적으로 한쪽 국가를 지지하면서 분위기가 매우 과열되었다.\\n\\n대한민국 지지: 아르헨티나, 우루과이, 페루, 볼리비아\\n일본 지지: 브라질, 칠레, 파라과이, 에콰도르\\n이례적인 개최국 선정은 대부분 시차가 거의 없는 국가들에서 주로 축구를 하던 유럽에는 화젯거리였다. 경기는 유럽 기준으로 아침 시간에 열렸고, 일부 학교와 기업들은 경기일에는 늦게 문을 열거나 근무 시간 초에 사내 응원을 했다.\\n\\n\\n== 지역 예선 ==\\n\\n총 199개국이 2002년 FIFA 월드컵 본선행을 놓고 경합하였고, 1999년 12월 7일, 도쿄에서 예선 추첨식이 거행되었다. 전 대회 우승국 프랑스와 공동 개최국 대한민국과 일본은 자동 출전권을 획득함에 따라 예선전에서 빠졌다. 이 대회는 전 대회 우승팀(디펜딩 챔피언)이 자동 출전권을 얻은 마지막 FIFA 월드컵이다.\\nUEFA (유럽) 에 배당된 진출권 수는 14장이며, CAF (아프리카)에는 5장, CONMEBOL (남아메리카)에는 4장, AFC (아시아) 에 2장, 그리고 CONCACAF (북중미 및 카리브해) 에 3장이 배당되었다. 남은 두장은 AFC-UEFA, CONMEBOL-OFC (오세아니아) 대륙간 플레이오프를 통해 결정되었다. 4개국(중국, 에콰도르, 세네갈, 그리고 슬로베니아)이 본선에 처음으로 모습을 드러내었다. 2022년 기준으로 이 대회는 튀르키예, 중국, 아일랜드가 밟은 마지막 FIFA 월드컵 본선 무대이다.\\n튀르키예는 1954년 이후 48년 만에 본선 무대에 등장하였고, 폴란드와 포르투갈은 1986년 이후 16년만이었다. 1998년 대회에서 준결승에 진출한 네덜란드는 본선진출에 실패하였으며, 대한민국은 비유럽, 비아메리카 최초로 5대회 연속 본선 진출의 위업을 달성하였다.\\nFIFA 월드컵을 우승한 전적이 있는 7개국(우루과이, 이탈리아, 독일, 브라질, 잉글랜드, 아르헨티나, 그리고 프랑스) 모두가 본선 진출에 성공하였고, 이들이 모두 출전한 대회는 이 대회가 1986년(당시 프랑스는 아직 대회 우승을 거둔 적이 없었다.) 대회 이후로는 최초이다.\\n\\n\\n=== 본선 진출국 목록 ===\\n다음은 본선에 진출한 32개국과 각국의 2002년 5월 15일 기준의 FIFA 랭킹이다.\\n\\n\\n== 시드 배정 ==\\n\\n2002년 대회에서 시드를 받을 팀이 2001년 11월 28일에 결정되었다. 시드를 받은 국가는 A포트에 들어갔다. B포트에는 시드 배정을 받지 못한 11개의 유럽 국가들이 들어갔다. C포트에는 시드 배정을 못 받은 CONMEBOL과 AFC 소속 국가들이 편성되었다. D포트는 시드 배정을 받지 못한 CONCACAF와 CAF 소속 국가들이 들어갔다. 이 대회는 A조 톱시드로 전 대회 우승팀을 배정한 마지막 FIFA 월드컵 대회이다. 이 자리는 2006년 대회부터 개최국에게 고정적으로 배정되었다. 추첨 방식은 다음과 같다.\\n\\nA포트에 속한 팀은 전 대회 우승국인 프랑스는 A조, 공동 개최국인 대한민국과 일본은 각각 D조와 H조에 배정되며, 나머지 팀은 무작위로 추첨한다. 단, 톱 시드를 받은 남아메리카 팀인 브라질, 아르헨티나는 대한민국과 일본 양쪽에 분산 배치된다.\\nB포트에 속한 팀은 각 조에 한 팀씩 배정된다. 이 과정에서 남은 3개 팀은 한 조에 3개 이상의 유럽 팀이 들어가는 것을 방지하기 위한 차원에서 비유럽 톱 시드 팀인 대한민국, 일본, 브라질, 아르헨티나가 속한 4개 조들 중에서 3개 조에 배정된다.\\nC포트에 속한 팀은 B그룹 중 3개국이 배정되지 않은 조에 배정하며, 같은 대륙에 속한 팀이 있는 조로 배정할 수 없다. 중국은 인접성과 흥행을 고려해 대한민국에서 경기를 치르고, 이에 따라 사우디아라비아는 자연적으로 일본에서 경기를 치르게 된다.\\nD포트에 속한 팀은 각 조에 어떠한 제약 조건도 없이 무작위로 배정한다. 단 같은 대륙에 속한 팀이 대한민국이나 일본에 편중되는 것을 막기 위해 최소 2개의 아프리카 팀과 1개의 북아메리카 팀이 대한민국이나 일본에서 경기를 치를 수 있도록 배정한다.\\n2001년 12월 1일, 부산의 벡스코에서 조추첨식이 열렸고, 각국의 일정이 최종 결정되었다. 아르헨티나, 나이지리아, 잉글랜드, 그리고 스웨덴이 들어간 F조가 죽음의 조라는 평가가 나왔다.\\n\\n\\n=== 순위 규정 ===\\n복수의 국가가 승점에서 동률을 이룰 경우 다음 순서에 따라 조별 리그 순위가 결정되었다:\\n\\n조별 리그 3경기에서의 골득실차\\n조별 리그 3경기에서의 득점 횟수\\n위 조건에서도 모두 동률인 경우, 동률인 팀들만 묶어서 재고려되었고, 다음 순서로 결정되었다:\\n동률인 팀들간의 경기에서 획득한 승점\\n동률인 팀들간의 골득실차\\n동률인 팀들간의 득점 횟수\\n위의 조건이 모두 동률인 경우 FIFA의 추첨에 의해 최종 순위가 결정되었다.\\n\\n기존의 대회 본선 규정에서, 순위 규정은 다른 형식으로 결정되었는데, 상대 전적이 골득실차보다 우선이었다. 규정은 대회를 앞두고 다음과 같이 변경되었으나, 기존의 규정 또한 FIFA와 UEFA의 웹사이트 등에 확인할 수 있어서, 올\"),\n",
       " Document(metadata={'title': '2006년 FIFA 월드컵', 'summary': \"2006년 FIFA 월드컵(독일어: Fußball-Weltmeisterschaft 2006)은 4년 주기로 열리는 축구 세계 선수권 대회인 FIFA 월드컵의 18번째 대회이며, 2006년 6월 9일부터 7월 9일까지 독일에서 열렸다. 독일이 개최지로 선정된 것은 앞선 2000년 7월 회의에서였다. 198개국 축구 협회가 운영하는 6개 대륙의 대표팀들이 2003년 9월에 시작한 예선에 참가하였다. 31개 팀이 예선을 거쳐 개최국 독일과 대회 본선에 합류하였다. 이 대회는 독일에서 열린 2번째 (첫 대회는 1974년 동서로 분단되었을 때 서독이 개최하였으며, 이 대회도 기존에 대회를 개최했던 국가에서 열리는 월드컵이었다.) FIFA 월드컵 대회이며 유럽에서 열린 10번째 섹스대회이다.\\n이탈리아는 이 대회 정상에 오르면서 통산 4번째 우승을 차지하였다. 이탈리아는 프랑스와의 결승전에서 연장전까지 1-1 접전을 벌인 후 승부차기에서 5-3으로 승리하였다. 독일은 3위 결정전에서 포르투갈을 완파하고 3위를 차지하였다. 앙골라, 가나, 코트디부아르, 세르비아 몬테네그로, 토고, 트리니다드 토바고, 우크라이나가 이 대회에 첫 출전하였다. 이 대회 우승국 이탈리아는 2009년 FIFA 컨페더레이션스컵에서 FIFA 월드컵 우승국 대표로 참가할 자격을 얻었다. 한편, 아시아 4개국은 전원 16강 진출에 실패하였으며, 이 중 대한민국(1승 1무 1패 기록)을 제외한 나머지 3개국(일본,이란,사우디아라비아)은 1무 2패를 기록하였다. 또한 역대 월드컵 역사상 유일하게 해트트릭이 나오지 않은 대회이다.\\n2006년 FIFA 월드컵은 TV 시청자가 가장 많은 대회 중 하나로 손꼽히며, 대회 전체 기간을 도합해 262억 9천만명의 누적 시청자들이 시청한 것으로 추정된다. 결승전은 약 7억 1510만명의 누적 시청자가 집계된 것으로 추산된다. 2006년 FIFA 월드컵의 누적 시청자 수는 1994년, 2002년, 그리고 1990년 대회에 이어 4위로 추산된다.\\n공식 슬로건은 '친구가 될 때'(A time to make friends)로 하였다.\", 'source': 'https://ko.wikipedia.org/wiki/2006%EB%85%84_FIFA_%EC%9B%94%EB%93%9C%EC%BB%B5'}, page_content='2006년 FIFA 월드컵(독일어: Fußball-Weltmeisterschaft 2006)은 4년 주기로 열리는 축구 세계 선수권 대회인 FIFA 월드컵의 18번째 대회이며, 2006년 6월 9일부터 7월 9일까지 독일에서 열렸다. 독일이 개최지로 선정된 것은 앞선 2000년 7월 회의에서였다. 198개국 축구 협회가 운영하는 6개 대륙의 대표팀들이 2003년 9월에 시작한 예선에 참가하였다. 31개 팀이 예선을 거쳐 개최국 독일과 대회 본선에 합류하였다. 이 대회는 독일에서 열린 2번째 (첫 대회는 1974년 동서로 분단되었을 때 서독이 개최하였으며, 이 대회도 기존에 대회를 개최했던 국가에서 열리는 월드컵이었다.) FIFA 월드컵 대회이며 유럽에서 열린 10번째 섹스대회이다.\\n이탈리아는 이 대회 정상에 오르면서 통산 4번째 우승을 차지하였다. 이탈리아는 프랑스와의 결승전에서 연장전까지 1-1 접전을 벌인 후 승부차기에서 5-3으로 승리하였다. 독일은 3위 결정전에서 포르투갈을 완파하고 3위를 차지하였다. 앙골라, 가나, 코트디부아르, 세르비아 몬테네그로, 토고, 트리니다드 토바고, 우크라이나가 이 대회에 첫 출전하였다. 이 대회 우승국 이탈리아는 2009년 FIFA 컨페더레이션스컵에서 FIFA 월드컵 우승국 대표로 참가할 자격을 얻었다. 한편, 아시아 4개국은 전원 16강 진출에 실패하였으며, 이 중 대한민국(1승 1무 1패 기록)을 제외한 나머지 3개국(일본,이란,사우디아라비아)은 1무 2패를 기록하였다. 또한 역대 월드컵 역사상 유일하게 해트트릭이 나오지 않은 대회이다.\\n2006년 FIFA 월드컵은 TV 시청자가 가장 많은 대회 중 하나로 손꼽히며, 대회 전체 기간을 도합해 262억 9천만명의 누적 시청자들이 시청한 것으로 추정된다. 결승전은 약 7억 1510만명의 누적 시청자가 집계된 것으로 추산된다. 2006년 FIFA 월드컵의 누적 시청자 수는 1994년, 2002년, 그리고 1990년 대회에 이어 4위로 추산된다.\\n공식 슬로건은 \\'친구가 될 때\\'(A time to make friends)로 하였다.\\n\\n\\n== 개최국 선정 ==\\n\\n2006년 대회 개최국을 선정하기 위한 투표가 2000년 7월, 스위스의 취리히에서 열렸다. 본래 유치전은 브라질이 투표를 사흘 앞두고 포기하면서 4개국이 경합하게 되었다: 독일, 남아프리카 공화국, 잉글랜드, 그리고 모로코. 3차례에 걸친 투표전이 진행되었고, 한 차전이 끝날 때마다 최소 득표국이 하나씩 탈락하였다. 1차전과 2차전 투표는 2000년 7월 6일에 진행되었고, 최종전 투표는 2000년 7월 7일에 열렸는데, 여기에서 독일이 남아프리카 공화국을 제쳤다.\\n\\n\\n=== 매수 및 부패 혐의 ===\\n매수 및 부패 혐의 제기는 독일의 대회 유치 성공의 기쁨을 바래게 했다. 투표 당일, 매수 행위가 공공의 수면에 드러났고, 이는 재투표에 대한 주장으로 이어졌다. 투표 전날밤, 독일의 풍자지사 타이타닉은 FIFA 대표에 편지를 보내, 독일을 개최국으로 선정하기 위한 표를 대가로 뻐꾸기시계와 검은숲 햄과 같은 우스꽝스러운 물품을 교환하였다. 오세아니아 대표였던 찰리 뎀프시는 본래 잉글랜드를 지지했으나, 잉글랜드가 탈락하자 남아프리카 공화국을 지지하겠다고 약속했다. 그는 \"견딜 수 없는 압박\"으로 인해 투표를 앞두고 기권을 선언하였다. 뎀시가 본래 약속한 대로 투표에 참가할 경우 12-12 동률을 이루고 남아프리카 공화국의 유치를 지지했던 제프 블라터 FIFA 회장 이 2006년 FIFA 월드컵 개최국을 선정할 권한을 가질 수 있었다.\\n더 많은 심상치 않은 일들이 수면으로 올라왔는데, 독일의 정치인과 주요 기업인들이 투표에 참석하는 4개의 주요국에 갑작스럽게 관심을 가졌고, 몇달에 걸쳐 이들의 결정에 영향을 준 것으로 나왔다. 투표 1주전 게르하르트 슈뢰더 수상 하의 독일 정부가 사우디아라비아에 유탄발사기를 보내기로 합의해 금수를 거들었다. 다임러크라이슬러는 수억원을 창업자의 아들이 FIFA 위원으로 재직하는 현대에 지원하였다. 폴크스바겐과 바이어 제약도 태국과 대한민국에 투자를 약속했고, 이는 워라위 마쿠디와 정몽준이 독일에 표를 행사할 수 있게 했다. 마쿠디는 부수적인 독일 국가대표팀과 바이에른 뮌헨의 TV 중계권을 위해 독일 언론 재벌 레오 키어히로부터 자금을 받았다.\\n2015년 10월 16일, 독일 언론지 슈피겔은 당시 아디다스 CEO였던 로베르 루이드레퓌스의 부정자금이 FIFA 위원회의 아시아 대표 4명으로 하여금 투표에 영향을 준 것으로 주장되었다. 도합 €6.7M를 드레퓌스가 갚으라고 요구하였다. 자금을 환수하기 위해, 조직위원회는 FIFA에 폐막식의 독일 지분으로 동일한 비용을 지불한 것으로 주장되었고, 이는 추산되지 못했다. 2015년 10월 17일, 볼프강 니어스바흐 독일 축구 협회 (DFB) 회장은 \"FIFA 월드컵은 돈으로 산 것이 아니다\" 라며 주장하였고, \"절대적으로 단언히 부정자금이 존재하지 않음을 증명할 수 있다\" 며 덧붙였다. DFB는 슈피겔에 소송도 고려할 것임을 선언하였다. 2015년 10월 22일 기자회견에서, 니어스바흐는 자신의 주장을 반복하였고, €6.7M은 2002년에 FIFA 보조금을 위해 사용되었다고 해명하였다. 니어스바흐 회장에 의하면 비용은 프란츠 베켄바워가 블라터 FIFA 회장과 회담하면서 합의를 본 것으로, 드레퓌스가 부담했다고 설명되었다. 같은 날, FIFA는 \"2002년 FIFA에 10M CHF가 입금된 적이 없다\" 라며 니어스바흐의 주장을 부정하였다. 그 다음날 테오 츠반치거 전 DFB 회장은 \"독일의 FIFA 월드컵 유치 과정에서 부정 자금이 있던 것이 분명하다.\" 라며 공적으로 니어스바흐의 주장이 거짓이라 표의하였다. 츠반치거에 주장에 의하면 €6.7M은 당시 이사 하야투와 회장 자리를 놓고 대치하던 블라터를 지지하던 모하메드 빈 함맘에 돌아갔다.\\n2016년 3월 22일, FIFA 윤리위원회가 유치전 과정에 벌어진 부정부패에 대해 조사를 착수하였다.\\n\\n\\n== 예선 ==\\n\\n198개국이 2006년 FIFA 월드컵의 예선에 참가하였다. 독일은 개최국 자격으로 자동으로 본선에 진출하였고, 본선에 참가할 나머지 31개국은 지역 예선을 통해 결정되었다. UEFA 소속국 (유럽)에는 13장, CAF 소속국 (아프리카) 에 5장, CONMEBOL 소속국 (남아메리카) 에 4장, AFC 소속국 (아시아) 에 4장, 그리고 CONCACAF 소속국 (북중미 카리브해)에는 3장이 배정되었다. 나머지 2장의 주인공은 AFC와 CONCACAF간, CONMEBOL과 OFC (오세아니아) 간 플레이오프전을 통해 결정되었다.\\n총 8개국이 이 대회에 처음으로 본선에 출전하였다: 가나, 세르비아 몬테네그로, 앙골라, 우크라이나, 체코, 코트디부아르, 토고, 그리고 트리니다드 토바고가 그들이었다. 체코와 우크라이나는 독립 혹은 연방 해체 이후로는 처음으로 출전한 국가로, 이전에 체코슬로바키아와 소비에트 연방의 일원으로 참가한 전적이 있다. 세르비아 몬테네그로는 1998년 대회에서 유고슬라비아라는 국명으로 참가했고, 1930년부터 1990년까지 구 유고슬라비아의 일원으로 참가했었다. 가장 최근에 열린 2018년 대회를 기준으로 이 대회는 앙골라, 우크라이나, 체코, 토고, 그리고 트리니다드 토바고가 FIFA 월드컵 본선에 등장한 대회였다.\\n오스트레일리아는 1974년 대회 이후로는 처음으로 본선에 진출하였는데, 공교롭게도 첫 출전했던 대회도 독일땅에서 열렸다. 주요 예선 탈락국으로는 전 대회 3위 터키와 UEFA 유로 2004 우승국 그리스가 있었다. 벨기에는 1978년 이래 처음으로 본선행이 좌절되었고, 카메룬도 1986년 이래 처음으로 예선에서 탈락하였다.\\n그리고 1982년 FIFA 월드컵을 이후로, 6개 대륙에서 최소한 1개의 국가가 본선에 참가하였다.\\n\\n\\n=== 본선 진출국 목록 ===\\n다음은 본선에 진출한 32개국과 각국의 2006년 5월 17일 기준의 FIFA 랭킹이다:\\n\\n\\n== 개최 도시 및 경기장 ==\\n2006년 대회를 개최한 독일은 FIFA 규정에 따라 월드컵 경기를 주최할 수 있는 최소 40,000석의 구장이 넘쳤다. 뮌헨에 현재까지 남아있는 올림피')]"
      ]
     },
     "execution_count": 78,
     "metadata": {},
     "output_type": "execute_result"
    }
   ],
   "source": [
    "r = wikipedia_search({\"query\":\"월드컵\", \"max_results\":4})\n",
    "r"
   ]
  },
  {
   "cell_type": "code",
   "execution_count": 79,
   "metadata": {},
   "outputs": [
    {
     "data": {
      "text/plain": [
       "3"
      ]
     },
     "execution_count": 79,
     "metadata": {},
     "output_type": "execute_result"
    }
   ],
   "source": [
    "len(r)"
   ]
  },
  {
   "cell_type": "code",
   "execution_count": null,
   "metadata": {},
   "outputs": [],
   "source": []
  },
  {
   "cell_type": "markdown",
   "metadata": {},
   "source": [
    "## Vector Store(Vector 저장소) tool\n",
    "\n",
    "### text loading -> Document 생성\n",
    "- 레스토랑 메뉴를 vector store에 저장한다.\n",
    "1. 메뉴 text 를 로딩한다.\n",
    "2. 각 메뉴의 내용(음식이름, 메뉴설명, 파일명)을 넣어 Document를 생성한다."
   ]
  },
  {
   "cell_type": "code",
   "execution_count": null,
   "metadata": {},
   "outputs": [],
   "source": []
  },
  {
   "cell_type": "code",
   "execution_count": null,
   "metadata": {},
   "outputs": [],
   "source": []
  },
  {
   "cell_type": "markdown",
   "metadata": {},
   "source": [
    "### vector store(Chroma), Retriever 생성"
   ]
  },
  {
   "cell_type": "code",
   "execution_count": null,
   "metadata": {},
   "outputs": [],
   "source": []
  },
  {
   "cell_type": "code",
   "execution_count": null,
   "metadata": {},
   "outputs": [],
   "source": []
  },
  {
   "cell_type": "code",
   "execution_count": null,
   "metadata": {},
   "outputs": [],
   "source": []
  },
  {
   "cell_type": "markdown",
   "metadata": {},
   "source": [
    "### Vector Store를 Tool로 정의"
   ]
  },
  {
   "cell_type": "code",
   "execution_count": null,
   "metadata": {},
   "outputs": [],
   "source": []
  },
  {
   "cell_type": "code",
   "execution_count": null,
   "metadata": {},
   "outputs": [],
   "source": []
  },
  {
   "cell_type": "code",
   "execution_count": null,
   "metadata": {},
   "outputs": [],
   "source": []
  },
  {
   "cell_type": "markdown",
   "metadata": {},
   "source": [
    "# Agent 구현\n",
    "\n",
    "- `create_tool_calling_agent()` 를 이용해 Agent 생성\n",
    "    - 파라미터\n",
    "        - llm: 에이전트로 사용할 LLM.\n",
    "        - tools: 에이전트가 접근할 수 있는 도구들의 목록.\n",
    "        - prompt: 에이전트의 동작을 안내하는 프롬프트 템플릿.\n",
    "- AgentExecutor를 이용해 Agent 실행\n",
    "    - Agent의 동작을 관리하는 클래스.\n",
    "    - AgentExecutor는 사용자 요청을 처리할 때 까지 적절한 tool들을 호출하고 최종 결과를 생성해 반환하는 작업을 처리한다.\n",
    "    - 파라미터\n",
    "        - agent: 실행할 Agent.\n",
    "        - tools: Agent가 사용할 tool들 목록."
   ]
  },
  {
   "cell_type": "code",
   "execution_count": null,
   "metadata": {},
   "outputs": [],
   "source": []
  },
  {
   "cell_type": "code",
   "execution_count": null,
   "metadata": {},
   "outputs": [],
   "source": []
  }
 ],
 "metadata": {
  "kernelspec": {
   "display_name": "langchain",
   "language": "python",
   "name": "python3"
  },
  "language_info": {
   "codemirror_mode": {
    "name": "ipython",
    "version": 3
   },
   "file_extension": ".py",
   "mimetype": "text/x-python",
   "name": "python",
   "nbconvert_exporter": "python",
   "pygments_lexer": "ipython3",
   "version": "3.12.7"
  }
 },
 "nbformat": 4,
 "nbformat_minor": 4
}
