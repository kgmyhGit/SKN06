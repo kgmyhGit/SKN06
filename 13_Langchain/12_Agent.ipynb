{
 "cells": [
  {
   "cell_type": "markdown",
   "metadata": {},
   "source": [
    "# Agent 개요\n",
    "\n",
    "- Agent 대형 언어 모델(LLM)과 다양한 도구(Tool)를 결합하여 복잡한 작업을 처리할 수 있도록 설계된 사용자 요청 처리 인공지능 시스템이다.\n",
    "    - Agent는 주어진 목표를 달성하기 위해 환경(toolkit)과 상호작용하며 의사 결정을 내리고 행동을 취하는 자율적인 개체이다.\n",
    "    - Agent의 자율적인 의사 결정은 LLM 이 담당하여 사람의 개입이 최소화 된다.\n",
    "\n",
    "## Agent의 주요 특징\n",
    "- **자율성**: 사전 정의된 규칙 없이도 스스로 결정을 내리고 행동할 수 있다.\n",
    "- **목표 지향성**: 특정 목표나 작업을 달성하기 위해 설계되어 있다.\n",
    "- **도구 활용**: 다양한 도구나 API를 활용하여 작업을 수행한다.\n",
    "\n",
    "## Agent 기본 동작 원리\n",
    "\n",
    "![agent_concept](figures/agent_concept.png)\n",
    "\n",
    "### ReAct\n",
    "- Reasoning and Acting의 약자로, 에이전트가 문제를 해결할 때 추론과 행동을 결합하는 방식이다.\n",
    "\n",
    "#### 동작 단계\n",
    "- **사용자 입력 수신**: \n",
    "    - 에이전트는 사용자가 입력한 질문이나 명령을 받는다.\n",
    "- **추론(Reasoning)**\n",
    "    - 입력된 내용을 분석하여 문제를 이해하고, 해결 방안을 계획합니다. \n",
    "- **행동 결정 및 도구 실행(Action)**: \n",
    "    - 계획에 따라 어떤 도구를 사용할지 결정하고 그 도구를 호출하여 작업을 수행한다.\n",
    "- **결과 평가 및 추가 행동 결정**: \n",
    "    - 도구 실행 결과를 바탕으로 추가로 도구를 사용할지, 아니면 최종 답변을 생성할지를 결정한다.\n",
    "    - 추가로 도구를 사용하기로 결정한 경우 도구를 실행한다.\n",
    "- **최종 답변 반환**: \n",
    "    - 최종 결과를 사용자에게 제공한다."
   ]
  },
  {
   "cell_type": "markdown",
   "metadata": {},
   "source": [
    "# TOOL\n",
    "# Tool Calling 개요\n",
    "- LLM이 외부 도구나 API를 활용하여 작업을 수행할 수 있게 하는 기능이다.\n",
    "\t- 예) LLM이 수학 계산을 수행해야 할 때, 직접 계산하는 대신 미리 정의된 '계산' 도구를 호출하여 정확한 결과를 얻을 수 있다.\n",
    "\t- 예) LLM에 최신 정보를 요청하는 질문이 들어왔을 때 '검색' 도구나 'Database 연동' 도구를 사용해 최신 뉴스를 검색하거나, 특정 데이터베이스에서 정보를 조회하는 등의 작업을 수행할 수 있다.\n",
    "- LLM은 도구를 이용해 자체 지식의 한계를 넘어서는 정보를 제공할 수 있습니다.\n",
    "- Tool calling은 OpenAI, Anthropic 등 여러 LLM 제공업체에서 지원한다.\n",
    "- LangChain은 이러한 다양한 모델들의 도구 호출 방식을 표준화하여 일관된 인터페이스로 제공한다. 이를 통해 개발자들은 다양한 모델과 도구들을 쉽게 통합할 수있다.\n",
    "- Tool Calling Concept: https://python.langchain.com/docs/concepts/tool_calling/\n",
    "- Langchain 지원 tools (Builtin Tool)\n",
    "    -  https://python.langchain.com/docs/integrations/tools/#search\n",
    "- **Agent:**\n",
    "\t- LLM 모델이 목표한 결과를 얻기 위해 적절한 도구를 선택하고, 이를 활용하여 작업을 수행하는 시스템을 **Agent**라고 한다."
   ]
  },
  {
   "cell_type": "markdown",
   "metadata": {},
   "source": [
    "# 랭체인 내장 도구(tools) 사용\n",
    "- Tavily 웹 검색 도구 사용해 Tool calling을 이해한다.\n",
    "\n",
    "\n",
    "## Tavily\n",
    "- 웹 검색 API.\n",
    "- https://tavily.com/\n",
    "-  LLM과 RAG 시스템에 최적화된 검색 엔진.\n",
    "   -  기존의 일반 검색 엔진들과 달리, Tavily는 AI 애플리케이션의 요구사항에 맞춰 설계되었다.\n",
    "   -  Tavily는 검색 결과에서 검색 query와 관련 콘텐츠를 추출하여 제공한다.\n",
    "   -  월 1000회 무료 사용 가능.\n",
    "### Tavily API Key 받기\n",
    "- 로그인 한다.\n",
    "- Overview 화면에서 API Key 생성\n",
    "  \n",
    "- **API Keys \\[+\\] 클릭**\n",
    "\n",
    "![apikey1](figures/travily_apikey1.png)\n",
    "\n",
    "- **Key Name을 입력하고 생성**\n",
    "\n",
    "![apikey1](figures/travily_apikey2.png)\n",
    "\n",
    "- **API Key를 복사**\n",
    "\n",
    "![apikey1](figures/travily_apikey3.png)\n",
    "\n",
    "- 환경변수에 등록한다.\n",
    "    - 변수이름: \"TAVILY_API_KEY\""
   ]
  },
  {
   "cell_type": "markdown",
   "metadata": {},
   "source": [
    "## TavilySearchResults\n",
    "- Langchain에서 제공하는 tool로 Tavily 의 검색 엔진 API를 사용해 검색을 수행한다.\n",
    "- 모듈: `langchain_community.tools` \n",
    "- https://python.langchain.com/docs/integrations/tools/tavily_search/"
   ]
  },
  {
   "cell_type": "code",
   "execution_count": 17,
   "metadata": {},
   "outputs": [
    {
     "data": {
      "text/plain": [
       "True"
      ]
     },
     "execution_count": 17,
     "metadata": {},
     "output_type": "execute_result"
    }
   ],
   "source": [
    "from pprint import pprint\n",
    "from dotenv import load_dotenv\n",
    "from langchain_community.tools import TavilySearchResults\n",
    "\n",
    "load_dotenv()"
   ]
  },
  {
   "cell_type": "markdown",
   "metadata": {},
   "source": [
    "## Tool 호출"
   ]
  },
  {
   "cell_type": "code",
   "execution_count": 3,
   "metadata": {},
   "outputs": [],
   "source": [
    "tavily_search = TavilySearchResults(\n",
    "    max_results=3 # 최대 몇개 결과를 반환할지.(검색할지.)\n",
    ")\n",
    "query = \"2024년 한국 시리즈 우승팀은 어디인가요?\"\n",
    "result = tavily_search.invoke(query) # Tool객체들은 Runnable 타입."
   ]
  },
  {
   "cell_type": "code",
   "execution_count": 6,
   "metadata": {},
   "outputs": [
    {
     "name": "stdout",
     "output_type": "stream",
     "text": [
      "<class 'list'> 3\n",
      "<class 'dict'>\n",
      "dict_keys(['url', 'content'])\n"
     ]
    }
   ],
   "source": [
    "print(type(result), len(result))\n",
    "print(type(result[0]))  # 응답: JSON 으로 온다. 이것을 dict로 반환.\n",
    "print(result[0].keys())"
   ]
  },
  {
   "cell_type": "code",
   "execution_count": 9,
   "metadata": {},
   "outputs": [
    {
     "name": "stdout",
     "output_type": "stream",
     "text": [
      "검색 URL: https://m.blog.naver.com/baekhw1/223631292469\n"
     ]
    }
   ],
   "source": [
    "print(\"검색 URL:\", result[0]['url'])"
   ]
  },
  {
   "cell_type": "code",
   "execution_count": 10,
   "metadata": {},
   "outputs": [
    {
     "name": "stdout",
     "output_type": "stream",
     "text": [
      "검색결과:\n",
      "2024년 한국시리즈가 시작되었다. 이번 우승팀은 과연 어디가 될지 . ... 김도영은 2차전에서 한국시리즈 . 첫 홈런까지 만들어내며 . 좋은 모습을 이어갔다. 결과는 8:3으로 기아가 승리했다. 오늘은 2024 한국시리즈 .\n"
     ]
    }
   ],
   "source": [
    "print(\"검색결과:\")\n",
    "print(result[0][\"content\"])"
   ]
  },
  {
   "cell_type": "code",
   "execution_count": 12,
   "metadata": {},
   "outputs": [
    {
     "name": "stdout",
     "output_type": "stream",
     "text": [
      "tool의 이름: tavily_search_results_json\n"
     ]
    }
   ],
   "source": [
    "# TOOL의 정보 -> 이 정보들이 LLM이 도구를 선택하는 기준\n",
    "print('tool의 이름:', tavily_search.name)"
   ]
  },
  {
   "cell_type": "code",
   "execution_count": 13,
   "metadata": {},
   "outputs": [
    {
     "name": "stdout",
     "output_type": "stream",
     "text": [
      "tool에 대한 설명:\n",
      "A search engine optimized for comprehensive, accurate, and trusted results. Useful for when you need to answer questions about current events. Input should be a search query.\n"
     ]
    }
   ],
   "source": [
    "print('tool에 대한 설명:')\n",
    "print(tavily_search.description)"
   ]
  },
  {
   "cell_type": "code",
   "execution_count": 18,
   "metadata": {},
   "outputs": [
    {
     "name": "stdout",
     "output_type": "stream",
     "text": [
      "tool의 schema(전체 구조)\n",
      "{'description': 'Input for the Tavily tool.',\n",
      " 'properties': {'query': {'description': 'search query to look up',\n",
      "                          'title': 'Query',\n",
      "                          'type': 'string'}},\n",
      " 'required': ['query'],\n",
      " 'title': 'TavilyInput',\n",
      " 'type': 'object'}\n"
     ]
    }
   ],
   "source": [
    "from pprint import pprint\n",
    "print(\"tool의 schema(전체 구조)\")\n",
    "pprint(tavily_search.args_schema.model_json_schema())"
   ]
  },
  {
   "cell_type": "markdown",
   "metadata": {},
   "source": [
    "```bash\n",
    "{'description': 'Input for the Tavily tool.',\n",
    " # 입력 파라미터(tool이 호출될 때때 전달되는 값을 받을 변수.)\n",
    " # {변수명: {변수 정보보}}\n",
    " 'properties': {'query': {'description': 'search query to look up', # 변수 설명(어떤 값을 받을 지 설명명)\n",
    "                          'title': 'Query',  # 이 변수 설정정의 식별값\n",
    "                          'type': 'string'}}, # Datatype\n",
    " 'required': ['query'],  # 입력 파라미터 중 필수인 것을 지정정\n",
    " 'title': 'TavilyInput', # TOOL 의 이름.\n",
    " 'type': 'object'}\n",
    "```"
   ]
  },
  {
   "cell_type": "markdown",
   "metadata": {},
   "source": [
    "## LLM tool callings\n",
    "![toolcalling_concept](figures/toolcalling_concept.png)\n",
    "1. Tool 생성\n",
    "2. 생성한 Tool을 tool calling을 지원하는 LLM 모델에 연결(binding)\n",
    "   - LLM 이 사용할 수있는 tool들을 등록(bind) 한다.\n",
    "    - `Model.bind([tool_1, tool_2, ...]): RunnableBinding`\n",
    "    - Model에 tool을 bind 하면 `Runnable` 타입의 `RunnableBinding` 객체가 반환된다.\n",
    "3. 질의가 들어오면 모델(LLM + tool) 은 tool calling 정보(어떤 툴을 어떤 query로 호출할지 schema 에 맞게 만든 정보)를 응답.\n",
    "    - 질의에 대해 tool 요청이 **필요하다고** 결정한 경우 tool들 중 어떤 tool을 어떤 query로 호출해야 하는지를 응답한다.\n",
    "    - 질의에 대해 tool 요청이 **필요 없다고** 결정한 경우는 LLM API를 호출한다.(모델이 직접 응답)\n",
    "5. 3에서 응답한 tool calling 정보를 이용해 tool 호출"
   ]
  },
  {
   "cell_type": "markdown",
   "metadata": {},
   "source": [
    "### LLM Model에 tool binding\n",
    "- `LLM.bind_tools(tools=[tool_1, tool_2, ...])`"
   ]
  },
  {
   "cell_type": "code",
   "execution_count": 37,
   "metadata": {},
   "outputs": [
    {
     "name": "stdout",
     "output_type": "stream",
     "text": [
      "<class 'langchain_openai.chat_models.base.ChatOpenAI'> <class 'langchain_core.runnables.base.RunnableBinding'>\n"
     ]
    }
   ],
   "source": [
    "from langchain_openai import ChatOpenAI\n",
    "from langchain_community.tools import TavilySearchResults\n",
    "\n",
    "# 1. tool 생성\n",
    "tavily_search = TavilySearchResults(\n",
    "    max_results=3,\n",
    "    include_answer=True,\n",
    "    include_images=True, # 검색 페이지의 이미지들 경로.\n",
    "    include_raw_content=True, # 원본 내용을 포함해서 응답. (False: 요약내용만 반환.)\n",
    ")\n",
    "\n",
    "# 모델 생성 + tool binding\n",
    "model = ChatOpenAI(model=\"gpt-4o-mini\") # Agent에서 사용하는 모델은 성능 좋은 것을 쓴다.\n",
    "tool_model = model.bind_tools(tools=[tavily_search])\n",
    "\n",
    "print(type(model), type(tool_model))"
   ]
  },
  {
   "cell_type": "code",
   "execution_count": 38,
   "metadata": {},
   "outputs": [
    {
     "name": "stdout",
     "output_type": "stream",
     "text": [
      "<class 'langchain_core.messages.ai.AIMessage'>\n"
     ]
    }
   ],
   "source": [
    "# 도구호출이 필요없는 query를 전송.\n",
    "result1 = tool_model.invoke(\"안녕하세요.\")\n",
    "print(type(result1))"
   ]
  },
  {
   "cell_type": "code",
   "execution_count": 40,
   "metadata": {},
   "outputs": [
    {
     "data": {
      "text/plain": [
       "{'content': '안녕하세요! 어떻게 도와드릴까요?',\n",
       " 'additional_kwargs': {'refusal': None},\n",
       " 'response_metadata': {'token_usage': {'completion_tokens': 11,\n",
       "   'prompt_tokens': 82,\n",
       "   'total_tokens': 93,\n",
       "   'completion_tokens_details': {'accepted_prediction_tokens': 0,\n",
       "    'audio_tokens': 0,\n",
       "    'reasoning_tokens': 0,\n",
       "    'rejected_prediction_tokens': 0},\n",
       "   'prompt_tokens_details': {'audio_tokens': 0, 'cached_tokens': 0}},\n",
       "  'model_name': 'gpt-4o-mini-2024-07-18',\n",
       "  'system_fingerprint': 'fp_6fc10e10eb',\n",
       "  'finish_reason': 'stop',\n",
       "  'logprobs': None},\n",
       " 'type': 'ai',\n",
       " 'name': None,\n",
       " 'id': 'run-2bc2464a-abf2-4c1a-91e9-1f58944d2897-0',\n",
       " 'example': False,\n",
       " 'tool_calls': [],\n",
       " 'invalid_tool_calls': [],\n",
       " 'usage_metadata': {'input_tokens': 82,\n",
       "  'output_tokens': 11,\n",
       "  'total_tokens': 93,\n",
       "  'input_token_details': {'audio': 0, 'cache_read': 0},\n",
       "  'output_token_details': {'audio': 0, 'reasoning': 0}}}"
      ]
     },
     "execution_count": 40,
     "metadata": {},
     "output_type": "execute_result"
    }
   ],
   "source": [
    "dict(result1)"
   ]
  },
  {
   "cell_type": "code",
   "execution_count": 41,
   "metadata": {},
   "outputs": [
    {
     "data": {
      "text/plain": [
       "'안녕하세요! 어떻게 도와드릴까요?'"
      ]
     },
     "execution_count": 41,
     "metadata": {},
     "output_type": "execute_result"
    }
   ],
   "source": [
    "result1.content  # LLM 응답 (값이 있으면 LLM 최종 응답을 함.)"
   ]
  },
  {
   "cell_type": "code",
   "execution_count": 42,
   "metadata": {},
   "outputs": [
    {
     "data": {
      "text/plain": [
       "[]"
      ]
     },
     "execution_count": 42,
     "metadata": {},
     "output_type": "execute_result"
    }
   ],
   "source": [
    "result1.tool_calls # Tool 호출 정보 (비어있으면 LLM 이 최종응답을 함.)"
   ]
  },
  {
   "cell_type": "code",
   "execution_count": 43,
   "metadata": {},
   "outputs": [],
   "source": [
    "####### tool 호출이 필요한 요청\n",
    "query = \"2024년 프로야구 한국 시리즈 우승팀은 어디인지 알려주세요.\"\n",
    "result2 = tool_model.invoke(query)"
   ]
  },
  {
   "cell_type": "code",
   "execution_count": 44,
   "metadata": {},
   "outputs": [
    {
     "data": {
      "text/plain": [
       "''"
      ]
     },
     "execution_count": 44,
     "metadata": {},
     "output_type": "execute_result"
    }
   ],
   "source": [
    "result2.content"
   ]
  },
  {
   "cell_type": "code",
   "execution_count": 45,
   "metadata": {},
   "outputs": [
    {
     "data": {
      "text/plain": [
       "[{'name': 'tavily_search_results_json',\n",
       "  'args': {'query': '2024년 프로야구 한국 시리즈 우승팀'},\n",
       "  'id': 'call_AZfQdyw0SGSxXUnRcvcxuPBY',\n",
       "  'type': 'tool_call'}]"
      ]
     },
     "execution_count": 45,
     "metadata": {},
     "output_type": "execute_result"
    }
   ],
   "source": [
    "result2.tool_calls"
   ]
  },
  {
   "cell_type": "code",
   "execution_count": 47,
   "metadata": {},
   "outputs": [
    {
     "data": {
      "text/plain": [
       "'tavily_search_results_json'"
      ]
     },
     "execution_count": 47,
     "metadata": {},
     "output_type": "execute_result"
    }
   ],
   "source": [
    "tavily_search.args_schema.model_json_schema()\n",
    "tavily_search.name"
   ]
  },
  {
   "cell_type": "markdown",
   "metadata": {},
   "source": [
    "## tool_calls 를 이용해 Tool 호출\n",
    "- LLM 모델이 tool 요청을 결정한 경우 어떤 tool을 어떻게 호출할 지 tool_calls를 반환한다.\n",
    "- tool_calls를 이용해 TOOL을 호출한다.\n",
    "\n",
    "### 방법\n",
    "1. tool_calls의 query만 추출해서 호출\n",
    "   - `tool.invoke(tool_calls['args'])`\n",
    "   - **반환타입**: list[dict]\n",
    "2. tool_calls 정보를 넣어 호출\n",
    "   - **반환타입**: `ToolMessage`\n",
    "   - tool의 처리결과를 담는 Message Type 이다."
   ]
  },
  {
   "cell_type": "markdown",
   "metadata": {},
   "source": [
    "#### tool_calls의 query만 추출해서 호출"
   ]
  },
  {
   "cell_type": "code",
   "execution_count": 51,
   "metadata": {},
   "outputs": [],
   "source": [
    "query = result2.tool_calls[0]['args']\n",
    "search_result = tavily_search.invoke(query)"
   ]
  },
  {
   "cell_type": "code",
   "execution_count": 55,
   "metadata": {},
   "outputs": [
    {
     "name": "stdout",
     "output_type": "stream",
     "text": [
      "<class 'list'> <class 'dict'>\n"
     ]
    },
    {
     "data": {
      "text/plain": [
       "3"
      ]
     },
     "execution_count": 55,
     "metadata": {},
     "output_type": "execute_result"
    }
   ],
   "source": [
    "print(type(search_result), type(search_result[0]))\n",
    "len(search_result)"
   ]
  },
  {
   "cell_type": "code",
   "execution_count": 54,
   "metadata": {},
   "outputs": [
    {
     "name": "stdout",
     "output_type": "stream",
     "text": [
      "{'content': '프로야구의 출발점: 1982년 첫 한국시리즈는 한국 프로야구의 시작을 알리는 기념비적인 사건이었습니다. 이는 한국 '\n",
      "            '스포츠 산업의 발전을 이끌고, 프로 스포츠의 대중화를 촉진하는 계기가 되었습니다. ... 2024년: Kia 타이거즈 '\n",
      "            '. 24년 한국시리즈 우승팀 KIA',\n",
      " 'url': 'https://galaxy0715.com/entry/한국시리즈-영광의-순간들-역대-한국시리즈-우승팀24년-한국시리즈-우승팀'}\n"
     ]
    }
   ],
   "source": [
    "pprint(search_result[0])"
   ]
  },
  {
   "cell_type": "markdown",
   "metadata": {},
   "source": [
    "#### tool_call 정보를 넣어 Tool 호출"
   ]
  },
  {
   "cell_type": "code",
   "execution_count": 58,
   "metadata": {},
   "outputs": [],
   "source": [
    "search_result2 = tavily_search.invoke(result2.tool_calls[0])"
   ]
  },
  {
   "cell_type": "code",
   "execution_count": 60,
   "metadata": {},
   "outputs": [
    {
     "name": "stdout",
     "output_type": "stream",
     "text": [
      "<class 'langchain_core.messages.tool.ToolMessage'>\n"
     ]
    }
   ],
   "source": [
    "print(type(search_result2))"
   ]
  },
  {
   "cell_type": "code",
   "execution_count": 62,
   "metadata": {},
   "outputs": [
    {
     "data": {
      "text/plain": [
       "{'content': '[{\"url\": \"https://namu.wiki/w/KBO+한국시리즈\", \"content\": \"1988년 한국시리즈 우승팀 해태 ... 결국 2014년을 끝으로 한국프로야구 리그의 명칭이 \\'kbo 리그\\'로 리브랜딩되고 한국시리즈 명칭 역시 \\'kbo 한국시리즈\\'로 개칭되면서 이 우승기 디자인도 더 이상 쓰이지 않게 됐다. ... 2024년 한국시리즈 mvp\"}, {\"url\": \"https://namu.wiki/w/2024+신한+SOL+Bank+KBO+한국시리즈\", \"content\": \"2024년 kbo 한국시리즈 우승팀. ... 올 시즌 kia는 한국프로야구 43년 역사상 단일 시즌 최다 실책을 기록했을 만큼 매우 불안한 수비를 보여주고 있다. ... 가을야구 경험 부족 2017년 한국시리즈 이후 포스트시즌이 단 2번 뿐이고, 그마저도 전부 5위로 진출해서 와일드\"}, {\"url\": \"https://m.blog.naver.com/dicasub/223637908357\", \"content\": \"프로야구 한국시리즈 역대 우승팀 및 팀별 우승 횟수(~2024년까지) : 네이버 블로그 본문 바로가기 카테고리 이동 디카섭(DiCaSub)의 스포츠 통계 이야기 야구[국내일반] [공지] 프로야구 한국시리즈 역대 우승팀 및 팀별 우승 횟수(~2024년까지) 디카섭 DiCaSub 이웃추가 본문 기타 기능 공유하기 국내 프로야구(KBO) 한국시리즈 역대 우승팀 정리 삼성과의 상대전적 4승 1패로 KIA가 한국시리즈 우승 트로피를 들어올렸습니다!! 역대 한국시리즈 우승팀 현황을 아래 <표>와 <그림>으로 정리해보았습니다. 국내 프로야구(KBO) 구단(팀)별 한국시리즈 우승 횟수<표> 국내 프로야구(KBO) 구단(팀)별 한국시리즈 우승 횟수<그림> [그림1] 국내 프로야구(KBO) 구단(팀)별 한국시리즈 우승 횟수 (막대형) [그림2] 국내 프로야구(KBO) 구단(팀)별 한국시리즈 우승 횟수 (원형) https://blog.naver.com/dicasub/223603577717 2024년 국내 프로야구(KBO) 정규리그 최종 순위 정리(월별 순위 분석/최종)2024년 국내 프로야구(KBO) 정규리그 최종 순위 정리 (월별 순위 분석/최종) 드디어 오늘 2024년 국내 ... http://blog.naver.com/dicasub #야구 #한국시리즈 댓글 1 공유하기 {\\\\\"title\\\\\":\\\\\"프로야구 한국시리즈 역대 우승팀 및 팀별 우승 횟수(~2024년까지)\\\\\",\\\\\"source\\\\\":\\\\\"https://blog.naver.com/dicasub/223637908357\\\\\",\\\\\"blogName\\\\\":\\\\\"디카섭(Di..\\\\\",\\\\\"blogId\\\\\":\\\\\"dicasub\\\\\",\\\\\"domainIdOrBlogId\\\\\":\\\\\"dicasub\\\\\",\\\\\"nicknameOrBlogId\\\\\":\\\\\"디카섭 DiCaSub\\\\\",\\\\\"logNo\\\\\":223637908357,\\\\\"smartEditorVersion\\\\\":4,\\\\\"meDisplay\\\\\":true,\\\\\"lineDisplay\\\\\":true,\\\\\"outsideDisplay\\\\\":false,\\\\\"cafeDisplay\\\\\":true,\\\\\"blogDisplay\\\\\":true} 댓글 1 공유하기 취소 이웃추가\"}]',\n",
       " 'additional_kwargs': {},\n",
       " 'response_metadata': {},\n",
       " 'type': 'tool',\n",
       " 'name': 'tavily_search_results_json',\n",
       " 'id': None,\n",
       " 'tool_call_id': 'call_AZfQdyw0SGSxXUnRcvcxuPBY',\n",
       " 'artifact': {'query': '2024년 프로야구 한국 시리즈 우승팀',\n",
       "  'follow_up_questions': None,\n",
       "  'answer': 'Based on the data provided, the 2024 KBO Korean Series was won by KIA. KIA secured the victory in the Korean Series by defeating their opponent. This win marked a significant achievement for KIA in the realm of Korean professional baseball.',\n",
       "  'images': ['https://dimg1.donga.com/wps/SPORTS/IMAGE/2024/04/23/124610379.2.jpg',\n",
       "   'http://img.tf.co.kr/article/home/2024/04/23/202414281713838977.jpg',\n",
       "   'https://img1.daumcdn.net/thumb/S1200x630/?fname=https://t1.daumcdn.net/news/202404/23/poctan/20240423114250478duvz.jpg',\n",
       "   'https://img1.daumcdn.net/thumb/S1200x630/?fname=https://t1.daumcdn.net/news/202404/23/sportsdonga/20240423112425221pghu.jpg',\n",
       "   'https://cdn.ziksir.com/news/photo/202211/31044_61479_4548.jpg'],\n",
       "  'results': [{'title': 'Kbo 한국시리즈 - 나무위키',\n",
       "    'url': 'https://namu.wiki/w/KBO+한국시리즈',\n",
       "    'content': \"1988년 한국시리즈 우승팀 해태 ... 결국 2014년을 끝으로 한국프로야구 리그의 명칭이 'kbo 리그'로 리브랜딩되고 한국시리즈 명칭 역시 'kbo 한국시리즈'로 개칭되면서 이 우승기 디자인도 더 이상 쓰이지 않게 됐다. ... 2024년 한국시리즈 mvp\",\n",
       "    'score': 0.99989367,\n",
       "    'raw_content': None},\n",
       "   {'title': '2024 신한 SOL Bank KBO 한국시리즈 - 나무위키',\n",
       "    'url': 'https://namu.wiki/w/2024+신한+SOL+Bank+KBO+한국시리즈',\n",
       "    'content': '2024년 kbo 한국시리즈 우승팀. ... 올 시즌 kia는 한국프로야구 43년 역사상 단일 시즌 최다 실책을 기록했을 만큼 매우 불안한 수비를 보여주고 있다. ... 가을야구 경험 부족 2017년 한국시리즈 이후 포스트시즌이 단 2번 뿐이고, 그마저도 전부 5위로 진출해서 와일드',\n",
       "    'score': 0.9998822,\n",
       "    'raw_content': None},\n",
       "   {'title': '프로야구 한국시리즈 역대 우승팀 및 팀별 우승 횟수(~2024년까지) : 네이버 블로그',\n",
       "    'url': 'https://m.blog.naver.com/dicasub/223637908357',\n",
       "    'content': '프로야구 한국시리즈 역대 우승팀 및 팀별 우승 횟수(~2024년까지) : 네이버 블로그 본문 바로가기 카테고리 이동 디카섭(DiCaSub)의 스포츠 통계 이야기 야구[국내일반] [공지] 프로야구 한국시리즈 역대 우승팀 및 팀별 우승 횟수(~2024년까지) 디카섭 DiCaSub 이웃추가 본문 기타 기능 공유하기 국내 프로야구(KBO) 한국시리즈 역대 우승팀 정리 삼성과의 상대전적 4승 1패로 KIA가 한국시리즈 우승 트로피를 들어올렸습니다!! 역대 한국시리즈 우승팀 현황을 아래 <표>와 <그림>으로 정리해보았습니다. 국내 프로야구(KBO) 구단(팀)별 한국시리즈 우승 횟수<표> 국내 프로야구(KBO) 구단(팀)별 한국시리즈 우승 횟수<그림> [그림1] 국내 프로야구(KBO) 구단(팀)별 한국시리즈 우승 횟수 (막대형) [그림2] 국내 프로야구(KBO) 구단(팀)별 한국시리즈 우승 횟수 (원형) https://blog.naver.com/dicasub/223603577717 2024년 국내 프로야구(KBO) 정규리그 최종 순위 정리(월별 순위 분석/최종)2024년 국내 프로야구(KBO) 정규리그 최종 순위 정리 (월별 순위 분석/최종) 드디어 오늘 2024년 국내 ... http://blog.naver.com/dicasub #야구 #한국시리즈 댓글 1 공유하기 {\"title\":\"프로야구 한국시리즈 역대 우승팀 및 팀별 우승 횟수(~2024년까지)\",\"source\":\"https://blog.naver.com/dicasub/223637908357\",\"blogName\":\"디카섭(Di..\",\"blogId\":\"dicasub\",\"domainIdOrBlogId\":\"dicasub\",\"nicknameOrBlogId\":\"디카섭 DiCaSub\",\"logNo\":223637908357,\"smartEditorVersion\":4,\"meDisplay\":true,\"lineDisplay\":true,\"outsideDisplay\":false,\"cafeDisplay\":true,\"blogDisplay\":true} 댓글 1 공유하기 취소 이웃추가',\n",
       "    'score': 0.99980444,\n",
       "    'raw_content': '프로야구 한국시리즈 역대 우승팀 및 팀별 우승 횟수(~2024년까지) : 네이버 블로그\\n \\n본문 바로가기\\n블로그\\n카테고리 이동 디카섭(DiCaSub)의 스포츠 통계 이야기\\n\\n검색 MY메뉴 열기\\n야구[국내일반]\\n[공지] 프로야구 한국시리즈 역대 우승팀 및 팀별 우승 횟수(~2024년까지)\\n\\n디카섭 DiCaSub\\n4시간 전\\n이웃추가\\n본문 기타 기능\\n\\n본문 폰트 크기 조정 본문 폰트 크기 작게 보기 본문 폰트 크기 크게 보기 가\\n\\n공감하기\\n\\n\\n공유하기\\n\\nURL복사\\n신고하기\\n\\n\\n국내 프로야구(KBO) 한국시리즈 역대 우승팀 정리\\n(2024 시즌까지 업데이트 완료)\\n작성자 DiCaSub / 작성일 2024-10-28\\n\\n\\u200b오늘 한국시리즈 5차전이 KIA의 역전승으로 종료되면서,\\n삼성과의 상대전적 4승 1패로 KIA가 한국시리즈 우승 트로피를 들어올렸습니다!!\\n축하축하!!\\n\\n2024년의 국내 프로야구의 대장정은 이렇게 마무리되었습니다.\\n모든 구단, 모든 선수들 정말 고생 많으셨습니다!\\n\\n\\n역대 한국시리즈 우승팀 현황을 아래 <표>와 <그림>으로 정리해보았습니다.\\n<표 항목 : 시즌별 우승팀/준우승팀/상대전적>\\n(이제 나의 팀 한화이글스도 여기서 이름 좀 올려봅시다^^)\\n시즌우승팀준우승팀전적2024년KIA삼성4승1패2023년LGKT4승1패2022년SSG키움4승2패2021년KT두산4승2020년NC두산4승2패2019년두산키움4승2018년SK두산4승2패2017년KIA두산4승1패2016년두산NC4승2015년두산삼성4승1패2014년삼성넥센4승2패2013년삼성두산4승3패2012년삼성SK4승2패2011년삼성SK4승1패2010년SK삼성4승2009년KIASK4승3패2008년SK두산4승1패2007년SK두산4승2패2006년삼성한화4승1무1패2005년삼성두산4승2004년현대삼성4승3무2패2003년현대SK4승3패2002년삼성LG4승2패2001년두산삼성4승2패2000년현대두산4승3패1999년한화롯데4승1패1998년현대LG4승2패1997년해태LG4승1패1996년해태현대4승2패1995년OB롯데4승3패1994년LG태평양4승1993년해태삼성4승1무2패1992년롯데빙그레4승1패1991년해태빙그레4승1990년LG삼성4승1989년해태빙그레4승1패1988년해태빙그레4승2패1987년해태삼성4승1986년해태삼성4승1패1985년삼성 전·후기 통합우승(한국시리즈 열리지 않음)1984년롯데삼성4승3패1983년해태MBC4승1무1982년OB삼성4승1무1패\\n\\n\\n국내 프로야구(KBO) 구단(팀)별\\n한국시리즈 우승 횟수<표>\\n작성자 DiCaSub / 작성일 2024-10-28\\n\\n우승팀우승횟수 (회)KIA (해태포함)12삼성8두산 (OB포함)6SSG (SK포함)5현대4LG3롯데2한화1NC1KT1\\n\\n\\n국내 프로야구(KBO) 구단(팀)별\\n한국시리즈 우승 횟수<그림>\\n작성자 DiCaSub / 작성일 2024-10-28\\n\\n\\n[그림1] 국내 프로야구(KBO) 구단(팀)별 한국시리즈 우승 횟수 (막대형)\\n\\n[그림2] 국내 프로야구(KBO) 구단(팀)별 한국시리즈 우승 횟수 (원형)\\n\\n(참고) 2024 정규리그 성적 포스팅!\\nhttps://blog.naver.com/dicasub/223603577717\\n2024년 국내 프로야구(KBO) 정규리그 최종 순위 정리(월별 순위 분석/최종)2024년 국내 프로야구(KBO) 정규리그 최종 순위 정리 (월별 순위 분석/최종) 드디어 오늘 2024년 국내 ... blog.naver.com\\n\\n디카섭의 스포츠통계 이야기\\nhttp://blog.naver.com/dicasub\\n작성자 DiCaSub / 작성일 2024-10-28\\n\\n\\n\\n\\u200b\\n\\n#야구\\n#프로야구\\n#한국시리즈\\n#한국시리즈일정\\n#한국시리즈우승\\n#한국시리즈준우승\\n#기아삼성\\n#kia삼성\\n#기아우승\\n#삼성준우승\\n#야구우승\\n#프로야구포스트시즌\\n#포스트시즌\\n#프로야구한국시리즈\\n#2024프로야구한국시리즈\\n#야구한국시리즈\\n#야구한국시리즈우승\\n#프로야구순위\\n#프로야구우승\\n#kbo포스트시즌\\n#kbo순위\\n#kbo리그\\n#kbo우승\\n#kbo우승팀\\n#kbo우승횟수\\n#역대kbo우승팀\\n#역대한국시리즈우승\\n#역대한국시리즈우승팀\\n#역대한국시리즈\\n#역대한국시리즈전적\\n\\n\\n공감한 사람 보러가기\\n댓글 1 공유하기\\n{\"title\":\"프로야구 한국시리즈 역대 우승팀 및 팀별 우승 횟수(~2024년까지)\",\"source\":\"https://blog.naver.com/dicasub/223637908357\",\"blogName\":\"디카섭(Di..\",\"blogId\":\"dicasub\",\"domainIdOrBlogId\":\"dicasub\",\"nicknameOrBlogId\":\"디카섭 DiCaSub\",\"logNo\":223637908357,\"smartEditorVersion\":4,\"meDisplay\":true,\"lineDisplay\":true,\"outsideDisplay\":false,\"cafeDisplay\":true,\"blogDisplay\":true}\\n닫기\\n카테고리\\n이 블로그 홈\\n\\n공감한 사람 보러가기\\n댓글 1 공유하기\\n디카섭 DiCaSub(dicasub) 님을 이웃추가하고 새글을 받아보세요\\n취소 이웃추가'}],\n",
       "  'response_time': 4.37},\n",
       " 'status': 'success'}"
      ]
     },
     "execution_count": 62,
     "metadata": {},
     "output_type": "execute_result"
    }
   ],
   "source": [
    "dict(search_result2)"
   ]
  },
  {
   "cell_type": "markdown",
   "metadata": {},
   "source": [
    "#### tool_call 이 여러개일 경우 \n",
    "- 질의에 대해 tool을 여러번 호출 해야 하는 경우 tool_calling 정보를 여러개 반환할 수 있다.\n",
    "    - 예) 검색할 키워드가 여러개인 경우. \n",
    "- `tool.batch([tool_call1, tool_call2, ..])`"
   ]
  },
  {
   "cell_type": "code",
   "execution_count": 64,
   "metadata": {},
   "outputs": [
    {
     "data": {
      "text/plain": [
       "[ToolMessage(content='[{\"url\": \"https://namu.wiki/w/KBO+한국시리즈\", \"content\": \"1988년 한국시리즈 우승팀 해태 ... 결국 2014년을 끝으로 한국프로야구 리그의 명칭이 \\'kbo 리그\\'로 리브랜딩되고 한국시리즈 명칭 역시 \\'kbo 한국시리즈\\'로 개칭되면서 이 우승기 디자인도 더 이상 쓰이지 않게 됐다. ... 2024년 한국시리즈 mvp\"}, {\"url\": \"https://namu.wiki/w/2024+신한+SOL+Bank+KBO+한국시리즈\", \"content\": \"2024년 kbo 한국시리즈 우승팀. ... 올 시즌 kia는 한국프로야구 43년 역사상 단일 시즌 최다 실책을 기록했을 만큼 매우 불안한 수비를 보여주고 있다. ... 가을야구 경험 부족 2017년 한국시리즈 이후 포스트시즌이 단 2번 뿐이고, 그마저도 전부 5위로 진출해서 와일드\"}, {\"url\": \"https://m.blog.naver.com/dicasub/223637908357\", \"content\": \"프로야구 한국시리즈 역대 우승팀 및 팀별 우승 횟수(~2024년까지) : 네이버 블로그 본문 바로가기 카테고리 이동 디카섭(DiCaSub)의 스포츠 통계 이야기 야구[국내일반] [공지] 프로야구 한국시리즈 역대 우승팀 및 팀별 우승 횟수(~2024년까지) 디카섭 DiCaSub 이웃추가 본문 기타 기능 공유하기 국내 프로야구(KBO) 한국시리즈 역대 우승팀 정리 삼성과의 상대전적 4승 1패로 KIA가 한국시리즈 우승 트로피를 들어올렸습니다!! 역대 한국시리즈 우승팀 현황을 아래 <표>와 <그림>으로 정리해보았습니다. 국내 프로야구(KBO) 구단(팀)별 한국시리즈 우승 횟수<표> 국내 프로야구(KBO) 구단(팀)별 한국시리즈 우승 횟수<그림> [그림1] 국내 프로야구(KBO) 구단(팀)별 한국시리즈 우승 횟수 (막대형) [그림2] 국내 프로야구(KBO) 구단(팀)별 한국시리즈 우승 횟수 (원형) https://blog.naver.com/dicasub/223603577717 2024년 국내 프로야구(KBO) 정규리그 최종 순위 정리(월별 순위 분석/최종)2024년 국내 프로야구(KBO) 정규리그 최종 순위 정리 (월별 순위 분석/최종) 드디어 오늘 2024년 국내 ... http://blog.naver.com/dicasub #야구 #한국시리즈 댓글 1 공유하기 {\\\\\"title\\\\\":\\\\\"프로야구 한국시리즈 역대 우승팀 및 팀별 우승 횟수(~2024년까지)\\\\\",\\\\\"source\\\\\":\\\\\"https://blog.naver.com/dicasub/223637908357\\\\\",\\\\\"blogName\\\\\":\\\\\"디카섭(Di..\\\\\",\\\\\"blogId\\\\\":\\\\\"dicasub\\\\\",\\\\\"domainIdOrBlogId\\\\\":\\\\\"dicasub\\\\\",\\\\\"nicknameOrBlogId\\\\\":\\\\\"디카섭 DiCaSub\\\\\",\\\\\"logNo\\\\\":223637908357,\\\\\"smartEditorVersion\\\\\":4,\\\\\"meDisplay\\\\\":true,\\\\\"lineDisplay\\\\\":true,\\\\\"outsideDisplay\\\\\":false,\\\\\"cafeDisplay\\\\\":true,\\\\\"blogDisplay\\\\\":true} 댓글 1 공유하기 취소 이웃추가\"}]', name='tavily_search_results_json', tool_call_id='call_AZfQdyw0SGSxXUnRcvcxuPBY', artifact={'query': '2024년 프로야구 한국 시리즈 우승팀', 'follow_up_questions': None, 'answer': '2024년 KBO 한국 시리즈 우승팀은 KIA 타이거즈입니다.삼성 라이온즈와의 상대전적은 4승 1패로 KIA가 우승을 차지했습니다. KIA는 이번 시즌에 우승을 이끌었으며, 이는 팀의 역대 한국 시리즈 우승 횟수를 늘렸습니다.', 'images': ['https://dimg1.donga.com/wps/SPORTS/IMAGE/2024/04/23/124610379.2.jpg', 'http://img.tf.co.kr/article/home/2024/04/23/202414281713838977.jpg', 'https://img1.daumcdn.net/thumb/S1200x630/?fname=https://t1.daumcdn.net/news/202404/23/poctan/20240423114250478duvz.jpg', 'https://img1.daumcdn.net/thumb/S1200x630/?fname=https://t1.daumcdn.net/news/202404/23/sportsdonga/20240423112425221pghu.jpg', 'https://i.ytimg.com/vi/L0Y38pQbEeQ/maxresdefault.jpg'], 'results': [{'title': 'Kbo 한국시리즈 - 나무위키', 'url': 'https://namu.wiki/w/KBO+한국시리즈', 'content': \"1988년 한국시리즈 우승팀 해태 ... 결국 2014년을 끝으로 한국프로야구 리그의 명칭이 'kbo 리그'로 리브랜딩되고 한국시리즈 명칭 역시 'kbo 한국시리즈'로 개칭되면서 이 우승기 디자인도 더 이상 쓰이지 않게 됐다. ... 2024년 한국시리즈 mvp\", 'score': 0.99989367, 'raw_content': None}, {'title': '2024 신한 SOL Bank KBO 한국시리즈 - 나무위키', 'url': 'https://namu.wiki/w/2024+신한+SOL+Bank+KBO+한국시리즈', 'content': '2024년 kbo 한국시리즈 우승팀. ... 올 시즌 kia는 한국프로야구 43년 역사상 단일 시즌 최다 실책을 기록했을 만큼 매우 불안한 수비를 보여주고 있다. ... 가을야구 경험 부족 2017년 한국시리즈 이후 포스트시즌이 단 2번 뿐이고, 그마저도 전부 5위로 진출해서 와일드', 'score': 0.9998822, 'raw_content': None}, {'title': '프로야구 한국시리즈 역대 우승팀 및 팀별 우승 횟수(~2024년까지) : 네이버 블로그', 'url': 'https://m.blog.naver.com/dicasub/223637908357', 'content': '프로야구 한국시리즈 역대 우승팀 및 팀별 우승 횟수(~2024년까지) : 네이버 블로그 본문 바로가기 카테고리 이동 디카섭(DiCaSub)의 스포츠 통계 이야기 야구[국내일반] [공지] 프로야구 한국시리즈 역대 우승팀 및 팀별 우승 횟수(~2024년까지) 디카섭 DiCaSub 이웃추가 본문 기타 기능 공유하기 국내 프로야구(KBO) 한국시리즈 역대 우승팀 정리 삼성과의 상대전적 4승 1패로 KIA가 한국시리즈 우승 트로피를 들어올렸습니다!! 역대 한국시리즈 우승팀 현황을 아래 <표>와 <그림>으로 정리해보았습니다. 국내 프로야구(KBO) 구단(팀)별 한국시리즈 우승 횟수<표> 국내 프로야구(KBO) 구단(팀)별 한국시리즈 우승 횟수<그림> [그림1] 국내 프로야구(KBO) 구단(팀)별 한국시리즈 우승 횟수 (막대형) [그림2] 국내 프로야구(KBO) 구단(팀)별 한국시리즈 우승 횟수 (원형) https://blog.naver.com/dicasub/223603577717 2024년 국내 프로야구(KBO) 정규리그 최종 순위 정리(월별 순위 분석/최종)2024년 국내 프로야구(KBO) 정규리그 최종 순위 정리 (월별 순위 분석/최종) 드디어 오늘 2024년 국내 ... http://blog.naver.com/dicasub #야구 #한국시리즈 댓글 1 공유하기 {\"title\":\"프로야구 한국시리즈 역대 우승팀 및 팀별 우승 횟수(~2024년까지)\",\"source\":\"https://blog.naver.com/dicasub/223637908357\",\"blogName\":\"디카섭(Di..\",\"blogId\":\"dicasub\",\"domainIdOrBlogId\":\"dicasub\",\"nicknameOrBlogId\":\"디카섭 DiCaSub\",\"logNo\":223637908357,\"smartEditorVersion\":4,\"meDisplay\":true,\"lineDisplay\":true,\"outsideDisplay\":false,\"cafeDisplay\":true,\"blogDisplay\":true} 댓글 1 공유하기 취소 이웃추가', 'score': 0.99980444, 'raw_content': '프로야구 한국시리즈 역대 우승팀 및 팀별 우승 횟수(~2024년까지) : 네이버 블로그\\n \\n본문 바로가기\\n블로그\\n카테고리 이동 디카섭(DiCaSub)의 스포츠 통계 이야기\\n\\n검색 MY메뉴 열기\\n야구[국내일반]\\n[공지] 프로야구 한국시리즈 역대 우승팀 및 팀별 우승 횟수(~2024년까지)\\n\\n디카섭 DiCaSub\\n4시간 전\\n이웃추가\\n본문 기타 기능\\n\\n본문 폰트 크기 조정 본문 폰트 크기 작게 보기 본문 폰트 크기 크게 보기 가\\n\\n공감하기\\n\\n\\n공유하기\\n\\nURL복사\\n신고하기\\n\\n\\n국내 프로야구(KBO) 한국시리즈 역대 우승팀 정리\\n(2024 시즌까지 업데이트 완료)\\n작성자 DiCaSub / 작성일 2024-10-28\\n\\n\\u200b오늘 한국시리즈 5차전이 KIA의 역전승으로 종료되면서,\\n삼성과의 상대전적 4승 1패로 KIA가 한국시리즈 우승 트로피를 들어올렸습니다!!\\n축하축하!!\\n\\n2024년의 국내 프로야구의 대장정은 이렇게 마무리되었습니다.\\n모든 구단, 모든 선수들 정말 고생 많으셨습니다!\\n\\n\\n역대 한국시리즈 우승팀 현황을 아래 <표>와 <그림>으로 정리해보았습니다.\\n<표 항목 : 시즌별 우승팀/준우승팀/상대전적>\\n(이제 나의 팀 한화이글스도 여기서 이름 좀 올려봅시다^^)\\n시즌우승팀준우승팀전적2024년KIA삼성4승1패2023년LGKT4승1패2022년SSG키움4승2패2021년KT두산4승2020년NC두산4승2패2019년두산키움4승2018년SK두산4승2패2017년KIA두산4승1패2016년두산NC4승2015년두산삼성4승1패2014년삼성넥센4승2패2013년삼성두산4승3패2012년삼성SK4승2패2011년삼성SK4승1패2010년SK삼성4승2009년KIASK4승3패2008년SK두산4승1패2007년SK두산4승2패2006년삼성한화4승1무1패2005년삼성두산4승2004년현대삼성4승3무2패2003년현대SK4승3패2002년삼성LG4승2패2001년두산삼성4승2패2000년현대두산4승3패1999년한화롯데4승1패1998년현대LG4승2패1997년해태LG4승1패1996년해태현대4승2패1995년OB롯데4승3패1994년LG태평양4승1993년해태삼성4승1무2패1992년롯데빙그레4승1패1991년해태빙그레4승1990년LG삼성4승1989년해태빙그레4승1패1988년해태빙그레4승2패1987년해태삼성4승1986년해태삼성4승1패1985년삼성 전·후기 통합우승(한국시리즈 열리지 않음)1984년롯데삼성4승3패1983년해태MBC4승1무1982년OB삼성4승1무1패\\n\\n\\n국내 프로야구(KBO) 구단(팀)별\\n한국시리즈 우승 횟수<표>\\n작성자 DiCaSub / 작성일 2024-10-28\\n\\n우승팀우승횟수 (회)KIA (해태포함)12삼성8두산 (OB포함)6SSG (SK포함)5현대4LG3롯데2한화1NC1KT1\\n\\n\\n국내 프로야구(KBO) 구단(팀)별\\n한국시리즈 우승 횟수<그림>\\n작성자 DiCaSub / 작성일 2024-10-28\\n\\n\\n[그림1] 국내 프로야구(KBO) 구단(팀)별 한국시리즈 우승 횟수 (막대형)\\n\\n[그림2] 국내 프로야구(KBO) 구단(팀)별 한국시리즈 우승 횟수 (원형)\\n\\n(참고) 2024 정규리그 성적 포스팅!\\nhttps://blog.naver.com/dicasub/223603577717\\n2024년 국내 프로야구(KBO) 정규리그 최종 순위 정리(월별 순위 분석/최종)2024년 국내 프로야구(KBO) 정규리그 최종 순위 정리 (월별 순위 분석/최종) 드디어 오늘 2024년 국내 ... blog.naver.com\\n\\n디카섭의 스포츠통계 이야기\\nhttp://blog.naver.com/dicasub\\n작성자 DiCaSub / 작성일 2024-10-28\\n\\n\\n\\n\\u200b\\n\\n#야구\\n#프로야구\\n#한국시리즈\\n#한국시리즈일정\\n#한국시리즈우승\\n#한국시리즈준우승\\n#기아삼성\\n#kia삼성\\n#기아우승\\n#삼성준우승\\n#야구우승\\n#프로야구포스트시즌\\n#포스트시즌\\n#프로야구한국시리즈\\n#2024프로야구한국시리즈\\n#야구한국시리즈\\n#야구한국시리즈우승\\n#프로야구순위\\n#프로야구우승\\n#kbo포스트시즌\\n#kbo순위\\n#kbo리그\\n#kbo우승\\n#kbo우승팀\\n#kbo우승횟수\\n#역대kbo우승팀\\n#역대한국시리즈우승\\n#역대한국시리즈우승팀\\n#역대한국시리즈\\n#역대한국시리즈전적\\n\\n\\n공감한 사람 보러가기\\n댓글 1 공유하기\\n{\"title\":\"프로야구 한국시리즈 역대 우승팀 및 팀별 우승 횟수(~2024년까지)\",\"source\":\"https://blog.naver.com/dicasub/223637908357\",\"blogName\":\"디카섭(Di..\",\"blogId\":\"dicasub\",\"domainIdOrBlogId\":\"dicasub\",\"nicknameOrBlogId\":\"디카섭 DiCaSub\",\"logNo\":223637908357,\"smartEditorVersion\":4,\"meDisplay\":true,\"lineDisplay\":true,\"outsideDisplay\":false,\"cafeDisplay\":true,\"blogDisplay\":true}\\n닫기\\n카테고리\\n이 블로그 홈\\n\\n공감한 사람 보러가기\\n댓글 1 공유하기\\n디카섭 DiCaSub(dicasub) 님을 이웃추가하고 새글을 받아보세요\\n취소 이웃추가'}], 'response_time': 4.21})]"
      ]
     },
     "execution_count": 64,
     "metadata": {},
     "output_type": "execute_result"
    }
   ],
   "source": [
    "tavily_search.batch(result2.tool_calls)"
   ]
  },
  {
   "cell_type": "code",
   "execution_count": null,
   "metadata": {},
   "outputs": [],
   "source": []
  },
  {
   "cell_type": "markdown",
   "metadata": {},
   "source": [
    "## Tool 의 처리(응답) 결과를 LLM 요청시 사용\n",
    "- ToolMessage를 prompt 에 추가하여 LLM에 요청한다.\n",
    "- ToolMessage 는 Tool Calling 정보를 가진 AIMessage 다음에 들어와야 한다.\n",
    "- Prompt 순서\n",
    "    1. 일반 prompt (system, 대화 history, .., human)\n",
    "    2. AIMessage: tool calling 정보를 가진 AIMessage. (tool_model에 질의 받은 tool calling 정보가 있는 응답)\n",
    "    3. ToolMessage:  Tool의 처리 결과"
   ]
  },
  {
   "cell_type": "code",
   "execution_count": 68,
   "metadata": {},
   "outputs": [
    {
     "data": {
      "text/plain": [
       "'2024년12-13'"
      ]
     },
     "execution_count": 68,
     "metadata": {},
     "output_type": "execute_result"
    }
   ],
   "source": [
    "from datetime import datetime\n",
    "datetime.now().strftime(\"%Y-%m-%d\")\n",
    "# datetime.today()"
   ]
  },
  {
   "cell_type": "code",
   "execution_count": 89,
   "metadata": {},
   "outputs": [],
   "source": [
    "from datetime import datetime\n",
    "from langchain_core.runnables import chain\n",
    "from langchain.prompts import ChatPromptTemplate, MessagesPlaceholder\n",
    "from textwrap import dedent\n",
    "# tool 들 생성\n",
    "# model 생성\n",
    "# model에 tool들을 binding.\n",
    "today = datetime.now().strftime(\"%Y-%m-%d\")\n",
    "prompt_template = ChatPromptTemplate(\n",
    "    [\n",
    "        (\"system\", dedent(\"\"\"\n",
    "            당신은 유능한 AI 비서입니다. \n",
    "            오늘 날짜는 {today}입니다. \n",
    "            답변을 할 때 오늘 날짜와 가장 가까운 정보를 검색해서 대답해 주세요.\n",
    "            \"\"\")),\n",
    "        (\"human\", \"{user_input}\"), # 질문\n",
    "        MessagesPlaceholder(\"message\", optional=True) \n",
    "        # AIMessage(tool_calls정보) - ToolMessage\n",
    "    ],\n",
    "    partial_variables={\"today\":today}\n",
    ")\n",
    "# MessagesPlaceholder(\"message\", optional=True) == (\"placeholder\", \"{message}\")\n",
    "\n",
    "tool_model_chain = prompt_template | tool_model  # tool_model = model + tool들\n",
    "\n",
    "@chain\n",
    "def web_search_chain(input):\n",
    "    # input: 사용자 질의의\n",
    "    ai_message = tool_model_chain.invoke({\"user_input\":input})\n",
    "    if ai_message.tool_calls: # Tool을 호출 -> query + Tool결과 -> llm 요청청\n",
    "        tool_messages = tavily_search.batch(ai_message.tool_calls)#list[ToolMessage\n",
    "        input_dict = {\n",
    "            \"user_input\":input, \n",
    "            \"message\":[ai_message, *tool_messages]\n",
    "        }\n",
    "        return tool_model_chain.invoke(input_dict).content\n",
    "    else: # LLM이 답변을 한 경우 -> 답변을 응답.\n",
    "        return ai_message.content\n"
   ]
  },
  {
   "cell_type": "code",
   "execution_count": 90,
   "metadata": {},
   "outputs": [],
   "source": [
    "result = web_search_chain.invoke({\"user_input\":\"2024년 한국시리즈 우승팀은 어디에요?\"})"
   ]
  },
  {
   "cell_type": "code",
   "execution_count": 88,
   "metadata": {},
   "outputs": [
    {
     "data": {
      "text/plain": [
       "'2024년 한국시리즈에서 KIA 타이거즈가 우승했습니다. KIA는 삼성 라이온즈를 상대로 5차전에서 7대5로 승리하며 통산 12번째 우승을 차지했습니다. 이번 우승은 KIA에게 7년 만의 통합 우승이기도 하며, 2017년 이후 처음입니다.'"
      ]
     },
     "execution_count": 88,
     "metadata": {},
     "output_type": "execute_result"
    }
   ],
   "source": [
    "result"
   ]
  },
  {
   "cell_type": "markdown",
   "metadata": {},
   "source": [
    "# 사용자 정의 Tool 구현\n",
    "\n",
    "## @tool 사용\n",
    "- 함수로 구현하고 `@tool` 데코레이터를 사용해 tool(StructuredTool)로 정의한다.\n",
    "    - `langchain_core.tools` 모듈에 있다.\n",
    "- tool name\n",
    "    - 함수의 이름이 tool의 이름이 된다.\n",
    "- parameters\n",
    "    - 함수의 파라미터가 tool의 파라미터가 된다.\n",
    "    - **type hint**를 이용해 타입을 지정한다.  \n",
    "- description\n",
    "    - doctring이 description이 된다.\n",
    "    - RunnableBinding이 tool을 잘 찾을 수 있도록 하려면 **tool의 기능을 최대한 구체적**으로 작성한다.\n",
    "- **@tool이 적용된 함수(StructuredTool)이 tool**이므로 model에 binding 한다."
   ]
  },
  {
   "cell_type": "code",
   "execution_count": 43,
   "metadata": {},
   "outputs": [],
   "source": [
    "from langchain_core.tools import tool #tool decorator import\n",
    "\n",
    "@tool\n",
    "def plus(num1:int|float, num2:int|float) -> int|float:\n",
    "    \"\"\"입력받은 두 수를 더한 결과를 반환하는 tool.\"\"\"\n",
    "    \n",
    "    return num1 + num2\n",
    "\n",
    "@tool\n",
    "def multiply(num1:int|float, num2:int|float) -> int|float:\n",
    "    \"\"\"입력받은 두 수를 곱한 결과를 반환하는 tool.\"\"\"\n",
    "    return num1 * num2"
   ]
  },
  {
   "cell_type": "code",
   "execution_count": 33,
   "metadata": {},
   "outputs": [
    {
     "data": {
      "text/plain": [
       "langchain_core.tools.structured.StructuredTool"
      ]
     },
     "execution_count": 33,
     "metadata": {},
     "output_type": "execute_result"
    }
   ],
   "source": [
    "type(multiply)"
   ]
  },
  {
   "cell_type": "code",
   "execution_count": 44,
   "metadata": {},
   "outputs": [],
   "source": [
    "from langchain_openai import ChatOpenAI\n",
    "from dotenv import load_dotenv\n",
    "load_dotenv()\n",
    "\n",
    "model = ChatOpenAI(model=\"gpt-4o-mini\")\n",
    "# model에 tool을 연결\n",
    "## tool 함수를 등록한다.\n",
    "tool_model = model.bind_tools(tools=[plus,  multiply])\n",
    "\n",
    "result1 = tool_model.invoke(\"3 X 10 의 결과는?\")"
   ]
  },
  {
   "cell_type": "code",
   "execution_count": 45,
   "metadata": {},
   "outputs": [
    {
     "name": "stdout",
     "output_type": "stream",
     "text": [
      "content='' additional_kwargs={'tool_calls': [{'id': 'call_h7uZZwxVgmD6f2ieDXai3cPs', 'function': {'arguments': '{\"num1\":3,\"num2\":10}', 'name': 'multiply'}, 'type': 'function'}], 'refusal': None} response_metadata={'token_usage': {'completion_tokens': 19, 'prompt_tokens': 106, 'total_tokens': 125, 'completion_tokens_details': {'accepted_prediction_tokens': 0, 'audio_tokens': 0, 'reasoning_tokens': 0, 'rejected_prediction_tokens': 0}, 'prompt_tokens_details': {'audio_tokens': 0, 'cached_tokens': 0}}, 'model_name': 'gpt-4o-mini-2024-07-18', 'system_fingerprint': 'fp_6fc10e10eb', 'finish_reason': 'tool_calls', 'logprobs': None} id='run-816fca74-6e15-4c51-803c-8525b9fa9965-0' tool_calls=[{'name': 'multiply', 'args': {'num1': 3, 'num2': 10}, 'id': 'call_h7uZZwxVgmD6f2ieDXai3cPs', 'type': 'tool_call'}] usage_metadata={'input_tokens': 106, 'output_tokens': 19, 'total_tokens': 125, 'input_token_details': {'audio': 0, 'cache_read': 0}, 'output_token_details': {'audio': 0, 'reasoning': 0}}\n",
      "\n",
      "{'name': 'multiply', 'args': {'num1': 3, 'num2': 10}, 'id': 'call_h7uZZwxVgmD6f2ieDXai3cPs', 'type': 'tool_call'}\n"
     ]
    }
   ],
   "source": [
    "print(result1)\n",
    "print(result1.content)\n",
    "print(result1.tool_calls[0])\n",
    "# print(multiply.invoke(result1.tool_calls[0]))"
   ]
  },
  {
   "cell_type": "code",
   "execution_count": 46,
   "metadata": {},
   "outputs": [],
   "source": [
    "result2 = tool_model.invoke(\"20에 50을 더하면 얼마일까요?\")"
   ]
  },
  {
   "cell_type": "code",
   "execution_count": 21,
   "metadata": {},
   "outputs": [
    {
     "name": "stdout",
     "output_type": "stream",
     "text": [
      "content='' additional_kwargs={'tool_calls': [{'id': 'call_BwEO23juWsqxmqs4GRmIvtgl', 'function': {'arguments': '{\"num1\":20,\"num2\":50}', 'name': 'plus'}, 'type': 'function'}], 'refusal': None} response_metadata={'token_usage': {'completion_tokens': 19, 'prompt_tokens': 109, 'total_tokens': 128, 'completion_tokens_details': {'accepted_prediction_tokens': 0, 'audio_tokens': 0, 'reasoning_tokens': 0, 'rejected_prediction_tokens': 0}, 'prompt_tokens_details': {'audio_tokens': 0, 'cached_tokens': 0}}, 'model_name': 'gpt-4o-mini-2024-07-18', 'system_fingerprint': 'fp_6fc10e10eb', 'finish_reason': 'tool_calls', 'logprobs': None} id='run-a142ca7f-7eda-444d-804f-7096d8e1b0b0-0' tool_calls=[{'name': 'plus', 'args': {'num1': 20, 'num2': 50}, 'id': 'call_BwEO23juWsqxmqs4GRmIvtgl', 'type': 'tool_call'}] usage_metadata={'input_tokens': 109, 'output_tokens': 19, 'total_tokens': 128, 'input_token_details': {'audio': 0, 'cache_read': 0}, 'output_token_details': {'audio': 0, 'reasoning': 0}}\n",
      "\n",
      "{'name': 'plus', 'args': {'num1': 20, 'num2': 50}, 'id': 'call_BwEO23juWsqxmqs4GRmIvtgl', 'type': 'tool_call'}\n",
      "content='70' name='plus' tool_call_id='call_BwEO23juWsqxmqs4GRmIvtgl'\n"
     ]
    }
   ],
   "source": [
    "print(result2)\n",
    "print(result2.content)\n",
    "print(result2.tool_calls[0])\n",
    "print(plus.invoke(result2.tool_calls[0]))"
   ]
  },
  {
   "cell_type": "code",
   "execution_count": 22,
   "metadata": {},
   "outputs": [],
   "source": [
    "result3 = tool_model.invoke(\"20과 5를 더한 결과와 곱한 결과를 알려주세요.\")"
   ]
  },
  {
   "cell_type": "code",
   "execution_count": 24,
   "metadata": {},
   "outputs": [
    {
     "name": "stdout",
     "output_type": "stream",
     "text": [
      "content='' additional_kwargs={'tool_calls': [{'id': 'call_JHm8vZDWYBoq20jgVrH4EZua', 'function': {'arguments': '{\"num1\": 20, \"num2\": 5}', 'name': 'plus'}, 'type': 'function'}, {'id': 'call_GdR9sDM8jnLcAmAPKwtQg7Y5', 'function': {'arguments': '{\"num1\": 20, \"num2\": 5}', 'name': 'multiply'}, 'type': 'function'}], 'refusal': None} response_metadata={'token_usage': {'completion_tokens': 54, 'prompt_tokens': 115, 'total_tokens': 169, 'completion_tokens_details': {'accepted_prediction_tokens': 0, 'audio_tokens': 0, 'reasoning_tokens': 0, 'rejected_prediction_tokens': 0}, 'prompt_tokens_details': {'audio_tokens': 0, 'cached_tokens': 0}}, 'model_name': 'gpt-4o-mini-2024-07-18', 'system_fingerprint': 'fp_6fc10e10eb', 'finish_reason': 'tool_calls', 'logprobs': None} id='run-c4e67509-ccd0-462f-b0e3-b460496b488e-0' tool_calls=[{'name': 'plus', 'args': {'num1': 20, 'num2': 5}, 'id': 'call_JHm8vZDWYBoq20jgVrH4EZua', 'type': 'tool_call'}, {'name': 'multiply', 'args': {'num1': 20, 'num2': 5}, 'id': 'call_GdR9sDM8jnLcAmAPKwtQg7Y5', 'type': 'tool_call'}] usage_metadata={'input_tokens': 115, 'output_tokens': 54, 'total_tokens': 169, 'input_token_details': {'audio': 0, 'cache_read': 0}, 'output_token_details': {'audio': 0, 'reasoning': 0}}\n",
      "\n"
     ]
    },
    {
     "data": {
      "text/plain": [
       "[{'name': 'plus',\n",
       "  'args': {'num1': 20, 'num2': 5},\n",
       "  'id': 'call_JHm8vZDWYBoq20jgVrH4EZua',\n",
       "  'type': 'tool_call'},\n",
       " {'name': 'multiply',\n",
       "  'args': {'num1': 20, 'num2': 5},\n",
       "  'id': 'call_GdR9sDM8jnLcAmAPKwtQg7Y5',\n",
       "  'type': 'tool_call'}]"
      ]
     },
     "execution_count": 24,
     "metadata": {},
     "output_type": "execute_result"
    }
   ],
   "source": [
    "print(result3)\n",
    "print(result3.content)\n",
    "result3.tool_calls"
   ]
  },
  {
   "cell_type": "code",
   "execution_count": 29,
   "metadata": {},
   "outputs": [
    {
     "name": "stdout",
     "output_type": "stream",
     "text": [
      "tool 이름: plus\n",
      "tool 설명: 입력받은 두 수를 더한 결과를 반환하는 tool.\n",
      "tool schema:\n"
     ]
    },
    {
     "data": {
      "text/plain": [
       "{'description': '입력받은 두 수를 더한 결과를 반환하는 tool.',\n",
       " 'properties': {'num1': {'anyOf': [{'type': 'integer'}, {'type': 'number'}],\n",
       "   'title': 'Num1'},\n",
       "  'num2': {'anyOf': [{'type': 'integer'}, {'type': 'number'}],\n",
       "   'title': 'Num2'}},\n",
       " 'required': ['num1', 'num2'],\n",
       " 'title': 'plus',\n",
       " 'type': 'object'}"
      ]
     },
     "execution_count": 29,
     "metadata": {},
     "output_type": "execute_result"
    }
   ],
   "source": [
    "print(\"tool 이름:\", plus.name) #함수이름 == tool 이름\n",
    "print(\"tool 설명:\", plus.description) # 함수 docstring == tool description(설명)\n",
    "print(\"tool schema:\")\n",
    "plus.args_schema.model_json_schema()"
   ]
  },
  {
   "cell_type": "code",
   "execution_count": 49,
   "metadata": {},
   "outputs": [],
   "source": [
    "# TavilySearch로 검색한 결과를 Document에 담아서 반환하는 tool을 생성.\n",
    "from langchain_community.tools import TavilySearchResults\n",
    "from langchain_core.documents import Document\n",
    "from langchain_core.tools import tool\n",
    "\n",
    "@tool\n",
    "def search_web(query:str, max_results:int=2) -> list[Document]|str:\n",
    "    \"\"\"\n",
    "    가지고 있지 않은 정보나 최신 정보를 찾기 위해 인터넷 검색을 하는 툴입니다.\n",
    "    검색할 내용은 query 로 입력 받습니다.\n",
    "    검색 개수는 max_results로 받습니다. 입력되지 않은 경우에는 2개를 검색합니다.\n",
    "    검색 결과는 Document 객체에 담아 list로 묶어서 반환합니다.\n",
    "    \"\"\"\n",
    "    tavily_search = TavilySearchResults(max_results=max_results)\n",
    "    docs = tavily_search.invoke(query) # list[dict]\n",
    "    # print(docs)\n",
    "    # list[dict] => list[Document(page_content:검색결과, metadata={url:검색 url})]\n",
    "    document_list = []\n",
    "    for doc in docs:\n",
    "        _doc = Document(\n",
    "            page_content=doc['content'],\n",
    "            metadata={\"url\":doc['url'], \"question\":query}\n",
    "        )\n",
    "        document_list.append(_doc)\n",
    "    if document_list: # True: 원소 한개 이상 있는 경우.\n",
    "        return document_list\n",
    "    else: #False: 검색결과가 없는 경우.\n",
    "        return \"관련된 정보를 검색할 수 없습니다.\"\n",
    "\n"
   ]
  },
  {
   "cell_type": "code",
   "execution_count": null,
   "metadata": {},
   "outputs": [
    {
     "data": {
      "text/plain": [
       "[Document(metadata={'url': 'https://item.gmarket.co.kr/Item?goodscode=2518692425', 'question': '한우 등심 100g당 가격은 어떻게 되나요?'}, page_content='한우 등심 구이용 1+등급 (100g) (팩) 포장단위별 내용물의 용량(중량), 수량, 크기: 100g: 생산자/수입자 (주)이마트 미트센터: 원산지 (국내산) 제조연월일, 소비기한 또는 품질유지기한: 점포상품으로 지점별 정보가 상이합니다.'),\n",
       " Document(metadata={'url': 'https://wisely.store/product/1등급-한우-등심-구이용-200g-100g당-7995원-매일-22시-재입고/2078/', 'question': '한우 등심 100g당 가격은 어떻게 되나요?'}, page_content='상품 상세 정보  1+등급 한우 등심 구이용 200g (100g당 6,495원) | 마지막재고 입니다.상품명풍부한 육즙과 마블링이 예술인 1+ 한우 등심상품요약정보프레시메이커스브랜드27,990원 일반가12,990원제로마진가냉동배송공급사43 상품 옵션   배송국내배송 해외배송옵션 선택1+등급 한우 등심 구이용 200g (100g당 6,495원) | 마지막재고 입니다. - 월~금요일 오후 6시 이전 결제 시 : 당일 출고 후 1~2일 내 도착 - 금요일 오후 6시 이후 ~ 일요일 오후 6시 이전 결제 시 : 일요일 출고 후 1~2일 내 도착   상품 상세 정보  상품명1+등급 한우 등심 구이용 200g (100g당 6,495원) | 마지막재고 입니다.상품요약정보풍부한 육즙과 마블링이 예술인 1+ 한우 등심브랜드프레시메이커스일반가27,990원 제로마진가12,990원공급사냉동배송43 - 월~금요일 오후 6시 이전 결제 시 : 당일 출고 후 1~2일 내 도착 - 금요일 오후 6시 이후 ~ 일요일 오후 6시 이전 결제 시 : 일요일 출고 후 1~2일 내 도착  ')]"
      ]
     },
     "execution_count": 50,
     "metadata": {},
     "output_type": "execute_result"
    }
   ],
   "source": [
    "query = \"한우 등심 100g당 가격은 어떻게 되나요?\"\n",
    "search_web.invoke(query)"
   ]
  },
  {
   "cell_type": "code",
   "execution_count": 54,
   "metadata": {},
   "outputs": [
    {
     "name": "stdout",
     "output_type": "stream",
     "text": [
      "search_web\n",
      "가지고 있지 않은 정보나 최신 정보를 찾기 위해 인터넷 검색을 하는 툴입니다.\n",
      "검색할 내용은 query 로 입력 받습니다.\n",
      "검색 개수는 max_results로 받습니다. 입력되지 않은 경우에는 2개를 검색합니다.\n",
      "검색 결과는 Document 객체에 담아 list로 묶어서 반환합니다.\n"
     ]
    },
    {
     "data": {
      "text/plain": [
       "{'description': '가지고 있지 않은 정보나 최신 정보를 찾기 위해 인터넷 검색을 하는 툴입니다.\\n검색할 내용은 query 로 입력 받습니다.\\n검색 개수는 max_results로 받습니다. 입력되지 않은 경우에는 2개를 검색합니다.\\n검색 결과는 Document 객체에 담아 list로 묶어서 반환합니다.',\n",
       " 'properties': {'query': {'title': 'Query', 'type': 'string'},\n",
       "  'max_results': {'default': 2, 'title': 'Max Results', 'type': 'integer'}},\n",
       " 'required': ['query'],\n",
       " 'title': 'search_web',\n",
       " 'type': 'object'}"
      ]
     },
     "execution_count": 54,
     "metadata": {},
     "output_type": "execute_result"
    }
   ],
   "source": [
    "print(search_web.name)\n",
    "print(search_web.description)\n",
    "search_web.args_schema.model_json_schema()"
   ]
  },
  {
   "cell_type": "code",
   "execution_count": 68,
   "metadata": {},
   "outputs": [
    {
     "name": "stdout",
     "output_type": "stream",
     "text": [
      "content='[Document(metadata={\\'url\\': \\'https://department.ssg.com/search.ssg?query=한우등심\\', \\'question\\': \\'한우 등심 100g 가격\\'}, page_content=\\'신세계백화점에서 한우등심 최저가 상품부터 한우등심 추천•인기 상품까지, 할인 가격으로 만나보세요! ... 가격 상세보기. 판매가 59,900 세일가 42,900 ssg money 할인쿠폰 4,290원 최적가 38,610 (100g당:15,444원)\\'), Document(metadata={\\'url\\': \\'https://wisely.store/product/1등급-한우-등심-구이용-200g-100g당-7995원-매일-22시-재입고/2078/\\', \\'question\\': \\'한우 등심 100g 가격\\'}, page_content=\\'상품 상세 정보  1+등급 한우 등심 구이용 200g (100g당 6,495원) | 마지막재고 입니다.상품명풍부한 육즙과 마블링이 예술인 1+ 한우 등심상품요약정보프레시메이커스브랜드27,990원 일반가12,990원제로마진가냉동배송공급사43 상품 옵션   배송국내배송 해외배송옵션 선택1+등급 한우 등심 구이용 200g (100g당 6,495원) | 마지막재고 입니다. - 월~금요일 오후 6시 이전 결제 시 : 당일 출고 후 1~2일 내 도착 - 금요일 오후 6시 이후 ~ 일요일 오후 6시 이전 결제 시 : 일요일 출고 후 1~2일 내 도착   상품 상세 정보  상품명1+등급 한우 등심 구이용 200g (100g당 6,495원) | 마지막재고 입니다.상품요약정보풍부한 육즙과 마블링이 예술인 1+ 한우 등심브랜드프레시메이커스일반가27,990원 제로마진가12,990원공급사냉동배송43 - 월~금요일 오후 6시 이전 결제 시 : 당일 출고 후 1~2일 내 도착 - 금요일 오후 6시 이후 ~ 일요일 오후 6시 이전 결제 시 : 일요일 출고 후 1~2일 내 도착  \\'), Document(metadata={\\'url\\': \\'http://item.gmarket.co.kr/Item?goodsCode=2663536998\\', \\'question\\': \\'한우 등심 100g 가격\\'}, page_content=\\'스테이크용 한우 등심 (1등급) (100G) 포장단위별 내용물의 용량(중량), 수량, 크기: 100g: 생산자/수입자: 롯데신선품질혁신센터: 원산지: 국내산 한우고기: 제조연월일, 소비기한 또는 품질유지기한: 본 상품은 제조일자별로 유통기한이 상이하여 정보 제공이\\'), Document(metadata={\\'url\\': \\'https://item.gmarket.co.kr/Item?goodscode=2518692425\\', \\'question\\': \\'한우 등심 100g 가격\\'}, page_content=\\'한우 등심 구이용 1+등급 (100g) (팩) 포장단위별 내용물의 용량(중량), 수량, 크기: 100g: 생산자/수입자 (주)이마트 미트센터: 원산지 (국내산) 제조연월일, 소비기한 또는 품질유지기한: 점포상품으로 지점별 정보가 상이합니다.\\'), Document(metadata={\\'url\\': \\'https://emart.ssg.com/search.ssg?query=한우등심\\', \\'question\\': \\'한우 등심 100g 가격\\'}, page_content=\\'장바구니 담기 {\"advertBidId\":\"9999999998\",\"displayPrc\":\"41900\",\"giftBtnShowType\":\"\",\"giftBtnActType\":\"Y\",\"itemChrctDivCd\":\"10\",\"giftBtnMsg\":\"\",\"itemNm\":\"[냉장] 1++등급 한우 채끝 200g 투뿔한우 구이용 채끝 등심 소고기 (근내지방도 7이상)\",\"shppTypeCd\":\"20\",\"shppTypeDtlCd\":\"22\",\"goItemDetailYn\":\"Y\",\"dealItemYn\":\"N\",\"itemRegDivCd\":\"10\",\"advertExtensTeryDivCd\":\"\",\"siteNo\":\"6001\",\"brandNm\":\"압구정한우\",\"useForcedSsg\":\"N\",\"cartPsblType\":\"\",\"msgItemDetail\":\"이 상품은 옵션이 있는 상품 입니다.\\\\\\\\n상품상세에서 옵션을 선택해주세요.\",\"bsplItemDivCd\":null,\"itemLnkd\":\"https://emart.ssg.com/item/itemView.ssg?itemId=1000627057633&siteNo=6001&salestrNo=6005&tlidSrchWd=한우등심&srchPgNo=1&advertBidId=9999999998\",\"bothSsgMorningShppYn\":\"N\",\"drctPurchYn\":\"N\",\"gourmetYn\":\"\",\"itemId\":\"1000627057633\",\"cleaningLabYn\":\"N\",\"uitemId\":\"00000\",\"infloSiteNo\":\"7018\",\"salestrNo\":\"6005\"} 장바구니 담기 {\"advertBidId\":\"9999999998\",\"displayPrc\":\"18900\",\"giftBtnShowType\":\"\",\"giftBtnActType\":\"Y\",\"itemChrctDivCd\":\"10\",\"giftBtnMsg\":\"\",\"itemNm\":\"[냉장] 1++등급 한우 국거리 200g 투뿔한우 국거리용 소고기 (근내지방도 7이상)\",\"shppTypeCd\":\"20\",\"shppTypeDtlCd\":\"22\",\"goItemDetailYn\":\"Y\",\"dealItemYn\":\"N\",\"itemRegDivCd\":\"10\",\"advertExtensTeryDivCd\":\"\",\"siteNo\":\"6001\",\"brandNm\":\"압구정한우\",\"useForcedSsg\":\"N\",\"cartPsblType\":\"\",\"msgItemDetail\":\"이 상품은 옵션이 있는 상품 입니다.\\\\\\\\n상품상세에서 옵션을 선택해주세요.\",\"bsplItemDivCd\":null,\"itemLnkd\":\"https://emart.ssg.com/item/itemView.ssg?itemId=1000627016965&siteNo=6001&salestrNo=6005&tlidSrchWd=한우등심&srchPgNo=1&advertBidId=9999999998\",\"bothSsgMorningShppYn\":\"N\",\"drctPurchYn\":\"N\",\"gourmetYn\":\"\",\"itemId\":\"1000627016965\",\"cleaningLabYn\":\"N\",\"uitemId\":\"00000\",\"infloSiteNo\":\"7018\",\"salestrNo\":\"6005\"} 장바구니 담기 {\"advertBidId\":\"\",\"displayPrc\":\"37800\",\"giftBtnShowType\":\"\",\"giftBtnActType\":\"N\",\"itemChrctDivCd\":\"10\",\"giftBtnMsg\":\"선물하기 불가 상품 입니다.\",\"itemNm\":\"[냉장] 1++등급(9) 한우 등심 구이 200g\",\"shppTypeCd\":\"10\",\"shppTypeDtlCd\":\"16\",\"goItemDetailYn\":\"N\",\"dealItemYn\":\"N\",\"itemRegDivCd\":\"20\",\"advertExtensTeryDivCd\":\"\",\"siteNo\":\"7009\",\"brandNm\":\"조우\",\"useForcedSsg\":\"N\",\"cartPsblType\":\"\",\"msgItemDetail\":\"\",\"bsplItemDivCd\":null,\"itemLnkd\":\"https://emart.ssg.com/item/itemView.ssg?itemId=2097001784853&siteNo=7009&salestrNo=2493&tlidSrchWd=한우등심&srchPgNo=1\",\"bothSsgMorningShppYn\":\"N\",\"drctPurchYn\":\"N\",\"gourmetYn\":\"Y\",\"itemId\":\"2097001784853\",\"cleaningLabYn\":\"N\",\"uitemId\":\"00000\",\"infloSiteNo\":\"7018\",\"salestrNo\":\"2493\"} 장바구니 담기 {\"advertBidId\":\"\",\"displayPrc\":\"41800\",\"giftBtnShowType\":\"\",\"giftBtnActType\":\"N\",\"itemChrctDivCd\":\"10\",\"giftBtnMsg\":\"선물하기 불가 상품 입니다.\",\"itemNm\":\"[냉장] 1++등급(9) 한우 채끝 스테이크 200g\",\"shppTypeCd\":\"10\",\"shppTypeDtlCd\":\"16\",\"goItemDetailYn\":\"N\",\"dealItemYn\":\"N\",\"itemRegDivCd\":\"20\",\"advertExtensTeryDivCd\":\"\",\"siteNo\":\"7009\",\"brandNm\":\"조우\",\"useForcedSsg\":\"N\",\"cartPsblType\":\"\",\"msgItemDetail\":\"\",\"bsplItemDivCd\":null,\"itemLnkd\":\"https://emart.ssg.com/item/itemView.ssg?itemId=2097002082385&siteNo=7009&salestrNo=2493&tlidSrchWd=한우등심&srchPgNo=1\",\"bothSsgMorningShppYn\":\"N\",\"drctPurchYn\":\"N\",\"gourmetYn\":\"Y\",\"itemId\":\"2097002082385\",\"cleaningLabYn\":\"N\",\"uitemId\":\"00000\",\"infloSiteNo\":\"7018\",\"salestrNo\":\"2493\"} 장바구니 담기 {\"advertBidId\":\"\",\"displayPrc\":\"46800\",\"giftBtnShowType\":\"\",\"giftBtnActType\":\"N\",\"itemChrctDivCd\":\"10\",\"giftBtnMsg\":\"선물하기 불가 상품 입니다.\",\"itemNm\":\"[냉장] 1++등급(9) 한우 안심 구이 200g\",\"shppTypeCd\":\"10\",\"shppTypeDtlCd\":\"16\",\"goItemDetailYn\":\"N\",\"dealItemYn\":\"N\",\"itemRegDivCd\":\"20\",\"advertExtensTeryDivCd\":\"\",\"siteNo\":\"7009\",\"brandNm\":\"조우\",\"useForcedSsg\":\"N\",\"cartPsblType\":\"\",\"msgItemDetail\":\"\",\"bsplItemDivCd\":null,\"itemLnkd\":\"https://emart.ssg.com/item/itemView.ssg?itemId=2097002075493&siteNo=7009&salestrNo=2493&tlidSrchWd=한우등심&srchPgNo=1\",\"bothSsgMorningShppYn\":\"N\",\"drctPurchYn\":\"N\",\"gourmetYn\":\"Y\",\"itemId\":\"2097002075493\",\"cleaningLabYn\":\"N\",\"uitemId\":\"00000\",\"infloSiteNo\":\"7018\",\"salestrNo\":\"2493\"} 장바구니 담기 {\"advertBidId\":\"\",\"displayPrc\":\"68250\",\"giftBtnShowType\":\"\",\"giftBtnActType\":\"Y\",\"itemChrctDivCd\":\"10\",\"giftBtnMsg\":\"\",\"itemNm\":\"[냉장]1++등급(7이상) 투뿔 한우 등심 구이용 500g 대용량팩\",\"shppTypeCd\":\"20\",\"shppTypeDtlCd\":\"22\",\"goItemDetailYn\":\"N\",\"dealItemYn\":\"N\",\"itemRegDivCd\":\"10\",\"advertExtensTeryDivCd\":\"\",\"siteNo\":\"6001\",\"brandNm\":\"농협안심한우\",\"useForcedSsg\":\"N\",\"cartPsblType\":\"\",\"msgItemDetail\":\"\",\"bsplItemDivCd\":null,\"itemLnkd\":\"https://emart.ssg.com/item/itemView.ssg?itemId=1000553941877&siteNo=6001&salestrNo=6005&tlidSrchWd=한우등심&srchPgNo=1\",\"bothSsgMorningShppYn\":\"N\",\"drctPurchYn\":\"N\",\"gourmetYn\":\"Y\",\"itemId\":\"1000553941877\",\"cleaningLabYn\":\"N\",\"uitemId\":\"00000\",\"infloSiteNo\":\"7018\",\"salestrNo\":\"6005\"} 장바구니 담기 {\"advertBidId\":\"\",\"displayPrc\":\"54800\",\"giftBtnShowType\":\"\",\"giftBtnActType\":\"N\",\"itemChrctDivCd\":\"10\",\"giftBtnMsg\":\"선물하기 불가 상품 입니다.\",\"itemNm\":\"[냉장] 한우 등심(구이용)1++등급(7) 300g(팩)\",\"shppTypeCd\":\"10\",\"shppTypeDtlCd\":\"16\",\"goItemDetailYn\":\"N\",\"dealItemYn\":\"N\",\"itemRegDivCd\":\"20\",\"advertExtensTeryDivCd\":\"\",\"siteNo\":\"7009\",\"brandNm\":null,\"useForcedSsg\":\"N\",\"cartPsblType\":\"\",\"msgItemDetail\":\"\",\"bsplItemDivCd\":null,\"itemLnkd\":\"https://emart.ssg.com/item/itemView.ssg?itemId=2097001144428&siteNo=7009&salestrNo=2493&tlidSrchWd=한우등심&srchPgNo=1\",\"bothSsgMorningShppYn\":\"N\",\"drctPurchYn\":\"N\",\"gourmetYn\":\"\",\"itemId\":\"2097001144428\",\"cleaningLabYn\":\"N\",\"uitemId\":\"00000\",\"infloSiteNo\":\"7018\",\"salestrNo\":\"2493\"} 장바구니 담기 {\"advertBidId\":\"\",\"displayPrc\":\"54800\",\"giftBtnShowType\":\"\",\"giftBtnActType\":\"N\",\"itemChrctDivCd\":\"10\",\"giftBtnMsg\":\"선물하기 불가 상품 입니다.\",\"itemNm\":\"[냉장] 한우 등심(구이용)1++등급(7) 300g(팩)\",\"shppTypeCd\":\"10\",\"shppTypeDtlCd\":\"16\",\"goItemDetailYn\":\"N\",\"dealItemYn\":\"N\",\"itemRegDivCd\":\"20\",\"advertExtensTeryDivCd\":\"\",\"siteNo\":\"7009\",\"brandNm\":null,\"useForcedSsg\":\"N\",\"cartPsblType\":\"\",\"msgItemDetail\":\"\",\"bsplItemDivCd\":null,\"itemLnkd\":\"https://emart.ssg.com/item/itemView.ssg?itemId=2097001144428&siteNo=7009&salestrNo=2493&tlidSrchWd=한우등심&srchPgNo=1\",\"bothSsgMorningShppYn\":\"N\",\"drctPurchYn\":\"N\",\"gourmetYn\":\"\",\"itemId\":\"2097001144428\",\"cleaningLabYn\":\"N\",\"uitemId\":\"00000\",\"infloSiteNo\":\"7018\",\"salestrNo\":\"2493\"} 장바구니 담기 {\"advertBidId\":\"\",\"displayPrc\":\"29800\",\"giftBtnShowType\":\"\",\"giftBtnActType\":\"N\",\"itemChrctDivCd\":\"10\",\"giftBtnMsg\":\"선물하기 불가 상품 입니다.\",\"itemNm\":\"[냉장] 1++등급(9) 한우 등심 대패 구이 200g\",\"shppTypeCd\":\"10\",\"shppTypeDtlCd\":\"16\",\"goItemDetailYn\":\"N\",\"dealItemYn\":\"N\",\"itemRegDivCd\":\"20\",\"advertExtensTeryDivCd\":\"\",\"siteNo\":\"7009\",\"brandNm\":\"조우\",\"useForcedSsg\":\"N\",\"cartPsblType\":\"\",\"msgItemDetail\":\"\",\"bsplItemDivCd\":null,\"itemLnkd\":\"https://emart.ssg.com/item/itemView.ssg?itemId=2097002082590&siteNo=7009&salestrNo=2493&tlidSrchWd=한우등심&srchPgNo=1\",\"bothSsgMorningShppYn\":\"N\",\"drctPurchYn\":\"N\",\"gourmetYn\":\"Y\",\"itemId\":\"2097002082590\",\"cleaningLabYn\":\"N\",\"uitemId\":\"00000\",\"infloSiteNo\":\"7018\",\"salestrNo\":\"2493\"} 장바구니 담기 {\"advertBidId\":\"\",\"displayPrc\":\"29800\",\"giftBtnShowType\":\"\",\"giftBtnActType\":\"N\",\"itemChrctDivCd\":\"10\",\"giftBtnMsg\":\"선물하기 불가 상품 입니다.\",\"itemNm\":\"[냉장] 1++등급(9) 한우 등심 대패 구이 200g\",\"shppTypeCd\":\"10\",\"shppTypeDtlCd\":\"16\",\"goItemDetailYn\":\"N\",\"dealItemYn\":\"N\",\"itemRegDivCd\":\"20\",\"advertExtensTeryDivCd\":\"\",\"siteNo\":\"7009\",\"brandNm\":\"조우\",\"useForcedSsg\":\"N\",\"cartPsblType\":\"\",\"msgItemDetail\":\"\",\"bsplItemDivCd\":null,\"itemLnkd\":\"https://emart.ssg.com/item/itemView.ssg?itemId=2097002082590&siteNo=7009&salestrNo=2493&tlidSrchWd=한우등심&srchPgNo=1\",\"bothSsgMorningShppYn\":\"N\",\"drctPurchYn\":\"N\",\"gourmetYn\":\"Y\",\"itemId\":\"2097002082590\",\"cleaningLabYn\":\"N\",\"uitemId\":\"00000\",\"infloSiteNo\":\"7018\",\"salestrNo\":\"2493\"}\\')]' name='search_web' tool_call_id='call_zM6y5abSkCOZM3cvCuX0o7fp'\n"
     ]
    }
   ],
   "source": [
    "# llm 모델 연동\n",
    "model = ChatOpenAI(model=\"gpt-4o-mini\")\n",
    "tool_model = model.bind_tools(tools=[search_web])\n",
    "query = \"한우 등심 100g당 가격은 어떻게 되나요?\"\n",
    "# query = \"안녕하세요\"\n",
    "result = tool_model.invoke(query)\n",
    "result.tool_calls\n",
    "if result.tool_calls: \n",
    "    # tool을 호출\n",
    "    # 호출 파라미터 값을 변경 - max_result를 추가.\n",
    "    result.tool_calls[0][\"args\"][\"max_results\"] = 1   #  result.tool_calls[0].args: tool의 파라미터에 전달할 argument\n",
    "    # print(result.tool_calls)\n",
    "    # tool 호출\n",
    "    tool_result = search_web.invoke(result.tool_calls[0])\n",
    "    print(tool_result)\n",
    "else: #LLM이 바로 응답\n",
    "    print(result.content)"
   ]
  },
  {
   "cell_type": "markdown",
   "metadata": {},
   "source": [
    "## Runnable을 tool로 정의\n",
    "- `Runnable객체.as_tool()`\n",
    "    - name, description, args_schema 파라미터를 이용해 tool의 이름, 설명, 스키마를 설정한다."
   ]
  },
  {
   "cell_type": "code",
   "execution_count": null,
   "metadata": {},
   "outputs": [],
   "source": [
    "# pip install wikipedia"
   ]
  },
  {
   "cell_type": "code",
   "execution_count": 80,
   "metadata": {},
   "outputs": [
    {
     "name": "stderr",
     "output_type": "stream",
     "text": [
      "C:\\Users\\Playdata\\AppData\\Local\\Temp\\ipykernel_5780\\4214336680.py:37: LangChainBetaWarning: This API is in beta and may change in the future.\n",
      "  search_wiki = wiki_runnable.as_tool(\n"
     ]
    }
   ],
   "source": [
    "# WikipediaLoader: Document loader -> wikipedia 백과사전에서 검색한 결과를 문서로 loading.\n",
    "from langchain_community.document_loaders import WikipediaLoader\n",
    "from langchain_core.documents import Document\n",
    "from langchain_core.runnables import RunnableLambda \n",
    "from pydantic import BaseModel, Field\n",
    "from textwrap import dedent\n",
    "\n",
    "# Runnable로 만들 함수\n",
    "def wikipedia_search(input_data:dict) -> list[Document]:\n",
    "    \"\"\"\n",
    "    사용자 query(검색 키워드)를 위키백과사전(wikipedia)에서 검색한 결과 k개를 Document로 반환\n",
    "    parameter:\n",
    "        input_data: dict dict[str:query, int:검색개수-max_results]\n",
    "    return:\n",
    "        list[Document] - 개별 검색결과: Document\n",
    "    \"\"\"\n",
    "    query = input_data['query']\n",
    "    k = input_data.get('max_results', 2)\n",
    "    # Document Loader 생성\n",
    "    wiki_loader = WikipediaLoader(query=query, load_max_docs=k, lang='ko')\n",
    "    # 문서 로드.\n",
    "    wiki_docs = wiki_loader.load() # list[Document]\n",
    "    return wiki_docs\n",
    "\n",
    "wiki_runnable = RunnableLambda(wikipedia_search)\n",
    "#### runnable을 tool로 정의\n",
    "# tool 관련 schema를 정의 한 뒤에서 runnable.as_tool() 메소드를 이용해 생성.\n",
    "## parameter schema는 pydantic으로 정의\n",
    "## description 등은 as_tool() 에 직접 정의\n",
    "class WikiSearchSchema(BaseModel):\n",
    "    # ... 시작: required(필수), description: parameter 설명명\n",
    "    query:str = Field(..., description=\"Wikipedia에서 검색할 keyword\") \n",
    "    # ... 으로 시작하지 않으면 optional, default: 값이 없을 경우 사용할 기본값.\n",
    "    max_results:int = Field(default=2, description=\"검색할 문서 개수\")\n",
    "\n",
    "# Runnable -> tool \n",
    "search_wiki = wiki_runnable.as_tool(\n",
    "    args_schema=WikiSearchSchema, # 필수\n",
    "    name=\"search_wiki\", #생략-함수명이 이름이 됨.\n",
    "    description=dedent(\"\"\"\n",
    "        이 도구는 위키피디아(wikipedia)에서 정보를 검색해야 할 때 사용합니다.\n",
    "        사용자의 질문과 관련된 위키피디아 문서를 지정된 개수 만큼 검색해서 반환합니다.\n",
    "        일반적인 지식이나 배경 정보가 필요한 경우 사용할 수있는 도구 입니다.\n",
    "        \"\"\") # 생략: 함수의 docstring이 description이됨.\n",
    ")"
   ]
  },
  {
   "cell_type": "code",
   "execution_count": 83,
   "metadata": {},
   "outputs": [
    {
     "name": "stdout",
     "output_type": "stream",
     "text": [
      "search_wiki\n",
      "이 도구는 위키피디아(wikipedia)에서 정보를 검색해야 할 때 사용합니다.\n",
      "사용자의 질문과 관련된 위키피디아 문서를 지정된 개수 만큼 검색해서 반환합니다.\n",
      "일반적인 지식이나 배경 정보가 필요한 경우 사용할 수있는 도구 입니다.\n"
     ]
    },
    {
     "data": {
      "text/plain": [
       "{'properties': {'query': {'description': 'Wikipedia에서 검색할 keyword',\n",
       "   'title': 'Query',\n",
       "   'type': 'string'},\n",
       "  'max_results': {'default': 2,\n",
       "   'description': '검색할 문서 개수',\n",
       "   'title': 'Max Results',\n",
       "   'type': 'integer'}},\n",
       " 'required': ['query'],\n",
       " 'title': 'WikiSearchSchema',\n",
       " 'type': 'object'}"
      ]
     },
     "execution_count": 83,
     "metadata": {},
     "output_type": "execute_result"
    }
   ],
   "source": [
    "print(search_wiki.name)\n",
    "print(search_wiki.description)\n",
    "search_wiki.args_schema.model_json_schema()"
   ]
  },
  {
   "cell_type": "code",
   "execution_count": null,
   "metadata": {},
   "outputs": [
    {
     "data": {
      "text/plain": [
       "[Document(metadata={'title': 'KBO 리그', 'summary': 'KBO 리그(영어: KBO League)는 대한민국의 프로 야구 리그이다. 1981년 12월 11일 6개 구단이 한국프로야구창립총회에 참가하여 프로야구 출범을 공표하여 구체화되었다.\\n\\n', 'source': 'https://ko.wikipedia.org/wiki/KBO_%EB%A6%AC%EA%B7%B8'}, page_content='KBO 리그(영어: KBO League)는 대한민국의 프로 야구 리그이다. 1981년 12월 11일 6개 구단이 한국프로야구창립총회에 참가하여 프로야구 출범을 공표하여 구체화되었다.\\n\\n\\n== 배경과 역사 ==\\n\\n1979년 12·12 반란과 1980년 5·18 계엄령으로 정권을 잡아 집권한 전두환은 소위 \\'3S 정책\\'을 이용했다. 1981년 당시 대통령 전두환은 청와대 수석비서관 회의에서 국민정서, 이야기를 하다가 \"프로 스포츠 한번 해봐라\"라고 지시를 내렸다. 실무를 담당한 이상주 당시 대통령비서실 교육문화수석 비서관은 대통령의 지시대로 대한야구협회와 대한축구협회에 프로화를 타진하고, 당시 야구 선수인이었던 이호헌과 이용일이 18쪽 분량의 \\'프로야구창립계획서\\'를 만들게 되었다. 축구계가 프로화에 막대한 비용이 든다고 보고한 것과 달리 야구계는 \"정부 보조 한 푼 없이 프로 야구를 출범시킬 수 있다\"라고 보고했고, 이 제안이 당시 집권자들의 구미를 당기게 되었다. 이후 각 지역을 연고지별로 분할하고 창단 기업을 물색하게 되었다.\\n프로 야구에 참여할 기업을 선정할 때는 모기업의 조건은 재무구조가 건실한 상시노동자 3만명 이상의 대기업이었다. 초기 기획단계에서 연고지 배정은 서울은 MBC, 부산은 롯데였다. 정치인들은 자신의 혈연, 지연, 학연들을 모조리 동원해 그룹총수들을 설득하기 시작했고 그에 의해 두산그룹이 자사 주류 OB의 이름을 내걸고 충청권에 들어오게 되었다. 그리고 역시 정계인물들과 관계가 돈독했던 해태의 박건배 회장이 전라권에 해태를 참여시켰다.\\n\\n\\n== 참가 구단 ==\\n\\n\\n=== 현재 참가 구단 ===\\n\\n\\n=== 과거 참가 구단 ===\\n현대 유니콘스\\n쌍방울 레이더스\\n\\n\\n== 경기장 ==\\n\\n\\n=== 제2홈구장 ===\\n\\n\\n== 시즌 ==\\n\\n\\n=== 체제 ===\\n단일리그제로 각 팀은 144게임씩 총 720경기를 가진다. 9회말 이후 동점일 경우 연장전을 가진다. 연장전은 12회까지 치른다. 12회말 이후 동점일 경우 무승부로 처리한다. 취소 된 경기는 정규 리그가 종료 된 이후에 별도로 경기를 편성하여 진행한다. 순위는 승률에 따라 결정하며, 승률계산은 승 수/경기 수로 하도록 하였다. 2010년과 다르게 5회 클리닝타임이 부활했으며 포스트시즌은 연장 15회까지 경기 가능한 것으로 수정하였다. 경기 개시시간은 주중 18:30 / 주말 17:00, 단 개막 2연전과 5월 6일까지 편성되는 경기들 중 일요일과 공휴일에 열리는 경기는 오후 2시부터 치러진다. 그러나 혹서기(7~8월) 기간동안은 주말, 공휴일 경기 개시시간이 18:00로 늦춰진다. 모든 선수가 출전가능했던 퓨처스리그에도 엔트리 등록 규정을 제정하여 경기당 출전할 수 있는 선수는 26명으로 제한해 경기 1시간 30분 전까지 등록하고 인원이 적은 상무와 경찰청을 제외한 9개 구단은 엔트리에서 말소될 경우 3일간 재등록이 불가능하다. 도핑테스트는 퓨처스리그까지 확대 시행하며 표적검사 인원도 늘린다.\\n\\n\\n=== 정규 시즌 ===\\n\\n\\n=== 타이브레이커 ===\\n\\n정규시즌을 모두 마쳤음에도 순위를 결정하기위한 순위결정전이다. 역대 타이브레이커는 3번 개최되었다. OB 베어스 VS 해태 타이거즈 (1986년), KT 위즈 VS 삼성 라이온즈 (2021년), SSG 랜더스 VS KT 위즈 (2024년)다.\\n\\n\\n=== 포스트시즌 ===\\n\\n정규시즌 1~5위의 팀들이 참가하게 된다. 포스트시즌 엔트리는 27명이다. 포스트시즌은 가을 야구로도 불린다.\\n\\n와일드카드 결정전 : 정규시즌 4위와 5위의 2경기(4위에게 1승의 어드벤티지 적용)\\n준플레이오프 : 정규시즌 3위와 와일드카드 결정전 승자의 3선승제\\n플레이오프 : 정규시즌 2위와 준플레이오프 승자의 3선승제\\n한국시리즈 : 정규시즌 1위와 플레이오프 승자의 4선승제\\n\\n\\n==== 한국시리즈 ====\\n\\n\\n=== 올스타전 ===\\n\\n올스타전은 별들의 경기 라는 뜻으로 팬들의 투표와 감독의 추천을 통해서 뽑힌 선수들의 게임으로 매년 여름에 드림 올스타(SSG 랜더스, 삼성 라이온즈, 두산 베어스, 롯데 자이언츠, KT 위즈)와 나눔 올스타(키움 히어로즈, KIA 타이거즈, 한화 이글스, LG 트윈스, NC 다이노스)로 팀을 나누어 치뤄진다. 9회까지 승리팀이 나오지 않을 경우 연장 10회부터 승부가 날 때까지 승부치기를 시행한다.\\n\\n\\n== 응원 문화 ==\\n\\nKBO 리그는 발전하면서 관중들의 응원 문화도 함께 발전하였다. 여기서는 많은 구단이 공통적으로 진행하는 응원 문화만 서술한다. 각 팀의 자체 응원 유형과 문화는 각 팀 문서를 참조하라.\\n\\n주로 응원단장, 앰프, 북, 치어리더, 막대풍선을 중심으로 응원 문화가 발달하였다.\\n응원하는 팀의 1회 공격(원정팀의 1회초, 홈팀의 1회말)시에 \\'라인 업 송\\'에 따라 1번타자부터 선발투수까지의 이름을 타순대로 외친다. 선발투수의 이름은 9번타자의 이름을 부른 뒤 외친다.\\n주요 타자들의 공격이 성공하기를 원하는 의미에서 대중가요등 잘 알려진 노래나 선율에 가사를 입히거나 바꿔서 안타나 홈런을 기원하는 응원가를 제정하여 부른다.\\n투수가 볼의 카운트 개수와 상관없이 2스트라이크를 기록하면, 삼진을 잡기를 원하면서 \\'삼진\\'을 외친다. 다만, 볼이 없으며 초구와 2구가 모두 스트라이크이고, 제3구를 던질때에는 \\'삼구삼진\\'을 외친다.\\n상대팀 투수가 응원하는 팀의 주자에 대하여 견제구를 던지면 견제 대응 응원을 한다. 응원 구호는 각 팀마다 다르다. 최근에는 견제 대응 응원에 대한 역견제 응원을 하는 팀도 있다.\\nSSG 랜더스의 〈연안부두〉 (인천), 롯데 자이언츠의 〈부산갈매기〉와 〈돌아와요 부산항에〉 (부산), KIA 타이거즈의 〈남행열차〉 (전라도), NC 다이노스의 〈Come on Come on 마산스트리트여〉 (구 마산/현 창원), 한화 이글스의 〈내 고향 충청도〉 (충청도)등 연고지를 주제로 한 대중가요를 일정 시점에서 방송하거나 관중들이 다 같이 부른다. 부르거나 방송하는 시점은 각 팀마다 다르다.\\n팬들도 자발적으로 자신이 응원하는 팀이나 선수의 선전을 기원하는 피켓을 제작하고, 팀의 유니폼과 모자를 착용하는 등의 자체적인 팬덤이 있으며, 자신이 응원하는 팀의 서포터즈 모임을 조직하여 주로 홈경기때 자체적인 단체응원을 하는 경우도 있다. 다만, 팀이 정식으로 편성한 서포터즈는 없다.\\n2021년 포스트 시즌 때는 취식은 가능했지만 육성응원을 금지 했다. 11월 1일 키움 히어로즈와 두산 베어스간에 와일드카드 결정전을 치르는 중 홈런이 나와 관중이 과열되자 심판이 응원 자제를 요청하기도 했다.\\n2021년 포스트 시즌에서는 11월 2일부터 홈런 혹은 적시타가 터졌을 때 응원가 금지를 하기도 했다.\\n\\n\\n== 기록 ==\\n\\n\\n=== 희귀 기록 ===\\nKBO 리그 최초 사이클링 히트\\n1982년 6월 12일 구덕 삼성 vs 삼미전에서 삼성 라이온즈 오대석 선수가 1회초 우익수 키를 넘기는 3루타, 3회 2루타, 5회 중전안타, 6회 중월 홈런을 때려내 KBO 리그 최초로 사이클링 히트 기록의 보유자가 되었다.\\n4할 타율\\n1982년 MBC 청룡의 백인천은 타율 0.412를 기록하여 KBO 역사상 유일한 4할 타율을 기록했다.\\n한 시즌 10승 & 3할 타율 동시 달성\\n1982년 해태 타이거즈의 김성한은 규정 이닝을 채우고 10승을 달성하는 한편, 규정 타석을 채우고 3할 타율까지 달성했다.\\n특정 팀 상대 한 시즌 전승\\n1982년 OB 베어스는 삼미 슈퍼스타즈를 상대로 16전 16승을 기록했다.\\n단일 시즌 최저 승률\\n1982년 삼미 슈퍼스타즈는 80전 15승 65패로 승률 0.188을 기록했다.\\n한 시즌 투수 30승\\n1983년 삼미 슈퍼스타즈의 투수 장명부가 KBO 역사상 유일한 30승을 달성했다.\\n한 시즌 최다이닝\\n1983년 삼미 슈퍼스타즈의 투수 장명부는 427.1이닝을 소화했다.\\nKBO 리그 최초 노히트 노런\\n1984년 5월 5일 광주 삼미전에서 해태 타이거즈 방수원 선수가 삼미 타선을 상대로 단 한 개의 안타도 허용하지 않고 완봉승을 거두면서 한국프로야구 최초로 노히트 노런 기록의 보유자가 되었다. 그러나 방수원의 이 날 1승은 그가 세운 1984년의 유일한 승리 기록이다.\\n포스트시즌 없이 통합우승\\n1985'),\n",
       " Document(metadata={'title': '한국야구위원회', 'summary': '사단법인 한국야구위원회(社團法人韓國野球委員會, 영어: Korea Baseball Organization, KBO), 또는 KBO 사무국(KBO事務局, 영어: Office of the Commissioner, KBO)은 문화체육관광부 소관의 사단법인으로 KBO 리그를 총괄하는 기구이다. 야구를 통하여 대한민국 프로스포츠 발전에 기여하고 각종 국제 대회의 참가로 국제친선에 공헌할 목적으로 1981년 12월11일 창립 총회를 열고 출범하였다. 원년출범부터 한국야구위원회(韓國野球委員會)라는 명칭을 사용하였으나 2015년 브랜드 통합에 따라 명칭을 KBO로 변경하고 리그와 구분하기 위해 KBO 사무국이라는 명칭도 사용된다. 사무실은 서울특별시 강남구 강남대로 278에 있다.', 'source': 'https://ko.wikipedia.org/wiki/%ED%95%9C%EA%B5%AD%EC%95%BC%EA%B5%AC%EC%9C%84%EC%9B%90%ED%9A%8C'}, page_content='사단법인 한국야구위원회(社團法人韓國野球委員會, 영어: Korea Baseball Organization, KBO), 또는 KBO 사무국(KBO事務局, 영어: Office of the Commissioner, KBO)은 문화체육관광부 소관의 사단법인으로 KBO 리그를 총괄하는 기구이다. 야구를 통하여 대한민국 프로스포츠 발전에 기여하고 각종 국제 대회의 참가로 국제친선에 공헌할 목적으로 1981년 12월11일 창립 총회를 열고 출범하였다. 원년출범부터 한국야구위원회(韓國野球委員會)라는 명칭을 사용하였으나 2015년 브랜드 통합에 따라 명칭을 KBO로 변경하고 리그와 구분하기 위해 KBO 사무국이라는 명칭도 사용된다. 사무실은 서울특별시 강남구 강남대로 278에 있다.\\n\\n\\n== 연혁 ==\\n1981년 12월 11일 창립\\n1982년 3월 27일 서울 동대문야구장에서 삼성 라이온즈와 MBC 청룡의 개막전으로 리그 시작\\n2011년 1월 1일 기준으로 게임회사인 엔씨소프트에서 2012년에 2군 퓨처스리그 참가 및 2013년에 1군리그 참가를 목표로 통합 창원시에 제9구단을 창단하겠다고 선언했다.2011년 2월 8일자로 KBO로부터 창단승인을 받아 2013년 NC 다이노스라는 팀명으로 9번째 구단으로 프로리그에 참여하고 있다.\\n2013년 통신회사인 KT가 경기도 수원시에 제10구단 창단을 선언하고 KBO가 창단을 승인하여 팀명 kt 위즈로 정식창단하였다. 2014년까지 2군 리그 참가 후 2015년부터 1군 리그에 정식 참여하고 있다.\\n2020년 5월 5일에 개막한 2020년 KBO 리그는 미국 ESPN과 일본 SPOZONE를 통해 미국, 영국, 캐나다, 일본 지역에 생중계되었다.\\n\\n\\n== 조직 ==\\n한국야구위원회는 총재를 정점으로 사무총장과 운영본부장이 관할하는 사무국, 마케팅 사업을 벌이는 자회사 KBOP, 심판위원회, 기록위원회, 기술위원회, 육성위원회로 이루어져 있다. 그리고 비상설 기구로 상벌위원회, 규칙위원회와 야구원로자문위원회(위원장 어우홍)를 두고 있다.\\n\\n\\n== 총재 ==\\nKBO 총재는 KBO를 대표하고, 관리 통할하는 자리이다. 임기는 3년이며 \"총재가 결정하는 지시, 재정, 재결, 제재는 최종 결정이며 위원회에 속하는 모든 단체와 개인에게 적용\"될 정도로 막강한 권한을 지니고 있다.\\n\\n\\n=== 역대 총재 ===\\n\\n\\n== 역대 사무총장 ==\\n\\n\\n== 주요 활동 ==\\nKBO 리그 관리, 통괄\\n페넌트레이스, 올스타전, 준플레이오프, 플레이오프, KBO 한국시리즈 주최\\n야구 경기 기록, 관련 자료의 수집과 조사 및 분석 연구\\n국제 야구 활동 교류 추진\\n아마추어 야구의 발전을 위한 제반 지원 활동\\nTV 및 라디오 방송중계권 계약 활동\\n야구 기술의 개발 및 지도 보급\\n야구 관계자의 상벌 및 복지 사업\\n회원 간의 연락 및 친선\\n야구 박물관, 도서관 및 회관의 설치 운영\\n한국 프로 야구 연감 및 간행물 발간\\n한국야구위원회 재산/회계 관리\\n기타 목적 달성에 필요한 사업\\n\\n\\n== 같이 보기 ==\\n한국프로야구선수협회\\nKBO 리그\\nKBO 퓨처스리그\\n대한민국 야구 국가대표팀\\n대한야구소프트볼협회\\n\\n\\n== 각주 ==\\n\\n\\n== 외부 링크 ==\\n(한국어) 한국야구위원회  - 공식 웹사이트')]"
      ]
     },
     "execution_count": 85,
     "metadata": {},
     "output_type": "execute_result"
    }
   ],
   "source": [
    "search_wiki.invoke({\"query\":\"한국 프로야구\"})"
   ]
  },
  {
   "cell_type": "code",
   "execution_count": 99,
   "metadata": {},
   "outputs": [],
   "source": [
    "# LLM 연동\n",
    "model = ChatOpenAI(model=\"gpt-4o-mini\")\n",
    "tool_model = model.bind_tools(tools=[search_web, search_wiki])\n",
    "ai_message = tool_model.invoke(\"서울의 파스타 맛집을 알려주세요. 파스타에 대해서 설명해주세요. 오늘 날씨를 알려주세요.\")\n",
    "tool_message_list = []\n",
    "for tool_call in ai_message.tool_calls:\n",
    "    tool_name = tool_call['name']\n",
    "    if tool_name == \"search_wiki\":\n",
    "        _msg = search_wiki.invoke(tool_call)\n",
    "    elif tool_name == \"search_web\":\n",
    "        _msg = search_web.invoke(tool_call)\n",
    "    # print(_msg)\n",
    "    tool_message_list.append(_msg.content)\n"
   ]
  },
  {
   "cell_type": "code",
   "execution_count": 100,
   "metadata": {},
   "outputs": [
    {
     "data": {
      "text/plain": [
       "3"
      ]
     },
     "execution_count": 100,
     "metadata": {},
     "output_type": "execute_result"
    }
   ],
   "source": [
    "len(tool_message_list)"
   ]
  },
  {
   "cell_type": "code",
   "execution_count": 101,
   "metadata": {},
   "outputs": [
    {
     "data": {
      "text/plain": [
       "['[Document(metadata={\\'title\\': \\'파스타\\', \\'summary\\': \\'파스타(이탈리아어: pasta)는 이탈리아의 밀 식품이다. 듀럼밀 세몰라에 물을 섞거나 밀가루에 달걀을 섞어 부풀리지 않고 반대기를 지어서 국수 등의 형태로 만든 음식이며, 삶거나 구워 먹는다. 이탈리아의 주식이며, 국민 음식 가운데 하나로 여겨진다.\\', \\'source\\': \\'https://ko.wikipedia.org/wiki/%ED%8C%8C%EC%8A%A4%ED%83%80\\'}, page_content=\\'파스타(이탈리아어: pasta)는 이탈리아의 밀 식품이다. 듀럼밀 세몰라에 물을 섞거나 밀가루에 달걀을 섞어 부풀리지 않고 반대기를 지어서 국수 등의 형태로 만든 음식이며, 삶거나 구워 먹는다. 이탈리아의 주식이며, 국민 음식 가운데 하나로 여겨진다.\\\\n\\\\n\\\\n== 이름 ==\\\\n이탈리아어 \"파스타(pasta)\"는 \"반죽, 페이스트\"를 뜻하는 명사이다.\\\\n\\\\n\\\\n== 역사 ==\\\\n\\\\n2세기경 그리스의 의사 갈레노스의 저서에는 밀가루와 물을 함께 혼합해서 만든 itrion이라는 말이 언급되어 있다. 예루살렘 탈무드에 기록된 itrium은 삶은 반죽 종류로, 팔레스타인에서 3세기부터 5세기까지 먹었으며, 9세기의 시리아의 의사이자 사서학자인 Isho bar Ali가 편찬한 사전에는 아라비아 어원을 가지고 있으며, 세몰리나로 만들어 말려서 요리하는 끈같은 모양의 itriyya에 대해서 설명하고 있다. 무함마드 알 이드리시의 지리학 저서에는 1154년 시칠리아 로저 2세 시대의 자료를 편찬하면서 노르만 시칠리아에서 생산하고 수출하는 이트리야 (itriyya)에 대해 언급하고 있다.\\\\n\\\\n말단의 서부에는 Trabia라고 불리는 즐거운 곳이 있다. 이곳의 영원히 흐르는 강은 많은 밀을 흘러갈 수 있게 한다. 이 지방의 거대한 건물에서는 사람들이 칼라브리아, 무슬림과 기독교 국가에 보낼 막대한 양의 이트리야를 만든다. 매우 많은 양이 배로 수송된다.\\\\n이트리야는 이탈리아에서 trie로 알려졌는데 이 말은 tagliatelli와 같이 길다란 끈을 의미하는 말이었다. 이트리야의 형태 중 하나로 오랜 역사를 지닌 laganum (복수형 lagana)은 라틴어로 얇은 면 반죽을 뜻하며, 이탈리아에서는 \"라사냐\"로 알려졌다.\\\\n기원전 1세기 호라티우스의 저서에는 lagana를 기름으로 튀긴 얇은 반죽이며, 일상식이었다고 쓰고 있다. 2세기 때 나우크라티스의 아테나이오스의 저서에는 1세기 때 쓰여진 티아나의 크리시포스의 lagana 요리법이 나와있다. 이 요리법에서는 으깬 상추액과 밀가루로 만든 얇은 면 반죽에 양념을 한 후 기름에 바싹 튀기는 방법을 쓰고 있다. 5세기 초에 쓰여진 요리책에는 고기가 들어간 얇은 층으로 된 면 반죽이 들어가는 요리 lagana에 대해서 설명하고 있는데, 오늘날의 음식인 라사냐의 원형이라고 볼 수 있다. 그러나 이 반죽을 요리하는 과정은 지금의 드라이 파스타나 프레시 파스타와는 많이 다르다. 이탈리아 시대에서 파스타에 대한 구체적인 자료가 등장한 때는 13에서 14세기 사이였다.\\\\n한편, 중국에서도 기원전 2000년부터 잡곡으로 만든 국수를 먹어왔지만, 듀럼밀은 후세까지 알려지지 않았다. 마르코 폴로가 중국에서 파스타를 들여왔다는 가설은 미국의 잡지 〈마카로니 저널〉에서 나왔다. 이 잡지는 미국의 파스타 판매를 촉진하기 위해 식품 회사 협회가 출간한 것이었다. 마르코 폴로가 동방견문록에서 \"라가나\" (lagana)와 유사한 음식에 대해서 묘사하고 있지만, 이것은 그가 잘 알고 있던 단어를 사용한 것일뿐이다. 국제 마카로니 제조업자 협회에 따르면 오늘날의 듀럼밀로 만들어진 파스타는 아랍인이 시칠리아를 지배하였을 때 들어온 것이다.\\\\n파스타는 그리스 신화에서 헤파이스토스가 파스타 제조 기구를 발명했다는 설과 기원전 5세기경에 이탈리아 중서부의 고대국가인 에트루리아족이 만들어 먹었다는 설 등 그 기원에 대해 아직까지 여러 가지 이설이 있다.\\\\n\\\\n\\\\n== 종류 ==\\\\n\\\\n\\\\n=== 재료와 제조 방식 ===\\\\n\\\\n\\\\n==== 건파스타 ====\\\\n\\\\n건파스타(乾pasta, 이탈리아어: pasta secca 파스타 세카[*]) 단순한 튜브 형태에서부터 나비넥타이 모양에 이르기까지 약 350종이 존재한다. 덥고 건조한 날씨에도 오랫동안 보관할 수 있어서 주로 이탈리아 남부에서 사용한다. 건파스타는 \"듀럼밀\"로도 불리는 경질밀(grano duro) 세몰라와 물을 사용하여 만든다. 듀럼밀을 갈아 만든 거칠고 날카로운 입자 형태의 황갈색 세몰라는 파스타를 만드는데 적합하다. 이는 듀럼밀이 글루텐을 많이 함유하고 있어 녹말 입자가 쉽게 파괴되기 어렵고 수분 흡수를 조절하며, 지나치게 부풀어 오르지 않아 파스타의 형태를 단단하게 유지하기 때문이다 대부분의 건파스타는 압출성형 공법을 통해 상업적으로 생산되지만, 집에서도 만들 수 있다. 재료는 같은 재료를 사용하여 만들어도 이탈리아의 건파스타는 일반적으로 다른 곳의 건파스타보다 훨씬 우수한데 그 이유는 특유의 압출과 건조 방식에 있다. 건파스타는 모양이 복잡할수록 소스를 잘 붙잡아두는데, 봉긋하게 솟아 있거나 움푹 팬 모양은 파스타를 구리 틀에서 짜내는 압출과정에서 만들어진다. 구리 틀은 값도 비싸고 금방 못 쓰게 되는 단점이 있지만, 이탈리아에서는 최고의 건파스타를 만들기 위해 구리 틀을 일반적으로 사용한다. 반면 철로 만든 틀을 사용하는 다른 나라들의 파스타는 면이 너무 매끈해 소스와 잘 어우러지지 못하는 경우가 많다. 건파스타를 만들 때는 온도와 시간도 매우 중요한데, 대량 생산되는 파스타는 짧은 시간에 너무 높은 온도에서 건조하기 때문에 이탈리아의 전통 파스타보다 질이 떨어진다.\\\\n\\\\n\\\\n==== 생파스타 ====\\\\n\\\\n생파스타(生pasta, 이탈리아어: pasta fresca 파스타 프레스카[*])의 경우 전통적으로 수작업을 통해 만들어지며, 때때로 간단한 기계(파스타기)의 도움을 받기도 한다. 식료품 가게에서 구입하는 생파스타는 기계에 의해 상업적으로 생산된다. 연질밀(grano tenero) 가루와 달걀에 물이나 올리브 오일을 더해 만드는 생파스타는 토양이 비옥하고 달걀이 풍부한 이탈리아 북부 지방에서 주로 사용된다. 달걀이 들어간 파스타를 \"달걀 파스타(pasta all\\\\\\'uovo)\"라 부르기도 한다. 생파스타를 만드는 반죽의 반대기는 \"스폴리아\"라 불린다. 건파스타가 주를 이루는 남부 지방에서는 특별한 날에 라비올리나 칸넬로니처럼 소를 넣은 생파스타를 만들어 먹는다. 일반적으로 그날 만든 생파스타 요리를 대접하는 것은 손님에 대한 정성과 그 집의 뛰어난 요리 솜씨를 보여주는 것이라 여겨진다. 그러나 생파스타가 건파스타보다 본질적으로 더 우수한 것은 아니다. 단지 어디에 쓰이냐에 따라 면이 달라질 뿐이다. 즉 어떤 파스타는 생파스타로만, 어떤 파스타는 건파스타로만 만들고 둘 다 가능한 것도 있다. 생파스타는 에밀리아로마냐 지방의 것을 최고로 친다. 이곳의 생파스타는 보통 크림 소스나 버터와 샐비어로 만든 간단한 소스와 함께 먹고, 여름철에는 가벼운 토마토 소스에 먹기도 한다.\\\\n\\\\n\\\\n=== 모양 ===\\\\n건파스타와  생파스타 모두 다양한 모양과 변형을 가지고 있다. 파스타의 구체적인 형태는 310개로, 기록된 파스타의 이름은 1,300개가 넘는다. 이탈리아에서 일부 파스타의 모양이나 종류는 지역에 따라 다양하다. 예를 들어 파스타 모양인 카바텔리는 마을과 지역에 따라 부르는 이름이 달라 총 28개의 이름을 가지고 있는 것으로 유명하다. 파스타의 일반적인 모양은 긴 형태, 짧은 형태, 튜브, 납작한 형태, 시트, 수프를 위한 미니어처 형태, 속을 채우는 형태, 지역 특산품, 또는 장식품 등이 포함된다.\\\\n\\\\n\\\\n==== 긴 파스타 ====\\\\n\\\\n\\\\n==== 둥지 모양 파스타 ====\\\\n\\\\n\\\\n==== 구멍 뚫린 파스타 ====\\\\n\\\\n\\\\n==== 짧은 파스타 ====\\\\n\\\\n\\\\n==== 수프용 파스타 ====\\\\n\\\\n\\\\n==== 소를 넣은 파스타 ====\\\\n\\\\n\\\\n== 요리 ==\\\\n이탈리아 요리에서 파스타는 물에 삶은 다음 소스를 곁들여 내는 파스타 아시우타(이탈리아어: pasta asciutta), 수프 그릇에 국물과 함께 담아 내는 파스타 인 브로도(이탈리아어: pasta in brodo), 오븐에 구워 조리하는 파스타 알 포르노(이탈리아어: pasta al forno) 등의 방식으로 조리한다. 파스타 샐러드를 먹기도 한다.\\\\n건파스타는 소스를 얹었을 때 소스가 면에 묻혀 있으며, 견고하고 거친 구조이기 때문에 올리브 오일을 베이스로 한 가벼운 토마토 소스, 야채소스, 해산물 소스와 어울린다. 생파스타는 소스를 흡수한다. 버터나 진한 우유, 크림을 베이스로 한 해산물, 육류, 야채 소스와 어울린다. 가늘고 긴 파스타에는 가벼운 소스가, 두껍거나 넓적한 파스타에는 육류 등을 사용한 \\'), Document(metadata={\\'title\\': \\'파스타 에 파졸리\\', \\'summary\\': \\'파스타 에 파졸리 혹은 파스타 파졸리는 \"파스타와 콩\"을 의미하며 이탈리아 요리로서 육류가 들어가지 않은 전통 요리다. 피자나 폴렌타 등 요리처럼 서민의 요리로 자리매김하여 출발했으며 콩과 파스타면으로만 가능하기 때문에 더 용이했다. 그러나 오늘날에는 이탈리아 요리를 전문으로 하지 않는 식당에서도 찾을 수 있을 정도로 이탈리아에서는 많이 퍼져 있다. 미국에서는 복수형을 따서 pasta fazool 또는 pastafazool로 부른다.\\\\n파스타 파졸리는 카넬리니나 보르로티콩을 사용하며 파스타면으로는 디탈리니나 엘보 마카로니를 사용한다. 올리브유와 마늘, 으깬 양파, 향신료나 토마토 소스나 스튜를 만들어 만든다. 전통적으로 집에서는 남은 기름을 사용하기도 한다. 일부 개량형에서는 토마토를 전혀 넣지 않기도 하며 프로슈토를 쓰기도 한다.\\\\n마을이나 지역에 따라 요리법이 천차만별이라 아주 다양하며 콩에 따라서도 맛이 좌우될 정도다. 계절마다 달리 먹을 수도 있어 파네코타나 프로슈토를 겨울에 쓰고 여름에는 쓰지 않는다.\\\\n이탈리아어로 콩을 의미하는 단어가 방언에 따라 다양하기 때문에 달리 불리기도 한다.\\', \\'source\\': \\'https://ko.wikipedia.org/wiki/%ED%8C%8C%EC%8A%A4%ED%83%80_%EC%97%90_%ED%8C%8C%EC%A1%B8%EB%A6%AC\\'}, page_content=\\'파스타 에 파졸리 혹은 파스타 파졸리는 \"파스타와 콩\"을 의미하며 이탈리아 요리로서 육류가 들어가지 않은 전통 요리다. 피자나 폴렌타 등 요리처럼 서민의 요리로 자리매김하여 출발했으며 콩과 파스타면으로만 가능하기 때문에 더 용이했다. 그러나 오늘날에는 이탈리아 요리를 전문으로 하지 않는 식당에서도 찾을 수 있을 정도로 이탈리아에서는 많이 퍼져 있다. 미국에서는 복수형을 따서 pasta fazool 또는 pastafazool로 부른다.\\\\n파스타 파졸리는 카넬리니나 보르로티콩을 사용하며 파스타면으로는 디탈리니나 엘보 마카로니를 사용한다. 올리브유와 마늘, 으깬 양파, 향신료나 토마토 소스나 스튜를 만들어 만든다. 전통적으로 집에서는 남은 기름을 사용하기도 한다. 일부 개량형에서는 토마토를 전혀 넣지 않기도 하며 프로슈토를 쓰기도 한다.\\\\n마을이나 지역에 따라 요리법이 천차만별이라 아주 다양하며 콩에 따라서도 맛이 좌우될 정도다. 계절마다 달리 먹을 수도 있어 파네코타나 프로슈토를 겨울에 쓰고 여름에는 쓰지 않는다.\\\\n이탈리아어로 콩을 의미하는 단어가 방언에 따라 다양하기 때문에 달리 불리기도 한다.\\\\n\\\\n\\\\n== 같이 보기 ==\\\\n미네스트로네\\\\n\\\\n\\\\n== 외부 링크 ==\\\\nPasta e fagioli Archived 2011년 7월 12일 - 웨이백 머신\\')]',\n",
       " '[Document(metadata={\\'url\\': \\'https://www.tripadvisor.co.kr/Restaurants-g294197-zfd10678-Seoul-Pasta.html\\', \\'question\\': \\'서울 파스타 맛집\\'}, page_content=\\'서울, 대한민국의 베스트 파스타: 5,900건의 베스트 파스타 트립어드바이저 여행자 리뷰를 확인하고 가격, 위치 등으로 검색하세요. 본문 내용으로 건너뛰기 ... 파스타 맛집.\\'), Document(metadata={\\'url\\': \\'https://www.diningcode.com/list.dc?query=서울+파스타\\', \\'question\\': \\'서울 파스타 맛집\\'}, page_content=\"\\'서울 파스타\\' 맛집 리틀넥 (브런치 ★4.4), 스미스가좋아하는한옥 ( 파스타 ★4.3), 젠틀한식탁 ( 파스타 ★4.5) 등 5,963곳의 전체 순위,식당정보,방문자리뷰,사진 등을 확인하세요.\")]',\n",
       " \"[Document(metadata={'url': 'https://freemeteo.kr/weather/seoul/hourly-forecast/today/?gid=1835848&language=korean&country=south-korea', 'question': '서울 오늘 날씨'}, page_content='서울 - 시간별 오늘 날씨 2024-12-12 위도: 37.57 | 경도: 126.98 | 고도에 대한 예보: 46m | 지도 서울, 오늘 시간별 날씨 목요일 12 12월 2024'), Document(metadata={'url': 'https://www.accuweather.com/ko/kr/seoul/226081/hourly-weather-forecast/226081', 'question': '서울 오늘 날씨'}, page_content='서울특별시, 서울시, 대한민국 시간별 날씨 | AccuWeather')]\"]"
      ]
     },
     "execution_count": 101,
     "metadata": {},
     "output_type": "execute_result"
    }
   ],
   "source": [
    "tool_message_list"
   ]
  },
  {
   "cell_type": "code",
   "execution_count": 90,
   "metadata": {},
   "outputs": [
    {
     "data": {
      "text/plain": [
       "[{'name': 'search_wiki',\n",
       "  'args': {'query': '파스타', 'max_results': 2},\n",
       "  'id': 'call_8HIDlnDMQxoAxqEV7baZcmNg',\n",
       "  'type': 'tool_call'},\n",
       " {'name': 'search_web',\n",
       "  'args': {'query': '서울 파스타 맛집', 'max_results': 2},\n",
       "  'id': 'call_piCMndew6yivPMZozEXahP6m',\n",
       "  'type': 'tool_call'},\n",
       " {'name': 'search_web',\n",
       "  'args': {'query': '서울 날씨', 'max_results': 2},\n",
       "  'id': 'call_XP044Y6S6hXXbGifdF9tx1w4',\n",
       "  'type': 'tool_call'}]"
      ]
     },
     "execution_count": 90,
     "metadata": {},
     "output_type": "execute_result"
    }
   ],
   "source": [
    "ai_message.content\n",
    "ai_message.tool_calls\n",
    "# search_wiki.batch(ai_message.tool_calls)"
   ]
  },
  {
   "cell_type": "markdown",
   "metadata": {},
   "source": [
    "## tool을 사용하는 chain을 구성."
   ]
  },
  {
   "cell_type": "code",
   "execution_count": 1,
   "metadata": {},
   "outputs": [
    {
     "data": {
      "text/plain": [
       "True"
      ]
     },
     "execution_count": 1,
     "metadata": {},
     "output_type": "execute_result"
    }
   ],
   "source": [
    "from datetime import datetime\n",
    "from langchain.prompts import ChatPromptTemplate, MessagesPlaceholder\n",
    "from langchain_core.runnables import chain\n",
    "from langchain_openai import ChatOpenAI\n",
    "\n",
    "from tools import search_web, search_wiki\n",
    "from dotenv import load_dotenv\n",
    "load_dotenv()"
   ]
  },
  {
   "cell_type": "code",
   "execution_count": 4,
   "metadata": {},
   "outputs": [],
   "source": [
    "prompt_template = ChatPromptTemplate(\n",
    "    [\n",
    "        (\"system\", \"당신은 유능한 AI 비서입니다. 주어진 context를 바탕으로 대답해 주세요. 정보는 최신 정보를 검색해서 대답해 주세요. 오늘 날짜는 {today} 입니다.\"),\n",
    "        (\"human\", \"{query}\"),\n",
    "        (\"placeholder\", \"{tool_message}\") # MessagesPlaceholder() 와 동일.\n",
    "    ], \n",
    "    partial_variables={\"today\":datetime.now().strftime(\"%Y-%m-%d\")}\n",
    ")\n",
    "tool_model = ChatOpenAI(model=\"gpt-4o-mini\").bind_tools(\n",
    "    tools=[search_web, search_wiki]\n",
    ")\n",
    "\n",
    "tool_model_chain = prompt_template | tool_model\n",
    "\n",
    "@chain\n",
    "def search_chain(query:str):\n",
    "    # query -> too_model_chain\n",
    "    ## tool calls 가 반환 된 경: tool_calls -> tool -검색결과 -> tool_model_chain\n",
    "\n",
    "    ai_message = tool_model_chain.invoke({\"query\":query})\n",
    "\n",
    "    if ai_message.tool_calls: # tool 호출\n",
    "        tool_message_list = []\n",
    "        for tool_call in ai_message.tool_calls:\n",
    "            tool_name = tool_call['name']\n",
    "            if tool_name == \"search_wiki\":\n",
    "                tool_result = search_wiki.invoke(tool_call)\n",
    "            elif tool_name == \"search_web\":\n",
    "                tool_result = search_web.invoke(tool_call)\n",
    "            tool_message_list.extend(tool_result) if isinstance(tool_result, list) else tool_message_list.append(tool_result)\n",
    "        # LLM에 요청(tool_model_chain)\n",
    "        result = tool_model_chain.invoke({\n",
    "                \"query\":query, \n",
    "                \"tool_message\":[ai_message, *tool_message_list]\n",
    "            }\n",
    "        )\n",
    "        return result\n",
    "    \n",
    "    else: # 응답\n",
    "        return ai_message"
   ]
  },
  {
   "cell_type": "code",
   "execution_count": 5,
   "metadata": {},
   "outputs": [],
   "source": [
    "query = \"파스타의 종류와 유래에 대해서 알려주고 서울의 파스타로 유명한 식당을 소개해주세요.\"\n",
    "result = search_chain.invoke(query)"
   ]
  },
  {
   "cell_type": "code",
   "execution_count": 7,
   "metadata": {},
   "outputs": [
    {
     "name": "stdout",
     "output_type": "stream",
     "text": [
      "### 파스타의 종류와 유래\n",
      "\n",
      "파스타는 이탈리아 요리의 대표적인 음식으로, 다양한 형태와 조리법이 존재합니다. 파스타는 주로 밀가루와 물로 만들어지며, 때로는 계란이 추가되기도 합니다. 파스타의 종류는 매우 다양하지만, 대표적인 몇 가지를 소개하자면:\n",
      "\n",
      "1. **스파게티(Spaghetti)**: 가늘고 긴 형태로 가장 널리 알려진 파스타입니다.\n",
      "2. **펜네(Penne)**: 직사각형의 관 모양으로, 양쪽 끝이 비스듬히 잘려 있습니다.\n",
      "3. **리가토니(Rigatoni)**: 넓고 굵은 관 모양의 파스타로, 표면에 홈이 있어 소스와 잘 어울립니다.\n",
      "4. **파르팔레(Farfalle)**: 나비 모양의 파스타로, 주로 샐러드나 크림 소스와 함께 사용됩니다.\n",
      "5. **라자냐(Lasagna)**: 넓고 평평한 면으로, 여러 겹으로 쌓아 구워 먹는 요리입니다.\n",
      "\n",
      "**유래**: 파스타의 기원은 고대 로마와 그리스의 음식에서 찾을 수 있으며, 12세기부터 이탈리아에서 본격적으로 발전했습니다. 특히, 나폴리 지역에서의 파스타 제조 방식이 현재의 형태로 자리 잡게 되었습니다. 19세기에는 산업화로 인해 파스타 생산이 대량화되면서 전 세계적으로 인기를 얻게 되었습니다.\n",
      "\n",
      "### 서울의 파스타 맛집\n",
      "\n",
      "서울에는 다양한 파스타 레스토랑이 있습니다. 몇 가지 추천하는 맛집은 다음과 같습니다:\n",
      "\n",
      "1. **리틀 이태리 (Little Italy)** \n",
      "   - 주소: 서울특별시 강남구\n",
      "   - 특징: 정통 이탈리아식 파스타와 피자를 전문으로 하며, 아늑한 분위기가 매력적입니다.\n",
      "\n",
      "2. **파스타365**\n",
      "   - 주소: 서울특별시 마포구\n",
      "   - 특징: 매일 새롭게 변경되는 파스타 메뉴를 제공하며, 신선한 재료를 사용해 요리합니다.\n",
      "\n",
      "3. **오 마이 파스타 (Oh My Pasta)**\n",
      "   - 주소: 서울특별시 강남구\n",
      "   - 특징: 다양한 종류의 파스타와 소스를 선택할 수 있으며, 분위기가 좋고 데이트 장소로도 적합합니다.\n",
      "\n",
      "더 많은 정보는 [Tripadvisor](https://www.tripadvisor.co.kr/Restaurants-g294197-zfd10678-Seoul-Pasta.html)와 [Dining Code](https://www.diningcode.com/list.dc?query=%EC%84%9C%EC%9A%B8%20%ED%8C%8C%EC%8A%A4%ED%83%80)에서 확인하실 수 있습니다.\n"
     ]
    }
   ],
   "source": [
    "print(result.content)"
   ]
  },
  {
   "cell_type": "markdown",
   "metadata": {},
   "source": [
    "## Vector Store(Vector 저장소) tool\n",
    "\n",
    "### text loading -> Document 생성\n",
    "- 레스토랑 메뉴를 vector store에 저장한다.\n",
    "1. 메뉴 text 를 로딩한다.\n",
    "2. 각 메뉴의 내용(음식이름, 메뉴설명, 파일명)을 넣어 Document를 생성한다."
   ]
  },
  {
   "cell_type": "code",
   "execution_count": 19,
   "metadata": {},
   "outputs": [
    {
     "name": "stdout",
     "output_type": "stream",
     "text": [
      "1. 라따뚜이\n",
      "   - 가격: 17,000원\n",
      "   - 주요 재료: 가지, 호박, 파프리카, 토마토 소스, 올리브 오일\n",
      "   - 메뉴 설명: 프랑스 남부를 대표하는 전통 요리로, 신선한 채소를 얇게 썰어 층층이 쌓아 올리고 허브와 토마토 소스를 더해 구워냅니다. 채소 본연의 단맛과 상큼한 소스가 조화를 이룹니다. 비건 고객도 즐길 수 있는 건강한 메뉴입니다. 따뜻한 바게트와 함께 제공됩니다.\n",
      "\n",
      "2. 카르보나라\n",
      "   - 가격: 20,000원\n",
      "   - 주요 재료: 스파게티 면, 판체타, 달걀 노른자, 파르미지아노 치즈\n",
      "   - 메뉴 설명\n"
     ]
    }
   ],
   "source": [
    "menu_file_path = 'data/restaurant_menu.txt'\n",
    "with open(menu_file_path, 'rt', encoding=\"utf-8\") as fr:\n",
    "    menu = fr.read()\n",
    "\n",
    "print(menu[:300])"
   ]
  },
  {
   "cell_type": "code",
   "execution_count": 13,
   "metadata": {},
   "outputs": [
    {
     "data": {
      "text/plain": [
       "('1. ', '라따뚜이')"
      ]
     },
     "execution_count": 13,
     "metadata": {},
     "output_type": "execute_result"
    }
   ],
   "source": [
    "# menu_item = \"\"\"1. 라따뚜이\n",
    "#    - 가격: 17,000원\n",
    "#    - 주요 재료: 가지, 호박, 파프리카, 토마토 소스, 올리브 오일\n",
    "#    - 메뉴 설명: 프랑스 남부를 대표하는 전통 요리로, 신선한 채소를 얇게 썰어 층층이 쌓아 \"\"\"\n",
    "# import re\n",
    "# r = re.match(r\"(\\d+\\. )(\\w+)\", menu_item)\n",
    "# r.group(1), r.group(2)"
   ]
  },
  {
   "cell_type": "code",
   "execution_count": 26,
   "metadata": {},
   "outputs": [],
   "source": [
    "from langchain_core.documents import Document\n",
    "import re\n",
    "\n",
    "def menu_split(menu_all: str) -> list[Document]:\n",
    "    \"\"\"메뉴별로 나눠서 Document를 생성. Document metadata에 메뉴이름, 메뉴 번호를 추가\"\"\"\n",
    "    # split\n",
    "    menu_list = menu_all.split(\"\\n\\n\")\n",
    "    menu_document_list = [] # 결과를 담을 리스트\n",
    "    for i, menu_item in enumerate(menu_list):\n",
    "        menu_name = re.match(r\"(\\d+\\. )([\\w ]+)\", menu_item).group(2)\n",
    "        _doc = Document(\n",
    "            page_content=menu_item,\n",
    "            metadata={\n",
    "                \"menu_num\":i+1,\n",
    "                \"menu_name\":menu_name\n",
    "            }\n",
    "        )\n",
    "        menu_document_list.append(_doc)\n",
    "    return menu_document_list"
   ]
  },
  {
   "cell_type": "code",
   "execution_count": 25,
   "metadata": {},
   "outputs": [
    {
     "name": "stdout",
     "output_type": "stream",
     "text": [
      "15\n",
      "page_content='1. 라따뚜이\n",
      "   - 가격: 17,000원\n",
      "   - 주요 재료: 가지, 호박, 파프리카, 토마토 소스, 올리브 오일\n",
      "   - 메뉴 설명: 프랑스 남부를 대표하는 전통 요리로, 신선한 채소를 얇게 썰어 층층이 쌓아 올리고 허브와 토마토 소스를 더해 구워냅니다. 채소 본연의 단맛과 상큼한 소스가 조화를 이룹니다. 비건 고객도 즐길 수 있는 건강한 메뉴입니다. 따뜻한 바게트와 함께 제공됩니다.' metadata={'menu_num': 1, 'menu_name': '라따뚜이'}\n"
     ]
    }
   ],
   "source": [
    "document_list = menu_split(menu)\n",
    "print(len(document_list))\n",
    "print(document_list[0])"
   ]
  },
  {
   "cell_type": "markdown",
   "metadata": {},
   "source": [
    "### vector store(Chroma), Retriever 생성"
   ]
  },
  {
   "cell_type": "code",
   "execution_count": 27,
   "metadata": {},
   "outputs": [],
   "source": [
    "from langchain_chroma import Chroma\n",
    "from langchain_openai import OpenAIEmbeddings, ChatOpenAI\n",
    "from dotenv import load_dotenv\n",
    "load_dotenv()\n",
    "\n",
    "COLLECTION_NAME = \"restaurant_menu_2\"\n",
    "PERSIST_DIRECTORY = \"vector_store/restaurant_menu_db\"\n",
    "# DB 연결 하면서 Doc들 저장\n",
    "embedding_model = OpenAIEmbeddings(model='text-embedding-3-small')\n",
    "vector_store = Chroma.from_documents(\n",
    "    documents=document_list,\n",
    "    embedding=embedding_model,\n",
    "    collection_name=COLLECTION_NAME,\n",
    "    persist_directory=PERSIST_DIRECTORY\n",
    ")"
   ]
  },
  {
   "cell_type": "code",
   "execution_count": 28,
   "metadata": {},
   "outputs": [
    {
     "data": {
      "text/plain": [
       "[Document(metadata={'menu_name': '해산물 링귀니', 'menu_num': 9}, page_content='9. 해산물 링귀니\\n   - 가격: 24,000원\\n   - 주요 재료: 링귀니 면, 홍합, 새우, 오징어, 화이트 와인\\n   - 메뉴 설명: 신선한 해산물과 화이트 와인을 곁들여 만든 이탈리아 대표 파스타입니다. 면과 해산물이 풍부하게 어우러져 깊고 풍성한 맛을 자랑합니다. 바다의 풍미를 그대로 담은 특별한 메뉴입니다.'),\n",
       " Document(metadata={'menu_name': '바질 페스토 뇨끼', 'menu_num': 12}, page_content='12. 바질 페스토 뇨끼\\n    - 가격: 19,000원\\n    - 주요 재료: 감자 뇨끼, 바질 페스토, 파르미지아노 치즈\\n    - 메뉴 설명: 부드럽고 쫀득한 감자 뇨끼에 향긋한 바질 페스토를 곁들인 이탈리아 대표 요리입니다. 신선한 치즈와 허브가 요리의 맛을 풍부하게 만듭니다. 가벼운 식사로 적합합니다.'),\n",
       " Document(metadata={'menu_name': '트러플 피자', 'menu_num': 6}, page_content='6. 트러플 피자\\n   - 가격: 26,000원\\n   - 주요 재료: 트러플 오일, 모짜렐라 치즈, 얇은 피자 도우, 루꼴라\\n   - 메뉴 설명: 얇고 바삭한 도우 위에 고급 트러플 오일과 모짜렐라 치즈를 얹어 구워낸 피자입니다. 루꼴라를 더해 신선하고 고소한 맛이 특징입니다. 고급스러운 한 끼를 즐기기에 완벽한 선택입니다.'),\n",
       " Document(metadata={'menu_name': '부르기뇽 스튜', 'menu_num': 3}, page_content='3. 부르기뇽 스튜\\n   - 가격: 28,000원\\n   - 주요 재료: 쇠고기, 적포도주, 양파, 당근, 베이컨\\n   - 메뉴 설명: 프랑스 부르고뉴 지방에서 유래된 스튜 요리로, 고기를 적포도주와 함께 오랜 시간 푹 끓여 부드럽고 진한 풍미를 자랑합니다. 신선한 허브와 채소가 맛을 풍부하게 하고, 바게트와 함께 제공됩니다.')]"
      ]
     },
     "execution_count": 28,
     "metadata": {},
     "output_type": "execute_result"
    }
   ],
   "source": [
    "# 테스트\n",
    "ret = vector_store.as_retriever()\n",
    "ret.invoke(\"화이트 와인과 어울리는 요리를 추천해주세요.\")"
   ]
  },
  {
   "cell_type": "markdown",
   "metadata": {},
   "source": [
    "### Vector Store를 Tool로 정의"
   ]
  },
  {
   "cell_type": "code",
   "execution_count": 31,
   "metadata": {},
   "outputs": [],
   "source": [
    "from langchain_core.tools import tool\n",
    "\n",
    "COLLECTION_NAME = \"restaurant_menu_2\"\n",
    "PERSIST_DIRECTORY = \"vector_store/restaurant_menu_db\"\n",
    "# 연결\n",
    "embedding_model = OpenAIEmbeddings(model='text-embedding-3-small')\n",
    "v_store = Chroma(\n",
    "    embedding_function=embedding_model,\n",
    "    collection_name=COLLECTION_NAME,\n",
    "    persist_directory=PERSIST_DIRECTORY\n",
    ")\n",
    "retriver = v_store.as_retriever()\n",
    "\n",
    "@tool\n",
    "def search_menu(query:str) -> list[Document]:\n",
    "    \"\"\"\n",
    "    Vector Store에 저장된 restaurant의 메뉴를 검색한다. \n",
    "    이 도구는 restaurant의 메뉴 관련 질문에 대해 실행한다.\n",
    "    \"\"\"\n",
    "    result = retriver.invoke(query)\n",
    "    if len(result): #검색결과가 있다면\n",
    "        return result\n",
    "    else:\n",
    "        return [Document(page_content=\"검색 결과가 없습니다.\")]"
   ]
  },
  {
   "cell_type": "code",
   "execution_count": 35,
   "metadata": {},
   "outputs": [
    {
     "data": {
      "text/plain": [
       "[Document(metadata={'menu_name': '해산물 링귀니', 'menu_num': 9}, page_content='9. 해산물 링귀니\\n   - 가격: 24,000원\\n   - 주요 재료: 링귀니 면, 홍합, 새우, 오징어, 화이트 와인\\n   - 메뉴 설명: 신선한 해산물과 화이트 와인을 곁들여 만든 이탈리아 대표 파스타입니다. 면과 해산물이 풍부하게 어우러져 깊고 풍성한 맛을 자랑합니다. 바다의 풍미를 그대로 담은 특별한 메뉴입니다.'),\n",
       " Document(metadata={'menu_name': '트러플 피자', 'menu_num': 6}, page_content='6. 트러플 피자\\n   - 가격: 26,000원\\n   - 주요 재료: 트러플 오일, 모짜렐라 치즈, 얇은 피자 도우, 루꼴라\\n   - 메뉴 설명: 얇고 바삭한 도우 위에 고급 트러플 오일과 모짜렐라 치즈를 얹어 구워낸 피자입니다. 루꼴라를 더해 신선하고 고소한 맛이 특징입니다. 고급스러운 한 끼를 즐기기에 완벽한 선택입니다.'),\n",
       " Document(metadata={'menu_name': '부르기뇽 스튜', 'menu_num': 3}, page_content='3. 부르기뇽 스튜\\n   - 가격: 28,000원\\n   - 주요 재료: 쇠고기, 적포도주, 양파, 당근, 베이컨\\n   - 메뉴 설명: 프랑스 부르고뉴 지방에서 유래된 스튜 요리로, 고기를 적포도주와 함께 오랜 시간 푹 끓여 부드럽고 진한 풍미를 자랑합니다. 신선한 허브와 채소가 맛을 풍부하게 하고, 바게트와 함께 제공됩니다.'),\n",
       " Document(metadata={'menu_name': '밀라노풍 송아지 커틀렛', 'menu_num': 7}, page_content='7. 밀라노풍 송아지 커틀렛\\n   - 가격: 30,000원\\n   - 주요 재료: 송아지 고기, 빵가루, 파르미지아노 치즈, 루꼴라 샐러드\\n   - 메뉴 설명: 얇게 저민 송아지 고기를 바삭하게 튀겨 낸 이탈리아 전통 요리입니다. 레몬을 곁들여 고기의 풍미를 돋우며, 상큼한 루꼴라 샐러드가 함께 제공됩니다. 바삭한 식감과 부드러운 고기의 조화가 일품입니다.')]"
      ]
     },
     "execution_count": 35,
     "metadata": {},
     "output_type": "execute_result"
    }
   ],
   "source": [
    "search_menu.name\n",
    "search_menu.description\n",
    "search_menu.args_schema.model_json_schema()\n",
    "search_menu.invoke(\"해산물 요리를 추천해 주세요.\")"
   ]
  },
  {
   "cell_type": "code",
   "execution_count": null,
   "metadata": {},
   "outputs": [],
   "source": []
  },
  {
   "cell_type": "markdown",
   "metadata": {},
   "source": [
    "# Agent 구현\n",
    "\n",
    "- `create_tool_calling_agent()` 를 이용해 Agent 생성\n",
    "    - 파라미터\n",
    "        - llm: 에이전트로 사용할 LLM.\n",
    "        - tools: 에이전트가 접근할 수 있는 도구들의 목록.\n",
    "        - prompt: 에이전트의 동작을 안내하는 프롬프트 템플릿.\n",
    "- AgentExecutor를 이용해 Agent 실행\n",
    "    - Agent의 동작을 관리하는 클래스.\n",
    "    - AgentExecutor는 사용자 요청을 처리할 때 까지 적절한 tool들을 호출하고 최종 결과를 생성해 반환하는 작업을 처리한다.\n",
    "    - 파라미터\n",
    "        - agent: 실행할 Agent.\n",
    "        - tools: Agent가 사용할 tool들 목록."
   ]
  },
  {
   "cell_type": "code",
   "execution_count": 36,
   "metadata": {},
   "outputs": [],
   "source": [
    "# 계산기 Agent 생성\n",
    "## 1. tool 들\n",
    "from langchain_core.tools import tool\n",
    "@tool\n",
    "def plus(num1:int|float, num2:int|float) -> int|float:\n",
    "    \"\"\"두 수를 입력받아서 덧셈 계산한 결과를 반환하는 도구.\"\"\"\n",
    "    return num1 + num2\n",
    "\n",
    "@tool\n",
    "def minus(num1:int|float, num2:int|float) -> int|float:\n",
    "    \"\"\"두 수를 입력받아서 뺄셈셈 계산한 결과를 반환하는 도구.\"\"\"\n",
    "    return num1 - num2\n",
    "\n",
    "@tool\n",
    "def multiply(num1:int|float, num2:int|float) -> int|float:\n",
    "    \"\"\"두 수를 입력받아서 곱곱셈 계산한 결과를 반환하는 도구.\"\"\"\n",
    "    return num1 * num2\n",
    "\n",
    "@tool\n",
    "def divide(num1:int|float, num2:int|float) -> int|float:\n",
    "    \"\"\"두 수를 입력받아서 나눗셈 계산한 결과를 반환하는 도구.\"\"\"\n",
    "    return num1 / num2\n",
    "\n",
    "toolkit = [plus, minus, multiply, divide]"
   ]
  },
  {
   "cell_type": "code",
   "execution_count": 42,
   "metadata": {},
   "outputs": [],
   "source": [
    "from langchain.agents import create_tool_calling_agent, AgentExecutor\n",
    "from langchain.prompts import ChatPromptTemplate, MessagesPlaceholder\n",
    "from langchain_openai import ChatOpenAI\n",
    "from textwrap import dedent\n",
    "from dotenv import load_dotenv\n",
    "load_dotenv()\n",
    "\n",
    "model = ChatOpenAI(model=\"gpt-4o-mini\")  # Agent에서는 LLM 모델을 성능 좋은 것을 사용해야 한다.\n",
    "\n",
    "# 1. Agent가 어떤 일을 하는지 설명을 추가. - system message\n",
    "# 2. MessagesPlaceholder:  \"agent_scratchpad\" 이름으로 추가. -> 호출된 tool이 반환한 ToolMessage를 추가할 placeholder\n",
    "prompt_template = ChatPromptTemplate([\n",
    "        (\"system\", dedent(\"\"\"\n",
    "                당신은 계산기 Agent입니다. 사칙연산을 할 수있는 tool들을 가지고 있습니다.\n",
    "                두개의 수들을 받아서 사칙연산하는 작업은 toolkit의 plus, minus, multipy, divide tool을 사용합니다.\n",
    "                연산이 복잡한 경우는 단계적으로 나눠서 계산하도록 합니다.\n",
    "        \"\"\")),\n",
    "        (\"human\", \"{query}\"),\n",
    "        MessagesPlaceholder(variable_name=\"agent_scratchpad\")\n",
    "    ]\n",
    ")\n",
    "\n",
    "# Agent를 생성\n",
    "agent = create_tool_calling_agent(\n",
    "    model, toolkit, prompt_template\n",
    ")\n",
    "# Agent를 실행시켜 주는 객체를 생성 - AgentExecuter\n",
    "agent_executor = AgentExecutor(\n",
    "    agent=agent,\n",
    "    tools=toolkit,\n",
    "    verbose=True  # LLM 실행하는 단계를 log로 출력.\n",
    ")"
   ]
  },
  {
   "cell_type": "code",
   "execution_count": 46,
   "metadata": {},
   "outputs": [
    {
     "name": "stdout",
     "output_type": "stream",
     "text": [
      "\n",
      "\n",
      "\u001b[1m> Entering new AgentExecutor chain...\u001b[0m\n",
      "\u001b[32;1m\u001b[1;3m\n",
      "Invoking: `minus` with `{'num1': 3, 'num2': 2}`\n",
      "\n",
      "\n",
      "\u001b[0m\u001b[33;1m\u001b[1;3m1\u001b[0m\u001b[32;1m\u001b[1;3m\n",
      "Invoking: `plus` with `{'num1': 1, 'num2': 10}`\n",
      "\n",
      "\n",
      "\u001b[0m\u001b[36;1m\u001b[1;3m11\u001b[0m\u001b[32;1m\u001b[1;3m사과가 3개 중 2개를 먹어서 1개가 남았고, 10개를 더 사와서 총 11개가 남았습니다.\u001b[0m\n",
      "\n",
      "\u001b[1m> Finished chain.\u001b[0m\n"
     ]
    },
    {
     "data": {
      "text/plain": [
       "{'query': '사과가 3개 있는데 그 중 2개를 먹었다. 그리고 10개를 더 사왔다. 그럼 몇개가 남았을까?',\n",
       " 'output': '사과가 3개 중 2개를 먹어서 1개가 남았고, 10개를 더 사와서 총 11개가 남았습니다.'}"
      ]
     },
     "execution_count": 46,
     "metadata": {},
     "output_type": "execute_result"
    }
   ],
   "source": [
    "## 실행 - agent_executor를 chain 처럼 호출 한다.\n",
    "### agent결과 {input, output}\n",
    "query = \"3 + 2 = \"\n",
    "query = \"사과가 3개 있는데 그 중 2개를 먹었다. 몇개가 남았을까?\"\n",
    "query = \"사과가 3개 있는데 그 중 2개를 먹었다. 그리고 10개를 더 사왔다. 그럼 몇개가 남았을까?\"\n",
    "# query = \"사람이 총 12명 있고 방은 3개 있다. 한 방에 몇명씩 들어가면 될까요?\"\n",
    "agent_executor.invoke({\"query\":query})"
   ]
  },
  {
   "cell_type": "markdown",
   "metadata": {},
   "source": []
  },
  {
   "cell_type": "code",
   "execution_count": 1,
   "metadata": {},
   "outputs": [
    {
     "data": {
      "text/plain": [
       "True"
      ]
     },
     "execution_count": 1,
     "metadata": {},
     "output_type": "execute_result"
    }
   ],
   "source": [
    "from tools import search_menu, search_web, search_wiki\n",
    "from langchain.agents import create_tool_calling_agent, AgentExecutor\n",
    "from langchain.prompts import ChatPromptTemplate, MessagesPlaceholder\n",
    "from langchain_openai import ChatOpenAI\n",
    "from textwrap import dedent\n",
    "from dotenv import load_dotenv\n",
    "\n",
    "load_dotenv()"
   ]
  },
  {
   "cell_type": "code",
   "execution_count": 7,
   "metadata": {},
   "outputs": [],
   "source": [
    "model = ChatOpenAI(model=\"gpt-4o-mini\")\n",
    "prompt_template = ChatPromptTemplate(\n",
    "    [   (\"system\", dedent(\"\"\"\n",
    "            당신은 레스토랑 메뉴 정보와 일반적인 음식 관련 지식을 제공하는 AI Agent입니다. \n",
    "            주요 목표는 사용자의 요청에 대한 정확한 정보를 제공하고 메뉴를 추천하는 것입니다.\n",
    "            \n",
    "            주요 지침들(guidelines):\n",
    "            1. 레스토랑의 메뉴관련 정보를 확인하려면 search_menu 도구를 사용하십시오. 이 도구는 레스토랑의 메뉴들의 가격, 음식의 특징들에 대한 정보를 제공합니다.\n",
    "            2. 일반적인 음식 정보, 그 음식의 유래, 문화적 배경에 대한 정보는 search_wiki 도구를 사용하십시오. 이 도구는 wikipedia 에서 정보를 검색해서 제공합니다.\n",
    "            3. 추가적인 웹 검색이 필요하거나 최신 정보를 얻고 싶을 때는 search_web 도구를 사용하십시오. 이 도구는 인터넷 검색을 통해 정보를 검색해서 제공합니다.\n",
    "            4. 검색 결과를 기반으로 명확하고 간결한 답변을 제공하십시오.\n",
    "            5. 요청 받은 질문이 모호하거나 필요한 정보가 부족한 경우 정중하게 설명을 요청하세요.\n",
    "            6. 메뉴 정보를 제공할 때는 가격, 주재료, 특징 순으로 설명하세요\n",
    "            7. 메뉴를 추천 할 때는 간단하게 추천 이유를 설명해주세요.\n",
    "            8. 최종 응답은 챗봇과 같은 대화형 스타일을 유지하세요. 친근하고 매력적이며 자연스럽게 소통하되 전문성을 보이는 어조를 유지하세요.\n",
    "            9. 메뉴 추천은 반드시 search_menu 도구를 통해 검색한 메뉴안에서만 추천해주세요.\n",
    "\n",
    "            각 도구의 목적과 기능을 정확하게 이해하고 각 적절한 상황에서 사용하세요.\n",
    "            각 도구들을 결합해서 사용자의 요청에 정확한 대답을 하세요.\n",
    "            항상 가장 최신의 정확한 정보를 제공하기 위해 노력하세요.\n",
    "            \"\"\")\n",
    "        ),\n",
    "        (\"human\", \"{query}\"),\n",
    "        MessagesPlaceholder(variable_name=\"agent_scratchpad\")\n",
    "    ]\n",
    ")\n",
    "\n",
    "agent = create_tool_calling_agent(\n",
    "    llm=model,\n",
    "    tools=[search_web, search_wiki, search_menu],\n",
    "    prompt=prompt_template\n",
    ")\n",
    "\n",
    "agent_executor = AgentExecutor(\n",
    "    agent=agent,\n",
    "    tools=[search_web, search_wiki, search_menu],\n",
    "    verbose=True\n",
    ")"
   ]
  },
  {
   "cell_type": "code",
   "execution_count": 8,
   "metadata": {},
   "outputs": [
    {
     "name": "stdout",
     "output_type": "stream",
     "text": [
      "\n",
      "\n",
      "\u001b[1m> Entering new AgentExecutor chain...\u001b[0m\n",
      "\u001b[32;1m\u001b[1;3m\n",
      "Invoking: `search_menu` with `{'query': '레드 와인과 어울리는 메뉴'}`\n",
      "\n",
      "\n",
      "\u001b[0m\u001b[38;5;200m\u001b[1;3m[Document(metadata={'menu_name': '레몬 타르트', 'menu_num': 15}, page_content='15. 레몬 타르트\\n    - 가격: 9,000원\\n    - 주요 재료: 레몬 커드, 타르트 크러스트, 슈거 파우더\\n    - 메뉴 설명: 상큼한 레몬 커드와 바삭한 타르트 크러스트가 완벽한 조화를 이루는 디저트입니다. 달콤한 맛과 상큼한 맛이 균형을 이루며, 가볍게 즐기기 좋은 메뉴입니다. 애프터눈 티와 잘 어울립니다.'), Document(metadata={'menu_name': '해산물 링귀니', 'menu_num': 9}, page_content='9. 해산물 링귀니\\n   - 가격: 24,000원\\n   - 주요 재료: 링귀니 면, 홍합, 새우, 오징어, 화이트 와인\\n   - 메뉴 설명: 신선한 해산물과 화이트 와인을 곁들여 만든 이탈리아 대표 파스타입니다. 면과 해산물이 풍부하게 어우러져 깊고 풍성한 맛을 자랑합니다. 바다의 풍미를 그대로 담은 특별한 메뉴입니다.'), Document(metadata={'menu_name': '니스 샐러드', 'menu_num': 4}, page_content='4. 니스 샐러드\\n   - 가격: 18,000원\\n   - 주요 재료: 참치, 방울토마토, 올리브, 삶은 달걀, 그린빈\\n   - 메뉴 설명: 프랑스 니스 지방의 상큼한 샐러드로, 다양한 채소와 참치를 사용해 풍성한 맛과 식감을 제공합니다. 발사믹 비네거 드레싱이 가미되어 가볍게 즐기기 좋은 요리입니다. 신선함과 영양을 동시에 잡은 메뉴입니다.'), Document(metadata={'menu_name': '크렘 브륄레', 'menu_num': 14}, page_content='14. 크렘 브륄레\\n    - 가격: 11,000원\\n    - 주요 재료: 크림, 설탕, 바닐라 빈, 달걀 노른자\\n    - 메뉴 설명: 부드러운 크림 베이스 위에 바삭한 캐러멜 층이 올라간 프랑스 디저트입니다. 숟가락으로 캐러멜을 부수며 즐기는 식감이 매력적입니다. 부드럽고 달콤한 맛이 입안을 가득 채웁니다.')]\u001b[0m\u001b[32;1m\u001b[1;3m\n",
      "Invoking: `search_wiki` with `{'query': '해산물 링귀니 레시피', 'max_results': 2}`\n",
      "\n",
      "\n",
      "\u001b[0m\u001b[33;1m\u001b[1;3m[]\u001b[0m\u001b[32;1m\u001b[1;3m레드 와인과 잘 어울리는 메뉴로 **해산물 링귀니**를 추천드립니다. 이 메뉴는 신선한 해산물과 화이트 와인을 곁들여 만든 이탈리아 대표 파스타로, 깊고 풍성한 맛이 특징입니다. 가격은 24,000원이며, 주요 재료는 링귀니 면, 홍합, 새우, 오징어, 화이트 와인입니다.\n",
      "\n",
      "해산물 링귀니의 레시피는 아래와 같습니다:\n",
      "\n",
      "### 해산물 링귀니 레시피\n",
      "\n",
      "**재료:**\n",
      "- 링귀니 면 250g\n",
      "- 홍합 200g\n",
      "- 새우 200g\n",
      "- 오징어 100g (슬라이스)\n",
      "- 화이트 와인 100ml\n",
      "- 마늘 2쪽 (다진 것)\n",
      "- 올리브 오일 2큰술\n",
      "- 소금, 후추 (간 맞추기)\n",
      "- 파슬리 (장식용)\n",
      "\n",
      "**조리 방법:**\n",
      "1. **면 삶기:** 큰 냄비에 물을 끓이고 소금을 넣은 후 링귀니 면을 알 덴테로 삶아줍니다. 삶은 후 체에 걸러 물기를 제거합니다.\n",
      "2. **해산물 준비:** 팬에 올리브 오일을 두르고 다진 마늘을 넣어 볶아 향을 내줍니다.\n",
      "3. **해산물 조리:** 마늘이 노릇해지면 홍합, 새우, 오징어를 넣고 볶습니다. 해산물이 익으면 화이트 와인을 추가하고 알콜이 날아가도록 몇 분간 끓입니다.\n",
      "4. **혼합하기:** 삶은 링귀니를 팬에 넣고 잘 섞어줍니다. 필요에 따라 소금과 후추로 간을 맞춥니다.\n",
      "5. **서빙:** 접시에 담고 파슬리로 장식하여 제공합니다.\n",
      "\n",
      "레드 와인의 풍미와 잘 어울리는 해산물 링귀니를 즐겨보세요! 궁금한 점이 있으면 언제든지 물어보세요.\u001b[0m\n",
      "\n",
      "\u001b[1m> Finished chain.\u001b[0m\n"
     ]
    }
   ],
   "source": [
    "query = \"레드 와인에 잘 어울리는 메뉴를 추천해 주세요. 추천한 음식의 레시피를 알려주세요.\"\n",
    "result = agent_executor.invoke({\"query\":query})"
   ]
  },
  {
   "cell_type": "code",
   "execution_count": 5,
   "metadata": {},
   "outputs": [
    {
     "data": {
      "text/plain": [
       "dict_keys(['query', 'output'])"
      ]
     },
     "execution_count": 5,
     "metadata": {},
     "output_type": "execute_result"
    }
   ],
   "source": [
    "result.keys()"
   ]
  },
  {
   "cell_type": "code",
   "execution_count": 9,
   "metadata": {},
   "outputs": [
    {
     "data": {
      "text/plain": [
       "'레드 와인에 잘 어울리는 메뉴를 추천해 주세요. 추천한 음식의 레시피를 알려주세요.'"
      ]
     },
     "execution_count": 9,
     "metadata": {},
     "output_type": "execute_result"
    }
   ],
   "source": [
    "result['query']"
   ]
  },
  {
   "cell_type": "code",
   "execution_count": 10,
   "metadata": {},
   "outputs": [
    {
     "name": "stdout",
     "output_type": "stream",
     "text": [
      "레드 와인과 잘 어울리는 메뉴로 **해산물 링귀니**를 추천드립니다. 이 메뉴는 신선한 해산물과 화이트 와인을 곁들여 만든 이탈리아 대표 파스타로, 깊고 풍성한 맛이 특징입니다. 가격은 24,000원이며, 주요 재료는 링귀니 면, 홍합, 새우, 오징어, 화이트 와인입니다.\n",
      "\n",
      "해산물 링귀니의 레시피는 아래와 같습니다:\n",
      "\n",
      "### 해산물 링귀니 레시피\n",
      "\n",
      "**재료:**\n",
      "- 링귀니 면 250g\n",
      "- 홍합 200g\n",
      "- 새우 200g\n",
      "- 오징어 100g (슬라이스)\n",
      "- 화이트 와인 100ml\n",
      "- 마늘 2쪽 (다진 것)\n",
      "- 올리브 오일 2큰술\n",
      "- 소금, 후추 (간 맞추기)\n",
      "- 파슬리 (장식용)\n",
      "\n",
      "**조리 방법:**\n",
      "1. **면 삶기:** 큰 냄비에 물을 끓이고 소금을 넣은 후 링귀니 면을 알 덴테로 삶아줍니다. 삶은 후 체에 걸러 물기를 제거합니다.\n",
      "2. **해산물 준비:** 팬에 올리브 오일을 두르고 다진 마늘을 넣어 볶아 향을 내줍니다.\n",
      "3. **해산물 조리:** 마늘이 노릇해지면 홍합, 새우, 오징어를 넣고 볶습니다. 해산물이 익으면 화이트 와인을 추가하고 알콜이 날아가도록 몇 분간 끓입니다.\n",
      "4. **혼합하기:** 삶은 링귀니를 팬에 넣고 잘 섞어줍니다. 필요에 따라 소금과 후추로 간을 맞춥니다.\n",
      "5. **서빙:** 접시에 담고 파슬리로 장식하여 제공합니다.\n",
      "\n",
      "레드 와인의 풍미와 잘 어울리는 해산물 링귀니를 즐겨보세요! 궁금한 점이 있으면 언제든지 물어보세요.\n"
     ]
    }
   ],
   "source": [
    "print(result['output'])"
   ]
  }
 ],
 "metadata": {
  "kernelspec": {
   "display_name": "langchain",
   "language": "python",
   "name": "python3"
  },
  "language_info": {
   "codemirror_mode": {
    "name": "ipython",
    "version": 3
   },
   "file_extension": ".py",
   "mimetype": "text/x-python",
   "name": "python",
   "nbconvert_exporter": "python",
   "pygments_lexer": "ipython3",
   "version": "3.12.7"
  }
 },
 "nbformat": 4,
 "nbformat_minor": 4
}
