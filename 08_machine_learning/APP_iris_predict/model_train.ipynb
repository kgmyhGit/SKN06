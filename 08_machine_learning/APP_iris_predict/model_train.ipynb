{
 "cells": [
  {
   "cell_type": "code",
   "execution_count": 1,
   "metadata": {},
   "outputs": [],
   "source": [
    "from sklearn.datasets import load_iris\n",
    "from sklearn.model_selection import train_test_split\n",
    "from sklearn.linear_model import LogisticRegression\n",
    "from sklearn.tree import DecisionTreeClassifier\n",
    "from sklearn.ensemble import RandomForestClassifier\n",
    "from sklearn.metrics import accuracy_score\n",
    "import pickle"
   ]
  },
  {
   "cell_type": "code",
   "execution_count": 9,
   "metadata": {},
   "outputs": [],
   "source": [
    "iris = load_iris()\n",
    "X, y = iris.data, iris.target\n",
    "\n",
    "X_train, X_test, y_train, y_test = train_test_split(X, y, test_size=0.25, random_state=0)"
   ]
  },
  {
   "cell_type": "code",
   "execution_count": 12,
   "metadata": {},
   "outputs": [
    {
     "name": "stdout",
     "output_type": "stream",
     "text": [
      "Train set Accuracy: 0.9642857142857143\n",
      "Test set Accuracy: 0.9736842105263158\n"
     ]
    }
   ],
   "source": [
    "# Initialize the models\n",
    "model = RandomForestClassifier(n_estimators=100, max_depth=2, random_state=0)\n",
    "model.fit(X_train, y_train)\n",
    "\n",
    "# Validate on the training set\n",
    "pred_train = model.predict(X_train)\n",
    "train_acc = accuracy_score(y_train, pred_train)\n",
    "print(f\"Train set Accuracy: {train_acc}\")\n",
    "\n",
    "pred_test = model.predict(X_test)\n",
    "test_acc = accuracy_score(y_test, pred_test)\n",
    "print(f\"Test set Accuracy: {test_acc}\")\n"
   ]
  },
  {
   "cell_type": "code",
   "execution_count": 26,
   "metadata": {},
   "outputs": [
    {
     "name": "stdout",
     "output_type": "stream",
     "text": [
      "models/iri_rfc.pkl\n"
     ]
    }
   ],
   "source": [
    "import json\n",
    "with open(\"config.json\", \"r\") as f:\n",
    "    config = json.load(f)\n",
    "model_path = config[\"model_path\"]\n",
    "print(model_path)"
   ]
  },
  {
   "cell_type": "code",
   "execution_count": 27,
   "metadata": {},
   "outputs": [],
   "source": [
    "with open(model_path, 'wb') as fo:\n",
    "    pickle.dump(model, fo)"
   ]
  },
  {
   "cell_type": "code",
   "execution_count": 29,
   "metadata": {},
   "outputs": [
    {
     "name": "stdout",
     "output_type": "stream",
     "text": [
      "Loaded Model Test set Accuracy: 0.9736842105263158\n"
     ]
    }
   ],
   "source": [
    "with open(model_path, 'rb') as fi:\n",
    "    loaded_model = pickle.load(fi)\n",
    "\n",
    "loaded_pred_test = loaded_model.predict(X_test)\n",
    "\n",
    "loaded_test_acc = accuracy_score(y_test, loaded_pred_test)\n",
    "print(f\"Loaded Model Test set Accuracy: {loaded_test_acc}\")"
   ]
  },
  {
   "cell_type": "code",
   "execution_count": 38,
   "metadata": {},
   "outputs": [
    {
     "data": {
      "text/plain": [
       "(array([5.8, 2.8, 5.1, 2.4]), np.int64(2))"
      ]
     },
     "execution_count": 38,
     "metadata": {},
     "output_type": "execute_result"
    }
   ],
   "source": [
    "X_test[0], y_test[0]"
   ]
  }
 ],
 "metadata": {
  "kernelspec": {
   "display_name": "Python 3 (ipykernel)",
   "language": "python",
   "name": "python3"
  },
  "language_info": {
   "codemirror_mode": {
    "name": "ipython",
    "version": 3
   },
   "file_extension": ".py",
   "mimetype": "text/x-python",
   "name": "python",
   "nbconvert_exporter": "python",
   "pygments_lexer": "ipython3",
   "version": "3.12.7"
  }
 },
 "nbformat": 4,
 "nbformat_minor": 4
}
