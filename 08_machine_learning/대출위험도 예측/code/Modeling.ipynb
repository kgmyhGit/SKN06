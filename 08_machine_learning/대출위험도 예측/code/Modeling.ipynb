{
 "cells": [
  {
   "cell_type": "code",
   "execution_count": 1,
   "metadata": {},
   "outputs": [],
   "source": [
    "import warnings\n",
    "warnings.filterwarnings(action='ignore')"
   ]
  },
  {
   "cell_type": "code",
   "execution_count": 2,
   "metadata": {},
   "outputs": [],
   "source": [
    "import pandas as pd\n",
    "import numpy as np\n",
    "import matplotlib.pyplot as plt\n",
    "\n",
    "np.random.seed(0)\n",
    "## 한글 처리\n",
    "plt.rcParams['font.family'] = 'malgun gothic'\n",
    "plt.rcParams['axes.unicode_minus'] = False"
   ]
  },
  {
   "cell_type": "markdown",
   "metadata": {},
   "source": [
    "# 데이터셋 읽기"
   ]
  },
  {
   "cell_type": "code",
   "execution_count": 3,
   "metadata": {},
   "outputs": [
    {
     "data": {
      "text/plain": [
       "(150000, 12)"
      ]
     },
     "execution_count": 3,
     "metadata": {},
     "output_type": "execute_result"
    }
   ],
   "source": [
    "data = pd.read_csv('data/cs_data.csv')\n",
    "data.shape"
   ]
  },
  {
   "cell_type": "markdown",
   "metadata": {},
   "source": [
    "# EDA\n",
    "- 데이터셋의 특성을 파악하기 위해 EDA를 진행한다.\n",
    "- EDA를 통해 데이터셋의 분포, 결측치, 이상치 등을 확인한다.\n",
    "- 데이터셋의 특성을 파악한 후, 모델링을 진행하기 위한 전처리 방향을 설정한다.\n",
    "- EDA는 전체 데이터셋을 대상으로 진행합니다."
   ]
  },
  {
   "cell_type": "code",
   "execution_count": 4,
   "metadata": {},
   "outputs": [
    {
     "name": "stdout",
     "output_type": "stream",
     "text": [
      "<class 'pandas.core.frame.DataFrame'>\n",
      "RangeIndex: 150000 entries, 0 to 149999\n",
      "Data columns (total 12 columns):\n",
      " #   Column                                Non-Null Count   Dtype  \n",
      "---  ------                                --------------   -----  \n",
      " 0   Unnamed: 0                            150000 non-null  int64  \n",
      " 1   SeriousDlqin2yrs                      150000 non-null  int64  \n",
      " 2   RevolvingUtilizationOfUnsecuredLines  150000 non-null  float64\n",
      " 3   age                                   150000 non-null  int64  \n",
      " 4   NumberOfTime30-59DaysPastDueNotWorse  150000 non-null  int64  \n",
      " 5   DebtRatio                             150000 non-null  float64\n",
      " 6   MonthlyIncome                         120269 non-null  float64\n",
      " 7   NumberOfOpenCreditLinesAndLoans       150000 non-null  int64  \n",
      " 8   NumberOfTimes90DaysLate               150000 non-null  int64  \n",
      " 9   NumberRealEstateLoansOrLines          150000 non-null  int64  \n",
      " 10  NumberOfTime60-89DaysPastDueNotWorse  150000 non-null  int64  \n",
      " 11  NumberOfDependents                    146076 non-null  float64\n",
      "dtypes: float64(4), int64(8)\n",
      "memory usage: 13.7 MB\n"
     ]
    }
   ],
   "source": [
    "data.info()"
   ]
  },
  {
   "cell_type": "code",
   "execution_count": 5,
   "metadata": {},
   "outputs": [],
   "source": [
    "# info() 확인: 1번 컬럼(index가 저장된 컬럼) 삭제\n",
    "data = data.drop(data.columns[0], axis=1)"
   ]
  },
  {
   "cell_type": "code",
   "execution_count": 6,
   "metadata": {},
   "outputs": [
    {
     "name": "stdout",
     "output_type": "stream",
     "text": [
      "<class 'pandas.core.frame.DataFrame'>\n",
      "RangeIndex: 150000 entries, 0 to 149999\n",
      "Data columns (total 11 columns):\n",
      " #   Column                                Non-Null Count   Dtype  \n",
      "---  ------                                --------------   -----  \n",
      " 0   SeriousDlqin2yrs                      150000 non-null  int64  \n",
      " 1   RevolvingUtilizationOfUnsecuredLines  150000 non-null  float64\n",
      " 2   age                                   150000 non-null  int64  \n",
      " 3   NumberOfTime30-59DaysPastDueNotWorse  150000 non-null  int64  \n",
      " 4   DebtRatio                             150000 non-null  float64\n",
      " 5   MonthlyIncome                         120269 non-null  float64\n",
      " 6   NumberOfOpenCreditLinesAndLoans       150000 non-null  int64  \n",
      " 7   NumberOfTimes90DaysLate               150000 non-null  int64  \n",
      " 8   NumberRealEstateLoansOrLines          150000 non-null  int64  \n",
      " 9   NumberOfTime60-89DaysPastDueNotWorse  150000 non-null  int64  \n",
      " 10  NumberOfDependents                    146076 non-null  float64\n",
      "dtypes: float64(4), int64(7)\n",
      "memory usage: 12.6 MB\n"
     ]
    }
   ],
   "source": [
    "data.info()"
   ]
  },
  {
   "cell_type": "markdown",
   "metadata": {},
   "source": [
    "- 컬럼이름 이해하기 쉽게 변경한다.\n",
    "    - 컬럼명이 약어로 되어있거나, 이해하기 어려운 경우 컬럼명을 변경한다.\n",
    "    - 대소문자가 섞여 있는 경우 하나로 통일한다."
   ]
  },
  {
   "cell_type": "code",
   "execution_count": 7,
   "metadata": {},
   "outputs": [
    {
     "data": {
      "text/plain": [
       "Index(['seriousdlqin2yrs', 'revolvingutilizationofunsecuredlines', 'age',\n",
       "       'numberoftime30-59dayspastduenotworse', 'debtratio', 'monthlyincome',\n",
       "       'numberofopencreditlinesandloans', 'numberoftimes90dayslate',\n",
       "       'numberrealestateloansorlines', 'numberoftime60-89dayspastduenotworse',\n",
       "       'numberofdependents'],\n",
       "      dtype='object')"
      ]
     },
     "execution_count": 7,
     "metadata": {},
     "output_type": "execute_result"
    }
   ],
   "source": [
    "# 컬럼명을 모두 소문자로 변경\n",
    "data.columns = data.columns.str.lower() # str accessor 사용해서 일괄처리\n",
    "data.columns"
   ]
  },
  {
   "cell_type": "markdown",
   "metadata": {},
   "source": [
    "## Target 분포 확인"
   ]
  },
  {
   "cell_type": "code",
   "execution_count": 8,
   "metadata": {},
   "outputs": [
    {
     "name": "stdout",
     "output_type": "stream",
     "text": [
      "--개수--------------\n",
      "seriousdlqin2yrs\n",
      "0    139974\n",
      "1     10026\n",
      "Name: count, dtype: int64\n",
      "--비율--------------\n",
      "seriousdlqin2yrs\n",
      "0    0.93316\n",
      "1    0.06684\n",
      "Name: proportion, dtype: float64\n"
     ]
    }
   ],
   "source": [
    "print(\"--개수--------------\")\n",
    "print(data['seriousdlqin2yrs'].value_counts())\n",
    "print(\"--비율--------------\")\n",
    "print(data['seriousdlqin2yrs'].value_counts(normalize=True))"
   ]
  },
  {
   "cell_type": "code",
   "execution_count": 9,
   "metadata": {},
   "outputs": [
    {
     "data": {
      "image/png": "[encoded data removed]",
      "text/plain": [
       "<Figure size 640x480 with 1 Axes>"
      ]
     },
     "metadata": {},
     "output_type": "display_data"
    }
   ],
   "source": [
    "data['seriousdlqin2yrs'].value_counts().plot(kind='bar', color=['skyblue', 'lightcoral']);"
   ]
  },
  {
   "cell_type": "markdown",
   "metadata": {},
   "source": [
    "## 결측치"
   ]
  },
  {
   "cell_type": "code",
   "execution_count": 10,
   "metadata": {},
   "outputs": [
    {
     "data": {
      "text/plain": [
       "seriousdlqin2yrs                            0\n",
       "revolvingutilizationofunsecuredlines        0\n",
       "age                                         0\n",
       "numberoftime30-59dayspastduenotworse        0\n",
       "debtratio                                   0\n",
       "monthlyincome                           29731\n",
       "numberofopencreditlinesandloans             0\n",
       "numberoftimes90dayslate                     0\n",
       "numberrealestateloansorlines                0\n",
       "numberoftime60-89dayspastduenotworse        0\n",
       "numberofdependents                       3924\n",
       "dtype: int64"
      ]
     },
     "execution_count": 10,
     "metadata": {},
     "output_type": "execute_result"
    }
   ],
   "source": [
    "## 확인\n",
    "data.isna().sum()"
   ]
  },
  {
   "cell_type": "code",
   "execution_count": 11,
   "metadata": {},
   "outputs": [
    {
     "data": {
      "text/plain": [
       "seriousdlqin2yrs                        0.000000\n",
       "revolvingutilizationofunsecuredlines    0.000000\n",
       "age                                     0.000000\n",
       "numberoftime30-59dayspastduenotworse    0.000000\n",
       "debtratio                               0.000000\n",
       "monthlyincome                           0.198207\n",
       "numberofopencreditlinesandloans         0.000000\n",
       "numberoftimes90dayslate                 0.000000\n",
       "numberrealestateloansorlines            0.000000\n",
       "numberoftime60-89dayspastduenotworse    0.000000\n",
       "numberofdependents                      0.026160\n",
       "dtype: float64"
      ]
     },
     "execution_count": 11,
     "metadata": {},
     "output_type": "execute_result"
    }
   ],
   "source": [
    "data.isna().mean()"
   ]
  },
  {
   "cell_type": "markdown",
   "metadata": {},
   "source": [
    "### 결측치 처리 방법\n",
    "\n",
    "- monthlyincome: 중앙값 대체\n",
    "- numberofdependents: 최빈값(0)으로 대체"
   ]
  },
  {
   "cell_type": "code",
   "execution_count": 12,
   "metadata": {},
   "outputs": [
    {
     "data": {
      "image/png": "[encoded data removed]",
      "text/plain": [
       "<Figure size 640x480 with 1 Axes>"
      ]
     },
     "metadata": {},
     "output_type": "display_data"
    }
   ],
   "source": [
    "## monthlyincome 확인\n",
    "### 값들이 앞에 몰려있다. (왼쪽으로 치우쳐져 있다.) 중앙값으로 대체\n",
    "data['monthlyincome'].hist(bins=20, color='skyblue');"
   ]
  },
  {
   "cell_type": "code",
   "execution_count": 13,
   "metadata": {},
   "outputs": [
    {
     "data": {
      "text/plain": [
       "numberofdependents\n",
       "0.0     86902\n",
       "1.0     26316\n",
       "2.0     19522\n",
       "3.0      9483\n",
       "4.0      2862\n",
       "5.0       746\n",
       "6.0       158\n",
       "7.0        51\n",
       "8.0        24\n",
       "10.0        5\n",
       "9.0         5\n",
       "20.0        1\n",
       "13.0        1\n",
       "Name: count, dtype: int64"
      ]
     },
     "execution_count": 13,
     "metadata": {},
     "output_type": "execute_result"
    }
   ],
   "source": [
    "## numberofdependents 확인\n",
    "### 대부분이 0이다. 최빈값 0으로 대체\n",
    "data['numberofdependents'].value_counts()"
   ]
  },
  {
   "cell_type": "markdown",
   "metadata": {},
   "source": [
    "## 이상치\n",
    "\n",
    "### 이상치 확인"
   ]
  },
  {
   "cell_type": "code",
   "execution_count": 14,
   "metadata": {},
   "outputs": [],
   "source": [
    "# IQR 기반으로 Outlier 값 조회 메소드\n",
    "\n",
    "def is_outlier(data, whis=1.5):\n",
    "    \"\"\"\n",
    "    IQR 기반으로 Outlier 값 조회 메소드\n",
    "    parameter\n",
    "        data: outlier를 찾을 데이터\n",
    "        whis: IQR에 몇배를 극단치 계산에 사용할 지 비율. rate를 크게하면 outlier범위를 넓게 잡는다. 작게 주면 범위를 좁게 잡는다.\n",
    "    return\n",
    "        bool type ndarray: 각 원소별 outlier 여부 (True: Outlier(이상치), False: 정상범위값)\n",
    "    \"\"\"\n",
    "    q1 = np.quantile(data, q=0.25)\n",
    "    q3 = np.quantile(data, q=0.75)\n",
    "    IQR = q3 - q1\n",
    "    return (data < q1 - IQR * whis) | (data > q3 + IQR * whis)\n",
    "\n",
    "\n",
    "def get_normal_range(data, whis=1.5):\n",
    "    \"\"\"\n",
    "    IQR 기반으로 정상범위 조회 메소드\n",
    "    parameter\n",
    "        data: 조회할 대상 데이터\n",
    "        whis: IQR에 몇배를 극단치 계산에 사용할 지 비율. rate를 크게하면 outlier범위를 넓게 잡는다. 작게 주면 범위를 좁게 잡는다.\n",
    "    return\n",
    "        tuple: (lower_bound, upper_bound) - 정상범위의 하한값과 상한값\n",
    "    \"\"\"\n",
    "    q1 = np.nanquantile(data, q=0.25)\n",
    "    q3 = np.nanquantile(data, q=0.75)\n",
    "    IQR = q3 - q1\n",
    "    lower_bound = q1 - IQR * whis\n",
    "    upper_bound = q3 + IQR * whis\n",
    "    return lower_bound, upper_bound"
   ]
  },
  {
   "cell_type": "code",
   "execution_count": 15,
   "metadata": {},
   "outputs": [
    {
     "data": {
      "text/plain": [
       "10"
      ]
     },
     "execution_count": 15,
     "metadata": {},
     "output_type": "execute_result"
    }
   ],
   "source": [
    "## 시각화 (number 타입만)\n",
    "### 나눠서 그리기 위해 컬럼이름들 조회\n",
    "c = data.select_dtypes(include=[np.number]).drop(columns=data.columns[0]).columns\n",
    "len(c)"
   ]
  },
  {
   "cell_type": "code",
   "execution_count": 16,
   "metadata": {},
   "outputs": [
    {
     "data": {
      "image/png": "[encoded data removed]",
      "text/plain": [
       "<Figure size 1500x1500 with 12 Axes>"
      ]
     },
     "metadata": {},
     "output_type": "display_data"
    }
   ],
   "source": [
    "# subplots=True, layout=(3, 4): 3행 4열로 나눠서\n",
    "data.select_dtypes(include=[np.number]).plot(kind='box', subplots=True, layout=(3, 4), figsize=(15, 15), color='skyblue');"
   ]
  },
  {
   "cell_type": "markdown",
   "metadata": {},
   "source": [
    "## 각 컬럼별 이상치 처리\n",
    "\n",
    "### revolvingutilizationofunsecuredlines\n",
    "- 전체 운용가능한 돈 대비 현재 운용가능한 돈의 비율 (남은신용한도+통장잔고/ 총신용한도+통장잔고)\n",
    "- 1초과하는 값들을 1로 변경한다"
   ]
  },
  {
   "cell_type": "code",
   "execution_count": 17,
   "metadata": {},
   "outputs": [
    {
     "data": {
      "text/plain": [
       "count    150000.000000\n",
       "mean          6.048438\n",
       "std         249.755371\n",
       "min           0.000000\n",
       "25%           0.029867\n",
       "50%           0.154181\n",
       "75%           0.559046\n",
       "max       50708.000000\n",
       "Name: revolvingutilizationofunsecuredlines, dtype: float64"
      ]
     },
     "execution_count": 17,
     "metadata": {},
     "output_type": "execute_result"
    }
   ],
   "source": [
    "data['revolvingutilizationofunsecuredlines'].describe()"
   ]
  },
  {
   "cell_type": "code",
   "execution_count": 18,
   "metadata": {},
   "outputs": [
    {
     "data": {
      "text/plain": [
       "np.int64(3321)"
      ]
     },
     "execution_count": 18,
     "metadata": {},
     "output_type": "execute_result"
    }
   ],
   "source": [
    "# 1.0 이상인 값들의 개수\n",
    "(data['revolvingutilizationofunsecuredlines'] > 1.0).sum()"
   ]
  },
  {
   "cell_type": "markdown",
   "metadata": {},
   "source": [
    "### age\n",
    "- 대출자 나이\n",
    "- 최소값이 0, 최대값 109\n",
    "- 21 이하인 값들은 중위수로 변환 "
   ]
  },
  {
   "cell_type": "code",
   "execution_count": 19,
   "metadata": {},
   "outputs": [
    {
     "data": {
      "text/plain": [
       "age\n",
       "0        1\n",
       "21     183\n",
       "22     434\n",
       "23     641\n",
       "24     816\n",
       "      ... \n",
       "102      3\n",
       "103      3\n",
       "105      1\n",
       "107      1\n",
       "109      2\n",
       "Name: count, Length: 86, dtype: int64"
      ]
     },
     "execution_count": 19,
     "metadata": {},
     "output_type": "execute_result"
    }
   ],
   "source": [
    "data['age'].value_counts().sort_index()"
   ]
  },
  {
   "cell_type": "markdown",
   "metadata": {},
   "source": [
    "### numberoftime30-59dayspastduenotworse, numberoftime60-89dayspastduenotworse, numberoftimes90dayslate\n",
    "\n",
    "- 30 ~ 59, 60 ~ 89, 90이상 연체한 횟수\n",
    "- 96, 98 두개의 값을 가지는 행이 있다.\n",
    "    - 96은 5개 98은 264개로 세 컬럼의 같은 행이 같이 두 값을 가지고 있다. \n",
    "    - 이런 경우 특정 의미를 표현하는 코드 값일 수 있다. 그래서 제거하지 않고 유지한다."
   ]
  },
  {
   "cell_type": "code",
   "execution_count": 20,
   "metadata": {},
   "outputs": [
    {
     "data": {
      "text/html": [
       "<div>\n",
       "<style scoped>\n",
       "    .dataframe tbody tr th:only-of-type {\n",
       "        vertical-align: middle;\n",
       "    }\n",
       "\n",
       "    .dataframe tbody tr th {\n",
       "        vertical-align: top;\n",
       "    }\n",
       "\n",
       "    .dataframe thead th {\n",
       "        text-align: right;\n",
       "    }\n",
       "</style>\n",
       "<table border=\"1\" class=\"dataframe\">\n",
       "  <thead>\n",
       "    <tr style=\"text-align: right;\">\n",
       "      <th></th>\n",
       "      <th>numberoftime30-59dayspastduenotworse</th>\n",
       "      <th>numberoftime60-89dayspastduenotworse</th>\n",
       "      <th>numberoftimes90dayslate</th>\n",
       "    </tr>\n",
       "  </thead>\n",
       "  <tbody>\n",
       "    <tr>\n",
       "      <th>count</th>\n",
       "      <td>150000.000000</td>\n",
       "      <td>150000.000000</td>\n",
       "      <td>150000.000000</td>\n",
       "    </tr>\n",
       "    <tr>\n",
       "      <th>mean</th>\n",
       "      <td>0.421033</td>\n",
       "      <td>0.240387</td>\n",
       "      <td>0.265973</td>\n",
       "    </tr>\n",
       "    <tr>\n",
       "      <th>std</th>\n",
       "      <td>4.192781</td>\n",
       "      <td>4.155179</td>\n",
       "      <td>4.169304</td>\n",
       "    </tr>\n",
       "    <tr>\n",
       "      <th>min</th>\n",
       "      <td>0.000000</td>\n",
       "      <td>0.000000</td>\n",
       "      <td>0.000000</td>\n",
       "    </tr>\n",
       "    <tr>\n",
       "      <th>25%</th>\n",
       "      <td>0.000000</td>\n",
       "      <td>0.000000</td>\n",
       "      <td>0.000000</td>\n",
       "    </tr>\n",
       "    <tr>\n",
       "      <th>50%</th>\n",
       "      <td>0.000000</td>\n",
       "      <td>0.000000</td>\n",
       "      <td>0.000000</td>\n",
       "    </tr>\n",
       "    <tr>\n",
       "      <th>75%</th>\n",
       "      <td>0.000000</td>\n",
       "      <td>0.000000</td>\n",
       "      <td>0.000000</td>\n",
       "    </tr>\n",
       "    <tr>\n",
       "      <th>max</th>\n",
       "      <td>98.000000</td>\n",
       "      <td>98.000000</td>\n",
       "      <td>98.000000</td>\n",
       "    </tr>\n",
       "  </tbody>\n",
       "</table>\n",
       "</div>"
      ],
      "text/plain": [
       "       numberoftime30-59dayspastduenotworse  \\\n",
       "count                         150000.000000   \n",
       "mean                               0.421033   \n",
       "std                                4.192781   \n",
       "min                                0.000000   \n",
       "25%                                0.000000   \n",
       "50%                                0.000000   \n",
       "75%                                0.000000   \n",
       "max                               98.000000   \n",
       "\n",
       "       numberoftime60-89dayspastduenotworse  numberoftimes90dayslate  \n",
       "count                         150000.000000            150000.000000  \n",
       "mean                               0.240387                 0.265973  \n",
       "std                                4.155179                 4.169304  \n",
       "min                                0.000000                 0.000000  \n",
       "25%                                0.000000                 0.000000  \n",
       "50%                                0.000000                 0.000000  \n",
       "75%                                0.000000                 0.000000  \n",
       "max                               98.000000                98.000000  "
      ]
     },
     "execution_count": 20,
     "metadata": {},
     "output_type": "execute_result"
    }
   ],
   "source": [
    "data[['numberoftime30-59dayspastduenotworse', 'numberoftime60-89dayspastduenotworse', 'numberoftimes90dayslate']].describe()\n",
    "# MAX 가 98. 너무 큰값이다."
   ]
  },
  {
   "cell_type": "code",
   "execution_count": 21,
   "metadata": {},
   "outputs": [
    {
     "data": {
      "text/plain": [
       "numberoftime30-59dayspastduenotworse\n",
       "98       264\n",
       "96         5\n",
       "13         1\n",
       "12         2\n",
       "11         1\n",
       "10         4\n",
       "9         12\n",
       "8         25\n",
       "7         54\n",
       "6        140\n",
       "5        342\n",
       "4        747\n",
       "3       1754\n",
       "2       4598\n",
       "1      16033\n",
       "0     126018\n",
       "Name: count, dtype: int64"
      ]
     },
     "execution_count": 21,
     "metadata": {},
     "output_type": "execute_result"
    }
   ],
   "source": [
    "data['numberoftime30-59dayspastduenotworse'].value_counts().sort_index(ascending=False)"
   ]
  },
  {
   "cell_type": "code",
   "execution_count": 22,
   "metadata": {},
   "outputs": [
    {
     "data": {
      "text/plain": [
       "numberoftime60-89dayspastduenotworse\n",
       "98       264\n",
       "96         5\n",
       "11         1\n",
       "9          1\n",
       "8          2\n",
       "7          9\n",
       "6         16\n",
       "5         34\n",
       "4        105\n",
       "3        318\n",
       "2       1118\n",
       "1       5731\n",
       "0     142396\n",
       "Name: count, dtype: int64"
      ]
     },
     "execution_count": 22,
     "metadata": {},
     "output_type": "execute_result"
    }
   ],
   "source": [
    "data['numberoftime60-89dayspastduenotworse'].value_counts().sort_index(ascending=False)"
   ]
  },
  {
   "cell_type": "code",
   "execution_count": 23,
   "metadata": {},
   "outputs": [
    {
     "data": {
      "text/plain": [
       "numberoftimes90dayslate\n",
       "98       264\n",
       "96         5\n",
       "17         1\n",
       "15         2\n",
       "14         2\n",
       "13         4\n",
       "12         2\n",
       "11         5\n",
       "10         8\n",
       "9         19\n",
       "8         21\n",
       "7         38\n",
       "6         80\n",
       "5        131\n",
       "4        291\n",
       "3        667\n",
       "2       1555\n",
       "1       5243\n",
       "0     141662\n",
       "Name: count, dtype: int64"
      ]
     },
     "execution_count": 23,
     "metadata": {},
     "output_type": "execute_result"
    }
   ],
   "source": [
    "data['numberoftimes90dayslate'].value_counts().sort_index(ascending=False)"
   ]
  },
  {
   "cell_type": "code",
   "execution_count": 24,
   "metadata": {},
   "outputs": [
    {
     "data": {
      "text/plain": [
       "(269, 11)"
      ]
     },
     "execution_count": 24,
     "metadata": {},
     "output_type": "execute_result"
    }
   ],
   "source": [
    "data.loc[(data['numberoftime30-59dayspastduenotworse'] > 95) & \n",
    "        (data['numberoftime60-89dayspastduenotworse'] > 95) & \n",
    "        (data['numberoftimes90dayslate'] > 95)].shape\n",
    "\n",
    "# 위 세개 컬럼에서 96, 98 을 가지는 행이 동일하다.\n",
    "# 96, 98 은 은행에서 사용하는 코드값으로 추측할 수 있다. "
   ]
  },
  {
   "cell_type": "code",
   "execution_count": 25,
   "metadata": {},
   "outputs": [
    {
     "data": {
      "text/html": [
       "<div>\n",
       "<style scoped>\n",
       "    .dataframe tbody tr th:only-of-type {\n",
       "        vertical-align: middle;\n",
       "    }\n",
       "\n",
       "    .dataframe tbody tr th {\n",
       "        vertical-align: top;\n",
       "    }\n",
       "\n",
       "    .dataframe thead th {\n",
       "        text-align: right;\n",
       "    }\n",
       "</style>\n",
       "<table border=\"1\" class=\"dataframe\">\n",
       "  <thead>\n",
       "    <tr style=\"text-align: right;\">\n",
       "      <th></th>\n",
       "      <th>numberoftime30-59dayspastduenotworse</th>\n",
       "      <th>numberoftime60-89dayspastduenotworse</th>\n",
       "      <th>numberoftimes90dayslate</th>\n",
       "    </tr>\n",
       "  </thead>\n",
       "  <tbody>\n",
       "    <tr>\n",
       "      <th>41944</th>\n",
       "      <td>96</td>\n",
       "      <td>96</td>\n",
       "      <td>96</td>\n",
       "    </tr>\n",
       "    <tr>\n",
       "      <th>69478</th>\n",
       "      <td>96</td>\n",
       "      <td>96</td>\n",
       "      <td>96</td>\n",
       "    </tr>\n",
       "    <tr>\n",
       "      <th>84167</th>\n",
       "      <td>96</td>\n",
       "      <td>96</td>\n",
       "      <td>96</td>\n",
       "    </tr>\n",
       "    <tr>\n",
       "      <th>94106</th>\n",
       "      <td>96</td>\n",
       "      <td>96</td>\n",
       "      <td>96</td>\n",
       "    </tr>\n",
       "    <tr>\n",
       "      <th>120049</th>\n",
       "      <td>96</td>\n",
       "      <td>96</td>\n",
       "      <td>96</td>\n",
       "    </tr>\n",
       "  </tbody>\n",
       "</table>\n",
       "</div>"
      ],
      "text/plain": [
       "        numberoftime30-59dayspastduenotworse  \\\n",
       "41944                                     96   \n",
       "69478                                     96   \n",
       "84167                                     96   \n",
       "94106                                     96   \n",
       "120049                                    96   \n",
       "\n",
       "        numberoftime60-89dayspastduenotworse  numberoftimes90dayslate  \n",
       "41944                                     96                       96  \n",
       "69478                                     96                       96  \n",
       "84167                                     96                       96  \n",
       "94106                                     96                       96  \n",
       "120049                                    96                       96  "
      ]
     },
     "execution_count": 25,
     "metadata": {},
     "output_type": "execute_result"
    }
   ],
   "source": [
    "# 96인 행들 조회. 모두 동일한 행임.\n",
    "data.loc[(data['numberoftime30-59dayspastduenotworse'] == 96) & \n",
    "        (data['numberoftime60-89dayspastduenotworse'] == 96) & \n",
    "        (data['numberoftimes90dayslate'] == 96), ['numberoftime30-59dayspastduenotworse','numberoftime60-89dayspastduenotworse','numberoftimes90dayslate']]"
   ]
  },
  {
   "cell_type": "markdown",
   "metadata": {},
   "source": [
    "### debtratio \n",
    "- 소득 대비 부채비율(대출상환금+생활비/소득)\n",
    "- 정상범위를 넓힌 뒤 (whis=5000)  최대값으로 대체한다. (2.5% 밖에 있는 데이터들.)\n",
    "  - 1.5일 경우 20% 정도가 이상치임. "
   ]
  },
  {
   "cell_type": "code",
   "execution_count": 26,
   "metadata": {},
   "outputs": [
    {
     "data": {
      "text/plain": [
       "count    150000.000000\n",
       "mean        353.005076\n",
       "std        2037.818523\n",
       "min           0.000000\n",
       "25%           0.175074\n",
       "50%           0.366508\n",
       "75%           0.868254\n",
       "max      329664.000000\n",
       "Name: debtratio, dtype: float64"
      ]
     },
     "execution_count": 26,
     "metadata": {},
     "output_type": "execute_result"
    }
   ],
   "source": [
    "data['debtratio'].describe()\n",
    "# max: 329664. 소득대비 부채비율이 33만배라는 의미. "
   ]
  },
  {
   "cell_type": "code",
   "execution_count": 27,
   "metadata": {},
   "outputs": [
    {
     "data": {
      "image/png": "[encoded data removed]",
      "text/plain": [
       "<Figure size 640x480 with 1 Axes>"
      ]
     },
     "metadata": {},
     "output_type": "display_data"
    }
   ],
   "source": [
    "data['debtratio'].plot(kind='kde');"
   ]
  },
  {
   "cell_type": "code",
   "execution_count": 28,
   "metadata": {},
   "outputs": [
    {
     "data": {
      "text/plain": [
       "np.float64(3489.024999999994)"
      ]
     },
     "execution_count": 28,
     "metadata": {},
     "output_type": "execute_result"
    }
   ],
   "source": [
    "data['debtratio'].quantile(q=0.975)\n",
    "# 상위 2.5%가 소득에 비해 부채가 3489 배 정도로 나온다."
   ]
  },
  {
   "cell_type": "code",
   "execution_count": 29,
   "metadata": {},
   "outputs": [
    {
     "data": {
      "text/plain": [
       "(np.float64(-0.8646960792499998), np.float64(1.9080236847499998))"
      ]
     },
     "execution_count": 29,
     "metadata": {},
     "output_type": "execute_result"
    }
   ],
   "source": [
    "get_normal_range(data['debtratio'], whis=1.5)"
   ]
  },
  {
   "cell_type": "code",
   "execution_count": 30,
   "metadata": {},
   "outputs": [
    {
     "name": "stdout",
     "output_type": "stream",
     "text": [
      "비율: 0.025413333333333333\n",
      "범위: (np.float64(-3465.7246311677495), np.float64(3466.7679587732496))\n"
     ]
    }
   ],
   "source": [
    "# whis=5000일 때 이상치 비율 2.5%\n",
    "print(\"비율:\",is_outlier(data['debtratio'], whis=5000).mean())  # 0.025 (2.5 비율)\n",
    "print(\"범위:\", get_normal_range(data['debtratio'], whis=5000))"
   ]
  },
  {
   "cell_type": "markdown",
   "metadata": {},
   "source": [
    "### monthlyincome\n",
    "- 월간 소득\n",
    "- 정상범위의 최대 값으로 대체한다.\n",
    "  - 정상 범위를 넘어간 값들의 개수가 많지 않으므로 같은 값으로 변경해서 하나의 값으로 만든다."
   ]
  },
  {
   "cell_type": "code",
   "execution_count": 31,
   "metadata": {},
   "outputs": [
    {
     "data": {
      "text/plain": [
       "count     120269.00\n",
       "mean        6670.22\n",
       "std        14384.67\n",
       "min            0.00\n",
       "25%         3400.00\n",
       "50%         5400.00\n",
       "75%         8249.00\n",
       "max      3008750.00\n",
       "Name: monthlyincome, dtype: float64"
      ]
     },
     "execution_count": 31,
     "metadata": {},
     "output_type": "execute_result"
    }
   ],
   "source": [
    "np.round(data['monthlyincome'].describe(), 2)"
   ]
  },
  {
   "cell_type": "code",
   "execution_count": 32,
   "metadata": {},
   "outputs": [
    {
     "data": {
      "image/png": "[encoded data removed]",
      "text/plain": [
       "<Figure size 640x480 with 1 Axes>"
      ]
     },
     "metadata": {},
     "output_type": "display_data"
    }
   ],
   "source": [
    "data['monthlyincome'].plot(kind='hist', bins=10);"
   ]
  },
  {
   "cell_type": "code",
   "execution_count": 33,
   "metadata": {},
   "outputs": [
    {
     "name": "stdout",
     "output_type": "stream",
     "text": [
      "-3873.5 15522.5\n"
     ]
    }
   ],
   "source": [
    "low, high = get_normal_range(data['monthlyincome'], whis=1.5)\n",
    "print(low, high)"
   ]
  },
  {
   "cell_type": "code",
   "execution_count": 34,
   "metadata": {},
   "outputs": [
    {
     "data": {
      "text/plain": [
       "(4879, 11)"
      ]
     },
     "execution_count": 34,
     "metadata": {},
     "output_type": "execute_result"
    }
   ],
   "source": [
    "# 정상범위를 벋어난 값들의 개수\n",
    "data.query('monthlyincome > @high').shape"
   ]
  },
  {
   "cell_type": "markdown",
   "metadata": {},
   "source": [
    "# 전처리 정리\n",
    "- 결측치 처리\n",
    "  - monthlyincome: 중앙값 대체\n",
    "  - numberofdependents: 최빈값(0)으로 대체\n",
    "\n",
    "- 이상치 처리\n",
    "  - revolvingutilizationofunsecuredlines\n",
    "    - 1초과하는 값들을 1로 변경한다\n",
    "  - age\n",
    "    - 21 이하인 값들은 중위수로 변환 \n",
    "  - debtratio \n",
    "    - 정상범위를 넓힌 뒤 (whis=5000)  최대값으로 대체한다.\n",
    "  - monthlyincome\n",
    "    - 정상범위의 최대 값으로 대체한다.\n",
    "  "
   ]
  },
  {
   "cell_type": "markdown",
   "metadata": {},
   "source": [
    "# DataLoad 함수"
   ]
  },
  {
   "cell_type": "code",
   "execution_count": 36,
   "metadata": {},
   "outputs": [
    {
     "name": "stdout",
     "output_type": "stream",
     "text": [
      "Overwriting dataloader.py\n"
     ]
    }
   ],
   "source": [
    "%%writefile dataloader.py\n",
    "\n",
    "import pandas as pd\n",
    "\n",
    "def load_dataset():\n",
    "    # load dataset\n",
    "    data = pd.read_csv('data/cs_data.csv')\n",
    "    # 컬럼명 소문자로 변경\n",
    "    data.columns = data.columns.str.lower()\n",
    "    # taget 컬럼을 y로, 나머지를 X로\n",
    "    data = data.drop(data.columns[0], axis=1)\n",
    "    X = data.drop(columns='seriousdlqin2yrs')\n",
    "    y = data['seriousdlqin2yrs']\n",
    "    \n",
    "    return X, y"
   ]
  },
  {
   "cell_type": "markdown",
   "metadata": {},
   "source": [
    "# 전처리 파이프라인 생성"
   ]
  },
  {
   "cell_type": "markdown",
   "metadata": {},
   "source": [
    "> ## 사용자 정의 전처리기 생성\n",
    "> - sklearn.base 모듈의 BaseEstimator, TransformerMixin 를 상속받는다.\n",
    "> - fit(self, X, y=None), transform(self, X, y=None) 메서드를 구현한다.\n",
    ">    - fit() 은 입력받은 데이터 X 와 y 를 사용해 변환할 때 사용할 값을 찾아 self 에 attribute로 저장한다.\n",
    ">    - transform() 은 fit() 에서 찾은 값으로 변환한다."
   ]
  },
  {
   "cell_type": "code",
   "execution_count": 37,
   "metadata": {},
   "outputs": [
    {
     "name": "stdout",
     "output_type": "stream",
     "text": [
      "Overwriting preprocessing.py\n"
     ]
    }
   ],
   "source": [
    "%%writefile preprocessing.py\n",
    "\n",
    "import numpy as np\n",
    "from sklearn.base import BaseEstimator, TransformerMixin\n",
    "\n",
    "# revolvingutilizationofunsecuredlines 에 적용할 Transformer 클래스\n",
    "## 1초과하는 값들을 1로 변경한다\n",
    "\n",
    "class CapValuesTransformer(BaseEstimator, TransformerMixin):\n",
    "    def fit(self, X, y=None):\n",
    "        return self\n",
    "    \n",
    "    def transform(self, X, y=None):\n",
    "        X_capped = np.where(X > 1, 1, X)\n",
    "        return X_capped\n",
    "    \n",
    "# Age 전처리에 적용할 transformer 클래스\n",
    "## 21 이하인 값들은 중위수로 변환\n",
    "\n",
    "class AgeTransformer(BaseEstimator, TransformerMixin):\n",
    "    \n",
    "    def fit(self, X, y=None):\n",
    "        \"\"\"\n",
    "        X의 중위값을 계산해서 저장\n",
    "        \"\"\"\n",
    "        self.median_value = np.median(X)\n",
    "        return self\n",
    "    \n",
    "    def transform(self, X, y=None):\n",
    "        X_transformed = np.where(X <= 21, self.median_value, X)\n",
    "        return X_transformed\n",
    "    \n",
    "# debtratio, monthlyincome 전처리에 적용할 transformer 클래스\n",
    "## - 정상범위 최대값, 최소값으로 대체한다.\n",
    "## - debtratio: 2000, monthlyincome: 1.5 배의 IQR로 계산한 최대값, 최소값으로 대체한다.\n",
    "\n",
    "class OutlierTransformer(BaseEstimator, TransformerMixin):\n",
    "    def __init__(self, whis=1.5):\n",
    "        self.whis = whis\n",
    "    \n",
    "    def fit(self, X, y=None):\n",
    "        q1 = np.nanquantile(X, q=0.25)\n",
    "        q3 = np.nanquantile(X, q=0.75)\n",
    "        IQR = q3 - q1\n",
    "        self.lower_bound = q1 - IQR * self.whis\n",
    "        self.upper_bound = q3 + IQR * self.whis\n",
    "        return self\n",
    "    \n",
    "    def transform(self, X, y=None):\n",
    "        X_transformed = np.where(X < self.lower_bound, self.lower_bound, X)\n",
    "        X_transformed = np.where(X_transformed > self.upper_bound, self.upper_bound, X_transformed)\n",
    "        return X_transformed\n"
   ]
  },
  {
   "cell_type": "markdown",
   "metadata": {},
   "source": [
    "## 파이프라인구성"
   ]
  },
  {
   "cell_type": "code",
   "execution_count": 35,
   "metadata": {},
   "outputs": [],
   "source": [
    "from preprocessing import CapValuesTransformer, AgeTransformer, OutlierTransformer\n",
    "\n",
    "from sklearn.pipeline import Pipeline\n",
    "from sklearn.compose import ColumnTransformer\n",
    "from sklearn.preprocessing import StandardScaler\n",
    "from sklearn.impute import SimpleImputer\n",
    "\n",
    "# Pipeline을 이용한 전처리\n",
    "\n",
    "nullvalue_transformer = ColumnTransformer(\n",
    "    [\n",
    "        ('income_imputer', SimpleImputer(strategy='median'), [4]), # monthlyincome\n",
    "        ('dependents_imputer', SimpleImputer(strategy='most_frequent'), [-1]) #numberofdependents\n",
    "    ], remainder='passthrough' # 나머지 컬럼은 그대로 전달\n",
    ")\n",
    "\n",
    "revolving_outlier = CapValuesTransformer()\n",
    "age_outlier = AgeTransformer()\n",
    "debtratio_outlier = OutlierTransformer(whis=5000)\n",
    "monthlyincome_outlier = OutlierTransformer()\n",
    "\n",
    "outlier_transformer = ColumnTransformer(\n",
    "    [\n",
    "        ('revolving_outlier', revolving_outlier, [0]), # revolvingutilizationofunsecuredlines\n",
    "        ('age_outlier', age_outlier, [1]), # age\n",
    "        ('debtratio_outlier', debtratio_outlier, [3]),  # debtratio\n",
    "        ('monthlyincome_outlier', monthlyincome_outlier, [4]) # monthlyincome\n",
    "    ],remainder='passthrough' # 나머지 컬럼은 그대로 전달\n",
    ")\n",
    "\n",
    "preprocessor_pipeline = Pipeline([\n",
    "    (\"imputer\", nullvalue_transformer),\n",
    "    (\"outlier\", outlier_transformer),\n",
    "    (\"scaler\", StandardScaler())\n",
    "], verbose=True)"
   ]
  },
  {
   "cell_type": "markdown",
   "metadata": {},
   "source": [
    "# 데이터셋 준비"
   ]
  },
  {
   "cell_type": "code",
   "execution_count": 36,
   "metadata": {},
   "outputs": [
    {
     "name": "stdout",
     "output_type": "stream",
     "text": [
      "(90000, 10) (30000, 10) (30000, 10) (90000,) (30000,) (30000,)\n"
     ]
    }
   ],
   "source": [
    "from dataloader import load_dataset\n",
    "from sklearn.model_selection import train_test_split\n",
    "\n",
    "import pandas as pd\n",
    "import numpy as np\n",
    "\n",
    "# X, y 분리\n",
    "X, y = load_dataset()\n",
    "\n",
    "# Train/Test/Validation set 나누기.\n",
    "X_train, X_test, y_train, y_test = train_test_split(X, y, test_size=0.2, stratify=y, random_state=0)\n",
    "X_train, X_valid, y_train, y_valid = train_test_split(X_train, y_train, test_size=0.25, stratify=y_train, random_state=0)\n",
    "\n",
    "print(X_train.shape, X_test.shape, X_valid.shape, y_train.shape, y_test.shape, y_valid.shape)"
   ]
  },
  {
   "cell_type": "code",
   "execution_count": 37,
   "metadata": {},
   "outputs": [
    {
     "name": "stdout",
     "output_type": "stream",
     "text": [
      "[0.93316 0.06684]\n",
      "[0.93315556 0.06684444]\n",
      "[0.93316667 0.06683333]\n",
      "[0.93316667 0.06683333]\n"
     ]
    }
   ],
   "source": [
    "# 비율 확인\n",
    "print(np.unique(y, return_counts=True)[1]/y.size)\n",
    "print(np.unique(y_train, return_counts=True)[1]/y_train.size)\n",
    "print(np.unique(y_test, return_counts=True)[1]/y_test.size)\n",
    "print(np.unique(y_valid, return_counts=True)[1]/y_valid.size)"
   ]
  },
  {
   "cell_type": "code",
   "execution_count": 40,
   "metadata": {},
   "outputs": [
    {
     "name": "stdout",
     "output_type": "stream",
     "text": [
      "[Pipeline] ........... (step 1 of 3) Processing imputer, total=   0.0s\n",
      "[Pipeline] ........... (step 2 of 3) Processing outlier, total=   0.0s\n",
      "[Pipeline] ............ (step 3 of 3) Processing scaler, total=   0.0s\n"
     ]
    }
   ],
   "source": [
    "X_train_preprocessed = preprocessor_pipeline.fit_transform(X_train.values)\n",
    "X_test_preprocessed = preprocessor_pipeline.transform(X_test.values)\n",
    "X_valid_preprocessed = preprocessor_pipeline.transform(X_valid.values)"
   ]
  },
  {
   "cell_type": "markdown",
   "metadata": {},
   "source": [
    "## 전처리 파이프라인 저장"
   ]
  },
  {
   "cell_type": "code",
   "execution_count": 41,
   "metadata": {},
   "outputs": [
    {
     "data": {
      "text/plain": [
       "['models/preprocessor.pkl']"
      ]
     },
     "execution_count": 41,
     "metadata": {},
     "output_type": "execute_result"
    }
   ],
   "source": [
    "import joblib\n",
    "import os\n",
    "\n",
    "os.makedirs('models', exist_ok=True)\n",
    "joblib.dump(\n",
    "    preprocessor_pipeline,     # 저장할 모델/전처리기\n",
    "    \"models/preprocessor.pkl\"  # 저장경로. pickle로 저장된다.\n",
    ")"
   ]
  },
  {
   "cell_type": "markdown",
   "metadata": {},
   "source": [
    "# Baseline 모델링\n",
    "\n",
    "## Baseline 모델 생성"
   ]
  },
  {
   "cell_type": "code",
   "execution_count": 42,
   "metadata": {},
   "outputs": [],
   "source": [
    "from sklearn.linear_model import LogisticRegression\n",
    "from sklearn.ensemble import GradientBoostingClassifier, RandomForestClassifier\n",
    "from sklearn.neighbors import KNeighborsClassifier\n",
    "from xgboost import XGBClassifier\n",
    "\n",
    "from sklearn.metrics import accuracy_score, precision_score, recall_score, f1_score, roc_auc_score\n",
    "\n",
    "models = [\n",
    "    (\"LR\", LogisticRegression(random_state=0, max_iter=3000)),\n",
    "    (\"GBM\", GradientBoostingClassifier(random_state=0)),\n",
    "    (\"RF\", RandomForestClassifier(random_state=0)),\n",
    "    (\"KNN\", KNeighborsClassifier()),\n",
    "    (\"XGB\", XGBClassifier(random_state=0))\n",
    "]"
   ]
  },
  {
   "cell_type": "markdown",
   "metadata": {},
   "source": [
    "## Baseline 모델 학습"
   ]
  },
  {
   "cell_type": "code",
   "execution_count": 43,
   "metadata": {},
   "outputs": [
    {
     "name": "stdout",
     "output_type": "stream",
     "text": [
      "Training LR...\n",
      "Training GBM...\n",
      "Training RF...\n",
      "Training KNN...\n",
      "Training XGB...\n"
     ]
    }
   ],
   "source": [
    "baseline_result_train_dict = {}\n",
    "baseline_result_valid_dict = {}\n",
    "\n",
    "\n",
    "for name, model in models:\n",
    "    print(f\"Training {name}...\")\n",
    "    model.fit(X_train_preprocessed, y_train)\n",
    "    \n",
    "    pred_valid = model.predict(X_valid_preprocessed)\n",
    "    pred_proba_valid = model.predict_proba(X_valid_preprocessed)[:, 1]\n",
    "\n",
    "    accuracy_valid = accuracy_score(y_valid, pred_valid)\n",
    "    precision_valid = precision_score(y_valid, pred_valid)\n",
    "    recall_valid = recall_score(y_valid, pred_valid)\n",
    "    f1_valid = f1_score(y_valid, pred_valid)\n",
    "    auc_valid = roc_auc_score(y_valid, pred_proba_valid)\n",
    "    \n",
    "    baseline_result_valid_dict[name] = [accuracy_valid, precision_valid, recall_valid, f1_valid, auc_valid]"
   ]
  },
  {
   "cell_type": "markdown",
   "metadata": {},
   "source": [
    "## Baseline 모델 평가결과 확인"
   ]
  },
  {
   "cell_type": "code",
   "execution_count": 44,
   "metadata": {},
   "outputs": [
    {
     "data": {
      "text/html": [
       "<div>\n",
       "<style scoped>\n",
       "    .dataframe tbody tr th:only-of-type {\n",
       "        vertical-align: middle;\n",
       "    }\n",
       "\n",
       "    .dataframe tbody tr th {\n",
       "        vertical-align: top;\n",
       "    }\n",
       "\n",
       "    .dataframe thead th {\n",
       "        text-align: right;\n",
       "    }\n",
       "</style>\n",
       "<table border=\"1\" class=\"dataframe\">\n",
       "  <thead>\n",
       "    <tr style=\"text-align: right;\">\n",
       "      <th></th>\n",
       "      <th>LR</th>\n",
       "      <th>GBM</th>\n",
       "      <th>RF</th>\n",
       "      <th>KNN</th>\n",
       "      <th>XGB</th>\n",
       "    </tr>\n",
       "  </thead>\n",
       "  <tbody>\n",
       "    <tr>\n",
       "      <th>accuracy</th>\n",
       "      <td>0.933633</td>\n",
       "      <td>0.939000</td>\n",
       "      <td>0.936500</td>\n",
       "      <td>0.933100</td>\n",
       "      <td>0.937567</td>\n",
       "    </tr>\n",
       "    <tr>\n",
       "      <th>precision</th>\n",
       "      <td>0.574468</td>\n",
       "      <td>0.654321</td>\n",
       "      <td>0.571839</td>\n",
       "      <td>0.498344</td>\n",
       "      <td>0.605096</td>\n",
       "    </tr>\n",
       "    <tr>\n",
       "      <th>recall</th>\n",
       "      <td>0.026933</td>\n",
       "      <td>0.185037</td>\n",
       "      <td>0.198504</td>\n",
       "      <td>0.150125</td>\n",
       "      <td>0.189526</td>\n",
       "    </tr>\n",
       "    <tr>\n",
       "      <th>f1</th>\n",
       "      <td>0.051453</td>\n",
       "      <td>0.288491</td>\n",
       "      <td>0.294706</td>\n",
       "      <td>0.230740</td>\n",
       "      <td>0.288644</td>\n",
       "    </tr>\n",
       "    <tr>\n",
       "      <th>roc-auc</th>\n",
       "      <td>0.649215</td>\n",
       "      <td>0.853610</td>\n",
       "      <td>0.818462</td>\n",
       "      <td>0.706919</td>\n",
       "      <td>0.846394</td>\n",
       "    </tr>\n",
       "  </tbody>\n",
       "</table>\n",
       "</div>"
      ],
      "text/plain": [
       "                 LR       GBM        RF       KNN       XGB\n",
       "accuracy   0.933633  0.939000  0.936500  0.933100  0.937567\n",
       "precision  0.574468  0.654321  0.571839  0.498344  0.605096\n",
       "recall     0.026933  0.185037  0.198504  0.150125  0.189526\n",
       "f1         0.051453  0.288491  0.294706  0.230740  0.288644\n",
       "roc-auc    0.649215  0.853610  0.818462  0.706919  0.846394"
      ]
     },
     "execution_count": 44,
     "metadata": {},
     "output_type": "execute_result"
    }
   ],
   "source": [
    "pd.DataFrame(baseline_result_valid_dict, index=['accuracy', 'precision', 'recall', 'f1', 'roc-auc'])"
   ]
  },
  {
   "cell_type": "markdown",
   "metadata": {},
   "source": [
    "# 모델 튜닝\n",
    "\n",
    "- ROC-AUC Score 기준으로 GBM, XGB 성능이 높으므로 이 둘을 기준으로 하이퍼파라미터 튜닝을 진행한다."
   ]
  },
  {
   "cell_type": "code",
   "execution_count": 49,
   "metadata": {},
   "outputs": [
    {
     "name": "stdout",
     "output_type": "stream",
     "text": [
      "GradientBoostingClassifier 튜닝...\n",
      "XGBClassifier 튜닝...\n"
     ]
    }
   ],
   "source": [
    "from sklearn.model_selection import RandomizedSearchCV\n",
    "\n",
    "param_gbm = {\n",
    "    'learning_rate': [0.001, 0.01, 0.1, 0.2],\n",
    "    'n_estimators': [1000, 2000, 3000, 4000, 5000],\n",
    "    'max_depth': range(1, 6),\n",
    "    'subsample': [0.5, 0.6, 0.7, 0.8, 0.9, 1]\n",
    "}\n",
    "\n",
    "param_xgb = {\n",
    "    'learning_rate': [0.001, 0.01, 0.1, 0.2],\n",
    "    'n_estimators': [1000, 2000, 3000, 4000, 5000],\n",
    "    'max_depth': range(1, 6),\n",
    "    'subsample': [0.5, 0.6, 0.7, 0.8, 0.9, 1]\n",
    "}\n",
    "\n",
    "# Initialize RandomizedSearchCV for each model\n",
    "random_search_gbm = RandomizedSearchCV(GradientBoostingClassifier(random_state=0), param_gbm, cv=4, scoring='roc_auc', n_jobs=-1, n_iter=60, random_state=0)\n",
    "random_search_xgb = RandomizedSearchCV(XGBClassifier(random_state=0), param_xgb, cv=4, scoring='roc_auc', n_jobs=-1, n_iter=60, random_state=0)\n",
    "\n",
    "print(\"GradientBoostingClassifier 튜닝...\")\n",
    "random_search_gbm.fit(X_train_preprocessed, y_train)\n",
    "\n",
    "print(\"XGBClassifier 튜닝...\")\n",
    "random_search_xgb.fit(X_train_preprocessed, y_train);"
   ]
  },
  {
   "cell_type": "markdown",
   "metadata": {},
   "source": [
    "## 튜닝 결과 확인"
   ]
  },
  {
   "cell_type": "code",
   "execution_count": 51,
   "metadata": {},
   "outputs": [
    {
     "name": "stdout",
     "output_type": "stream",
     "text": [
      "GradientBoostingClassifier Best parameters: {'subsample': 0.7, 'n_estimators': 3000, 'max_depth': 3, 'learning_rate': 0.01}\n",
      "XGBClassifier Best parameters: {'subsample': 0.7, 'n_estimators': 3000, 'max_depth': 2, 'learning_rate': 0.01}\n"
     ]
    }
   ],
   "source": [
    "## Best parameter 확인\n",
    "print(\"GradientBoostingClassifier Best parameters:\", random_search_gbm.best_params_)\n",
    "print(\"XGBClassifier Best parameters:\", random_search_xgb.best_params_)"
   ]
  },
  {
   "cell_type": "code",
   "execution_count": 50,
   "metadata": {},
   "outputs": [
    {
     "name": "stdout",
     "output_type": "stream",
     "text": [
      "GradientBoostingClassifier Best score: 0.8477868869019631\n",
      "XGBClassifier Best score: 0.8490540434753531\n"
     ]
    }
   ],
   "source": [
    "print(\"GradientBoostingClassifier Best score:\", random_search_gbm.best_score_)\n",
    "print(\"XGBClassifier Best score:\", random_search_xgb.best_score_)"
   ]
  },
  {
   "cell_type": "markdown",
   "metadata": {},
   "source": [
    "# 모델 저장, 최종 테스트"
   ]
  },
  {
   "cell_type": "code",
   "execution_count": 52,
   "metadata": {},
   "outputs": [],
   "source": [
    "best_gbm = random_search_gbm.best_estimator_\n",
    "best_xgb = random_search_xgb.best_estimator_"
   ]
  },
  {
   "cell_type": "code",
   "execution_count": 54,
   "metadata": {},
   "outputs": [
    {
     "name": "stdout",
     "output_type": "stream",
     "text": [
      "평가 GradientBoostingClassifier...\n",
      "평가 XGBClassifier...\n"
     ]
    }
   ],
   "source": [
    "# Evaluate the best models on the test set\n",
    "best_models = [\n",
    "    (\"GradientBoostingClassifier\", best_gbm),\n",
    "    (\"XGBClassifier\", best_xgb)\n",
    "]\n",
    "\n",
    "test_results = {}\n",
    "\n",
    "for name, model in best_models:\n",
    "    print(f\"평가 {name}...\")\n",
    "    pred_test = model.predict(X_test_preprocessed)\n",
    "    pred_proba_test = model.predict_proba(X_test_preprocessed)[:, 1]\n",
    "\n",
    "    accuracy_test = accuracy_score(y_test, pred_test)\n",
    "    precision_test = precision_score(y_test, pred_test)\n",
    "    recall_test = recall_score(y_test, pred_test)\n",
    "    f1_test = f1_score(y_test, pred_test)\n",
    "    auc_test = roc_auc_score(y_test, pred_proba_test)\n",
    "    \n",
    "    test_results[name] = [accuracy_test, precision_test, recall_test, f1_test, auc_test]"
   ]
  },
  {
   "cell_type": "code",
   "execution_count": null,
   "metadata": {},
   "outputs": [
    {
     "data": {
      "text/html": [
       "<div>\n",
       "<style scoped>\n",
       "    .dataframe tbody tr th:only-of-type {\n",
       "        vertical-align: middle;\n",
       "    }\n",
       "\n",
       "    .dataframe tbody tr th {\n",
       "        vertical-align: top;\n",
       "    }\n",
       "\n",
       "    .dataframe thead th {\n",
       "        text-align: right;\n",
       "    }\n",
       "</style>\n",
       "<table border=\"1\" class=\"dataframe\">\n",
       "  <thead>\n",
       "    <tr style=\"text-align: right;\">\n",
       "      <th></th>\n",
       "      <th>GradientBoostingClassifier</th>\n",
       "      <th>XGBClassifier</th>\n",
       "    </tr>\n",
       "  </thead>\n",
       "  <tbody>\n",
       "    <tr>\n",
       "      <th>accuracy</th>\n",
       "      <td>0.935867</td>\n",
       "      <td>0.935733</td>\n",
       "    </tr>\n",
       "    <tr>\n",
       "      <th>precision</th>\n",
       "      <td>0.570928</td>\n",
       "      <td>0.565144</td>\n",
       "    </tr>\n",
       "    <tr>\n",
       "      <th>recall</th>\n",
       "      <td>0.162594</td>\n",
       "      <td>0.166584</td>\n",
       "    </tr>\n",
       "    <tr>\n",
       "      <th>f1</th>\n",
       "      <td>0.253106</td>\n",
       "      <td>0.257319</td>\n",
       "    </tr>\n",
       "    <tr>\n",
       "      <th>auc</th>\n",
       "      <td>0.850191</td>\n",
       "      <td>0.850636</td>\n",
       "    </tr>\n",
       "  </tbody>\n",
       "</table>\n",
       "</div>"
      ],
      "text/plain": [
       "           GradientBoostingClassifier  XGBClassifier\n",
       "accuracy                     0.935867       0.935733\n",
       "precision                    0.570928       0.565144\n",
       "recall                       0.162594       0.166584\n",
       "f1                           0.253106       0.257319\n",
       "auc                          0.850191       0.850636"
      ]
     },
     "execution_count": 55,
     "metadata": {},
     "output_type": "execute_result"
    }
   ],
   "source": [
    "pd.DataFrame(test_results, index=['accuracy', 'precision', 'recall', 'f1', 'roc-auc'])"
   ]
  },
  {
   "cell_type": "code",
   "execution_count": 56,
   "metadata": {},
   "outputs": [
    {
     "name": "stdout",
     "output_type": "stream",
     "text": [
      "Models saved successfully.\n"
     ]
    }
   ],
   "source": [
    "##### 모델 저장\n",
    "joblib.dump(best_gbm, 'models/best_gbm.pkl')\n",
    "joblib.dump(best_xgb, 'models/best_xgb.pkl')\n",
    "\n",
    "print(\"Models saved successfully.\")"
   ]
  }
 ],
 "metadata": {
  "kernelspec": {
   "display_name": "Python 3 (ipykernel)",
   "language": "python",
   "name": "python3"
  },
  "language_info": {
   "codemirror_mode": {
    "name": "ipython",
    "version": 3
   },
   "file_extension": ".py",
   "mimetype": "text/x-python",
   "name": "python",
   "nbconvert_exporter": "python",
   "pygments_lexer": "ipython3",
   "version": "3.12.5"
  }
 },
 "nbformat": 4,
 "nbformat_minor": 4
}
