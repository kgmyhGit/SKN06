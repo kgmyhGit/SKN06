{
 "cells": [
  {
   "cell_type": "markdown",
   "id": "316929a9-f207-4e51-887a-f4f6b7fe4f62",
   "metadata": {},
   "source": [
    "# SSH\n",
    "\n",
    "- SSH(Secure Shell)는 네트워크를 통해 다른 컴퓨터에 안전하게 접속하여 원격 제어, 파일 전송 등을 수행할 수 있게 해주는 보안 프로토콜이다.\n",
    "- 데이터 암호화를 통해 통신 내용을 보호하고 대칭키, 비대칭키, 해시 알고리즘을 사용하여 인증 및 암호화 수행하여 기존의 Telnet, Rlogin, RSH 등 평문 전송 프로토콜의 보안 취약점을 해결했다. \n",
    "- 작동 방식\n",
    "    - 클라이언트-서버 모델로 동작한다.\n",
    "    - 기본적으로 TCP 프로토콜 기반이며 22번 포트(port)를 사용한다.\n",
    "    - 공개키(Public Key)와 개인키(Private Key) 쌍을 이용한 인증 방식 사용한다.\n",
    "- Linux와 Mac OS에는 기본으로 SSH 클라이언트가 설치되어 있다. \n",
    "- Windows의 경우 별도의 SSH 클라이언트 설치 필요하다. "
   ]
  },
  {
   "cell_type": "markdown",
   "id": "0cf22c54-a23c-4504-b551-df595df66560",
   "metadata": {},
   "source": [
    "# MobaXterm\n",
    "- MobaXterm은 윈도우 환경에서 사용 가능한 다기능 터미널 소프트웨어로, SSH 클라이언트를 비롯한 여러 네트워크 및 원격 작업 도구를 통합적으로 제공한다."
   ]
  },
  {
   "cell_type": "markdown",
   "id": "107973bf-dc11-4395-8472-a3e74bf76b35",
   "metadata": {},
   "source": [
    "- 다운 로드\n",
    "    - https://mobaxterm.mobatek.net/download.html\n",
    "    - Home Edition을 다운로드 받은 뒤 설치한다. "
   ]
  },
  {
   "cell_type": "markdown",
   "id": "ee54094c-dfda-416a-97a4-e53515c341d1",
   "metadata": {
    "execution": {
     "iopub.execute_input": "2024-12-31T13:19:04.148033Z",
     "iopub.status.busy": "2024-12-31T13:19:04.148033Z",
     "iopub.status.idle": "2024-12-31T13:19:04.188658Z",
     "shell.execute_reply": "2024-12-31T13:19:04.188658Z",
     "shell.execute_reply.started": "2024-12-31T13:19:04.148033Z"
    }
   },
   "source": [
    "## 연결 설정\n",
    "- **Session** 선택\n",
    "\n",
    "![img](figures/mobaxterm/mobaXterm1.png)"
   ]
  },
  {
   "cell_type": "markdown",
   "id": "253bc4e6-8bd3-4bee-a87c-d2efcec72d86",
   "metadata": {},
   "source": [
    "- SSH 선택\n",
    "    - **Remote host**: EC2의 **퍼블릭 IPv4 주소** 를 입력한다.\n",
    "    - **Specify username**: ubuntu 입력한다. 연결 서버의 계정명을 입력하는 것으로 AMI Ubuntu는 username으로 ubuntu가 설정되 있다.\n",
    "    - **Use private key**: EC2 생성시 다운받은 **private key** 파일의 등록한다.\n",
    "\n",
    "![img](figures/mobaxterm/mobaXterm2_연결.png)"
   ]
  },
  {
   "cell_type": "markdown",
   "id": "f8a068d5-cd76-4462-8470-23285fd35949",
   "metadata": {},
   "source": [
    "## 설정 변경\n",
    "- 탄력적 IP를 사용하지 않으면 인스턴스 재시작시 접속 IP 주소가 바뀌므로 IP주로 설정을 다시 해야 한다.\n",
    "- 등록된 설정에서 **Edit Session**을 선택 후 **Remote host** 설정을 변경한다.\n",
    "\n",
    "![img](figures/mobaxterm/mobaXterm3.png)"
   ]
  },
  {
   "cell_type": "markdown",
   "id": "9288924a-088c-4473-b05d-c2e2afa442f4",
   "metadata": {
    "jp-MarkdownHeadingCollapsed": true
   },
   "source": [
    "## 연결\n",
    "- 설정이 완료 되면 왼쪽 패널에 등록 된다.\n",
    "- 설정을 더블클릭 하면 EC2 instance에 연결된다."
   ]
  }
 ],
 "metadata": {
  "kernelspec": {
   "display_name": "Python 3 (ipykernel)",
   "language": "python",
   "name": "python3"
  },
  "language_info": {
   "codemirror_mode": {
    "name": "ipython",
    "version": 3
   },
   "file_extension": ".py",
   "mimetype": "text/x-python",
   "name": "python",
   "nbconvert_exporter": "python",
   "pygments_lexer": "ipython3",
   "version": "3.12.4"
  }
 },
 "nbformat": 4,
 "nbformat_minor": 5
}
