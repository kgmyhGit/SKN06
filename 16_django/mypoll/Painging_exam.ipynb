{
 "cells": [
  {
   "cell_type": "code",
   "execution_count": 1,
   "id": "bc6700eb",
   "metadata": {
    "ExecuteTime": {
     "end_time": "2022-01-03T08:13:10.849537Z",
     "start_time": "2022-01-03T08:13:10.308822Z"
    }
   },
   "outputs": [],
   "source": [
    "# django shell 환경설정\n",
    "import os\n",
    "import django\n",
    "os.environ['DJANGO_SETTINGS_MODULE'] = 'config.settings'\n",
    "os.environ['DJANGO_ALLOW_ASYNC_UNSAFE'] = 'true'\n",
    "\n",
    "django.setup()"
   ]
  },
  {
   "cell_type": "markdown",
   "id": "3adbb7a6",
   "metadata": {},
   "source": [
    "# 페이징 처리\n",
    "-  대량의 데이터를 여러 페이지로 나눠서 출력하는 것.\n",
    "-  Django에서는 Paginator와 Page 클래스를 통해 처리한다.\n",
    "  \n",
    "## Paginator 클래스\n",
    "- 전체 페이징 처리를 관리하는 클래스\n",
    "- 전체 데이터관련 정보, 각 페이지당 보여줄 데이터의 정보 등을 제공\n",
    "\n",
    "## Page 클래스\n",
    "- 한페이지에대한 데이터를 관리\n",
    "- Paginator를 통해서 생성.\n",
    "    - `Pagenator객체.page(페이지 번호)`\n",
    "- iterable 타입. 페이지에 속한 데이터들을 제공\n",
    "- Page객체.object_list 속성: 페이지가 가진 데이터들을 List로 반환"
   ]
  },
  {
   "cell_type": "code",
   "execution_count": 15,
   "id": "6d7f8ea5",
   "metadata": {
    "ExecuteTime": {
     "end_time": "2022-01-03T07:31:27.176517Z",
     "start_time": "2022-01-03T07:31:27.160596Z"
    }
   },
   "outputs": [],
   "source": [
    "from django.core.paginator import Paginator"
   ]
  },
  {
   "cell_type": "code",
   "execution_count": 17,
   "id": "3e67b599",
   "metadata": {
    "ExecuteTime": {
     "end_time": "2022-01-03T07:31:27.799448Z",
     "start_time": "2022-01-03T07:31:27.784488Z"
    }
   },
   "outputs": [
    {
     "name": "stdout",
     "output_type": "stream",
     "text": [
      "62\n"
     ]
    },
    {
     "data": {
      "text/plain": [
       "['0', '1', '2', '3', '4']"
      ]
     },
     "execution_count": 17,
     "metadata": {},
     "output_type": "execute_result"
    }
   ],
   "source": [
    "data_list = list(\"0123456789abcdefghijklmnopqrstuvwxyzABCDEFGHIJKLMNOPQRSTUVWXYZ\")\n",
    "print(len(data_list))\n",
    "data_list[:5]"
   ]
  },
  {
   "cell_type": "code",
   "execution_count": 25,
   "id": "dba23efb",
   "metadata": {},
   "outputs": [],
   "source": [
    "# Paginator 객체 생성 -> 전체 데이터를 다 넣어서 생성.\n",
    "pn = Paginator(data_list, 5) # 전체데이터, 한페이지당 보여질 데이터개수"
   ]
  },
  {
   "cell_type": "code",
   "execution_count": 26,
   "id": "e0d4ff00",
   "metadata": {},
   "outputs": [
    {
     "name": "stdout",
     "output_type": "stream",
     "text": [
      "전체 데이터개수: 62\n",
      "총 페이지수: 13\n",
      "시작페이지번호 ~ 끝페이지번호의 범위: range(1, 14)\n"
     ]
    }
   ],
   "source": [
    "print(\"전체 데이터개수:\", pn.count)\n",
    "print(\"총 페이지수:\", pn.num_pages)\n",
    "print(\"시작페이지번호 ~ 끝페이지번호의 범위:\", pn.page_range)"
   ]
  },
  {
   "cell_type": "code",
   "execution_count": 27,
   "id": "622dd553",
   "metadata": {},
   "outputs": [
    {
     "name": "stdout",
     "output_type": "stream",
     "text": [
      "1\t2\t3\t4\t5\t6\t7\t8\t9\t10\t11\t12\t13\t"
     ]
    }
   ],
   "source": [
    "for p in pn.page_range:\n",
    "    print(p, end='\\t')"
   ]
  },
  {
   "cell_type": "code",
   "execution_count": 29,
   "id": "fa5baede",
   "metadata": {},
   "outputs": [
    {
     "name": "stdout",
     "output_type": "stream",
     "text": [
      "<class 'django.core.paginator.Page'>\n"
     ]
    },
    {
     "data": {
      "text/plain": [
       "<Page 1 of 13>"
      ]
     },
     "execution_count": 29,
     "metadata": {},
     "output_type": "execute_result"
    }
   ],
   "source": [
    "# 특정 Page 객체를 생성\n",
    "page1 = pn.page(1)  # 1 page정보를 가진 Page객체\n",
    "print(type(page1))\n",
    "page1 # 현재페이지 of 총페이지"
   ]
  },
  {
   "cell_type": "code",
   "execution_count": 30,
   "id": "08d97846",
   "metadata": {},
   "outputs": [
    {
     "data": {
      "text/plain": [
       "<Page 10 of 13>"
      ]
     },
     "execution_count": 30,
     "metadata": {},
     "output_type": "execute_result"
    }
   ],
   "source": [
    "page10 = pn.page(10) #중간 페이지지\n",
    "page10"
   ]
  },
  {
   "cell_type": "code",
   "execution_count": 31,
   "id": "ae71a20d",
   "metadata": {},
   "outputs": [
    {
     "data": {
      "text/plain": [
       "<Page 13 of 13>"
      ]
     },
     "execution_count": 31,
     "metadata": {},
     "output_type": "execute_result"
    }
   ],
   "source": [
    "page13 = pn.page(13) # 마지막 페이지\n",
    "page13"
   ]
  },
  {
   "cell_type": "code",
   "execution_count": 33,
   "id": "a3b14bf9",
   "metadata": {},
   "outputs": [],
   "source": [
    "# 없는 페이지 조회 - EmptyPage Exception 발생.\n",
    "# pn.page(100)"
   ]
  },
  {
   "cell_type": "code",
   "execution_count": 36,
   "id": "0cae42c3",
   "metadata": {},
   "outputs": [
    {
     "name": "stdout",
     "output_type": "stream",
     "text": [
      "0, 1, 2, 3, 4, \n",
      "J, K, L, M, N, \n",
      "Y, Z, "
     ]
    }
   ],
   "source": [
    "# Page가 가진 데이터들을 조회 -> Page객체: Iterable\n",
    "for data in page1:\n",
    "    print(data, end=', ')\n",
    "print()\n",
    "for data in page10:\n",
    "    print(data, end=', ')\n",
    "print()\n",
    "for data in page13:\n",
    "    print(data, end=', ')"
   ]
  },
  {
   "cell_type": "code",
   "execution_count": 37,
   "id": "68d381ea",
   "metadata": {},
   "outputs": [
    {
     "data": {
      "text/plain": [
       "'0'"
      ]
     },
     "execution_count": 37,
     "metadata": {},
     "output_type": "execute_result"
    }
   ],
   "source": [
    "# index로 조회 - subscriptable 타입\n",
    "page1[0]"
   ]
  },
  {
   "cell_type": "code",
   "execution_count": 38,
   "id": "a2d57327",
   "metadata": {},
   "outputs": [
    {
     "data": {
      "text/plain": [
       "['0', '1', '2', '3', '4']"
      ]
     },
     "execution_count": 38,
     "metadata": {},
     "output_type": "execute_result"
    }
   ],
   "source": [
    "# Page의 데이터들을 리스트로 반환\n",
    "page1.object_list"
   ]
  },
  {
   "cell_type": "code",
   "execution_count": null,
   "id": "a3dc5ca9",
   "metadata": {},
   "outputs": [],
   "source": []
  },
  {
   "cell_type": "code",
   "execution_count": null,
   "id": "43ef1c41",
   "metadata": {},
   "outputs": [],
   "source": []
  },
  {
   "cell_type": "markdown",
   "id": "e6b65836",
   "metadata": {},
   "source": [
    "## 이전/다음 페이지가 있는지 \n",
    "- `Page객체.has_previous()` / `Page객체.has_next()`\n",
    "- 1페이지: 이전페이지? X, 다음페이지? O\n",
    "- 중간 페이지: 이전페이지? O, 다음페이지? O\n",
    "- 마지막 페이지: 이전? O, 다음페이지? X"
   ]
  },
  {
   "cell_type": "code",
   "execution_count": null,
   "id": "5adc7d0d",
   "metadata": {},
   "outputs": [],
   "source": []
  },
  {
   "cell_type": "code",
   "execution_count": null,
   "id": "311c9725",
   "metadata": {},
   "outputs": [],
   "source": []
  },
  {
   "cell_type": "code",
   "execution_count": null,
   "id": "fd775be6",
   "metadata": {},
   "outputs": [],
   "source": []
  },
  {
   "cell_type": "markdown",
   "id": "97d01906",
   "metadata": {},
   "source": [
    "## 이전/다음페이지 번호 조회\n",
    "- **Page객체.number:** 현재 페이지 번호\n",
    "- **Page객체.previous_page_number():** 이전페이지 번호 조회\n",
    "- **page객체.next_page_number():** 다음페이지 번호 조회"
   ]
  },
  {
   "cell_type": "code",
   "execution_count": null,
   "id": "5e8b61d4",
   "metadata": {},
   "outputs": [],
   "source": []
  },
  {
   "cell_type": "code",
   "execution_count": null,
   "id": "ae315219",
   "metadata": {},
   "outputs": [],
   "source": []
  },
  {
   "cell_type": "code",
   "execution_count": null,
   "id": "bcbae375",
   "metadata": {},
   "outputs": [],
   "source": []
  },
  {
   "cell_type": "markdown",
   "id": "0d301a75",
   "metadata": {},
   "source": [
    "## 각 페이지별 데이터를 출력(조회)"
   ]
  },
  {
   "cell_type": "code",
   "execution_count": null,
   "id": "f50874dd",
   "metadata": {},
   "outputs": [],
   "source": []
  },
  {
   "cell_type": "code",
   "execution_count": null,
   "id": "e76ab073",
   "metadata": {},
   "outputs": [],
   "source": []
  },
  {
   "cell_type": "markdown",
   "id": "fd01b375",
   "metadata": {},
   "source": [
    "# 현재 페이지(요청페이지)가 속한 page 그룹의 (page_range)에서의 시작 index와 끝 index를 조회"
   ]
  },
  {
   "cell_type": "code",
   "execution_count": null,
   "id": "5f46dd96",
   "metadata": {
    "ExecuteTime": {
     "end_time": "2022-01-03T07:34:43.111048Z",
     "start_time": "2022-01-03T07:34:43.103072Z"
    }
   },
   "outputs": [],
   "source": [
    "from django.core.paginator import Paginator\n",
    "\n",
    "data_list = list(\"0123456789abcdefghijklmnopqrstuvwxyzABCDEFGHIJKLMNOPQRSTUVWXYZ\")\n",
    "\n",
    "pn = Paginator(data_list, 5)\n",
    "r = pn.page_range"
   ]
  },
  {
   "cell_type": "code",
   "execution_count": null,
   "id": "be626cd0",
   "metadata": {
    "ExecuteTime": {
     "end_time": "2022-01-03T07:35:20.181168Z",
     "start_time": "2022-01-03T07:35:20.159257Z"
    }
   },
   "outputs": [],
   "source": [
    "# page group당 3개 페이지씩 묶는 경우.\n",
    "print(list(r[0:3]))  # 현재 page: 1 or 2 or 3 일 경우 그 페이지가 속한 페이지들의 index 조회\n",
    "print(list(r[3:6]))  # 현재 page: 4 or 5 or 6 일 경우 그 페이지가 속한 페이지들의 index 조회\n",
    "print(list(r[6:9]))  # 현재 page: 7 or 8 or 9 일 경우 그 페이지가 속한 페이지들의 index 조회"
   ]
  },
  {
   "cell_type": "code",
   "execution_count": null,
   "id": "fee434c0",
   "metadata": {},
   "outputs": [],
   "source": []
  },
  {
   "cell_type": "code",
   "execution_count": null,
   "id": "1ced076c",
   "metadata": {},
   "outputs": [],
   "source": []
  },
  {
   "cell_type": "markdown",
   "id": "46d182a4",
   "metadata": {},
   "source": [
    "## Question, Choice Dummy 데이터 추가"
   ]
  },
  {
   "cell_type": "code",
   "execution_count": 3,
   "id": "e93cf5f3",
   "metadata": {
    "ExecuteTime": {
     "end_time": "2022-01-03T08:13:14.528372Z",
     "start_time": "2022-01-03T08:13:14.511417Z"
    }
   },
   "outputs": [],
   "source": [
    "from polls.models import Question, Choice"
   ]
  },
  {
   "cell_type": "code",
   "execution_count": 7,
   "id": "b9352662",
   "metadata": {},
   "outputs": [],
   "source": [
    "# 기존 데이터를 삭제\n",
    "q_list = Question.objects.all()\n",
    "for q in q_list:\n",
    "    q.delete()"
   ]
  },
  {
   "cell_type": "code",
   "execution_count": 8,
   "id": "5b6f7764",
   "metadata": {},
   "outputs": [
    {
     "name": "stdout",
     "output_type": "stream",
     "text": [
      "0\n",
      "0\n"
     ]
    }
   ],
   "source": [
    "print(Question.objects.all().count())\n",
    "print(Choice.objects.all().count())"
   ]
  },
  {
   "cell_type": "code",
   "execution_count": 9,
   "id": "f451375e",
   "metadata": {
    "ExecuteTime": {
     "end_time": "2022-01-03T08:13:14.730592Z",
     "start_time": "2022-01-03T08:13:14.716598Z"
    }
   },
   "outputs": [],
   "source": [
    "# Question 401개 추가.\n",
    "for i in range(1, 402):\n",
    "    post = Question(question_text=f\"질문 - {i}\")\n",
    "    post.save()"
   ]
  },
  {
   "cell_type": "code",
   "execution_count": 10,
   "id": "1b8127ba",
   "metadata": {},
   "outputs": [
    {
     "name": "stdout",
     "output_type": "stream",
     "text": [
      "401\n"
     ]
    }
   ],
   "source": [
    "cnt = Question.objects.all().count()\n",
    "print(cnt)"
   ]
  },
  {
   "cell_type": "code",
   "execution_count": 12,
   "id": "635905c4",
   "metadata": {},
   "outputs": [
    {
     "data": {
      "text/plain": [
       "411"
      ]
     },
     "execution_count": 12,
     "metadata": {},
     "output_type": "execute_result"
    }
   ],
   "source": [
    "start_id = Question.objects.all()[0].pk\n",
    "start_id"
   ]
  },
  {
   "cell_type": "code",
   "execution_count": 13,
   "id": "6d1a65e9",
   "metadata": {},
   "outputs": [],
   "source": [
    "# 각 문제당 보기 4개씩추가.\n",
    "import random\n",
    "\n",
    "for i in range(start_id, cnt + start_id):  # 1 번 ~ 401번 까지 이므로.  range(1 , cnt+1)\n",
    "    for j in range(4):\n",
    "        c = Choice(\n",
    "            choice_text=f\"{j}번 보기입니다.\",\n",
    "            votes=random.randint(1, 100),\n",
    "            question=Question(pk=i),\n",
    "        )\n",
    "        c.save()"
   ]
  },
  {
   "cell_type": "code",
   "execution_count": 14,
   "id": "d291c00c",
   "metadata": {},
   "outputs": [
    {
     "name": "stdout",
     "output_type": "stream",
     "text": [
      "401\n",
      "1604\n"
     ]
    }
   ],
   "source": [
    "print(Question.objects.all().count())\n",
    "print(Choice.objects.all().count())"
   ]
  },
  {
   "cell_type": "code",
   "execution_count": null,
   "id": "647c8af8",
   "metadata": {},
   "outputs": [],
   "source": []
  },
  {
   "cell_type": "code",
   "execution_count": null,
   "id": "7e99fd7e",
   "metadata": {},
   "outputs": [],
   "source": []
  },
  {
   "cell_type": "code",
   "execution_count": null,
   "id": "1659cee1",
   "metadata": {},
   "outputs": [],
   "source": []
  },
  {
   "cell_type": "code",
   "execution_count": null,
   "id": "96681903",
   "metadata": {},
   "outputs": [],
   "source": []
  }
 ],
 "metadata": {
  "kernelspec": {
   "display_name": "django",
   "language": "python",
   "name": "python3"
  },
  "language_info": {
   "codemirror_mode": {
    "name": "ipython",
    "version": 3
   },
   "file_extension": ".py",
   "mimetype": "text/x-python",
   "name": "python",
   "nbconvert_exporter": "python",
   "pygments_lexer": "ipython3",
   "version": "3.12.8"
  },
  "toc": {
   "base_numbering": 1,
   "nav_menu": {},
   "number_sections": true,
   "sideBar": true,
   "skip_h1_title": false,
   "title_cell": "Table of Contents",
   "title_sidebar": "Contents",
   "toc_cell": false,
   "toc_position": {},
   "toc_section_display": true,
   "toc_window_display": false
  },
  "varInspector": {
   "cols": {
    "lenName": 16,
    "lenType": 16,
    "lenVar": 40
   },
   "kernels_config": {
    "python": {
     "delete_cmd_postfix": "",
     "delete_cmd_prefix": "del ",
     "library": "var_list.py",
     "varRefreshCmd": "print(var_dic_list())"
    },
    "r": {
     "delete_cmd_postfix": ") ",
     "delete_cmd_prefix": "rm(",
     "library": "var_list.r",
     "varRefreshCmd": "cat(var_dic_list()) "
    }
   },
   "types_to_exclude": [
    "module",
    "function",
    "builtin_function_or_method",
    "instance",
    "_Feature"
   ],
   "window_display": false
  }
 },
 "nbformat": 4,
 "nbformat_minor": 5
}
