{
 "cells": [
  {
   "cell_type": "markdown",
   "metadata": {},
   "source": [
    "<!-- ORM_Exam.ipynb -->\n",
    "# Jup"
   ]
  },
  {
   "cell_type": "code",
   "execution_count": 1,
   "metadata": {},
   "outputs": [],
   "source": [
    "# JupyterLab에서 django shell을 실행시키기 위한 설정\n",
    "import os\n",
    "import django\n",
    "\n",
    "os.environ[\"DJANGO_SETTINGS_MODULE\"] = \"config.settings\" # config/settings.py 모듈 지정\n",
    "os.environ[\"DJANGO_ALLOW_ASYNC_UNSAFE\"] = \"true\"\n",
    "\n",
    "django.setup()"
   ]
  },
  {
   "cell_type": "code",
   "execution_count": 2,
   "metadata": {},
   "outputs": [
    {
     "name": "stdout",
     "output_type": "stream",
     "text": [
      "1. 빨강색\n"
     ]
    }
   ],
   "source": [
    "from polls.models import Question, Choice\n",
    "\n",
    "c = Choice.objects.get(pk=1)\n",
    "print(c)"
   ]
  },
  {
   "cell_type": "code",
   "execution_count": 4,
   "metadata": {},
   "outputs": [
    {
     "name": "stdout",
     "output_type": "stream",
     "text": [
      "<class 'django.db.models.manager.Manager'> <class 'django.db.models.manager.Manager'>\n"
     ]
    }
   ],
   "source": [
    "# Model Manager -> Model클래스.objects => SQL을 실행하는 메소드들 제공.(DB작업 관리자자)\n",
    "print(type(Choice.objects), type(Question.objects))"
   ]
  },
  {
   "cell_type": "code",
   "execution_count": 5,
   "metadata": {},
   "outputs": [
    {
     "name": "stdout",
     "output_type": "stream",
     "text": [
      "<class 'django.db.models.query.QuerySet'>\n"
     ]
    }
   ],
   "source": [
    "# QuerySet 조회결과들을 담아주는 객체.\n",
    "result = Choice.objects.all() # select * from tb(choice);\n",
    "print(type(result))"
   ]
  },
  {
   "cell_type": "code",
   "execution_count": 7,
   "metadata": {},
   "outputs": [
    {
     "name": "stdout",
     "output_type": "stream",
     "text": [
      "1. 빨강색\n",
      "2. 파랑색\n",
      "3. 빨강색\n",
      "4. 검정색\n",
      "5. 초록색\n",
      "6. 검정색\n",
      "7. 초록색\n",
      "8. 호랑이\n",
      "9. 사자\n",
      "10. 개\n",
      "11. 고양이\n",
      "12. 뱀\n",
      "13. 도마뱀\n",
      "14. 하이에나\n",
      "15. 파이썬\n",
      "16. 자바\n",
      "17. Javascript\n",
      "18. C\n",
      "19. 코끼리\n"
     ]
    }
   ],
   "source": [
    "# QuerySet: iterable\n",
    "for r in result:\n",
    "    print(r)"
   ]
  },
  {
   "cell_type": "code",
   "execution_count": 10,
   "metadata": {},
   "outputs": [
    {
     "data": {
      "text/plain": [
       "(<Choice: 2. 파랑색>, 19)"
      ]
     },
     "execution_count": 10,
     "metadata": {},
     "output_type": "execute_result"
    }
   ],
   "source": [
    "# QuerySet: subscriptable \n",
    "result[1], len(result)"
   ]
  },
  {
   "cell_type": "markdown",
   "metadata": {},
   "source": [
    "# 조회\n",
    "- `Model.objects.all()` : 전체조회\n",
    "- `Model.objects.filter(), exclude(), get()`\n",
    "    - where절이 있는 조회"
   ]
  },
  {
   "cell_type": "code",
   "execution_count": 13,
   "metadata": {},
   "outputs": [
    {
     "name": "stdout",
     "output_type": "stream",
     "text": [
      "조회결과 개수: 5\n",
      "실행된 SQL문조회 - QuerySet.query\n",
      "SELECT \"polls_question\".\"id\", \"polls_question\".\"question_text\", \"polls_question\".\"pub_date\" FROM \"polls_question\"\n"
     ]
    }
   ],
   "source": [
    "result_list = Question.objects.all()\n",
    "print(\"조회결과 개수:\", len(result_list))\n",
    "print(\"실행된 SQL문조회 - QuerySet.query\")\n",
    "print(result_list.query)"
   ]
  },
  {
   "cell_type": "code",
   "execution_count": 17,
   "metadata": {},
   "outputs": [
    {
     "name": "stdout",
     "output_type": "stream",
     "text": [
      "1 1,  좋아하는 색은 무엇입니까? 2025-01-03 08:46:43.327472+00:00\n",
      "2 2,  싫어하는 색은 무엇입니까? 2025-01-03 08:47:28.701171+00:00\n",
      "3 3,  좋아하는 동물은 무엇인가요? 2025-01-06 00:46:18.116403+00:00\n",
      "4 4,  싫어하는 동물은 무엇인가요? 2025-01-06 00:46:31.072882+00:00\n",
      "5 5,  공부하고 싶은 프로그래밍 언어는 무엇입니까? 2025-01-06 00:46:55.941613+00:00\n"
     ]
    }
   ],
   "source": [
    "for result in result_list:\n",
    "    #print(result)  #model.__str__() \n",
    "    # 개별 Field 조회(instance 변수)\n",
    "    print(result.id, result.pk, end=\",  \")  # id-primarykey field이름, pk: primary key\n",
    "    print(result.question_text, result.pub_date)"
   ]
  },
  {
   "cell_type": "code",
   "execution_count": 24,
   "metadata": {},
   "outputs": [
    {
     "name": "stdout",
     "output_type": "stream",
     "text": [
      "4 싫어하는 동물은 무엇인가요? 2025-01-06 00:46:31\n"
     ]
    }
   ],
   "source": [
    "#  조회결과에서 개별 데이터 조회 - indexing\n",
    "r = result_list[3]\n",
    "print(r.pk, r.question_text, r.pub_date.strftime('%Y-%m-%d %H:%M:%S'))"
   ]
  },
  {
   "cell_type": "code",
   "execution_count": 26,
   "metadata": {},
   "outputs": [],
   "source": [
    "# QuerySet은 음수 index는 지원하지 않는다.\n",
    "# result_list[-1]"
   ]
  },
  {
   "cell_type": "code",
   "execution_count": 34,
   "metadata": {},
   "outputs": [
    {
     "data": {
      "text/plain": [
       "<Question: 5. 공부하고 싶은 프로그래밍 언어는 무엇입니까?>"
      ]
     },
     "execution_count": 34,
     "metadata": {},
     "output_type": "execute_result"
    }
   ],
   "source": [
    "# QuerySet.first() : 첫번째 조회값 . result_list[0]\n",
    "# QuerySet.last()  :  마지막 조회값. result_list[-1]\n",
    "result_list.first()\n",
    "result_list.last()"
   ]
  },
  {
   "cell_type": "code",
   "execution_count": 27,
   "metadata": {},
   "outputs": [
    {
     "data": {
      "text/plain": [
       "[<Question: 1. 좋아하는 색은 무엇입니까?>,\n",
       " <Question: 2. 싫어하는 색은 무엇입니까?>,\n",
       " <Question: 3. 좋아하는 동물은 무엇인가요?>]"
      ]
     },
     "execution_count": 27,
     "metadata": {},
     "output_type": "execute_result"
    }
   ],
   "source": [
    "result_list[:3]  # slicing -반환타입-> list"
   ]
  },
  {
   "cell_type": "code",
   "execution_count": 28,
   "metadata": {},
   "outputs": [
    {
     "data": {
      "text/plain": [
       "list"
      ]
     },
     "execution_count": 28,
     "metadata": {},
     "output_type": "execute_result"
    }
   ],
   "source": [
    "type(result_list[:3])"
   ]
  },
  {
   "cell_type": "code",
   "execution_count": 38,
   "metadata": {},
   "outputs": [
    {
     "name": "stdout",
     "output_type": "stream",
     "text": [
      "5 공부하고 싶은 프로그래밍 언어는 무엇입니까? 2025-01-06 00:46:55.941613+00:00\n",
      "4 싫어하는 동물은 무엇인가요? 2025-01-06 00:46:31.072882+00:00\n",
      "2 싫어하는 색은 무엇입니까? 2025-01-03 08:47:28.701171+00:00\n",
      "3 좋아하는 동물은 무엇인가요? 2025-01-06 00:46:18.116403+00:00\n",
      "1 좋아하는 색은 무엇입니까? 2025-01-03 08:46:43.327472+00:00\n"
     ]
    }
   ],
   "source": [
    "## 정렬 - sql: orderby 절\n",
    "# queryset.order_by(\"field명\") : asc, .order_by(\"-field명\") : desc\n",
    "## 기준 컬럼이 여러개일 경우 나열한다. \n",
    "\n",
    "# result_list = Question.objects.all()\n",
    "# result_list = Question.objects.all().order_by(\"-pk\") # id desc\n",
    "result_list = Question.objects.all().order_by(\"question_text\") # question_text asc\n",
    "for result in result_list:\n",
    "    print(result.pk, result.question_text, result.pub_date)"
   ]
  },
  {
   "cell_type": "code",
   "execution_count": 42,
   "metadata": {},
   "outputs": [
    {
     "name": "stdout",
     "output_type": "stream",
     "text": [
      "15 파이썬 200\n",
      "8 호랑이 100\n",
      "17 Javascript 51\n",
      "10 개 50\n",
      "16 자바 50\n",
      "12 뱀 35\n",
      "6 검정색 30\n",
      "4 검정색 20\n",
      "11 고양이 20\n",
      "9 사자 20\n",
      "14 하이에나 17\n",
      "18 C 14\n",
      "19 코끼리 11\n",
      "7 초록색 10\n",
      "13 도마뱀 5\n",
      "5 초록색 3\n",
      "1 빨강색 0\n",
      "3 빨강색 0\n",
      "2 파랑색 0\n"
     ]
    }
   ],
   "source": [
    "result_list = Choice.objects.all().order_by(\"-votes\", \"choice_text\")\n",
    "# SQL: orderby  votes desc, choice_text asc\n",
    "for result in result_list:\n",
    "    print(result.pk, result.choice_text, result.votes)"
   ]
  },
  {
   "cell_type": "code",
   "execution_count": 43,
   "metadata": {},
   "outputs": [
    {
     "name": "stdout",
     "output_type": "stream",
     "text": [
      "SELECT \"polls_choice\".\"id\", \"polls_choice\".\"choice_text\", \"polls_choice\".\"votes\", \"polls_choice\".\"question_id\" FROM \"polls_choice\" ORDER BY \"polls_choice\".\"votes\" DESC, \"polls_choice\".\"choice_text\" ASC\n"
     ]
    }
   ],
   "source": [
    "print(result_list.query)"
   ]
  },
  {
   "cell_type": "markdown",
   "metadata": {},
   "source": [
    "## Where (조건)으로 조회\n",
    "- `filter()`: 조회조건이 True행들을 조회 => QuerySet return\n",
    "- `exclude()`: 조회조건이 False행들을 조회 => QuerySet return\n",
    "- `get()` : 조회결과가 1개일 때만 사용(pk=값). 조회결과가 없거나 2개 이상이면 Exception발생. => Model return\n",
    "- 조회조건 형식: `filed이름__연산자 = 값`"
   ]
  },
  {
   "cell_type": "code",
   "execution_count": 47,
   "metadata": {},
   "outputs": [
    {
     "name": "stdout",
     "output_type": "stream",
     "text": [
      "<class 'django.db.models.query.QuerySet'>\n"
     ]
    },
    {
     "data": {
      "text/plain": [
       "<QuerySet [<Question: 2. 싫어하는 색은 무엇입니까?>, <Question: 3. 좋아하는 동물은 무엇인가요?>, <Question: 4. 싫어하는 동물은 무엇인가요?>, <Question: 5. 공부하고 싶은 프로그래밍 언어는 무엇입니까?>]>"
      ]
     },
     "execution_count": 47,
     "metadata": {},
     "output_type": "execute_result"
    }
   ],
   "source": [
    "result = Question.objects.filter(pk=1)   # where pk = 1\n",
    "result = Question.objects.get(pk=1)      # where pk = 1\n",
    "result = Question.objects.exclude(pk=1)  # where not (pk = 1)\n",
    "print(type(result))\n",
    "result"
   ]
  },
  {
   "cell_type": "code",
   "execution_count": 57,
   "metadata": {},
   "outputs": [
    {
     "name": "stdout",
     "output_type": "stream",
     "text": [
      "1. 빨강색\n",
      "3. 빨강색\n"
     ]
    }
   ],
   "source": [
    "### 비교 연산\n",
    "result = Choice.objects.filter(pk__lt = 5) # where pk < 5\n",
    "result = Choice.objects.filter(pk__lte = 5) # where pk <= 5\n",
    "result = Choice.objects.filter(pk__gt = 15) # where pk > 15\n",
    "result = Choice.objects.filter(pk__gte = 15) # where pk >= 15\n",
    "result = Choice.objects.filter(choice_text = \"빨강색\")\n",
    "for r in result:\n",
    "    print(r)"
   ]
  },
  {
   "cell_type": "code",
   "execution_count": 58,
   "metadata": {},
   "outputs": [
    {
     "name": "stdout",
     "output_type": "stream",
     "text": [
      "SELECT \"polls_choice\".\"id\", \"polls_choice\".\"choice_text\", \"polls_choice\".\"votes\", \"polls_choice\".\"question_id\" FROM \"polls_choice\" WHERE \"polls_choice\".\"choice_text\" = 빨강색\n"
     ]
    }
   ],
   "source": [
    "print(result.query)"
   ]
  },
  {
   "cell_type": "code",
   "execution_count": 67,
   "metadata": {},
   "outputs": [
    {
     "name": "stdout",
     "output_type": "stream",
     "text": [
      "SELECT \"polls_question\".\"id\", \"polls_question\".\"question_text\", \"polls_question\".\"pub_date\" FROM \"polls_question\" WHERE NOT (\"polls_question\".\"question_text\" LIKE %무엇입니까? ESCAPE '\\')\n",
      "3. 좋아하는 동물은 무엇인가요?\n",
      "4. 싫어하는 동물은 무엇인가요?\n"
     ]
    }
   ],
   "source": [
    "# 문자열 컬럼 부분일치 (like)\n",
    "result = Question.objects.filter(question_text__contains = \"색은\")\n",
    "# where question_text like '%색은%'\n",
    "\n",
    "result = Question.objects.filter(question_text__startswith = \"좋아하는\")\n",
    "# where question_text like '좋아하는%'\n",
    "\n",
    "result = Question.objects.filter(question_text__endswith = \"무엇입니까?\")\n",
    "# where question_text like '%무엇입니까?'\n",
    "\n",
    "result = Question.objects.exclude(question_text__endswith = \"무엇입니까?\")\n",
    "\n",
    "print(result.query)\n",
    "for r in result:\n",
    "    print(r)"
   ]
  },
  {
   "cell_type": "code",
   "execution_count": 66,
   "metadata": {},
   "outputs": [
    {
     "data": {
      "text/plain": [
       "<QuerySet [<Question: 2. 싫어하는 색은 무엇입니까?>, <Question: 5. 공부하고 싶은 프로그래밍 언어는 무엇입니까?>]>"
      ]
     },
     "execution_count": 66,
     "metadata": {},
     "output_type": "execute_result"
    }
   ],
   "source": [
    "## where 컬럼 in [v1, v2, v3, ..]\n",
    "Question.objects.filter(pk__in = [1, 3, 4])\n",
    "Question.objects.exclude(pk__in = [1, 3, 4])  # not"
   ]
  },
  {
   "cell_type": "code",
   "execution_count": 68,
   "metadata": {},
   "outputs": [
    {
     "data": {
      "text/plain": [
       "<QuerySet [<Choice: 2. 파랑색>, <Choice: 3. 빨강색>, <Choice: 4. 검정색>, <Choice: 5. 초록색>, <Choice: 6. 검정색>]>"
      ]
     },
     "execution_count": 68,
     "metadata": {},
     "output_type": "execute_result"
    }
   ],
   "source": [
    "## where 컬럼 between A and B \n",
    "Choice.objects.filter(pk__range = [2, 6]) # pk between 2 and 6"
   ]
  },
  {
   "cell_type": "markdown",
   "metadata": {},
   "source": [
    "#### where 절의 and, or\n",
    "- `AND`: 조건을 나열한다.\n",
    "- `OR` : 각 조건을 Q()함수에 넣고 `|` 로 연결한다."
   ]
  },
  {
   "cell_type": "code",
   "execution_count": 70,
   "metadata": {},
   "outputs": [
    {
     "name": "stdout",
     "output_type": "stream",
     "text": [
      "SELECT \"polls_question\".\"id\", \"polls_question\".\"question_text\", \"polls_question\".\"pub_date\" FROM \"polls_question\" WHERE (\"polls_question\".\"id\" < 3 AND \"polls_question\".\"question_text\" LIKE %무엇입니까? ESCAPE '\\')\n",
      "1. 좋아하는 색은 무엇입니까?\n",
      "2. 싫어하는 색은 무엇입니까?\n"
     ]
    }
   ],
   "source": [
    "result = Question.objects.filter(\n",
    "    question_text__endswith = \"무엇입니까?\",\n",
    "    pk__lt = 3\n",
    ")\n",
    "\n",
    "print(result.query)\n",
    "for r in result:\n",
    "    print(r)"
   ]
  },
  {
   "cell_type": "code",
   "execution_count": 73,
   "metadata": {},
   "outputs": [
    {
     "name": "stdout",
     "output_type": "stream",
     "text": [
      "SELECT \"polls_question\".\"id\", \"polls_question\".\"question_text\", \"polls_question\".\"pub_date\" FROM \"polls_question\" WHERE (NOT (\"polls_question\".\"question_text\" LIKE %무엇입니까? ESCAPE '\\') OR \"polls_question\".\"id\" >= 3)\n",
      "3. 좋아하는 동물은 무엇인가요?\n",
      "4. 싫어하는 동물은 무엇인가요?\n",
      "5. 공부하고 싶은 프로그래밍 언어는 무엇입니까?\n"
     ]
    }
   ],
   "source": [
    "# or\n",
    "from django.db.models import Q\n",
    "\n",
    "# OR : 조건을 Q에 넣고 `|` 연결\n",
    "result = Question.objects.filter(\n",
    "    Q(question_text__endswith = \"무엇입니까?\") | Q(pk__gte = 3)\n",
    ")\n",
    "\n",
    "# ~Q(조건) : not 조건\n",
    "##  AND 나 OR 로 조회조건을 합칠때 개별 조건에 NOT을 붙이려면 Q()를 이용.\n",
    "result = Question.objects.filter(\n",
    "    ~Q(question_text__endswith = \"무엇입니까?\") | Q(pk__gte = 3)\n",
    ")\n",
    "\n",
    "print(result.query)\n",
    "for r in result:\n",
    "    print(r)\n"
   ]
  },
  {
   "cell_type": "markdown",
   "metadata": {},
   "source": [
    "### 조회 컬럼을 지정\n",
    "- `values(컬럼명, ..)`\n",
    "    - 개별(행) 조회 결과를 dictionary로 반환."
   ]
  },
  {
   "cell_type": "code",
   "execution_count": 82,
   "metadata": {},
   "outputs": [
    {
     "data": {
      "text/plain": [
       "<QuerySet [{'pk': 1, 'question_text': '좋아하는 색은 무엇입니까?'}, {'pk': 2, 'question_text': '싫어하는 색은 무엇입니까?'}]>"
      ]
     },
     "execution_count": 82,
     "metadata": {},
     "output_type": "execute_result"
    }
   ],
   "source": [
    "result = Question.objects.all().values('pk', 'question_text')\n",
    "result = Question.objects.filter(pk__lt = 3).values('pk', 'question_text')\n",
    "\n",
    "result"
   ]
  },
  {
   "cell_type": "code",
   "execution_count": 83,
   "metadata": {},
   "outputs": [
    {
     "name": "stdout",
     "output_type": "stream",
     "text": [
      "SELECT \"polls_question\".\"id\", \"polls_question\".\"question_text\" FROM \"polls_question\" WHERE \"polls_question\".\"id\" < 3\n"
     ]
    }
   ],
   "source": [
    "print(result.query)"
   ]
  },
  {
   "cell_type": "code",
   "execution_count": 88,
   "metadata": {},
   "outputs": [
    {
     "name": "stdout",
     "output_type": "stream",
     "text": [
      "조회결과가 없습니다.\n"
     ]
    }
   ],
   "source": [
    "try:\n",
    "    a = Question.objects.get(pk=20)\n",
    "    print(a)\n",
    "except:\n",
    "    print('조회결과가 없습니다.')"
   ]
  },
  {
   "cell_type": "code",
   "execution_count": null,
   "metadata": {},
   "outputs": [],
   "source": []
  },
  {
   "cell_type": "code",
   "execution_count": null,
   "metadata": {},
   "outputs": [],
   "source": []
  }
 ],
 "metadata": {
  "kernelspec": {
   "display_name": "django",
   "language": "python",
   "name": "python3"
  },
  "language_info": {
   "codemirror_mode": {
    "name": "ipython",
    "version": 3
   },
   "file_extension": ".py",
   "mimetype": "text/x-python",
   "name": "python",
   "nbconvert_exporter": "python",
   "pygments_lexer": "ipython3",
   "version": "3.12.8"
  }
 },
 "nbformat": 4,
 "nbformat_minor": 2
}
