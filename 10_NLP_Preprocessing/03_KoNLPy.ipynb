{
 "cells": [
  {
   "cell_type": "code",
   "execution_count": 1,
   "metadata": {},
   "outputs": [],
   "source": [
    "txt = 'KoNLPy는 한국어 정보처리를 위한 파이썬 패키지입니다. 설치법은 이 곳을 참고해주세요. NLP를 처음 시작하시는 분들은 시작하기 에서 가볍게 기본 지식을 습득할 수 있습니다.'"
   ]
  },
  {
   "cell_type": "code",
   "execution_count": 2,
   "metadata": {
    "collapsed": true,
    "jupyter": {
     "outputs_hidden": true
    }
   },
   "outputs": [
    {
     "data": {
      "text/plain": [
       "['KoNLPy는',\n",
       " '한국어',\n",
       " '정보처리를',\n",
       " '위한',\n",
       " '파이썬',\n",
       " '패키지입니다',\n",
       " '.',\n",
       " '설치법은',\n",
       " '이',\n",
       " '곳을',\n",
       " '참고해주세요',\n",
       " '.',\n",
       " 'NLP를',\n",
       " '처음',\n",
       " '시작하시는',\n",
       " '분들은',\n",
       " '시작하기',\n",
       " '에서',\n",
       " '가볍게',\n",
       " '기본',\n",
       " '지식을',\n",
       " '습득할',\n",
       " '수',\n",
       " '있습니다',\n",
       " '.']"
      ]
     },
     "execution_count": 2,
     "metadata": {},
     "output_type": "execute_result"
    }
   ],
   "source": [
    "import nltk\n",
    "word_list = nltk.word_tokenize(txt)\n",
    "word_list"
   ]
  },
  {
   "cell_type": "code",
   "execution_count": 4,
   "metadata": {
    "collapsed": true,
    "jupyter": {
     "outputs_hidden": true
    },
    "scrolled": true
   },
   "outputs": [
    {
     "data": {
      "text/plain": [
       "['konlpy는',\n",
       " '한국어',\n",
       " '정보처리를',\n",
       " '위한',\n",
       " '파이썬',\n",
       " '패키지입니다',\n",
       " '.',\n",
       " '설치법은',\n",
       " '이',\n",
       " '곳을',\n",
       " '참고해주세요',\n",
       " '.',\n",
       " 'nlp를',\n",
       " '처음',\n",
       " '시작하시는',\n",
       " '분들은',\n",
       " '시작하기',\n",
       " '에서',\n",
       " '가볍게',\n",
       " '기본',\n",
       " '지식을',\n",
       " '습득할',\n",
       " '수',\n",
       " '있습니다',\n",
       " '.']"
      ]
     },
     "execution_count": 4,
     "metadata": {},
     "output_type": "execute_result"
    }
   ],
   "source": [
    "from nltk.stem import PorterStemmer # 어간추출기.\n",
    "stemmer = PorterStemmer()\n",
    "[stemmer.stem(word) for word in word_list]"
   ]
  },
  {
   "cell_type": "code",
   "execution_count": 5,
   "metadata": {
    "collapsed": true,
    "jupyter": {
     "outputs_hidden": true
    },
    "scrolled": true
   },
   "outputs": [
    {
     "data": {
      "text/plain": [
       "[('KoNLPy는', 'NNP'),\n",
       " ('한국어', 'NNP'),\n",
       " ('정보처리를', 'NNP'),\n",
       " ('위한', 'NNP'),\n",
       " ('파이썬', 'NNP'),\n",
       " ('패키지입니다', 'NNP'),\n",
       " ('.', '.'),\n",
       " ('설치법은', 'VB'),\n",
       " ('이', 'JJ'),\n",
       " ('곳을', 'NNP'),\n",
       " ('참고해주세요', 'NNP'),\n",
       " ('.', '.'),\n",
       " ('NLP를', 'NNP'),\n",
       " ('처음', 'NNP'),\n",
       " ('시작하시는', 'NNP'),\n",
       " ('분들은', 'NNP'),\n",
       " ('시작하기', 'NNP'),\n",
       " ('에서', 'NNP'),\n",
       " ('가볍게', 'NNP'),\n",
       " ('기본', 'NNP'),\n",
       " ('지식을', 'NNP'),\n",
       " ('습득할', 'NNP'),\n",
       " ('수', 'NNP'),\n",
       " ('있습니다', 'NNP'),\n",
       " ('.', '.')]"
      ]
     },
     "execution_count": 5,
     "metadata": {},
     "output_type": "execute_result"
    }
   ],
   "source": [
    "from nltk.tag import pos_tag\n",
    "pos_tag(word_list)"
   ]
  },
  {
   "cell_type": "code",
   "execution_count": null,
   "metadata": {},
   "outputs": [],
   "source": []
  },
  {
   "cell_type": "markdown",
   "metadata": {},
   "source": [
    "# KoNLPy(코엔엘파이)\n",
    "- KoNLPY는 한국어 자연어 처리(Natural Language Processing) 파이썬 라이브러리이다.  한국어 처리를 위한 tokenize, 형태소 분석, 어간추출, 품사부착(POS Tagging) 등의 기능을 제공한다. \n",
    "- http://KoNLPy.org/ko/latest/\n",
    "- 기존의 개발된 다양한 형태소 분석기를 통합해서 동일한 interface로 호출 할 수 있게 해준다."
   ]
  },
  {
   "cell_type": "markdown",
   "metadata": {},
   "source": [
    "## KoNLPy 설치 순서\n",
    "1. Java 실행환경 설치\n",
    "2. JPype1 설치\n",
    "3. koNLPy 설치"
   ]
  },
  {
   "cell_type": "markdown",
   "metadata": {},
   "source": [
    "### 1. Java설치\n",
    "- https://www.oracle.com/java/technologies/downloads/\n",
    "- OS에 맞게 다운로드 한다.\n",
    "- 시스템 환경변수 설정\n",
    "    - `JAVA_HOME` : 설치 경로 지정\n",
    "    - `Path` : `설치경로\\bin` 경로 지정"
   ]
  },
  {
   "cell_type": "code",
   "execution_count": 6,
   "metadata": {
    "collapsed": true,
    "jupyter": {
     "outputs_hidden": true
    }
   },
   "outputs": [
    {
     "name": "stdout",
     "output_type": "stream",
     "text": [
      "Collecting jpype1\n",
      "  Using cached JPype1-1.5.0-cp312-cp312-win_amd64.whl.metadata (5.0 kB)\n",
      "Requirement already satisfied: packaging in c:\\users\\playdata\\miniconda3\\envs\\ml\\lib\\site-packages (from jpype1) (24.1)\n",
      "Using cached JPype1-1.5.0-cp312-cp312-win_amd64.whl (352 kB)\n",
      "Installing collected packages: jpype1\n",
      "Successfully installed jpype1-1.5.0\n"
     ]
    }
   ],
   "source": [
    "!pip install jpype1"
   ]
  },
  {
   "cell_type": "code",
   "execution_count": 7,
   "metadata": {
    "collapsed": true,
    "jupyter": {
     "outputs_hidden": true
    },
    "scrolled": true
   },
   "outputs": [
    {
     "name": "stdout",
     "output_type": "stream",
     "text": [
      "Collecting konlpy\n",
      "  Using cached konlpy-0.6.0-py2.py3-none-any.whl.metadata (1.9 kB)\n",
      "Requirement already satisfied: JPype1>=0.7.0 in c:\\users\\playdata\\miniconda3\\envs\\ml\\lib\\site-packages (from konlpy) (1.5.0)\n",
      "Requirement already satisfied: lxml>=4.1.0 in c:\\users\\playdata\\miniconda3\\envs\\ml\\lib\\site-packages (from konlpy) (5.3.0)\n",
      "Requirement already satisfied: numpy>=1.6 in c:\\users\\playdata\\miniconda3\\envs\\ml\\lib\\site-packages (from konlpy) (2.1.2)\n",
      "Requirement already satisfied: packaging in c:\\users\\playdata\\miniconda3\\envs\\ml\\lib\\site-packages (from JPype1>=0.7.0->konlpy) (24.1)\n",
      "Using cached konlpy-0.6.0-py2.py3-none-any.whl (19.4 MB)\n",
      "Installing collected packages: konlpy\n",
      "Successfully installed konlpy-0.6.0\n"
     ]
    }
   ],
   "source": [
    "!pip install konlpy"
   ]
  },
  {
   "cell_type": "markdown",
   "metadata": {},
   "source": [
    "### 2. JPype1 설치\n",
    "\n",
    "- 파이썬에서 자바 모듈을 호출하기 위한 연동 패키지\n",
    "- 설치: `!pip install JPype1`"
   ]
  },
  {
   "cell_type": "markdown",
   "metadata": {},
   "source": [
    "### 3. KoNLPy 설치\n",
    "- `pip install konlpy`"
   ]
  },
  {
   "cell_type": "code",
   "execution_count": null,
   "metadata": {},
   "outputs": [],
   "source": []
  },
  {
   "cell_type": "markdown",
   "metadata": {},
   "source": [
    "## 형태소 분석기/사전\n",
    "- 형태소 사전을 내장하고 있으며 형태소 분석 함수들을 제공하는 모듈\n",
    "\n",
    "### KoNLPy 제공 형태소 분석기\n",
    "- Open Korean Text\n",
    "    - 트위터에서 개발\n",
    "    - https://github.com/open-korean-text/open-korean-text\n",
    "- Hannanum(한나눔)\n",
    "    - KAIST Semantic Web Research Center 에서 개발\n",
    "    - http://semanticweb.kaist.ac.kr/hannanum/\n",
    "- Kkma(꼬꼬마)\n",
    "    - 서울대학교 IDS(Intelligent Data Systems) 연구실 개발.\n",
    "    - http://kkma.snu.ac.kr/\n",
    "- Komoran(코모란)\n",
    "    - Shineware에서 개발.\n",
    "    - 오픈소스버전과 유료버전이 있음\n",
    "    - https://github.com/shin285/KOMORAN\n",
    "- Mecab(메카브) \n",
    "    - 일본어용 형태소 분석기를 한국에서 사용할 수 있도록 수정\n",
    "    - windows에서는 설치가 안됨\n",
    "    - https://bitbucket.org/eunjeon/mecab-ko\n"
   ]
  },
  {
   "cell_type": "markdown",
   "metadata": {},
   "source": [
    "## 형태소 분석기 공통 메소드\n",
    "- `morphs(string)` : 형태소 단위로 토큰화(tokenize)\n",
    "- `nouns(string)` : 명사만 추출하여 토큰화(tokenize)    \n",
    "- `pos(string)`: 품사 부착\n",
    "    - 형태소 분석기 마다 사용하는 품사태그가 다르다.\n",
    "        - https://konlpy-ko.readthedocs.io/ko/v0.5.2/morph/\n",
    "- `tagset`: 형태소 분석기가 사용하는 품사태그 설명하는 속성. "
   ]
  },
  {
   "cell_type": "markdown",
   "metadata": {},
   "source": [
    "## KoNLPy 제공 말뭉치\n",
    "1. kolaw: 대한민국 헌법 말뭉치\n",
    "    - constitution.txt\n",
    "2. kobill: 대한민국 국회 의안(국회에서 심의하는 안건-법률, 예산등) 말뭉치\n",
    "    -1809890.txt ~ 1809899.txt"
   ]
  },
  {
   "cell_type": "code",
   "execution_count": 8,
   "metadata": {},
   "outputs": [],
   "source": [
    "from konlpy.corpus import kolaw, kobill"
   ]
  },
  {
   "cell_type": "code",
   "execution_count": 12,
   "metadata": {},
   "outputs": [
    {
     "data": {
      "text/plain": [
       "['constitution.txt']"
      ]
     },
     "execution_count": 12,
     "metadata": {},
     "output_type": "execute_result"
    }
   ],
   "source": [
    "kolaw.fileids()"
   ]
  },
  {
   "cell_type": "code",
   "execution_count": 10,
   "metadata": {
    "collapsed": true,
    "jupyter": {
     "outputs_hidden": true
    },
    "scrolled": true
   },
   "outputs": [
    {
     "data": {
      "text/plain": [
       "['1809890.txt',\n",
       " '1809891.txt',\n",
       " '1809892.txt',\n",
       " '1809893.txt',\n",
       " '1809894.txt',\n",
       " '1809895.txt',\n",
       " '1809896.txt',\n",
       " '1809897.txt',\n",
       " '1809898.txt',\n",
       " '1809899.txt']"
      ]
     },
     "execution_count": 10,
     "metadata": {},
     "output_type": "execute_result"
    }
   ],
   "source": [
    "kobill.fileids()"
   ]
  },
  {
   "cell_type": "code",
   "execution_count": 17,
   "metadata": {},
   "outputs": [
    {
     "name": "stdout",
     "output_type": "stream",
     "text": [
      "대한민국헌법\n",
      "\n",
      "유구한 역사와 전통에 빛나는 우리 대한국민은 3·1운동으로 건립된 대한민국임시정부의 법통과 불의에 항거한 4·19민주이념을 계승하고, 조국의 민주개혁과 평화적 통일의 사명에 입각하여 정의·인도와 동포애로써 민족의 단결을 공고히 하고, 모든 사회적 폐습과 불의를 타파하며, 자율과 조화를 바탕으로 자유민주적 기본질서를 더욱 확고히 하여 정치·경제·사회·문화의 모든 영역에 있어서 각인의 기회를 균등히 하고, 능력을 최고도로 발휘하게 하며, 자유와 권리에 따르는 책임과 의무를 완수하게 하여, 안으로는 국민생활의 균등한 향상을\n"
     ]
    }
   ],
   "source": [
    "# 헌법 말뭉치 조회\n",
    "with kolaw.open('constitution.txt') as f:\n",
    "    txt1 = f.read()\n",
    "print(txt1[:300])"
   ]
  },
  {
   "cell_type": "code",
   "execution_count": 15,
   "metadata": {
    "jupyter": {
     "source_hidden": true
    }
   },
   "outputs": [
    {
     "data": {
      "text/plain": [
       "'지방공무원법 일부개정법률안\\n\\n(정의화의원 대표발의 )\\n\\n 의 안\\n 번 호\\n\\n9890\\n\\n발의'"
      ]
     },
     "execution_count": 15,
     "metadata": {},
     "output_type": "execute_result"
    }
   ],
   "source": [
    "with kobill.open('1809890.txt') as f2:\n",
    "    txt2 = f2.read()\n",
    "txt2[:50]"
   ]
  },
  {
   "cell_type": "code",
   "execution_count": null,
   "metadata": {},
   "outputs": [],
   "source": []
  },
  {
   "cell_type": "code",
   "execution_count": 18,
   "metadata": {},
   "outputs": [],
   "source": [
    "sample = \"2015년 바이엘 레버쿠젠에서 토트넘으로 이적한 이후 임대도 한 번 다녀오지 않고 줄곧 토트넘에서만 뛰다 커리어 황혼기 진입을 앞두고 있는 손흥민은 '토트넘 종신'도 불사하겠다는 태도다. \""
   ]
  },
  {
   "cell_type": "code",
   "execution_count": 20,
   "metadata": {
    "collapsed": true,
    "jupyter": {
     "outputs_hidden": true
    },
    "scrolled": true
   },
   "outputs": [
    {
     "name": "stdout",
     "output_type": "stream",
     "text": [
      "<class 'list'> 38\n",
      "['2015년', '바이엘', '레버쿠젠', '에서', '토트넘', '으로', '이적', '한', '이후', '임대', '도', '하다', '번', '다녀오다', '않다', '줄곧', '토트넘', '에서만', '뛰다', '커리어', '황혼', '기', '진입', '을', '앞두다', '있다', '손흥민', '은', \"'\", '토트넘', '종신', \"'\", '도', '불사', '하다', '태도', '다', '.']\n"
     ]
    }
   ],
   "source": [
    "# 형태소 분석기 클래스를 import\n",
    "from konlpy.tag import Okt\n",
    "\n",
    "okt = Okt() # 형태소분석기 객체 생성.\n",
    "# 형태소 단위 토큰화.\n",
    "# tokens = okt.morphs(sample)\n",
    "tokens = okt.morphs(sample, stem=True) # stem=True, 원형복원 (Okt만의 기능.)\n",
    "\n",
    "print(type(tokens), len(tokens))\n",
    "print(tokens)"
   ]
  },
  {
   "cell_type": "code",
   "execution_count": 21,
   "metadata": {
    "collapsed": true,
    "jupyter": {
     "outputs_hidden": true
    },
    "scrolled": true
   },
   "outputs": [
    {
     "data": {
      "text/plain": [
       "['바이엘',\n",
       " '레버쿠젠',\n",
       " '토트넘',\n",
       " '이적',\n",
       " '이후',\n",
       " '임대',\n",
       " '번',\n",
       " '줄곧',\n",
       " '토트넘',\n",
       " '커리어',\n",
       " '황혼',\n",
       " '기',\n",
       " '진입',\n",
       " '손흥민',\n",
       " '토트넘',\n",
       " '종신',\n",
       " '도',\n",
       " '불사',\n",
       " '태도']"
      ]
     },
     "execution_count": 21,
     "metadata": {},
     "output_type": "execute_result"
    }
   ],
   "source": [
    "## 명사만 추출\n",
    "noun_tokens = okt.nouns(sample)\n",
    "noun_tokens"
   ]
  },
  {
   "cell_type": "code",
   "execution_count": 22,
   "metadata": {
    "collapsed": true,
    "jupyter": {
     "outputs_hidden": true
    },
    "scrolled": true
   },
   "outputs": [
    {
     "data": {
      "text/plain": [
       "[('2015년', 'Number'),\n",
       " ('바이엘', 'Noun'),\n",
       " ('레버쿠젠', 'Noun'),\n",
       " ('에서', 'Josa'),\n",
       " ('토트넘', 'Noun'),\n",
       " ('으로', 'Josa'),\n",
       " ('이적', 'Noun'),\n",
       " ('한', 'Josa'),\n",
       " ('이후', 'Noun'),\n",
       " ('임대', 'Noun'),\n",
       " ('도', 'Josa'),\n",
       " ('한', 'Verb'),\n",
       " ('번', 'Noun'),\n",
       " ('다녀오지', 'Verb'),\n",
       " ('않고', 'Verb'),\n",
       " ('줄곧', 'Noun'),\n",
       " ('토트넘', 'Noun'),\n",
       " ('에서만', 'Josa'),\n",
       " ('뛰다', 'Verb'),\n",
       " ('커리어', 'Noun'),\n",
       " ('황혼', 'Noun'),\n",
       " ('기', 'Noun'),\n",
       " ('진입', 'Noun'),\n",
       " ('을', 'Josa'),\n",
       " ('앞두고', 'Verb'),\n",
       " ('있는', 'Adjective'),\n",
       " ('손흥민', 'Noun'),\n",
       " ('은', 'Josa'),\n",
       " (\"'\", 'Punctuation'),\n",
       " ('토트넘', 'Noun'),\n",
       " ('종신', 'Noun'),\n",
       " (\"'\", 'Punctuation'),\n",
       " ('도', 'Noun'),\n",
       " ('불사', 'Noun'),\n",
       " ('하겠다는', 'Verb'),\n",
       " ('태도', 'Noun'),\n",
       " ('다', 'Josa'),\n",
       " ('.', 'Punctuation')]"
      ]
     },
     "execution_count": 22,
     "metadata": {},
     "output_type": "execute_result"
    }
   ],
   "source": [
    "# 품사 부착(POS-Tagging)\n",
    "okt_pos = okt.pos(sample)\n",
    "okt_pos"
   ]
  },
  {
   "cell_type": "code",
   "execution_count": 23,
   "metadata": {
    "collapsed": true,
    "jupyter": {
     "outputs_hidden": true
    },
    "scrolled": true
   },
   "outputs": [
    {
     "data": {
      "text/plain": [
       "{'Adjective': '형용사',\n",
       " 'Adverb': '부사',\n",
       " 'Alpha': '알파벳',\n",
       " 'Conjunction': '접속사',\n",
       " 'Determiner': '관형사',\n",
       " 'Eomi': '어미',\n",
       " 'Exclamation': '감탄사',\n",
       " 'Foreign': '외국어, 한자 및 기타기호',\n",
       " 'Hashtag': '트위터 해쉬태그',\n",
       " 'Josa': '조사',\n",
       " 'KoreanParticle': '(ex: ㅋㅋ)',\n",
       " 'Noun': '명사',\n",
       " 'Number': '숫자',\n",
       " 'PreEomi': '선어말어미',\n",
       " 'Punctuation': '구두점',\n",
       " 'ScreenName': '트위터 아이디',\n",
       " 'Suffix': '접미사',\n",
       " 'Unknown': '미등록어',\n",
       " 'Verb': '동사'}"
      ]
     },
     "execution_count": 23,
     "metadata": {},
     "output_type": "execute_result"
    }
   ],
   "source": [
    "okt.tagset"
   ]
  },
  {
   "cell_type": "code",
   "execution_count": 25,
   "metadata": {},
   "outputs": [
    {
     "data": {
      "text/plain": [
       "['이', '것', '도', '되나요', 'ㅋㅋㅋ']"
      ]
     },
     "execution_count": 25,
     "metadata": {},
     "output_type": "execute_result"
    }
   ],
   "source": [
    "# OKT 의 기능\n",
    "sample2 = \"이것도 되나욬ㅋㅋㅋ\"\n",
    "okt.morphs(sample2, norm=True) #norm=True: 비속어를 처리"
   ]
  },
  {
   "cell_type": "code",
   "execution_count": 26,
   "metadata": {},
   "outputs": [
    {
     "data": {
      "text/plain": [
       "'이것도 되나요ㅋㅋㅋ'"
      ]
     },
     "execution_count": 26,
     "metadata": {},
     "output_type": "execute_result"
    }
   ],
   "source": [
    "# 비속어 처리한 문장을 반환 받기.\n",
    "okt.normalize(sample2)"
   ]
  },
  {
   "cell_type": "code",
   "execution_count": 27,
   "metadata": {},
   "outputs": [
    {
     "data": {
      "text/plain": [
       "'반갑습니다.'"
      ]
     },
     "execution_count": 27,
     "metadata": {},
     "output_type": "execute_result"
    }
   ],
   "source": [
    "okt.normalize(\"반갑습니당.\")"
   ]
  },
  {
   "cell_type": "code",
   "execution_count": null,
   "metadata": {},
   "outputs": [],
   "source": []
  },
  {
   "cell_type": "markdown",
   "metadata": {},
   "source": [
    "# Konlpy와 nltk를 이용해 헌법 text 분석하기"
   ]
  },
  {
   "cell_type": "code",
   "execution_count": 29,
   "metadata": {},
   "outputs": [
    {
     "data": {
      "text/plain": [
       "'대한민국헌법\\n\\n유구한 역사와 전통에 빛나는 우리 대한국민은 3·1운동으로 건립된 대한민국임시정부의 법통과 불의에 항거한 4·19민주이념을 계승하고, 조국의 민주개혁과 평화적 통일의'"
      ]
     },
     "execution_count": 29,
     "metadata": {},
     "output_type": "execute_result"
    }
   ],
   "source": [
    "from nltk import Text, FreqDist\n",
    "from konlpy.tag import Okt\n",
    "from konlpy.corpus import kolaw\n",
    "from wordcloud import WordCloud\n",
    "\n",
    "with kolaw.open(\"constitution.txt\") as fr:\n",
    "    constitution = fr.read()\n",
    "\n",
    "constitution[:100]"
   ]
  },
  {
   "cell_type": "code",
   "execution_count": 30,
   "metadata": {},
   "outputs": [
    {
     "name": "stdout",
     "output_type": "stream",
     "text": [
      "8796\n",
      "[('대한민국', 'Noun'), ('헌법', 'Noun'), ('\\n\\n', 'Foreign'), ('유구', 'Noun'), ('한', 'Josa')]\n"
     ]
    }
   ],
   "source": [
    "# 토큰화 -> 형태소 단위\n",
    "okt = Okt()\n",
    "tokens = okt.pos(constitution) # 품사부착\n",
    "print(len(tokens))\n",
    "print(tokens[:5])"
   ]
  },
  {
   "cell_type": "code",
   "execution_count": 32,
   "metadata": {
    "collapsed": true,
    "jupyter": {
     "outputs_hidden": true
    },
    "scrolled": true
   },
   "outputs": [
    {
     "data": {
      "text/plain": [
       "['대한민국',\n",
       " '헌법',\n",
       " '유구',\n",
       " '역사',\n",
       " '전통',\n",
       " '빛나는',\n",
       " '우리',\n",
       " '국민',\n",
       " '운동',\n",
       " '건립',\n",
       " '된',\n",
       " '대한민국',\n",
       " '임시정부',\n",
       " '법',\n",
       " '통과',\n",
       " '불의',\n",
       " '항거',\n",
       " '민주',\n",
       " '이념',\n",
       " '계승',\n",
       " '조국',\n",
       " '민주',\n",
       " '개혁',\n",
       " '평화',\n",
       " '통일',\n",
       " '사명',\n",
       " '입',\n",
       " '각하',\n",
       " '정의',\n",
       " '인도',\n",
       " '동포',\n",
       " '애',\n",
       " '로써',\n",
       " '민족',\n",
       " '단결',\n",
       " '공고',\n",
       " '하고',\n",
       " '모든',\n",
       " '사회',\n",
       " '폐습',\n",
       " '불의',\n",
       " '타파',\n",
       " '하며',\n",
       " '자율',\n",
       " '조화',\n",
       " '바탕',\n",
       " '자유민주',\n",
       " '질서',\n",
       " '더욱',\n",
       " '하여',\n",
       " '정치',\n",
       " '경제',\n",
       " '사회',\n",
       " '문화',\n",
       " '모든',\n",
       " '영역',\n",
       " '각인',\n",
       " '기회',\n",
       " '하고',\n",
       " '능력',\n",
       " '최고',\n",
       " '도로',\n",
       " '발휘',\n",
       " '하게',\n",
       " '하며',\n",
       " '자유',\n",
       " '권리',\n",
       " '따르는',\n",
       " '책임',\n",
       " '의무',\n",
       " '완수',\n",
       " '하게',\n",
       " '하여',\n",
       " '안',\n",
       " '국민',\n",
       " '생활',\n",
       " '향상',\n",
       " '기하',\n",
       " '밖',\n",
       " '항구',\n",
       " '세계',\n",
       " '평화',\n",
       " '인류',\n",
       " '공영',\n",
       " '이바지',\n",
       " '함',\n",
       " '우리',\n",
       " '우리',\n",
       " '자손',\n",
       " '안전',\n",
       " '자유',\n",
       " '행복',\n",
       " '확보',\n",
       " '할',\n",
       " '것',\n",
       " '다짐',\n",
       " '하면서',\n",
       " '제정',\n",
       " '되고',\n",
       " '차',\n",
       " '걸쳐',\n",
       " '개정',\n",
       " '된',\n",
       " '헌법',\n",
       " '이제',\n",
       " '국회',\n",
       " '의결',\n",
       " '거쳐',\n",
       " '국민투표',\n",
       " '개정',\n",
       " '한다',\n",
       " '제',\n",
       " '장',\n",
       " '강',\n",
       " '제',\n",
       " '대한민국',\n",
       " '민주공화국',\n",
       " '대한민국',\n",
       " '주권',\n",
       " '국민',\n",
       " '모든',\n",
       " '권력',\n",
       " '국민',\n",
       " '나온다',\n",
       " '제',\n",
       " '대한민국',\n",
       " '국민',\n",
       " '되는',\n",
       " '요건',\n",
       " '법률',\n",
       " '정',\n",
       " '한다',\n",
       " '국가',\n",
       " '법률',\n",
       " '정',\n",
       " '하는',\n",
       " '바',\n",
       " '재외국민',\n",
       " '보호',\n",
       " '할',\n",
       " '의무',\n",
       " '진다',\n",
       " '제',\n",
       " '대한민국',\n",
       " '영토',\n",
       " '한반도',\n",
       " '그',\n",
       " '부속',\n",
       " '도서',\n",
       " '한다',\n",
       " '제',\n",
       " '대한민국',\n",
       " '통일',\n",
       " '지향',\n",
       " '하며',\n",
       " '자유민주',\n",
       " '질서',\n",
       " '입각',\n",
       " '평화',\n",
       " '통일',\n",
       " '정책',\n",
       " '수립',\n",
       " '이를',\n",
       " '추진',\n",
       " '제',\n",
       " '대한민국',\n",
       " '국제',\n",
       " '평화',\n",
       " '유지',\n",
       " '노력',\n",
       " '침략',\n",
       " '전쟁',\n",
       " '부인',\n",
       " '한다',\n",
       " '국군',\n",
       " '국가',\n",
       " '안전보장',\n",
       " '국토',\n",
       " '방위',\n",
       " '의무',\n",
       " '수행',\n",
       " '함',\n",
       " '사명',\n",
       " '하며',\n",
       " '그',\n",
       " '정치',\n",
       " '중립성',\n",
       " '준수',\n",
       " '된다',\n",
       " '제',\n",
       " '헌법',\n",
       " '체결',\n",
       " '공포',\n",
       " '된',\n",
       " '조약',\n",
       " '일반',\n",
       " '승인',\n",
       " '된',\n",
       " '국제',\n",
       " '법규',\n",
       " '국내법',\n",
       " '효력',\n",
       " '가진다',\n",
       " '외국인',\n",
       " '국제',\n",
       " '법',\n",
       " '조약',\n",
       " '정',\n",
       " '하는',\n",
       " '바',\n",
       " '그',\n",
       " '지위',\n",
       " '보장',\n",
       " '된다',\n",
       " '제',\n",
       " '공무원',\n",
       " '국민',\n",
       " '전체',\n",
       " '대한',\n",
       " '봉사자',\n",
       " '국민',\n",
       " '대하',\n",
       " '책임',\n",
       " '진다',\n",
       " '공무원',\n",
       " '신분',\n",
       " '정치',\n",
       " '중립성',\n",
       " '법률',\n",
       " '정',\n",
       " '하는',\n",
       " '바',\n",
       " '보장',\n",
       " '된다',\n",
       " '제',\n",
       " '정당',\n",
       " '설립',\n",
       " '자유',\n",
       " '복수정당제',\n",
       " '보장',\n",
       " '된다',\n",
       " '정당',\n",
       " '그',\n",
       " '목적',\n",
       " '조직',\n",
       " '활동',\n",
       " '민주',\n",
       " '적이어야',\n",
       " '하며',\n",
       " '국민',\n",
       " '정치',\n",
       " '의사',\n",
       " '형성',\n",
       " '참여',\n",
       " '하는데',\n",
       " '조직',\n",
       " '가져야',\n",
       " '한다',\n",
       " '정당',\n",
       " '법률',\n",
       " '정',\n",
       " '하는',\n",
       " '바',\n",
       " '국가',\n",
       " '보호',\n",
       " '받으며',\n",
       " '국가',\n",
       " '법률',\n",
       " '정',\n",
       " '하는',\n",
       " '바',\n",
       " '정당',\n",
       " '운영',\n",
       " '자금',\n",
       " '보조',\n",
       " '할',\n",
       " '수',\n",
       " '정당',\n",
       " '목적',\n",
       " '활동',\n",
       " '민주',\n",
       " '질서',\n",
       " '위배',\n",
       " '될',\n",
       " '때',\n",
       " '정부',\n",
       " '헌법재판소',\n",
       " '그',\n",
       " '해산',\n",
       " '제소',\n",
       " '할',\n",
       " '수',\n",
       " '정당',\n",
       " '헌법재판소',\n",
       " '심판',\n",
       " '해산',\n",
       " '된다',\n",
       " '제',\n",
       " '국가',\n",
       " '전통문화',\n",
       " '계승',\n",
       " '발전',\n",
       " '민족',\n",
       " '문화',\n",
       " '창달',\n",
       " '노력',\n",
       " '하여야',\n",
       " '한다',\n",
       " '제',\n",
       " '장',\n",
       " '국민',\n",
       " '권리',\n",
       " '의무',\n",
       " '제',\n",
       " '모든',\n",
       " '국민',\n",
       " '인간',\n",
       " '존엄',\n",
       " '가치',\n",
       " '가지',\n",
       " '행복',\n",
       " '추구',\n",
       " '할',\n",
       " '권리',\n",
       " '가진다',\n",
       " '국가',\n",
       " '개인',\n",
       " '가지는',\n",
       " '불가침',\n",
       " '기본',\n",
       " '인권',\n",
       " '확인',\n",
       " '이를',\n",
       " '보장',\n",
       " '할',\n",
       " '의무',\n",
       " '진다',\n",
       " '제',\n",
       " '모든',\n",
       " '국민',\n",
       " '법',\n",
       " '앞',\n",
       " '누구',\n",
       " '성별',\n",
       " '종교',\n",
       " '사회',\n",
       " '신분',\n",
       " '정치',\n",
       " '경제',\n",
       " '사회',\n",
       " '문화',\n",
       " '생활',\n",
       " '모든',\n",
       " '영역',\n",
       " '차별',\n",
       " '받지',\n",
       " '한다',\n",
       " '사회',\n",
       " '특수',\n",
       " '계급',\n",
       " '제도',\n",
       " '인정',\n",
       " '되지',\n",
       " '형태',\n",
       " '도',\n",
       " '이를',\n",
       " '창설',\n",
       " '할',\n",
       " '수',\n",
       " '훈장',\n",
       " '등',\n",
       " '영전',\n",
       " '이를',\n",
       " '받은',\n",
       " '자',\n",
       " '효력',\n",
       " '특권',\n",
       " '이',\n",
       " '따르지',\n",
       " '한다',\n",
       " '제',\n",
       " '모든',\n",
       " '국민',\n",
       " '신체',\n",
       " '자유',\n",
       " '가진다',\n",
       " '누구',\n",
       " '법률',\n",
       " '체포',\n",
       " '구속',\n",
       " '압수',\n",
       " '수색',\n",
       " '심문',\n",
       " '받지',\n",
       " '법률',\n",
       " '절차',\n",
       " '처벌',\n",
       " '보안처분',\n",
       " '강제',\n",
       " '노역',\n",
       " '받지',\n",
       " '한다',\n",
       " '모든',\n",
       " '국민',\n",
       " '고문',\n",
       " '받지',\n",
       " '형사',\n",
       " '자기',\n",
       " '진술',\n",
       " '강요',\n",
       " '한다',\n",
       " '체포',\n",
       " '구속',\n",
       " '압수',\n",
       " '수색',\n",
       " '할',\n",
       " '때',\n",
       " '절차',\n",
       " '따라',\n",
       " '검사',\n",
       " '신청',\n",
       " '법관',\n",
       " '발부',\n",
       " '영장',\n",
       " '제시',\n",
       " '하여야',\n",
       " '한다',\n",
       " '다만',\n",
       " '현행범인',\n",
       " '경우',\n",
       " '장기',\n",
       " '이상',\n",
       " '형',\n",
       " '해당',\n",
       " '하는',\n",
       " '죄',\n",
       " '범',\n",
       " '도피',\n",
       " '증거',\n",
       " '멸',\n",
       " '염려',\n",
       " '때',\n",
       " '사후',\n",
       " '영장',\n",
       " '청구',\n",
       " '할',\n",
       " '수',\n",
       " '누구',\n",
       " '체포',\n",
       " '구속',\n",
       " '당한',\n",
       " '때',\n",
       " '즉시',\n",
       " '변호인',\n",
       " '조력',\n",
       " '받을',\n",
       " '권리',\n",
       " '가진다',\n",
       " '다만',\n",
       " '형사',\n",
       " '피고인',\n",
       " '스스로',\n",
       " '변호인',\n",
       " '구',\n",
       " '할',\n",
       " '수',\n",
       " '때',\n",
       " '법률',\n",
       " '정',\n",
       " '하는',\n",
       " '바',\n",
       " '국가',\n",
       " '변호인',\n",
       " '붙인다',\n",
       " '누구',\n",
       " '체포',\n",
       " '구속',\n",
       " '이유',\n",
       " '변호인',\n",
       " '조력',\n",
       " '받을',\n",
       " '권리',\n",
       " '음',\n",
       " '고지',\n",
       " '받지',\n",
       " '체포',\n",
       " '구속',\n",
       " '한다',\n",
       " '체포',\n",
       " '구속',\n",
       " '당한',\n",
       " '자의',\n",
       " '가족',\n",
       " '등',\n",
       " '법률',\n",
       " '정',\n",
       " '하는',\n",
       " '자',\n",
       " '그',\n",
       " '이유',\n",
       " '일시',\n",
       " '장소',\n",
       " '지체',\n",
       " '통지',\n",
       " '되어야',\n",
       " '한다',\n",
       " '누구',\n",
       " '체포',\n",
       " '구속',\n",
       " '당한',\n",
       " '때',\n",
       " '적',\n",
       " '부의',\n",
       " '심사',\n",
       " '법원',\n",
       " '청구',\n",
       " '할',\n",
       " '권리',\n",
       " '가진다',\n",
       " '피고인',\n",
       " '자백',\n",
       " '고문',\n",
       " '폭행',\n",
       " '협박',\n",
       " '구속',\n",
       " '장기',\n",
       " '망',\n",
       " '기타',\n",
       " '방법',\n",
       " '자의',\n",
       " '진술',\n",
       " '된',\n",
       " '것',\n",
       " '인정',\n",
       " '될',\n",
       " '때',\n",
       " '정식',\n",
       " '재판',\n",
       " '피고인',\n",
       " '자백',\n",
       " '그',\n",
       " '증거',\n",
       " '일',\n",
       " '때',\n",
       " '이를',\n",
       " '유죄',\n",
       " '증거',\n",
       " '삼거나',\n",
       " '이를',\n",
       " '이유',\n",
       " '처벌',\n",
       " '할',\n",
       " '수',\n",
       " '제',\n",
       " '모든',\n",
       " '국민',\n",
       " '행위',\n",
       " '시',\n",
       " '법률',\n",
       " '범죄',\n",
       " '구성',\n",
       " '하지',\n",
       " '행위',\n",
       " '추',\n",
       " '되지',\n",
       " '범죄',\n",
       " '대하',\n",
       " '거듭',\n",
       " '처벌',\n",
       " '받지',\n",
       " '한다',\n",
       " '모든',\n",
       " '국민',\n",
       " '소급입법',\n",
       " '참정권',\n",
       " '제한',\n",
       " '받거나',\n",
       " '재산권',\n",
       " '박탈',\n",
       " '한다',\n",
       " '모든',\n",
       " '국민',\n",
       " '자기',\n",
       " '행위',\n",
       " '친족',\n",
       " '행위',\n",
       " '불이익',\n",
       " '처우',\n",
       " '받지',\n",
       " '한다',\n",
       " '제',\n",
       " '모든',\n",
       " '국민',\n",
       " '거주',\n",
       " '이전',\n",
       " '자유',\n",
       " '가진다',\n",
       " '제',\n",
       " '모든',\n",
       " '국민',\n",
       " '직업',\n",
       " '선택',\n",
       " '자유',\n",
       " '가진다',\n",
       " '제',\n",
       " '모든',\n",
       " '국민',\n",
       " '주거',\n",
       " '자유',\n",
       " '침해',\n",
       " '받지',\n",
       " '한다',\n",
       " '주거',\n",
       " '대한',\n",
       " '압수',\n",
       " '수색',\n",
       " '할',\n",
       " '때',\n",
       " '검사',\n",
       " '신청',\n",
       " '법관',\n",
       " '발부',\n",
       " '영장',\n",
       " '제시',\n",
       " '하여야',\n",
       " '한다',\n",
       " '제',\n",
       " '모든',\n",
       " '국민',\n",
       " '사생활',\n",
       " '비밀',\n",
       " '자유',\n",
       " '침해',\n",
       " '받지',\n",
       " '한다',\n",
       " '제',\n",
       " '모든',\n",
       " '국민',\n",
       " '통신',\n",
       " '비밀',\n",
       " '침해',\n",
       " '받지',\n",
       " '한다',\n",
       " '제',\n",
       " '모든',\n",
       " '국민',\n",
       " '양심',\n",
       " '자유',\n",
       " '가진다',\n",
       " '제',\n",
       " '모든',\n",
       " '국민',\n",
       " '종교',\n",
       " '자유',\n",
       " '가진다',\n",
       " '국교',\n",
       " '인정',\n",
       " '되지',\n",
       " '종교',\n",
       " '정치',\n",
       " '분리',\n",
       " '된다',\n",
       " '제',\n",
       " '모든',\n",
       " '국민',\n",
       " '언론',\n",
       " '출판',\n",
       " '자유',\n",
       " '집회',\n",
       " '결사',\n",
       " '자유',\n",
       " '가진다',\n",
       " '언론',\n",
       " '출판',\n",
       " '대한',\n",
       " '허가',\n",
       " '검열',\n",
       " '집회',\n",
       " '결사',\n",
       " '대한',\n",
       " '허가',\n",
       " '인정',\n",
       " '되지',\n",
       " '한다',\n",
       " '통신',\n",
       " '방송',\n",
       " '시설',\n",
       " '기준',\n",
       " '신문',\n",
       " '기능',\n",
       " '보장',\n",
       " '하기',\n",
       " '위',\n",
       " '하여',\n",
       " '사항',\n",
       " '법률',\n",
       " '정',\n",
       " '한다',\n",
       " '언론',\n",
       " '출판',\n",
       " '타인',\n",
       " '명예',\n",
       " '권리',\n",
       " '공중도덕',\n",
       " '사회',\n",
       " '윤리',\n",
       " '침해',\n",
       " '하여',\n",
       " '서는',\n",
       " '된다',\n",
       " '언론',\n",
       " '출판',\n",
       " '타인',\n",
       " '명예',\n",
       " '권리',\n",
       " '침해',\n",
       " '때',\n",
       " '피해자',\n",
       " '이',\n",
       " '대한',\n",
       " '피해',\n",
       " '배상',\n",
       " '청구',\n",
       " '할',\n",
       " '수',\n",
       " '제',\n",
       " '모든',\n",
       " '국민',\n",
       " '학문',\n",
       " '예술',\n",
       " '자유',\n",
       " '가진다',\n",
       " '저작자',\n",
       " '발명가',\n",
       " '과학기술',\n",
       " '예술가',\n",
       " '권리',\n",
       " '법률',\n",
       " '로써',\n",
       " '보호',\n",
       " '한다',\n",
       " '제',\n",
       " '모든',\n",
       " '국민',\n",
       " '재산권',\n",
       " '보장',\n",
       " '된다',\n",
       " '그',\n",
       " '내용',\n",
       " '한계',\n",
       " '법률',\n",
       " '정',\n",
       " '한다',\n",
       " '재산권',\n",
       " '행사',\n",
       " '복리',\n",
       " '하여야',\n",
       " '한다',\n",
       " '공공필요',\n",
       " '재산권',\n",
       " '수용',\n",
       " '사용',\n",
       " '제한',\n",
       " '및',\n",
       " '그',\n",
       " '대한',\n",
       " '보상',\n",
       " '법률',\n",
       " '로써',\n",
       " '되',\n",
       " '보상',\n",
       " '지급',\n",
       " '하여야',\n",
       " '한다',\n",
       " '제',\n",
       " '모든',\n",
       " '국민',\n",
       " '법률',\n",
       " '정',\n",
       " '하는',\n",
       " '바',\n",
       " '선거권',\n",
       " '가진다',\n",
       " '제',\n",
       " '모든',\n",
       " '국민',\n",
       " '법률',\n",
       " '정',\n",
       " '하는',\n",
       " '바',\n",
       " '공무',\n",
       " '담임',\n",
       " '가진다',\n",
       " '제',\n",
       " '모든',\n",
       " '국민',\n",
       " '법률',\n",
       " '정',\n",
       " '하는',\n",
       " '바',\n",
       " '국가',\n",
       " '기관',\n",
       " '문서',\n",
       " '청원',\n",
       " '할',\n",
       " '권리',\n",
       " '가진다',\n",
       " '국가',\n",
       " '청원',\n",
       " '대하',\n",
       " '심사',\n",
       " '할',\n",
       " '의무',\n",
       " '진다',\n",
       " '제',\n",
       " '모든',\n",
       " '국민',\n",
       " '헌법',\n",
       " '법률',\n",
       " '정',\n",
       " '법관',\n",
       " '법률',\n",
       " '재판',\n",
       " '받을',\n",
       " '권리',\n",
       " '가진다',\n",
       " '군인',\n",
       " '군무원',\n",
       " '국민',\n",
       " '대한민국',\n",
       " '영역',\n",
       " '안',\n",
       " '군사',\n",
       " '기밀',\n",
       " '초병',\n",
       " '초소',\n",
       " '유독',\n",
       " '음식물',\n",
       " '공급',\n",
       " '포로',\n",
       " '군용',\n",
       " '물',\n",
       " '관',\n",
       " '죄',\n",
       " '법률',\n",
       " '정',\n",
       " '경우',\n",
       " '비상계엄',\n",
       " '선포',\n",
       " '된',\n",
       " '경우',\n",
       " '제외',\n",
       " '군사법원',\n",
       " '재판',\n",
       " '받지',\n",
       " '한다',\n",
       " '모든',\n",
       " '국민',\n",
       " '재판',\n",
       " '받을',\n",
       " '권리',\n",
       " '가진다',\n",
       " '형사',\n",
       " '피고인',\n",
       " '이유',\n",
       " '한',\n",
       " '지체',\n",
       " '공개',\n",
       " '재판',\n",
       " '받을',\n",
       " '권리',\n",
       " '가진다',\n",
       " '형사',\n",
       " '피고인',\n",
       " '유죄',\n",
       " '판결',\n",
       " '확정',\n",
       " '될',\n",
       " '때',\n",
       " '무죄',\n",
       " '추정',\n",
       " '된다',\n",
       " '형사',\n",
       " '피해자',\n",
       " '법률',\n",
       " '정',\n",
       " '하는',\n",
       " '바',\n",
       " '사건',\n",
       " '재판',\n",
       " '절차',\n",
       " '진술',\n",
       " '할',\n",
       " '수',\n",
       " '제',\n",
       " '형사',\n",
       " '피의자',\n",
       " '형사',\n",
       " '피고인',\n",
       " '구금',\n",
       " '되었던',\n",
       " '자가',\n",
       " '법률',\n",
       " '정',\n",
       " '하는',\n",
       " '불기소처분',\n",
       " '받거나',\n",
       " '무죄판결',\n",
       " '받은',\n",
       " '때',\n",
       " '법률',\n",
       " '정',\n",
       " '하는',\n",
       " '바',\n",
       " '국가',\n",
       " '보상',\n",
       " '청구',\n",
       " '할',\n",
       " '수',\n",
       " '제',\n",
       " '공무원',\n",
       " '직무',\n",
       " '불법행위',\n",
       " '손해',\n",
       " '받은',\n",
       " '국민',\n",
       " '법률',\n",
       " '정',\n",
       " '하는',\n",
       " '바',\n",
       " '국가',\n",
       " '단체',\n",
       " '배상',\n",
       " '청구',\n",
       " '할',\n",
       " '수',\n",
       " '이',\n",
       " '경우',\n",
       " '공무원',\n",
       " '자신',\n",
       " '책임',\n",
       " '면제',\n",
       " '되지',\n",
       " '한다',\n",
       " '군인',\n",
       " '군무원',\n",
       " '경찰',\n",
       " '공무원',\n",
       " '기타',\n",
       " '법률',\n",
       " '정',\n",
       " '하는',\n",
       " '자가',\n",
       " '전투',\n",
       " '훈련',\n",
       " '등',\n",
       " '직무',\n",
       " '집행',\n",
       " '관련',\n",
       " '하여',\n",
       " '받은',\n",
       " '손해',\n",
       " '대하',\n",
       " '여',\n",
       " '법률',\n",
       " '정',\n",
       " '하는',\n",
       " '보상',\n",
       " '외',\n",
       " '국가',\n",
       " '단체',\n",
       " '공무원',\n",
       " '직무',\n",
       " '불법행위',\n",
       " '배상',\n",
       " '청구',\n",
       " '할',\n",
       " '수',\n",
       " '제',\n",
       " '타인',\n",
       " '범죄',\n",
       " '행위',\n",
       " '생명',\n",
       " '신체',\n",
       " '대한',\n",
       " '피해',\n",
       " '받은',\n",
       " '국민',\n",
       " '법률',\n",
       " '정',\n",
       " '하는',\n",
       " '바',\n",
       " '국가',\n",
       " '로부터',\n",
       " '구조',\n",
       " '받을',\n",
       " '수',\n",
       " '제',\n",
       " '모든',\n",
       " '국민',\n",
       " ...]"
      ]
     },
     "execution_count": 32,
     "metadata": {},
     "output_type": "execute_result"
    }
   ],
   "source": [
    "#  명사,  동사 만 추출\n",
    "# okt.tagset\n",
    "tokens = [token for token, pos in tokens if pos in ['Verb', 'Noun']]\n",
    "tokens"
   ]
  },
  {
   "cell_type": "code",
   "execution_count": 33,
   "metadata": {},
   "outputs": [
    {
     "data": {
      "text/plain": [
       "['대한민국', '헌법', '유구', '역사', '전통', '우리', '국민', '운동', '건립', '대한민국']"
      ]
     },
     "execution_count": 33,
     "metadata": {},
     "output_type": "execute_result"
    }
   ],
   "source": [
    "# 명사만 추출\n",
    "noun_tokens = okt.nouns(constitution)\n",
    "noun_tokens[:10]"
   ]
  },
  {
   "cell_type": "code",
   "execution_count": 34,
   "metadata": {},
   "outputs": [
    {
     "data": {
      "text/plain": [
       "<Text: 대한민국 헌법>"
      ]
     },
     "execution_count": 34,
     "metadata": {},
     "output_type": "execute_result"
    }
   ],
   "source": [
    "# Text객체를 생성해서 EDA\n",
    "text = Text(tokens, name=\"대한민국 헌법\")\n",
    "text"
   ]
  },
  {
   "cell_type": "code",
   "execution_count": 36,
   "metadata": {},
   "outputs": [
    {
     "data": {
      "image/png": "[encoded data removed]",
      "text/plain": [
       "<Figure size 1000x600 with 1 Axes>"
      ]
     },
     "metadata": {},
     "output_type": "display_data"
    }
   ],
   "source": [
    "# 빈도수 그래프\n",
    "import matplotlib.pyplot as plt\n",
    "plt.figure(figsize=(10, 6))\n",
    "text.plot(30)\n",
    "plt.show()"
   ]
  },
  {
   "cell_type": "code",
   "execution_count": 37,
   "metadata": {},
   "outputs": [
    {
     "name": "stdout",
     "output_type": "stream",
     "text": [
      "법률: 127\n",
      "대통령: 83\n",
      "국회: 68\n"
     ]
    }
   ],
   "source": [
    "# 특정 단어들의 빈수\n",
    "print(\"법률:\", text.count('법률'))\n",
    "print(\"대통령:\", text.count('대통령'))\n",
    "print(\"국회:\", text.count(\"국회\"))"
   ]
  },
  {
   "cell_type": "code",
   "execution_count": 41,
   "metadata": {},
   "outputs": [
    {
     "data": {
      "image/png": "[encoded data removed]",
      "text/plain": [
       "<Figure size 640x480 with 1 Axes>"
      ]
     },
     "metadata": {},
     "output_type": "display_data"
    }
   ],
   "source": [
    "# 특정 단어들의 분포 확인\n",
    "# plt.figure(figsize=(10, 5))\n",
    "text.dispersion_plot(['법률', '대통령', '국회', '헌법', '국민'])\n",
    "plt.show()"
   ]
  },
  {
   "cell_type": "code",
   "execution_count": 42,
   "metadata": {},
   "outputs": [
    {
     "name": "stdout",
     "output_type": "stream",
     "text": [
      "총 토큰 수: 4661\n",
      "고유토큰 개수: 1014\n"
     ]
    }
   ],
   "source": [
    "### 빈도수 관련 분석\n",
    "fd = text.vocab()\n",
    "print(\"총 토큰 수:\", fd.N())\n",
    "print(\"고유토큰 개수:\", fd.B())"
   ]
  },
  {
   "cell_type": "code",
   "execution_count": 52,
   "metadata": {},
   "outputs": [
    {
     "name": "stdout",
     "output_type": "stream",
     "text": [
      "가장 빈도수 높은 토큰: 제\n",
      "'헌법'의 빈도수: 53 0.01137095043981978\n",
      "가장 많이 나온 단어 \"제\"의 빈도수는 175 입니다.\n",
      "가장 많이 나온 단어 \"제\"의 비율은 0.03755 입니다.\n"
     ]
    }
   ],
   "source": [
    "print(\"가장 빈도수 높은 토큰:\", fd.max())\n",
    "print(\"'헌법'의 빈도수:\", fd.get('헌법'), fd.freq(\"헌법\"))\n",
    "\n",
    "print(f\"가장 많이 나온 단어 \\\"{fd.max()}\\\"의 빈도수는 {fd.get(fd.max())} 입니다.\")\n",
    "print(f\"가장 많이 나온 단어 \\\"{fd.max()}\\\"의 비율은 {fd.freq(fd.max()):.5f} 입니다.\")"
   ]
  },
  {
   "cell_type": "code",
   "execution_count": 53,
   "metadata": {},
   "outputs": [
    {
     "data": {
      "text/plain": [
       "[('제', 175),\n",
       " ('한다', 155),\n",
       " ('법률', 127),\n",
       " ('할', 100),\n",
       " ('정', 89),\n",
       " ('수', 88),\n",
       " ('대통령', 83),\n",
       " ('국가', 73),\n",
       " ('국회', 68),\n",
       " ('하는', 64)]"
      ]
     },
     "execution_count": 53,
     "metadata": {},
     "output_type": "execute_result"
    }
   ],
   "source": [
    "# 빈도수 순위\n",
    "fd.most_common(10)"
   ]
  },
  {
   "cell_type": "code",
   "execution_count": 55,
   "metadata": {
    "collapsed": true,
    "jupyter": {
     "outputs_hidden": true
    }
   },
   "outputs": [
    {
     "data": {
      "text/html": [
       "<div>\n",
       "<style scoped>\n",
       "    .dataframe tbody tr th:only-of-type {\n",
       "        vertical-align: middle;\n",
       "    }\n",
       "\n",
       "    .dataframe tbody tr th {\n",
       "        vertical-align: top;\n",
       "    }\n",
       "\n",
       "    .dataframe thead th {\n",
       "        text-align: right;\n",
       "    }\n",
       "</style>\n",
       "<table border=\"1\" class=\"dataframe\">\n",
       "  <thead>\n",
       "    <tr style=\"text-align: right;\">\n",
       "      <th></th>\n",
       "      <th>단어</th>\n",
       "      <th>빈도수</th>\n",
       "    </tr>\n",
       "  </thead>\n",
       "  <tbody>\n",
       "    <tr>\n",
       "      <th>0</th>\n",
       "      <td>제</td>\n",
       "      <td>175</td>\n",
       "    </tr>\n",
       "    <tr>\n",
       "      <th>1</th>\n",
       "      <td>한다</td>\n",
       "      <td>155</td>\n",
       "    </tr>\n",
       "    <tr>\n",
       "      <th>2</th>\n",
       "      <td>법률</td>\n",
       "      <td>127</td>\n",
       "    </tr>\n",
       "    <tr>\n",
       "      <th>3</th>\n",
       "      <td>할</td>\n",
       "      <td>100</td>\n",
       "    </tr>\n",
       "    <tr>\n",
       "      <th>4</th>\n",
       "      <td>정</td>\n",
       "      <td>89</td>\n",
       "    </tr>\n",
       "    <tr>\n",
       "      <th>5</th>\n",
       "      <td>수</td>\n",
       "      <td>88</td>\n",
       "    </tr>\n",
       "    <tr>\n",
       "      <th>6</th>\n",
       "      <td>대통령</td>\n",
       "      <td>83</td>\n",
       "    </tr>\n",
       "    <tr>\n",
       "      <th>7</th>\n",
       "      <td>국가</td>\n",
       "      <td>73</td>\n",
       "    </tr>\n",
       "    <tr>\n",
       "      <th>8</th>\n",
       "      <td>국회</td>\n",
       "      <td>68</td>\n",
       "    </tr>\n",
       "    <tr>\n",
       "      <th>9</th>\n",
       "      <td>하는</td>\n",
       "      <td>64</td>\n",
       "    </tr>\n",
       "  </tbody>\n",
       "</table>\n",
       "</div>"
      ],
      "text/plain": [
       "    단어  빈도수\n",
       "0    제  175\n",
       "1   한다  155\n",
       "2   법률  127\n",
       "3    할  100\n",
       "4    정   89\n",
       "5    수   88\n",
       "6  대통령   83\n",
       "7   국가   73\n",
       "8   국회   68\n",
       "9   하는   64"
      ]
     },
     "execution_count": 55,
     "metadata": {},
     "output_type": "execute_result"
    }
   ],
   "source": [
    "import pandas as pd\n",
    "pd.DataFrame(fd.most_common(10), columns=['단어', '빈도수'])"
   ]
  },
  {
   "cell_type": "code",
   "execution_count": 56,
   "metadata": {},
   "outputs": [
    {
     "data": {
      "text/plain": [
       "(1014, 2)"
      ]
     },
     "execution_count": 56,
     "metadata": {},
     "output_type": "execute_result"
    }
   ],
   "source": [
    "## 모든 토큰-빈도수 를 표로 생성\n",
    "constitution_df = pd.DataFrame(fd.most_common(), columns=['단어', '빈도수'])\n",
    "constitution_df.shape"
   ]
  },
  {
   "cell_type": "code",
   "execution_count": 58,
   "metadata": {
    "collapsed": true,
    "jupyter": {
     "outputs_hidden": true
    },
    "scrolled": true
   },
   "outputs": [
    {
     "data": {
      "text/html": [
       "<div>\n",
       "<style scoped>\n",
       "    .dataframe tbody tr th:only-of-type {\n",
       "        vertical-align: middle;\n",
       "    }\n",
       "\n",
       "    .dataframe tbody tr th {\n",
       "        vertical-align: top;\n",
       "    }\n",
       "\n",
       "    .dataframe thead th {\n",
       "        text-align: right;\n",
       "    }\n",
       "</style>\n",
       "<table border=\"1\" class=\"dataframe\">\n",
       "  <thead>\n",
       "    <tr style=\"text-align: right;\">\n",
       "      <th></th>\n",
       "      <th>단어</th>\n",
       "      <th>빈도수</th>\n",
       "    </tr>\n",
       "  </thead>\n",
       "  <tbody>\n",
       "    <tr>\n",
       "      <th>1009</th>\n",
       "      <td>단서</td>\n",
       "      <td>1</td>\n",
       "    </tr>\n",
       "    <tr>\n",
       "      <th>1010</th>\n",
       "      <td>불구</td>\n",
       "      <td>1</td>\n",
       "    </tr>\n",
       "    <tr>\n",
       "      <th>1011</th>\n",
       "      <td>적용</td>\n",
       "      <td>1</td>\n",
       "    </tr>\n",
       "    <tr>\n",
       "      <th>1012</th>\n",
       "      <td>지속</td>\n",
       "      <td>1</td>\n",
       "    </tr>\n",
       "    <tr>\n",
       "      <th>1013</th>\n",
       "      <td>존속</td>\n",
       "      <td>1</td>\n",
       "    </tr>\n",
       "  </tbody>\n",
       "</table>\n",
       "</div>"
      ],
      "text/plain": [
       "      단어  빈도수\n",
       "1009  단서    1\n",
       "1010  불구    1\n",
       "1011  적용    1\n",
       "1012  지속    1\n",
       "1013  존속    1"
      ]
     },
     "execution_count": 58,
     "metadata": {},
     "output_type": "execute_result"
    }
   ],
   "source": [
    "constitution_df.head()\n",
    "constitution_df.tail()"
   ]
  },
  {
   "cell_type": "code",
   "execution_count": 59,
   "metadata": {},
   "outputs": [],
   "source": [
    "### word cloud\n",
    "wc = WordCloud(\n",
    "    max_words=300,\n",
    "    min_font_size=2,\n",
    "    max_font_size=100,\n",
    "    relative_scaling=1, \n",
    ")\n",
    "wc_img = wc.generate_from_frequencies(fd)"
   ]
  },
  {
   "cell_type": "code",
   "execution_count": 60,
   "metadata": {},
   "outputs": [
    {
     "data": {
      "text/plain": [
       "<matplotlib.image.AxesImage at 0x29627f77950>"
      ]
     },
     "execution_count": 60,
     "metadata": {},
     "output_type": "execute_result"
    },
    {
     "data": {
      "image/png": "[encoded data removed]",
      "text/plain": [
       "<Figure size 640x480 with 1 Axes>"
      ]
     },
     "metadata": {},
     "output_type": "display_data"
    }
   ],
   "source": [
    "plt.imshow(wc_img)"
   ]
  },
  {
   "cell_type": "code",
   "execution_count": null,
   "metadata": {},
   "outputs": [],
   "source": []
  },
  {
   "cell_type": "code",
   "execution_count": null,
   "metadata": {},
   "outputs": [],
   "source": []
  }
 ],
 "metadata": {
  "kernelspec": {
   "display_name": "Python 3 (ipykernel)",
   "language": "python",
   "name": "python3"
  },
  "language_info": {
   "codemirror_mode": {
    "name": "ipython",
    "version": 3
   },
   "file_extension": ".py",
   "mimetype": "text/x-python",
   "name": "python",
   "nbconvert_exporter": "python",
   "pygments_lexer": "ipython3",
   "version": "3.12.7"
  },
  "toc": {
   "base_numbering": 1,
   "nav_menu": {},
   "number_sections": false,
   "sideBar": false,
   "skip_h1_title": false,
   "title_cell": "Table of Contents",
   "title_sidebar": "Contents",
   "toc_cell": false,
   "toc_position": {},
   "toc_section_display": true,
   "toc_window_display": false
  },
  "varInspector": {
   "cols": {
    "lenName": 16,
    "lenType": 16,
    "lenVar": 40
   },
   "kernels_config": {
    "python": {
     "delete_cmd_postfix": "",
     "delete_cmd_prefix": "del ",
     "library": "var_list.py",
     "varRefreshCmd": "print(var_dic_list())"
    },
    "r": {
     "delete_cmd_postfix": ") ",
     "delete_cmd_prefix": "rm(",
     "library": "var_list.r",
     "varRefreshCmd": "cat(var_dic_list()) "
    }
   },
   "types_to_exclude": [
    "module",
    "function",
    "builtin_function_or_method",
    "instance",
    "_Feature"
   ],
   "window_display": false
  }
 },
 "nbformat": 4,
 "nbformat_minor": 4
}
