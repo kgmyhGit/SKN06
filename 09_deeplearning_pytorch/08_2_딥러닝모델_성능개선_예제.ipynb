{
 "cells": [
  {
   "cell_type": "markdown",
   "metadata": {},
   "source": [
    "# 성능개선 기법 실습\n"
   ]
  },
  {
   "cell_type": "markdown",
   "metadata": {},
   "source": [
    "# 모듈 정의\n"
   ]
  },
  {
   "cell_type": "markdown",
   "metadata": {},
   "source": [
    "## train.py\n",
    "\n",
    "-   모델 학습과 검증 함수 정의\n"
   ]
  },
  {
   "cell_type": "code",
   "execution_count": 1,
   "metadata": {},
   "outputs": [],
   "source": [
    "import os\n",
    "\n",
    "os.makedirs(\"module\", exist_ok=True)"
   ]
  },
  {
   "cell_type": "code",
   "execution_count": 2,
   "metadata": {
    "code_folding": []
   },
   "outputs": [
    {
     "name": "stdout",
     "output_type": "stream",
     "text": [
      "Writing module/train.py\n"
     ]
    }
   ],
   "source": [
    "%%writefile module/train.py\n",
    "\n",
    "import torch\n",
    "import time\n",
    "\n",
    "def test_multi_classification(dataloader, model, loss_fn, device=\"cpu\") -> tuple:\n",
    "    \"\"\"\n",
    "    다중 분류 검증/평가 함수\n",
    "    \n",
    "    [parameter]\n",
    "        dataloader: DataLoader - 검증할 대상 데이터로더\n",
    "        model: 검증할 모델\n",
    "        loss_fn: 모델 추정값과 정답의 차이를 계산할 loss 함수.\n",
    "        device: str - 연산을 처리할 장치. default-\"cpu\", gpu-\"cuda\"\n",
    "    [return]\n",
    "        tuple: (loss, accuracy)\n",
    "    \"\"\"\n",
    "    model.to(device)\n",
    "    model.eval() \n",
    "    size = len(dataloader.dataset)\n",
    "    num_steps = len(dataloader)\n",
    "    \n",
    "    test_loss, test_accuracy = 0., 0.\n",
    "    \n",
    "    with torch.no_grad():\n",
    "        for X, y in dataloader:\n",
    "            X, y = X.to(device), y.to(device)\n",
    "            pred = model(X)\n",
    "            test_loss += loss_fn(pred, y).item()\n",
    "            # 정확도 계산\n",
    "            pred_label = torch.argmax(pred, axis=-1)\n",
    "            test_accuracy += torch.sum(pred_label == y).item()\n",
    "            \n",
    "        test_loss /= num_steps\n",
    "        test_accuracy /= size\n",
    "    return test_loss, test_accuracy\n",
    "\n",
    "def test_binary_classification(dataloader, model, loss_fn, device=\"cpu\") -> tuple:\n",
    "    \"\"\"\n",
    "    이진 분류 검증/평가 함수\n",
    "    \n",
    "    [parameter]\n",
    "        dataloader: DataLoader - 검증할 대상 데이터로더\n",
    "        model: 검증할 모델\n",
    "        loss_fn: 모델 추정값과 정답의 차이를 계산할 loss 함수.\n",
    "        device: str - 연산을 처리할 장치. default-\"cpu\", gpu-\"cuda\"\n",
    "    [return]\n",
    "        tuple: (loss, accuracy)\n",
    "    \"\"\"\n",
    "    model.to(device)\n",
    "    model.eval() # 모델을 평가모드로 변환\n",
    "    size = len(dataloader.dataset)\n",
    "    num_steps = len(dataloader)\n",
    "    \n",
    "    test_loss, test_accuracy = 0., 0.\n",
    "    \n",
    "    with torch.no_grad():\n",
    "        for X, y in dataloader:\n",
    "            X, y = X.to(device), y.to(device)\n",
    "            pred = model(X)\n",
    "            test_loss += loss_fn(pred, y).item()\n",
    "            ## 정확도 계산\n",
    "            pred_label = (pred >= 0.5).type(torch.int32)\n",
    "            test_accuracy += (pred_label == y).sum().item() \n",
    "            \n",
    "        test_loss /= num_steps\n",
    "        test_accuracy /= size   #전체 개수로 나눈다.\n",
    "    return test_loss, test_accuracy    \n",
    "\n",
    "def train(dataloader, model, loss_fn, optimizer, device=\"cpu\", mode:\"binary or multi\"='binary'):\n",
    "    \"\"\"\n",
    "    모델을 1 epoch 학습시키는 함수\n",
    "\n",
    "    [parameter]\n",
    "        dataloader: DataLoader - 학습데이터셋을 제공하는 DataLoader\n",
    "        model - 학습대상 모델\n",
    "        loss_fn: 모델 추정값과 정답의 차이를 계산할 loss 함수.\n",
    "        optimizer - 최적화 함수\n",
    "        device: str - 연산을 처리할 장치. default-\"cpu\", gpu-\"cuda\"\n",
    "        mode: str - 분류 종류. binary 또는 multi\n",
    "    [return]\n",
    "        tuple: 학습후 계산한 Train set에 대한  train_loss, train_accuracy\n",
    "    \"\"\"\n",
    "    model.train()\n",
    "    size = len(dataloader.dataset) \n",
    "\n",
    "    for X, y in dataloader:\n",
    "        X, y = X.to(device), y.to(device)\n",
    "        pred = model(X)\n",
    "\n",
    "        loss = loss_fn(pred, y)\n",
    "\n",
    "        optimizer.zero_grad()\n",
    "        loss.backward()\n",
    "        optimizer.step()\n",
    "        \n",
    "    if mode == 'binary':\n",
    "        train_loss, train_accuracy = test_binary_classification(dataloader, model, loss_fn, device)\n",
    "    else:\n",
    "        train_loss, train_accuracy = test_multi_classification(dataloader, model, loss_fn, device)\n",
    "    return train_loss, train_accuracy\n",
    "\n",
    "\n",
    "\n",
    "def fit(train_loader, val_loader, model, loss_fn, optimizer, epochs, save_best_model=True, \n",
    "        save_model_path=None, early_stopping=True, patience=10, device='cpu',  mode:\"binary or multi\"='binary'):\n",
    "    \"\"\"\n",
    "    모델을 학습시키는 함수\n",
    "\n",
    "    [parameter]\n",
    "        train_loader (Dataloader): Train dataloader\n",
    "        test_loader (Dataloader): validation dataloader\n",
    "        model (Module): 학습시킬 모델\n",
    "        loss_fn (_Loss): Loss function\n",
    "        optimizer (Optimizer): Optimizer\n",
    "        epochs (int): epoch수\n",
    "        save_best_model (bool, optional): 학습도중 성능개선시 모델 저장 여부. Defaults to True.\n",
    "        save_model_path (str, optional): save_best_model=True일 때 모델저장할 파일 경로. Defaults to None.\n",
    "        early_stopping (bool, optional): 조기 종료 여부. Defaults to True.\n",
    "        patience (int, optional): 조기종료 True일 때 종료전에 성능이 개선될지 몇 epoch까지 기다릴지 epoch수. Defaults to 10.\n",
    "        device (str, optional): device. Defaults to 'cpu'.\n",
    "        mode(str, optinal): 분류 종류. \"binary(default) or multi\n",
    "    [return]\n",
    "        tuple: 에폭 별 성능 리스트. (train_loss_list, train_accuracy_list, validation_loss_list, validataion_accuracy_list)\n",
    "    \"\"\"\n",
    "\n",
    "    train_loss_list = []\n",
    "    train_accuracy_list = []\n",
    "    val_loss_list = []\n",
    "    val_accuracy_list = []\n",
    "    \n",
    "        \n",
    "    if save_best_model:\n",
    "        best_score_save = torch.inf\n",
    "\n",
    "    ############################\n",
    "    # early stopping\n",
    "    #############################\n",
    "    if early_stopping:\n",
    "        trigger_count = 0\n",
    "        best_score_es = torch.inf\n",
    "    \n",
    "    # 모델 device로 옮기기\n",
    "    model = model.to(device)\n",
    "    s = time.time()\n",
    "    for epoch in range(epochs):\n",
    "        train_loss, train_accuracy = train(train_loader, model, loss_fn, optimizer, device=device, mode=mode)\n",
    "        \n",
    "        if mode == \"binary\":\n",
    "            val_loss, val_accuracy = test_binary_classification(val_loader, model, loss_fn, device=device)\n",
    "        else:\n",
    "            val_loss, val_accuracy = test_multi_classification(val_loader, model, loss_fn, device=device)\n",
    "\n",
    "        train_loss_list.append(train_loss)\n",
    "        train_accuracy_list.append(train_accuracy)\n",
    "        val_loss_list.append(val_loss)\n",
    "        val_accuracy_list.append(val_accuracy)\n",
    "        \n",
    "        print(f\"Epoch[{epoch+1}/{epochs}] - Train loss: {train_loss:.5f} Train Accucracy: {train_accuracy:.5f} || Validation Loss: {val_loss:.5f} Validation Accuracy: {val_accuracy:.5f}\")\n",
    "        print('='*100)\n",
    "        \n",
    "        # 모델 저장\n",
    "        if save_best_model:\n",
    "            if val_loss < best_score_save:\n",
    "                torch.save(model, save_model_path)\n",
    "                print(f\"저장: {epoch+1} - 이전 : {best_score_save}, 현재: {val_loss}\")\n",
    "                best_score_save = val_loss\n",
    "        \n",
    "        # early stopping 처리            \n",
    "        if early_stopping:\n",
    "            if val_loss < best_score_es: \n",
    "                best_score_es = val_loss  \n",
    "                trigger_count = 0\n",
    "                                \n",
    "            else:\n",
    "                trigger_count += 1                \n",
    "                if patience == trigger_count:\n",
    "                    print(f\"Early stopping: Epoch - {epoch}\")\n",
    "                    break\n",
    "            \n",
    "    e = time.time()\n",
    "    print(e-s, \"초\")\n",
    "    return train_loss_list, train_accuracy_list, val_loss_list, val_accuracy_list"
   ]
  },
  {
   "cell_type": "markdown",
   "metadata": {},
   "source": [
    "## data.py\n",
    "\n",
    "-   dataset 생성 함수 제공 모듈\n"
   ]
  },
  {
   "cell_type": "code",
   "execution_count": 3,
   "metadata": {},
   "outputs": [
    {
     "name": "stdout",
     "output_type": "stream",
     "text": [
      "Writing module/data.py\n"
     ]
    }
   ],
   "source": [
    "%%writefile module/data.py\n",
    "\n",
    "from torchvision import datasets, transforms\n",
    "from torch.utils.data import DataLoader\n",
    "\n",
    "def load_mnist_dataset(root_path, batch_size, is_train=True):\n",
    "    \"\"\"\n",
    "    mnist dataset dataloader 제공 함수\n",
    "    [parameter]\n",
    "        root_path: str|Path - 데이터파일 저장 디렉토리\n",
    "        batch_size: int\n",
    "        is_train: bool = True - True: Train dataset, False - Test dataset\n",
    "    [return]\n",
    "        DataLoader \n",
    "    \"\"\"\n",
    "    transform = transforms.Compose([\n",
    "        transforms.ToTensor()\n",
    "    ])\n",
    "    dataset = datasets.MNIST(root=root_path, train=is_train, download=True, transform=transform)\n",
    "    dataloader = DataLoader(dataset, batch_size=batch_size, shuffle=is_train)  # shuffle: train이면 True, test면 False 할 것이므로 is_train을 넣음.\n",
    "    \n",
    "    return dataloader\n",
    "\n",
    "def load_fashion_mnist_dataset(root_path, batch_size, is_train=True):\n",
    "    \"\"\"\n",
    "    fashion mnist dataset dataloader 제공 함수\n",
    "    [parameter]\n",
    "        root_path: str|Path - 데이터파일 저장 디렉토리\n",
    "        batch_size: int\n",
    "        is_train: bool = True - True: Train dataset, False - Test dataset\n",
    "    [return]\n",
    "        DataLoader\n",
    "    \"\"\"\n",
    "    transform = transforms.Compose([\n",
    "        transforms.ToTensor()\n",
    "    ])\n",
    "    dataset = datasets.FashionMNIST(root=root_path, train=is_train, download=True, transform=transform)\n",
    "    dataloader = DataLoader(dataset, batch_size=batch_size, shuffle=is_train)  # shuffle: train이면 True, test면 False 할 것이므로 is_train을 넣음.\n",
    "    \n",
    "    return dataloader"
   ]
  },
  {
   "cell_type": "markdown",
   "metadata": {},
   "source": [
    "## utils.py\n"
   ]
  },
  {
   "cell_type": "code",
   "execution_count": 4,
   "metadata": {},
   "outputs": [
    {
     "name": "stdout",
     "output_type": "stream",
     "text": [
      "Writing module/utils.py\n"
     ]
    }
   ],
   "source": [
    "%%writefile module/utils.py\n",
    "# 학습 결과를 시각화하는 함수.\n",
    "import matplotlib.pyplot as plt\n",
    "\n",
    "def plot_fit_result(train_loss_list, train_accuracy_list, valid_loss_list, valid_accuracy_list):\n",
    "    epoch = len(train_loss_list)\n",
    "    plt.figure(figsize=(12, 5))\n",
    "    \n",
    "    plt.subplot(1, 2, 1)\n",
    "    plt.plot(range(epoch), train_loss_list, label=\"train loss\")\n",
    "    plt.plot(range(epoch), valid_loss_list, label=\"validation loss\")\n",
    "    plt.title(\"Loss\")\n",
    "    plt.xlabel(\"epoch\")\n",
    "    plt.ylabel(\"loss\")\n",
    "    plt.grid(True, linestyle=':')\n",
    "    plt.legend()\n",
    "\n",
    "    plt.subplot(1, 2, 2)\n",
    "    plt.plot(range(epoch), train_accuracy_list, label=\"train accuracy\")\n",
    "    plt.plot(range(epoch), valid_accuracy_list, label=\"validation accuracy\")\n",
    "    plt.title(\"Accuracy\")\n",
    "    plt.xlabel(\"epoch\")\n",
    "    plt.ylabel(\"accuracy\")\n",
    "    plt.grid(True, linestyle=':')\n",
    "    plt.legend()\n",
    "\n",
    "    plt.tight_layout()\n",
    "    plt.show()"
   ]
  },
  {
   "cell_type": "code",
   "execution_count": null,
   "metadata": {},
   "outputs": [],
   "source": []
  },
  {
   "cell_type": "code",
   "execution_count": 6,
   "metadata": {},
   "outputs": [],
   "source": [
    "import torch\n",
    "import torch.nn as nn\n",
    "from torchinfo import summary\n",
    "\n",
    "from module.train import fit\n",
    "from module.data import load_mnist_dataset, load_fashion_mnist_dataset\n",
    "from module.utils import plot_fit_result"
   ]
  },
  {
   "cell_type": "markdown",
   "metadata": {},
   "source": [
    "## 하이퍼파라미터, 변수 정의\n"
   ]
  },
  {
   "cell_type": "code",
   "execution_count": 7,
   "metadata": {},
   "outputs": [],
   "source": [
    "device = \"cuda\" if torch.cuda.is_available() else \"cpu\"\n",
    "root_data_path = \"datasets\"\n",
    "\n",
    "epochs = 100\n",
    "batch_size = 256\n",
    "lr = 0.001"
   ]
  },
  {
   "cell_type": "markdown",
   "metadata": {},
   "source": [
    "# Data 준비\n",
    "\n",
    "## mnist 데이터 로딩\n"
   ]
  },
  {
   "cell_type": "code",
   "execution_count": 8,
   "metadata": {},
   "outputs": [],
   "source": [
    "train_loader = load_mnist_dataset(root_data_path, batch_size)\n",
    "test_loader = load_mnist_dataset(root_data_path, batch_size, False)\n",
    "\n",
    "# train_loader = load_fashion_mnist_dataset(root_data_path, batch_size)\n",
    "# test_loader = load_fashion_mnist_dataset(root_data_path, batch_size, False)"
   ]
  },
  {
   "cell_type": "code",
   "execution_count": 9,
   "metadata": {},
   "outputs": [
    {
     "data": {
      "text/plain": [
       "235"
      ]
     },
     "execution_count": 9,
     "metadata": {},
     "output_type": "execute_result"
    }
   ],
   "source": [
    "len(train_loader)  # step 수"
   ]
  },
  {
   "cell_type": "code",
   "execution_count": 12,
   "metadata": {},
   "outputs": [
    {
     "data": {
      "text/plain": [
       "60000"
      ]
     },
     "execution_count": 12,
     "metadata": {},
     "output_type": "execute_result"
    }
   ],
   "source": [
    "len(train_loader.dataset) # 총 데이터 개수"
   ]
  },
  {
   "cell_type": "code",
   "execution_count": 14,
   "metadata": {},
   "outputs": [],
   "source": [
    "classes = train_loader.dataset.classes\n",
    "class_to_idx = train_loader.dataset.class_to_idx"
   ]
  },
  {
   "cell_type": "code",
   "execution_count": null,
   "metadata": {},
   "outputs": [],
   "source": []
  },
  {
   "cell_type": "markdown",
   "metadata": {},
   "source": [
    "# 모델의 크기 변경에 따른 성능변화\n"
   ]
  },
  {
   "cell_type": "code",
   "execution_count": 15,
   "metadata": {},
   "outputs": [],
   "source": [
    "class SmallModel(nn.Module):\n",
    "\n",
    "    def __init__(self):\n",
    "        super().__init__()\n",
    "        self.lr = nn.Linear(784, 10)  # 입력 -> 출력\n",
    "        \n",
    "    def forward(self, X):\n",
    "        X = nn.Flatten()(X) # Batch x 1 x 28 x 28 -> Batch  x 784, \n",
    "        output = self.lr(X)\n",
    "        return output"
   ]
  },
  {
   "cell_type": "code",
   "execution_count": 16,
   "metadata": {
    "collapsed": true,
    "jupyter": {
     "outputs_hidden": true
    }
   },
   "outputs": [
    {
     "data": {
      "text/plain": [
       "==========================================================================================\n",
       "Layer (type:depth-idx)                   Output Shape              Param #\n",
       "==========================================================================================\n",
       "SmallModel                               [10, 10]                  --\n",
       "├─Linear: 1-1                            [10, 10]                  7,850\n",
       "==========================================================================================\n",
       "Total params: 7,850\n",
       "Trainable params: 7,850\n",
       "Non-trainable params: 0\n",
       "Total mult-adds (Units.MEGABYTES): 0.08\n",
       "==========================================================================================\n",
       "Input size (MB): 0.03\n",
       "Forward/backward pass size (MB): 0.00\n",
       "Params size (MB): 0.03\n",
       "Estimated Total Size (MB): 0.06\n",
       "=========================================================================================="
      ]
     },
     "execution_count": 16,
     "metadata": {},
     "output_type": "execute_result"
    }
   ],
   "source": [
    "small_model = SmallModel().to(device)\n",
    "summary(small_model, (10, 1, 28, 28), device=device)"
   ]
  },
  {
   "cell_type": "code",
   "execution_count": 17,
   "metadata": {},
   "outputs": [],
   "source": [
    "loss_fn = nn.CrossEntropyLoss()\n",
    "optimizer = torch.optim.Adam(small_model.parameters(), lr=lr)"
   ]
  },
  {
   "cell_type": "code",
   "execution_count": 18,
   "metadata": {},
   "outputs": [
    {
     "name": "stdout",
     "output_type": "stream",
     "text": [
      "Epoch[1/20] - Train loss: 0.48461 Train Accucracy: 0.88252 || Validation Loss: 0.46030 Validation Accuracy: 0.89080\n",
      "====================================================================================================\n",
      "저장: 1 - 이전 : inf, 현재: 0.460296718403697\n",
      "Epoch[2/20] - Train loss: 0.37971 Train Accucracy: 0.90092 || Validation Loss: 0.35970 Validation Accuracy: 0.90530\n",
      "====================================================================================================\n",
      "저장: 2 - 이전 : 0.460296718403697, 현재: 0.35969907995313405\n",
      "Epoch[3/20] - Train loss: 0.33849 Train Accucracy: 0.90862 || Validation Loss: 0.32309 Validation Accuracy: 0.91220\n",
      "====================================================================================================\n",
      "저장: 3 - 이전 : 0.35969907995313405, 현재: 0.32309426590800283\n",
      "Epoch[4/20] - Train loss: 0.31678 Train Accucracy: 0.91288 || Validation Loss: 0.30300 Validation Accuracy: 0.91590\n",
      "====================================================================================================\n",
      "저장: 4 - 이전 : 0.32309426590800283, 현재: 0.30299932779744265\n",
      "Epoch[5/20] - Train loss: 0.30162 Train Accucracy: 0.91703 || Validation Loss: 0.29187 Validation Accuracy: 0.91870\n",
      "====================================================================================================\n",
      "저장: 5 - 이전 : 0.30299932779744265, 현재: 0.29186567747965453\n",
      "Epoch[6/20] - Train loss: 0.29238 Train Accucracy: 0.91973 || Validation Loss: 0.28363 Validation Accuracy: 0.91950\n",
      "====================================================================================================\n",
      "저장: 6 - 이전 : 0.29186567747965453, 현재: 0.2836333930492401\n",
      "Epoch[7/20] - Train loss: 0.28548 Train Accucracy: 0.92062 || Validation Loss: 0.27884 Validation Accuracy: 0.92150\n",
      "====================================================================================================\n",
      "저장: 7 - 이전 : 0.2836333930492401, 현재: 0.27883935761637985\n",
      "Epoch[8/20] - Train loss: 0.27836 Train Accucracy: 0.92248 || Validation Loss: 0.27336 Validation Accuracy: 0.92280\n",
      "====================================================================================================\n",
      "저장: 8 - 이전 : 0.27883935761637985, 현재: 0.27336477362550793\n",
      "Epoch[9/20] - Train loss: 0.27381 Train Accucracy: 0.92362 || Validation Loss: 0.26973 Validation Accuracy: 0.92470\n",
      "====================================================================================================\n",
      "저장: 9 - 이전 : 0.27336477362550793, 현재: 0.2697285356000066\n",
      "Epoch[10/20] - Train loss: 0.26977 Train Accucracy: 0.92500 || Validation Loss: 0.26739 Validation Accuracy: 0.92400\n",
      "====================================================================================================\n",
      "저장: 10 - 이전 : 0.2697285356000066, 현재: 0.26738733556121586\n",
      "Epoch[11/20] - Train loss: 0.26700 Train Accucracy: 0.92623 || Validation Loss: 0.26765 Validation Accuracy: 0.92420\n",
      "====================================================================================================\n",
      "Epoch[12/20] - Train loss: 0.26399 Train Accucracy: 0.92657 || Validation Loss: 0.26671 Validation Accuracy: 0.92480\n",
      "====================================================================================================\n",
      "저장: 12 - 이전 : 0.26738733556121586, 현재: 0.26671352884732186\n",
      "Epoch[13/20] - Train loss: 0.26215 Train Accucracy: 0.92733 || Validation Loss: 0.26448 Validation Accuracy: 0.92500\n",
      "====================================================================================================\n",
      "저장: 13 - 이전 : 0.26671352884732186, 현재: 0.2644784594886005\n",
      "Epoch[14/20] - Train loss: 0.25897 Train Accucracy: 0.92838 || Validation Loss: 0.26400 Validation Accuracy: 0.92480\n",
      "====================================================================================================\n",
      "저장: 14 - 이전 : 0.2644784594886005, 현재: 0.2640035660006106\n",
      "Epoch[15/20] - Train loss: 0.25688 Train Accucracy: 0.92827 || Validation Loss: 0.26194 Validation Accuracy: 0.92630\n",
      "====================================================================================================\n",
      "저장: 15 - 이전 : 0.2640035660006106, 현재: 0.26193611938506367\n",
      "Epoch[16/20] - Train loss: 0.25584 Train Accucracy: 0.92973 || Validation Loss: 0.26236 Validation Accuracy: 0.92620\n",
      "====================================================================================================\n",
      "Epoch[17/20] - Train loss: 0.25379 Train Accucracy: 0.92985 || Validation Loss: 0.26101 Validation Accuracy: 0.92640\n",
      "====================================================================================================\n",
      "저장: 17 - 이전 : 0.26193611938506367, 현재: 0.261011079326272\n",
      "Epoch[18/20] - Train loss: 0.25187 Train Accucracy: 0.93010 || Validation Loss: 0.26055 Validation Accuracy: 0.92620\n",
      "====================================================================================================\n",
      "저장: 18 - 이전 : 0.261011079326272, 현재: 0.26055489107966423\n",
      "Epoch[19/20] - Train loss: 0.25035 Train Accucracy: 0.93087 || Validation Loss: 0.26009 Validation Accuracy: 0.92740\n",
      "====================================================================================================\n",
      "저장: 19 - 이전 : 0.26055489107966423, 현재: 0.26009197207167745\n",
      "Epoch[20/20] - Train loss: 0.25013 Train Accucracy: 0.93058 || Validation Loss: 0.25917 Validation Accuracy: 0.92680\n",
      "====================================================================================================\n",
      "저장: 20 - 이전 : 0.26009197207167745, 현재: 0.2591748472303152\n",
      "171.24572491645813 초\n"
     ]
    }
   ],
   "source": [
    "train_loss_list, train_acc_list, valid_loss_list, valid_acc_list = fit(\n",
    "    train_loader,\n",
    "    test_loader,\n",
    "    small_model, \n",
    "    loss_fn,\n",
    "    optimizer,\n",
    "    20,   # epochs\n",
    "    save_model_path=\"saved_models/small_model.pt\", \n",
    "    device=device,\n",
    "    mode=\"multi\", \n",
    ")"
   ]
  },
  {
   "cell_type": "code",
   "execution_count": 19,
   "metadata": {},
   "outputs": [
    {
     "data": {
      "image/png": "[encoded data removed]",
      "text/plain": [
       "<Figure size 1200x500 with 2 Axes>"
      ]
     },
     "metadata": {},
     "output_type": "display_data"
    }
   ],
   "source": [
    "plot_fit_result(train_loss_list, train_acc_list, valid_loss_list, valid_acc_list)"
   ]
  },
  {
   "cell_type": "code",
   "execution_count": null,
   "metadata": {},
   "outputs": [],
   "source": [
    "# Linear() -> ReLU() \n",
    "## (Layer) block -> 규칙적으로 반복되는 Layer들을 묶어서 block으로 설정.\n",
    "## Block 구현: 1. class로 구현(복잡한 block), 2. Sequential (순차흐름.)"
   ]
  },
  {
   "cell_type": "code",
   "execution_count": 20,
   "metadata": {},
   "outputs": [
    {
     "data": {
      "text/plain": [
       "tensor([[0.0000, 0.0808],\n",
       "        [0.3319, 0.0000],\n",
       "        [0.0000, 0.0000],\n",
       "        [0.0000, 0.0820],\n",
       "        [0.0000, 0.0000],\n",
       "        [0.0000, 0.0159],\n",
       "        [0.0000, 0.0000],\n",
       "        [0.0000, 0.0000],\n",
       "        [0.0000, 0.0000],\n",
       "        [1.0672, 0.0000]], grad_fn=<ReluBackward0>)"
      ]
     },
     "execution_count": 20,
     "metadata": {},
     "output_type": "execute_result"
    }
   ],
   "source": [
    "b = nn.Sequential(nn.Linear(1, 2), nn.ReLU())\n",
    "b(torch.randn(10, 1))"
   ]
  },
  {
   "cell_type": "code",
   "execution_count": 23,
   "metadata": {},
   "outputs": [],
   "source": [
    "# 큰 모델\n",
    "class BigModel(nn.Module):\n",
    "\n",
    "    def __init__(self):\n",
    "        super().__init__()\n",
    "        # Linear() -> ReLU() : Sequential로 묶어서 정의\n",
    "        self.b1 = nn.Sequential(nn.Linear(784, 2048), nn.ReLU())\n",
    "        self.b2 = nn.Sequential(nn.Linear(2048, 1024), nn.ReLU())\n",
    "        self.b3 = nn.Sequential(nn.Linear(1024, 512), nn.ReLU())\n",
    "        self.b4 = nn.Sequential(nn.Linear(512, 256), nn.ReLU())\n",
    "        self.b5 = nn.Sequential(nn.Linear(256, 128), nn.ReLU())\n",
    "        self.b6 = nn.Sequential(nn.Linear(128, 64), nn.ReLU())\n",
    "        self.b7 = nn.Sequential(nn.Linear(64, 32), nn.ReLU())\n",
    "        self.out_block = nn.Linear(32, 10)\n",
    "    \n",
    "    def forward(self, X):\n",
    "        X = nn.Flatten()(X)\n",
    "        X = self.b1(X)\n",
    "        X = self.b2(X)\n",
    "        X = self.b3(X)\n",
    "        X = self.b4(X)\n",
    "        X = self.b5(X)\n",
    "        X = self.b6(X)\n",
    "        X = self.b7(X)\n",
    "        output = self.out_block(X)\n",
    "        return output    "
   ]
  },
  {
   "cell_type": "code",
   "execution_count": 24,
   "metadata": {
    "scrolled": true
   },
   "outputs": [
    {
     "data": {
      "text/plain": [
       "==========================================================================================\n",
       "Layer (type:depth-idx)                   Output Shape              Param #\n",
       "==========================================================================================\n",
       "BigModel                                 [10, 10]                  --\n",
       "├─Sequential: 1-1                        [10, 2048]                --\n",
       "│    └─Linear: 2-1                       [10, 2048]                1,607,680\n",
       "│    └─ReLU: 2-2                         [10, 2048]                --\n",
       "├─Sequential: 1-2                        [10, 1024]                --\n",
       "│    └─Linear: 2-3                       [10, 1024]                2,098,176\n",
       "│    └─ReLU: 2-4                         [10, 1024]                --\n",
       "├─Sequential: 1-3                        [10, 512]                 --\n",
       "│    └─Linear: 2-5                       [10, 512]                 524,800\n",
       "│    └─ReLU: 2-6                         [10, 512]                 --\n",
       "├─Sequential: 1-4                        [10, 256]                 --\n",
       "│    └─Linear: 2-7                       [10, 256]                 131,328\n",
       "│    └─ReLU: 2-8                         [10, 256]                 --\n",
       "├─Sequential: 1-5                        [10, 128]                 --\n",
       "│    └─Linear: 2-9                       [10, 128]                 32,896\n",
       "│    └─ReLU: 2-10                        [10, 128]                 --\n",
       "├─Sequential: 1-6                        [10, 64]                  --\n",
       "│    └─Linear: 2-11                      [10, 64]                  8,256\n",
       "│    └─ReLU: 2-12                        [10, 64]                  --\n",
       "├─Sequential: 1-7                        [10, 32]                  --\n",
       "│    └─Linear: 2-13                      [10, 32]                  2,080\n",
       "│    └─ReLU: 2-14                        [10, 32]                  --\n",
       "├─Linear: 1-8                            [10, 10]                  330\n",
       "==========================================================================================\n",
       "Total params: 4,405,546\n",
       "Trainable params: 4,405,546\n",
       "Non-trainable params: 0\n",
       "Total mult-adds (Units.MEGABYTES): 44.06\n",
       "==========================================================================================\n",
       "Input size (MB): 0.03\n",
       "Forward/backward pass size (MB): 0.33\n",
       "Params size (MB): 17.62\n",
       "Estimated Total Size (MB): 17.98\n",
       "=========================================================================================="
      ]
     },
     "execution_count": 24,
     "metadata": {},
     "output_type": "execute_result"
    }
   ],
   "source": [
    "big_model = BigModel().to(device)\n",
    "summary(big_model, (10, 1, 28, 28), device=device)"
   ]
  },
  {
   "cell_type": "code",
   "execution_count": 25,
   "metadata": {},
   "outputs": [],
   "source": [
    "loss_fn = nn.CrossEntropyLoss()\n",
    "optimizer = torch.optim.Adam(big_model.parameters(), lr=lr)"
   ]
  },
  {
   "cell_type": "code",
   "execution_count": 26,
   "metadata": {},
   "outputs": [
    {
     "name": "stdout",
     "output_type": "stream",
     "text": [
      "Epoch[1/100] - Train loss: 0.17047 Train Accucracy: 0.95115 || Validation Loss: 0.17275 Validation Accuracy: 0.94970\n",
      "====================================================================================================\n",
      "저장: 1 - 이전 : inf, 현재: 0.17274691914208234\n",
      "Epoch[2/100] - Train loss: 0.15069 Train Accucracy: 0.95423 || Validation Loss: 0.18289 Validation Accuracy: 0.94710\n",
      "====================================================================================================\n",
      "Epoch[3/100] - Train loss: 0.06251 Train Accucracy: 0.98183 || Validation Loss: 0.10574 Validation Accuracy: 0.96910\n",
      "====================================================================================================\n",
      "저장: 3 - 이전 : 0.17274691914208234, 현재: 0.10573771786584985\n",
      "Epoch[4/100] - Train loss: 0.03950 Train Accucracy: 0.98890 || Validation Loss: 0.07273 Validation Accuracy: 0.97890\n",
      "====================================================================================================\n",
      "저장: 4 - 이전 : 0.10573771786584985, 현재: 0.07273219352355227\n",
      "Epoch[5/100] - Train loss: 0.03561 Train Accucracy: 0.98927 || Validation Loss: 0.09078 Validation Accuracy: 0.97790\n",
      "====================================================================================================\n",
      "Epoch[6/100] - Train loss: 0.02859 Train Accucracy: 0.99122 || Validation Loss: 0.08403 Validation Accuracy: 0.97730\n",
      "====================================================================================================\n",
      "Epoch[7/100] - Train loss: 0.03154 Train Accucracy: 0.99073 || Validation Loss: 0.10439 Validation Accuracy: 0.97540\n",
      "====================================================================================================\n",
      "Epoch[8/100] - Train loss: 0.01507 Train Accucracy: 0.99525 || Validation Loss: 0.07403 Validation Accuracy: 0.98180\n",
      "====================================================================================================\n",
      "Epoch[9/100] - Train loss: 0.02613 Train Accucracy: 0.99248 || Validation Loss: 0.09996 Validation Accuracy: 0.97710\n",
      "====================================================================================================\n",
      "Early stopping: Epoch - 8\n",
      "313.12794303894043 초\n"
     ]
    }
   ],
   "source": [
    "train_loss_list, train_acc_list, valid_loss_list, valid_acc_list = fit(\n",
    "    train_loader, test_loader, # dataLoader\n",
    "    big_model, loss_fn, optimizer, \n",
    "    epochs,\n",
    "    save_model_path=\"saved_models/big_model.pt\",\n",
    "    patience=5,\n",
    "    device=device,\n",
    "    mode='multi'\n",
    ")"
   ]
  },
  {
   "cell_type": "code",
   "execution_count": 27,
   "metadata": {},
   "outputs": [
    {
     "data": {
      "image/png": "[encoded data removed]",
      "text/plain": [
       "<Figure size 1200x500 with 2 Axes>"
      ]
     },
     "metadata": {},
     "output_type": "display_data"
    }
   ],
   "source": [
    "plot_fit_result(train_loss_list, train_acc_list, valid_loss_list, valid_acc_list)"
   ]
  },
  {
   "cell_type": "code",
   "execution_count": null,
   "metadata": {},
   "outputs": [],
   "source": []
  },
  {
   "cell_type": "markdown",
   "metadata": {},
   "source": [
    "# Dropout 예제\n",
    "\n",
    "-   dropout 각 레이어에 적용\n",
    "    -   dropout은 nn.Dropout 객체를 사용\n",
    "    -   객체 생성시 dropout_rate 설정: 0.2 ~ 0.5\n",
    "    -   Drop시킬 노드를 가진 Layer 뒤에 추가한다.\n"
   ]
  },
  {
   "cell_type": "code",
   "execution_count": 28,
   "metadata": {},
   "outputs": [],
   "source": [
    "class DropoutModel(nn.Module):\n",
    "\n",
    "    def __init__(self, dropout_rate=0.5):\n",
    "        super().__init__()\n",
    "        # Linear() -> ReLU() -> Dropout() (앞의 Linear의 파라미터들을 droput한다.)\n",
    "        self.b1 = nn.Sequential(nn.Linear(784, 2048), nn.ReLU(), nn.Dropout(p=dropout_rate))\n",
    "        self.b2 = nn.Sequential(nn.Linear(2048, 1024), nn.ReLU(), nn.Dropout(p=dropout_rate))\n",
    "        self.b3 = nn.Sequential(nn.Linear(1024, 512), nn.ReLU(), nn.Dropout(p=dropout_rate))\n",
    "        self.b4 = nn.Sequential(nn.Linear(512, 256), nn.ReLU(), nn.Dropout(p=dropout_rate))\n",
    "        self.b5 = nn.Sequential(nn.Linear(256, 128), nn.ReLU(), nn.Dropout(p=dropout_rate))\n",
    "        self.b6 = nn.Sequential(nn.Linear(128, 64), nn.ReLU(), nn.Dropout(p=dropout_rate))\n",
    "        self.b7 = nn.Sequential(nn.Linear(64, 32), nn.ReLU(), nn.Dropout(p=dropout_rate))\n",
    "        self.out_block = nn.Linear(32, 10)\n",
    "    \n",
    "    def forward(self, X):\n",
    "        X = nn.Flatten()(X)\n",
    "        X = self.b1(X)\n",
    "        X = self.b2(X)\n",
    "        X = self.b3(X)\n",
    "        X = self.b4(X)\n",
    "        X = self.b5(X)\n",
    "        X = self.b6(X)\n",
    "        X = self.b7(X)\n",
    "        output = self.out_block(X)\n",
    "        return output    "
   ]
  },
  {
   "cell_type": "code",
   "execution_count": 29,
   "metadata": {
    "collapsed": true,
    "jupyter": {
     "outputs_hidden": true
    }
   },
   "outputs": [
    {
     "data": {
      "text/plain": [
       "==========================================================================================\n",
       "Layer (type:depth-idx)                   Output Shape              Param #\n",
       "==========================================================================================\n",
       "DropoutModel                             [10, 10]                  --\n",
       "├─Sequential: 1-1                        [10, 2048]                --\n",
       "│    └─Linear: 2-1                       [10, 2048]                1,607,680\n",
       "│    └─ReLU: 2-2                         [10, 2048]                --\n",
       "│    └─Dropout: 2-3                      [10, 2048]                --\n",
       "├─Sequential: 1-2                        [10, 1024]                --\n",
       "│    └─Linear: 2-4                       [10, 1024]                2,098,176\n",
       "│    └─ReLU: 2-5                         [10, 1024]                --\n",
       "│    └─Dropout: 2-6                      [10, 1024]                --\n",
       "├─Sequential: 1-3                        [10, 512]                 --\n",
       "│    └─Linear: 2-7                       [10, 512]                 524,800\n",
       "│    └─ReLU: 2-8                         [10, 512]                 --\n",
       "│    └─Dropout: 2-9                      [10, 512]                 --\n",
       "├─Sequential: 1-4                        [10, 256]                 --\n",
       "│    └─Linear: 2-10                      [10, 256]                 131,328\n",
       "│    └─ReLU: 2-11                        [10, 256]                 --\n",
       "│    └─Dropout: 2-12                     [10, 256]                 --\n",
       "├─Sequential: 1-5                        [10, 128]                 --\n",
       "│    └─Linear: 2-13                      [10, 128]                 32,896\n",
       "│    └─ReLU: 2-14                        [10, 128]                 --\n",
       "│    └─Dropout: 2-15                     [10, 128]                 --\n",
       "├─Sequential: 1-6                        [10, 64]                  --\n",
       "│    └─Linear: 2-16                      [10, 64]                  8,256\n",
       "│    └─ReLU: 2-17                        [10, 64]                  --\n",
       "│    └─Dropout: 2-18                     [10, 64]                  --\n",
       "├─Sequential: 1-7                        [10, 32]                  --\n",
       "│    └─Linear: 2-19                      [10, 32]                  2,080\n",
       "│    └─ReLU: 2-20                        [10, 32]                  --\n",
       "│    └─Dropout: 2-21                     [10, 32]                  --\n",
       "├─Linear: 1-8                            [10, 10]                  330\n",
       "==========================================================================================\n",
       "Total params: 4,405,546\n",
       "Trainable params: 4,405,546\n",
       "Non-trainable params: 0\n",
       "Total mult-adds (Units.MEGABYTES): 44.06\n",
       "==========================================================================================\n",
       "Input size (MB): 0.03\n",
       "Forward/backward pass size (MB): 0.33\n",
       "Params size (MB): 17.62\n",
       "Estimated Total Size (MB): 17.98\n",
       "=========================================================================================="
      ]
     },
     "execution_count": 29,
     "metadata": {},
     "output_type": "execute_result"
    }
   ],
   "source": [
    "dout_model = DropoutModel().to(device)\n",
    "summary(dout_model, (10, 1, 28, 28), device=device)"
   ]
  },
  {
   "cell_type": "code",
   "execution_count": 30,
   "metadata": {
    "scrolled": true
   },
   "outputs": [],
   "source": [
    "loss_fn = nn.CrossEntropyLoss()\n",
    "optimizer = torch.optim.Adam(dout_model.parameters(), lr=lr)"
   ]
  },
  {
   "cell_type": "code",
   "execution_count": 31,
   "metadata": {
    "scrolled": true
   },
   "outputs": [
    {
     "name": "stdout",
     "output_type": "stream",
     "text": [
      "Epoch[1/100] - Train loss: 0.96833 Train Accucracy: 0.59007 || Validation Loss: 0.97860 Validation Accuracy: 0.59150\n",
      "====================================================================================================\n",
      "저장: 1 - 이전 : inf, 현재: 0.9785989537835121\n",
      "Epoch[2/100] - Train loss: 0.61089 Train Accucracy: 0.79562 || Validation Loss: 0.62503 Validation Accuracy: 0.79420\n",
      "====================================================================================================\n",
      "저장: 2 - 이전 : 0.9785989537835121, 현재: 0.6250325061380864\n",
      "Epoch[3/100] - Train loss: 0.36107 Train Accucracy: 0.88555 || Validation Loss: 0.38347 Validation Accuracy: 0.88480\n",
      "====================================================================================================\n",
      "저장: 3 - 이전 : 0.6250325061380864, 현재: 0.38346521444618703\n",
      "Epoch[4/100] - Train loss: 0.26483 Train Accucracy: 0.93545 || Validation Loss: 0.31430 Validation Accuracy: 0.93130\n",
      "====================================================================================================\n",
      "저장: 4 - 이전 : 0.38346521444618703, 현재: 0.31430033408105373\n",
      "Epoch[5/100] - Train loss: 0.18747 Train Accucracy: 0.96312 || Validation Loss: 0.22272 Validation Accuracy: 0.95670\n",
      "====================================================================================================\n",
      "저장: 5 - 이전 : 0.31430033408105373, 현재: 0.2227198053151369\n",
      "Epoch[6/100] - Train loss: 0.16158 Train Accucracy: 0.96493 || Validation Loss: 0.21271 Validation Accuracy: 0.96050\n",
      "====================================================================================================\n",
      "저장: 6 - 이전 : 0.2227198053151369, 현재: 0.212707375921309\n",
      "Epoch[7/100] - Train loss: 0.13302 Train Accucracy: 0.97100 || Validation Loss: 0.18383 Validation Accuracy: 0.96610\n",
      "====================================================================================================\n",
      "저장: 7 - 이전 : 0.212707375921309, 현재: 0.18382558412849903\n",
      "Epoch[8/100] - Train loss: 0.12180 Train Accucracy: 0.97213 || Validation Loss: 0.17017 Validation Accuracy: 0.96600\n",
      "====================================================================================================\n",
      "저장: 8 - 이전 : 0.18382558412849903, 현재: 0.1701721355319023\n",
      "Epoch[9/100] - Train loss: 0.10613 Train Accucracy: 0.97547 || Validation Loss: 0.18499 Validation Accuracy: 0.96680\n",
      "====================================================================================================\n",
      "Epoch[10/100] - Train loss: 0.11024 Train Accucracy: 0.97333 || Validation Loss: 0.18205 Validation Accuracy: 0.96540\n",
      "====================================================================================================\n",
      "Epoch[11/100] - Train loss: 0.09078 Train Accucracy: 0.97990 || Validation Loss: 0.16052 Validation Accuracy: 0.97130\n",
      "====================================================================================================\n",
      "저장: 11 - 이전 : 0.1701721355319023, 현재: 0.16051917956210673\n",
      "Epoch[12/100] - Train loss: 0.08614 Train Accucracy: 0.97980 || Validation Loss: 0.15735 Validation Accuracy: 0.97050\n",
      "====================================================================================================\n",
      "저장: 12 - 이전 : 0.16051917956210673, 현재: 0.15734998346306384\n",
      "Epoch[13/100] - Train loss: 0.07472 Train Accucracy: 0.98313 || Validation Loss: 0.16351 Validation Accuracy: 0.97290\n",
      "====================================================================================================\n",
      "Epoch[14/100] - Train loss: 0.08437 Train Accucracy: 0.97830 || Validation Loss: 0.15821 Validation Accuracy: 0.96940\n",
      "====================================================================================================\n",
      "Epoch[15/100] - Train loss: 0.07775 Train Accucracy: 0.98205 || Validation Loss: 0.16345 Validation Accuracy: 0.97030\n",
      "====================================================================================================\n",
      "Epoch[16/100] - Train loss: 0.05391 Train Accucracy: 0.98728 || Validation Loss: 0.15109 Validation Accuracy: 0.97810\n",
      "====================================================================================================\n",
      "저장: 16 - 이전 : 0.15734998346306384, 현재: 0.1510900834982749\n",
      "Epoch[17/100] - Train loss: 0.05166 Train Accucracy: 0.98705 || Validation Loss: 0.15795 Validation Accuracy: 0.97760\n",
      "====================================================================================================\n",
      "Epoch[18/100] - Train loss: 0.04433 Train Accucracy: 0.98907 || Validation Loss: 0.13825 Validation Accuracy: 0.97940\n",
      "====================================================================================================\n",
      "저장: 18 - 이전 : 0.1510900834982749, 현재: 0.1382515937439166\n",
      "Epoch[19/100] - Train loss: 0.04929 Train Accucracy: 0.98762 || Validation Loss: 0.14690 Validation Accuracy: 0.97650\n",
      "====================================================================================================\n",
      "Epoch[20/100] - Train loss: 0.04449 Train Accucracy: 0.98858 || Validation Loss: 0.13014 Validation Accuracy: 0.97940\n",
      "====================================================================================================\n",
      "저장: 20 - 이전 : 0.1382515937439166, 현재: 0.13013629947090521\n",
      "Epoch[21/100] - Train loss: 0.03788 Train Accucracy: 0.99070 || Validation Loss: 0.13432 Validation Accuracy: 0.97970\n",
      "====================================================================================================\n",
      "Epoch[22/100] - Train loss: 0.04632 Train Accucracy: 0.98805 || Validation Loss: 0.13974 Validation Accuracy: 0.97620\n",
      "====================================================================================================\n",
      "Epoch[23/100] - Train loss: 0.03988 Train Accucracy: 0.98962 || Validation Loss: 0.13312 Validation Accuracy: 0.97990\n",
      "====================================================================================================\n",
      "Epoch[24/100] - Train loss: 0.03648 Train Accucracy: 0.99137 || Validation Loss: 0.15029 Validation Accuracy: 0.98000\n",
      "====================================================================================================\n",
      "Epoch[25/100] - Train loss: 0.04024 Train Accucracy: 0.99075 || Validation Loss: 0.16077 Validation Accuracy: 0.97980\n",
      "====================================================================================================\n",
      "Early stopping: Epoch - 24\n",
      "1180.8059360980988 초\n"
     ]
    }
   ],
   "source": [
    "train_loss_list, train_acc_list, valid_loss_list, valid_acc_list = fit(\n",
    "    train_loader, test_loader, # dataLoader\n",
    "    dout_model, loss_fn, optimizer, \n",
    "    epochs,\n",
    "    save_model_path=\"saved_models/dout_model.pt\",\n",
    "    patience=5,\n",
    "    device=device,\n",
    "    mode='multi'\n",
    ")"
   ]
  },
  {
   "cell_type": "code",
   "execution_count": null,
   "metadata": {},
   "outputs": [],
   "source": []
  },
  {
   "cell_type": "code",
   "execution_count": null,
   "metadata": {},
   "outputs": [],
   "source": []
  },
  {
   "cell_type": "code",
   "execution_count": null,
   "metadata": {},
   "outputs": [],
   "source": []
  },
  {
   "cell_type": "markdown",
   "metadata": {},
   "source": [
    "# Batch Normalization\n",
    "\n",
    "-   Dense => BN => Activation\n"
   ]
  },
  {
   "cell_type": "code",
   "execution_count": 32,
   "metadata": {},
   "outputs": [],
   "source": [
    "# 평균:0, 표준편차:1 변환 -> Normalization(정규화)\n",
    "class BatchNormModel(nn.Module):\n",
    "    # Dense(WX + b) -> BatchNorm(Scaling) -> Activation -> Dropout\n",
    "    def __init__(self, dropout_rate=0.5):\n",
    "        super().__init__()\n",
    "        # Linear() -> ReLU() -> Dropout() (앞의 Linear의 파라미터들을 droput한다.)\n",
    "        self.b1 = nn.Sequential(\n",
    "            nn.Linear(784, 2048),  # Fully Connected Layer (Dense Layer) -> 파라미터를 이용해서 feature추출하는 역할\n",
    "            nn.BatchNorm1d(2048), # 입력(==출력) feature 개수\n",
    "            nn.ReLU(), \n",
    "            nn.Dropout(p=dropout_rate)\n",
    "        )\n",
    "        \n",
    "        self.b2 = nn.Sequential(nn.Linear(2048, 1024), nn.BatchNorm1d(1024), nn.ReLU(), nn.Dropout(p=dropout_rate))\n",
    "        self.b3 = nn.Sequential(nn.Linear(1024, 512),  nn.BatchNorm1d(512), nn.ReLU(), nn.Dropout(p=dropout_rate))\n",
    "        self.b4 = nn.Sequential(nn.Linear(512, 256),   nn.BatchNorm1d(256), nn.ReLU(), nn.Dropout(p=dropout_rate))\n",
    "        self.b5 = nn.Sequential(nn.Linear(256, 128),   nn.BatchNorm1d(128), nn.ReLU(), nn.Dropout(p=dropout_rate))\n",
    "        self.b6 = nn.Sequential(nn.Linear(128, 64),    nn.BatchNorm1d(64),  nn.ReLU(), nn.Dropout(p=dropout_rate))\n",
    "        self.b7 = nn.Sequential(nn.Linear(64, 32),     nn.BatchNorm1d(32),  nn.ReLU(), nn.Dropout(p=dropout_rate))\n",
    "        self.out_block = nn.Linear(32, 10)\n",
    "    \n",
    "    def forward(self, X):\n",
    "        X = nn.Flatten()(X)\n",
    "        X = self.b1(X)\n",
    "        X = self.b2(X)\n",
    "        X = self.b3(X)\n",
    "        X = self.b4(X)\n",
    "        X = self.b5(X)\n",
    "        X = self.b6(X)\n",
    "        X = self.b7(X)\n",
    "        output = self.out_block(X)\n",
    "        return output    "
   ]
  },
  {
   "cell_type": "code",
   "execution_count": 35,
   "metadata": {
    "collapsed": true,
    "jupyter": {
     "outputs_hidden": true
    }
   },
   "outputs": [
    {
     "data": {
      "text/plain": [
       "==========================================================================================\n",
       "Layer (type:depth-idx)                   Output Shape              Param #\n",
       "==========================================================================================\n",
       "BatchNormModel                           [256, 10]                 --\n",
       "├─Sequential: 1-1                        [256, 2048]               --\n",
       "│    └─Linear: 2-1                       [256, 2048]               1,607,680\n",
       "│    └─BatchNorm1d: 2-2                  [256, 2048]               4,096\n",
       "│    └─ReLU: 2-3                         [256, 2048]               --\n",
       "│    └─Dropout: 2-4                      [256, 2048]               --\n",
       "├─Sequential: 1-2                        [256, 1024]               --\n",
       "│    └─Linear: 2-5                       [256, 1024]               2,098,176\n",
       "│    └─BatchNorm1d: 2-6                  [256, 1024]               2,048\n",
       "│    └─ReLU: 2-7                         [256, 1024]               --\n",
       "│    └─Dropout: 2-8                      [256, 1024]               --\n",
       "├─Sequential: 1-3                        [256, 512]                --\n",
       "│    └─Linear: 2-9                       [256, 512]                524,800\n",
       "│    └─BatchNorm1d: 2-10                 [256, 512]                1,024\n",
       "│    └─ReLU: 2-11                        [256, 512]                --\n",
       "│    └─Dropout: 2-12                     [256, 512]                --\n",
       "├─Sequential: 1-4                        [256, 256]                --\n",
       "│    └─Linear: 2-13                      [256, 256]                131,328\n",
       "│    └─BatchNorm1d: 2-14                 [256, 256]                512\n",
       "│    └─ReLU: 2-15                        [256, 256]                --\n",
       "│    └─Dropout: 2-16                     [256, 256]                --\n",
       "├─Sequential: 1-5                        [256, 128]                --\n",
       "│    └─Linear: 2-17                      [256, 128]                32,896\n",
       "│    └─BatchNorm1d: 2-18                 [256, 128]                256\n",
       "│    └─ReLU: 2-19                        [256, 128]                --\n",
       "│    └─Dropout: 2-20                     [256, 128]                --\n",
       "├─Sequential: 1-6                        [256, 64]                 --\n",
       "│    └─Linear: 2-21                      [256, 64]                 8,256\n",
       "│    └─BatchNorm1d: 2-22                 [256, 64]                 128\n",
       "│    └─ReLU: 2-23                        [256, 64]                 --\n",
       "│    └─Dropout: 2-24                     [256, 64]                 --\n",
       "├─Sequential: 1-7                        [256, 32]                 --\n",
       "│    └─Linear: 2-25                      [256, 32]                 2,080\n",
       "│    └─BatchNorm1d: 2-26                 [256, 32]                 64\n",
       "│    └─ReLU: 2-27                        [256, 32]                 --\n",
       "│    └─Dropout: 2-28                     [256, 32]                 --\n",
       "├─Linear: 1-8                            [256, 10]                 330\n",
       "==========================================================================================\n",
       "Total params: 4,413,674\n",
       "Trainable params: 4,413,674\n",
       "Non-trainable params: 0\n",
       "Total mult-adds (Units.GIGABYTES): 1.13\n",
       "==========================================================================================\n",
       "Input size (MB): 0.80\n",
       "Forward/backward pass size (MB): 16.67\n",
       "Params size (MB): 17.65\n",
       "Estimated Total Size (MB): 35.12\n",
       "=========================================================================================="
      ]
     },
     "execution_count": 35,
     "metadata": {},
     "output_type": "execute_result"
    }
   ],
   "source": [
    "bn_model = BatchNormModel().to(device)\n",
    "summary(bn_model, (batch_size, 1, 28, 28), device=device)"
   ]
  },
  {
   "cell_type": "code",
   "execution_count": 36,
   "metadata": {},
   "outputs": [],
   "source": [
    "loss_fn = nn.CrossEntropyLoss()"
   ]
  },
  {
   "cell_type": "code",
   "execution_count": null,
   "metadata": {},
   "outputs": [],
   "source": [
    "optimizer = torch.optim.Adam(bn_model.parameters(), lr=0.001)"
   ]
  },
  {
   "cell_type": "code",
   "execution_count": null,
   "metadata": {},
   "outputs": [],
   "source": []
  },
  {
   "cell_type": "code",
   "execution_count": null,
   "metadata": {},
   "outputs": [],
   "source": []
  },
  {
   "cell_type": "markdown",
   "metadata": {},
   "source": [
    "# Learning rate decay\n"
   ]
  },
  {
   "cell_type": "markdown",
   "metadata": {},
   "source": [
    "### Optimizer와 Learning rate scheduler의 속성, 메소드 확인\n",
    "\n",
    "-   파이토치는 `torch.optim` 모듈에서 다양한 Learning rate 알고리즘을 제공한다.\n"
   ]
  },
  {
   "cell_type": "code",
   "execution_count": 37,
   "metadata": {},
   "outputs": [],
   "source": [
    "optim = torch.optim.Adam(bn_model.parameters(), lr=0.001)"
   ]
  },
  {
   "cell_type": "code",
   "execution_count": 40,
   "metadata": {},
   "outputs": [
    {
     "name": "stdout",
     "output_type": "stream",
     "text": [
      "<class 'list'> <class 'dict'>\n"
     ]
    },
    {
     "data": {
      "text/plain": [
       "dict_keys(['params', 'lr', 'betas', 'eps', 'weight_decay', 'amsgrad', 'maximize', 'foreach', 'capturable', 'differentiable', 'fused'])"
      ]
     },
     "execution_count": 40,
     "metadata": {},
     "output_type": "execute_result"
    }
   ],
   "source": [
    "# optimizer 객체의 attribute들을 묶어서 제공.\n",
    "info = optim.param_groups\n",
    "info_dict = info[0]\n",
    "print(type(info), type(info_dict))\n",
    "info_dict.keys()"
   ]
  },
  {
   "cell_type": "code",
   "execution_count": 41,
   "metadata": {},
   "outputs": [
    {
     "data": {
      "text/plain": [
       "0.001"
      ]
     },
     "execution_count": 41,
     "metadata": {},
     "output_type": "execute_result"
    }
   ],
   "source": [
    "# 현재 lr 값을 조회.\n",
    "info_dict['lr']"
   ]
  },
  {
   "cell_type": "code",
   "execution_count": 48,
   "metadata": {},
   "outputs": [],
   "source": [
    "# Learning 스케쥴러(학습도중 LR를 변경시키는 객체.)에 의해 변화되는 Learning Rate값을 시각화.\n",
    "import matplotlib.pyplot as plt\n",
    "def plot_lr(title, lr_list):\n",
    "    plt.figure(figsize=(15, 6))\n",
    "    plt.plot(range(len(lr_list)), lr_list)\n",
    "\n",
    "    plt.title(title)\n",
    "    xticks = [x for x in range(len(lr_list)) if x % 10 == 0] # 눈금을 10 배수 자리에 위치.\n",
    "    plt.xticks(xticks)\n",
    "    plt.xlabel(\"Epoch 수 또는 Step 수\")\n",
    "    plt.ylabel(\"학습률-LR\")\n",
    "    plt.grid(True, linestyle=\":\")\n",
    "    plt.show()"
   ]
  },
  {
   "cell_type": "code",
   "execution_count": 50,
   "metadata": {},
   "outputs": [],
   "source": [
    "import numpy as np\n",
    "# plot_lr(\"제목\", np.arange(1, 0.001, -0.01))"
   ]
  },
  {
   "cell_type": "markdown",
   "metadata": {},
   "source": [
    "#### StepLR\n"
   ]
  },
  {
   "cell_type": "code",
   "execution_count": 53,
   "metadata": {},
   "outputs": [
    {
     "data": {
      "text/plain": [
       "(0.001, [0.001])"
      ]
     },
     "execution_count": 53,
     "metadata": {},
     "output_type": "execute_result"
    }
   ],
   "source": [
    "# StepLR - 계단 형태로 LR를 변경. 특정 epoch(step) 마다 lr를 특정 비율만큰 변경.\n",
    "#### 학습: 모델, Loss함수, Optimizer (LR 스케쥴러)\n",
    "optim = torch.optim.Adam(bn_model.parameters(), lr=0.001)\n",
    "# StepLR 생성\n",
    "step_lr_scheduler = torch.optim.lr_scheduler.StepLR(\n",
    "    optim, # 변경할 LR를 가지고 있는 Optimizer\n",
    "    step_size=30, # 몇번당 변경지 단위(epoch, step)를 지정. (lr_sch.step() -> 몇번 호출하면 변경할지.)\n",
    "    gamma=0.5, # 변경 비율. 새_lr = 현재_lr * gramma\n",
    ")\n",
    "\n",
    "## 현재 optimizer의 LR을 조회\n",
    "optim.param_groups[0]['lr'], step_lr_scheduler.get_last_lr()"
   ]
  },
  {
   "cell_type": "code",
   "execution_count": null,
   "metadata": {},
   "outputs": [],
   "source": [
    "######### Train\n",
    "epochs = 300\n",
    "step_size = 10 # 1 에폭당 step수.\n",
    "lr_list = [] # 에폭별 optimizer의 lr를 저장할 리스트.\n",
    "# 전체 학습\n",
    "for epoch in range(epochs):\n",
    "    # 1 에폭 학습    for x, y in dataloader\n",
    "    for _ in range(step_size):\n",
    "        "
   ]
  },
  {
   "cell_type": "code",
   "execution_count": null,
   "metadata": {},
   "outputs": [],
   "source": []
  },
  {
   "cell_type": "code",
   "execution_count": null,
   "metadata": {},
   "outputs": [],
   "source": []
  },
  {
   "cell_type": "code",
   "execution_count": null,
   "metadata": {},
   "outputs": [],
   "source": []
  },
  {
   "cell_type": "markdown",
   "metadata": {},
   "source": [
    "#### CosineAnnealingLR\n",
    "\n",
    "cosine 그래프를 그리면서 learning rate를 변경 하는 방식.  \n",
    "최근에는 learning rate를 단순히 감소시키기 보다는 감소와 증가를 반복하여 진동하는 방식으로 최적점을 찾아가는 알고리즘을 많이 사용한다. 이러한 방법 중 가장 간단하면서도 많이 사용되는 방법이 CosineAnnealingLR이다.\n"
   ]
  },
  {
   "cell_type": "code",
   "execution_count": null,
   "metadata": {},
   "outputs": [],
   "source": []
  },
  {
   "cell_type": "markdown",
   "metadata": {},
   "source": [
    "#### CosineAnnealingWarmRestarts\n",
    "\n",
    "cosine annealing의 스케쥴링에 cosine 주기의 에폭을 점점 늘리거나 줄일 수 있다. (보통 늘린다.)\n"
   ]
  },
  {
   "cell_type": "code",
   "execution_count": null,
   "metadata": {},
   "outputs": [],
   "source": []
  }
 ],
 "metadata": {
  "kernelspec": {
   "display_name": "Python 3 (ipykernel)",
   "language": "python",
   "name": "python3"
  },
  "language_info": {
   "codemirror_mode": {
    "name": "ipython",
    "version": 3
   },
   "file_extension": ".py",
   "mimetype": "text/x-python",
   "name": "python",
   "nbconvert_exporter": "python",
   "pygments_lexer": "ipython3",
   "version": "3.12.7"
  },
  "toc": {
   "base_numbering": 1,
   "nav_menu": {},
   "number_sections": false,
   "sideBar": true,
   "skip_h1_title": false,
   "title_cell": "Table of Contents",
   "title_sidebar": "Contents",
   "toc_cell": false,
   "toc_position": {},
   "toc_section_display": true,
   "toc_window_display": false
  },
  "varInspector": {
   "cols": {
    "lenName": 16,
    "lenType": 16,
    "lenVar": 40
   },
   "kernels_config": {
    "python": {
     "delete_cmd_postfix": "",
     "delete_cmd_prefix": "del ",
     "library": "var_list.py",
     "varRefreshCmd": "print(var_dic_list())"
    },
    "r": {
     "delete_cmd_postfix": ") ",
     "delete_cmd_prefix": "rm(",
     "library": "var_list.r",
     "varRefreshCmd": "cat(var_dic_list()) "
    }
   },
   "types_to_exclude": [
    "module",
    "function",
    "builtin_function_or_method",
    "instance",
    "_Feature"
   ],
   "window_display": false
  }
 },
 "nbformat": 4,
 "nbformat_minor": 4
}
