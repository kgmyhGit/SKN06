{
 "cells": [
  {
   "cell_type": "markdown",
   "metadata": {
    "slideshow": {
     "slide_type": "slide"
    }
   },
   "source": [
    "# Pytorch 개발 Process"
   ]
  },
  {
   "cell_type": "markdown",
   "metadata": {
    "slideshow": {
     "slide_type": "fragment"
    }
   },
   "source": [
    "1. **데이터 준비**\n",
    "    - Dataset 준비\n",
    "    - Dataloader 생성"
   ]
  },
  {
   "cell_type": "markdown",
   "metadata": {
    "slideshow": {
     "slide_type": "fragment"
    }
   },
   "source": [
    "2. **입력과 출력을 연결하는 Layer(층)으로 이뤄진 네트워크(모델)을 정의**\n",
    "    - **Sequential 방식**: 순서대로 쌓아올린 네트워크로 이뤄진 모델을 생성하는 방식\n",
    "        - layer를 순서대로 쌓은 모델을 구현할때 간단히 모델을 정의할 수 있다.\n",
    "        - layer block을 정의하는데 사용할 수 있다.\n",
    "    - **Subclass 방식**: 네트워크를 정의하는 클래스를 구현.\n",
    "        - 다양한 구조의 모델을 정의할 수 있다.\n",
    "        - inializer에서 필요한 layer들을 생성한다.\n",
    "        - forward(self, X) 메소드에 forward propagation 계산을 구현한다.\n",
    "    "
   ]
  },
  {
   "cell_type": "markdown",
   "metadata": {
    "slideshow": {
     "slide_type": "fragment"
    }
   },
   "source": [
    "3. **train**\n",
    "    - train 함수, test 함수 정의"
   ]
  },
  {
   "cell_type": "markdown",
   "metadata": {
    "slideshow": {
     "slide_type": "fragment"
    }
   },
   "source": [
    "4. test set 최종평가"
   ]
  },
  {
   "cell_type": "markdown",
   "metadata": {
    "slideshow": {
     "slide_type": "slide"
    }
   },
   "source": [
    "# MNIST 이미지 분류 \n",
    "- **[MNIST](https://ko.wikipedia.org/wiki/MNIST_%EB%8D%B0%EC%9D%B4%ED%84%B0%EB%B2%A0%EC%9D%B4%EC%8A%A4) (Modified National Institute of Standards and Technology) database**\n",
    "- 흑백 손글씨 숫자 0-9까지 10개의 범주로 구분해놓은 데이터셋\n",
    "- 하나의 이미지는 28 * 28 pixel 의 크기\n",
    "- 6만개의 Train 이미지와 1만개의 Test 이미지로 구성됨."
   ]
  },
  {
   "cell_type": "markdown",
   "metadata": {},
   "source": [
    "## import"
   ]
  },
  {
   "cell_type": "code",
   "execution_count": 2,
   "metadata": {},
   "outputs": [],
   "source": [
    "import torch\n",
    "import torch.nn as nn  # 다양한 layer/모델 들이 정의된 패키지. (Neural Network)\n",
    "from torch.utils.data import DataLoader # DataLoader 클래스 -> 모델에 데이터들을 제공하는 역할.\n",
    "from torchvision import datasets, transforms \n",
    "# torchvision 패키지(라이브러리): pytorch의 Image 전용 sub package\n",
    "### datasets(모듈): Vision(영상) 데이터셋들을 제공하는 모듈\n",
    "### transforms: 이미지(영상) 전처리 기능들을 제공하는 모듈\n",
    "import matplotlib.pyplot as plt"
   ]
  },
  {
   "cell_type": "code",
   "execution_count": 3,
   "metadata": {},
   "outputs": [
    {
     "data": {
      "text/plain": [
       "'2.5.1+cpu'"
      ]
     },
     "execution_count": 3,
     "metadata": {},
     "output_type": "execute_result"
    }
   ],
   "source": [
    "torch.__version__"
   ]
  },
  {
   "cell_type": "markdown",
   "metadata": {},
   "source": [
    "### device 설정"
   ]
  },
  {
   "cell_type": "code",
   "execution_count": null,
   "metadata": {},
   "outputs": [],
   "source": [
    "# !nvidia-smi"
   ]
  },
  {
   "cell_type": "code",
   "execution_count": 5,
   "metadata": {},
   "outputs": [
    {
     "name": "stdout",
     "output_type": "stream",
     "text": [
      "False\n",
      "cpu\n"
     ]
    }
   ],
   "source": [
    "# 어느 Device에서 연산처리를 할지 지정. (cpu, cuda(GPU))\n",
    "# device = \"cpu\"\n",
    "print(torch.cuda.is_available())  # cuda를 사용할 수있는 환경인지 조회\n",
    "device = \"cuda\" if torch.cuda.is_available() else \"cpu\" # 2.0이전: torch.Device(\"cuda\")\n",
    "print(device)"
   ]
  },
  {
   "cell_type": "code",
   "execution_count": 6,
   "metadata": {},
   "outputs": [
    {
     "name": "stdout",
     "output_type": "stream",
     "text": [
      "cpu\n"
     ]
    }
   ],
   "source": [
    "# MAC OS  (\"cpu\", \"mps\")\n",
    "device = \"mps\" if torch.backends.mps.is_available() else \"cpu\"\n",
    "print(device)"
   ]
  },
  {
   "cell_type": "markdown",
   "metadata": {},
   "source": [
    "### 하이퍼파라미터, 변수 설정"
   ]
  },
  {
   "cell_type": "code",
   "execution_count": 59,
   "metadata": {},
   "outputs": [],
   "source": [
    "lr = 0.001 # 학습률. 0 ~ 1 실수. \n",
    "batch_size = 256  # 모델을 학습할 때 한 번에 몇개의 데이터를 제공할 지 개수.\n",
    "# step: 모델의 파라미터들을 update하는 단위.\n",
    "#                                     (1 step: batch_size(256)만큼의 데이터로 파라미터를 한번 update)\n",
    "# epoch: train set 전체를 학습하는 단위. (1 epoch: 총데이터개수(60000개)만큼 한번 다 학습한 것.)\n",
    "epochs = 20"
   ]
  },
  {
   "cell_type": "code",
   "execution_count": 9,
   "metadata": {},
   "outputs": [],
   "source": [
    "import os\n",
    "# 학습이 끝난 모델을 저장할 디렉토리.\n",
    "model_dir = \"models\"\n",
    "os.makedirs(model_dir, exist_ok=True)\n",
    "# Dataset을 저장할 디렉토리\n",
    "dataset_dir = \"datasets/mnist\"\n",
    "os.makedirs(dataset_dir, exist_ok=True)"
   ]
  },
  {
   "cell_type": "markdown",
   "metadata": {
    "ExecuteTime": {
     "end_time": "2021-08-30T05:02:52.852140Z",
     "start_time": "2021-08-30T05:02:52.563117Z"
    },
    "slideshow": {
     "slide_type": "slide"
    }
   },
   "source": [
    "### MNIST dataset Loading\n",
    "\n",
    "#### Dataset"
   ]
  },
  {
   "cell_type": "code",
   "execution_count": 21,
   "metadata": {},
   "outputs": [],
   "source": [
    "trainset = datasets.MNIST(\n",
    "    root=dataset_dir, # Dataset을 읽어올 디렉토리.\n",
    "    download=True,    # root 에 dataset이 없을 경우 다운로드 받을지 여부.\n",
    "    transform=transforms.ToTensor()\n",
    ")\n",
    "testset = datasets.MNIST(\n",
    "    root=dataset_dir,\n",
    "    download=True,\n",
    "    train=False,       # Trainset인지 여부. True(default): train set, False: test set\n",
    "    transform=transforms.ToTensor()\n",
    ")\n",
    "# transform=함수 -> input data를 전처리하는 함수를 전달.\n",
    "# transforms.ToTensor\n",
    "## ndarray, PIL.Image 객체를 torch.Tensor 로 변환.\n",
    "## (height, width, channel) 순서를 channel first (channel, height, width) 형태로 변환.\n",
    "## pixcel값들(0~255 정수)을 0 ~ 1 로 정규화. (Feature Scaling - MinMaxScaling)"
   ]
  },
  {
   "cell_type": "code",
   "execution_count": 22,
   "metadata": {},
   "outputs": [
    {
     "data": {
      "text/plain": [
       "Dataset MNIST\n",
       "    Number of datapoints: 10000\n",
       "    Root location: datasets/mnist\n",
       "    Split: Test\n",
       "    StandardTransform\n",
       "Transform: ToTensor()"
      ]
     },
     "execution_count": 22,
     "metadata": {},
     "output_type": "execute_result"
    }
   ],
   "source": [
    "testset"
   ]
  },
  {
   "cell_type": "code",
   "execution_count": 16,
   "metadata": {},
   "outputs": [
    {
     "data": {
      "text/plain": [
       "(<PIL.Image.Image image mode=L size=28x28>, 5)"
      ]
     },
     "execution_count": 16,
     "metadata": {},
     "output_type": "execute_result"
    }
   ],
   "source": [
    "# 개별데이터 조회\n",
    "trainset[0]  # tuple: (X, y)"
   ]
  },
  {
   "cell_type": "code",
   "execution_count": 17,
   "metadata": {},
   "outputs": [
    {
     "data": {
      "image/jpeg": "[encoded data removed]",
      "image/png": "[encoded data removed]",
      "text/plain": [
       "<PIL.Image.Image image mode=L size=28x28>"
      ]
     },
     "execution_count": 17,
     "metadata": {},
     "output_type": "execute_result"
    }
   ],
   "source": [
    "trainset[0][0]"
   ]
  },
  {
   "cell_type": "code",
   "execution_count": 20,
   "metadata": {},
   "outputs": [
    {
     "name": "stdout",
     "output_type": "stream",
     "text": [
      "(28, 28)\n"
     ]
    },
    {
     "data": {
      "text/plain": [
       "(np.uint8(0), np.uint8(255))"
      ]
     },
     "execution_count": 20,
     "metadata": {},
     "output_type": "execute_result"
    }
   ],
   "source": [
    "import numpy as np\n",
    "a = np.array(trainset[0][0])  # PIL.Image -> ndarray\n",
    "print(a.shape)\n",
    "a.min(), a.max()"
   ]
  },
  {
   "cell_type": "code",
   "execution_count": 27,
   "metadata": {},
   "outputs": [
    {
     "name": "stdout",
     "output_type": "stream",
     "text": [
      "torch.Size([1, 28, 28])\n",
      "torch.float32 torch.FloatTensor\n",
      "tensor(0.) tensor(1.)\n"
     ]
    }
   ],
   "source": [
    "########## transforms.ToTensor() 적용 후################\n",
    "f1 = trainset[0][0]\n",
    "print(f1.shape)  # (1:channel-grayscale, 28: height, 28:width)\n",
    "print(f1.dtype, f1.type())\n",
    "print(f1.min(), f1.max())"
   ]
  },
  {
   "cell_type": "code",
   "execution_count": 72,
   "metadata": {},
   "outputs": [
    {
     "name": "stdout",
     "output_type": "stream",
     "text": [
      "60000\n"
     ]
    },
    {
     "data": {
      "image/png": "[encoded data removed]",
      "text/plain": [
       "<Figure size 200x200 with 1 Axes>"
      ]
     },
     "metadata": {},
     "output_type": "display_data"
    }
   ],
   "source": [
    "import random\n",
    "print(len(trainset))\n",
    "idx = random.randint(0, len(trainset)) #0 ~ 60000 사이 랜덤 정수를 반환.\n",
    "img, label = trainset[idx]\n",
    "\n",
    "plt.figure(figsize=(2, 2))\n",
    "plt.imshow(img.squeeze(), cmap=\"gray\") # (1, 28, 28) -> (28, 28). matplotlib은 이미지를 (h, w, c) 로 전달해야함.\n",
    "plt.title(f\"{idx}\\n{label}\")\n",
    "plt.show()    "
   ]
  },
  {
   "cell_type": "code",
   "execution_count": 54,
   "metadata": {},
   "outputs": [
    {
     "name": "stdout",
     "output_type": "stream",
     "text": [
      "Test객체.test()\n"
     ]
    }
   ],
   "source": [
    "# 객체를 함수처럼 사용.\n",
    "class Test:\n",
    "\n",
    "    def test(self):\n",
    "        print(\"Test객체.test()\")\n",
    "\n",
    "t = Test()\n",
    "t.test()"
   ]
  },
  {
   "cell_type": "code",
   "execution_count": 57,
   "metadata": {},
   "outputs": [
    {
     "name": "stdout",
     "output_type": "stream",
     "text": [
      "Test객체.test()\n"
     ]
    }
   ],
   "source": [
    "class ToTensor2:\n",
    "\n",
    "    def __call__(self):\n",
    "        print(\"Test객체.test()\")\n",
    "t = ToTensor2()\n",
    "t()  # t.__call__() -> callable (함수, 메소드, __call__() 정의한 객체)"
   ]
  },
  {
   "cell_type": "code",
   "execution_count": null,
   "metadata": {},
   "outputs": [],
   "source": []
  },
  {
   "cell_type": "markdown",
   "metadata": {},
   "source": [
    "#### DataLoader"
   ]
  },
  {
   "cell_type": "code",
   "execution_count": 60,
   "metadata": {},
   "outputs": [],
   "source": [
    "# DataLoader: Dataset의 데이터들을 모델에 제공하는 역할. 데이터들을 모델에 어떻게 제공할지 설정해서 생성.\n",
    "## Dataset: 데이터들을 가지고 있는 역할. 하나씩 조회하는 기능을 제공.\n",
    "train_loader = DataLoader(\n",
    "    trainset, # Dataset\n",
    "    batch_size=batch_size, # batch size (256)\n",
    "    shuffle=True,  # 모델에 데이터를 제공하기 전에 섞을지 여부. (default: False) True: 한 epoch 학습 전에 섞는다.\n",
    "    drop_last=True, # 모델에 제공할 데이터의 개수가 batch_size보다 적으면 제공하지 않는다. (학습에 사용안함)\n",
    ")\n",
    "\n",
    "test_loader = DataLoader(testset, batch_size=batch_size)"
   ]
  },
  {
   "cell_type": "code",
   "execution_count": 61,
   "metadata": {},
   "outputs": [
    {
     "data": {
      "text/plain": [
       "(234, 40)"
      ]
     },
     "execution_count": 61,
     "metadata": {},
     "output_type": "execute_result"
    }
   ],
   "source": [
    "# 1 epoch 당 step 수.\n",
    "len(train_loader), len(test_loader)"
   ]
  },
  {
   "cell_type": "code",
   "execution_count": 62,
   "metadata": {},
   "outputs": [
    {
     "data": {
      "text/plain": [
       "(60000, 10000)"
      ]
     },
     "execution_count": 62,
     "metadata": {},
     "output_type": "execute_result"
    }
   ],
   "source": [
    "# 데이터 개수.\n",
    "len(trainset), len(testset)"
   ]
  },
  {
   "cell_type": "markdown",
   "metadata": {
    "slideshow": {
     "slide_type": "slide"
    }
   },
   "source": [
    "### 모델 정의"
   ]
  },
  {
   "cell_type": "code",
   "execution_count": null,
   "metadata": {},
   "outputs": [],
   "source": [
    "# subclass(상속) 방식\n",
    "## nn.Module 상속한 클래스를 정의.\n",
    "## __init__(): 순전파 연산(추론)에 필요한 layer들을 생성.\n",
    "## forward(): 연산 로직을 정의"
   ]
  },
  {
   "cell_type": "code",
   "execution_count": 80,
   "metadata": {},
   "outputs": [],
   "source": [
    "class MNISTModel(nn.Module):\n",
    "    def __init__(self):\n",
    "        super().__init__()  # 상위클래스 nn.Module 을 초기화.\n",
    "        #input feature개수, output 개수\n",
    "        # 첫번째 Linear() : 입력데이터(X_train)을 입력. (input-입력데이터 feature수에 맞춘다.)\n",
    "        self.lr1 = nn.Linear(784, 128) # (784:(28*28) image의 pixcel수, 출력: 128)\n",
    "        self.lr2 = nn.Linear(128, 64)  # (128: lr1의 출력개수, 출력: 64)\n",
    "        self.lr3 = nn.Linear(64, 32)   # (64: lr2의 출력개수, 출력: 32)\n",
    "        self.lr4 = nn.Linear(32, 10)   # (32: lr3의 출력개수, 출력: 10 -> y의 class개수.)\n",
    "        # 마지막 Linear(): 출력 크기(10) - 분류: class개수(0 ~ 9)\n",
    "    def forward(self, X):\n",
    "        \"\"\"\n",
    "        X를 입력 받아서 y를 추론하는 계산로직을 정의\n",
    "        initializer에서 정의한 Linear들을 이용해서 계산.\n",
    "        parameter:\n",
    "            X: torch.FloatTensor - 추론할 MNIST 이미지들.\n",
    "                                shape: (batch_size, 1, 28, 28) - batch_size개수의 이미지를 받아서 추론\n",
    "        \"\"\"\n",
    "        # (batch_size, 1, 28, 28) 를 (batch_size, 784) feature들을 1차원으로 변환.\n",
    "        X = torch.flatten(X, start_dim=1) # 다차원 배열을 1차원 배열로 변환. (start_dim=1, 0축은 놔두고 1축 부터 flatten시킨다.)\n",
    "        X = self.lr1(X)  # Linear: 선형함수\n",
    "        X = nn.ReLU()(X) # Activation(활성) 함수. 비선형함수. ReLU(x) - max(x, 0)\n",
    "        X = self.lr2(X)\n",
    "        X = nn.ReLU()(X)\n",
    "        X = self.lr3(X)\n",
    "        X = nn.ReLU()(X)\n",
    "        output = self.lr4(X)\n",
    "        return output"
   ]
  },
  {
   "cell_type": "code",
   "execution_count": 78,
   "metadata": {},
   "outputs": [
    {
     "name": "stdout",
     "output_type": "stream",
     "text": [
      "torch.Size([5, 2, 3])\n"
     ]
    },
    {
     "data": {
      "text/plain": [
       "torch.Size([5, 6])"
      ]
     },
     "execution_count": 78,
     "metadata": {},
     "output_type": "execute_result"
    }
   ],
   "source": [
    "####### flatten() 함수 테스트.\n",
    "v = torch.arange(30).reshape(5, 2, 3)\n",
    "print(v.shape)\n",
    "v2 = torch.flatten(v, start_dim=1)\n",
    "v2.shape"
   ]
  },
  {
   "cell_type": "code",
   "execution_count": 79,
   "metadata": {},
   "outputs": [
    {
     "data": {
      "text/plain": [
       "tensor([[ 0,  1,  2,  3,  4,  5],\n",
       "        [ 6,  7,  8,  9, 10, 11],\n",
       "        [12, 13, 14, 15, 16, 17],\n",
       "        [18, 19, 20, 21, 22, 23],\n",
       "        [24, 25, 26, 27, 28, 29]])"
      ]
     },
     "execution_count": 79,
     "metadata": {},
     "output_type": "execute_result"
    }
   ],
   "source": [
    "v2"
   ]
  },
  {
   "cell_type": "markdown",
   "metadata": {},
   "source": [
    "### Train"
   ]
  },
  {
   "cell_type": "markdown",
   "metadata": {},
   "source": [
    "#### 모델, loss function, optimizer 생성"
   ]
  },
  {
   "cell_type": "code",
   "execution_count": 82,
   "metadata": {},
   "outputs": [
    {
     "name": "stdout",
     "output_type": "stream",
     "text": [
      "MNISTModel(\n",
      "  (lr1): Linear(in_features=784, out_features=128, bias=True)\n",
      "  (lr2): Linear(in_features=128, out_features=64, bias=True)\n",
      "  (lr3): Linear(in_features=64, out_features=32, bias=True)\n",
      "  (lr4): Linear(in_features=32, out_features=10, bias=True)\n",
      ")\n"
     ]
    }
   ],
   "source": [
    "# 모델 객체 생성. device로 옮김\n",
    "model = MNISTModel().to(device) # 이 모델(의 파라미터들)을 연산을 처리할 device(cpu, cuda)로 이동.\n",
    "print(model)"
   ]
  },
  {
   "cell_type": "code",
   "execution_count": 83,
   "metadata": {},
   "outputs": [],
   "source": [
    "# loss함수\n",
    "##  다중 분류 문제 -> crossentropy loss함수를 이용. (이진분류: binary crossentropy, 회귀: mse)\n",
    "loss_fn = nn.CrossEntropyLoss()  # torch.nn.functional.cross_entropy 함수"
   ]
  },
  {
   "cell_type": "code",
   "execution_count": 84,
   "metadata": {},
   "outputs": [],
   "source": [
    "# optimizer 정의 -> 파라미터 업데이트, 파라미터의 gradient값을 초기화.\n",
    "optimizer = torch.optim.Adam(model.parameters(), lr=lr) #(모델의 파라미터들, 학습률)"
   ]
  },
  {
   "cell_type": "code",
   "execution_count": 87,
   "metadata": {},
   "outputs": [
    {
     "data": {
      "text/plain": [
       "(torch.Size([256, 1, 28, 28]), torch.Size([256]))"
      ]
     },
     "execution_count": 87,
     "metadata": {},
     "output_type": "execute_result"
    }
   ],
   "source": [
    "####### 생성한 모델로 학습전에 추론.########\n",
    "# Data\n",
    "X_batch, y_batch = next(iter(train_loader))  # batch_size만큼 데이터를 추출, (X, y)\n",
    "X_batch.shape, y_batch.shape"
   ]
  },
  {
   "cell_type": "code",
   "execution_count": null,
   "metadata": {},
   "outputs": [],
   "source": [
    "# X, y를 model과 같은 device로 이동.\n",
    "X_batch, y_batch = X_batch.to(device), y_batch.to(device)"
   ]
  },
  {
   "cell_type": "code",
   "execution_count": 88,
   "metadata": {},
   "outputs": [],
   "source": [
    "y_pred = model(X_batch)"
   ]
  },
  {
   "cell_type": "code",
   "execution_count": 90,
   "metadata": {},
   "outputs": [
    {
     "data": {
      "text/plain": [
       "tensor([ 0.1809, -0.0719, -0.0501,  0.1288, -0.1330,  0.0768,  0.0653,  0.0225,\n",
       "         0.1682, -0.0877], grad_fn=<SelectBackward0>)"
      ]
     },
     "execution_count": 90,
     "metadata": {},
     "output_type": "execute_result"
    }
   ],
   "source": [
    "# 첫번째 데이터의 예측결과\n",
    "y_pred[0]  # 가장 큰값을 가진 index가 예측 class가 된다."
   ]
  },
  {
   "cell_type": "code",
   "execution_count": 91,
   "metadata": {},
   "outputs": [
    {
     "data": {
      "text/plain": [
       "tensor(0)"
      ]
     },
     "execution_count": 91,
     "metadata": {},
     "output_type": "execute_result"
    }
   ],
   "source": [
    "y_pred[0].argmax()"
   ]
  },
  {
   "cell_type": "code",
   "execution_count": 94,
   "metadata": {
    "collapsed": true,
    "jupyter": {
     "outputs_hidden": true
    }
   },
   "outputs": [
    {
     "data": {
      "text/plain": [
       "tensor([0, 0, 0, 0, 0, 8, 0, 0, 8, 0, 0, 0, 0, 0, 8, 0, 0, 8, 8, 0, 8, 0, 8, 0,\n",
       "        0, 0, 0, 0, 0, 8, 0, 0, 8, 0, 8, 0, 0, 0, 0, 0, 0, 0, 0, 8, 0, 0, 0, 0,\n",
       "        0, 0, 0, 0, 0, 0, 0, 0, 0, 0, 8, 0, 0, 8, 0, 0, 0, 0, 0, 0, 0, 0, 0, 8,\n",
       "        8, 0, 0, 0, 0, 0, 8, 0, 0, 0, 0, 0, 0, 8, 0, 0, 8, 0, 0, 8, 0, 0, 0, 0,\n",
       "        0, 0, 0, 0, 8, 0, 0, 0, 0, 0, 0, 0, 0, 0, 0, 0, 0, 0, 0, 8, 0, 0, 0, 0,\n",
       "        0, 0, 8, 0, 0, 0, 0, 8, 0, 0, 0, 0, 0, 0, 0, 8, 8, 0, 0, 0, 0, 0, 0, 0,\n",
       "        0, 8, 0, 0, 0, 0, 0, 0, 0, 0, 0, 0, 0, 8, 8, 0, 0, 0, 0, 0, 0, 0, 0, 8,\n",
       "        0, 0, 0, 8, 0, 0, 0, 8, 0, 0, 0, 0, 8, 0, 0, 0, 0, 0, 0, 0, 0, 0, 0, 0,\n",
       "        0, 0, 0, 0, 0, 0, 0, 8, 0, 0, 8, 0, 8, 8, 0, 0, 0, 8, 8, 0, 0, 0, 8, 0,\n",
       "        0, 0, 0, 0, 0, 0, 0, 0, 8, 8, 0, 0, 0, 8, 0, 0, 0, 8, 0, 0, 0, 0, 0, 0,\n",
       "        0, 0, 0, 0, 0, 8, 0, 0, 0, 0, 0, 0, 0, 8, 0, 0])"
      ]
     },
     "execution_count": 94,
     "metadata": {},
     "output_type": "execute_result"
    }
   ],
   "source": [
    "y_pred.argmax(dim=-1)"
   ]
  },
  {
   "cell_type": "code",
   "execution_count": 96,
   "metadata": {},
   "outputs": [
    {
     "data": {
      "text/plain": [
       "tensor(2.3120, grad_fn=<NllLossBackward0>)"
      ]
     },
     "execution_count": 96,
     "metadata": {},
     "output_type": "execute_result"
    }
   ],
   "source": [
    "# 오차 계산\n",
    "loss = loss_fn(y_pred, y_batch)\n",
    "loss"
   ]
  },
  {
   "cell_type": "code",
   "execution_count": null,
   "metadata": {},
   "outputs": [],
   "source": [
    "# 모델 파라미터 업데이트\n",
    "## gradient 계산\n",
    "loss.backward()"
   ]
  },
  {
   "cell_type": "code",
   "execution_count": 99,
   "metadata": {},
   "outputs": [],
   "source": [
    "## 업데이트\n",
    "optimizer.step()"
   ]
  },
  {
   "cell_type": "code",
   "execution_count": 100,
   "metadata": {},
   "outputs": [],
   "source": [
    "## 파라미터 gradient 초기화\n",
    "optimizer.zero_grad()\n",
    "####################################### 1 step 학습."
   ]
  },
  {
   "cell_type": "markdown",
   "metadata": {},
   "source": [
    "#### 학습(훈련-train) 및 검증"
   ]
  },
  {
   "cell_type": "code",
   "execution_count": null,
   "metadata": {},
   "outputs": [],
   "source": [
    "# device로 이동할 대상: Model객체, X(input), y(output) => 같은 device에 위치해야함."
   ]
  },
  {
   "cell_type": "code",
   "execution_count": 102,
   "metadata": {},
   "outputs": [],
   "source": [
    "model = MNISTModel().to(device)\n",
    "loss_fn = nn.CrossEntropyLoss()\n",
    "optimizer = torch.optim.Adam(model.parameters(), lr=lr)"
   ]
  },
  {
   "cell_type": "code",
   "execution_count": 106,
   "metadata": {},
   "outputs": [
    {
     "name": "stdout",
     "output_type": "stream",
     "text": [
      "[01/20] train_loss: 0.6206591259847339, valid_loss: 0.26790590714663265, valid_acc: 0.919\n",
      "[02/20] train_loss: 0.2152417941799021, valid_loss: 0.17050389116629958, valid_acc: 0.9479\n",
      "[03/20] train_loss: 0.1491519623141513, valid_loss: 0.14045053124427795, valid_acc: 0.958\n",
      "[04/20] train_loss: 0.11895455478921406, valid_loss: 0.10944244051352144, valid_acc: 0.9669\n",
      "[05/20] train_loss: 0.09711141107428788, valid_loss: 0.10582500221789815, valid_acc: 0.9674\n",
      "[06/20] train_loss: 0.0826183116206756, valid_loss: 0.0968464704696089, valid_acc: 0.9699\n",
      "[07/20] train_loss: 0.06889879638249548, valid_loss: 0.08535441707354038, valid_acc: 0.9746\n",
      "[08/20] train_loss: 0.05872185667578736, valid_loss: 0.08415541695430875, valid_acc: 0.9746\n",
      "[09/20] train_loss: 0.05083953941431947, valid_loss: 0.08545021360332612, valid_acc: 0.974\n",
      "[10/20] train_loss: 0.043393625097715445, valid_loss: 0.0794666084988421, valid_acc: 0.9757\n",
      "[11/20] train_loss: 0.03728446979314471, valid_loss: 0.08024584136346676, valid_acc: 0.9761\n",
      "[12/20] train_loss: 0.03340534181692279, valid_loss: 0.08608898809652601, valid_acc: 0.9737\n",
      "[13/20] train_loss: 0.02835696712972071, valid_loss: 0.09928414170954056, valid_acc: 0.9724\n",
      "[14/20] train_loss: 0.025631682340326346, valid_loss: 0.0860711935603831, valid_acc: 0.9758\n",
      "[15/20] train_loss: 0.02154952642491931, valid_loss: 0.0886662238614008, valid_acc: 0.9759\n",
      "[16/20] train_loss: 0.020151460953216013, valid_loss: 0.0976214018301107, valid_acc: 0.9755\n",
      "[17/20] train_loss: 0.01639268653264317, valid_loss: 0.09864360782903532, valid_acc: 0.9739\n",
      "[18/20] train_loss: 0.01567521006362433, valid_loss: 0.09609455334061749, valid_acc: 0.9755\n",
      "[19/20] train_loss: 0.012838796544302668, valid_loss: 0.10611459194198006, valid_acc: 0.973\n",
      "[20/20] train_loss: 0.009888191786286239, valid_loss: 0.10259364124490844, valid_acc: 0.975\n",
      "학습에 걸린 시간(초): 66.47255682945251\n"
     ]
    }
   ],
   "source": [
    "import time\n",
    "# 학습\n",
    "## 에폭별 검증결과들을 저장할 리스트\n",
    "train_loss_list = []\n",
    "valid_loss_list = []\n",
    "valid_acc_list = []\n",
    "s = time.time()\n",
    "\n",
    "# 학습-중첩 반복문: epoch 반복 -> step(batch_size) 에 대한 반복\n",
    "for epoch in range(epochs):\n",
    "    ###############################################\n",
    "    # 모델 Train - 1 epoch : Trainset\n",
    "    ###############################################\n",
    "    model.train() # 모델을 train 모드로 변환.\n",
    "    train_loss = 0 # 현재 epoch의 train loss를 저장할 변수.\n",
    "\n",
    "    # batch 단위로 학습 -> 1 step: 1개 batch의 데이터로 학습.\n",
    "    for X_train, y_train  in train_loader: # 한번 반복할 때마다 1개 batch 데이터를 순서대로 제공. \n",
    "        # 1. devcie로 이동\n",
    "        X_train, y_train = X_train.to(device), y_train.to(device)\n",
    "        # 2. 모델을 이용해 추론\n",
    "        pred = model(X_train) # Model.forward(X_train) 메소드 호출\n",
    "        # 3. loss 계산\n",
    "        loss = loss_fn(pred, y_train)\n",
    "        # 4. gradient 계산\n",
    "        loss.backward()\n",
    "        # 5. 모델의 파라미터들(weight, bias) update\n",
    "        optimizer.step()\n",
    "        # 6. gradient 초기화\n",
    "        optimizer.zero_grad()\n",
    "        #----------- 1step 학습\n",
    "        train_loss = train_loss + loss.item() # 학습 결과 저장및 출력을 위해 loss 저장.\n",
    "\n",
    "    \n",
    "    train_loss = train_loss / len(train_loader)  # 1 에폭학습 한 loss 평균계산.\n",
    "    train_loss_list.append(train_loss)\n",
    "    \n",
    "    ###############################################\n",
    "    # 1 epoch 학습한 결과 검증: Testset\n",
    "    ###############################################\n",
    "    model.eval()  # 모델을 evaluation() (추론, 검증) 모드로 변환.\n",
    "    valid_loss = 0\n",
    "    valid_acc = 0\n",
    "    with torch.no_grad(): # 추론만 함 -> gradient 계산할 필요 없음. -> grad_fn 구할 필요없다.\n",
    "        for X_valid, y_valid in test_loader:\n",
    "            # 1. device 로 이동\n",
    "            X_valid, y_valid = X_valid.to(device), y_valid.to(device)\n",
    "            # 2. 추론\n",
    "            pred_valid = model(X_valid)\n",
    "            # 3-1. 검증 -> loss\n",
    "            valid_loss = valid_loss + loss_fn(pred_valid, y_valid).item()\n",
    "            # 3-2. 검증 -> accuracy\n",
    "            ## pred_valid shape: (256, 10: class별 확률) -> 정답 class 추출\n",
    "            pred_valid_class = pred_valid.argmax(dim=-1)\n",
    "            valid_acc = valid_acc + torch.sum(y_valid == pred_valid_class).item()\n",
    "        # 검증결과 누적값의 평균\n",
    "        valid_loss = valid_loss / len(test_loader)  # step수 나눔.\n",
    "        valid_acc = valid_acc / len(testset)        # 데이터 개수로 나눔.\n",
    "        valid_loss_list.append(valid_loss)\n",
    "        valid_acc_list.append(valid_acc)\n",
    "\n",
    "        # 검증 결과 출력\n",
    "        print(f\"[{epoch+1:02d}/{epochs}] train_loss: {train_loss}, valid_loss: {valid_loss}, valid_acc: {valid_acc}\")\n",
    "\n",
    "e = time.time()\n",
    "print('학습에 걸린 시간(초):', e-s)"
   ]
  },
  {
   "cell_type": "code",
   "execution_count": 104,
   "metadata": {},
   "outputs": [
    {
     "data": {
      "text/plain": [
       "234"
      ]
     },
     "execution_count": 104,
     "metadata": {},
     "output_type": "execute_result"
    }
   ],
   "source": [
    "len(train_loader)\n",
    "# next(iter(train_loader))"
   ]
  },
  {
   "cell_type": "code",
   "execution_count": 105,
   "metadata": {},
   "outputs": [
    {
     "data": {
      "text/plain": [
       "40"
      ]
     },
     "execution_count": 105,
     "metadata": {},
     "output_type": "execute_result"
    }
   ],
   "source": [
    "len(test_loader)"
   ]
  },
  {
   "cell_type": "code",
   "execution_count": null,
   "metadata": {},
   "outputs": [],
   "source": []
  },
  {
   "cell_type": "markdown",
   "metadata": {},
   "source": [
    "#### 학습 로그 시각화"
   ]
  },
  {
   "cell_type": "code",
   "execution_count": 117,
   "metadata": {},
   "outputs": [
    {
     "data": {
      "image/png": "[encoded data removed]",
      "text/plain": [
       "<Figure size 1000x500 with 2 Axes>"
      ]
     },
     "metadata": {},
     "output_type": "display_data"
    }
   ],
   "source": [
    "# train loss, valid loss, valid acc 를 epoch 별로 어떻게 변하는지 시각화.\n",
    "plt.figure(figsize=(10, 5))\n",
    "plt.subplot(1, 2, 1)\n",
    "plt.plot(range(1, epochs+1), train_loss_list, label=\"train loss\")\n",
    "plt.plot(range(1, epochs+1), valid_loss_list, label=\"valid loss\")\n",
    "plt.title(\"Loss\")\n",
    "plt.legend()\n",
    "plt.grid(True, linestyle=\":\")\n",
    "\n",
    "plt.subplot(1, 2, 2)\n",
    "plt.plot(range(1, epochs+1), valid_acc_list)\n",
    "plt.title(\"valid accuracy\")\n",
    "\n",
    "plt.tight_layout()\n",
    "plt.grid(True, linestyle=\":\")\n",
    "plt.show()\n"
   ]
  },
  {
   "cell_type": "markdown",
   "metadata": {},
   "source": [
    "### 학습된 모델 저장 및 불러오기"
   ]
  },
  {
   "cell_type": "code",
   "execution_count": 122,
   "metadata": {},
   "outputs": [
    {
     "data": {
      "text/plain": [
       "'models\\\\mnist_model.pt'"
      ]
     },
     "execution_count": 122,
     "metadata": {},
     "output_type": "execute_result"
    }
   ],
   "source": [
    "import os\n",
    "save_path = os.path.join(model_dir, \"mnist_model.pt\")\n",
    "save_path"
   ]
  },
  {
   "cell_type": "code",
   "execution_count": 123,
   "metadata": {},
   "outputs": [],
   "source": [
    "# 모델 저장: 파일 확장자 - pt, pth\n",
    "torch.save(model, save_path)  #  (저장할 모델, 저장할 파일 경로)"
   ]
  },
  {
   "cell_type": "code",
   "execution_count": 124,
   "metadata": {},
   "outputs": [
    {
     "name": "stdout",
     "output_type": "stream",
     "text": [
      "MNISTModel(\n",
      "  (lr1): Linear(in_features=784, out_features=128, bias=True)\n",
      "  (lr2): Linear(in_features=128, out_features=64, bias=True)\n",
      "  (lr3): Linear(in_features=64, out_features=32, bias=True)\n",
      "  (lr4): Linear(in_features=32, out_features=10, bias=True)\n",
      ")\n"
     ]
    },
    {
     "name": "stderr",
     "output_type": "stream",
     "text": [
      "C:\\Users\\Playdata\\AppData\\Local\\Temp\\ipykernel_6884\\254803293.py:1: FutureWarning: You are using `torch.load` with `weights_only=False` (the current default value), which uses the default pickle module implicitly. It is possible to construct malicious pickle data which will execute arbitrary code during unpickling (See https://github.com/pytorch/pytorch/blob/main/SECURITY.md#untrusted-models for more details). In a future release, the default value for `weights_only` will be flipped to `True`. This limits the functions that could be executed during unpickling. Arbitrary objects will no longer be allowed to be loaded via this mode unless they are explicitly allowlisted by the user via `torch.serialization.add_safe_globals`. We recommend you start setting `weights_only=True` for any use case where you don't have full control of the loaded file. Please open an issue on GitHub for any issues related to this experimental feature.\n",
      "  load_model = torch.load(save_path)\n"
     ]
    }
   ],
   "source": [
    "# 저장된 모델 load(불러오기)\n",
    "load_model = torch.load(save_path)\n",
    "print(load_model)"
   ]
  },
  {
   "cell_type": "markdown",
   "metadata": {},
   "source": [
    "## 모델 성능 최종 평가"
   ]
  },
  {
   "cell_type": "code",
   "execution_count": 125,
   "metadata": {},
   "outputs": [],
   "source": [
    "load_model = load_model.to(device)\n",
    "load_model.eval() # 평가모드\n",
    "\n",
    "test_loss = test_acc = 0\n",
    "with torch.no_grad():\n",
    "    for X_test, y_test in test_loader:\n",
    "        # device 이동\n",
    "        X_test, y_test = X_test.to(device), y_test.to(device)\n",
    "        # 추론\n",
    "        pred_test = load_model(X_test)\n",
    "        # 검증 - loss\n",
    "        loss_test = loss_fn(pred_test, y_test)\n",
    "        test_loss += loss_test.item()\n",
    "        # 검증 - accuracy\n",
    "        ## class\n",
    "        pred_test_class = pred_test.argmax(dim=-1)\n",
    "        test_acc += torch.sum(pred_test_class == y_test).item()\n",
    "\n",
    "    test_loss = test_loss / len(test_loader)\n",
    "    test_acc = test_acc / len(testset)"
   ]
  },
  {
   "cell_type": "code",
   "execution_count": 126,
   "metadata": {},
   "outputs": [
    {
     "name": "stdout",
     "output_type": "stream",
     "text": [
      "0.10259364124490844 0.975\n"
     ]
    }
   ],
   "source": [
    "print(test_loss, test_acc)"
   ]
  },
  {
   "cell_type": "code",
   "execution_count": 133,
   "metadata": {},
   "outputs": [
    {
     "name": "stdout",
     "output_type": "stream",
     "text": [
      "torch.Size([16])\n"
     ]
    },
    {
     "data": {
      "text/plain": [
       "tensor([1, 2, 3, 4, 5, 6, 7, 8, 9, 0, 1, 2, 3, 4, 5, 6])"
      ]
     },
     "execution_count": 133,
     "metadata": {},
     "output_type": "execute_result"
    }
   ],
   "source": [
    "print(y_test.shape)\n",
    "y_test"
   ]
  },
  {
   "cell_type": "code",
   "execution_count": 132,
   "metadata": {},
   "outputs": [
    {
     "data": {
      "text/plain": [
       "torch.Size([16, 10])"
      ]
     },
     "execution_count": 132,
     "metadata": {},
     "output_type": "execute_result"
    }
   ],
   "source": [
    "p = load_model(X_test)\n",
    "p.shape"
   ]
  },
  {
   "cell_type": "code",
   "execution_count": 136,
   "metadata": {},
   "outputs": [],
   "source": [
    "p_class = p.argmax(dim=-1)"
   ]
  },
  {
   "cell_type": "code",
   "execution_count": 141,
   "metadata": {},
   "outputs": [
    {
     "data": {
      "text/plain": [
       "16"
      ]
     },
     "execution_count": 141,
     "metadata": {},
     "output_type": "execute_result"
    }
   ],
   "source": [
    "torch.sum(y_test == p_class).item() # 맞은 것의 개수."
   ]
  },
  {
   "cell_type": "markdown",
   "metadata": {
    "slideshow": {
     "slide_type": "slide"
    }
   },
   "source": [
    "## 새로운 데이터 추론"
   ]
  },
  {
   "cell_type": "code",
   "execution_count": null,
   "metadata": {},
   "outputs": [],
   "source": []
  },
  {
   "cell_type": "code",
   "execution_count": null,
   "metadata": {},
   "outputs": [],
   "source": []
  }
 ],
 "metadata": {
  "kernelspec": {
   "display_name": "Python 3 (ipykernel)",
   "language": "python",
   "name": "python3"
  },
  "language_info": {
   "codemirror_mode": {
    "name": "ipython",
    "version": 3
   },
   "file_extension": ".py",
   "mimetype": "text/x-python",
   "name": "python",
   "nbconvert_exporter": "python",
   "pygments_lexer": "ipython3",
   "version": "3.12.7"
  },
  "toc": {
   "base_numbering": 1,
   "nav_menu": {},
   "number_sections": false,
   "sideBar": true,
   "skip_h1_title": false,
   "title_cell": "Table of Contents",
   "title_sidebar": "Contents",
   "toc_cell": false,
   "toc_position": {},
   "toc_section_display": true,
   "toc_window_display": false
  },
  "varInspector": {
   "cols": {
    "lenName": 16,
    "lenType": 16,
    "lenVar": 40
   },
   "kernels_config": {
    "python": {
     "delete_cmd_postfix": "",
     "delete_cmd_prefix": "del ",
     "library": "var_list.py",
     "varRefreshCmd": "print(var_dic_list())"
    },
    "r": {
     "delete_cmd_postfix": ") ",
     "delete_cmd_prefix": "rm(",
     "library": "var_list.r",
     "varRefreshCmd": "cat(var_dic_list()) "
    }
   },
   "position": {
    "height": "347.844px",
    "left": "1891px",
    "right": "20px",
    "top": "361px",
    "width": "486px"
   },
   "types_to_exclude": [
    "module",
    "function",
    "builtin_function_or_method",
    "instance",
    "_Feature"
   ],
   "window_display": false
  }
 },
 "nbformat": 4,
 "nbformat_minor": 4
}
