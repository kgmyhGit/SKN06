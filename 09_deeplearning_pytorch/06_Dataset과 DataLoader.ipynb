{
 "cells": [
  {
   "cell_type": "code",
   "execution_count": 1,
   "metadata": {},
   "outputs": [
    {
     "name": "stdout",
     "output_type": "stream",
     "text": [
      "1\n",
      "2\n",
      "3\n",
      "4\n"
     ]
    }
   ],
   "source": [
    "# iterable -> 값을 하나씩 제공해주는 객체. => for in 문에서 사용할  수있는 객체.\n",
    "# iterable(값들을 저장 + iterator를 생성) + iterator(iterable의 값을 제공) = for in\n",
    "l = [1, 2, 3, 4]\n",
    "for i in l:\n",
    "    print(i)"
   ]
  },
  {
   "cell_type": "code",
   "execution_count": 2,
   "metadata": {},
   "outputs": [
    {
     "name": "stdout",
     "output_type": "stream",
     "text": [
      "<class 'list_iterator'>\n"
     ]
    }
   ],
   "source": [
    "# iterable 에서 iterator 생성\n",
    "iterator = iter(l)\n",
    "print(type(iterator))"
   ]
  },
  {
   "cell_type": "code",
   "execution_count": 7,
   "metadata": {},
   "outputs": [
    {
     "ename": "StopIteration",
     "evalue": "",
     "output_type": "error",
     "traceback": [
      "\u001b[1;31m---------------------------------------------------------------------------\u001b[0m",
      "\u001b[1;31mStopIteration\u001b[0m                             Traceback (most recent call last)",
      "Cell \u001b[1;32mIn[7], line 1\u001b[0m\n\u001b[1;32m----> 1\u001b[0m \u001b[38;5;28;43mnext\u001b[39;49m\u001b[43m(\u001b[49m\u001b[43miterator\u001b[49m\u001b[43m)\u001b[49m\n",
      "\u001b[1;31mStopIteration\u001b[0m: "
     ]
    }
   ],
   "source": [
    "next(iterator)"
   ]
  },
  {
   "cell_type": "code",
   "execution_count": 8,
   "metadata": {},
   "outputs": [
    {
     "name": "stdout",
     "output_type": "stream",
     "text": [
      "1\n",
      "2\n",
      "3\n",
      "4\n"
     ]
    }
   ],
   "source": [
    "### for i in l\n",
    "iterator = iter(l)\n",
    "while True:\n",
    "    try:\n",
    "        i = next(iterator)\n",
    "        print(i)\n",
    "    except:\n",
    "        break"
   ]
  },
  {
   "cell_type": "code",
   "execution_count": null,
   "metadata": {},
   "outputs": [],
   "source": [
    "# iterable 타입을 구현 \n",
    "## class로 구현\n",
    "## __iter__(self) 메소드 구현 => iterator를 반환.\n",
    "\n",
    "# iterator 타입을 구현\n",
    "## class 로 구현\n",
    "## __next__(self) 메소드를 구현 -> iterable의 원소들을 하나씩 순서대로 반환. \n",
    "##                                 제공할 값이 없으면 StopIteration Exception을 발생."
   ]
  },
  {
   "cell_type": "code",
   "execution_count": 10,
   "metadata": {},
   "outputs": [
    {
     "data": {
      "text/plain": [
       "1"
      ]
     },
     "execution_count": 10,
     "metadata": {},
     "output_type": "execute_result"
    }
   ],
   "source": [
    "# substriptable 타입 - indexing으로 값을 조회가능한 객체. => index 연산자 사용 가능.\n",
    "## 클래스로 구현\n",
    "### __getitem__(self, index): index의 값을 반환하도록 구현. => s[index]\n",
    "### __len__(self): 원소의 개수를 반환. => len()\n",
    "l[0]"
   ]
  },
  {
   "cell_type": "code",
   "execution_count": 11,
   "metadata": {},
   "outputs": [
    {
     "name": "stdout",
     "output_type": "stream",
     "text": [
      "1\n",
      "2\n",
      "3\n"
     ]
    }
   ],
   "source": [
    "s = {1, 2, 3}\n",
    "for a in s:\n",
    "    print(a)"
   ]
  },
  {
   "cell_type": "code",
   "execution_count": 12,
   "metadata": {},
   "outputs": [
    {
     "ename": "TypeError",
     "evalue": "'set' object is not subscriptable",
     "output_type": "error",
     "traceback": [
      "\u001b[1;31m---------------------------------------------------------------------------\u001b[0m",
      "\u001b[1;31mTypeError\u001b[0m                                 Traceback (most recent call last)",
      "Cell \u001b[1;32mIn[12], line 1\u001b[0m\n\u001b[1;32m----> 1\u001b[0m \u001b[43ms\u001b[49m\u001b[43m[\u001b[49m\u001b[38;5;241;43m0\u001b[39;49m\u001b[43m]\u001b[49m\n",
      "\u001b[1;31mTypeError\u001b[0m: 'set' object is not subscriptable"
     ]
    }
   ],
   "source": [
    "s[0]"
   ]
  },
  {
   "cell_type": "markdown",
   "metadata": {},
   "source": [
    "# Dataset 과 DataLoader\n",
    "\n",
    "-   딥러닝 모델을 학습시키고 평가할때 제공할 데이터셋을 관리하기 위한 클래스.\n",
    "    -   `Dataset`은 데이터셋을 관리하고 `DataLoader`는 Model에 데이터를 제공하는 것을 관리한다.\n",
    "-   **torch.utils.data.Dataset**\n",
    "    -   원본 데이터셋(input/output dataset)의 위치를 가지고 있으면서 indexing으로 데이터를 **하나씩 제공**한다.\n",
    "        -   제공시 data augmentation등 원본데이터를 변환해서 제공 할 수 있다.\n",
    "    -   subscriptable, iterable 타입.\n",
    "        > **subscriptable타입**: indexing을 이용해 원소 조회가 가능한 타입  \n",
    "        > Dataset은 **slicing과 fancy indexing은 지원하지 않는다.** 즉 한번에 여러개 데이터조회를 지원하지 않는다.\n",
    "-   **torch.utils.data.DataLoader**\n",
    "    -   Dataset이 제공하는 데이터를 batch size 단위 묶어서 모델에 제공하기 위한 객체.\n",
    "        -   iterable 타입\n",
    "    -   Dataset이 가지고 있는 **데이터를 모델에 어떻게 제공**할 지 batch size, shuffle 여부 등을 설정한다.\n",
    "-   **Dataset과 DataLoader 관계**\n",
    "    -   **Dataset은** raw data를 하나씩 읽어서 제공하는 기능만 제공한다.\n",
    "        -   **데이터를 읽어오는 것이 목적**\n",
    "    -   **DataLoader는** Dataset에 데이터를 모델에 주입할 batch 크기 만큼 가져오는 역할을 한다.\n",
    "        -   **데이터를 model에 제공하는 것이 목적**\n"
   ]
  },
  {
   "cell_type": "markdown",
   "metadata": {},
   "source": [
    "# Built-in Dataset\n",
    "\n",
    "-   파이토치는 분야별 공개 데이터셋을 종류별로 torchvision, torchtext, torchaudio 모듈을 통해 제공한다.\n",
    "-   모든 built-in dataset은 [`torch.utils.data.Dataset`](https://pytorch.org/docs/stable/data.html#torch.utils.data.Dataset)의 하위클래스로 구현되있다.\n",
    "    -   [computer vision dataset](https://pytorch.org/vision/stable/datasets.html)\n",
    "    -   [audio dataset](https://pytorch.org/audio/stable/datasets.html)\n",
    "    -   [text dataset](https://pytorch.org/text/stable/datasets.html)\n"
   ]
  },
  {
   "cell_type": "markdown",
   "metadata": {},
   "source": [
    "## Image Built-in dataset Loading\n",
    "\n",
    "torchvision 모듈을 통해 다양한 오픈소스 이미지 데이터셋을 loading할 수 있는 Dataset 클래스를 제공한다.\n",
    "\n",
    "-   각 Dataset 클래스의 주요 매개변수 (클래스들 마다 약간의 차이가 있다.)\n",
    "    -   **root**: str\n",
    "        -   Raw data를 저장할 디렉토리 경로\n",
    "    -   **train**: bool\n",
    "        -   True일경우 Train set을 False일 경우 Test set을 load\n",
    "    -   **download**: bool\n",
    "        -   True이면 root에 지정된 경로에 raw 데이터를 인터셋에서 download할지 여부. 이미 저장되 있는 경우 download하지 않는다.\n",
    "    -   **transform**: function\n",
    "        -   Loading한 이미지를 변환하는 function.\n",
    "            -   Normalization이나 data Agumentation 처리를 한다.\n"
   ]
  },
  {
   "cell_type": "code",
   "execution_count": 13,
   "metadata": {},
   "outputs": [],
   "source": [
    "import torch\n",
    "from torchvision import datasets\n",
    "from torchvision import transforms\n",
    "from torch.utils.data import Dataset, DataLoader"
   ]
  },
  {
   "cell_type": "code",
   "execution_count": 15,
   "metadata": {
    "collapsed": true,
    "jupyter": {
     "outputs_hidden": true
    }
   },
   "outputs": [
    {
     "name": "stdout",
     "output_type": "stream",
     "text": [
      "Downloading http://yann.lecun.com/exdb/mnist/train-images-idx3-ubyte.gz\n",
      "Failed to download (trying next):\n",
      "<urlopen error [SSL: CERTIFICATE_VERIFY_FAILED] certificate verify failed: certificate has expired (_ssl.c:1000)>\n",
      "\n",
      "Downloading https://ossci-datasets.s3.amazonaws.com/mnist/train-images-idx3-ubyte.gz\n",
      "Downloading https://ossci-datasets.s3.amazonaws.com/mnist/train-images-idx3-ubyte.gz to datasets\\MNIST\\raw\\train-images-idx3-ubyte.gz\n"
     ]
    },
    {
     "name": "stderr",
     "output_type": "stream",
     "text": [
      "100.0%\n"
     ]
    },
    {
     "name": "stdout",
     "output_type": "stream",
     "text": [
      "Extracting datasets\\MNIST\\raw\\train-images-idx3-ubyte.gz to datasets\\MNIST\\raw\n",
      "\n",
      "Downloading http://yann.lecun.com/exdb/mnist/train-labels-idx1-ubyte.gz\n",
      "Failed to download (trying next):\n",
      "<urlopen error [SSL: CERTIFICATE_VERIFY_FAILED] certificate verify failed: certificate has expired (_ssl.c:1000)>\n",
      "\n",
      "Downloading https://ossci-datasets.s3.amazonaws.com/mnist/train-labels-idx1-ubyte.gz\n",
      "Downloading https://ossci-datasets.s3.amazonaws.com/mnist/train-labels-idx1-ubyte.gz to datasets\\MNIST\\raw\\train-labels-idx1-ubyte.gz\n"
     ]
    },
    {
     "name": "stderr",
     "output_type": "stream",
     "text": [
      "100.0%\n"
     ]
    },
    {
     "name": "stdout",
     "output_type": "stream",
     "text": [
      "Extracting datasets\\MNIST\\raw\\train-labels-idx1-ubyte.gz to datasets\\MNIST\\raw\n",
      "\n",
      "Downloading http://yann.lecun.com/exdb/mnist/t10k-images-idx3-ubyte.gz\n",
      "Failed to download (trying next):\n",
      "<urlopen error [SSL: CERTIFICATE_VERIFY_FAILED] certificate verify failed: certificate has expired (_ssl.c:1000)>\n",
      "\n",
      "Downloading https://ossci-datasets.s3.amazonaws.com/mnist/t10k-images-idx3-ubyte.gz\n",
      "Downloading https://ossci-datasets.s3.amazonaws.com/mnist/t10k-images-idx3-ubyte.gz to datasets\\MNIST\\raw\\t10k-images-idx3-ubyte.gz\n"
     ]
    },
    {
     "name": "stderr",
     "output_type": "stream",
     "text": [
      "100.0%\n"
     ]
    },
    {
     "name": "stdout",
     "output_type": "stream",
     "text": [
      "Extracting datasets\\MNIST\\raw\\t10k-images-idx3-ubyte.gz to datasets\\MNIST\\raw\n",
      "\n",
      "Downloading http://yann.lecun.com/exdb/mnist/t10k-labels-idx1-ubyte.gz\n",
      "Failed to download (trying next):\n",
      "<urlopen error [SSL: CERTIFICATE_VERIFY_FAILED] certificate verify failed: certificate has expired (_ssl.c:1000)>\n",
      "\n",
      "Downloading https://ossci-datasets.s3.amazonaws.com/mnist/t10k-labels-idx1-ubyte.gz\n",
      "Downloading https://ossci-datasets.s3.amazonaws.com/mnist/t10k-labels-idx1-ubyte.gz to datasets\\MNIST\\raw\\t10k-labels-idx1-ubyte.gz\n"
     ]
    },
    {
     "name": "stderr",
     "output_type": "stream",
     "text": [
      "100.0%"
     ]
    },
    {
     "name": "stdout",
     "output_type": "stream",
     "text": [
      "Extracting datasets\\MNIST\\raw\\t10k-labels-idx1-ubyte.gz to datasets\\MNIST\\raw\n",
      "\n"
     ]
    },
    {
     "name": "stderr",
     "output_type": "stream",
     "text": [
      "\n"
     ]
    }
   ],
   "source": [
    "mnist_data_dir = \"datasets\"\n",
    "mnist_trainset = datasets.MNIST(\n",
    "    root=mnist_data_dir, # raw data의 위치.\n",
    "    download=True,       # root에 없을 경우 다운받을지 여부\n",
    "    train=True,          # True: train set, False: test set\n",
    ")"
   ]
  },
  {
   "cell_type": "code",
   "execution_count": 16,
   "metadata": {},
   "outputs": [
    {
     "name": "stdout",
     "output_type": "stream",
     "text": [
      "<class 'torchvision.datasets.mnist.MNIST'>\n"
     ]
    }
   ],
   "source": [
    "print(type(mnist_trainset))"
   ]
  },
  {
   "cell_type": "code",
   "execution_count": 17,
   "metadata": {},
   "outputs": [
    {
     "data": {
      "text/plain": [
       "True"
      ]
     },
     "execution_count": 17,
     "metadata": {},
     "output_type": "execute_result"
    }
   ],
   "source": [
    "isinstance(mnist_trainset, Dataset)"
   ]
  },
  {
   "cell_type": "code",
   "execution_count": 18,
   "metadata": {},
   "outputs": [
    {
     "data": {
      "text/plain": [
       "Dataset MNIST\n",
       "    Number of datapoints: 60000\n",
       "    Root location: datasets\n",
       "    Split: Train"
      ]
     },
     "execution_count": 18,
     "metadata": {},
     "output_type": "execute_result"
    }
   ],
   "source": [
    "mnist_trainset"
   ]
  },
  {
   "cell_type": "code",
   "execution_count": 19,
   "metadata": {},
   "outputs": [
    {
     "data": {
      "text/plain": [
       "60000"
      ]
     },
     "execution_count": 19,
     "metadata": {},
     "output_type": "execute_result"
    }
   ],
   "source": [
    "# Dataset의 총 데이터개수를 조회 - len()\n",
    "len(mnist_trainset)"
   ]
  },
  {
   "cell_type": "code",
   "execution_count": 20,
   "metadata": {},
   "outputs": [
    {
     "data": {
      "text/plain": [
       "(<PIL.Image.Image image mode=L size=28x28>, 5)"
      ]
     },
     "execution_count": 20,
     "metadata": {},
     "output_type": "execute_result"
    }
   ],
   "source": [
    "# 개별 데이터를 조회 -> indexing\n",
    "mnist_trainset[0]  # tuple( X,  y)"
   ]
  },
  {
   "cell_type": "code",
   "execution_count": 21,
   "metadata": {},
   "outputs": [
    {
     "data": {
      "image/jpeg": "[encoded data removed]",
      "image/png": "[encoded data removed]",
      "text/plain": [
       "<PIL.Image.Image image mode=L size=28x28>"
      ]
     },
     "execution_count": 21,
     "metadata": {},
     "output_type": "execute_result"
    }
   ],
   "source": [
    "d = mnist_trainset[0]\n",
    "d[0]"
   ]
  },
  {
   "cell_type": "code",
   "execution_count": 22,
   "metadata": {},
   "outputs": [
    {
     "data": {
      "text/plain": [
       "5"
      ]
     },
     "execution_count": 22,
     "metadata": {},
     "output_type": "execute_result"
    }
   ],
   "source": [
    "d[1]"
   ]
  },
  {
   "cell_type": "code",
   "execution_count": 23,
   "metadata": {},
   "outputs": [],
   "source": [
    "mnist_trainset2 = datasets.MNIST(\n",
    "    root=mnist_data_dir, \n",
    "    download=True,       \n",
    "    train=True,\n",
    "    transform=transforms.ToTensor()  # 전처리 함수/객체(__call__())를 설정.\n",
    ")"
   ]
  },
  {
   "cell_type": "code",
   "execution_count": 25,
   "metadata": {},
   "outputs": [
    {
     "data": {
      "text/plain": [
       "5"
      ]
     },
     "execution_count": 25,
     "metadata": {},
     "output_type": "execute_result"
    }
   ],
   "source": [
    "d2 = mnist_trainset2[0]\n",
    "d2[1]"
   ]
  },
  {
   "cell_type": "code",
   "execution_count": 29,
   "metadata": {},
   "outputs": [
    {
     "name": "stdout",
     "output_type": "stream",
     "text": [
      "torch.FloatTensor\n",
      "tensor(0.) tensor(1.)\n",
      "torch.Size([1, 28, 28])\n"
     ]
    }
   ],
   "source": [
    "# ToTensor()의 전처리 작업.\n",
    "print(d2[0].type())  # PIL.Image, np.ndarray -> pytorch Tensor 로 변환\n",
    "print(d2[0].min(), d2[0].max()) # 0 ~ 1 사이로 scaling. (MinMaxScaling)\n",
    "print(d2[0].shape) # channel first 로 shape을 변경. (channel, height, width)"
   ]
  },
  {
   "cell_type": "code",
   "execution_count": 31,
   "metadata": {},
   "outputs": [
    {
     "data": {
      "text/plain": [
       "5"
      ]
     },
     "execution_count": 31,
     "metadata": {},
     "output_type": "execute_result"
    }
   ],
   "source": [
    "d2[1]"
   ]
  },
  {
   "cell_type": "code",
   "execution_count": 30,
   "metadata": {},
   "outputs": [
    {
     "data": {
      "text/plain": [
       "{'0 - zero': 0,\n",
       " '1 - one': 1,\n",
       " '2 - two': 2,\n",
       " '3 - three': 3,\n",
       " '4 - four': 4,\n",
       " '5 - five': 5,\n",
       " '6 - six': 6,\n",
       " '7 - seven': 7,\n",
       " '8 - eight': 8,\n",
       " '9 - nine': 9}"
      ]
     },
     "execution_count": 30,
     "metadata": {},
     "output_type": "execute_result"
    }
   ],
   "source": [
    "mnist_trainset.class_to_idx\n",
    "# dict: key-class name, value: class"
   ]
  },
  {
   "cell_type": "code",
   "execution_count": 32,
   "metadata": {},
   "outputs": [
    {
     "data": {
      "text/plain": [
       "['0 - zero',\n",
       " '1 - one',\n",
       " '2 - two',\n",
       " '3 - three',\n",
       " '4 - four',\n",
       " '5 - five',\n",
       " '6 - six',\n",
       " '7 - seven',\n",
       " '8 - eight',\n",
       " '9 - nine']"
      ]
     },
     "execution_count": 32,
     "metadata": {},
     "output_type": "execute_result"
    }
   ],
   "source": [
    "mnist_trainset.classes # list: index-class, value-class name"
   ]
  },
  {
   "cell_type": "code",
   "execution_count": 33,
   "metadata": {},
   "outputs": [
    {
     "data": {
      "text/plain": [
       "'3 - three'"
      ]
     },
     "execution_count": 33,
     "metadata": {},
     "output_type": "execute_result"
    }
   ],
   "source": [
    "pred_class = 3 # 모델 예측 결과.\n",
    "mnist_trainset.classes[pred_class]"
   ]
  },
  {
   "cell_type": "code",
   "execution_count": null,
   "metadata": {},
   "outputs": [],
   "source": []
  },
  {
   "cell_type": "markdown",
   "metadata": {},
   "source": [
    "### TODO: CIFAR10 Dataset loading\n",
    "\n",
    "-   CIFAR10 Built-in dataset 을 LOADING 후 다음을 확인하시오.\n",
    "    1. Dataset loading\n",
    "    1. train dataset, test dataset의 데이터 개수 확인\n",
    "    1. class index - class name 확인\n",
    "    1. train set의 이미지 5장을 출력. label의 이름을 title로 출력.\n"
   ]
  },
  {
   "cell_type": "code",
   "execution_count": 36,
   "metadata": {},
   "outputs": [
    {
     "name": "stdout",
     "output_type": "stream",
     "text": [
      "Downloading https://www.cs.toronto.edu/~kriz/cifar-10-python.tar.gz to datasets\\cifar-10-python.tar.gz\n"
     ]
    },
    {
     "name": "stderr",
     "output_type": "stream",
     "text": [
      "100.0%\n"
     ]
    },
    {
     "name": "stdout",
     "output_type": "stream",
     "text": [
      "Extracting datasets\\cifar-10-python.tar.gz to datasets\n",
      "Files already downloaded and verified\n"
     ]
    }
   ],
   "source": [
    "trainset = datasets.CIFAR10(root=\"datasets\", train=True, download=True)\n",
    "testset = datasets.CIFAR10(root=\"datasets\", train=False, download=True)"
   ]
  },
  {
   "cell_type": "code",
   "execution_count": 37,
   "metadata": {},
   "outputs": [
    {
     "data": {
      "text/plain": [
       "(50000, 10000)"
      ]
     },
     "execution_count": 37,
     "metadata": {},
     "output_type": "execute_result"
    }
   ],
   "source": [
    "# Data개수  확인\n",
    "len(trainset), len(testset)"
   ]
  },
  {
   "cell_type": "code",
   "execution_count": 42,
   "metadata": {},
   "outputs": [
    {
     "data": {
      "text/plain": [
       "'frog'"
      ]
     },
     "execution_count": 42,
     "metadata": {},
     "output_type": "execute_result"
    }
   ],
   "source": [
    "trainset.classes"
   ]
  },
  {
   "cell_type": "code",
   "execution_count": 39,
   "metadata": {
    "collapsed": true,
    "jupyter": {
     "outputs_hidden": true
    }
   },
   "outputs": [
    {
     "data": {
      "text/plain": [
       "{'airplane': 0,\n",
       " 'automobile': 1,\n",
       " 'bird': 2,\n",
       " 'cat': 3,\n",
       " 'deer': 4,\n",
       " 'dog': 5,\n",
       " 'frog': 6,\n",
       " 'horse': 7,\n",
       " 'ship': 8,\n",
       " 'truck': 9}"
      ]
     },
     "execution_count": 39,
     "metadata": {},
     "output_type": "execute_result"
    }
   ],
   "source": [
    "trainset.class_to_idx"
   ]
  },
  {
   "cell_type": "code",
   "execution_count": 44,
   "metadata": {},
   "outputs": [
    {
     "data": {
      "text/plain": [
       "(<PIL.Image.Image image mode=RGB size=32x32>, 6)"
      ]
     },
     "execution_count": 44,
     "metadata": {},
     "output_type": "execute_result"
    }
   ],
   "source": [
    "trainset[0]"
   ]
  },
  {
   "cell_type": "code",
   "execution_count": 51,
   "metadata": {},
   "outputs": [
    {
     "data": {
      "image/png": "[encoded data removed]",
      "text/plain": [
       "<Figure size 1000x600 with 15 Axes>"
      ]
     },
     "metadata": {},
     "output_type": "display_data"
    }
   ],
   "source": [
    "# matplotlib\n",
    "import random\n",
    "import matplotlib.pyplot as plt\n",
    "\n",
    "plt.figure(figsize=(10, 6))\n",
    "for i in range(15):\n",
    "    idx = random.randint(0, len(trainset)) # 0 ~ 50000 사이의 정수를 랜덤하게 반환.\n",
    "    img, label = trainset[idx] # (X, y)\n",
    "    plt.subplot(3, 5, i+1)\n",
    "    plt.imshow(img)  # PIL.Image, ndarray, torch.Tensor\n",
    "    plt.title(f\"{label}-{trainset.classes[label]}\")\n",
    "    plt.axis(\"off\")\n",
    "    \n",
    "plt.tight_layout()\n",
    "plt.show()"
   ]
  },
  {
   "cell_type": "code",
   "execution_count": 48,
   "metadata": {},
   "outputs": [
    {
     "data": {
      "text/plain": [
       "'dog'"
      ]
     },
     "execution_count": 48,
     "metadata": {},
     "output_type": "execute_result"
    }
   ],
   "source": [
    "trainset.classes[5]"
   ]
  },
  {
   "cell_type": "code",
   "execution_count": 53,
   "metadata": {},
   "outputs": [
    {
     "data": {
      "image/jpeg": "[encoded data removed]",
      "image/png": "[encoded data removed]",
      "text/plain": [
       "<PIL.Image.Image image mode=RGB size=32x32>"
      ]
     },
     "execution_count": 53,
     "metadata": {},
     "output_type": "execute_result"
    }
   ],
   "source": [
    "trainset[0][0]"
   ]
  },
  {
   "cell_type": "code",
   "execution_count": 60,
   "metadata": {},
   "outputs": [
    {
     "name": "stdout",
     "output_type": "stream",
     "text": [
      "6\n"
     ]
    },
    {
     "data": {
      "image/jpeg": "[encoded data removed]",
      "image/png": "[encoded data removed]",
      "text/plain": [
       "<PIL.Image.Image image mode=RGB size=32x32>"
      ]
     },
     "metadata": {},
     "output_type": "display_data"
    },
    {
     "name": "stdout",
     "output_type": "stream",
     "text": [
      "9\n"
     ]
    },
    {
     "data": {
      "image/jpeg": "[encoded data removed]",
      "image/png": "[encoded data removed]",
      "text/plain": [
       "<PIL.Image.Image image mode=RGB size=32x32>"
      ]
     },
     "metadata": {},
     "output_type": "display_data"
    },
    {
     "name": "stdout",
     "output_type": "stream",
     "text": [
      "9\n"
     ]
    },
    {
     "data": {
      "image/jpeg": "[encoded data removed]",
      "image/png": "[encoded data removed]",
      "text/plain": [
       "<PIL.Image.Image image mode=RGB size=32x32>"
      ]
     },
     "metadata": {},
     "output_type": "display_data"
    },
    {
     "name": "stdout",
     "output_type": "stream",
     "text": [
      "4\n"
     ]
    },
    {
     "data": {
      "image/jpeg": "[encoded data removed]",
      "image/png": "[encoded data removed]",
      "text/plain": [
       "<PIL.Image.Image image mode=RGB size=32x32>"
      ]
     },
     "metadata": {},
     "output_type": "display_data"
    },
    {
     "name": "stdout",
     "output_type": "stream",
     "text": [
      "1\n"
     ]
    },
    {
     "data": {
      "image/jpeg": "[encoded data removed]",
      "image/png": "[encoded data removed]",
      "text/plain": [
       "<PIL.Image.Image image mode=RGB size=32x32>"
      ]
     },
     "metadata": {},
     "output_type": "display_data"
    }
   ],
   "source": [
    "from IPython.display import display\n",
    "\n",
    "for i in range(5):\n",
    "    print(trainset[i][1])\n",
    "    display(trainset[i][0])"
   ]
  },
  {
   "cell_type": "code",
   "execution_count": null,
   "metadata": {},
   "outputs": [],
   "source": []
  },
  {
   "cell_type": "code",
   "execution_count": null,
   "metadata": {},
   "outputs": [],
   "source": []
  },
  {
   "cell_type": "markdown",
   "metadata": {},
   "source": [
    "### transform 매개변수를 이용한 데이터전처리\n",
    "\n",
    "-   Dataset 생성할 때 전달하는 함수로 원본 영상 데이터를 모델에 주입(feeding)하기 전 **전처리 과정을 정의한다.**\n",
    "    -   Data Pipeline을 구성하는 함수\n",
    "-   매개변수로 input data 한개를 입력받아 처리한 결과를 반환하도록 구현한다.\n"
   ]
  },
  {
   "cell_type": "markdown",
   "metadata": {
    "ExecuteTime": {
     "end_time": "2023-05-24T10:48:13.851346Z",
     "start_time": "2023-05-24T10:48:13.831036Z"
    }
   },
   "source": [
    "### torchvision.transforms.ToTensor\n",
    "\n",
    "-   PIL Image나 NumPy ndarray 를 FloatTensor(float32) 로 변환하고, 이미지의 픽셀의 크기(intensity) 값을 \\[0., 1.\\] 범위로 비례하여 조정한다.\n",
    "-   Image 의 shape을 (channel, height, width) 로 변경한다.\n",
    "-   https://pytorch.org/vision/stable/transforms.html\n"
   ]
  },
  {
   "cell_type": "code",
   "execution_count": 67,
   "metadata": {},
   "outputs": [
    {
     "name": "stdout",
     "output_type": "stream",
     "text": [
      "<class 'PIL.Image.Image'>\n"
     ]
    },
    {
     "data": {
      "text/plain": [
       "(torch.Size([3, 32, 32]), tensor(0.), tensor(1.), 'torch.FloatTensor')"
      ]
     },
     "execution_count": 67,
     "metadata": {},
     "output_type": "execute_result"
    }
   ],
   "source": [
    "tt = transforms.ToTensor()\n",
    "print(type(trainset[0][0]))\n",
    "return_data = tt(trainset[0][0])\n",
    "return_data\n",
    "return_data.shape, return_data.min(), return_data.max(), return_data.type()"
   ]
  },
  {
   "cell_type": "markdown",
   "metadata": {},
   "source": [
    "### transform.Normalize\n",
    "\n",
    "-   채널별로 지정한 평균을 뺀 뒤 지정한 표준편차로 나누어서 정규화를 진행한다.\n",
    "-   ToTensor()로 변환된 데이터를 받아서 추가 변환\n",
    "    -   여려 변환 순서대로 한번에 할 경우 `torchvision.transforms.Compose` 클래스를 이용해서 묶어준다.\n"
   ]
  },
  {
   "cell_type": "code",
   "execution_count": 69,
   "metadata": {
    "collapsed": true,
    "jupyter": {
     "outputs_hidden": true
    }
   },
   "outputs": [
    {
     "data": {
      "text/plain": [
       "tensor([[[-4.8843, -4.9157, -4.9020,  ..., -4.6902, -4.7020, -4.7098],\n",
       "         [-4.9686, -5.0000, -4.9647,  ..., -4.7588, -4.7667, -4.7608],\n",
       "         [-4.9510, -4.9686, -4.9039,  ..., -4.7686, -4.7647, -4.7863],\n",
       "         ...,\n",
       "         [-4.5922, -4.6059, -4.6118,  ..., -4.6863, -4.8902, -4.8961],\n",
       "         [-4.6471, -4.6608, -4.6353,  ..., -4.6392, -4.8098, -4.8373],\n",
       "         [-4.6529, -4.6706, -4.6490,  ..., -4.5765, -4.7039, -4.7588]],\n",
       "\n",
       "        [[-4.8784, -4.9098, -4.9059,  ..., -4.7412, -4.7549, -4.7569],\n",
       "         [-4.9608, -5.0000, -4.9843,  ..., -4.8275, -4.8373, -4.8294],\n",
       "         [-4.9529, -4.9863, -4.9471,  ..., -4.8353, -4.8353, -4.8569],\n",
       "         ...,\n",
       "         [-4.6667, -4.7000, -4.6843,  ..., -4.7392, -4.9392, -4.9333],\n",
       "         [-4.7275, -4.7588, -4.7176,  ..., -4.7098, -4.8784, -4.8961],\n",
       "         [-4.7176, -4.7471, -4.7216,  ..., -4.6392, -4.7686, -4.8196]],\n",
       "\n",
       "        [[-4.8765, -4.9118, -4.9157,  ..., -4.7882, -4.8000, -4.7980],\n",
       "         [-4.9608, -5.0000, -5.0000,  ..., -4.8922, -4.9020, -4.8882],\n",
       "         [-4.9588, -5.0000, -4.9843,  ..., -4.9020, -4.9020, -4.9176],\n",
       "         ...,\n",
       "         [-4.8118, -4.9333, -4.9490,  ..., -4.8627, -4.9863, -4.9608],\n",
       "         [-4.8118, -4.9176, -4.9412,  ..., -4.8157, -4.9333, -4.9333],\n",
       "         [-4.7725, -4.8157, -4.8294,  ..., -4.7255, -4.8353, -4.8588]]])"
      ]
     },
     "execution_count": 69,
     "metadata": {},
     "output_type": "execute_result"
    }
   ],
   "source": [
    "nt = transforms.Normalize(mean=10, std=2)  # (X-mean)/std\n",
    "ret_data2 = nt(return_data)\n",
    "ret_data2"
   ]
  },
  {
   "cell_type": "code",
   "execution_count": 70,
   "metadata": {},
   "outputs": [
    {
     "data": {
      "text/plain": [
       "torch.Size([3, 32, 32])"
      ]
     },
     "execution_count": 70,
     "metadata": {},
     "output_type": "execute_result"
    }
   ],
   "source": [
    "return_data.shape"
   ]
  },
  {
   "cell_type": "code",
   "execution_count": null,
   "metadata": {},
   "outputs": [],
   "source": [
    "# channel별로 지정한 mean과 std로 normalize 처리.\n",
    "nt2 = transforms.Normalize(mean=[0.485, 0.456, 0.406], std=[0.229, 0.224, 0.225])"
   ]
  },
  {
   "cell_type": "code",
   "execution_count": 73,
   "metadata": {},
   "outputs": [
    {
     "data": {
      "text/plain": [
       "(tensor(-1.), tensor(1.))"
      ]
     },
     "execution_count": 73,
     "metadata": {},
     "output_type": "execute_result"
    }
   ],
   "source": [
    "# 여러개 transform 함수들을 사용할 경우 Compose()를 이용해 묶어준다.\n",
    "# 지정한 순서대로 데이터를 처리한다.\n",
    "transform = transforms.Compose([\n",
    "    transforms.ToTensor(), \n",
    "    transforms.Normalize(mean=0.5, std=0.5)\n",
    "])\n",
    "\n",
    "ds = datasets.MNIST(root=\"datasets\", download=True, train=True, transform=transform)\n",
    "d = ds[0][0]\n",
    "d.min(), d.max()"
   ]
  },
  {
   "cell_type": "code",
   "execution_count": null,
   "metadata": {},
   "outputs": [],
   "source": []
  },
  {
   "cell_type": "markdown",
   "metadata": {},
   "source": [
    "## DataLoader 생성\n",
    "\n",
    "-   DataLoader\n",
    "    -   모델이 학습하거나 추론할 때 Dataset의 데이터를 모델에 제공해준다. (feeding)\n",
    "    -   initalizer속성\n",
    "        -   dataset: 값을 제공하는 Dataset 타입 객체\n",
    "        -   batch_size: 한번에 값을 제공할 batch 크기\n",
    "        -   shuffle: 에폭마다 데이터셋을 섞을 지 여부 (default: False)\n",
    "        -   drop_last: 마지막 배치의 데이터개수가 batch_size 설정보다 적을 경우 모델에 제공하지 않는다.\n"
   ]
  },
  {
   "cell_type": "code",
   "execution_count": 88,
   "metadata": {},
   "outputs": [],
   "source": [
    "from torch.utils.data import DataLoader\n",
    "\n",
    "mnist_train_loader = DataLoader(mnist_trainset2, batch_size=1000, shuffle=True, drop_last=True)\n",
    "# mnist_test_loader = DataLoader(mnist_testset, batch_size=1000)"
   ]
  },
  {
   "cell_type": "code",
   "execution_count": 89,
   "metadata": {},
   "outputs": [
    {
     "data": {
      "text/plain": [
       "60"
      ]
     },
     "execution_count": 89,
     "metadata": {},
     "output_type": "execute_result"
    }
   ],
   "source": [
    "# step 수\n",
    "len(mnist_train_loader)"
   ]
  },
  {
   "cell_type": "code",
   "execution_count": 90,
   "metadata": {},
   "outputs": [
    {
     "data": {
      "text/plain": [
       "Dataset MNIST\n",
       "    Number of datapoints: 60000\n",
       "    Root location: datasets\n",
       "    Split: Train\n",
       "    StandardTransform\n",
       "Transform: ToTensor()"
      ]
     },
     "execution_count": 90,
     "metadata": {},
     "output_type": "execute_result"
    }
   ],
   "source": [
    "# DataLoader에서 Dataset을 조회\n",
    "ds = mnist_train_loader.dataset\n",
    "ds"
   ]
  },
  {
   "cell_type": "code",
   "execution_count": 92,
   "metadata": {},
   "outputs": [],
   "source": [
    "# for i in mnist_train_loader:\n",
    "#     print(i)"
   ]
  },
  {
   "cell_type": "code",
   "execution_count": 94,
   "metadata": {},
   "outputs": [],
   "source": [
    "# mnist_train_loader[0]"
   ]
  },
  {
   "cell_type": "code",
   "execution_count": 97,
   "metadata": {},
   "outputs": [
    {
     "name": "stdout",
     "output_type": "stream",
     "text": [
      "<class 'list'> 2\n"
     ]
    }
   ],
   "source": [
    "# 한개 배치를 조회.\n",
    "result = next(iter(mnist_train_loader))  # [X_batch, y_batch]\n",
    "print(type(result), len(result))"
   ]
  },
  {
   "cell_type": "code",
   "execution_count": 98,
   "metadata": {},
   "outputs": [],
   "source": [
    "X_train, y_train = next(iter(mnist_train_loader)) "
   ]
  },
  {
   "cell_type": "code",
   "execution_count": 101,
   "metadata": {},
   "outputs": [
    {
     "data": {
      "text/plain": [
       "(torch.Size([1000, 1, 28, 28]), torch.Size([1000]))"
      ]
     },
     "execution_count": 101,
     "metadata": {},
     "output_type": "execute_result"
    }
   ],
   "source": [
    "X_train.shape, y_train.shape"
   ]
  },
  {
   "cell_type": "markdown",
   "metadata": {},
   "source": [
    "# Custom Dataset 구현\n",
    "\n",
    "1. `torch.utils.data.Dataset` 클래스를 상속한 클래스를 정의한다.\n",
    "2. `__init__(self, ...)`\n",
    "    - DataSet객체 생성시 필요한 설정들을 초기화 한다.\n",
    "    - ex) Data저장 경로, transform 설정 여부 등\n",
    "3. `__len__(self)`\n",
    "    - 총 데이터 수를 반환하도록 구현한다.\n",
    "    - DataLoader가 Batch 생성할 때 사용한다.\n",
    "4. `__getitem__(self, index)`\n",
    "    - index의 Data point를 반환한다.\n",
    "    - input(X), output(y) 를 튜플로 반환한다.\n",
    "    - transform이 있을 경우 변환처리한 input을 반환한다.\n"
   ]
  },
  {
   "cell_type": "code",
   "execution_count": 104,
   "metadata": {},
   "outputs": [],
   "source": [
    "# subscriptable 타입 객체\n",
    "class MySub:\n",
    "\n",
    "    def __init__(self):\n",
    "        # 제공할 데이터들을 초기화.\n",
    "        self.zero = \"호랑이\"\n",
    "        self.one = \"사자\"\n",
    "        self.two = \"개\"\n",
    "        self.three = \"고양이\"\n",
    "\n",
    "    def __len__(self):\n",
    "        # 제공할 데이터의 개수를 반환. -> len(객체) 이때 호출.\n",
    "        return 4\n",
    "\n",
    "    def __getitem__(self, idx):\n",
    "        # idx 번째 데이터를 반환 -> 객체[idx] ==> 객체.__getitem__(idx)\n",
    "        if idx == 0:\n",
    "            return self.zero\n",
    "        elif idx == 1:\n",
    "            return self.one\n",
    "        elif idx == 2:\n",
    "            return self.two\n",
    "        elif idx == 3:\n",
    "            return self.three\n",
    "        else:\n",
    "            raise IndexError(f\"{idx}는 없는 index입니다.\")"
   ]
  },
  {
   "cell_type": "code",
   "execution_count": 105,
   "metadata": {},
   "outputs": [
    {
     "name": "stdout",
     "output_type": "stream",
     "text": [
      "4\n"
     ]
    }
   ],
   "source": [
    "ms = MySub()\n",
    "print(len(ms))"
   ]
  },
  {
   "cell_type": "code",
   "execution_count": 109,
   "metadata": {
    "collapsed": true,
    "jupyter": {
     "outputs_hidden": true
    }
   },
   "outputs": [
    {
     "ename": "IndexError",
     "evalue": "7는 없는 index입니다.",
     "output_type": "error",
     "traceback": [
      "\u001b[1;31m---------------------------------------------------------------------------\u001b[0m",
      "\u001b[1;31mIndexError\u001b[0m                                Traceback (most recent call last)",
      "Cell \u001b[1;32mIn[109], line 1\u001b[0m\n\u001b[1;32m----> 1\u001b[0m \u001b[43mms\u001b[49m\u001b[43m[\u001b[49m\u001b[38;5;241;43m7\u001b[39;49m\u001b[43m]\u001b[49m\n",
      "Cell \u001b[1;32mIn[104], line 26\u001b[0m, in \u001b[0;36mMySub.__getitem__\u001b[1;34m(self, idx)\u001b[0m\n\u001b[0;32m     24\u001b[0m     \u001b[38;5;28;01mreturn\u001b[39;00m \u001b[38;5;28mself\u001b[39m\u001b[38;5;241m.\u001b[39mthree\n\u001b[0;32m     25\u001b[0m \u001b[38;5;28;01melse\u001b[39;00m:\n\u001b[1;32m---> 26\u001b[0m     \u001b[38;5;28;01mraise\u001b[39;00m \u001b[38;5;167;01mIndexError\u001b[39;00m(\u001b[38;5;124mf\u001b[39m\u001b[38;5;124m\"\u001b[39m\u001b[38;5;132;01m{\u001b[39;00midx\u001b[38;5;132;01m}\u001b[39;00m\u001b[38;5;124m는 없는 index입니다.\u001b[39m\u001b[38;5;124m\"\u001b[39m)\n",
      "\u001b[1;31mIndexError\u001b[0m: 7는 없는 index입니다."
     ]
    }
   ],
   "source": [
    "ms[7]"
   ]
  },
  {
   "cell_type": "code",
   "execution_count": 112,
   "metadata": {
    "collapsed": true,
    "jupyter": {
     "outputs_hidden": true
    }
   },
   "outputs": [
    {
     "ename": "IndexError",
     "evalue": "list index out of range",
     "output_type": "error",
     "traceback": [
      "\u001b[1;31m---------------------------------------------------------------------------\u001b[0m",
      "\u001b[1;31mIndexError\u001b[0m                                Traceback (most recent call last)",
      "Cell \u001b[1;32mIn[112], line 3\u001b[0m\n\u001b[0;32m      1\u001b[0m l \u001b[38;5;241m=\u001b[39m [\u001b[38;5;241m1\u001b[39m, \u001b[38;5;241m2\u001b[39m, \u001b[38;5;241m3\u001b[39m]\n\u001b[0;32m      2\u001b[0m \u001b[38;5;28mlen\u001b[39m(l)\n\u001b[1;32m----> 3\u001b[0m \u001b[43ml\u001b[49m\u001b[43m[\u001b[49m\u001b[38;5;241;43m7\u001b[39;49m\u001b[43m]\u001b[49m\n",
      "\u001b[1;31mIndexError\u001b[0m: list index out of range"
     ]
    }
   ],
   "source": [
    "l = [1, 2, 3]\n",
    "len(l)\n",
    "l[7]"
   ]
  },
  {
   "cell_type": "code",
   "execution_count": 113,
   "metadata": {},
   "outputs": [
    {
     "name": "stdout",
     "output_type": "stream",
     "text": [
      "호랑이\n",
      "사자\n",
      "개\n",
      "고양이\n"
     ]
    }
   ],
   "source": [
    "for i in ms:\n",
    "    print(i)"
   ]
  },
  {
   "cell_type": "markdown",
   "metadata": {},
   "source": [
    "## OxfordPet Dataset 생성\n",
    "\n",
    "-   https://www.robots.ox.ac.uk/~vgg/data/pets/\n",
    "-   개,고양이 37가지 품종\n",
    "-   품종별로 200장 정도씩 구성됨. (품종별로 이미지 개수는 다르다)\n",
    "-   목표\n",
    "    -   train: 70%, validation: 20%, test: 10%\n"
   ]
  },
  {
   "cell_type": "code",
   "execution_count": 114,
   "metadata": {},
   "outputs": [],
   "source": [
    "import os\n",
    "import re\n",
    "from glob import glob\n",
    "import tarfile # tar 압축파일 다루는 모듈.\n",
    "from PIL import Image\n",
    "\n",
    "import torch\n",
    "from torch.utils.data import Dataset, DataLoader\n",
    "from torchvision import transforms"
   ]
  },
  {
   "cell_type": "code",
   "execution_count": 115,
   "metadata": {},
   "outputs": [],
   "source": [
    "tar_file_path = 'datasets/images.tar.gz'  #압축파일 경로\n",
    "dataset_path = \"datasets/oxfordpet\" # 압축을 풀 경로\n",
    "pet_dataset_path = \"datasets/oxfordpet/images\" # 압축 풀린 이미지가 저장될 경로."
   ]
  },
  {
   "cell_type": "code",
   "execution_count": 116,
   "metadata": {},
   "outputs": [
    {
     "name": "stderr",
     "output_type": "stream",
     "text": [
      "C:\\Users\\Playdata\\AppData\\Local\\Temp\\ipykernel_4752\\3243547746.py:3: DeprecationWarning: Python 3.14 will, by default, filter extracted tar archives and reject files or modify their metadata. Use the filter argument to control this behavior.\n",
      "  tar.extractall(dataset_path)  # 압축풀 경로를 넣어서 풀기.\n"
     ]
    }
   ],
   "source": [
    "# 압축풀기\n",
    "with tarfile.open(tar_file_path) as tar: # 압축파일과 연결(open)\n",
    "    tar.extractall(dataset_path)  # 압축풀 경로를 넣어서 풀기. "
   ]
  },
  {
   "cell_type": "code",
   "execution_count": 118,
   "metadata": {},
   "outputs": [
    {
     "data": {
      "text/plain": [
       "(['datasets/oxfordpet/images\\\\Abyssinian_1.jpg',\n",
       "  'datasets/oxfordpet/images\\\\Abyssinian_10.jpg',\n",
       "  'datasets/oxfordpet/images\\\\Abyssinian_100.jpg',\n",
       "  'datasets/oxfordpet/images\\\\Abyssinian_101.jpg',\n",
       "  'datasets/oxfordpet/images\\\\Abyssinian_102.jpg'],\n",
       " 7390)"
      ]
     },
     "execution_count": 118,
     "metadata": {},
     "output_type": "execute_result"
    }
   ],
   "source": [
    "# 이미지 파일들의 경로 조회\n",
    "file_list = glob(pet_dataset_path+\"/*.jpg\")\n",
    "file_list[:5], len(file_list)"
   ]
  },
  {
   "cell_type": "code",
   "execution_count": 122,
   "metadata": {},
   "outputs": [
    {
     "name": "stdout",
     "output_type": "stream",
     "text": [
      "파일경로에서 디렉토리경로만 조회:  datasets/oxfordpet/images\n",
      "파일경로에서 파일명만 조회:  Abyssinian_1.jpg\n",
      "파일명에서 파일명과 확장자를 분리  ('datasets/oxfordpet/images\\\\Abyssinian_1', '.jpg')\n"
     ]
    }
   ],
   "source": [
    "# 파일명구성: className_번호.jpg\n",
    "#             대문자로시작: 고양이, 소문자로시작: 개\n",
    "## 파일경로에서 label(class)를 추출\n",
    "f = file_list[0]\n",
    "print(\"파일경로에서 디렉토리경로만 조회: \", os.path.dirname(f))\n",
    "print(\"파일경로에서 파일명만 조회: \", os.path.basename(f))\n",
    "print(\"파일명에서 파일명과 확장자를 분리 \", os.path.splitext(f)) # 확장자와 나머지를 분리."
   ]
  },
  {
   "cell_type": "code",
   "execution_count": 123,
   "metadata": {},
   "outputs": [
    {
     "data": {
      "text/plain": [
       "('abcde', '.txt')"
      ]
     },
     "execution_count": 123,
     "metadata": {},
     "output_type": "execute_result"
    }
   ],
   "source": [
    "os.path.splitext(\"abcde.txt\")"
   ]
  },
  {
   "cell_type": "code",
   "execution_count": 126,
   "metadata": {},
   "outputs": [],
   "source": [
    "img = Image.open(r\"datasets/oxfordpet/images\\Abyssinian_1.jpg\")\n",
    "img.close()"
   ]
  },
  {
   "cell_type": "code",
   "execution_count": 127,
   "metadata": {
    "collapsed": true,
    "jupyter": {
     "outputs_hidden": true
    },
    "scrolled": true
   },
   "outputs": [
    {
     "name": "stdout",
     "output_type": "stream",
     "text": [
      "삭제한 파일명: Abyssinian_34.jpg\n",
      "삭제한 파일명: Abyssinian_5.jpg\n",
      "삭제한 파일명: Egyptian_Mau_129.jpg\n",
      "삭제한 파일명: Egyptian_Mau_139.jpg\n",
      "삭제한 파일명: Egyptian_Mau_14.jpg\n",
      "삭제한 파일명: Egyptian_Mau_145.jpg\n",
      "삭제한 파일명: Egyptian_Mau_167.jpg\n",
      "삭제한 파일명: Egyptian_Mau_177.jpg\n",
      "삭제한 파일명: Egyptian_Mau_186.jpg\n",
      "삭제한 파일명: Egyptian_Mau_191.jpg\n",
      "삭제한 파일명: staffordshire_bull_terrier_2.jpg\n",
      "삭제한 파일명: staffordshire_bull_terrier_22.jpg\n"
     ]
    }
   ],
   "source": [
    "## jpg color(RGB) 이미지만 남기고 삭제\n",
    "remove_cnt = 0 # 몇장 지웠는지 확인용.\n",
    "for file in file_list:\n",
    "    # 이미지 연결(open)\n",
    "    with Image.open(file) as img:\n",
    "        img_mode = img.mode  # \"RGB\": rgb color, 'L': gray scale\n",
    "    if img_mode != \"RGB\":\n",
    "        #RGB 아닌 파일은 삭제\n",
    "        os.remove(file)\n",
    "        remove_cnt += 1\n",
    "        print(f\"삭제한 파일명: {os.path.basename(file)}\")"
   ]
  },
  {
   "cell_type": "code",
   "execution_count": 128,
   "metadata": {},
   "outputs": [
    {
     "data": {
      "text/plain": [
       "12"
      ]
     },
     "execution_count": 128,
     "metadata": {},
     "output_type": "execute_result"
    }
   ],
   "source": [
    "remove_cnt"
   ]
  },
  {
   "cell_type": "code",
   "execution_count": 130,
   "metadata": {},
   "outputs": [
    {
     "data": {
      "text/plain": [
       "7378"
      ]
     },
     "execution_count": 130,
     "metadata": {},
     "output_type": "execute_result"
    }
   ],
   "source": [
    "# 이미지 파일 경로 목록을 갱신\n",
    "file_list = glob(pet_dataset_path+\"/*.jpg\")\n",
    "len(file_list)"
   ]
  },
  {
   "cell_type": "code",
   "execution_count": 132,
   "metadata": {},
   "outputs": [
    {
     "data": {
      "text/plain": [
       "{'0 - zero': 0,\n",
       " '1 - one': 1,\n",
       " '2 - two': 2,\n",
       " '3 - three': 3,\n",
       " '4 - four': 4,\n",
       " '5 - five': 5,\n",
       " '6 - six': 6,\n",
       " '7 - seven': 7,\n",
       " '8 - eight': 8,\n",
       " '9 - nine': 9}"
      ]
     },
     "execution_count": 132,
     "metadata": {},
     "output_type": "execute_result"
    }
   ],
   "source": [
    "# mnist_trainset.classes    # index_to_class\n",
    "# mnist_trainset.class_to_idx # class_to_index"
   ]
  },
  {
   "cell_type": "markdown",
   "metadata": {},
   "source": [
    "### index_to_class, class_to_index 생성\n",
    "\n",
    "-   **index**: class index 번호(0, 1, 2), **class**: class 이름 (dog, cat, ..)\n",
    "-   **index_to_class**: class들을 가지는 리스트. index(0, 1, ..)로 class 조회\n",
    "    -   index를 주면 class 이름을 반환\n",
    "-   **class_to_index**: key: 클래스이름, value: index -> class이름 넣으면 index 반환\n",
    "    -   class 이름을 주면 index를 반환\n",
    "-   Oxford PET - 파일명이 class\n",
    "    -   대문자로 시작: 고양이, 소문자로 시작: 개\n",
    "    -   파일명: 품종\\_번호.jpg\n"
   ]
  },
  {
   "cell_type": "code",
   "execution_count": null,
   "metadata": {},
   "outputs": [],
   "source": [
    "# class <-> index\n",
    "### 수기로 직접 작성.\n",
    "# index_to_class = [\"개\", \"고양이\"]"
   ]
  },
  {
   "cell_type": "code",
   "execution_count": 143,
   "metadata": {},
   "outputs": [
    {
     "data": {
      "text/plain": [
       "'datasets/oxfordpet/images\\\\american_pit_bull_terrier_100.jpg'"
      ]
     },
     "execution_count": 143,
     "metadata": {},
     "output_type": "execute_result"
    }
   ],
   "source": [
    "file_list[400]"
   ]
  },
  {
   "cell_type": "code",
   "execution_count": 145,
   "metadata": {},
   "outputs": [
    {
     "data": {
      "text/plain": [
       "['american', 'pit', 'bull', 'terrier', '100.jpg']"
      ]
     },
     "execution_count": 145,
     "metadata": {},
     "output_type": "execute_result"
    }
   ],
   "source": [
    "file_name.split(\"_\")"
   ]
  },
  {
   "cell_type": "code",
   "execution_count": 150,
   "metadata": {},
   "outputs": [
    {
     "name": "stdout",
     "output_type": "stream",
     "text": [
      "american_pit_bull_terrier 개\n"
     ]
    }
   ],
   "source": [
    "### 파일명을 이용해서 작성\n",
    "f = file_list[400]\n",
    "file_name = os.path.basename(f)\n",
    "# label = file_name.split(\"_\")[0]\n",
    "label = re.sub(r\"_\\d+.jpg\", \"\", file_name)\n",
    "# 개-고양이\n",
    "label2 = \"고양이\" if file_name[0].isupper() else \"개\"\n",
    "print(label, label2)"
   ]
  },
  {
   "cell_type": "code",
   "execution_count": 149,
   "metadata": {},
   "outputs": [
    {
     "name": "stdout",
     "output_type": "stream",
     "text": [
      "american_pit_bull_terrier_100.jpg\n"
     ]
    },
    {
     "data": {
      "text/plain": [
       "'american_pit_bull_terrier'"
      ]
     },
     "execution_count": 149,
     "metadata": {},
     "output_type": "execute_result"
    }
   ],
   "source": [
    "import re\n",
    "\n",
    "f = file_list[400]\n",
    "file_name = os.path.basename(f)\n",
    "print(file_name)\n",
    "# _번호.jpg 패턴을 file_name(문자열) 에서 제거.\n",
    "re.sub(r\"_\\d+.jpg\", \"\", file_name)  # \\d: 숫자1개  + (앞의 패턴이 1개 이상나온다.)\n",
    "# (\"패턴\", \"변경할문자열\", 대상)"
   ]
  },
  {
   "cell_type": "code",
   "execution_count": 152,
   "metadata": {},
   "outputs": [],
   "source": [
    "class_name_set = set() # 중복제거를 위해 빈 set을 생성.\n",
    "for f in file_list:\n",
    "    file_name = os.path.basename(f)\n",
    "    label = re.sub(r\"_\\d+.jpg\", \"\", file_name)\n",
    "    class_name_set.add(label)"
   ]
  },
  {
   "cell_type": "code",
   "execution_count": 156,
   "metadata": {
    "collapsed": true,
    "jupyter": {
     "outputs_hidden": true
    },
    "scrolled": true
   },
   "outputs": [
    {
     "data": {
      "text/plain": [
       "['Abyssinian',\n",
       " 'Bengal',\n",
       " 'Birman',\n",
       " 'Bombay',\n",
       " 'British_Shorthair',\n",
       " 'Egyptian_Mau',\n",
       " 'Maine_Coon',\n",
       " 'Persian',\n",
       " 'Ragdoll',\n",
       " 'Russian_Blue',\n",
       " 'Siamese',\n",
       " 'Sphynx',\n",
       " 'american_bulldog',\n",
       " 'american_pit_bull_terrier',\n",
       " 'basset_hound',\n",
       " 'beagle',\n",
       " 'boxer',\n",
       " 'chihuahua',\n",
       " 'english_cocker_spaniel',\n",
       " 'english_setter',\n",
       " 'german_shorthaired',\n",
       " 'great_pyrenees',\n",
       " 'havanese',\n",
       " 'japanese_chin',\n",
       " 'keeshond',\n",
       " 'leonberger',\n",
       " 'miniature_pinscher',\n",
       " 'newfoundland',\n",
       " 'pomeranian',\n",
       " 'pug',\n",
       " 'saint_bernard',\n",
       " 'samoyed',\n",
       " 'scottish_terrier',\n",
       " 'shiba_inu',\n",
       " 'staffordshire_bull_terrier',\n",
       " 'wheaten_terrier',\n",
       " 'yorkshire_terrier']"
      ]
     },
     "execution_count": 156,
     "metadata": {},
     "output_type": "execute_result"
    }
   ],
   "source": [
    "index_to_class = list(class_name_set)\n",
    "index_to_class.sort() # 오름차순 정렬\n",
    "index_to_class"
   ]
  },
  {
   "cell_type": "code",
   "execution_count": 159,
   "metadata": {},
   "outputs": [],
   "source": [
    "class_to_index = {value : index for index, value in enumerate(index_to_class)}    # dict {className : index}"
   ]
  },
  {
   "cell_type": "code",
   "execution_count": 161,
   "metadata": {},
   "outputs": [
    {
     "data": {
      "text/plain": [
       "1"
      ]
     },
     "execution_count": 161,
     "metadata": {},
     "output_type": "execute_result"
    }
   ],
   "source": [
    "class_to_index[\"Bengal\"]"
   ]
  },
  {
   "cell_type": "code",
   "execution_count": 165,
   "metadata": {},
   "outputs": [
    {
     "data": {
      "text/plain": [
       "(140, 180)"
      ]
     },
     "execution_count": 165,
     "metadata": {},
     "output_type": "execute_result"
    }
   ],
   "source": [
    "# train(70%)/test(10%)/valid(20%) set을 분리 => class 별로 분리\n",
    "## 200 개 기준\n",
    "train_idx = int(200 * 0.7)\n",
    "valid_idx = train_idx + int(200 * 0.2)\n",
    "train_idx, valid_idx\n",
    "# 0 ~ train_idx         : train set\n",
    "# train_idx ~ valid_idx : valid set\n",
    "# valid_idx ~           : test set"
   ]
  },
  {
   "cell_type": "code",
   "execution_count": 167,
   "metadata": {},
   "outputs": [],
   "source": [
    "train_file_list = []\n",
    "valid_file_list = []\n",
    "test_file_list = []\n",
    "\n",
    "cnt = 0 # class별 몇번째 파일인지를 저장할 변수.\n",
    "previous_class = None # 이전 반복에서 처리한 파일의 class 이름.\n",
    "file_list.sort()\n",
    "\n",
    "for path in file_list:\n",
    "    file_name = os.path.splitext(os.path.basename(path))[0]  # Bangal_30\n",
    "    class_name = re.sub(r\"_\\d+\", \"\", file_name) # 품종 class 추출: Bangal\n",
    "\n",
    "    if previous_class == class_name: # 이전처리 class와 현재처리 class가 같으면\n",
    "        cnt += 1 # 동일한 클래스 처리: 처리 count를 1 증가\n",
    "    else:\n",
    "        cnt = 0  # 다른 클래스를 처리: 처리 count를 0으로 초기화\n",
    "\n",
    "    if cnt <= train_idx: # train_file_list에 추가.   0 ~ 140-1\n",
    "        train_file_list.append(path)\n",
    "    elif cnt > train_idx and cnt <= valid_idx:  # 140 ~ 180-1\n",
    "        valid_file_list.append(path)\n",
    "    else: # 180-1 ~ \n",
    "        test_file_list.append(path)\n",
    "        \n",
    "    previous_class = class_name"
   ]
  },
  {
   "cell_type": "code",
   "execution_count": 168,
   "metadata": {},
   "outputs": [
    {
     "name": "stdout",
     "output_type": "stream",
     "text": [
      "datasets/oxfordpet/images\\Abyssinian_1.jpg\n",
      "datasets/oxfordpet/images\\Abyssinian_44.jpg\n",
      "datasets/oxfordpet/images\\Abyssinian_84.jpg\n"
     ]
    }
   ],
   "source": [
    "print(train_file_list[0])\n",
    "print(valid_file_list[0])\n",
    "print(test_file_list[0])"
   ]
  },
  {
   "cell_type": "code",
   "execution_count": 170,
   "metadata": {},
   "outputs": [
    {
     "data": {
      "text/plain": [
       "(5217, 1480, 681)"
      ]
     },
     "execution_count": 170,
     "metadata": {},
     "output_type": "execute_result"
    }
   ],
   "source": [
    "len(train_file_list), len(valid_file_list), len(test_file_list)"
   ]
  },
  {
   "cell_type": "code",
   "execution_count": null,
   "metadata": {},
   "outputs": [],
   "source": [
    "# 시작전에 위의 코드들을 실행. "
   ]
  },
  {
   "cell_type": "code",
   "execution_count": null,
   "metadata": {},
   "outputs": [],
   "source": []
  },
  {
   "cell_type": "markdown",
   "metadata": {},
   "source": [
    "## torchvision.datasets.ImageFolder 이용\n",
    "\n",
    "-   영구저장장치(HDD)에 파일로 저장된 image들을 쉽게 로딩할 수 있도록 한다.\n",
    "-   train/validation/test 데이터셋을 저장하는 디렉토리에 class 별로 디렉토리를 만들고 이미지를 저장한다.\n",
    "\n",
    "![img](figures/06_image_folder_dir.png)\n"
   ]
  },
  {
   "cell_type": "code",
   "execution_count": null,
   "metadata": {},
   "outputs": [],
   "source": [
    "# gdown: google drive 의 파일을 다운로드 하는 라이브러리.\n",
    "!pip install gdown --upgrade"
   ]
  },
  {
   "cell_type": "code",
   "execution_count": null,
   "metadata": {},
   "outputs": [],
   "source": [
    "import os\n",
    "from zipfile import ZipFile\n",
    "import gdown\n",
    "\n",
    "\n",
    "def down_extract():\n",
    "    os.makedirs(\"data\", exist_ok=True)\n",
    "    url = \"https://drive.google.com/uc?id=1YIxDL0XJhhAMdScdRUfDgccAqyCw5-ZV\"\n",
    "    fname = \"data/cats_and_dogs_small.zip\"\n",
    "\n",
    "    gdown.download(url, fname, quiet=False)\n",
    "\n",
    "    # zipfile모듈: Zip 압축파일을 다루는 모듈(압축하기, 풀기)\n",
    "    from zipfile import ZipFile\n",
    "\n",
    "    # 압축풀기: ZipFile(압축파일경로).extractall(풀경로) # 디렉토리 없으면 생성해 준다.\n",
    "    with ZipFile(fname) as zipFile:\n",
    "        zipFile.extractall(os.path.join(\"data\", \"cats_and_dogs_small\"))\n",
    "\n",
    "\n",
    "down_extract()"
   ]
  },
  {
   "cell_type": "code",
   "execution_count": null,
   "metadata": {},
   "outputs": [],
   "source": []
  },
  {
   "cell_type": "code",
   "execution_count": null,
   "metadata": {},
   "outputs": [],
   "source": []
  },
  {
   "cell_type": "markdown",
   "metadata": {},
   "source": [
    "## 메모리상의 Tensor, ndarray 타입의 데이터를 이용해 Dataset생성\n",
    "\n",
    "-   torch.utils.data.TensorDataset 이용\n",
    "-   parameter\n",
    "    -   input: Tensor\n",
    "    -   output: Tensor\n"
   ]
  },
  {
   "cell_type": "code",
   "execution_count": null,
   "metadata": {},
   "outputs": [],
   "source": []
  },
  {
   "cell_type": "code",
   "execution_count": null,
   "metadata": {},
   "outputs": [],
   "source": []
  },
  {
   "cell_type": "markdown",
   "metadata": {},
   "source": [
    "# 모델 성능 평가를 위한 데이터셋 분리\n",
    "\n",
    "-   **Train 데이터셋 (훈련/학습 데이터셋)**\n",
    "    -   모델을 학습시킬 때 사용할 데이터셋.\n",
    "-   **Validation 데이터셋 (검증 데이터셋)**\n",
    "    -   모델의 성능 중간 검증을 위한 데이터셋\n",
    "-   **Test 데이터셋 (평가 데이터셋)**\n",
    "    -   모델의 성능을 최종적으로 측정하기 위한 데이터셋\n",
    "    -   **Test 데이터셋은 마지막에 모델의 성능을 측정하는 용도로 한번만 사용한다.**\n",
    "\n",
    "## 검증(validation), 평가(test) 데이터셋을 나누는 이유\n",
    "\n",
    "-   모델을 훈련하고 성능 검증했을 때 원하는 성능이 나오지 않으면 모델의 여러 설정(하이퍼파라미터)들을 수정한 뒤에 다시 훈련시키고 검증을 하게 된다. 그리고 원하는 성능이 나올때 까지 설정변경->훈련->검증을 반복하게 된다. 이 작업이 **모델링(Modeling)** 이다.\n",
    "-   위 사이클을 반복하게 되면 검증 결과를 바탕으로 설정을 변경하게 되므로 검증 할 때 사용한 데이터셋(Test set)에 모델이 맞춰서 훈련하는 것과 동일한 효과를 내게 된다.(설정을 변경하는 이유가 Test set에 대한 결과를 좋게 만들기 위해 변경하므로) 그래서 Train dataset과 Test dataset 두 개의 데이터셋만 사용하게 되면 **모델의 성능을 제대로 평가할 수 없게 된다.** 그래서 데이터셋을 train set, validation set, test set으로 나눠 train set 와 validation set을 사용해 훈련과 검증을 해 모델을 최적화 한 뒤 마지막에 test set으로 최종 평가를 한다.\n",
    "\n",
    "> -   **(Parameter)머신러닝 모델 파라미터**\n",
    ">     -   성능에 영향을 주는 값으로 최적화의야 하는 대상내는 값을 찾아야 한다.\n",
    ">         -   **하이퍼파라미터(Hyper Parameter)**\n",
    ">             -   사람이 직접 설정해야하는 파라미터 값으로 주로 어떻게 모델을 학습시킬지에 대한 모델설정 값이다.\n",
    ">             -   딥러닝에서는 학습률, Epoch수, batch size, optimizer, loss 함수 등 다양한 하이퍼파라미터가 있다.\n",
    ">         -   **파라미터(Parameter)**\n",
    ">             -   모델의 함수를 데이터에 맞추기 위한 값으로 학습을 통해 찾는 변수.\n",
    ">             -   딥러닝 모델에서는 weight와 bias 가 파라미터다.\n"
   ]
  },
  {
   "cell_type": "markdown",
   "metadata": {},
   "source": [
    "## Dataset 분리\n",
    "\n",
    "### torch.utils.data.Subset을 이용\n",
    "\n",
    "-   Dataset의 일부를 가지는 부분집합 데이터셋을 생성\n",
    "-   주로 사용하는 곳\n",
    "    1. 데이터 셋을 분리\n",
    "    2. 전체 데이터 셋에서 일부 데이터를 추출 할 때\n",
    "    3. 데이터셋에서 특정 데이터만 골라서 추출할 때 (ex: 특정 class만 추출하는 경우)\n"
   ]
  },
  {
   "cell_type": "code",
   "execution_count": null,
   "metadata": {},
   "outputs": [],
   "source": []
  },
  {
   "cell_type": "code",
   "execution_count": null,
   "metadata": {},
   "outputs": [],
   "source": []
  },
  {
   "cell_type": "markdown",
   "metadata": {},
   "source": [
    "### random_split() 함수 이용\n",
    "\n",
    "-   Dataset객체와 나눌 데이터셋들의 원소개수를 리스트로 묶어서 전달하면 Shuffle후 나눈뒤 그 결과를 Subset객체들을 리스트에 담아 반환한다.\n"
   ]
  },
  {
   "cell_type": "code",
   "execution_count": null,
   "metadata": {},
   "outputs": [],
   "source": []
  },
  {
   "cell_type": "code",
   "execution_count": null,
   "metadata": {},
   "outputs": [],
   "source": []
  }
 ],
 "metadata": {
  "kernelspec": {
   "display_name": "Python 3 (ipykernel)",
   "language": "python",
   "name": "python3"
  },
  "language_info": {
   "codemirror_mode": {
    "name": "ipython",
    "version": 3
   },
   "file_extension": ".py",
   "mimetype": "text/x-python",
   "name": "python",
   "nbconvert_exporter": "python",
   "pygments_lexer": "ipython3",
   "version": "3.12.7"
  },
  "toc": {
   "base_numbering": 1,
   "nav_menu": {},
   "number_sections": false,
   "sideBar": true,
   "skip_h1_title": false,
   "title_cell": "Table of Contents",
   "title_sidebar": "Contents",
   "toc_cell": false,
   "toc_position": {
    "height": "calc(100% - 180px)",
    "left": "10px",
    "top": "150px",
    "width": "455.111px"
   },
   "toc_section_display": true,
   "toc_window_display": false
  },
  "varInspector": {
   "cols": {
    "lenName": 16,
    "lenType": 16,
    "lenVar": 40
   },
   "kernels_config": {
    "python": {
     "delete_cmd_postfix": "",
     "delete_cmd_prefix": "del ",
     "library": "var_list.py",
     "varRefreshCmd": "print(var_dic_list())"
    },
    "r": {
     "delete_cmd_postfix": ") ",
     "delete_cmd_prefix": "rm(",
     "library": "var_list.r",
     "varRefreshCmd": "cat(var_dic_list()) "
    }
   },
   "types_to_exclude": [
    "module",
    "function",
    "builtin_function_or_method",
    "instance",
    "_Feature"
   ],
   "window_display": false
  }
 },
 "nbformat": 4,
 "nbformat_minor": 4
}
