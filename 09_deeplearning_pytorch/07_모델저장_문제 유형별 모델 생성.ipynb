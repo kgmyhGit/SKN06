{
 "cells": [
  {
   "cell_type": "markdown",
   "metadata": {},
   "source": [
    "# 모델 저장\n",
    "\n",
    "-   학습한 모델을 저장장치에 파일로 저장하고 나중에 불러와 사용(추가 학습, 예측 서비스) 할 수 있도록 한다.\n",
    "-   파이토치는 **모델의 파라미터만 저장**하는 방법과 **모델 구조와 파라미터 모두를 저장**하는 두가지 방식을 제공한다.\n",
    "-   저장 함수\n",
    "    -   `torch.save(저장할 객체, 저장경로)`\n",
    "-   보통 저장파일의 확장자는 `pt`나 `pth` 를 지정한다.\n",
    "\n",
    "## 모델 전체 저장하기 및 불러오기\n",
    "\n",
    "-   저장하기\n",
    "    -   `torch.save(model, 저장경로)`\n",
    "-   불러오기\n",
    "    -   `load_model = torch.load(저장경로)`\n",
    "-   저장시 **pickle**을 이용해 직렬화하기 때문에 불어오는 실행환경에도 모델을 저장할 때 사용한 클래스가 있어야 한다.\n"
   ]
  },
  {
   "cell_type": "markdown",
   "metadata": {},
   "source": [
    "## 모델의 파라미터만 저장\n",
    "\n",
    "-   모델을 구성하는 파라미터만 저장한다.\n",
    "-   모델의 구조는 저장하지 않기 때문에 불러올 때 **모델을 먼저 생성하고 생성한 모델에 불러온 파라미터를 덮어씌운다.**\n",
    "-   모델의 파라미터는 **state_dict** 형식으로 저장한다.\n",
    "\n",
    "### state_dict\n",
    "\n",
    "-   모델의 파라미터 Tensor들을 레이어 단위별로 나누어 저장한 Ordered Dictionary (OrderedDict)\n",
    "-   `모델객체.state_dict()` 메소드를 이용해 조회한다.\n",
    "-   모델의 state_dict을 조회 후 저장한다.\n",
    "    -   `torch.save(model.state_dict(), \"저장경로\")`\n",
    "-   생성된 모델에 읽어온 state_dict를 덮어씌운다.\n",
    "    -   `new_model.load_state_dict(torch.load(\"state_dict저장경로\"))`\n"
   ]
  },
  {
   "cell_type": "markdown",
   "metadata": {},
   "source": [
    "## Checkpoint를 저장 및 불러오기\n",
    "\n",
    "-   학습이 끝나지 않은 모델을 저장 후 나중에 이어서 학습시킬 경우에는 모델의 구조, 파라미터 뿐만 아니라 optimizer, loss 함수등 학습에 필요한 객체들을 저장해야 한다.\n",
    "-   Dictionary에 저장하려는 값들을 key-value 쌍으로 저장후 `torch.save()`를 이용해 저장한다.\n",
    "\n",
    "```python\n",
    "# 저장\n",
    "torch.save({\n",
    "    'epoch':epoch,\n",
    "    'model_state_dict':model.state_dict(),\n",
    "    'optimizer_state_dict':optimizer.state_dict(),\n",
    "    'loss':train_loss\n",
    "}, \"저장경로\")\n",
    "\n",
    "# 불러오기\n",
    "model = MyModel()\n",
    "optimizer = optim.Adam(model.parameter())\n",
    "\n",
    "# loading된 checkpoint 값 이용해 이전 학습상태 복원\n",
    "checkpoint = torch.load(\"저장경로\")\n",
    "model.load_state_dict(checkpoint['model_state_dict'])\n",
    "optimizer.load_state_dict(checkpoint['optimizer_state_dict'])\n",
    "epoch = checkpoint['epoch']\n",
    "loss = checkpoint['loss']\n",
    "```\n"
   ]
  },
  {
   "cell_type": "code",
   "execution_count": 3,
   "metadata": {},
   "outputs": [],
   "source": [
    "#  Linear의 파라미터(weight, bias) 개수: 입력feature * 출력feature + 출력feature\n",
    "# (784, 128) 784 * 128 + 128\n",
    "import torch\n",
    "import torch.nn as nn\n",
    "class MyModel(nn.Module):\n",
    "\n",
    "    def __init__(self):\n",
    "        super().__init__()\n",
    "        self.lr1 = nn.Linear(3, 4) # 3 X 4 + 4 \n",
    "        self.lr2 = nn.Linear(4, 2)\n",
    "        self.relu = nn.ReLU() # activation함수->파라미터가 없는 단순 계산함수. relu(X) = max(X, 0)\n",
    "    def forward(self, X):\n",
    "        X = self.lr1(X)\n",
    "        X = self.relu(X)\n",
    "        X = self.lr2(X)\n",
    "        return X"
   ]
  },
  {
   "cell_type": "code",
   "execution_count": 4,
   "metadata": {},
   "outputs": [
    {
     "data": {
      "text/plain": [
       "MyModel(\n",
       "  (lr1): Linear(in_features=3, out_features=4, bias=True)\n",
       "  (lr2): Linear(in_features=4, out_features=2, bias=True)\n",
       "  (relu): ReLU()\n",
       ")"
      ]
     },
     "execution_count": 4,
     "metadata": {},
     "output_type": "execute_result"
    }
   ],
   "source": [
    "model = MyModel()\n",
    "model"
   ]
  },
  {
   "cell_type": "code",
   "execution_count": 5,
   "metadata": {},
   "outputs": [],
   "source": [
    "import os\n",
    "os.makedirs(\"saved_models\", exist_ok=True)"
   ]
  },
  {
   "cell_type": "code",
   "execution_count": 6,
   "metadata": {},
   "outputs": [],
   "source": [
    "# 모델을 저장\n",
    "torch.save(model, \"saved_models/my_model.pt\")"
   ]
  },
  {
   "cell_type": "code",
   "execution_count": 8,
   "metadata": {
    "collapsed": true,
    "jupyter": {
     "outputs_hidden": true
    }
   },
   "outputs": [
    {
     "name": "stderr",
     "output_type": "stream",
     "text": [
      "C:\\Users\\Playdata\\AppData\\Local\\Temp\\ipykernel_7712\\197926485.py:2: FutureWarning: You are using `torch.load` with `weights_only=False` (the current default value), which uses the default pickle module implicitly. It is possible to construct malicious pickle data which will execute arbitrary code during unpickling (See https://github.com/pytorch/pytorch/blob/main/SECURITY.md#untrusted-models for more details). In a future release, the default value for `weights_only` will be flipped to `True`. This limits the functions that could be executed during unpickling. Arbitrary objects will no longer be allowed to be loaded via this mode unless they are explicitly allowlisted by the user via `torch.serialization.add_safe_globals`. We recommend you start setting `weights_only=True` for any use case where you don't have full control of the loaded file. Please open an issue on GitHub for any issues related to this experimental feature.\n",
      "  load_model = torch.load(\"saved_models/my_model.pt\")\n"
     ]
    }
   ],
   "source": [
    "## 저장된 모델 Load\n",
    "load_model = torch.load(\"saved_models/my_model.pt\")"
   ]
  },
  {
   "cell_type": "code",
   "execution_count": 9,
   "metadata": {},
   "outputs": [
    {
     "data": {
      "text/plain": [
       "MyModel(\n",
       "  (lr1): Linear(in_features=3, out_features=4, bias=True)\n",
       "  (lr2): Linear(in_features=4, out_features=2, bias=True)\n",
       "  (relu): ReLU()\n",
       ")"
      ]
     },
     "execution_count": 9,
     "metadata": {},
     "output_type": "execute_result"
    }
   ],
   "source": [
    "load_model"
   ]
  },
  {
   "cell_type": "code",
   "execution_count": 10,
   "metadata": {},
   "outputs": [
    {
     "data": {
      "text/plain": [
       "Linear(in_features=3, out_features=4, bias=True)"
      ]
     },
     "execution_count": 10,
     "metadata": {},
     "output_type": "execute_result"
    }
   ],
   "source": [
    "## 모델에 Layer들을 조회. 모델.instance변수명\n",
    "lr_layer = model.lr1\n",
    "lr_layer"
   ]
  },
  {
   "cell_type": "code",
   "execution_count": 11,
   "metadata": {},
   "outputs": [],
   "source": [
    "## Layer에서 weight/bias 조회.  layer.weight, layer.bias\n",
    "lr1_weight = lr_layer.weight\n",
    "lr1_bias = lr_layer.bias"
   ]
  },
  {
   "cell_type": "code",
   "execution_count": 12,
   "metadata": {},
   "outputs": [
    {
     "data": {
      "text/plain": [
       "Parameter containing:\n",
       "tensor([[ 0.0288, -0.5614, -0.4909],\n",
       "        [-0.3311, -0.3771,  0.4307],\n",
       "        [ 0.3548, -0.5195, -0.1379],\n",
       "        [-0.5446, -0.1220,  0.5561]], requires_grad=True)"
      ]
     },
     "execution_count": 12,
     "metadata": {},
     "output_type": "execute_result"
    }
   ],
   "source": [
    "lr1_weight"
   ]
  },
  {
   "cell_type": "code",
   "execution_count": 13,
   "metadata": {},
   "outputs": [
    {
     "data": {
      "text/plain": [
       "Parameter containing:\n",
       "tensor([-0.4172,  0.0534, -0.5352,  0.1600], requires_grad=True)"
      ]
     },
     "execution_count": 13,
     "metadata": {},
     "output_type": "execute_result"
    }
   ],
   "source": [
    "lr1_bias"
   ]
  },
  {
   "cell_type": "code",
   "execution_count": 14,
   "metadata": {
    "scrolled": true
   },
   "outputs": [
    {
     "data": {
      "text/plain": [
       "Parameter containing:\n",
       "tensor([[ 0.0288, -0.5614, -0.4909],\n",
       "        [-0.3311, -0.3771,  0.4307],\n",
       "        [ 0.3548, -0.5195, -0.1379],\n",
       "        [-0.5446, -0.1220,  0.5561]], requires_grad=True)"
      ]
     },
     "execution_count": 14,
     "metadata": {},
     "output_type": "execute_result"
    }
   ],
   "source": [
    "load_model.lr1.weight"
   ]
  },
  {
   "cell_type": "code",
   "execution_count": 15,
   "metadata": {},
   "outputs": [
    {
     "data": {
      "text/plain": [
       "Parameter containing:\n",
       "tensor([-0.4172,  0.0534, -0.5352,  0.1600], requires_grad=True)"
      ]
     },
     "execution_count": 15,
     "metadata": {},
     "output_type": "execute_result"
    }
   ],
   "source": [
    "load_model.lr1.bias"
   ]
  },
  {
   "cell_type": "code",
   "execution_count": 18,
   "metadata": {},
   "outputs": [
    {
     "data": {
      "text/plain": [
       "OrderedDict([('lr1.weight',\n",
       "              tensor([[ 0.0288, -0.5614, -0.4909],\n",
       "                      [-0.3311, -0.3771,  0.4307],\n",
       "                      [ 0.3548, -0.5195, -0.1379],\n",
       "                      [-0.5446, -0.1220,  0.5561]])),\n",
       "             ('lr1.bias', tensor([-0.4172,  0.0534, -0.5352,  0.1600])),\n",
       "             ('lr2.weight',\n",
       "              tensor([[-0.1050,  0.2449,  0.0083, -0.4915],\n",
       "                      [-0.0403,  0.3696,  0.2914,  0.3962]])),\n",
       "             ('lr2.bias', tensor([-0.1641,  0.3765]))])"
      ]
     },
     "execution_count": 18,
     "metadata": {},
     "output_type": "execute_result"
    }
   ],
   "source": [
    "####### 파라미터들(weight들, bias들)만 저장/불러기기\n",
    "# state_dict\n",
    "state_dict = model.state_dict()  # 타입: collections.OrderedDict   - [(key, value), (key, value), ..]\n",
    "state_dict"
   ]
  },
  {
   "cell_type": "code",
   "execution_count": 19,
   "metadata": {},
   "outputs": [
    {
     "data": {
      "text/plain": [
       "odict_keys(['lr1.weight', 'lr1.bias', 'lr2.weight', 'lr2.bias'])"
      ]
     },
     "execution_count": 19,
     "metadata": {},
     "output_type": "execute_result"
    }
   ],
   "source": [
    "state_dict.keys()"
   ]
  },
  {
   "cell_type": "code",
   "execution_count": 20,
   "metadata": {},
   "outputs": [],
   "source": [
    "# 저장\n",
    "torch.save(state_dict, \"saved_models/my_model_parameter.pt\")"
   ]
  },
  {
   "cell_type": "code",
   "execution_count": 23,
   "metadata": {},
   "outputs": [
    {
     "name": "stderr",
     "output_type": "stream",
     "text": [
      "C:\\Users\\Playdata\\AppData\\Local\\Temp\\ipykernel_7712\\3810450207.py:1: FutureWarning: You are using `torch.load` with `weights_only=False` (the current default value), which uses the default pickle module implicitly. It is possible to construct malicious pickle data which will execute arbitrary code during unpickling (See https://github.com/pytorch/pytorch/blob/main/SECURITY.md#untrusted-models for more details). In a future release, the default value for `weights_only` will be flipped to `True`. This limits the functions that could be executed during unpickling. Arbitrary objects will no longer be allowed to be loaded via this mode unless they are explicitly allowlisted by the user via `torch.serialization.add_safe_globals`. We recommend you start setting `weights_only=True` for any use case where you don't have full control of the loaded file. Please open an issue on GitHub for any issues related to this experimental feature.\n",
      "  sd = torch.load(\"saved_models/my_model_parameter.pt\")\n"
     ]
    }
   ],
   "source": [
    "sd = torch.load(\"saved_models/my_model_parameter.pt\")"
   ]
  },
  {
   "cell_type": "code",
   "execution_count": 25,
   "metadata": {},
   "outputs": [
    {
     "data": {
      "text/plain": [
       "OrderedDict([('lr1.weight',\n",
       "              tensor([[ 0.5148,  0.4099, -0.2973],\n",
       "                      [-0.1596, -0.4820, -0.2951],\n",
       "                      [-0.2226,  0.4307,  0.0505],\n",
       "                      [-0.4605,  0.2338,  0.2596]])),\n",
       "             ('lr1.bias', tensor([ 0.5370, -0.4554, -0.0964, -0.1462])),\n",
       "             ('lr2.weight',\n",
       "              tensor([[-0.3830, -0.4005,  0.3755,  0.1092],\n",
       "                      [ 0.4894, -0.1427, -0.2676, -0.3616]])),\n",
       "             ('lr2.bias', tensor([-0.0450, -0.3085]))])"
      ]
     },
     "execution_count": 25,
     "metadata": {},
     "output_type": "execute_result"
    }
   ],
   "source": [
    "# 모델 객체를 생성 -> load한 state_dict를 모델 파라미터에 덮어쓴다.\n",
    "new_model = MyModel()\n",
    "new_model.state_dict()"
   ]
  },
  {
   "cell_type": "code",
   "execution_count": 26,
   "metadata": {},
   "outputs": [
    {
     "data": {
      "text/plain": [
       "<All keys matched successfully>"
      ]
     },
     "execution_count": 26,
     "metadata": {},
     "output_type": "execute_result"
    }
   ],
   "source": [
    "new_model.load_state_dict(sd)"
   ]
  },
  {
   "cell_type": "code",
   "execution_count": 27,
   "metadata": {},
   "outputs": [
    {
     "data": {
      "text/plain": [
       "OrderedDict([('lr1.weight',\n",
       "              tensor([[ 0.0288, -0.5614, -0.4909],\n",
       "                      [-0.3311, -0.3771,  0.4307],\n",
       "                      [ 0.3548, -0.5195, -0.1379],\n",
       "                      [-0.5446, -0.1220,  0.5561]])),\n",
       "             ('lr1.bias', tensor([-0.4172,  0.0534, -0.5352,  0.1600])),\n",
       "             ('lr2.weight',\n",
       "              tensor([[-0.1050,  0.2449,  0.0083, -0.4915],\n",
       "                      [-0.0403,  0.3696,  0.2914,  0.3962]])),\n",
       "             ('lr2.bias', tensor([-0.1641,  0.3765]))])"
      ]
     },
     "execution_count": 27,
     "metadata": {},
     "output_type": "execute_result"
    }
   ],
   "source": [
    "new_model.state_dict()"
   ]
  },
  {
   "cell_type": "code",
   "execution_count": null,
   "metadata": {},
   "outputs": [],
   "source": []
  },
  {
   "cell_type": "code",
   "execution_count": 28,
   "metadata": {},
   "outputs": [
    {
     "name": "stdout",
     "output_type": "stream",
     "text": [
      "Collecting torchinfo\n",
      "  Downloading torchinfo-1.8.0-py3-none-any.whl.metadata (21 kB)\n",
      "Downloading torchinfo-1.8.0-py3-none-any.whl (23 kB)\n",
      "Installing collected packages: torchinfo\n",
      "Successfully installed torchinfo-1.8.0\n"
     ]
    }
   ],
   "source": [
    "# 파이토치 모델 구조를 조사해주는 패키지.\n",
    "!pip install torchinfo"
   ]
  },
  {
   "cell_type": "code",
   "execution_count": 29,
   "metadata": {},
   "outputs": [
    {
     "data": {
      "text/plain": [
       "MyModel(\n",
       "  (lr1): Linear(in_features=3, out_features=4, bias=True)\n",
       "  (lr2): Linear(in_features=4, out_features=2, bias=True)\n",
       "  (relu): ReLU()\n",
       ")"
      ]
     },
     "execution_count": 29,
     "metadata": {},
     "output_type": "execute_result"
    }
   ],
   "source": [
    "model"
   ]
  },
  {
   "cell_type": "code",
   "execution_count": 30,
   "metadata": {},
   "outputs": [
    {
     "data": {
      "text/plain": [
       "=================================================================\n",
       "Layer (type:depth-idx)                   Param #\n",
       "=================================================================\n",
       "MyModel                                  --\n",
       "├─Linear: 1-1                            16\n",
       "├─Linear: 1-2                            10\n",
       "├─ReLU: 1-3                              --\n",
       "=================================================================\n",
       "Total params: 26\n",
       "Trainable params: 26\n",
       "Non-trainable params: 0\n",
       "================================================================="
      ]
     },
     "execution_count": 30,
     "metadata": {},
     "output_type": "execute_result"
    }
   ],
   "source": [
    "from torchinfo import summary\n",
    "summary(model)"
   ]
  },
  {
   "cell_type": "code",
   "execution_count": 31,
   "metadata": {},
   "outputs": [
    {
     "data": {
      "text/plain": [
       "==========================================================================================\n",
       "Layer (type:depth-idx)                   Output Shape              Param #\n",
       "==========================================================================================\n",
       "MyModel                                  [100, 2]                  --\n",
       "├─Linear: 1-1                            [100, 4]                  16\n",
       "├─ReLU: 1-2                              [100, 4]                  --\n",
       "├─Linear: 1-3                            [100, 2]                  10\n",
       "==========================================================================================\n",
       "Total params: 26\n",
       "Trainable params: 26\n",
       "Non-trainable params: 0\n",
       "Total mult-adds (Units.MEGABYTES): 0.00\n",
       "==========================================================================================\n",
       "Input size (MB): 0.00\n",
       "Forward/backward pass size (MB): 0.00\n",
       "Params size (MB): 0.00\n",
       "Estimated Total Size (MB): 0.01\n",
       "=========================================================================================="
      ]
     },
     "execution_count": 31,
     "metadata": {},
     "output_type": "execute_result"
    }
   ],
   "source": [
    "summary(model, (100, 3))  #(model, (input data의 shape))  (100:batch_size, 3: feature수)"
   ]
  },
  {
   "cell_type": "code",
   "execution_count": null,
   "metadata": {},
   "outputs": [],
   "source": []
  },
  {
   "cell_type": "markdown",
   "metadata": {
    "slideshow": {
     "slide_type": "slide"
    }
   },
   "source": [
    "# 문제 유형별 MLP 네트워크\n",
    "- 해결하려는 문제 유형에 따라 출력 Layer의 구조가 바뀐다.\n",
    "- 딥러닝 구조에서 **Feature를 추출하는 Layer 들을 Backbone** 이라고 하고 **추론하는 Layer들을 Head** 라고 한다. \n",
    "\n",
    "\n",
    "> - MLP(Multi Layer Perceptron), DNN(Deep Neural Network), ANN(Artificial Neural Network)\n",
    ">     -   Fully Connected Layer(nn.Linear)로 구성된 딥러닝 모델\n",
    ">     -   input feature들 모두에 대응하는 weight들(가중치)을 사용한다.\n",
    "> "
   ]
  },
  {
   "cell_type": "markdown",
   "metadata": {
    "slideshow": {
     "slide_type": "fragment"
    }
   },
   "source": [
    "## Regression(회귀)\n",
    "\n",
    "### Boston Housing Dataset\n",
    "\n",
    "보스턴 주택가격 dataset은 다음과 같은 속성을 바탕으로 해당 타운 주택 가격의 중앙값을 예측하는 문제.\n",
    "\n",
    "-   CRIM: 범죄율\n",
    "-   ZN: 25,000 평방피트당 주거지역 비율\n",
    "-   INDUS: 비소매 상업지구 비율\n",
    "-   CHAS: 찰스강에 인접해 있는지 여부(인접:1, 아니면:0)\n",
    "-   NOX: 일산화질소 농도(단위: 0.1ppm)\n",
    "-   RM: 주택당 방의 수\n",
    "-   AGE: 1940년 이전에 건설된 주택의 비율\n",
    "-   DIS: 5개의 보스턴 직업고용센터와의 거리(가중 평균)\n",
    "-   RAD: 고속도로 접근성\n",
    "-   TAX: 재산세율\n",
    "-   PTRATIO: 학생/교사 비율\n",
    "-   B: 흑인 비율\n",
    "-   LSTAT: 하위 계층 비율\n",
    "    <br><br>\n",
    "-   **Target**\n",
    "    -   MEDV: 타운의 주택가격 중앙값(단위: 1,000달러)\n"
   ]
  },
  {
   "cell_type": "code",
   "execution_count": 1,
   "metadata": {},
   "outputs": [],
   "source": [
    "import torch\n",
    "import torch.nn as nn\n",
    "import torch.optim as optim\n",
    "from torch.utils.data import TensorDataset, DataLoader\n",
    "from torchinfo import summary\n",
    "\n",
    "import pandas as pd\n",
    "import numpy as np\n",
    "import matplotlib.pyplot as plt\n",
    "\n",
    "from sklearn.model_selection import train_test_split\n",
    "from sklearn.preprocessing import StandardScaler\n",
    "\n",
    "device = \"cuda\" if torch.cuda.is_available() else \"cpu\""
   ]
  },
  {
   "cell_type": "code",
   "execution_count": 2,
   "metadata": {},
   "outputs": [
    {
     "data": {
      "text/plain": [
       "(506, 14)"
      ]
     },
     "execution_count": 2,
     "metadata": {},
     "output_type": "execute_result"
    }
   ],
   "source": [
    "# 1. Dataset 준비\n",
    "## 데이터 불러오기 -> 전처리 -> Dataset -> DataLoader\n",
    "df = pd.read_csv(\"data/boston_hosing.csv\")\n",
    "df.shape"
   ]
  },
  {
   "cell_type": "code",
   "execution_count": 3,
   "metadata": {},
   "outputs": [
    {
     "data": {
      "text/html": [
       "<div>\n",
       "<style scoped>\n",
       "    .dataframe tbody tr th:only-of-type {\n",
       "        vertical-align: middle;\n",
       "    }\n",
       "\n",
       "    .dataframe tbody tr th {\n",
       "        vertical-align: top;\n",
       "    }\n",
       "\n",
       "    .dataframe thead th {\n",
       "        text-align: right;\n",
       "    }\n",
       "</style>\n",
       "<table border=\"1\" class=\"dataframe\">\n",
       "  <thead>\n",
       "    <tr style=\"text-align: right;\">\n",
       "      <th></th>\n",
       "      <th>CRIM</th>\n",
       "      <th>ZN</th>\n",
       "      <th>INDUS</th>\n",
       "      <th>CHAS</th>\n",
       "      <th>NOX</th>\n",
       "      <th>RM</th>\n",
       "      <th>AGE</th>\n",
       "      <th>DIS</th>\n",
       "      <th>RAD</th>\n",
       "      <th>TAX</th>\n",
       "      <th>PTRATIO</th>\n",
       "      <th>B</th>\n",
       "      <th>LSTAT</th>\n",
       "      <th>MEDV</th>\n",
       "    </tr>\n",
       "  </thead>\n",
       "  <tbody>\n",
       "    <tr>\n",
       "      <th>0</th>\n",
       "      <td>0.00632</td>\n",
       "      <td>18.0</td>\n",
       "      <td>2.31</td>\n",
       "      <td>0.0</td>\n",
       "      <td>0.538</td>\n",
       "      <td>6.575</td>\n",
       "      <td>65.2</td>\n",
       "      <td>4.0900</td>\n",
       "      <td>1.0</td>\n",
       "      <td>296.0</td>\n",
       "      <td>15.3</td>\n",
       "      <td>396.90</td>\n",
       "      <td>4.98</td>\n",
       "      <td>24.0</td>\n",
       "    </tr>\n",
       "    <tr>\n",
       "      <th>1</th>\n",
       "      <td>0.02731</td>\n",
       "      <td>0.0</td>\n",
       "      <td>7.07</td>\n",
       "      <td>0.0</td>\n",
       "      <td>0.469</td>\n",
       "      <td>6.421</td>\n",
       "      <td>78.9</td>\n",
       "      <td>4.9671</td>\n",
       "      <td>2.0</td>\n",
       "      <td>242.0</td>\n",
       "      <td>17.8</td>\n",
       "      <td>396.90</td>\n",
       "      <td>9.14</td>\n",
       "      <td>21.6</td>\n",
       "    </tr>\n",
       "    <tr>\n",
       "      <th>2</th>\n",
       "      <td>0.02729</td>\n",
       "      <td>0.0</td>\n",
       "      <td>7.07</td>\n",
       "      <td>0.0</td>\n",
       "      <td>0.469</td>\n",
       "      <td>7.185</td>\n",
       "      <td>61.1</td>\n",
       "      <td>4.9671</td>\n",
       "      <td>2.0</td>\n",
       "      <td>242.0</td>\n",
       "      <td>17.8</td>\n",
       "      <td>392.83</td>\n",
       "      <td>4.03</td>\n",
       "      <td>34.7</td>\n",
       "    </tr>\n",
       "    <tr>\n",
       "      <th>3</th>\n",
       "      <td>0.03237</td>\n",
       "      <td>0.0</td>\n",
       "      <td>2.18</td>\n",
       "      <td>0.0</td>\n",
       "      <td>0.458</td>\n",
       "      <td>6.998</td>\n",
       "      <td>45.8</td>\n",
       "      <td>6.0622</td>\n",
       "      <td>3.0</td>\n",
       "      <td>222.0</td>\n",
       "      <td>18.7</td>\n",
       "      <td>394.63</td>\n",
       "      <td>2.94</td>\n",
       "      <td>33.4</td>\n",
       "    </tr>\n",
       "    <tr>\n",
       "      <th>4</th>\n",
       "      <td>0.06905</td>\n",
       "      <td>0.0</td>\n",
       "      <td>2.18</td>\n",
       "      <td>0.0</td>\n",
       "      <td>0.458</td>\n",
       "      <td>7.147</td>\n",
       "      <td>54.2</td>\n",
       "      <td>6.0622</td>\n",
       "      <td>3.0</td>\n",
       "      <td>222.0</td>\n",
       "      <td>18.7</td>\n",
       "      <td>396.90</td>\n",
       "      <td>5.33</td>\n",
       "      <td>36.2</td>\n",
       "    </tr>\n",
       "  </tbody>\n",
       "</table>\n",
       "</div>"
      ],
      "text/plain": [
       "      CRIM    ZN  INDUS  CHAS    NOX     RM   AGE     DIS  RAD    TAX  \\\n",
       "0  0.00632  18.0   2.31   0.0  0.538  6.575  65.2  4.0900  1.0  296.0   \n",
       "1  0.02731   0.0   7.07   0.0  0.469  6.421  78.9  4.9671  2.0  242.0   \n",
       "2  0.02729   0.0   7.07   0.0  0.469  7.185  61.1  4.9671  2.0  242.0   \n",
       "3  0.03237   0.0   2.18   0.0  0.458  6.998  45.8  6.0622  3.0  222.0   \n",
       "4  0.06905   0.0   2.18   0.0  0.458  7.147  54.2  6.0622  3.0  222.0   \n",
       "\n",
       "   PTRATIO       B  LSTAT  MEDV  \n",
       "0     15.3  396.90   4.98  24.0  \n",
       "1     17.8  396.90   9.14  21.6  \n",
       "2     17.8  392.83   4.03  34.7  \n",
       "3     18.7  394.63   2.94  33.4  \n",
       "4     18.7  396.90   5.33  36.2  "
      ]
     },
     "execution_count": 3,
     "metadata": {},
     "output_type": "execute_result"
    }
   ],
   "source": [
    "df.head()"
   ]
  },
  {
   "cell_type": "code",
   "execution_count": 4,
   "metadata": {},
   "outputs": [
    {
     "data": {
      "text/plain": [
       "((506, 13), (506, 1))"
      ]
     },
     "execution_count": 4,
     "metadata": {},
     "output_type": "execute_result"
    }
   ],
   "source": [
    "## X, y\n",
    "X_boston = df.drop(columns='MEDV').values\n",
    "y_boston = df['MEDV'].values\n",
    "y_boston = y_boston.reshape(-1, 1)\n",
    "X_boston.shape, y_boston.shape"
   ]
  },
  {
   "cell_type": "code",
   "execution_count": 5,
   "metadata": {},
   "outputs": [],
   "source": [
    "X_train, X_test, y_train, y_test = train_test_split(X_boston, y_boston, test_size=0.2, random_state=0)"
   ]
  },
  {
   "cell_type": "code",
   "execution_count": 6,
   "metadata": {},
   "outputs": [],
   "source": [
    "# 딥러닝 모델 -> 선형회귀기반: 전처리 - 연속형: Feature scaling, 범주형: One Hot Encoding\n",
    "scaler = StandardScaler()\n",
    "X_train_scaled = scaler.fit_transform(X_train)\n",
    "X_test_scaled = scaler.transform(X_test)"
   ]
  },
  {
   "cell_type": "code",
   "execution_count": 7,
   "metadata": {},
   "outputs": [
    {
     "data": {
      "text/plain": [
       "(404, 102)"
      ]
     },
     "execution_count": 7,
     "metadata": {},
     "output_type": "execute_result"
    }
   ],
   "source": [
    "## Dataset\n",
    "trainset = TensorDataset(\n",
    "    torch.tensor(X_train_scaled, dtype=torch.float32),\n",
    "    torch.tensor(y_train, dtype=torch.float32)\n",
    ")\n",
    "testset = TensorDataset(\n",
    "    torch.tensor(X_test_scaled, dtype=torch.float32),\n",
    "    torch.tensor(y_test, dtype=torch.float32)\n",
    ")\n",
    "len(trainset), len(testset)"
   ]
  },
  {
   "cell_type": "code",
   "execution_count": 8,
   "metadata": {},
   "outputs": [
    {
     "data": {
      "text/plain": [
       "(1, 1)"
      ]
     },
     "execution_count": 8,
     "metadata": {},
     "output_type": "execute_result"
    }
   ],
   "source": [
    "## DataLoader\n",
    "train_loader = DataLoader(trainset, batch_size=404, shuffle=True)\n",
    "test_loader = DataLoader(testset, batch_size=102)\n",
    "len(train_loader), len(test_loader)"
   ]
  },
  {
   "cell_type": "code",
   "execution_count": 9,
   "metadata": {},
   "outputs": [],
   "source": [
    "##################### 모델 정의\n",
    "# nn.Module 상속. \n",
    "# __init__(): layer 객체들 초기화, forward(): 추론 계산과정을 정의\n",
    "class BostonHousingModeling(nn.Module):\n",
    "\n",
    "    def __init__(self):\n",
    "        super().__init__()\n",
    "        self.lr1 = nn.Linear(13, 16)\n",
    "        self.lr2 = nn.Linear(16, 8)\n",
    "        self.lr3 = nn.Linear(8, 1)  # 최종 출력결과(집값 중위수 1개).\n",
    "        self.relu = nn.ReLU() # activation 함수.\n",
    "    \n",
    "    def forward(self, X):\n",
    "        X = self.lr1(X)\n",
    "        X = self.relu(X)\n",
    "        X = self.lr2(X)\n",
    "        X = self.relu(X)\n",
    "        output = self.lr3(X) \n",
    "        return output\n",
    "        # 출력 layer(output)은 activation 함수를 통과시키지 않음\n",
    "        # 값의 범위가 정해져 있고 그 범위의 값을 반환하는 함수가 있을 경우는 사용할 수 있다.\n",
    "        ##  출력값 범위: 0 ~ 1 실수 - logistic(sigmoid), -1 ~ 1 사이 실수: tanh 함수\n",
    "        "
   ]
  },
  {
   "cell_type": "code",
   "execution_count": 10,
   "metadata": {},
   "outputs": [],
   "source": [
    "# !pip install torchinfo"
   ]
  },
  {
   "cell_type": "code",
   "execution_count": 11,
   "metadata": {
    "scrolled": true
   },
   "outputs": [
    {
     "data": {
      "text/plain": [
       "==========================================================================================\n",
       "Layer (type:depth-idx)                   Output Shape              Param #\n",
       "==========================================================================================\n",
       "BostonHousingModeling                    [404, 1]                  --\n",
       "├─Linear: 1-1                            [404, 16]                 224\n",
       "├─ReLU: 1-2                              [404, 16]                 --\n",
       "├─Linear: 1-3                            [404, 8]                  136\n",
       "├─ReLU: 1-4                              [404, 8]                  --\n",
       "├─Linear: 1-5                            [404, 1]                  9\n",
       "==========================================================================================\n",
       "Total params: 369\n",
       "Trainable params: 369\n",
       "Non-trainable params: 0\n",
       "Total mult-adds (Units.MEGABYTES): 0.15\n",
       "==========================================================================================\n",
       "Input size (MB): 0.02\n",
       "Forward/backward pass size (MB): 0.08\n",
       "Params size (MB): 0.00\n",
       "Estimated Total Size (MB): 0.10\n",
       "=========================================================================================="
      ]
     },
     "execution_count": 11,
     "metadata": {},
     "output_type": "execute_result"
    }
   ],
   "source": [
    "## 모델 객체 생성\n",
    "boston_model = BostonHousingModeling().to(device)\n",
    "summary(boston_model, (404, 13), device=device)"
   ]
  },
  {
   "cell_type": "code",
   "execution_count": 12,
   "metadata": {},
   "outputs": [],
   "source": [
    "### 학습: loss_fn(회귀: nn.MSELoss, nn.functional.mse_loss), optimizer\n",
    "epochs = 1000\n",
    "lr = 0.001\n",
    "\n",
    "optimizer = optim.Adam(boston_model.parameters(), lr=lr)\n",
    "loss_fn = nn.MSELoss() # 회귀: Mean Squared Error"
   ]
  },
  {
   "cell_type": "code",
   "execution_count": 17,
   "metadata": {
    "scrolled": true
   },
   "outputs": [
    {
     "name": "stdout",
     "output_type": "stream",
     "text": [
      "[0001/1000] - train loss: 5.8652024269104, valid loss: 20.69140625\n",
      "[0002/1000] - train loss: 5.864312648773193, valid loss: 20.690576553344727\n",
      "[0003/1000] - train loss: 5.8633832931518555, valid loss: 20.688541412353516\n",
      "[0004/1000] - train loss: 5.862579822540283, valid loss: 20.68645477294922\n",
      "[0005/1000] - train loss: 5.861699104309082, valid loss: 20.685436248779297\n",
      "[0006/1000] - train loss: 5.860905170440674, valid loss: 20.684335708618164\n",
      "[0007/1000] - train loss: 5.860044479370117, valid loss: 20.683792114257812\n",
      "[0008/1000] - train loss: 5.859119415283203, valid loss: 20.684345245361328\n",
      "[0009/1000] - train loss: 5.858149528503418, valid loss: 20.684534072875977\n",
      "[0010/1000] - train loss: 5.857292175292969, valid loss: 20.683368682861328\n",
      "[0011/1000] - train loss: 5.856560707092285, valid loss: 20.68179702758789\n",
      "[0012/1000] - train loss: 5.855687141418457, valid loss: 20.681018829345703\n",
      "[0013/1000] - train loss: 5.854743003845215, valid loss: 20.680683135986328\n",
      "[0014/1000] - train loss: 5.854033946990967, valid loss: 20.68131446838379\n",
      "[0015/1000] - train loss: 5.853275299072266, valid loss: 20.681764602661133\n",
      "[0016/1000] - train loss: 5.8523406982421875, valid loss: 20.680999755859375\n",
      "[0017/1000] - train loss: 5.851464748382568, valid loss: 20.679601669311523\n",
      "[0018/1000] - train loss: 5.850612640380859, valid loss: 20.67827796936035\n",
      "[0019/1000] - train loss: 5.849740505218506, valid loss: 20.677066802978516\n",
      "[0020/1000] - train loss: 5.84887170791626, valid loss: 20.67667579650879\n",
      "[0021/1000] - train loss: 5.847934246063232, valid loss: 20.677383422851562\n",
      "[0022/1000] - train loss: 5.847038745880127, valid loss: 20.679441452026367\n",
      "[0023/1000] - train loss: 5.8461012840271, valid loss: 20.68046760559082\n",
      "[0024/1000] - train loss: 5.845207691192627, valid loss: 20.679656982421875\n",
      "[0025/1000] - train loss: 5.8442277908325195, valid loss: 20.678157806396484\n",
      "[0026/1000] - train loss: 5.843193531036377, valid loss: 20.676172256469727\n",
      "[0027/1000] - train loss: 5.842160224914551, valid loss: 20.6744327545166\n",
      "[0028/1000] - train loss: 5.841091632843018, valid loss: 20.673229217529297\n",
      "[0029/1000] - train loss: 5.839998245239258, valid loss: 20.67229652404785\n",
      "[0030/1000] - train loss: 5.838850498199463, valid loss: 20.67217254638672\n",
      "[0031/1000] - train loss: 5.837718486785889, valid loss: 20.671388626098633\n",
      "[0032/1000] - train loss: 5.836571216583252, valid loss: 20.67009925842285\n",
      "[0033/1000] - train loss: 5.835370063781738, valid loss: 20.669296264648438\n",
      "[0034/1000] - train loss: 5.834205150604248, valid loss: 20.66905975341797\n",
      "[0035/1000] - train loss: 5.833042144775391, valid loss: 20.66881561279297\n",
      "[0036/1000] - train loss: 5.8318071365356445, valid loss: 20.668970108032227\n",
      "[0037/1000] - train loss: 5.830613136291504, valid loss: 20.66881561279297\n",
      "[0038/1000] - train loss: 5.829383373260498, valid loss: 20.668651580810547\n",
      "[0039/1000] - train loss: 5.828248500823975, valid loss: 20.668107986450195\n",
      "[0040/1000] - train loss: 5.826977252960205, valid loss: 20.668066024780273\n",
      "[0041/1000] - train loss: 5.825864315032959, valid loss: 20.668380737304688\n",
      "[0042/1000] - train loss: 5.824686050415039, valid loss: 20.667552947998047\n",
      "[0043/1000] - train loss: 5.823413372039795, valid loss: 20.666126251220703\n",
      "[0044/1000] - train loss: 5.822052955627441, valid loss: 20.66501808166504\n",
      "[0045/1000] - train loss: 5.820785045623779, valid loss: 20.66376304626465\n",
      "[0046/1000] - train loss: 5.819643497467041, valid loss: 20.662824630737305\n",
      "[0047/1000] - train loss: 5.81842041015625, valid loss: 20.66254425048828\n",
      "[0048/1000] - train loss: 5.817149639129639, valid loss: 20.662460327148438\n",
      "[0049/1000] - train loss: 5.815942287445068, valid loss: 20.662458419799805\n",
      "[0050/1000] - train loss: 5.814479827880859, valid loss: 20.662065505981445\n",
      "[0051/1000] - train loss: 5.8131327629089355, valid loss: 20.661977767944336\n",
      "[0052/1000] - train loss: 5.811860084533691, valid loss: 20.66145133972168\n",
      "[0053/1000] - train loss: 5.8106184005737305, valid loss: 20.65983009338379\n",
      "[0054/1000] - train loss: 5.8093390464782715, valid loss: 20.65863609313965\n",
      "[0055/1000] - train loss: 5.808009147644043, valid loss: 20.657968521118164\n",
      "[0056/1000] - train loss: 5.806797981262207, valid loss: 20.658519744873047\n",
      "[0057/1000] - train loss: 5.805482387542725, valid loss: 20.65899085998535\n",
      "[0058/1000] - train loss: 5.8042755126953125, valid loss: 20.658145904541016\n",
      "[0059/1000] - train loss: 5.803032398223877, valid loss: 20.656435012817383\n",
      "[0060/1000] - train loss: 5.801600456237793, valid loss: 20.655624389648438\n",
      "[0061/1000] - train loss: 5.800342082977295, valid loss: 20.654699325561523\n",
      "[0062/1000] - train loss: 5.799163341522217, valid loss: 20.65353012084961\n",
      "[0063/1000] - train loss: 5.797935485839844, valid loss: 20.653623580932617\n",
      "[0064/1000] - train loss: 5.796602249145508, valid loss: 20.654569625854492\n",
      "[0065/1000] - train loss: 5.795201301574707, valid loss: 20.65506362915039\n",
      "[0066/1000] - train loss: 5.793935775756836, valid loss: 20.654794692993164\n",
      "[0067/1000] - train loss: 5.792759895324707, valid loss: 20.655040740966797\n",
      "[0068/1000] - train loss: 5.79143762588501, valid loss: 20.654815673828125\n",
      "[0069/1000] - train loss: 5.7901129722595215, valid loss: 20.65483283996582\n",
      "[0070/1000] - train loss: 5.788790702819824, valid loss: 20.655088424682617\n",
      "[0071/1000] - train loss: 5.787497520446777, valid loss: 20.65480613708496\n",
      "[0072/1000] - train loss: 5.786107540130615, valid loss: 20.654356002807617\n",
      "[0073/1000] - train loss: 5.78480863571167, valid loss: 20.65293312072754\n",
      "[0074/1000] - train loss: 5.783549785614014, valid loss: 20.652881622314453\n",
      "[0075/1000] - train loss: 5.782134056091309, valid loss: 20.653520584106445\n",
      "[0076/1000] - train loss: 5.780852794647217, valid loss: 20.653852462768555\n",
      "[0077/1000] - train loss: 5.779531478881836, valid loss: 20.653995513916016\n",
      "[0078/1000] - train loss: 5.778194427490234, valid loss: 20.65496063232422\n",
      "[0079/1000] - train loss: 5.776756763458252, valid loss: 20.65555191040039\n",
      "[0080/1000] - train loss: 5.775505065917969, valid loss: 20.655258178710938\n",
      "[0081/1000] - train loss: 5.774245262145996, valid loss: 20.654294967651367\n",
      "[0082/1000] - train loss: 5.772851467132568, valid loss: 20.653579711914062\n",
      "[0083/1000] - train loss: 5.771602630615234, valid loss: 20.652868270874023\n",
      "[0084/1000] - train loss: 5.770345687866211, valid loss: 20.65280532836914\n",
      "[0085/1000] - train loss: 5.769040107727051, valid loss: 20.65355682373047\n",
      "[0086/1000] - train loss: 5.767758369445801, valid loss: 20.654603958129883\n",
      "[0087/1000] - train loss: 5.766512870788574, valid loss: 20.654212951660156\n",
      "[0088/1000] - train loss: 5.765134811401367, valid loss: 20.65275764465332\n",
      "[0089/1000] - train loss: 5.763927936553955, valid loss: 20.651439666748047\n",
      "[0090/1000] - train loss: 5.7627081871032715, valid loss: 20.651010513305664\n",
      "[0091/1000] - train loss: 5.7613019943237305, valid loss: 20.65119171142578\n",
      "[0092/1000] - train loss: 5.759897232055664, valid loss: 20.65089988708496\n",
      "[0093/1000] - train loss: 5.758676528930664, valid loss: 20.650062561035156\n",
      "[0094/1000] - train loss: 5.757391452789307, valid loss: 20.649133682250977\n",
      "[0095/1000] - train loss: 5.756032943725586, valid loss: 20.64862632751465\n",
      "[0096/1000] - train loss: 5.754606246948242, valid loss: 20.649873733520508\n",
      "[0097/1000] - train loss: 5.753262519836426, valid loss: 20.650718688964844\n",
      "[0098/1000] - train loss: 5.751989364624023, valid loss: 20.650487899780273\n",
      "[0099/1000] - train loss: 5.750608444213867, valid loss: 20.64928436279297\n",
      "[0100/1000] - train loss: 5.749244689941406, valid loss: 20.64794158935547\n",
      "[0101/1000] - train loss: 5.74798059463501, valid loss: 20.64668083190918\n",
      "[0102/1000] - train loss: 5.746669769287109, valid loss: 20.64628791809082\n",
      "[0103/1000] - train loss: 5.745338439941406, valid loss: 20.64609146118164\n",
      "[0104/1000] - train loss: 5.743958950042725, valid loss: 20.644763946533203\n",
      "[0105/1000] - train loss: 5.7427144050598145, valid loss: 20.642135620117188\n",
      "[0106/1000] - train loss: 5.741429805755615, valid loss: 20.640560150146484\n",
      "[0107/1000] - train loss: 5.739987850189209, valid loss: 20.63886070251465\n",
      "[0108/1000] - train loss: 5.738663196563721, valid loss: 20.636993408203125\n",
      "[0109/1000] - train loss: 5.7373809814453125, valid loss: 20.634904861450195\n",
      "[0110/1000] - train loss: 5.736052989959717, valid loss: 20.633628845214844\n",
      "[0111/1000] - train loss: 5.73477029800415, valid loss: 20.6330623626709\n",
      "[0112/1000] - train loss: 5.733415126800537, valid loss: 20.6329345703125\n",
      "[0113/1000] - train loss: 5.7321648597717285, valid loss: 20.632183074951172\n",
      "[0114/1000] - train loss: 5.730833530426025, valid loss: 20.630687713623047\n",
      "[0115/1000] - train loss: 5.729519844055176, valid loss: 20.630233764648438\n",
      "[0116/1000] - train loss: 5.728135108947754, valid loss: 20.6299991607666\n",
      "[0117/1000] - train loss: 5.726932525634766, valid loss: 20.629863739013672\n",
      "[0118/1000] - train loss: 5.725687503814697, valid loss: 20.628881454467773\n",
      "[0119/1000] - train loss: 5.724218845367432, valid loss: 20.627761840820312\n",
      "[0120/1000] - train loss: 5.722896099090576, valid loss: 20.6274471282959\n",
      "[0121/1000] - train loss: 5.721513271331787, valid loss: 20.627904891967773\n",
      "[0122/1000] - train loss: 5.720330715179443, valid loss: 20.628637313842773\n",
      "[0123/1000] - train loss: 5.719027519226074, valid loss: 20.62903594970703\n",
      "[0124/1000] - train loss: 5.717621803283691, valid loss: 20.62856674194336\n",
      "[0125/1000] - train loss: 5.716339588165283, valid loss: 20.629255294799805\n",
      "[0126/1000] - train loss: 5.7151665687561035, valid loss: 20.630884170532227\n",
      "[0127/1000] - train loss: 5.713801383972168, valid loss: 20.631967544555664\n",
      "[0128/1000] - train loss: 5.712538242340088, valid loss: 20.63147735595703\n",
      "[0129/1000] - train loss: 5.711275100708008, valid loss: 20.62955665588379\n",
      "[0130/1000] - train loss: 5.710051536560059, valid loss: 20.628040313720703\n",
      "[0131/1000] - train loss: 5.708744525909424, valid loss: 20.627695083618164\n",
      "[0132/1000] - train loss: 5.7074971199035645, valid loss: 20.627666473388672\n",
      "[0133/1000] - train loss: 5.70615816116333, valid loss: 20.629255294799805\n",
      "[0134/1000] - train loss: 5.705013275146484, valid loss: 20.630840301513672\n",
      "[0135/1000] - train loss: 5.703812122344971, valid loss: 20.631444931030273\n",
      "[0136/1000] - train loss: 5.702505111694336, valid loss: 20.63143539428711\n",
      "[0137/1000] - train loss: 5.701284408569336, valid loss: 20.631534576416016\n",
      "[0138/1000] - train loss: 5.7000579833984375, valid loss: 20.63106918334961\n",
      "[0139/1000] - train loss: 5.69873571395874, valid loss: 20.63017463684082\n",
      "[0140/1000] - train loss: 5.697404384613037, valid loss: 20.628372192382812\n",
      "[0141/1000] - train loss: 5.696064472198486, valid loss: 20.625844955444336\n",
      "[0142/1000] - train loss: 5.6947197914123535, valid loss: 20.623559951782227\n",
      "[0143/1000] - train loss: 5.693356513977051, valid loss: 20.620351791381836\n",
      "[0144/1000] - train loss: 5.692010402679443, valid loss: 20.616527557373047\n",
      "[0145/1000] - train loss: 5.6907477378845215, valid loss: 20.6127986907959\n",
      "[0146/1000] - train loss: 5.689530849456787, valid loss: 20.609825134277344\n",
      "[0147/1000] - train loss: 5.6880645751953125, valid loss: 20.607309341430664\n",
      "[0148/1000] - train loss: 5.686714172363281, valid loss: 20.605300903320312\n",
      "[0149/1000] - train loss: 5.685342788696289, valid loss: 20.602340698242188\n",
      "[0150/1000] - train loss: 5.684043884277344, valid loss: 20.598482131958008\n",
      "[0151/1000] - train loss: 5.682675838470459, valid loss: 20.594663619995117\n",
      "[0152/1000] - train loss: 5.681375980377197, valid loss: 20.591617584228516\n",
      "[0153/1000] - train loss: 5.680020332336426, valid loss: 20.588876724243164\n",
      "[0154/1000] - train loss: 5.678642749786377, valid loss: 20.586639404296875\n",
      "[0155/1000] - train loss: 5.677286148071289, valid loss: 20.584089279174805\n",
      "[0156/1000] - train loss: 5.6759514808654785, valid loss: 20.5817813873291\n",
      "[0157/1000] - train loss: 5.674603462219238, valid loss: 20.578882217407227\n",
      "[0158/1000] - train loss: 5.673411846160889, valid loss: 20.576669692993164\n",
      "[0159/1000] - train loss: 5.671931743621826, valid loss: 20.575511932373047\n",
      "[0160/1000] - train loss: 5.670557498931885, valid loss: 20.574077606201172\n",
      "[0161/1000] - train loss: 5.6692214012146, valid loss: 20.57326889038086\n",
      "[0162/1000] - train loss: 5.667860507965088, valid loss: 20.571680068969727\n",
      "[0163/1000] - train loss: 5.666450500488281, valid loss: 20.56991195678711\n",
      "[0164/1000] - train loss: 5.66508674621582, valid loss: 20.56802749633789\n",
      "[0165/1000] - train loss: 5.6637468338012695, valid loss: 20.56642723083496\n",
      "[0166/1000] - train loss: 5.662283897399902, valid loss: 20.565160751342773\n",
      "[0167/1000] - train loss: 5.6608710289001465, valid loss: 20.564151763916016\n",
      "[0168/1000] - train loss: 5.659512042999268, valid loss: 20.563400268554688\n",
      "[0169/1000] - train loss: 5.658031463623047, valid loss: 20.562026977539062\n",
      "[0170/1000] - train loss: 5.656665325164795, valid loss: 20.5611572265625\n",
      "[0171/1000] - train loss: 5.655308723449707, valid loss: 20.5603084564209\n",
      "[0172/1000] - train loss: 5.653873443603516, valid loss: 20.559497833251953\n",
      "[0173/1000] - train loss: 5.6524658203125, valid loss: 20.559179306030273\n",
      "[0174/1000] - train loss: 5.651084899902344, valid loss: 20.558189392089844\n",
      "[0175/1000] - train loss: 5.6496381759643555, valid loss: 20.55692481994629\n",
      "[0176/1000] - train loss: 5.648349761962891, valid loss: 20.5567626953125\n",
      "[0177/1000] - train loss: 5.646830081939697, valid loss: 20.55683708190918\n",
      "[0178/1000] - train loss: 5.645350456237793, valid loss: 20.556520462036133\n",
      "[0179/1000] - train loss: 5.643975734710693, valid loss: 20.55638885498047\n",
      "[0180/1000] - train loss: 5.6426262855529785, valid loss: 20.556331634521484\n",
      "[0181/1000] - train loss: 5.641199111938477, valid loss: 20.556198120117188\n",
      "[0182/1000] - train loss: 5.639888763427734, valid loss: 20.55645179748535\n",
      "[0183/1000] - train loss: 5.638474464416504, valid loss: 20.556407928466797\n",
      "[0184/1000] - train loss: 5.637071132659912, valid loss: 20.556398391723633\n",
      "[0185/1000] - train loss: 5.635599613189697, valid loss: 20.556825637817383\n",
      "[0186/1000] - train loss: 5.634291648864746, valid loss: 20.55797576904297\n",
      "[0187/1000] - train loss: 5.6329569816589355, valid loss: 20.558116912841797\n",
      "[0188/1000] - train loss: 5.631555080413818, valid loss: 20.55791473388672\n",
      "[0189/1000] - train loss: 5.630147933959961, valid loss: 20.557504653930664\n",
      "[0190/1000] - train loss: 5.628804683685303, valid loss: 20.558069229125977\n",
      "[0191/1000] - train loss: 5.627501010894775, valid loss: 20.557876586914062\n",
      "[0192/1000] - train loss: 5.626141548156738, valid loss: 20.55769920349121\n",
      "[0193/1000] - train loss: 5.624842643737793, valid loss: 20.556909561157227\n",
      "[0194/1000] - train loss: 5.623595714569092, valid loss: 20.554994583129883\n",
      "[0195/1000] - train loss: 5.622430324554443, valid loss: 20.553577423095703\n",
      "[0196/1000] - train loss: 5.62101411819458, valid loss: 20.551008224487305\n",
      "[0197/1000] - train loss: 5.61961555480957, valid loss: 20.54829978942871\n",
      "[0198/1000] - train loss: 5.618473529815674, valid loss: 20.545970916748047\n",
      "[0199/1000] - train loss: 5.617177963256836, valid loss: 20.544052124023438\n",
      "[0200/1000] - train loss: 5.615772724151611, valid loss: 20.542612075805664\n",
      "[0201/1000] - train loss: 5.61444091796875, valid loss: 20.540515899658203\n",
      "[0202/1000] - train loss: 5.6131205558776855, valid loss: 20.53866958618164\n",
      "[0203/1000] - train loss: 5.611838340759277, valid loss: 20.53719711303711\n",
      "[0204/1000] - train loss: 5.6105546951293945, valid loss: 20.536827087402344\n",
      "[0205/1000] - train loss: 5.609325408935547, valid loss: 20.5361385345459\n",
      "[0206/1000] - train loss: 5.608039855957031, valid loss: 20.53539276123047\n",
      "[0207/1000] - train loss: 5.606791973114014, valid loss: 20.534751892089844\n",
      "[0208/1000] - train loss: 5.605570316314697, valid loss: 20.53398895263672\n",
      "[0209/1000] - train loss: 5.604315757751465, valid loss: 20.533124923706055\n",
      "[0210/1000] - train loss: 5.603063106536865, valid loss: 20.53367042541504\n",
      "[0211/1000] - train loss: 5.601756572723389, valid loss: 20.533538818359375\n",
      "[0212/1000] - train loss: 5.60057258605957, valid loss: 20.53331756591797\n",
      "[0213/1000] - train loss: 5.599374771118164, valid loss: 20.53223419189453\n",
      "[0214/1000] - train loss: 5.598081111907959, valid loss: 20.53032112121582\n",
      "[0215/1000] - train loss: 5.596846580505371, valid loss: 20.52861213684082\n",
      "[0216/1000] - train loss: 5.5956807136535645, valid loss: 20.527509689331055\n",
      "[0217/1000] - train loss: 5.594474792480469, valid loss: 20.527605056762695\n",
      "[0218/1000] - train loss: 5.593322277069092, valid loss: 20.52640151977539\n",
      "[0219/1000] - train loss: 5.59220552444458, valid loss: 20.524892807006836\n",
      "[0220/1000] - train loss: 5.590939521789551, valid loss: 20.522680282592773\n",
      "[0221/1000] - train loss: 5.589837074279785, valid loss: 20.521154403686523\n",
      "[0222/1000] - train loss: 5.588788032531738, valid loss: 20.52011489868164\n",
      "[0223/1000] - train loss: 5.587492942810059, valid loss: 20.51895523071289\n",
      "[0224/1000] - train loss: 5.586258411407471, valid loss: 20.51801109313965\n",
      "[0225/1000] - train loss: 5.58521842956543, valid loss: 20.51582908630371\n",
      "[0226/1000] - train loss: 5.584059238433838, valid loss: 20.51276397705078\n",
      "[0227/1000] - train loss: 5.582860946655273, valid loss: 20.508682250976562\n",
      "[0228/1000] - train loss: 5.581672668457031, valid loss: 20.506650924682617\n",
      "[0229/1000] - train loss: 5.580571174621582, valid loss: 20.505474090576172\n",
      "[0230/1000] - train loss: 5.579432487487793, valid loss: 20.505998611450195\n",
      "[0231/1000] - train loss: 5.578232765197754, valid loss: 20.506187438964844\n",
      "[0232/1000] - train loss: 5.577088832855225, valid loss: 20.505449295043945\n",
      "[0233/1000] - train loss: 5.575986862182617, valid loss: 20.503358840942383\n",
      "[0234/1000] - train loss: 5.574835777282715, valid loss: 20.500852584838867\n",
      "[0235/1000] - train loss: 5.573673725128174, valid loss: 20.499086380004883\n",
      "[0236/1000] - train loss: 5.572571277618408, valid loss: 20.497127532958984\n",
      "[0237/1000] - train loss: 5.57147216796875, valid loss: 20.49545669555664\n",
      "[0238/1000] - train loss: 5.570367336273193, valid loss: 20.49367332458496\n",
      "[0239/1000] - train loss: 5.569238662719727, valid loss: 20.492197036743164\n",
      "[0240/1000] - train loss: 5.567902088165283, valid loss: 20.491304397583008\n",
      "[0241/1000] - train loss: 5.566565990447998, valid loss: 20.490575790405273\n",
      "[0242/1000] - train loss: 5.56525182723999, valid loss: 20.48969078063965\n",
      "[0243/1000] - train loss: 5.563923358917236, valid loss: 20.488441467285156\n",
      "[0244/1000] - train loss: 5.5624189376831055, valid loss: 20.486730575561523\n",
      "[0245/1000] - train loss: 5.561157703399658, valid loss: 20.485902786254883\n",
      "[0246/1000] - train loss: 5.559957027435303, valid loss: 20.484901428222656\n",
      "[0247/1000] - train loss: 5.558444023132324, valid loss: 20.4840030670166\n",
      "[0248/1000] - train loss: 5.5571136474609375, valid loss: 20.48295783996582\n",
      "[0249/1000] - train loss: 5.555856704711914, valid loss: 20.48166847229004\n",
      "[0250/1000] - train loss: 5.554445743560791, valid loss: 20.478775024414062\n",
      "[0251/1000] - train loss: 5.55311393737793, valid loss: 20.47566032409668\n",
      "[0252/1000] - train loss: 5.5518479347229, valid loss: 20.473695755004883\n",
      "[0253/1000] - train loss: 5.550559043884277, valid loss: 20.472936630249023\n",
      "[0254/1000] - train loss: 5.549293041229248, valid loss: 20.471529006958008\n",
      "[0255/1000] - train loss: 5.5479021072387695, valid loss: 20.4691104888916\n",
      "[0256/1000] - train loss: 5.546561241149902, valid loss: 20.465417861938477\n",
      "[0257/1000] - train loss: 5.545238494873047, valid loss: 20.461227416992188\n",
      "[0258/1000] - train loss: 5.543982982635498, valid loss: 20.458637237548828\n",
      "[0259/1000] - train loss: 5.542776107788086, valid loss: 20.45862579345703\n",
      "[0260/1000] - train loss: 5.541378021240234, valid loss: 20.458906173706055\n",
      "[0261/1000] - train loss: 5.540153980255127, valid loss: 20.459197998046875\n",
      "[0262/1000] - train loss: 5.53880500793457, valid loss: 20.45821762084961\n",
      "[0263/1000] - train loss: 5.53754186630249, valid loss: 20.456449508666992\n",
      "[0264/1000] - train loss: 5.536252975463867, valid loss: 20.45452117919922\n",
      "[0265/1000] - train loss: 5.53495454788208, valid loss: 20.451765060424805\n",
      "[0266/1000] - train loss: 5.533654689788818, valid loss: 20.448583602905273\n",
      "[0267/1000] - train loss: 5.532276630401611, valid loss: 20.445940017700195\n",
      "[0268/1000] - train loss: 5.530773162841797, valid loss: 20.44356346130371\n",
      "[0269/1000] - train loss: 5.529543399810791, valid loss: 20.442852020263672\n",
      "[0270/1000] - train loss: 5.528189659118652, valid loss: 20.441762924194336\n",
      "[0271/1000] - train loss: 5.526803016662598, valid loss: 20.440099716186523\n",
      "[0272/1000] - train loss: 5.525420665740967, valid loss: 20.43865394592285\n",
      "[0273/1000] - train loss: 5.524163722991943, valid loss: 20.43767547607422\n",
      "[0274/1000] - train loss: 5.522839069366455, valid loss: 20.43673324584961\n",
      "[0275/1000] - train loss: 5.5214996337890625, valid loss: 20.434423446655273\n",
      "[0276/1000] - train loss: 5.520096778869629, valid loss: 20.43071746826172\n",
      "[0277/1000] - train loss: 5.5186614990234375, valid loss: 20.426986694335938\n",
      "[0278/1000] - train loss: 5.517300605773926, valid loss: 20.42441177368164\n",
      "[0279/1000] - train loss: 5.515989780426025, valid loss: 20.4221134185791\n",
      "[0280/1000] - train loss: 5.514628887176514, valid loss: 20.42129135131836\n",
      "[0281/1000] - train loss: 5.5132856369018555, valid loss: 20.419620513916016\n",
      "[0282/1000] - train loss: 5.511918067932129, valid loss: 20.41797637939453\n",
      "[0283/1000] - train loss: 5.510545253753662, valid loss: 20.4153995513916\n",
      "[0284/1000] - train loss: 5.509178638458252, valid loss: 20.412948608398438\n",
      "[0285/1000] - train loss: 5.507810592651367, valid loss: 20.410606384277344\n",
      "[0286/1000] - train loss: 5.506467819213867, valid loss: 20.408485412597656\n",
      "[0287/1000] - train loss: 5.505029201507568, valid loss: 20.406944274902344\n",
      "[0288/1000] - train loss: 5.5037736892700195, valid loss: 20.405948638916016\n",
      "[0289/1000] - train loss: 5.502438545227051, valid loss: 20.405960083007812\n",
      "[0290/1000] - train loss: 5.501090049743652, valid loss: 20.405517578125\n",
      "[0291/1000] - train loss: 5.4998273849487305, valid loss: 20.40374183654785\n",
      "[0292/1000] - train loss: 5.498381614685059, valid loss: 20.400632858276367\n",
      "[0293/1000] - train loss: 5.497102737426758, valid loss: 20.396501541137695\n",
      "[0294/1000] - train loss: 5.495795249938965, valid loss: 20.392778396606445\n",
      "[0295/1000] - train loss: 5.494521141052246, valid loss: 20.39106559753418\n",
      "[0296/1000] - train loss: 5.493229866027832, valid loss: 20.39021110534668\n",
      "[0297/1000] - train loss: 5.491850852966309, valid loss: 20.38998794555664\n",
      "[0298/1000] - train loss: 5.490549087524414, valid loss: 20.38974952697754\n",
      "[0299/1000] - train loss: 5.489312648773193, valid loss: 20.38931655883789\n",
      "[0300/1000] - train loss: 5.4880828857421875, valid loss: 20.388307571411133\n",
      "[0301/1000] - train loss: 5.486721515655518, valid loss: 20.386079788208008\n",
      "[0302/1000] - train loss: 5.485357761383057, valid loss: 20.38251495361328\n",
      "[0303/1000] - train loss: 5.4841790199279785, valid loss: 20.379470825195312\n",
      "[0304/1000] - train loss: 5.482906341552734, valid loss: 20.378437042236328\n",
      "[0305/1000] - train loss: 5.4814772605896, valid loss: 20.3781681060791\n",
      "[0306/1000] - train loss: 5.480088233947754, valid loss: 20.378280639648438\n",
      "[0307/1000] - train loss: 5.478789806365967, valid loss: 20.37847137451172\n",
      "[0308/1000] - train loss: 5.477400779724121, valid loss: 20.378406524658203\n",
      "[0309/1000] - train loss: 5.476065158843994, valid loss: 20.377649307250977\n",
      "[0310/1000] - train loss: 5.474735736846924, valid loss: 20.37622833251953\n",
      "[0311/1000] - train loss: 5.473333835601807, valid loss: 20.37454605102539\n",
      "[0312/1000] - train loss: 5.472015857696533, valid loss: 20.37244415283203\n",
      "[0313/1000] - train loss: 5.470743179321289, valid loss: 20.370708465576172\n",
      "[0314/1000] - train loss: 5.469468593597412, valid loss: 20.369356155395508\n",
      "[0315/1000] - train loss: 5.468104362487793, valid loss: 20.36846351623535\n",
      "[0316/1000] - train loss: 5.466660499572754, valid loss: 20.368879318237305\n",
      "[0317/1000] - train loss: 5.465450286865234, valid loss: 20.369037628173828\n",
      "[0318/1000] - train loss: 5.464197635650635, valid loss: 20.36894416809082\n",
      "[0319/1000] - train loss: 5.462838172912598, valid loss: 20.367340087890625\n",
      "[0320/1000] - train loss: 5.461484909057617, valid loss: 20.364606857299805\n",
      "[0321/1000] - train loss: 5.459984302520752, valid loss: 20.36121368408203\n",
      "[0322/1000] - train loss: 5.45878791809082, valid loss: 20.358959197998047\n",
      "[0323/1000] - train loss: 5.457607746124268, valid loss: 20.35776138305664\n",
      "[0324/1000] - train loss: 5.456274032592773, valid loss: 20.357440948486328\n",
      "[0325/1000] - train loss: 5.454888343811035, valid loss: 20.35781478881836\n",
      "[0326/1000] - train loss: 5.453457832336426, valid loss: 20.357728958129883\n",
      "[0327/1000] - train loss: 5.452229022979736, valid loss: 20.35725975036621\n",
      "[0328/1000] - train loss: 5.45092248916626, valid loss: 20.356096267700195\n",
      "[0329/1000] - train loss: 5.449577331542969, valid loss: 20.353832244873047\n",
      "[0330/1000] - train loss: 5.448219299316406, valid loss: 20.3515682220459\n",
      "[0331/1000] - train loss: 5.446836948394775, valid loss: 20.350135803222656\n",
      "[0332/1000] - train loss: 5.4453630447387695, valid loss: 20.34907341003418\n",
      "[0333/1000] - train loss: 5.44392728805542, valid loss: 20.348264694213867\n",
      "[0334/1000] - train loss: 5.442567825317383, valid loss: 20.347713470458984\n",
      "[0335/1000] - train loss: 5.441109657287598, valid loss: 20.347183227539062\n",
      "[0336/1000] - train loss: 5.439703941345215, valid loss: 20.34615135192871\n",
      "[0337/1000] - train loss: 5.438256740570068, valid loss: 20.344676971435547\n",
      "[0338/1000] - train loss: 5.436722278594971, valid loss: 20.34354019165039\n",
      "[0339/1000] - train loss: 5.435485363006592, valid loss: 20.343061447143555\n",
      "[0340/1000] - train loss: 5.434154510498047, valid loss: 20.34278106689453\n",
      "[0341/1000] - train loss: 5.432736873626709, valid loss: 20.342418670654297\n",
      "[0342/1000] - train loss: 5.431122303009033, valid loss: 20.341938018798828\n",
      "[0343/1000] - train loss: 5.42974853515625, valid loss: 20.34099769592285\n",
      "[0344/1000] - train loss: 5.428403854370117, valid loss: 20.339813232421875\n",
      "[0345/1000] - train loss: 5.426924228668213, valid loss: 20.337976455688477\n",
      "[0346/1000] - train loss: 5.42544412612915, valid loss: 20.337278366088867\n",
      "[0347/1000] - train loss: 5.424045085906982, valid loss: 20.337034225463867\n",
      "[0348/1000] - train loss: 5.422638416290283, valid loss: 20.33662986755371\n",
      "[0349/1000] - train loss: 5.4212870597839355, valid loss: 20.336124420166016\n",
      "[0350/1000] - train loss: 5.419906139373779, valid loss: 20.33545684814453\n",
      "[0351/1000] - train loss: 5.418542385101318, valid loss: 20.334184646606445\n",
      "[0352/1000] - train loss: 5.4171929359436035, valid loss: 20.332368850708008\n",
      "[0353/1000] - train loss: 5.415744304656982, valid loss: 20.330875396728516\n",
      "[0354/1000] - train loss: 5.414385795593262, valid loss: 20.329748153686523\n",
      "[0355/1000] - train loss: 5.4129791259765625, valid loss: 20.328704833984375\n",
      "[0356/1000] - train loss: 5.411501884460449, valid loss: 20.328271865844727\n",
      "[0357/1000] - train loss: 5.410153388977051, valid loss: 20.326793670654297\n",
      "[0358/1000] - train loss: 5.408698558807373, valid loss: 20.324005126953125\n",
      "[0359/1000] - train loss: 5.407115459442139, valid loss: 20.320741653442383\n",
      "[0360/1000] - train loss: 5.405664443969727, valid loss: 20.318822860717773\n",
      "[0361/1000] - train loss: 5.40423583984375, valid loss: 20.317747116088867\n",
      "[0362/1000] - train loss: 5.402796268463135, valid loss: 20.315580368041992\n",
      "[0363/1000] - train loss: 5.401315212249756, valid loss: 20.312902450561523\n",
      "[0364/1000] - train loss: 5.399872303009033, valid loss: 20.309741973876953\n",
      "[0365/1000] - train loss: 5.398494243621826, valid loss: 20.307205200195312\n",
      "[0366/1000] - train loss: 5.397058486938477, valid loss: 20.304386138916016\n",
      "[0367/1000] - train loss: 5.395698547363281, valid loss: 20.301149368286133\n",
      "[0368/1000] - train loss: 5.394319534301758, valid loss: 20.298919677734375\n",
      "[0369/1000] - train loss: 5.393083095550537, valid loss: 20.298404693603516\n",
      "[0370/1000] - train loss: 5.391653060913086, valid loss: 20.297075271606445\n",
      "[0371/1000] - train loss: 5.390290260314941, valid loss: 20.296144485473633\n",
      "[0372/1000] - train loss: 5.388926982879639, valid loss: 20.295547485351562\n",
      "[0373/1000] - train loss: 5.387598037719727, valid loss: 20.294567108154297\n",
      "[0374/1000] - train loss: 5.386315822601318, valid loss: 20.292612075805664\n",
      "[0375/1000] - train loss: 5.385026454925537, valid loss: 20.290451049804688\n",
      "[0376/1000] - train loss: 5.383613586425781, valid loss: 20.288469314575195\n",
      "[0377/1000] - train loss: 5.382206916809082, valid loss: 20.28620719909668\n",
      "[0378/1000] - train loss: 5.380826950073242, valid loss: 20.283727645874023\n",
      "[0379/1000] - train loss: 5.379505634307861, valid loss: 20.2807559967041\n",
      "[0380/1000] - train loss: 5.378197193145752, valid loss: 20.279008865356445\n",
      "[0381/1000] - train loss: 5.376846790313721, valid loss: 20.277759552001953\n",
      "[0382/1000] - train loss: 5.375540733337402, valid loss: 20.276792526245117\n",
      "[0383/1000] - train loss: 5.3742356300354, valid loss: 20.275405883789062\n",
      "[0384/1000] - train loss: 5.372890949249268, valid loss: 20.274187088012695\n",
      "[0385/1000] - train loss: 5.371622085571289, valid loss: 20.272336959838867\n",
      "[0386/1000] - train loss: 5.3702850341796875, valid loss: 20.270565032958984\n",
      "[0387/1000] - train loss: 5.368922233581543, valid loss: 20.26862144470215\n",
      "[0388/1000] - train loss: 5.367740631103516, valid loss: 20.267236709594727\n",
      "[0389/1000] - train loss: 5.3665008544921875, valid loss: 20.2670841217041\n",
      "[0390/1000] - train loss: 5.365094184875488, valid loss: 20.2668514251709\n",
      "[0391/1000] - train loss: 5.363964080810547, valid loss: 20.26619529724121\n",
      "[0392/1000] - train loss: 5.362729072570801, valid loss: 20.265165328979492\n",
      "[0393/1000] - train loss: 5.361470699310303, valid loss: 20.2648868560791\n",
      "[0394/1000] - train loss: 5.36024808883667, valid loss: 20.26406478881836\n",
      "[0395/1000] - train loss: 5.3590087890625, valid loss: 20.26393699645996\n",
      "[0396/1000] - train loss: 5.357663154602051, valid loss: 20.26264190673828\n",
      "[0397/1000] - train loss: 5.356485843658447, valid loss: 20.261606216430664\n",
      "[0398/1000] - train loss: 5.355262756347656, valid loss: 20.260499954223633\n",
      "[0399/1000] - train loss: 5.354063510894775, valid loss: 20.259531021118164\n",
      "[0400/1000] - train loss: 5.352832794189453, valid loss: 20.25925636291504\n",
      "[0401/1000] - train loss: 5.351659297943115, valid loss: 20.25930404663086\n",
      "[0402/1000] - train loss: 5.35042142868042, valid loss: 20.258365631103516\n",
      "[0403/1000] - train loss: 5.349304676055908, valid loss: 20.256668090820312\n",
      "[0404/1000] - train loss: 5.348132610321045, valid loss: 20.254552841186523\n",
      "[0405/1000] - train loss: 5.34689474105835, valid loss: 20.252334594726562\n",
      "[0406/1000] - train loss: 5.345663070678711, valid loss: 20.251924514770508\n",
      "[0407/1000] - train loss: 5.344453811645508, valid loss: 20.251934051513672\n",
      "[0408/1000] - train loss: 5.343269348144531, valid loss: 20.251474380493164\n",
      "[0409/1000] - train loss: 5.342170715332031, valid loss: 20.249984741210938\n",
      "[0410/1000] - train loss: 5.341102123260498, valid loss: 20.24873924255371\n",
      "[0411/1000] - train loss: 5.339907169342041, valid loss: 20.246767044067383\n",
      "[0412/1000] - train loss: 5.338649749755859, valid loss: 20.2446231842041\n",
      "[0413/1000] - train loss: 5.337532997131348, valid loss: 20.24151039123535\n",
      "[0414/1000] - train loss: 5.3364129066467285, valid loss: 20.2382869720459\n",
      "[0415/1000] - train loss: 5.335315227508545, valid loss: 20.236778259277344\n",
      "[0416/1000] - train loss: 5.334217071533203, valid loss: 20.23600196838379\n",
      "[0417/1000] - train loss: 5.333077430725098, valid loss: 20.2348575592041\n",
      "[0418/1000] - train loss: 5.331905364990234, valid loss: 20.232641220092773\n",
      "[0419/1000] - train loss: 5.330844879150391, valid loss: 20.230043411254883\n",
      "[0420/1000] - train loss: 5.329781532287598, valid loss: 20.227331161499023\n",
      "[0421/1000] - train loss: 5.328549385070801, valid loss: 20.224349975585938\n",
      "[0422/1000] - train loss: 5.327415943145752, valid loss: 20.221004486083984\n",
      "[0423/1000] - train loss: 5.326318264007568, valid loss: 20.21826171875\n",
      "[0424/1000] - train loss: 5.325170993804932, valid loss: 20.215866088867188\n",
      "[0425/1000] - train loss: 5.324175834655762, valid loss: 20.214771270751953\n",
      "[0426/1000] - train loss: 5.32306432723999, valid loss: 20.212270736694336\n",
      "[0427/1000] - train loss: 5.321834564208984, valid loss: 20.208715438842773\n",
      "[0428/1000] - train loss: 5.320730686187744, valid loss: 20.206066131591797\n",
      "[0429/1000] - train loss: 5.319633483886719, valid loss: 20.20369529724121\n",
      "[0430/1000] - train loss: 5.318614959716797, valid loss: 20.201372146606445\n",
      "[0431/1000] - train loss: 5.317483901977539, valid loss: 20.199230194091797\n",
      "[0432/1000] - train loss: 5.3162455558776855, valid loss: 20.197660446166992\n",
      "[0433/1000] - train loss: 5.315092086791992, valid loss: 20.198266983032227\n",
      "[0434/1000] - train loss: 5.313953399658203, valid loss: 20.197891235351562\n",
      "[0435/1000] - train loss: 5.312941551208496, valid loss: 20.197265625\n",
      "[0436/1000] - train loss: 5.31170654296875, valid loss: 20.19565773010254\n",
      "[0437/1000] - train loss: 5.310564994812012, valid loss: 20.192541122436523\n",
      "[0438/1000] - train loss: 5.30947732925415, valid loss: 20.189950942993164\n",
      "[0439/1000] - train loss: 5.308414936065674, valid loss: 20.188390731811523\n",
      "[0440/1000] - train loss: 5.307275295257568, valid loss: 20.187742233276367\n",
      "[0441/1000] - train loss: 5.306201934814453, valid loss: 20.187650680541992\n",
      "[0442/1000] - train loss: 5.304992198944092, valid loss: 20.189409255981445\n",
      "[0443/1000] - train loss: 5.3037519454956055, valid loss: 20.19000816345215\n",
      "[0444/1000] - train loss: 5.302824020385742, valid loss: 20.1890926361084\n",
      "[0445/1000] - train loss: 5.301794528961182, valid loss: 20.18695831298828\n",
      "[0446/1000] - train loss: 5.300714015960693, valid loss: 20.183998107910156\n",
      "[0447/1000] - train loss: 5.299522876739502, valid loss: 20.179426193237305\n",
      "[0448/1000] - train loss: 5.298295021057129, valid loss: 20.17446517944336\n",
      "[0449/1000] - train loss: 5.297299385070801, valid loss: 20.17155647277832\n",
      "[0450/1000] - train loss: 5.296239376068115, valid loss: 20.170732498168945\n",
      "[0451/1000] - train loss: 5.29503870010376, valid loss: 20.17171287536621\n",
      "[0452/1000] - train loss: 5.293872833251953, valid loss: 20.171894073486328\n",
      "[0453/1000] - train loss: 5.292807579040527, valid loss: 20.17056655883789\n",
      "[0454/1000] - train loss: 5.291719436645508, valid loss: 20.16868019104004\n",
      "[0455/1000] - train loss: 5.2905073165893555, valid loss: 20.166370391845703\n",
      "[0456/1000] - train loss: 5.2893218994140625, valid loss: 20.1640567779541\n",
      "[0457/1000] - train loss: 5.288283348083496, valid loss: 20.162418365478516\n",
      "[0458/1000] - train loss: 5.287213325500488, valid loss: 20.161195755004883\n",
      "[0459/1000] - train loss: 5.286055564880371, valid loss: 20.16013526916504\n",
      "[0460/1000] - train loss: 5.284801959991455, valid loss: 20.15815544128418\n",
      "[0461/1000] - train loss: 5.2837982177734375, valid loss: 20.15761947631836\n",
      "[0462/1000] - train loss: 5.282545566558838, valid loss: 20.156795501708984\n",
      "[0463/1000] - train loss: 5.281430244445801, valid loss: 20.1546573638916\n",
      "[0464/1000] - train loss: 5.280146598815918, valid loss: 20.15263557434082\n",
      "[0465/1000] - train loss: 5.2788472175598145, valid loss: 20.14995574951172\n",
      "[0466/1000] - train loss: 5.277530670166016, valid loss: 20.146663665771484\n",
      "[0467/1000] - train loss: 5.276213645935059, valid loss: 20.14365005493164\n",
      "[0468/1000] - train loss: 5.274837493896484, valid loss: 20.141508102416992\n",
      "[0469/1000] - train loss: 5.273487091064453, valid loss: 20.141748428344727\n",
      "[0470/1000] - train loss: 5.272087574005127, valid loss: 20.141143798828125\n",
      "[0471/1000] - train loss: 5.2707719802856445, valid loss: 20.139328002929688\n",
      "[0472/1000] - train loss: 5.269454002380371, valid loss: 20.135995864868164\n",
      "[0473/1000] - train loss: 5.268099784851074, valid loss: 20.13259506225586\n",
      "[0474/1000] - train loss: 5.26663064956665, valid loss: 20.13022804260254\n",
      "[0475/1000] - train loss: 5.265275478363037, valid loss: 20.128700256347656\n",
      "[0476/1000] - train loss: 5.26393461227417, valid loss: 20.127552032470703\n",
      "[0477/1000] - train loss: 5.262496471405029, valid loss: 20.126445770263672\n",
      "[0478/1000] - train loss: 5.261116981506348, valid loss: 20.123477935791016\n",
      "[0479/1000] - train loss: 5.259727954864502, valid loss: 20.121910095214844\n",
      "[0480/1000] - train loss: 5.2582197189331055, valid loss: 20.12002182006836\n",
      "[0481/1000] - train loss: 5.256938457489014, valid loss: 20.118011474609375\n",
      "[0482/1000] - train loss: 5.255505084991455, valid loss: 20.115209579467773\n",
      "[0483/1000] - train loss: 5.254142761230469, valid loss: 20.113386154174805\n",
      "[0484/1000] - train loss: 5.252708435058594, valid loss: 20.111940383911133\n",
      "[0485/1000] - train loss: 5.251362323760986, valid loss: 20.109987258911133\n",
      "[0486/1000] - train loss: 5.250024795532227, valid loss: 20.10782814025879\n",
      "[0487/1000] - train loss: 5.248714447021484, valid loss: 20.104698181152344\n",
      "[0488/1000] - train loss: 5.247463226318359, valid loss: 20.103429794311523\n",
      "[0489/1000] - train loss: 5.245941638946533, valid loss: 20.10159683227539\n",
      "[0490/1000] - train loss: 5.244483947753906, valid loss: 20.099367141723633\n",
      "[0491/1000] - train loss: 5.2431864738464355, valid loss: 20.097532272338867\n",
      "[0492/1000] - train loss: 5.241865634918213, valid loss: 20.095849990844727\n",
      "[0493/1000] - train loss: 5.240408897399902, valid loss: 20.093320846557617\n",
      "[0494/1000] - train loss: 5.238988399505615, valid loss: 20.09137725830078\n",
      "[0495/1000] - train loss: 5.237655162811279, valid loss: 20.088754653930664\n",
      "[0496/1000] - train loss: 5.2362380027771, valid loss: 20.086015701293945\n",
      "[0497/1000] - train loss: 5.23478364944458, valid loss: 20.082529067993164\n",
      "[0498/1000] - train loss: 5.233414173126221, valid loss: 20.078510284423828\n",
      "[0499/1000] - train loss: 5.2319488525390625, valid loss: 20.074737548828125\n",
      "[0500/1000] - train loss: 5.2305169105529785, valid loss: 20.073551177978516\n",
      "[0501/1000] - train loss: 5.229236602783203, valid loss: 20.072301864624023\n",
      "[0502/1000] - train loss: 5.227912902832031, valid loss: 20.071664810180664\n",
      "[0503/1000] - train loss: 5.226586818695068, valid loss: 20.071264266967773\n",
      "[0504/1000] - train loss: 5.225253105163574, valid loss: 20.069101333618164\n",
      "[0505/1000] - train loss: 5.223892688751221, valid loss: 20.06595802307129\n",
      "[0506/1000] - train loss: 5.222548007965088, valid loss: 20.06281280517578\n",
      "[0507/1000] - train loss: 5.221277713775635, valid loss: 20.061548233032227\n",
      "[0508/1000] - train loss: 5.21995735168457, valid loss: 20.06132698059082\n",
      "[0509/1000] - train loss: 5.218526363372803, valid loss: 20.06099510192871\n",
      "[0510/1000] - train loss: 5.217181205749512, valid loss: 20.06258773803711\n",
      "[0511/1000] - train loss: 5.215749740600586, valid loss: 20.062864303588867\n",
      "[0512/1000] - train loss: 5.214367389678955, valid loss: 20.060874938964844\n",
      "[0513/1000] - train loss: 5.213027000427246, valid loss: 20.057641983032227\n",
      "[0514/1000] - train loss: 5.211638450622559, valid loss: 20.054655075073242\n",
      "[0515/1000] - train loss: 5.210216045379639, valid loss: 20.052043914794922\n",
      "[0516/1000] - train loss: 5.208884239196777, valid loss: 20.050586700439453\n",
      "[0517/1000] - train loss: 5.207544326782227, valid loss: 20.049976348876953\n",
      "[0518/1000] - train loss: 5.206120014190674, valid loss: 20.05008316040039\n",
      "[0519/1000] - train loss: 5.20472526550293, valid loss: 20.048871994018555\n",
      "[0520/1000] - train loss: 5.203387260437012, valid loss: 20.047378540039062\n",
      "[0521/1000] - train loss: 5.202088832855225, valid loss: 20.045490264892578\n",
      "[0522/1000] - train loss: 5.200789928436279, valid loss: 20.045394897460938\n",
      "[0523/1000] - train loss: 5.1993842124938965, valid loss: 20.04470443725586\n",
      "[0524/1000] - train loss: 5.198109149932861, valid loss: 20.04357147216797\n",
      "[0525/1000] - train loss: 5.196786403656006, valid loss: 20.0434513092041\n",
      "[0526/1000] - train loss: 5.195436477661133, valid loss: 20.043041229248047\n",
      "[0527/1000] - train loss: 5.194033145904541, valid loss: 20.041900634765625\n",
      "[0528/1000] - train loss: 5.192692279815674, valid loss: 20.04006004333496\n",
      "[0529/1000] - train loss: 5.1914472579956055, valid loss: 20.039350509643555\n",
      "[0530/1000] - train loss: 5.1899871826171875, valid loss: 20.038036346435547\n",
      "[0531/1000] - train loss: 5.188838958740234, valid loss: 20.038312911987305\n",
      "[0532/1000] - train loss: 5.187607765197754, valid loss: 20.03900718688965\n",
      "[0533/1000] - train loss: 5.186177730560303, valid loss: 20.038816452026367\n",
      "[0534/1000] - train loss: 5.184943675994873, valid loss: 20.03866958618164\n",
      "[0535/1000] - train loss: 5.1837615966796875, valid loss: 20.038543701171875\n",
      "[0536/1000] - train loss: 5.182496547698975, valid loss: 20.038225173950195\n",
      "[0537/1000] - train loss: 5.1812310218811035, valid loss: 20.03638458251953\n",
      "[0538/1000] - train loss: 5.179826259613037, valid loss: 20.034236907958984\n",
      "[0539/1000] - train loss: 5.178528308868408, valid loss: 20.03268814086914\n",
      "[0540/1000] - train loss: 5.177216053009033, valid loss: 20.031890869140625\n",
      "[0541/1000] - train loss: 5.175930976867676, valid loss: 20.03130340576172\n",
      "[0542/1000] - train loss: 5.174726963043213, valid loss: 20.029699325561523\n",
      "[0543/1000] - train loss: 5.173473358154297, valid loss: 20.02975082397461\n",
      "[0544/1000] - train loss: 5.171981334686279, valid loss: 20.02898406982422\n",
      "[0545/1000] - train loss: 5.170712471008301, valid loss: 20.02802848815918\n",
      "[0546/1000] - train loss: 5.169432163238525, valid loss: 20.027273178100586\n",
      "[0547/1000] - train loss: 5.16816520690918, valid loss: 20.027036666870117\n",
      "[0548/1000] - train loss: 5.166815280914307, valid loss: 20.027109146118164\n",
      "[0549/1000] - train loss: 5.165338039398193, valid loss: 20.028078079223633\n",
      "[0550/1000] - train loss: 5.163999557495117, valid loss: 20.03092384338379\n",
      "[0551/1000] - train loss: 5.162650108337402, valid loss: 20.03266716003418\n",
      "[0552/1000] - train loss: 5.1612725257873535, valid loss: 20.03333854675293\n",
      "[0553/1000] - train loss: 5.159852504730225, valid loss: 20.034290313720703\n",
      "[0554/1000] - train loss: 5.158484935760498, valid loss: 20.035314559936523\n",
      "[0555/1000] - train loss: 5.157190322875977, valid loss: 20.035707473754883\n",
      "[0556/1000] - train loss: 5.155921459197998, valid loss: 20.036439895629883\n",
      "[0557/1000] - train loss: 5.154590129852295, valid loss: 20.0384464263916\n",
      "[0558/1000] - train loss: 5.153285026550293, valid loss: 20.0401611328125\n",
      "[0559/1000] - train loss: 5.151959419250488, valid loss: 20.040847778320312\n",
      "[0560/1000] - train loss: 5.150644302368164, valid loss: 20.040237426757812\n",
      "[0561/1000] - train loss: 5.149359703063965, valid loss: 20.03919219970703\n",
      "[0562/1000] - train loss: 5.148096561431885, valid loss: 20.039403915405273\n",
      "[0563/1000] - train loss: 5.146857738494873, valid loss: 20.039093017578125\n",
      "[0564/1000] - train loss: 5.145542144775391, valid loss: 20.037595748901367\n",
      "[0565/1000] - train loss: 5.144256114959717, valid loss: 20.03605079650879\n",
      "[0566/1000] - train loss: 5.1429643630981445, valid loss: 20.034217834472656\n",
      "[0567/1000] - train loss: 5.14172887802124, valid loss: 20.032085418701172\n",
      "[0568/1000] - train loss: 5.140471458435059, valid loss: 20.03102684020996\n",
      "[0569/1000] - train loss: 5.139213562011719, valid loss: 20.03046989440918\n",
      "[0570/1000] - train loss: 5.138002395629883, valid loss: 20.0302677154541\n",
      "[0571/1000] - train loss: 5.136790752410889, valid loss: 20.02965545654297\n",
      "[0572/1000] - train loss: 5.135556697845459, valid loss: 20.0301456451416\n",
      "[0573/1000] - train loss: 5.1341938972473145, valid loss: 20.030841827392578\n",
      "[0574/1000] - train loss: 5.133081912994385, valid loss: 20.031448364257812\n",
      "[0575/1000] - train loss: 5.131864547729492, valid loss: 20.031410217285156\n",
      "[0576/1000] - train loss: 5.130622863769531, valid loss: 20.03067970275879\n",
      "[0577/1000] - train loss: 5.129401206970215, valid loss: 20.02937126159668\n",
      "[0578/1000] - train loss: 5.1281633377075195, valid loss: 20.02764320373535\n",
      "[0579/1000] - train loss: 5.126905918121338, valid loss: 20.02576446533203\n",
      "[0580/1000] - train loss: 5.12559700012207, valid loss: 20.02419090270996\n",
      "[0581/1000] - train loss: 5.124420642852783, valid loss: 20.0240421295166\n",
      "[0582/1000] - train loss: 5.123232364654541, valid loss: 20.023523330688477\n",
      "[0583/1000] - train loss: 5.12202262878418, valid loss: 20.02322006225586\n",
      "[0584/1000] - train loss: 5.120784282684326, valid loss: 20.02219009399414\n",
      "[0585/1000] - train loss: 5.119434833526611, valid loss: 20.020679473876953\n",
      "[0586/1000] - train loss: 5.118159770965576, valid loss: 20.01828956604004\n",
      "[0587/1000] - train loss: 5.116957664489746, valid loss: 20.01549530029297\n",
      "[0588/1000] - train loss: 5.115650177001953, valid loss: 20.012012481689453\n",
      "[0589/1000] - train loss: 5.114335060119629, valid loss: 20.00751304626465\n",
      "[0590/1000] - train loss: 5.112978458404541, valid loss: 20.00271224975586\n",
      "[0591/1000] - train loss: 5.111761569976807, valid loss: 19.99793243408203\n",
      "[0592/1000] - train loss: 5.110568046569824, valid loss: 19.992076873779297\n",
      "[0593/1000] - train loss: 5.109302043914795, valid loss: 19.98640251159668\n",
      "[0594/1000] - train loss: 5.1079421043396, valid loss: 19.982933044433594\n",
      "[0595/1000] - train loss: 5.106717109680176, valid loss: 19.981233596801758\n",
      "[0596/1000] - train loss: 5.1056227684021, valid loss: 19.9808406829834\n",
      "[0597/1000] - train loss: 5.104272365570068, valid loss: 19.980087280273438\n",
      "[0598/1000] - train loss: 5.103017807006836, valid loss: 19.978620529174805\n",
      "[0599/1000] - train loss: 5.101729869842529, valid loss: 19.976457595825195\n",
      "[0600/1000] - train loss: 5.100438594818115, valid loss: 19.97382164001465\n",
      "[0601/1000] - train loss: 5.099177360534668, valid loss: 19.97127914428711\n",
      "[0602/1000] - train loss: 5.0979719161987305, valid loss: 19.97026824951172\n",
      "[0603/1000] - train loss: 5.096668243408203, valid loss: 19.96944236755371\n",
      "[0604/1000] - train loss: 5.09522819519043, valid loss: 19.968618392944336\n",
      "[0605/1000] - train loss: 5.094038963317871, valid loss: 19.96623992919922\n",
      "[0606/1000] - train loss: 5.092883586883545, valid loss: 19.964906692504883\n",
      "[0607/1000] - train loss: 5.091468811035156, valid loss: 19.963294982910156\n",
      "[0608/1000] - train loss: 5.090212821960449, valid loss: 19.961837768554688\n",
      "[0609/1000] - train loss: 5.088988780975342, valid loss: 19.96048927307129\n",
      "[0610/1000] - train loss: 5.087777614593506, valid loss: 19.95828628540039\n",
      "[0611/1000] - train loss: 5.086522579193115, valid loss: 19.955976486206055\n",
      "[0612/1000] - train loss: 5.085316181182861, valid loss: 19.95477867126465\n",
      "[0613/1000] - train loss: 5.083973407745361, valid loss: 19.95448875427246\n",
      "[0614/1000] - train loss: 5.082679748535156, valid loss: 19.95229721069336\n",
      "[0615/1000] - train loss: 5.081505298614502, valid loss: 19.94882583618164\n",
      "[0616/1000] - train loss: 5.080190658569336, valid loss: 19.945280075073242\n",
      "[0617/1000] - train loss: 5.078918933868408, valid loss: 19.941513061523438\n",
      "[0618/1000] - train loss: 5.077740669250488, valid loss: 19.93842124938965\n",
      "[0619/1000] - train loss: 5.076576232910156, valid loss: 19.937515258789062\n",
      "[0620/1000] - train loss: 5.075199604034424, valid loss: 19.93683433532715\n",
      "[0621/1000] - train loss: 5.0740742683410645, valid loss: 19.936338424682617\n",
      "[0622/1000] - train loss: 5.072871208190918, valid loss: 19.93465232849121\n",
      "[0623/1000] - train loss: 5.071632385253906, valid loss: 19.931671142578125\n",
      "[0624/1000] - train loss: 5.070423126220703, valid loss: 19.92961883544922\n",
      "[0625/1000] - train loss: 5.069215774536133, valid loss: 19.928754806518555\n",
      "[0626/1000] - train loss: 5.068042278289795, valid loss: 19.928205490112305\n",
      "[0627/1000] - train loss: 5.066884517669678, valid loss: 19.926591873168945\n",
      "[0628/1000] - train loss: 5.065670013427734, valid loss: 19.92427635192871\n",
      "[0629/1000] - train loss: 5.064486503601074, valid loss: 19.922130584716797\n",
      "[0630/1000] - train loss: 5.063358306884766, valid loss: 19.921669006347656\n",
      "[0631/1000] - train loss: 5.062125205993652, valid loss: 19.920623779296875\n",
      "[0632/1000] - train loss: 5.061022758483887, valid loss: 19.91916847229004\n",
      "[0633/1000] - train loss: 5.0598859786987305, valid loss: 19.917795181274414\n",
      "[0634/1000] - train loss: 5.058704853057861, valid loss: 19.91625213623047\n",
      "[0635/1000] - train loss: 5.0575175285339355, valid loss: 19.914657592773438\n",
      "[0636/1000] - train loss: 5.05642557144165, valid loss: 19.91339874267578\n",
      "[0637/1000] - train loss: 5.05523157119751, valid loss: 19.912782669067383\n",
      "[0638/1000] - train loss: 5.054018020629883, valid loss: 19.91103172302246\n",
      "[0639/1000] - train loss: 5.052929878234863, valid loss: 19.90831184387207\n",
      "[0640/1000] - train loss: 5.051851272583008, valid loss: 19.90651512145996\n",
      "[0641/1000] - train loss: 5.050742149353027, valid loss: 19.904138565063477\n",
      "[0642/1000] - train loss: 5.049513339996338, valid loss: 19.902233123779297\n",
      "[0643/1000] - train loss: 5.048402786254883, valid loss: 19.90177345275879\n",
      "[0644/1000] - train loss: 5.04734468460083, valid loss: 19.902286529541016\n",
      "[0645/1000] - train loss: 5.0462965965271, valid loss: 19.902002334594727\n",
      "[0646/1000] - train loss: 5.045124053955078, valid loss: 19.89993667602539\n",
      "[0647/1000] - train loss: 5.044003963470459, valid loss: 19.897336959838867\n",
      "[0648/1000] - train loss: 5.042918682098389, valid loss: 19.89557456970215\n",
      "[0649/1000] - train loss: 5.041792392730713, valid loss: 19.894989013671875\n",
      "[0650/1000] - train loss: 5.040694236755371, valid loss: 19.895273208618164\n",
      "[0651/1000] - train loss: 5.039534091949463, valid loss: 19.89427947998047\n",
      "[0652/1000] - train loss: 5.038418292999268, valid loss: 19.891321182250977\n",
      "[0653/1000] - train loss: 5.0373711585998535, valid loss: 19.889589309692383\n",
      "[0654/1000] - train loss: 5.0361151695251465, valid loss: 19.888198852539062\n",
      "[0655/1000] - train loss: 5.03508186340332, valid loss: 19.886688232421875\n",
      "[0656/1000] - train loss: 5.034114837646484, valid loss: 19.88528060913086\n",
      "[0657/1000] - train loss: 5.032898902893066, valid loss: 19.8837833404541\n",
      "[0658/1000] - train loss: 5.031777381896973, valid loss: 19.88268280029297\n",
      "[0659/1000] - train loss: 5.030749797821045, valid loss: 19.8814754486084\n",
      "[0660/1000] - train loss: 5.029764175415039, valid loss: 19.878782272338867\n",
      "[0661/1000] - train loss: 5.028603553771973, valid loss: 19.875951766967773\n",
      "[0662/1000] - train loss: 5.027475357055664, valid loss: 19.87306785583496\n",
      "[0663/1000] - train loss: 5.026412010192871, valid loss: 19.87203598022461\n",
      "[0664/1000] - train loss: 5.0253143310546875, valid loss: 19.8708438873291\n",
      "[0665/1000] - train loss: 5.024213790893555, valid loss: 19.869098663330078\n",
      "[0666/1000] - train loss: 5.023189067840576, valid loss: 19.867826461791992\n",
      "[0667/1000] - train loss: 5.0222015380859375, valid loss: 19.86551284790039\n",
      "[0668/1000] - train loss: 5.021091461181641, valid loss: 19.86300277709961\n",
      "[0669/1000] - train loss: 5.019979000091553, valid loss: 19.859819412231445\n",
      "[0670/1000] - train loss: 5.018880367279053, valid loss: 19.856395721435547\n",
      "[0671/1000] - train loss: 5.01784086227417, valid loss: 19.85381317138672\n",
      "[0672/1000] - train loss: 5.016721725463867, valid loss: 19.85173988342285\n",
      "[0673/1000] - train loss: 5.015625953674316, valid loss: 19.85000991821289\n",
      "[0674/1000] - train loss: 5.014727592468262, valid loss: 19.85061264038086\n",
      "[0675/1000] - train loss: 5.013584136962891, valid loss: 19.850183486938477\n",
      "[0676/1000] - train loss: 5.012451648712158, valid loss: 19.84824562072754\n",
      "[0677/1000] - train loss: 5.011380672454834, valid loss: 19.846153259277344\n",
      "[0678/1000] - train loss: 5.010374069213867, valid loss: 19.844676971435547\n",
      "[0679/1000] - train loss: 5.009284496307373, valid loss: 19.843307495117188\n",
      "[0680/1000] - train loss: 5.008330821990967, valid loss: 19.842159271240234\n",
      "[0681/1000] - train loss: 5.0071587562561035, valid loss: 19.840662002563477\n",
      "[0682/1000] - train loss: 5.005990505218506, valid loss: 19.839439392089844\n",
      "[0683/1000] - train loss: 5.0049567222595215, valid loss: 19.83865737915039\n",
      "[0684/1000] - train loss: 5.003962516784668, valid loss: 19.83757972717285\n",
      "[0685/1000] - train loss: 5.002892017364502, valid loss: 19.835601806640625\n",
      "[0686/1000] - train loss: 5.0017409324646, valid loss: 19.83294105529785\n",
      "[0687/1000] - train loss: 5.000678062438965, valid loss: 19.829179763793945\n",
      "[0688/1000] - train loss: 4.999644756317139, valid loss: 19.827285766601562\n",
      "[0689/1000] - train loss: 4.998538017272949, valid loss: 19.826475143432617\n",
      "[0690/1000] - train loss: 4.997495174407959, valid loss: 19.826292037963867\n",
      "[0691/1000] - train loss: 4.996359825134277, valid loss: 19.82608985900879\n",
      "[0692/1000] - train loss: 4.995332717895508, valid loss: 19.826635360717773\n",
      "[0693/1000] - train loss: 4.994284629821777, valid loss: 19.826772689819336\n",
      "[0694/1000] - train loss: 4.993166923522949, valid loss: 19.824369430541992\n",
      "[0695/1000] - train loss: 4.99207878112793, valid loss: 19.821502685546875\n",
      "[0696/1000] - train loss: 4.990980625152588, valid loss: 19.819530487060547\n",
      "[0697/1000] - train loss: 4.989918231964111, valid loss: 19.819292068481445\n",
      "[0698/1000] - train loss: 4.9887800216674805, valid loss: 19.81897735595703\n",
      "[0699/1000] - train loss: 4.9876580238342285, valid loss: 19.818416595458984\n",
      "[0700/1000] - train loss: 4.986673831939697, valid loss: 19.817018508911133\n",
      "[0701/1000] - train loss: 4.985642433166504, valid loss: 19.81553077697754\n",
      "[0702/1000] - train loss: 4.984426975250244, valid loss: 19.813457489013672\n",
      "[0703/1000] - train loss: 4.983399391174316, valid loss: 19.81140899658203\n",
      "[0704/1000] - train loss: 4.982421398162842, valid loss: 19.809768676757812\n",
      "[0705/1000] - train loss: 4.981441974639893, valid loss: 19.809160232543945\n",
      "[0706/1000] - train loss: 4.980299949645996, valid loss: 19.80974006652832\n",
      "[0707/1000] - train loss: 4.979188442230225, valid loss: 19.810352325439453\n",
      "[0708/1000] - train loss: 4.978148460388184, valid loss: 19.81016731262207\n",
      "[0709/1000] - train loss: 4.977048873901367, valid loss: 19.810161590576172\n",
      "[0710/1000] - train loss: 4.975999355316162, valid loss: 19.809581756591797\n",
      "[0711/1000] - train loss: 4.9748735427856445, valid loss: 19.80756378173828\n",
      "[0712/1000] - train loss: 4.973787307739258, valid loss: 19.805017471313477\n",
      "[0713/1000] - train loss: 4.972689628601074, valid loss: 19.802412033081055\n",
      "[0714/1000] - train loss: 4.971706390380859, valid loss: 19.800445556640625\n",
      "[0715/1000] - train loss: 4.970625400543213, valid loss: 19.798519134521484\n",
      "[0716/1000] - train loss: 4.969604015350342, valid loss: 19.798660278320312\n",
      "[0717/1000] - train loss: 4.968541145324707, valid loss: 19.79938316345215\n",
      "[0718/1000] - train loss: 4.967545986175537, valid loss: 19.798999786376953\n",
      "[0719/1000] - train loss: 4.966458320617676, valid loss: 19.797609329223633\n",
      "[0720/1000] - train loss: 4.965287208557129, valid loss: 19.79562759399414\n",
      "[0721/1000] - train loss: 4.964292049407959, valid loss: 19.79289436340332\n",
      "[0722/1000] - train loss: 4.9632134437561035, valid loss: 19.78998374938965\n",
      "[0723/1000] - train loss: 4.962144374847412, valid loss: 19.788877487182617\n",
      "[0724/1000] - train loss: 4.961015224456787, valid loss: 19.78971290588379\n",
      "[0725/1000] - train loss: 4.959906578063965, valid loss: 19.790630340576172\n",
      "[0726/1000] - train loss: 4.958848476409912, valid loss: 19.791101455688477\n",
      "[0727/1000] - train loss: 4.957858085632324, valid loss: 19.789806365966797\n",
      "[0728/1000] - train loss: 4.9567790031433105, valid loss: 19.787099838256836\n",
      "[0729/1000] - train loss: 4.955665111541748, valid loss: 19.78606605529785\n",
      "[0730/1000] - train loss: 4.954658031463623, valid loss: 19.785486221313477\n",
      "[0731/1000] - train loss: 4.953609466552734, valid loss: 19.78564453125\n",
      "[0732/1000] - train loss: 4.952559947967529, valid loss: 19.78666114807129\n",
      "[0733/1000] - train loss: 4.951560974121094, valid loss: 19.786645889282227\n",
      "[0734/1000] - train loss: 4.950486183166504, valid loss: 19.78568458557129\n",
      "[0735/1000] - train loss: 4.949385166168213, valid loss: 19.7844181060791\n",
      "[0736/1000] - train loss: 4.948295593261719, valid loss: 19.783218383789062\n",
      "[0737/1000] - train loss: 4.947258472442627, valid loss: 19.78152847290039\n",
      "[0738/1000] - train loss: 4.946269512176514, valid loss: 19.779638290405273\n",
      "[0739/1000] - train loss: 4.945148468017578, valid loss: 19.7783203125\n",
      "[0740/1000] - train loss: 4.944085597991943, valid loss: 19.77712059020996\n",
      "[0741/1000] - train loss: 4.942984580993652, valid loss: 19.777050018310547\n",
      "[0742/1000] - train loss: 4.941987991333008, valid loss: 19.776432037353516\n",
      "[0743/1000] - train loss: 4.940972328186035, valid loss: 19.77669906616211\n",
      "[0744/1000] - train loss: 4.939881801605225, valid loss: 19.77642822265625\n",
      "[0745/1000] - train loss: 4.938831806182861, valid loss: 19.774995803833008\n",
      "[0746/1000] - train loss: 4.9378156661987305, valid loss: 19.77353286743164\n",
      "[0747/1000] - train loss: 4.936810493469238, valid loss: 19.771461486816406\n",
      "[0748/1000] - train loss: 4.935693264007568, valid loss: 19.770261764526367\n",
      "[0749/1000] - train loss: 4.9346113204956055, valid loss: 19.769298553466797\n",
      "[0750/1000] - train loss: 4.933599472045898, valid loss: 19.76824378967285\n",
      "[0751/1000] - train loss: 4.932496070861816, valid loss: 19.76683235168457\n",
      "[0752/1000] - train loss: 4.931347370147705, valid loss: 19.765365600585938\n",
      "[0753/1000] - train loss: 4.93030309677124, valid loss: 19.76410484313965\n",
      "[0754/1000] - train loss: 4.929337501525879, valid loss: 19.762863159179688\n",
      "[0755/1000] - train loss: 4.928216457366943, valid loss: 19.762338638305664\n",
      "[0756/1000] - train loss: 4.92720365524292, valid loss: 19.763648986816406\n",
      "[0757/1000] - train loss: 4.926105976104736, valid loss: 19.76351547241211\n",
      "[0758/1000] - train loss: 4.9250712394714355, valid loss: 19.762510299682617\n",
      "[0759/1000] - train loss: 4.9240827560424805, valid loss: 19.76089096069336\n",
      "[0760/1000] - train loss: 4.923070430755615, valid loss: 19.75922203063965\n",
      "[0761/1000] - train loss: 4.922008991241455, valid loss: 19.75723648071289\n",
      "[0762/1000] - train loss: 4.9209136962890625, valid loss: 19.755420684814453\n",
      "[0763/1000] - train loss: 4.91987943649292, valid loss: 19.753189086914062\n",
      "[0764/1000] - train loss: 4.9188055992126465, valid loss: 19.75193977355957\n",
      "[0765/1000] - train loss: 4.91771125793457, valid loss: 19.750444412231445\n",
      "[0766/1000] - train loss: 4.916678428649902, valid loss: 19.74932098388672\n",
      "[0767/1000] - train loss: 4.915576457977295, valid loss: 19.747209548950195\n",
      "[0768/1000] - train loss: 4.914520740509033, valid loss: 19.746776580810547\n",
      "[0769/1000] - train loss: 4.913486480712891, valid loss: 19.7457332611084\n",
      "[0770/1000] - train loss: 4.912468433380127, valid loss: 19.744688034057617\n",
      "[0771/1000] - train loss: 4.911434173583984, valid loss: 19.74413299560547\n",
      "[0772/1000] - train loss: 4.9103875160217285, valid loss: 19.74432373046875\n",
      "[0773/1000] - train loss: 4.909363746643066, valid loss: 19.7449951171875\n",
      "[0774/1000] - train loss: 4.908191204071045, valid loss: 19.744836807250977\n",
      "[0775/1000] - train loss: 4.907125949859619, valid loss: 19.744165420532227\n",
      "[0776/1000] - train loss: 4.906062602996826, valid loss: 19.743276596069336\n",
      "[0777/1000] - train loss: 4.904982089996338, valid loss: 19.741514205932617\n",
      "[0778/1000] - train loss: 4.9039130210876465, valid loss: 19.73837661743164\n",
      "[0779/1000] - train loss: 4.902754783630371, valid loss: 19.735597610473633\n",
      "[0780/1000] - train loss: 4.901695728302002, valid loss: 19.733858108520508\n",
      "[0781/1000] - train loss: 4.9005842208862305, valid loss: 19.732728958129883\n",
      "[0782/1000] - train loss: 4.899532318115234, valid loss: 19.730670928955078\n",
      "[0783/1000] - train loss: 4.8984575271606445, valid loss: 19.73103904724121\n",
      "[0784/1000] - train loss: 4.897191524505615, valid loss: 19.731416702270508\n",
      "[0785/1000] - train loss: 4.896155834197998, valid loss: 19.731142044067383\n",
      "[0786/1000] - train loss: 4.895077705383301, valid loss: 19.729564666748047\n",
      "[0787/1000] - train loss: 4.893933296203613, valid loss: 19.72800636291504\n",
      "[0788/1000] - train loss: 4.8927412033081055, valid loss: 19.72579002380371\n",
      "[0789/1000] - train loss: 4.891577243804932, valid loss: 19.72429084777832\n",
      "[0790/1000] - train loss: 4.890477180480957, valid loss: 19.72311782836914\n",
      "[0791/1000] - train loss: 4.889431476593018, valid loss: 19.722793579101562\n",
      "[0792/1000] - train loss: 4.888274669647217, valid loss: 19.722959518432617\n",
      "[0793/1000] - train loss: 4.887103080749512, valid loss: 19.722597122192383\n",
      "[0794/1000] - train loss: 4.885888576507568, valid loss: 19.721811294555664\n",
      "[0795/1000] - train loss: 4.8847503662109375, valid loss: 19.720808029174805\n",
      "[0796/1000] - train loss: 4.88360071182251, valid loss: 19.720230102539062\n",
      "[0797/1000] - train loss: 4.882557392120361, valid loss: 19.72119140625\n",
      "[0798/1000] - train loss: 4.881409645080566, valid loss: 19.72174644470215\n",
      "[0799/1000] - train loss: 4.880183219909668, valid loss: 19.722572326660156\n",
      "[0800/1000] - train loss: 4.8790283203125, valid loss: 19.7222900390625\n",
      "[0801/1000] - train loss: 4.8778910636901855, valid loss: 19.721803665161133\n",
      "[0802/1000] - train loss: 4.876712799072266, valid loss: 19.721588134765625\n",
      "[0803/1000] - train loss: 4.875539779663086, valid loss: 19.72139549255371\n",
      "[0804/1000] - train loss: 4.874415397644043, valid loss: 19.720300674438477\n",
      "[0805/1000] - train loss: 4.873199939727783, valid loss: 19.719236373901367\n",
      "[0806/1000] - train loss: 4.872034549713135, valid loss: 19.717870712280273\n",
      "[0807/1000] - train loss: 4.870889186859131, valid loss: 19.716060638427734\n",
      "[0808/1000] - train loss: 4.869865417480469, valid loss: 19.714136123657227\n",
      "[0809/1000] - train loss: 4.8687028884887695, valid loss: 19.71255874633789\n",
      "[0810/1000] - train loss: 4.867436408996582, valid loss: 19.711240768432617\n",
      "[0811/1000] - train loss: 4.866288661956787, valid loss: 19.710250854492188\n",
      "[0812/1000] - train loss: 4.865197658538818, valid loss: 19.709102630615234\n",
      "[0813/1000] - train loss: 4.864063262939453, valid loss: 19.70768928527832\n",
      "[0814/1000] - train loss: 4.862894058227539, valid loss: 19.7080078125\n",
      "[0815/1000] - train loss: 4.861739158630371, valid loss: 19.707338333129883\n",
      "[0816/1000] - train loss: 4.860716819763184, valid loss: 19.706693649291992\n",
      "[0817/1000] - train loss: 4.859556674957275, valid loss: 19.706830978393555\n",
      "[0818/1000] - train loss: 4.858310222625732, valid loss: 19.706499099731445\n",
      "[0819/1000] - train loss: 4.857097625732422, valid loss: 19.705581665039062\n",
      "[0820/1000] - train loss: 4.855925559997559, valid loss: 19.705224990844727\n",
      "[0821/1000] - train loss: 4.854827880859375, valid loss: 19.704675674438477\n",
      "[0822/1000] - train loss: 4.853621006011963, valid loss: 19.704999923706055\n",
      "[0823/1000] - train loss: 4.852476596832275, valid loss: 19.70622444152832\n",
      "[0824/1000] - train loss: 4.8513031005859375, valid loss: 19.707820892333984\n",
      "[0825/1000] - train loss: 4.850073337554932, valid loss: 19.708398818969727\n",
      "[0826/1000] - train loss: 4.848965644836426, valid loss: 19.708984375\n",
      "[0827/1000] - train loss: 4.84777307510376, valid loss: 19.709318161010742\n",
      "[0828/1000] - train loss: 4.846660614013672, valid loss: 19.70970916748047\n",
      "[0829/1000] - train loss: 4.845521450042725, valid loss: 19.7086124420166\n",
      "[0830/1000] - train loss: 4.844422817230225, valid loss: 19.7083683013916\n",
      "[0831/1000] - train loss: 4.8432793617248535, valid loss: 19.70850372314453\n",
      "[0832/1000] - train loss: 4.842132091522217, valid loss: 19.70814323425293\n",
      "[0833/1000] - train loss: 4.841011047363281, valid loss: 19.70730209350586\n",
      "[0834/1000] - train loss: 4.839832305908203, valid loss: 19.70699119567871\n",
      "[0835/1000] - train loss: 4.838703632354736, valid loss: 19.70746421813965\n",
      "[0836/1000] - train loss: 4.837490081787109, valid loss: 19.707483291625977\n",
      "[0837/1000] - train loss: 4.836311340332031, valid loss: 19.70752716064453\n",
      "[0838/1000] - train loss: 4.835171222686768, valid loss: 19.707096099853516\n",
      "[0839/1000] - train loss: 4.834099769592285, valid loss: 19.705163955688477\n",
      "[0840/1000] - train loss: 4.832976818084717, valid loss: 19.703777313232422\n",
      "[0841/1000] - train loss: 4.831841468811035, valid loss: 19.702381134033203\n",
      "[0842/1000] - train loss: 4.830624103546143, valid loss: 19.700300216674805\n",
      "[0843/1000] - train loss: 4.829526901245117, valid loss: 19.698196411132812\n",
      "[0844/1000] - train loss: 4.828457355499268, valid loss: 19.697526931762695\n",
      "[0845/1000] - train loss: 4.827300071716309, valid loss: 19.69675636291504\n",
      "[0846/1000] - train loss: 4.826183319091797, valid loss: 19.695119857788086\n",
      "[0847/1000] - train loss: 4.825081825256348, valid loss: 19.692567825317383\n",
      "[0848/1000] - train loss: 4.824046611785889, valid loss: 19.692853927612305\n",
      "[0849/1000] - train loss: 4.822895526885986, valid loss: 19.692564010620117\n",
      "[0850/1000] - train loss: 4.821732997894287, valid loss: 19.69135093688965\n",
      "[0851/1000] - train loss: 4.820781230926514, valid loss: 19.690462112426758\n",
      "[0852/1000] - train loss: 4.819754600524902, valid loss: 19.68939971923828\n",
      "[0853/1000] - train loss: 4.818565368652344, valid loss: 19.689306259155273\n",
      "[0854/1000] - train loss: 4.817549705505371, valid loss: 19.689477920532227\n",
      "[0855/1000] - train loss: 4.816508769989014, valid loss: 19.68893814086914\n",
      "[0856/1000] - train loss: 4.815450191497803, valid loss: 19.68681526184082\n",
      "[0857/1000] - train loss: 4.814338684082031, valid loss: 19.683406829833984\n",
      "[0858/1000] - train loss: 4.813223838806152, valid loss: 19.679868698120117\n",
      "[0859/1000] - train loss: 4.812201976776123, valid loss: 19.67742347717285\n",
      "[0860/1000] - train loss: 4.811171531677246, valid loss: 19.676179885864258\n",
      "[0861/1000] - train loss: 4.810102939605713, valid loss: 19.675010681152344\n",
      "[0862/1000] - train loss: 4.809011459350586, valid loss: 19.673301696777344\n",
      "[0863/1000] - train loss: 4.807947158813477, valid loss: 19.6717586517334\n",
      "[0864/1000] - train loss: 4.806938648223877, valid loss: 19.67083168029785\n",
      "[0865/1000] - train loss: 4.805939197540283, valid loss: 19.6716251373291\n",
      "[0866/1000] - train loss: 4.804882049560547, valid loss: 19.672218322753906\n",
      "[0867/1000] - train loss: 4.803805828094482, valid loss: 19.67255401611328\n",
      "[0868/1000] - train loss: 4.802804946899414, valid loss: 19.67348289489746\n",
      "[0869/1000] - train loss: 4.801802158355713, valid loss: 19.67496681213379\n",
      "[0870/1000] - train loss: 4.800728797912598, valid loss: 19.676414489746094\n",
      "[0871/1000] - train loss: 4.7996506690979, valid loss: 19.677017211914062\n",
      "[0872/1000] - train loss: 4.798618793487549, valid loss: 19.676029205322266\n",
      "[0873/1000] - train loss: 4.797578811645508, valid loss: 19.673879623413086\n",
      "[0874/1000] - train loss: 4.796512603759766, valid loss: 19.670934677124023\n",
      "[0875/1000] - train loss: 4.795422077178955, valid loss: 19.66811180114746\n",
      "[0876/1000] - train loss: 4.794347286224365, valid loss: 19.66514015197754\n",
      "[0877/1000] - train loss: 4.793368816375732, valid loss: 19.663246154785156\n",
      "[0878/1000] - train loss: 4.792387008666992, valid loss: 19.66190528869629\n",
      "[0879/1000] - train loss: 4.791280746459961, valid loss: 19.66143035888672\n",
      "[0880/1000] - train loss: 4.790329456329346, valid loss: 19.66140365600586\n",
      "[0881/1000] - train loss: 4.789325714111328, valid loss: 19.661937713623047\n",
      "[0882/1000] - train loss: 4.788283824920654, valid loss: 19.661958694458008\n",
      "[0883/1000] - train loss: 4.787235260009766, valid loss: 19.66262435913086\n",
      "[0884/1000] - train loss: 4.786221504211426, valid loss: 19.662853240966797\n",
      "[0885/1000] - train loss: 4.7851738929748535, valid loss: 19.662826538085938\n",
      "[0886/1000] - train loss: 4.784177780151367, valid loss: 19.66207504272461\n",
      "[0887/1000] - train loss: 4.783166408538818, valid loss: 19.661314010620117\n",
      "[0888/1000] - train loss: 4.782118320465088, valid loss: 19.660478591918945\n",
      "[0889/1000] - train loss: 4.781057357788086, valid loss: 19.660573959350586\n",
      "[0890/1000] - train loss: 4.780004024505615, valid loss: 19.660539627075195\n",
      "[0891/1000] - train loss: 4.778928279876709, valid loss: 19.66004753112793\n",
      "[0892/1000] - train loss: 4.77791166305542, valid loss: 19.65952491760254\n",
      "[0893/1000] - train loss: 4.776884078979492, valid loss: 19.658096313476562\n",
      "[0894/1000] - train loss: 4.7757697105407715, valid loss: 19.656360626220703\n",
      "[0895/1000] - train loss: 4.77477502822876, valid loss: 19.6560001373291\n",
      "[0896/1000] - train loss: 4.7738423347473145, valid loss: 19.65639877319336\n",
      "[0897/1000] - train loss: 4.772817611694336, valid loss: 19.656776428222656\n",
      "[0898/1000] - train loss: 4.771725654602051, valid loss: 19.655942916870117\n",
      "[0899/1000] - train loss: 4.770666599273682, valid loss: 19.65423011779785\n",
      "[0900/1000] - train loss: 4.769703388214111, valid loss: 19.653963088989258\n",
      "[0901/1000] - train loss: 4.768670082092285, valid loss: 19.65401840209961\n",
      "[0902/1000] - train loss: 4.7675957679748535, valid loss: 19.655288696289062\n",
      "[0903/1000] - train loss: 4.766590118408203, valid loss: 19.655542373657227\n",
      "[0904/1000] - train loss: 4.7656168937683105, valid loss: 19.655004501342773\n",
      "[0905/1000] - train loss: 4.764608860015869, valid loss: 19.65424346923828\n",
      "[0906/1000] - train loss: 4.76359224319458, valid loss: 19.65345001220703\n",
      "[0907/1000] - train loss: 4.762646198272705, valid loss: 19.652990341186523\n",
      "[0908/1000] - train loss: 4.761641502380371, valid loss: 19.653705596923828\n",
      "[0909/1000] - train loss: 4.760636806488037, valid loss: 19.65461540222168\n",
      "[0910/1000] - train loss: 4.759653568267822, valid loss: 19.655384063720703\n",
      "[0911/1000] - train loss: 4.758703708648682, valid loss: 19.655250549316406\n",
      "[0912/1000] - train loss: 4.757744312286377, valid loss: 19.653303146362305\n",
      "[0913/1000] - train loss: 4.756734848022461, valid loss: 19.6510066986084\n",
      "[0914/1000] - train loss: 4.755638122558594, valid loss: 19.648712158203125\n",
      "[0915/1000] - train loss: 4.7546586990356445, valid loss: 19.64768409729004\n",
      "[0916/1000] - train loss: 4.753713607788086, valid loss: 19.64666175842285\n",
      "[0917/1000] - train loss: 4.7527689933776855, valid loss: 19.645309448242188\n",
      "[0918/1000] - train loss: 4.751741886138916, valid loss: 19.646678924560547\n",
      "[0919/1000] - train loss: 4.750781536102295, valid loss: 19.64699363708496\n",
      "[0920/1000] - train loss: 4.749730110168457, valid loss: 19.646589279174805\n",
      "[0921/1000] - train loss: 4.748696327209473, valid loss: 19.646657943725586\n",
      "[0922/1000] - train loss: 4.747775077819824, valid loss: 19.64703941345215\n",
      "[0923/1000] - train loss: 4.746735095977783, valid loss: 19.647947311401367\n",
      "[0924/1000] - train loss: 4.745763778686523, valid loss: 19.6483097076416\n",
      "[0925/1000] - train loss: 4.74476957321167, valid loss: 19.648839950561523\n",
      "[0926/1000] - train loss: 4.7436981201171875, valid loss: 19.64933204650879\n",
      "[0927/1000] - train loss: 4.7427239418029785, valid loss: 19.648420333862305\n",
      "[0928/1000] - train loss: 4.74172830581665, valid loss: 19.645793914794922\n",
      "[0929/1000] - train loss: 4.740724563598633, valid loss: 19.643985748291016\n",
      "[0930/1000] - train loss: 4.739700794219971, valid loss: 19.642955780029297\n",
      "[0931/1000] - train loss: 4.73871374130249, valid loss: 19.642772674560547\n",
      "[0932/1000] - train loss: 4.737709045410156, valid loss: 19.643136978149414\n",
      "[0933/1000] - train loss: 4.7367143630981445, valid loss: 19.643375396728516\n",
      "[0934/1000] - train loss: 4.735681056976318, valid loss: 19.641904830932617\n",
      "[0935/1000] - train loss: 4.734718322753906, valid loss: 19.63951301574707\n",
      "[0936/1000] - train loss: 4.73380184173584, valid loss: 19.63970375061035\n",
      "[0937/1000] - train loss: 4.732683181762695, valid loss: 19.640378952026367\n",
      "[0938/1000] - train loss: 4.731774806976318, valid loss: 19.640464782714844\n",
      "[0939/1000] - train loss: 4.730874061584473, valid loss: 19.6400203704834\n",
      "[0940/1000] - train loss: 4.729872226715088, valid loss: 19.640295028686523\n",
      "[0941/1000] - train loss: 4.728785514831543, valid loss: 19.641162872314453\n",
      "[0942/1000] - train loss: 4.727860927581787, valid loss: 19.64142417907715\n",
      "[0943/1000] - train loss: 4.726860523223877, valid loss: 19.640064239501953\n",
      "[0944/1000] - train loss: 4.725871562957764, valid loss: 19.638965606689453\n",
      "[0945/1000] - train loss: 4.724919319152832, valid loss: 19.638427734375\n",
      "[0946/1000] - train loss: 4.723823547363281, valid loss: 19.63680076599121\n",
      "[0947/1000] - train loss: 4.722803115844727, valid loss: 19.636096954345703\n",
      "[0948/1000] - train loss: 4.721787929534912, valid loss: 19.63458251953125\n",
      "[0949/1000] - train loss: 4.720819473266602, valid loss: 19.632959365844727\n",
      "[0950/1000] - train loss: 4.7198076248168945, valid loss: 19.63138198852539\n",
      "[0951/1000] - train loss: 4.718928337097168, valid loss: 19.62925910949707\n",
      "[0952/1000] - train loss: 4.717884540557861, valid loss: 19.62790298461914\n",
      "[0953/1000] - train loss: 4.716856479644775, valid loss: 19.628705978393555\n",
      "[0954/1000] - train loss: 4.715920448303223, valid loss: 19.629837036132812\n",
      "[0955/1000] - train loss: 4.714885711669922, valid loss: 19.630964279174805\n",
      "[0956/1000] - train loss: 4.713831901550293, valid loss: 19.63223648071289\n",
      "[0957/1000] - train loss: 4.712857723236084, valid loss: 19.633092880249023\n",
      "[0958/1000] - train loss: 4.711818695068359, valid loss: 19.633914947509766\n",
      "[0959/1000] - train loss: 4.710707187652588, valid loss: 19.635107040405273\n",
      "[0960/1000] - train loss: 4.7096099853515625, valid loss: 19.635833740234375\n",
      "[0961/1000] - train loss: 4.708548545837402, valid loss: 19.63474464416504\n",
      "[0962/1000] - train loss: 4.707490921020508, valid loss: 19.631940841674805\n",
      "[0963/1000] - train loss: 4.706364154815674, valid loss: 19.62910270690918\n",
      "[0964/1000] - train loss: 4.705199241638184, valid loss: 19.62614631652832\n",
      "[0965/1000] - train loss: 4.704084396362305, valid loss: 19.62374496459961\n",
      "[0966/1000] - train loss: 4.702878952026367, valid loss: 19.622121810913086\n",
      "[0967/1000] - train loss: 4.7017502784729, valid loss: 19.621679306030273\n",
      "[0968/1000] - train loss: 4.700624465942383, valid loss: 19.62055206298828\n",
      "[0969/1000] - train loss: 4.699472427368164, valid loss: 19.620241165161133\n",
      "[0970/1000] - train loss: 4.6984663009643555, valid loss: 19.621681213378906\n",
      "[0971/1000] - train loss: 4.697235107421875, valid loss: 19.62273597717285\n",
      "[0972/1000] - train loss: 4.6961259841918945, valid loss: 19.623960494995117\n",
      "[0973/1000] - train loss: 4.695012092590332, valid loss: 19.62430191040039\n",
      "[0974/1000] - train loss: 4.6939520835876465, valid loss: 19.62255096435547\n",
      "[0975/1000] - train loss: 4.692866802215576, valid loss: 19.618810653686523\n",
      "[0976/1000] - train loss: 4.691752910614014, valid loss: 19.614826202392578\n",
      "[0977/1000] - train loss: 4.6906585693359375, valid loss: 19.610464096069336\n",
      "[0978/1000] - train loss: 4.6895952224731445, valid loss: 19.607065200805664\n",
      "[0979/1000] - train loss: 4.688477993011475, valid loss: 19.605443954467773\n",
      "[0980/1000] - train loss: 4.687365531921387, valid loss: 19.604822158813477\n",
      "[0981/1000] - train loss: 4.686281681060791, valid loss: 19.604080200195312\n",
      "[0982/1000] - train loss: 4.685205459594727, valid loss: 19.60352325439453\n",
      "[0983/1000] - train loss: 4.684238910675049, valid loss: 19.60063934326172\n",
      "[0984/1000] - train loss: 4.683061122894287, valid loss: 19.595849990844727\n",
      "[0985/1000] - train loss: 4.68198299407959, valid loss: 19.595870971679688\n",
      "[0986/1000] - train loss: 4.680803298950195, valid loss: 19.597915649414062\n",
      "[0987/1000] - train loss: 4.679782867431641, valid loss: 19.59804344177246\n",
      "[0988/1000] - train loss: 4.678745746612549, valid loss: 19.596649169921875\n",
      "[0989/1000] - train loss: 4.677595615386963, valid loss: 19.593887329101562\n",
      "[0990/1000] - train loss: 4.676485061645508, valid loss: 19.591846466064453\n",
      "[0991/1000] - train loss: 4.67544412612915, valid loss: 19.590131759643555\n",
      "[0992/1000] - train loss: 4.6743855476379395, valid loss: 19.587743759155273\n",
      "[0993/1000] - train loss: 4.673286437988281, valid loss: 19.586380004882812\n",
      "[0994/1000] - train loss: 4.672147274017334, valid loss: 19.58483123779297\n",
      "[0995/1000] - train loss: 4.671115875244141, valid loss: 19.58324432373047\n",
      "[0996/1000] - train loss: 4.6700215339660645, valid loss: 19.581815719604492\n",
      "[0997/1000] - train loss: 4.6688666343688965, valid loss: 19.581438064575195\n",
      "[0998/1000] - train loss: 4.667758941650391, valid loss: 19.580886840820312\n",
      "[0999/1000] - train loss: 4.666784286499023, valid loss: 19.579654693603516\n",
      "[1000/1000] - train loss: 4.6657514572143555, valid loss: 19.577512741088867\n",
      "총학습에 걸린시간(초): 3.4992337226867676\n"
     ]
    }
   ],
   "source": [
    "####### Train + Evaluation(에폭당)\n",
    "import time\n",
    "train_losses = []\n",
    "valid_losses = []\n",
    "\n",
    "s = time.time()\n",
    "for epoch in range(epochs):  # tqdm 라이브러리\n",
    "    #######################################\n",
    "    # Train\n",
    "    #######################################\n",
    "    # 1. 모델을 train 모드로 변경\n",
    "    boston_model.train()\n",
    "    train_loss = 0.0\n",
    "    # 2. Batch 단위로 학습 - 반복문.\n",
    "    for X_train, y_train in train_loader:\n",
    "        # 3. X, y를 device로 이동.\n",
    "        X_train, y_train = X_train.to(device), y_train.to(device)\n",
    "        # 4. 추론\n",
    "        pred = boston_model(X_train) # model.forward(X_train)\n",
    "        # 5. loss(오차) 계산\n",
    "        loss = loss_fn(pred, y_train)  # (추론한값,  정답)\n",
    "        # 6. 파라미터들의 gradient 계산\n",
    "        loss.backward()\n",
    "        # 7. 파라미터들 업데이트\n",
    "        optimizer.step()\n",
    "        # 8. gradient 초기화\n",
    "        optimizer.zero_grad()\n",
    "        ## 로그용 - LOSS 저장\n",
    "        train_loss += loss.item()\n",
    "    train_loss /= len(train_loader) # train loss의 step별 평균을 계산 -> 한 epoch의 train loss\n",
    "\n",
    "    #######################################\n",
    "    # Evaluation\n",
    "    #######################################\n",
    "    # 1. eval 모드\n",
    "    boston_model.eval()\n",
    "    valid_loss = 0.0\n",
    "    # 2. gradient function 구하지 않도록 처리\n",
    "    with torch.no_grad():\n",
    "        for X_valid, y_valid in test_loader: #step 단위로 평가\n",
    "            # 3. X, y를 device로 이동\n",
    "            X_valid, y_valid = X_valid.to(device), y_valid.to(device)\n",
    "            # 4. 추론\n",
    "            pred_valid = boston_model(X_valid)\n",
    "            # 5. 검증(평가) - MSE\n",
    "            loss_valid = loss_fn(pred_valid, y_valid)\n",
    "            valid_loss += loss_valid.item()\n",
    "            \n",
    "        valid_loss /= len(test_loader) # 평균계산.\n",
    "\n",
    "    ## loss 계산한 것들을 list에 추가. 로그 출력\n",
    "    train_losses.append(train_loss)\n",
    "    valid_losses.append(valid_loss)\n",
    "    print(f\"[{epoch+1:04d}/{epochs}] - train loss: {train_loss}, valid loss: {valid_loss}\")\n",
    "\n",
    "e = time.time()\n",
    "print(\"총학습에 걸린시간(초):\", (e-s))"
   ]
  },
  {
   "cell_type": "code",
   "execution_count": 18,
   "metadata": {},
   "outputs": [
    {
     "data": {
      "image/png": "[encoded data removed]",
      "text/plain": [
       "<Figure size 640x480 with 1 Axes>"
      ]
     },
     "metadata": {},
     "output_type": "display_data"
    }
   ],
   "source": [
    "# loss 시각화\n",
    "plt.plot(range(epochs), train_losses, label=\"train set\")\n",
    "plt.plot(range(epochs), valid_losses, label=\"valid set\")\n",
    "plt.title(\"학습 Loss\")\n",
    "# plt.ylim(10, 50)\n",
    "# plt.xlim(800, 1000)\n",
    "plt.xlabel(\"epoch\")\n",
    "plt.ylabel(\"loss\")\n",
    "plt.legend()\n",
    "plt.show()"
   ]
  },
  {
   "cell_type": "code",
   "execution_count": 19,
   "metadata": {},
   "outputs": [],
   "source": [
    "# 최종 모델 저장.\n",
    "save_path = \"saved_models/boston_model.pth\"\n",
    "torch.save(boston_model, save_path)"
   ]
  },
  {
   "cell_type": "code",
   "execution_count": 20,
   "metadata": {
    "collapsed": true,
    "jupyter": {
     "outputs_hidden": true
    },
    "scrolled": true
   },
   "outputs": [
    {
     "name": "stderr",
     "output_type": "stream",
     "text": [
      "C:\\Users\\Playdata\\AppData\\Local\\Temp\\ipykernel_18056\\1837872702.py:1: FutureWarning: You are using `torch.load` with `weights_only=False` (the current default value), which uses the default pickle module implicitly. It is possible to construct malicious pickle data which will execute arbitrary code during unpickling (See https://github.com/pytorch/pytorch/blob/main/SECURITY.md#untrusted-models for more details). In a future release, the default value for `weights_only` will be flipped to `True`. This limits the functions that could be executed during unpickling. Arbitrary objects will no longer be allowed to be loaded via this mode unless they are explicitly allowlisted by the user via `torch.serialization.add_safe_globals`. We recommend you start setting `weights_only=True` for any use case where you don't have full control of the loaded file. Please open an issue on GitHub for any issues related to this experimental feature.\n",
      "  model = torch.load(save_path)\n"
     ]
    }
   ],
   "source": [
    "model = torch.load(save_path)"
   ]
  },
  {
   "cell_type": "code",
   "execution_count": 21,
   "metadata": {
    "collapsed": true,
    "jupyter": {
     "outputs_hidden": true
    }
   },
   "outputs": [
    {
     "data": {
      "text/plain": [
       "==========================================================================================\n",
       "Layer (type:depth-idx)                   Output Shape              Param #\n",
       "==========================================================================================\n",
       "BostonHousingModeling                    [10, 1]                   --\n",
       "├─Linear: 1-1                            [10, 16]                  224\n",
       "├─ReLU: 1-2                              [10, 16]                  --\n",
       "├─Linear: 1-3                            [10, 8]                   136\n",
       "├─ReLU: 1-4                              [10, 8]                   --\n",
       "├─Linear: 1-5                            [10, 1]                   9\n",
       "==========================================================================================\n",
       "Total params: 369\n",
       "Trainable params: 369\n",
       "Non-trainable params: 0\n",
       "Total mult-adds (Units.MEGABYTES): 0.00\n",
       "==========================================================================================\n",
       "Input size (MB): 0.00\n",
       "Forward/backward pass size (MB): 0.00\n",
       "Params size (MB): 0.00\n",
       "Estimated Total Size (MB): 0.00\n",
       "=========================================================================================="
      ]
     },
     "execution_count": 21,
     "metadata": {},
     "output_type": "execute_result"
    }
   ],
   "source": [
    "summary(model, (10, 13))"
   ]
  },
  {
   "cell_type": "code",
   "execution_count": 27,
   "metadata": {},
   "outputs": [
    {
     "data": {
      "text/plain": [
       "(tensor([ 8.6305, -0.4996,  0.9989, -0.2729,  1.0700, -0.4969,  1.1033, -0.9469,\n",
       "          1.6874,  1.5421,  0.7927, -3.8659,  1.0856]),\n",
       " tensor([8.8000]))"
      ]
     },
     "execution_count": 27,
     "metadata": {},
     "output_type": "execute_result"
    }
   ],
   "source": [
    "testset[10]"
   ]
  },
  {
   "cell_type": "code",
   "execution_count": 25,
   "metadata": {},
   "outputs": [
    {
     "data": {
      "text/plain": [
       "torch.Size([1, 13])"
      ]
     },
     "execution_count": 25,
     "metadata": {},
     "output_type": "execute_result"
    }
   ],
   "source": [
    "# application에서 새로운 데이터 추론.\n",
    "new_data = testset[10][0]\n",
    "new_data = new_data.reshape(1, -1)\n",
    "new_data.shape"
   ]
  },
  {
   "cell_type": "code",
   "execution_count": 28,
   "metadata": {},
   "outputs": [
    {
     "name": "stdout",
     "output_type": "stream",
     "text": [
      "예상집값: 9.359225273132324\n"
     ]
    }
   ],
   "source": [
    "# 추론\n",
    "model = model.to(device)\n",
    "model.eval()\n",
    "with torch.no_grad():\n",
    "    y_pred = model(new_data)\n",
    "    print(\"예상집값:\", y_pred.item())"
   ]
  },
  {
   "cell_type": "code",
   "execution_count": null,
   "metadata": {},
   "outputs": [],
   "source": []
  },
  {
   "cell_type": "markdown",
   "metadata": {
    "slideshow": {
     "slide_type": "slide"
    }
   },
   "source": [
    "## 분류 (Classification)\n",
    "\n",
    "### Fashion MNIST Dataset - 다중분류(Multi-Class Classification) 문제\n",
    "\n",
    "10개의 범주(category)와 70,000개의 흑백 이미지로 구성된 [패션 MNIST](https://github.com/zalandoresearch/fashion-mnist) 데이터셋.\n",
    "이미지는 해상도(28x28 픽셀)가 낮고 다음처럼 개별 의류 품목을 나타낸다:\n",
    "\n",
    "<table>\n",
    "  <tr><td>\n",
    "    <img src=\"https://tensorflow.org/images/fashion-mnist-sprite.png\"\n",
    "         alt=\"Fashion MNIST sprite\"  width=\"600\">\n",
    "  </td></tr>\n",
    "  <tr><td align=\"center\">\n",
    "    <b>그림</b> <a href=\"https://github.com/zalandoresearch/fashion-mnist\">패션-MNIST 샘플</a> (Zalando, MIT License).<br/>&nbsp;\n",
    "  </td></tr>\n",
    "</table>"
   ]
  },
  {
   "cell_type": "markdown",
   "metadata": {
    "slideshow": {
     "slide_type": "slide"
    }
   },
   "source": [
    "- **Feature**이미지는 28x28 크기이며 Gray scale이다.\n",
    "- **Target**은 총 10개의 class로 구성되어 있으며 각 class의 class 이름은 다음과 같다.\n",
    "\n",
    "| 레이블 | 클래스       |\n",
    "|--------|--------------|\n",
    "| 0      | T-shirt/top |\n",
    "| 1      | Trousers    |\n",
    "| 2      | Pullover    |\n",
    "| 3      | Dress       |\n",
    "| 4      | Coat        |\n",
    "| 5      | Sandal      |\n",
    "| 6      | Shirt       |\n",
    "| 7      | Sneaker     |\n",
    "| 8      | Bag         |\n",
    "| 9      | Ankle boot  |"
   ]
  },
  {
   "cell_type": "code",
   "execution_count": 3,
   "metadata": {},
   "outputs": [
    {
     "name": "stdout",
     "output_type": "stream",
     "text": [
      "cpu\n"
     ]
    }
   ],
   "source": [
    "import torch\n",
    "import torch.nn as nn\n",
    "from torch.utils.data import DataLoader, random_split\n",
    "import torch.optim as optim\n",
    "\n",
    "from torchvision.datasets import FashionMNIST\n",
    "from torchvision.transforms import ToTensor\n",
    "\n",
    "from torchinfo import summary\n",
    "import matplotlib.pyplot as plt\n",
    "\n",
    "device = 'cuda' if torch.cuda.is_available() else 'cpu'\n",
    "print(device)"
   ]
  },
  {
   "cell_type": "code",
   "execution_count": 2,
   "metadata": {
    "collapsed": true,
    "jupyter": {
     "outputs_hidden": true
    },
    "scrolled": true
   },
   "outputs": [
    {
     "name": "stdout",
     "output_type": "stream",
     "text": [
      "Downloading http://fashion-mnist.s3-website.eu-central-1.amazonaws.com/train-images-idx3-ubyte.gz\n",
      "Downloading http://fashion-mnist.s3-website.eu-central-1.amazonaws.com/train-images-idx3-ubyte.gz to datasets/fashin_mnist\\FashionMNIST\\raw\\train-images-idx3-ubyte.gz\n"
     ]
    },
    {
     "name": "stderr",
     "output_type": "stream",
     "text": [
      "100%|█████████████████████████████████████████████████████████████████████████████| 26.4M/26.4M [00:09<00:00, 2.66MB/s]\n"
     ]
    },
    {
     "name": "stdout",
     "output_type": "stream",
     "text": [
      "Extracting datasets/fashin_mnist\\FashionMNIST\\raw\\train-images-idx3-ubyte.gz to datasets/fashin_mnist\\FashionMNIST\\raw\n",
      "\n",
      "Downloading http://fashion-mnist.s3-website.eu-central-1.amazonaws.com/train-labels-idx1-ubyte.gz\n",
      "Downloading http://fashion-mnist.s3-website.eu-central-1.amazonaws.com/train-labels-idx1-ubyte.gz to datasets/fashin_mnist\\FashionMNIST\\raw\\train-labels-idx1-ubyte.gz\n"
     ]
    },
    {
     "name": "stderr",
     "output_type": "stream",
     "text": [
      "100%|██████████████████████████████████████████████████████████████████████████████| 29.5k/29.5k [00:00<00:00, 106kB/s]\n"
     ]
    },
    {
     "name": "stdout",
     "output_type": "stream",
     "text": [
      "Extracting datasets/fashin_mnist\\FashionMNIST\\raw\\train-labels-idx1-ubyte.gz to datasets/fashin_mnist\\FashionMNIST\\raw\n",
      "\n",
      "Downloading http://fashion-mnist.s3-website.eu-central-1.amazonaws.com/t10k-images-idx3-ubyte.gz\n",
      "Downloading http://fashion-mnist.s3-website.eu-central-1.amazonaws.com/t10k-images-idx3-ubyte.gz to datasets/fashin_mnist\\FashionMNIST\\raw\\t10k-images-idx3-ubyte.gz\n"
     ]
    },
    {
     "name": "stderr",
     "output_type": "stream",
     "text": [
      "100%|█████████████████████████████████████████████████████████████████████████████| 4.42M/4.42M [00:02<00:00, 1.76MB/s]\n"
     ]
    },
    {
     "name": "stdout",
     "output_type": "stream",
     "text": [
      "Extracting datasets/fashin_mnist\\FashionMNIST\\raw\\t10k-images-idx3-ubyte.gz to datasets/fashin_mnist\\FashionMNIST\\raw\n",
      "\n",
      "Downloading http://fashion-mnist.s3-website.eu-central-1.amazonaws.com/t10k-labels-idx1-ubyte.gz\n",
      "Downloading http://fashion-mnist.s3-website.eu-central-1.amazonaws.com/t10k-labels-idx1-ubyte.gz to datasets/fashin_mnist\\FashionMNIST\\raw\\t10k-labels-idx1-ubyte.gz\n"
     ]
    },
    {
     "name": "stderr",
     "output_type": "stream",
     "text": [
      "100%|█████████████████████████████████████████████████████████████████████████████████████| 5.15k/5.15k [00:00<?, ?B/s]"
     ]
    },
    {
     "name": "stdout",
     "output_type": "stream",
     "text": [
      "Extracting datasets/fashin_mnist\\FashionMNIST\\raw\\t10k-labels-idx1-ubyte.gz to datasets/fashin_mnist\\FashionMNIST\\raw\n",
      "\n"
     ]
    },
    {
     "name": "stderr",
     "output_type": "stream",
     "text": [
      "\n"
     ]
    }
   ],
   "source": [
    "# Dataset load ---> 확인용\n",
    "data_root = \"datasets/fashin_mnist\"\n",
    "trainset = FashionMNIST(root=data_root, train=True, download=True)\n",
    "testset = FashionMNIST(root=data_root, train=False, download=True)"
   ]
  },
  {
   "cell_type": "code",
   "execution_count": 5,
   "metadata": {},
   "outputs": [],
   "source": [
    "# train을 trainset/validset을 나누기\n",
    "trainset, validset = random_split(trainset, [50000, 10000])"
   ]
  },
  {
   "cell_type": "code",
   "execution_count": 6,
   "metadata": {},
   "outputs": [
    {
     "data": {
      "text/plain": [
       "(50000, 10000, 10000)"
      ]
     },
     "execution_count": 6,
     "metadata": {},
     "output_type": "execute_result"
    }
   ],
   "source": [
    "len(trainset), len(validset), len(testset)"
   ]
  },
  {
   "cell_type": "code",
   "execution_count": 8,
   "metadata": {
    "collapsed": true,
    "jupyter": {
     "outputs_hidden": true
    },
    "scrolled": true
   },
   "outputs": [
    {
     "data": {
      "text/plain": [
       "['T-shirt/top',\n",
       " 'Trouser',\n",
       " 'Pullover',\n",
       " 'Dress',\n",
       " 'Coat',\n",
       " 'Sandal',\n",
       " 'Shirt',\n",
       " 'Sneaker',\n",
       " 'Bag',\n",
       " 'Ankle boot']"
      ]
     },
     "execution_count": 8,
     "metadata": {},
     "output_type": "execute_result"
    }
   ],
   "source": [
    "### class들 확인\n",
    "testset.classes"
   ]
  },
  {
   "cell_type": "code",
   "execution_count": 10,
   "metadata": {
    "collapsed": true,
    "jupyter": {
     "outputs_hidden": true
    }
   },
   "outputs": [
    {
     "data": {
      "text/plain": [
       "{'T-shirt/top': 0,\n",
       " 'Trouser': 1,\n",
       " 'Pullover': 2,\n",
       " 'Dress': 3,\n",
       " 'Coat': 4,\n",
       " 'Sandal': 5,\n",
       " 'Shirt': 6,\n",
       " 'Sneaker': 7,\n",
       " 'Bag': 8,\n",
       " 'Ankle boot': 9}"
      ]
     },
     "execution_count": 10,
     "metadata": {},
     "output_type": "execute_result"
    }
   ],
   "source": [
    "testset.class_to_idx"
   ]
  },
  {
   "cell_type": "code",
   "execution_count": 17,
   "metadata": {},
   "outputs": [
    {
     "data": {
      "image/png": "[encoded data removed]",
      "text/plain": [
       "<Figure size 300x300 with 1 Axes>"
      ]
     },
     "metadata": {},
     "output_type": "display_data"
    }
   ],
   "source": [
    "# input 이미지 확인\n",
    "idx = 1250\n",
    "x, y = testset[idx]\n",
    "# x, y\n",
    "plt.figure(figsize=(3, 3))\n",
    "# plt.imshow(x, cmap='gray') # gray: 0(최소값):black , 255(최대값): white\n",
    "plt.imshow(x, cmap='Greys') # Greys: 0:white, 255: black\n",
    "plt.title(f\"{y} - {testset.classes[y]}\")\n",
    "plt.show()"
   ]
  },
  {
   "cell_type": "code",
   "execution_count": 18,
   "metadata": {},
   "outputs": [
    {
     "data": {
      "image/jpeg": "[encoded data removed]",
      "image/png": "[encoded data removed]",
      "text/plain": [
       "<PIL.Image.Image image mode=L size=28x28>"
      ]
     },
     "execution_count": 18,
     "metadata": {},
     "output_type": "execute_result"
    }
   ],
   "source": [
    "x"
   ]
  },
  {
   "cell_type": "code",
   "execution_count": 20,
   "metadata": {},
   "outputs": [],
   "source": [
    "# Dataset load \n",
    "## transform 지정: 전처리 로직추가. \n",
    "data_root = \"datasets/fashin_mnist\"\n",
    "trainset = FashionMNIST(root=data_root, train=True, download=True, transform=ToTensor())\n",
    "testset = FashionMNIST(root=data_root, train=False, download=True, transform=ToTensor())\n",
    "trainset, validset = random_split(trainset, [50000, 10000])"
   ]
  },
  {
   "cell_type": "code",
   "execution_count": 22,
   "metadata": {},
   "outputs": [],
   "source": [
    "# DataLoader 생성\n",
    "train_loader = DataLoader(trainset, batch_size=256, shuffle=True, drop_last=True)\n",
    "valid_loader = DataLoader(validset, batch_size=256)\n",
    "test_loader = DataLoader(testset, batch_size=256)"
   ]
  },
  {
   "cell_type": "code",
   "execution_count": 24,
   "metadata": {},
   "outputs": [
    {
     "data": {
      "text/plain": [
       "(195, 40, 40, torch.Size([1, 28, 28]))"
      ]
     },
     "execution_count": 24,
     "metadata": {},
     "output_type": "execute_result"
    }
   ],
   "source": [
    "len(train_loader), len(valid_loader),len(test_loader), trainset[0][0].shape"
   ]
  },
  {
   "cell_type": "code",
   "execution_count": 37,
   "metadata": {},
   "outputs": [],
   "source": [
    "### 모델 클래스 구현\n",
    "class FashionMNISTModel(nn.Module):\n",
    "\n",
    "    def __init__(self):\n",
    "        super().__init__()\n",
    "        self.lr1 = nn.Linear(784, 1024) #첫번째 linear - in_features=입력 feature객수(1 * 28 * 28)\n",
    "        self.lr2 = nn.Linear(1024, 512)\n",
    "        self.lr3 = nn.Linear(512, 256)\n",
    "        self.lr4 = nn.Linear(256, 128)\n",
    "        self.lr5 = nn.Linear(128, 64)\n",
    "        self.lr6 = nn.Linear(64, 10)  # 마지막 Linear - out_features=출력 결과개수(다중분류: class개수) => 클래스별 정답일 확률(을 계산할 때 사용할 값)\n",
    "        # hidden layer에 적용할 activation 함수\n",
    "        self.relu = nn.ReLU()\n",
    "    \n",
    "    def forward(self, X):\n",
    "        # X=torch.flatten(X, start_dim=1)  # (256, 1, 28, 28) -> 256 * 1 * 28 * 28, start_dim=1 -> (256, 1 x 28 x 28)\n",
    "        X = nn.Flatten()(X) # start_dim=1 해서 flatten 처리를 하는 Layer클래스.\n",
    "        X = self.lr1(X)\n",
    "        X = self.relu(X)\n",
    "        \n",
    "        X = self.lr2(X)\n",
    "        X = self.relu(X)\n",
    "\n",
    "        X = self.lr3(X)\n",
    "        X = self.relu(X)\n",
    "\n",
    "        X = self.lr4(X)\n",
    "        X = self.relu(X)\n",
    "\n",
    "        X = self.lr5(X)\n",
    "        X = self.relu(X)\n",
    "\n",
    "        output = self.lr6(X) # output\n",
    "        return output"
   ]
  },
  {
   "cell_type": "code",
   "execution_count": 38,
   "metadata": {},
   "outputs": [
    {
     "data": {
      "text/plain": [
       "FashionMNISTModel(\n",
       "  (lr1): Linear(in_features=784, out_features=1024, bias=True)\n",
       "  (lr2): Linear(in_features=1024, out_features=512, bias=True)\n",
       "  (lr3): Linear(in_features=512, out_features=256, bias=True)\n",
       "  (lr4): Linear(in_features=256, out_features=128, bias=True)\n",
       "  (lr5): Linear(in_features=128, out_features=64, bias=True)\n",
       "  (lr6): Linear(in_features=64, out_features=10, bias=True)\n",
       "  (relu): ReLU()\n",
       ")"
      ]
     },
     "execution_count": 38,
     "metadata": {},
     "output_type": "execute_result"
    }
   ],
   "source": [
    "# 모델 구조 확인\n",
    "## 모델 생성\n",
    "f_model = FashionMNISTModel().to(device)\n",
    "f_model"
   ]
  },
  {
   "cell_type": "code",
   "execution_count": 39,
   "metadata": {},
   "outputs": [
    {
     "data": {
      "text/plain": [
       "==========================================================================================\n",
       "Layer (type:depth-idx)                   Output Shape              Param #\n",
       "==========================================================================================\n",
       "FashionMNISTModel                        [256, 10]                 --\n",
       "├─Linear: 1-1                            [256, 1024]               803,840\n",
       "├─ReLU: 1-2                              [256, 1024]               --\n",
       "├─Linear: 1-3                            [256, 512]                524,800\n",
       "├─ReLU: 1-4                              [256, 512]                --\n",
       "├─Linear: 1-5                            [256, 256]                131,328\n",
       "├─ReLU: 1-6                              [256, 256]                --\n",
       "├─Linear: 1-7                            [256, 128]                32,896\n",
       "├─ReLU: 1-8                              [256, 128]                --\n",
       "├─Linear: 1-9                            [256, 64]                 8,256\n",
       "├─ReLU: 1-10                             [256, 64]                 --\n",
       "├─Linear: 1-11                           [256, 10]                 650\n",
       "==========================================================================================\n",
       "Total params: 1,501,770\n",
       "Trainable params: 1,501,770\n",
       "Non-trainable params: 0\n",
       "Total mult-adds (Units.MEGABYTES): 384.45\n",
       "==========================================================================================\n",
       "Input size (MB): 0.80\n",
       "Forward/backward pass size (MB): 4.08\n",
       "Params size (MB): 6.01\n",
       "Estimated Total Size (MB): 10.89\n",
       "=========================================================================================="
      ]
     },
     "execution_count": 39,
     "metadata": {},
     "output_type": "execute_result"
    }
   ],
   "source": [
    "summary(f_model, (256, 1, 28, 28), device=device)"
   ]
  },
  {
   "cell_type": "code",
   "execution_count": 40,
   "metadata": {},
   "outputs": [],
   "source": [
    "# 학습\n",
    "lr = 0.001\n",
    "epochs= 20\n",
    "\n",
    "### optimizer, loss함수\n",
    "### optimizer\n",
    "optimizer = optim.Adam(f_model.parameters(), lr=lr)\n",
    "loss_fn = nn.CrossEntropyLoss()\n",
    "## CrossEntropyLoss() - 다중 분류 학습시 사용하는 loss 함수. (categorical crossentropy)\n",
    "### (모델예측값, 정답)\n",
    "#### 1. 모델 예측값을 softmax()함수를 이용해서 확률값을 변환\n",
    "#### 2. 정답은 one hot encoding 처리\n",
    "#### 3. 1, 2에서 변환한 값으로 loss를 계산."
   ]
  },
  {
   "cell_type": "code",
   "execution_count": 43,
   "metadata": {},
   "outputs": [
    {
     "name": "stdout",
     "output_type": "stream",
     "text": [
      "[1/20] - train loss: 0.7277420892165257, valid loss: 0.475160114467144, valid_acc: 0.8321\n",
      "[2/20] - train loss: 0.43831547666818665, valid loss: 0.4052628353238106, valid_acc: 0.8562\n",
      "[3/20] - train loss: 0.36813246959295026, valid loss: 0.39097866863012315, valid_acc: 0.8556\n",
      "[4/20] - train loss: 0.34373187438035624, valid loss: 0.35901778265833856, valid_acc: 0.8697\n",
      "[5/20] - train loss: 0.310007272928189, valid loss: 0.33452064357697964, valid_acc: 0.8771\n",
      "[6/20] - train loss: 0.30466679556247517, valid loss: 0.3336071029305458, valid_acc: 0.8794\n",
      "[7/20] - train loss: 0.2845751436092915, valid loss: 0.31709572710096834, valid_acc: 0.8842\n",
      "[8/20] - train loss: 0.2695013939570158, valid loss: 0.31450274772942066, valid_acc: 0.885\n",
      "[9/20] - train loss: 0.2622288288214268, valid loss: 0.29927670173347, valid_acc: 0.89\n",
      "[10/20] - train loss: 0.2480339806049298, valid loss: 0.3250220224261284, valid_acc: 0.884\n",
      "[11/20] - train loss: 0.23830798956064078, valid loss: 0.31527589857578275, valid_acc: 0.889\n",
      "[12/20] - train loss: 0.23172696515535696, valid loss: 0.3103769853711128, valid_acc: 0.8912\n",
      "[13/20] - train loss: 0.2154781311750412, valid loss: 0.31472540125250814, valid_acc: 0.8873\n",
      "[14/20] - train loss: 0.21227049705309745, valid loss: 0.3103992961347103, valid_acc: 0.8902\n",
      "[15/20] - train loss: 0.20547232773059454, valid loss: 0.3234207987785339, valid_acc: 0.89\n",
      "[16/20] - train loss: 0.19961515772037017, valid loss: 0.29956915862858297, valid_acc: 0.8976\n",
      "[17/20] - train loss: 0.1951187442892637, valid loss: 0.3215252559632063, valid_acc: 0.8963\n",
      "[18/20] - train loss: 0.1837293641307415, valid loss: 0.3236996363848448, valid_acc: 0.8953\n",
      "[19/20] - train loss: 0.178944802742738, valid loss: 0.33837503753602505, valid_acc: 0.8816\n",
      "[20/20] - train loss: 0.17432555724412968, valid loss: 0.3244004394859076, valid_acc: 0.8948\n",
      "학습에 걸린 시간(초): 100.79053926467896\n"
     ]
    }
   ],
   "source": [
    "# train\n",
    "import time\n",
    "# epoch별 검증결과를 저장할 리스트\n",
    "train_losses = []\n",
    "valid_losses = []\n",
    "valid_acc_list = []\n",
    "\n",
    "s = time.time()\n",
    "for epoch in range(epochs):\n",
    "    ################## Train - train_loader #######################\n",
    "    f_model.train() \n",
    "    train_loss = 0.0 # 현재 epoch의 train loss저장할 변수.\n",
    "    for X_train, y_train in train_loader:\n",
    "        #1. device로 이동\n",
    "        X_train, y_train = X_train.to(device), y_train.to(device)\n",
    "        #2. 추론\n",
    "        pred = f_model(X_train) # f_model.forward(X_train) 호출\n",
    "        #3. loss\n",
    "        loss = loss_fn(pred, y_train)\n",
    "        #4. gradient 계산\n",
    "        loss.backward()\n",
    "        #5. 파라미터들 update \n",
    "        optimizer.step()\n",
    "        #6. 파라미터의 gradient값 초기화\n",
    "        optimizer.zero_grad()\n",
    "        # loss값을 train_loss 변수에 누적\n",
    "        train_loss = train_loss + loss.item()  # train_loss += loss.item()\n",
    "    train_loss = train_loss / len(train_loader) # 현재 epoch의 평균 train loss 를 계산.\n",
    "    train_losses.append(train_loss)\n",
    "    \n",
    "    ################## 검증 - valid_loader #######################\n",
    "    f_model.eval()\n",
    "    # 검증결과 저장할 변수\n",
    "    valid_loss = 0.0\n",
    "    valid_acc = 0.0\n",
    "    # weight 업데이트는 하지 않는다. 추론할 때 grad_fn을 구할 필요가 없다. \n",
    "    with torch.no_grad():\n",
    "        for X_valid, y_valid in valid_loader:\n",
    "            #1. device 로 이동\n",
    "            X_valid, y_valid = X_valid.to(device), y_valid.to(device)\n",
    "            #2. 추론\n",
    "            pred_valid = f_model(X_valid)\n",
    "            #3. 검증작업 - loss, accuracy\n",
    "            ## loss를 valid_loss에 누적\n",
    "            valid_loss = valid_loss + loss_fn(pred_valid, y_valid).item()\n",
    "            ## 정확도\n",
    "            pred_class = pred_valid.argmax(dim=-1) # (256, 10) -> 10당 max값의 index를 조회 (256, )\n",
    "            valid_acc = valid_acc + torch.sum(pred_class == y_valid).item()\n",
    "        # 검증 결과 계산 (평균)\n",
    "        valid_loss = valid_loss / len(valid_loader) # 1 epoch당 step수로 나누기.\n",
    "        valid_acc = valid_acc / len(valid_loader.dataset) # 총 데이터 개수로 나누기.(맞은것개수/총개수)\n",
    "        valid_losses.append(valid_loss)\n",
    "        valid_acc_list.append(valid_acc)\n",
    "        print_log = \"[{}/{}] - train loss: {}, valid loss: {}, valid_acc: {}\"\n",
    "        print(print_log.format(epoch+1, epochs, train_loss, valid_loss, valid_acc))\n",
    "\n",
    "e = time.time()\n",
    "print(\"학습에 걸린 시간(초):\", e-s)"
   ]
  },
  {
   "cell_type": "code",
   "execution_count": 45,
   "metadata": {},
   "outputs": [
    {
     "data": {
      "image/png": "[encoded data removed]",
      "text/plain": [
       "<Figure size 1000x500 with 2 Axes>"
      ]
     },
     "metadata": {},
     "output_type": "display_data"
    }
   ],
   "source": [
    "### 학습결과 시각화\n",
    "plt.figure(figsize=(10, 5))\n",
    "plt.subplot(1, 2, 1)\n",
    "plt.plot(range(20), train_losses, label=\"Train set\")\n",
    "plt.plot(range(20), valid_losses, label=\"Validation set\")\n",
    "plt.title(\"loss\")\n",
    "plt.grid(True, linestyle=\":\")\n",
    "plt.legend()\n",
    "\n",
    "plt.subplot(1, 2, 2)\n",
    "plt.plot(range(20), valid_acc_list)\n",
    "plt.title(\"Validation accuracy\")\n",
    "plt.grid(True, linestyle=\":\")\n",
    "\n",
    "plt.tight_layout()\n",
    "plt.show()"
   ]
  },
  {
   "cell_type": "code",
   "execution_count": 49,
   "metadata": {},
   "outputs": [
    {
     "data": {
      "text/plain": [
       "np.int64(8)"
      ]
     },
     "execution_count": 49,
     "metadata": {},
     "output_type": "execute_result"
    }
   ],
   "source": [
    "import numpy as np\n",
    "np.argmin(valid_losses)  # epoch 8+1 에서 가장 적은 loss."
   ]
  },
  {
   "cell_type": "code",
   "execution_count": 51,
   "metadata": {
    "scrolled": true
   },
   "outputs": [
    {
     "data": {
      "text/plain": [
       "0.29927670173347"
      ]
     },
     "execution_count": 51,
     "metadata": {},
     "output_type": "execute_result"
    }
   ],
   "source": [
    "valid_losses[8]"
   ]
  },
  {
   "cell_type": "markdown",
   "metadata": {},
   "source": [
    "### 모델 저장.\n",
    "- 학습 도중 가장 좋은 성능의 모델이 나올 수있다.\n",
    "- 모델을 저장할 경우 에폭 단위로 저장.\n",
    "    1. 모든 에폭이 끝나고 모델을 저장.\n",
    "    2. 가장 성능이 좋은 시점의 모델을 저장.\n",
    "       - best score와 현재 epoch의 성능을 비교해서 성능 개선이 있으면 모델을 (덮어쓰기로) 저장.\n",
    "### 조기 종료 (Early stopping)\n",
    "- 학습 도중 성능개선이 없으면 중간 epoch에서 학습을 멈추도록 한다.\n",
    "- epoch을 길게 잡아주고 성능이 개선될때 마다 저장, 특정 횟수의 에폭동안 성능 개선이 없으면 조기 종료하도록 구현."
   ]
  },
  {
   "cell_type": "code",
   "execution_count": 56,
   "metadata": {},
   "outputs": [],
   "source": [
    "lr = 0.001\n",
    "epochs = 100"
   ]
  },
  {
   "cell_type": "code",
   "execution_count": 58,
   "metadata": {},
   "outputs": [],
   "source": [
    "f_model = FashionMNISTModel().to(device)\n",
    "loss_fn = nn.CrossEntropyLoss()\n",
    "optimizer = optim.Adam(f_model.parameters(), lr=lr)"
   ]
  },
  {
   "cell_type": "code",
   "execution_count": 59,
   "metadata": {},
   "outputs": [
    {
     "name": "stdout",
     "output_type": "stream",
     "text": [
      "[1/100] - train loss: 0.7524227562623146, valid loss: 0.47817161679267883, valid_acc: 0.8297\n",
      ">>>>>>>>>>> 1 Epoch에서 모델 저장:  inf에서 0.47817161679267883로 loss가 개선되어 저장함\n",
      "[2/100] - train loss: 0.44005123713077643, valid loss: 0.3951769270002842, valid_acc: 0.858\n",
      ">>>>>>>>>>> 2 Epoch에서 모델 저장:  0.47817161679267883에서 0.3951769270002842로 loss가 개선되어 저장함\n",
      "[3/100] - train loss: 0.37218810602640495, valid loss: 0.38326835408806803, valid_acc: 0.8619\n",
      ">>>>>>>>>>> 3 Epoch에서 모델 저장:  0.3951769270002842에서 0.38326835408806803로 loss가 개선되어 저장함\n",
      "[4/100] - train loss: 0.3333956588537265, valid loss: 0.3367891974747181, valid_acc: 0.8767\n",
      ">>>>>>>>>>> 4 Epoch에서 모델 저장:  0.38326835408806803에서 0.3367891974747181로 loss가 개선되어 저장함\n",
      "[5/100] - train loss: 0.31216537478642586, valid loss: 0.32462094388902185, valid_acc: 0.8835\n",
      ">>>>>>>>>>> 5 Epoch에서 모델 저장:  0.3367891974747181에서 0.32462094388902185로 loss가 개선되어 저장함\n",
      "[6/100] - train loss: 0.29164263904094695, valid loss: 0.32831994332373143, valid_acc: 0.879\n",
      "[7/100] - train loss: 0.2822771364297622, valid loss: 0.3475358705967665, valid_acc: 0.8767\n",
      "[8/100] - train loss: 0.2730527860231889, valid loss: 0.31818831637501716, valid_acc: 0.8821\n",
      ">>>>>>>>>>> 8 Epoch에서 모델 저장:  0.32462094388902185에서 0.31818831637501716로 loss가 개선되어 저장함\n",
      "[9/100] - train loss: 0.2535704527145777, valid loss: 0.33109065480530264, valid_acc: 0.8822\n",
      "[10/100] - train loss: 0.2520250447285481, valid loss: 0.3241028022021055, valid_acc: 0.8847\n",
      "[11/100] - train loss: 0.23874701521335503, valid loss: 0.30330850295722483, valid_acc: 0.8912\n",
      ">>>>>>>>>>> 11 Epoch에서 모델 저장:  0.31818831637501716에서 0.30330850295722483로 loss가 개선되어 저장함\n",
      "[12/100] - train loss: 0.22428489403846935, valid loss: 0.29555730186402795, valid_acc: 0.8977\n",
      ">>>>>>>>>>> 12 Epoch에서 모델 저장:  0.30330850295722483에서 0.29555730186402795로 loss가 개선되어 저장함\n",
      "[13/100] - train loss: 0.2173632101370738, valid loss: 0.324087093397975, valid_acc: 0.8906\n",
      "[14/100] - train loss: 0.2130998256114813, valid loss: 0.29319683462381363, valid_acc: 0.897\n",
      ">>>>>>>>>>> 14 Epoch에서 모델 저장:  0.29555730186402795에서 0.29319683462381363로 loss가 개선되어 저장함\n",
      "[15/100] - train loss: 0.2072403323956025, valid loss: 0.28777189515531065, valid_acc: 0.8988\n",
      ">>>>>>>>>>> 15 Epoch에서 모델 저장:  0.29319683462381363에서 0.28777189515531065로 loss가 개선되어 저장함\n",
      "[16/100] - train loss: 0.19507014010197077, valid loss: 0.3126502148807049, valid_acc: 0.8921\n",
      "[17/100] - train loss: 0.1874305736560088, valid loss: 0.35807713232934474, valid_acc: 0.8822\n",
      "[18/100] - train loss: 0.1852116238230314, valid loss: 0.31277464907616376, valid_acc: 0.9008\n",
      "[19/100] - train loss: 0.17993099525188788, valid loss: 0.31187949795275927, valid_acc: 0.8972\n",
      "[20/100] - train loss: 0.16788258735950176, valid loss: 0.3190240839496255, valid_acc: 0.8965\n",
      "=======20에서 조기종료함. 0.28777189515531065에서 개선이 안됨==========\n",
      "학습에 걸린 시간(초): 105.53330731391907\n"
     ]
    }
   ],
   "source": [
    "# train\n",
    "import time\n",
    "\n",
    "#########################################\n",
    "# epoch 도중 성능이 개선되면 모델을 저장.\n",
    "# 조기 종료\n",
    "#########################################\n",
    "save_path = \"saved_models/fashion_mnist_model.pt\"\n",
    "## 현 시점에 가장 좋은 지표를 저장할 변수.\n",
    "best_score = torch.inf  # validation loss 기준으로 저장 여부를 확인. loss가 낮아지면 성능이 개선.\n",
    "\n",
    "# 조기종료 관련 변수\n",
    "patience = 5  # 성능이 개선되는지를 몇 epoch 동안 기다려 볼지 지정. (보통 5 ~ 10 에폭 지정.)\n",
    "trigger_cnt = 0 #성능이 개선되는지 몇 에폭째 기다리고 있는지 저장할 변수. (patience == trigger_cnt ->조기 종료)\n",
    "#########################################\n",
    "\n",
    "# epoch별 검증결과를 저장할 리스트\n",
    "train_losses = []\n",
    "valid_losses = []\n",
    "valid_acc_list = []\n",
    "\n",
    "s = time.time()\n",
    "for epoch in range(epochs):\n",
    "    ################## Train - train_loader #######################\n",
    "    f_model.train() \n",
    "    train_loss = 0.0 # 현재 epoch의 train loss저장할 변수.\n",
    "    for X_train, y_train in train_loader:\n",
    "        #1. device로 이동\n",
    "        X_train, y_train = X_train.to(device), y_train.to(device)\n",
    "        #2. 추론\n",
    "        pred = f_model(X_train) # f_model.forward(X_train) 호출\n",
    "        #3. loss\n",
    "        loss = loss_fn(pred, y_train)\n",
    "        #4. gradient 계산\n",
    "        loss.backward()\n",
    "        #5. 파라미터들 update \n",
    "        optimizer.step()\n",
    "        #6. 파라미터의 gradient값 초기화\n",
    "        optimizer.zero_grad()\n",
    "        # loss값을 train_loss 변수에 누적\n",
    "        train_loss = train_loss + loss.item()  # train_loss += loss.item()\n",
    "    train_loss = train_loss / len(train_loader) # 현재 epoch의 평균 train loss 를 계산.\n",
    "    train_losses.append(train_loss)\n",
    "    \n",
    "    ################## 검증 - valid_loader #######################\n",
    "    f_model.eval()\n",
    "    # 검증결과 저장할 변수\n",
    "    valid_loss = 0.0\n",
    "    valid_acc = 0.0\n",
    "    # weight 업데이트는 하지 않는다. 추론할 때 grad_fn을 구할 필요가 없다. \n",
    "    with torch.no_grad():\n",
    "        for X_valid, y_valid in valid_loader:\n",
    "            #1. device 로 이동\n",
    "            X_valid, y_valid = X_valid.to(device), y_valid.to(device)\n",
    "            #2. 추론\n",
    "            pred_valid = f_model(X_valid)\n",
    "            #3. 검증작업 - loss, accuracy\n",
    "            ## loss를 valid_loss에 누적\n",
    "            valid_loss = valid_loss + loss_fn(pred_valid, y_valid).item()\n",
    "            ## 정확도\n",
    "            pred_class = pred_valid.argmax(dim=-1) # (256, 10) -> 10당 max값의 index를 조회 (256, )\n",
    "            valid_acc = valid_acc + torch.sum(pred_class == y_valid).item()\n",
    "        # 검증 결과 계산 (평균)\n",
    "        valid_loss = valid_loss / len(valid_loader) # 1 epoch당 step수로 나누기.\n",
    "        valid_acc = valid_acc / len(valid_loader.dataset) # 총 데이터 개수로 나누기.(맞은것개수/총개수)\n",
    "        valid_losses.append(valid_loss)\n",
    "        valid_acc_list.append(valid_acc)\n",
    "        print_log = \"[{}/{}] - train loss: {}, valid loss: {}, valid_acc: {}\"\n",
    "        print(print_log.format(epoch+1, epochs, train_loss, valid_loss, valid_acc))\n",
    "    ################# 검증 완료 -> 모델 저장 ################\n",
    "    if valid_loss < best_score: # 성능 개선이 되었으면.\n",
    "        torch.save(f_model, save_path)\n",
    "        # log 출력\n",
    "        save_log = \">>>>>>>>>>> {} Epoch에서 모델 저장:  {}에서 {}로 loss가 개선되어 저장함\"\n",
    "        print(save_log.format(epoch+1, best_score, valid_loss))\n",
    "        best_score = valid_loss # best score를 현재 에폭의 valid loss로 변경.\n",
    "        \n",
    "        # 성능개선이 되었으므로 trigger_cnt를 0으로 초기화.\n",
    "        trigger_cnt = 0\n",
    "    else: # 성능 개선이 안된 epoch\n",
    "        trigger_cnt += 1 \n",
    "        if patience == trigger_cnt: # 조기종료\n",
    "            print(f\"======={epoch+1}에서 조기종료함. {best_score}에서 개선이 안됨==========\")\n",
    "            break # 학습 반복 loop에서 빠져 나온다.\n",
    "\n",
    "e = time.time()\n",
    "print(\"학습에 걸린 시간(초):\", e-s)"
   ]
  },
  {
   "cell_type": "code",
   "execution_count": 61,
   "metadata": {
    "collapsed": true,
    "jupyter": {
     "outputs_hidden": true
    }
   },
   "outputs": [
    {
     "name": "stderr",
     "output_type": "stream",
     "text": [
      "C:\\Users\\Playdata\\AppData\\Local\\Temp\\ipykernel_3560\\3958216491.py:4: FutureWarning: You are using `torch.load` with `weights_only=False` (the current default value), which uses the default pickle module implicitly. It is possible to construct malicious pickle data which will execute arbitrary code during unpickling (See https://github.com/pytorch/pytorch/blob/main/SECURITY.md#untrusted-models for more details). In a future release, the default value for `weights_only` will be flipped to `True`. This limits the functions that could be executed during unpickling. Arbitrary objects will no longer be allowed to be loaded via this mode unless they are explicitly allowlisted by the user via `torch.serialization.add_safe_globals`. We recommend you start setting `weights_only=True` for any use case where you don't have full control of the loaded file. Please open an issue on GitHub for any issues related to this experimental feature.\n",
      "  best_model = torch.load(save_path)\n"
     ]
    }
   ],
   "source": [
    "###### 저장된 모델을 이용해 최종평가\n",
    "# test dataset\n",
    "## 모델 load\n",
    "best_model = torch.load(save_path)\n",
    "## 1. eval 모드로 변경.\n",
    "best_model.eval()\n",
    "## 2. device 이동\n",
    "best_model = best_model.to(device)\n",
    "\n",
    "## 평가 결과를 저장할 변수\n",
    "test_loss = 0.0\n",
    "test_acc = 0.0\n",
    "with torch.no_grad():\n",
    "    for X_test, y_test in test_loader:\n",
    "        # 1. device로 이동\n",
    "        X_test, y_test = X_test.to(device), y_test.to(device)\n",
    "        # 2. 추론\n",
    "        pred_test = best_model(X_test)\n",
    "        # 3. 평가 (loss, accuracy)\n",
    "        ## loss (loss를 누적)\n",
    "        test_loss = test_loss + loss_fn(pred_test, y_test).item()\n",
    "        ## accuray (맞은 개수를 누적)\n",
    "        pred_test_class = pred_test.argmax(dim=-1)\n",
    "        test_acc = test_acc + torch.sum(y_test == pred_test_class).item()\n",
    "    # 검증결과 계산(평균)\n",
    "    test_loss = test_loss / len(test_loader)\n",
    "    test_acc = test_acc / len(test_loader.dataset)"
   ]
  },
  {
   "cell_type": "code",
   "execution_count": 62,
   "metadata": {},
   "outputs": [
    {
     "name": "stdout",
     "output_type": "stream",
     "text": [
      "0.3139562178403139 0.8913\n"
     ]
    }
   ],
   "source": [
    "print(test_loss, test_acc)"
   ]
  },
  {
   "cell_type": "code",
   "execution_count": 71,
   "metadata": {},
   "outputs": [],
   "source": [
    "########## 새로운 데이터로 예측\n",
    "# 테스트 셋에서 3개를 조회해서 추론\n",
    "# testset[[0, 2, 3]] slicing/fancy indexing이 안됨. \n",
    "## 3개를 조회한 것을 저장할 변수\n",
    "new_data = torch.empty(3, 1, 28, 28) # 1, 28, 28 짜리 세개를 저장할 빈 텐서를 생성.\n",
    "new_data[0] = testset[0][0]\n",
    "new_data[1] = testset[10][0]\n",
    "new_data[2] = testset[100][0]"
   ]
  },
  {
   "cell_type": "code",
   "execution_count": 72,
   "metadata": {},
   "outputs": [
    {
     "data": {
      "text/plain": [
       "torch.Size([3, 1, 28, 28])"
      ]
     },
     "execution_count": 72,
     "metadata": {},
     "output_type": "execute_result"
    }
   ],
   "source": [
    "new_data.shape"
   ]
  },
  {
   "cell_type": "code",
   "execution_count": 85,
   "metadata": {},
   "outputs": [
    {
     "data": {
      "text/plain": [
       "torch.Size([3, 10])"
      ]
     },
     "execution_count": 85,
     "metadata": {},
     "output_type": "execute_result"
    }
   ],
   "source": [
    "p = best_model(new_data)\n",
    "p.shape  # [3: 개수, 10: 클래스별 확률]"
   ]
  },
  {
   "cell_type": "code",
   "execution_count": 86,
   "metadata": {},
   "outputs": [
    {
     "data": {
      "text/plain": [
       "tensor([9, 4, 3])"
      ]
     },
     "execution_count": 86,
     "metadata": {},
     "output_type": "execute_result"
    }
   ],
   "source": [
    "p_class = p.argmax(dim=-1)\n",
    "p_class"
   ]
  },
  {
   "cell_type": "code",
   "execution_count": 87,
   "metadata": {},
   "outputs": [],
   "source": [
    "# testset.classes[3]"
   ]
  },
  {
   "cell_type": "code",
   "execution_count": 88,
   "metadata": {},
   "outputs": [
    {
     "data": {
      "text/plain": [
       "torch.Size([3, 10])"
      ]
     },
     "execution_count": 88,
     "metadata": {},
     "output_type": "execute_result"
    }
   ],
   "source": [
    "p.shape"
   ]
  },
  {
   "cell_type": "code",
   "execution_count": 89,
   "metadata": {},
   "outputs": [
    {
     "data": {
      "text/plain": [
       "torch.return_types.max(\n",
       "values=tensor([0.7900, 0.9175, 0.9951], grad_fn=<MaxBackward0>),\n",
       "indices=tensor([9, 4, 3]))"
      ]
     },
     "execution_count": 89,
     "metadata": {},
     "output_type": "execute_result"
    }
   ],
   "source": [
    "p = nn.Softmax(dim=-1)(p)\n",
    "p.max(dim=-1)"
   ]
  },
  {
   "cell_type": "code",
   "execution_count": 79,
   "metadata": {},
   "outputs": [
    {
     "data": {
      "text/plain": [
       "tensor([5.3705, 6.0679, 8.0313], grad_fn=<MaxBackward0>)"
      ]
     },
     "execution_count": 79,
     "metadata": {},
     "output_type": "execute_result"
    }
   ],
   "source": [
    "p_prob = p.max(dim=-1).values\n",
    "p_prob"
   ]
  },
  {
   "cell_type": "code",
   "execution_count": 80,
   "metadata": {},
   "outputs": [
    {
     "data": {
      "text/plain": [
       "torch.return_types.max(\n",
       "values=tensor([5.3705, 6.0679, 8.0313], grad_fn=<MaxBackward0>),\n",
       "indices=tensor([9, 4, 3]))"
      ]
     },
     "execution_count": 80,
     "metadata": {},
     "output_type": "execute_result"
    }
   ],
   "source": [
    "p.max(dim=-1)"
   ]
  },
  {
   "cell_type": "code",
   "execution_count": 90,
   "metadata": {},
   "outputs": [],
   "source": [
    "def predict(model, X, device=\"cpu\"):\n",
    "    # model로 X 를 추정한 결과를 반환. (class_index, 정답의 확률)\n",
    "    model = model.to(device)\n",
    "    model.eval()\n",
    "    with torch.no_grad():\n",
    "        X = X.to(device)\n",
    "        pred = model(X)\n",
    "        proba = nn.Softmax(dim=-1)(pred) # 모델 추론 값을 확률로 변환. #\n",
    "        m = proba.max(dim=-1)\n",
    "        return m.indices, m.values"
   ]
  },
  {
   "cell_type": "code",
   "execution_count": 91,
   "metadata": {},
   "outputs": [],
   "source": [
    "result = predict(best_model, new_data, device=device)"
   ]
  },
  {
   "cell_type": "code",
   "execution_count": 92,
   "metadata": {},
   "outputs": [
    {
     "data": {
      "text/plain": [
       "(tensor([9, 4, 3]), tensor([0.7900, 0.9175, 0.9951]))"
      ]
     },
     "execution_count": 92,
     "metadata": {},
     "output_type": "execute_result"
    }
   ],
   "source": [
    "result"
   ]
  },
  {
   "cell_type": "code",
   "execution_count": 95,
   "metadata": {},
   "outputs": [
    {
     "name": "stdout",
     "output_type": "stream",
     "text": [
      "9 - Ankle boot - 0.7899770140647888\n",
      "4 - Coat - 0.917546272277832\n",
      "3 - Dress - 0.9950917959213257\n"
     ]
    }
   ],
   "source": [
    "for class_index, prob in zip(*result):\n",
    "    print(class_index.item(), testset.classes[class_index], prob.item(), sep=\" - \")"
   ]
  },
  {
   "cell_type": "code",
   "execution_count": 96,
   "metadata": {},
   "outputs": [
    {
     "data": {
      "text/plain": [
       "(9, 4, 3)"
      ]
     },
     "execution_count": 96,
     "metadata": {},
     "output_type": "execute_result"
    }
   ],
   "source": [
    "testset[0][1], testset[10][1], testset[100][1]"
   ]
  },
  {
   "cell_type": "code",
   "execution_count": null,
   "metadata": {},
   "outputs": [],
   "source": []
  },
  {
   "cell_type": "code",
   "execution_count": null,
   "metadata": {},
   "outputs": [],
   "source": []
  },
  {
   "cell_type": "markdown",
   "metadata": {
    "slideshow": {
     "slide_type": "slide"
    }
   },
   "source": [
    "### 위스콘신 유방암 데이터셋 - 이진분류(Binary Classification) 문제\n",
    "\n",
    "-   **이진 분류 문제 처리 모델의 두가지 방법**\n",
    "    1. positive(1)일 확률을 출력하도록 구현\n",
    "        - output layer: units=1, activation='sigmoid'\n",
    "        - loss: binary_crossentropy\n",
    "    2. negative(0)일 확률과 positive(1)일 확률을 출력하도록 구현 => 다중분류 처리 방식으로 해결\n",
    "        - output layer: units=2, activation='softmax', y(정답)은 one hot encoding 처리\n",
    "        - loss: categorical_crossentropy\n",
    "-   위스콘신 대학교에서 제공한 종양의 악성/양성여부 분류를 위한 데이터셋\n",
    "-   Feature\n",
    "    -   종양에 대한 다양한 측정값들\n",
    "-   Target의 class\n",
    "    -   0 - malignant(악성종양)\n",
    "    -   1 - benign(양성종양)\n"
   ]
  },
  {
   "cell_type": "code",
   "execution_count": 1,
   "metadata": {},
   "outputs": [
    {
     "name": "stdout",
     "output_type": "stream",
     "text": [
      "cpu\n"
     ]
    }
   ],
   "source": [
    "from sklearn.datasets import load_breast_cancer\n",
    "from sklearn.preprocessing import StandardScaler\n",
    "from sklearn.model_selection import train_test_split\n",
    "\n",
    "import torch\n",
    "import torch.nn as nn\n",
    "import torch.optim as optim\n",
    "from torch.utils.data import DataLoader, TensorDataset\n",
    "\n",
    "import numpy as np\n",
    "import matplotlib.pyplot as plt\n",
    "\n",
    "device = \"cuda\" if torch.cuda.is_available() else \"cpu\"\n",
    "print(device)"
   ]
  },
  {
   "cell_type": "code",
   "execution_count": 5,
   "metadata": {},
   "outputs": [],
   "source": [
    "# Dataset\n",
    "X, y = load_breast_cancer(return_X_y=True)\n",
    "y = y.reshape(-1, 1)\n",
    "# X.shape, y.shape, X.dtype\n",
    "X_train, X_test, y_train, y_test = train_test_split(X, y, stratify=y, test_size=0.25, random_state=0)"
   ]
  },
  {
   "cell_type": "code",
   "execution_count": 6,
   "metadata": {},
   "outputs": [],
   "source": [
    "# 전처리\n",
    "scaler = StandardScaler()\n",
    "X_train_scaled = scaler.fit_transform(X_train)\n",
    "X_test_scaled = scaler.transform(X_test)"
   ]
  },
  {
   "cell_type": "code",
   "execution_count": 7,
   "metadata": {},
   "outputs": [],
   "source": [
    "# class name <-> class index\n",
    "classes = np.array([\"악성종양\", \"양성종양\"])\n",
    "class_to_idx = {\"악성종양\":0, \"양성종양\":1}"
   ]
  },
  {
   "cell_type": "code",
   "execution_count": 27,
   "metadata": {},
   "outputs": [],
   "source": [
    "# Dataset\n",
    "## 모델의 weight, bias -> float32. X, y는 weight, bias와 계산을 하게 되기 때문에 타입을 맞춰준다.\n",
    "trainset = TensorDataset(\n",
    "    torch.tensor(X_train_scaled, dtype=torch.float32),  \n",
    "    torch.tensor(y_train, dtype=torch.float32)\n",
    ")\n",
    "testset = TensorDataset(\n",
    "    torch.tensor(X_test_scaled, dtype=torch.float32), \n",
    "    torch.tensor(y_test, dtype=torch.float32)\n",
    ")"
   ]
  },
  {
   "cell_type": "code",
   "execution_count": 28,
   "metadata": {},
   "outputs": [],
   "source": [
    "trainset.classes = classes\n",
    "trainset.class_to_idx = class_to_idx"
   ]
  },
  {
   "cell_type": "code",
   "execution_count": 29,
   "metadata": {},
   "outputs": [],
   "source": [
    "# DataLoader\n",
    "train_loader = DataLoader(trainset, batch_size=200, shuffle=True, drop_last=True)\n",
    "test_loader = DataLoader(testset, batch_size=100)"
   ]
  },
  {
   "cell_type": "code",
   "execution_count": 30,
   "metadata": {},
   "outputs": [],
   "source": [
    "######### 모델 정의\n",
    "class BreastCancerModel(nn.Module):\n",
    "\n",
    "    def __init__(self):\n",
    "        super().__init__()\n",
    "        self.lr1 = nn.Linear(30, 32)\n",
    "        self.lr2 = nn.Linear(32, 8)\n",
    "        self.lr3 = nn.Linear(8, 1) # 출력 Layer 처리하는 함수. out_features=1 : positive일 확률.\n",
    "        self.relu = nn.ReLU()\n",
    "        self.logistic = nn.Sigmoid() # 입력값을 0 ~ 1 사이 실수로 반환. \n",
    "\n",
    "    def forward(self, X):\n",
    "        X = self.lr1(X)\n",
    "        X = self.relu(X)\n",
    "        X = self.lr2(X)\n",
    "        X = self.relu(X)\n",
    "        # 출력 Layer\n",
    "        output = self.lr3(X)\n",
    "        output = self.logistic(output)\n",
    "        return output"
   ]
  },
  {
   "cell_type": "code",
   "execution_count": 31,
   "metadata": {},
   "outputs": [
    {
     "data": {
      "text/plain": [
       "BreastCancerModel(\n",
       "  (lr1): Linear(in_features=30, out_features=32, bias=True)\n",
       "  (lr2): Linear(in_features=32, out_features=8, bias=True)\n",
       "  (lr3): Linear(in_features=8, out_features=1, bias=True)\n",
       "  (relu): ReLU()\n",
       "  (logistic): Sigmoid()\n",
       ")"
      ]
     },
     "execution_count": 31,
     "metadata": {},
     "output_type": "execute_result"
    }
   ],
   "source": [
    "b_model = BreastCancerModel()\n",
    "b_model"
   ]
  },
  {
   "cell_type": "code",
   "execution_count": 32,
   "metadata": {
    "scrolled": true
   },
   "outputs": [
    {
     "data": {
      "text/plain": [
       "==========================================================================================\n",
       "Layer (type:depth-idx)                   Output Shape              Param #\n",
       "==========================================================================================\n",
       "BreastCancerModel                        [10, 1]                   --\n",
       "├─Linear: 1-1                            [10, 32]                  992\n",
       "├─ReLU: 1-2                              [10, 32]                  --\n",
       "├─Linear: 1-3                            [10, 8]                   264\n",
       "├─ReLU: 1-4                              [10, 8]                   --\n",
       "├─Linear: 1-5                            [10, 1]                   9\n",
       "├─Sigmoid: 1-6                           [10, 1]                   --\n",
       "==========================================================================================\n",
       "Total params: 1,265\n",
       "Trainable params: 1,265\n",
       "Non-trainable params: 0\n",
       "Total mult-adds (Units.MEGABYTES): 0.01\n",
       "==========================================================================================\n",
       "Input size (MB): 0.00\n",
       "Forward/backward pass size (MB): 0.00\n",
       "Params size (MB): 0.01\n",
       "Estimated Total Size (MB): 0.01\n",
       "=========================================================================================="
      ]
     },
     "execution_count": 32,
     "metadata": {},
     "output_type": "execute_result"
    }
   ],
   "source": [
    "from torchinfo import summary\n",
    "summary(b_model, (10, 30), device=device)"
   ]
  },
  {
   "cell_type": "code",
   "execution_count": 33,
   "metadata": {},
   "outputs": [
    {
     "data": {
      "text/plain": [
       "tensor([[0.5502],\n",
       "        [0.5136],\n",
       "        [0.4955],\n",
       "        [0.5309],\n",
       "        [0.5072],\n",
       "        [0.5206],\n",
       "        [0.4998],\n",
       "        [0.5054],\n",
       "        [0.5360],\n",
       "        [0.5289]], grad_fn=<SigmoidBackward0>)"
      ]
     },
     "execution_count": 33,
     "metadata": {},
     "output_type": "execute_result"
    }
   ],
   "source": [
    "# dummy data로 출력\n",
    "dummy_x = torch.randn(10, 30)\n",
    "# dummy_x.shape\n",
    "result = b_model(dummy_x)\n",
    "# result.shape\n",
    "result"
   ]
  },
  {
   "cell_type": "code",
   "execution_count": 34,
   "metadata": {},
   "outputs": [
    {
     "data": {
      "text/plain": [
       "tensor([[1],\n",
       "        [1],\n",
       "        [0],\n",
       "        [1],\n",
       "        [1],\n",
       "        [1],\n",
       "        [0],\n",
       "        [1],\n",
       "        [1],\n",
       "        [1]], dtype=torch.int32)"
      ]
     },
     "execution_count": 34,
     "metadata": {},
     "output_type": "execute_result"
    }
   ],
   "source": [
    "(result > 0.5).type(torch.int32)  # bool -> int (True: 1, False: 0)"
   ]
  },
  {
   "cell_type": "code",
   "execution_count": 37,
   "metadata": {},
   "outputs": [],
   "source": [
    "lr = 0.001\n",
    "epochs = 1000\n",
    "######## 학습(train)\n",
    "b_model = b_model.to(device)\n",
    "optimizer = optim.Adam(b_model.parameters(), lr=lr)\n",
    "loss_fn = nn.BCELoss()   # 함수이름: binary crossentropy"
   ]
  },
  {
   "cell_type": "code",
   "execution_count": 39,
   "metadata": {
    "collapsed": true,
    "jupyter": {
     "outputs_hidden": true
    },
    "scrolled": true
   },
   "outputs": [
    {
     "name": "stdout",
     "output_type": "stream",
     "text": [
      "[0001/1000] train loss: 0.7162550091743469, valid loss: 0.7000104486942291, valid accuracy: 0.5944055944055944\n",
      ">>>>>> 1에서 성능이 개선되어 저장합니다. 0.7000104486942291\n",
      "[0002/1000] train loss: 0.7032418847084045, valid loss: 0.6897950768470764, valid accuracy: 0.6503496503496503\n",
      ">>>>>> 2에서 성능이 개선되어 저장합니다. 0.6897950768470764\n",
      "[0003/1000] train loss: 0.6921586692333221, valid loss: 0.6800262331962585, valid accuracy: 0.7062937062937062\n",
      ">>>>>> 3에서 성능이 개선되어 저장합니다. 0.6800262331962585\n",
      "[0004/1000] train loss: 0.6823038160800934, valid loss: 0.6705828905105591, valid accuracy: 0.7832167832167832\n",
      ">>>>>> 4에서 성능이 개선되어 저장합니다. 0.6705828905105591\n",
      "[0005/1000] train loss: 0.6715252995491028, valid loss: 0.6613221168518066, valid accuracy: 0.8321678321678322\n",
      ">>>>>> 5에서 성능이 개선되어 저장합니다. 0.6613221168518066\n",
      "[0006/1000] train loss: 0.6616750061511993, valid loss: 0.651933342218399, valid accuracy: 0.8881118881118881\n",
      ">>>>>> 6에서 성능이 개선되어 저장합니다. 0.651933342218399\n",
      "[0007/1000] train loss: 0.6498311758041382, valid loss: 0.6423433125019073, valid accuracy: 0.9230769230769231\n",
      ">>>>>> 7에서 성능이 개선되어 저장합니다. 0.6423433125019073\n",
      "[0008/1000] train loss: 0.6406866312026978, valid loss: 0.6325223743915558, valid accuracy: 0.9440559440559441\n",
      ">>>>>> 8에서 성능이 개선되어 저장합니다. 0.6325223743915558\n",
      "[0009/1000] train loss: 0.6286907196044922, valid loss: 0.6226787865161896, valid accuracy: 0.9370629370629371\n",
      ">>>>>> 9에서 성능이 개선되어 저장합니다. 0.6226787865161896\n",
      "[0010/1000] train loss: 0.6189066171646118, valid loss: 0.6125554442405701, valid accuracy: 0.9230769230769231\n",
      ">>>>>> 10에서 성능이 개선되어 저장합니다. 0.6125554442405701\n",
      "[0011/1000] train loss: 0.6073808670043945, valid loss: 0.6020967662334442, valid accuracy: 0.9230769230769231\n",
      ">>>>>> 11에서 성능이 개선되어 저장합니다. 0.6020967662334442\n",
      "[0012/1000] train loss: 0.5957828760147095, valid loss: 0.5911418795585632, valid accuracy: 0.9230769230769231\n",
      ">>>>>> 12에서 성능이 개선되어 저장합니다. 0.5911418795585632\n",
      "[0013/1000] train loss: 0.5839719176292419, valid loss: 0.5796034634113312, valid accuracy: 0.916083916083916\n",
      ">>>>>> 13에서 성능이 개선되어 저장합니다. 0.5796034634113312\n",
      "[0014/1000] train loss: 0.5719214379787445, valid loss: 0.5673181116580963, valid accuracy: 0.916083916083916\n",
      ">>>>>> 14에서 성능이 개선되어 저장합니다. 0.5673181116580963\n",
      "[0015/1000] train loss: 0.5556357204914093, valid loss: 0.5544164478778839, valid accuracy: 0.916083916083916\n",
      ">>>>>> 15에서 성능이 개선되어 저장합니다. 0.5544164478778839\n",
      "[0016/1000] train loss: 0.5442901253700256, valid loss: 0.5408969223499298, valid accuracy: 0.916083916083916\n",
      ">>>>>> 16에서 성능이 개선되어 저장합니다. 0.5408969223499298\n",
      "[0017/1000] train loss: 0.5298096835613251, valid loss: 0.5267489850521088, valid accuracy: 0.916083916083916\n",
      ">>>>>> 17에서 성능이 개선되어 저장합니다. 0.5267489850521088\n",
      "[0018/1000] train loss: 0.5151501893997192, valid loss: 0.5121357440948486, valid accuracy: 0.916083916083916\n",
      ">>>>>> 18에서 성능이 개선되어 저장합니다. 0.5121357440948486\n",
      "[0019/1000] train loss: 0.49857567250728607, valid loss: 0.497168704867363, valid accuracy: 0.916083916083916\n",
      ">>>>>> 19에서 성능이 개선되어 저장합니다. 0.497168704867363\n",
      "[0020/1000] train loss: 0.48239973187446594, valid loss: 0.4819474220275879, valid accuracy: 0.9090909090909091\n",
      ">>>>>> 20에서 성능이 개선되어 저장합니다. 0.4819474220275879\n",
      "[0021/1000] train loss: 0.46711577475070953, valid loss: 0.4664948433637619, valid accuracy: 0.9020979020979021\n",
      ">>>>>> 21에서 성능이 개선되어 저장합니다. 0.4664948433637619\n",
      "[0022/1000] train loss: 0.45216113328933716, valid loss: 0.45090019702911377, valid accuracy: 0.9020979020979021\n",
      ">>>>>> 22에서 성능이 개선되어 저장합니다. 0.45090019702911377\n",
      "[0023/1000] train loss: 0.4320150464773178, valid loss: 0.43517591059207916, valid accuracy: 0.9020979020979021\n",
      ">>>>>> 23에서 성능이 개선되어 저장합니다. 0.43517591059207916\n",
      "[0024/1000] train loss: 0.41569964587688446, valid loss: 0.41937506198883057, valid accuracy: 0.9090909090909091\n",
      ">>>>>> 24에서 성능이 개선되어 저장합니다. 0.41937506198883057\n",
      "[0025/1000] train loss: 0.39967359602451324, valid loss: 0.40363503992557526, valid accuracy: 0.9090909090909091\n",
      ">>>>>> 25에서 성능이 개선되어 저장합니다. 0.40363503992557526\n",
      "[0026/1000] train loss: 0.3833502233028412, valid loss: 0.38814564049243927, valid accuracy: 0.9090909090909091\n",
      ">>>>>> 26에서 성능이 개선되어 저장합니다. 0.38814564049243927\n",
      "[0027/1000] train loss: 0.3676401525735855, valid loss: 0.3729999512434006, valid accuracy: 0.9090909090909091\n",
      ">>>>>> 27에서 성능이 개선되어 저장합니다. 0.3729999512434006\n",
      "[0028/1000] train loss: 0.3514171987771988, valid loss: 0.358230322599411, valid accuracy: 0.9090909090909091\n",
      ">>>>>> 28에서 성능이 개선되어 저장합니다. 0.358230322599411\n",
      "[0029/1000] train loss: 0.33309321105480194, valid loss: 0.3439103960990906, valid accuracy: 0.9230769230769231\n",
      ">>>>>> 29에서 성능이 개선되어 저장합니다. 0.3439103960990906\n",
      "[0030/1000] train loss: 0.32038983702659607, valid loss: 0.3300321698188782, valid accuracy: 0.9230769230769231\n",
      ">>>>>> 30에서 성능이 개선되어 저장합니다. 0.3300321698188782\n",
      "[0031/1000] train loss: 0.30963292717933655, valid loss: 0.31677499413490295, valid accuracy: 0.9300699300699301\n",
      ">>>>>> 31에서 성능이 개선되어 저장합니다. 0.31677499413490295\n",
      "[0032/1000] train loss: 0.29100455343723297, valid loss: 0.3040734827518463, valid accuracy: 0.9300699300699301\n",
      ">>>>>> 32에서 성능이 개선되어 저장합니다. 0.3040734827518463\n",
      "[0033/1000] train loss: 0.27828486263751984, valid loss: 0.29191485047340393, valid accuracy: 0.9300699300699301\n",
      ">>>>>> 33에서 성능이 개선되어 저장합니다. 0.29191485047340393\n",
      "[0034/1000] train loss: 0.2659010961651802, valid loss: 0.28039976954460144, valid accuracy: 0.9300699300699301\n",
      ">>>>>> 34에서 성능이 개선되어 저장합니다. 0.28039976954460144\n",
      "[0035/1000] train loss: 0.25633619725704193, valid loss: 0.2694980278611183, valid accuracy: 0.9300699300699301\n",
      ">>>>>> 35에서 성능이 개선되어 저장합니다. 0.2694980278611183\n",
      "[0036/1000] train loss: 0.2459108829498291, valid loss: 0.25925596058368683, valid accuracy: 0.9370629370629371\n",
      ">>>>>> 36에서 성능이 개선되어 저장합니다. 0.25925596058368683\n",
      "[0037/1000] train loss: 0.23702436685562134, valid loss: 0.24966135621070862, valid accuracy: 0.9370629370629371\n",
      ">>>>>> 37에서 성능이 개선되어 저장합니다. 0.24966135621070862\n",
      "[0038/1000] train loss: 0.22007662057876587, valid loss: 0.2405954822897911, valid accuracy: 0.9370629370629371\n",
      ">>>>>> 38에서 성능이 개선되어 저장합니다. 0.2405954822897911\n",
      "[0039/1000] train loss: 0.2110556811094284, valid loss: 0.232127383351326, valid accuracy: 0.9370629370629371\n",
      ">>>>>> 39에서 성능이 개선되어 저장합니다. 0.232127383351326\n",
      "[0040/1000] train loss: 0.19835308194160461, valid loss: 0.22420301288366318, valid accuracy: 0.9370629370629371\n",
      ">>>>>> 40에서 성능이 개선되어 저장합니다. 0.22420301288366318\n",
      "[0041/1000] train loss: 0.19800475984811783, valid loss: 0.21675916761159897, valid accuracy: 0.9440559440559441\n",
      ">>>>>> 41에서 성능이 개선되어 저장합니다. 0.21675916761159897\n",
      "[0042/1000] train loss: 0.19484679400920868, valid loss: 0.20977431535720825, valid accuracy: 0.9440559440559441\n",
      ">>>>>> 42에서 성능이 개선되어 저장합니다. 0.20977431535720825\n",
      "[0043/1000] train loss: 0.18595758080482483, valid loss: 0.20319122821092606, valid accuracy: 0.9440559440559441\n",
      ">>>>>> 43에서 성능이 개선되어 저장합니다. 0.20319122821092606\n",
      "[0044/1000] train loss: 0.1757913902401924, valid loss: 0.19703207910060883, valid accuracy: 0.9440559440559441\n",
      ">>>>>> 44에서 성능이 개선되어 저장합니다. 0.19703207910060883\n",
      "[0045/1000] train loss: 0.17288994789123535, valid loss: 0.19127915799617767, valid accuracy: 0.9440559440559441\n",
      ">>>>>> 45에서 성능이 개선되어 저장합니다. 0.19127915799617767\n",
      "[0046/1000] train loss: 0.1654345765709877, valid loss: 0.1859336867928505, valid accuracy: 0.9440559440559441\n",
      ">>>>>> 46에서 성능이 개선되어 저장합니다. 0.1859336867928505\n",
      "[0047/1000] train loss: 0.15585866570472717, valid loss: 0.18092091381549835, valid accuracy: 0.9440559440559441\n",
      ">>>>>> 47에서 성능이 개선되어 저장합니다. 0.18092091381549835\n",
      "[0048/1000] train loss: 0.15349166840314865, valid loss: 0.17619872838258743, valid accuracy: 0.9440559440559441\n",
      ">>>>>> 48에서 성능이 개선되어 저장합니다. 0.17619872838258743\n",
      "[0049/1000] train loss: 0.1519714593887329, valid loss: 0.17178496718406677, valid accuracy: 0.9440559440559441\n",
      ">>>>>> 49에서 성능이 개선되어 저장합니다. 0.17178496718406677\n",
      "[0050/1000] train loss: 0.14555416256189346, valid loss: 0.16769281774759293, valid accuracy: 0.9440559440559441\n",
      ">>>>>> 50에서 성능이 개선되어 저장합니다. 0.16769281774759293\n",
      "[0051/1000] train loss: 0.14040447026491165, valid loss: 0.16386350244283676, valid accuracy: 0.9440559440559441\n",
      ">>>>>> 51에서 성능이 개선되어 저장합니다. 0.16386350244283676\n",
      "[0052/1000] train loss: 0.13763365894556046, valid loss: 0.1602606624364853, valid accuracy: 0.9440559440559441\n",
      ">>>>>> 52에서 성능이 개선되어 저장합니다. 0.1602606624364853\n",
      "[0053/1000] train loss: 0.13267790526151657, valid loss: 0.15690720826387405, valid accuracy: 0.9440559440559441\n",
      ">>>>>> 53에서 성능이 개선되어 저장합니다. 0.15690720826387405\n",
      "[0054/1000] train loss: 0.12958654388785362, valid loss: 0.15374986827373505, valid accuracy: 0.9440559440559441\n",
      ">>>>>> 54에서 성능이 개선되어 저장합니다. 0.15374986827373505\n",
      "[0055/1000] train loss: 0.1260841265320778, valid loss: 0.15078728646039963, valid accuracy: 0.9440559440559441\n",
      ">>>>>> 55에서 성능이 개선되어 저장합니다. 0.15078728646039963\n",
      "[0056/1000] train loss: 0.11919528245925903, valid loss: 0.14803816378116608, valid accuracy: 0.9440559440559441\n",
      ">>>>>> 56에서 성능이 개선되어 저장합니다. 0.14803816378116608\n",
      "[0057/1000] train loss: 0.11718257889151573, valid loss: 0.14546702802181244, valid accuracy: 0.951048951048951\n",
      ">>>>>> 57에서 성능이 개선되어 저장합니다. 0.14546702802181244\n",
      "[0058/1000] train loss: 0.11677325516939163, valid loss: 0.1430525928735733, valid accuracy: 0.951048951048951\n",
      ">>>>>> 58에서 성능이 개선되어 저장합니다. 0.1430525928735733\n",
      "[0059/1000] train loss: 0.10188787430524826, valid loss: 0.14079100638628006, valid accuracy: 0.9440559440559441\n",
      ">>>>>> 59에서 성능이 개선되어 저장합니다. 0.14079100638628006\n",
      "[0060/1000] train loss: 0.10767398402094841, valid loss: 0.1386733129620552, valid accuracy: 0.9440559440559441\n",
      ">>>>>> 60에서 성능이 개선되어 저장합니다. 0.1386733129620552\n",
      "[0061/1000] train loss: 0.10401898995041847, valid loss: 0.13669533282518387, valid accuracy: 0.9440559440559441\n",
      ">>>>>> 61에서 성능이 개선되어 저장합니다. 0.13669533282518387\n",
      "[0062/1000] train loss: 0.10739410296082497, valid loss: 0.1348639763891697, valid accuracy: 0.9440559440559441\n",
      ">>>>>> 62에서 성능이 개선되어 저장합니다. 0.1348639763891697\n",
      "[0063/1000] train loss: 0.10647847130894661, valid loss: 0.1331288330256939, valid accuracy: 0.9440559440559441\n",
      ">>>>>> 63에서 성능이 개선되어 저장합니다. 0.1331288330256939\n",
      "[0064/1000] train loss: 0.10281259939074516, valid loss: 0.13149381056427956, valid accuracy: 0.9440559440559441\n",
      ">>>>>> 64에서 성능이 개선되어 저장합니다. 0.13149381056427956\n",
      "[0065/1000] train loss: 0.10004313662648201, valid loss: 0.1299392618238926, valid accuracy: 0.9440559440559441\n",
      ">>>>>> 65에서 성능이 개선되어 저장합니다. 0.1299392618238926\n",
      "[0066/1000] train loss: 0.09763744845986366, valid loss: 0.12847266718745232, valid accuracy: 0.9440559440559441\n",
      ">>>>>> 66에서 성능이 개선되어 저장합니다. 0.12847266718745232\n",
      "[0067/1000] train loss: 0.08609448745846748, valid loss: 0.1271100752055645, valid accuracy: 0.9440559440559441\n",
      ">>>>>> 67에서 성능이 개선되어 저장합니다. 0.1271100752055645\n",
      "[0068/1000] train loss: 0.08868313208222389, valid loss: 0.1258097030222416, valid accuracy: 0.9440559440559441\n",
      ">>>>>> 68에서 성능이 개선되어 저장합니다. 0.1258097030222416\n",
      "[0069/1000] train loss: 0.0927482321858406, valid loss: 0.12460575997829437, valid accuracy: 0.9440559440559441\n",
      ">>>>>> 69에서 성능이 개선되어 저장합니다. 0.12460575997829437\n",
      "[0070/1000] train loss: 0.09155120328068733, valid loss: 0.12343957275152206, valid accuracy: 0.9440559440559441\n",
      ">>>>>> 70에서 성능이 개선되어 저장합니다. 0.12343957275152206\n",
      "[0071/1000] train loss: 0.09057632088661194, valid loss: 0.12233416736125946, valid accuracy: 0.9440559440559441\n",
      ">>>>>> 71에서 성능이 개선되어 저장합니다. 0.12233416736125946\n",
      "[0072/1000] train loss: 0.08651900291442871, valid loss: 0.12132527679204941, valid accuracy: 0.951048951048951\n",
      ">>>>>> 72에서 성능이 개선되어 저장합니다. 0.12132527679204941\n",
      "[0073/1000] train loss: 0.08157060667872429, valid loss: 0.12038499116897583, valid accuracy: 0.951048951048951\n",
      ">>>>>> 73에서 성능이 개선되어 저장합니다. 0.12038499116897583\n",
      "[0074/1000] train loss: 0.08120815828442574, valid loss: 0.11949976533651352, valid accuracy: 0.951048951048951\n",
      ">>>>>> 74에서 성능이 개선되어 저장합니다. 0.11949976533651352\n",
      "[0075/1000] train loss: 0.07530146092176437, valid loss: 0.11866038665175438, valid accuracy: 0.951048951048951\n",
      ">>>>>> 75에서 성능이 개선되어 저장합니다. 0.11866038665175438\n",
      "[0076/1000] train loss: 0.08290919661521912, valid loss: 0.1178363710641861, valid accuracy: 0.951048951048951\n",
      ">>>>>> 76에서 성능이 개선되어 저장합니다. 0.1178363710641861\n",
      "[0077/1000] train loss: 0.07978717237710953, valid loss: 0.11707022041082382, valid accuracy: 0.958041958041958\n",
      ">>>>>> 77에서 성능이 개선되어 저장합니다. 0.11707022041082382\n",
      "[0078/1000] train loss: 0.08070659637451172, valid loss: 0.11632880195975304, valid accuracy: 0.965034965034965\n",
      ">>>>>> 78에서 성능이 개선되어 저장합니다. 0.11632880195975304\n",
      "[0079/1000] train loss: 0.07785629481077194, valid loss: 0.11563204228878021, valid accuracy: 0.972027972027972\n",
      ">>>>>> 79에서 성능이 개선되어 저장합니다. 0.11563204228878021\n",
      "[0080/1000] train loss: 0.07727529108524323, valid loss: 0.11502232402563095, valid accuracy: 0.965034965034965\n",
      ">>>>>> 80에서 성능이 개선되어 저장합니다. 0.11502232402563095\n",
      "[0081/1000] train loss: 0.07647832110524178, valid loss: 0.11442746967077255, valid accuracy: 0.965034965034965\n",
      ">>>>>> 81에서 성능이 개선되어 저장합니다. 0.11442746967077255\n",
      "[0082/1000] train loss: 0.07736959680914879, valid loss: 0.11382687464356422, valid accuracy: 0.965034965034965\n",
      ">>>>>> 82에서 성능이 개선되어 저장합니다. 0.11382687464356422\n",
      "[0083/1000] train loss: 0.0743156149983406, valid loss: 0.11327559128403664, valid accuracy: 0.965034965034965\n",
      ">>>>>> 83에서 성능이 개선되어 저장합니다. 0.11327559128403664\n",
      "[0084/1000] train loss: 0.07477495074272156, valid loss: 0.11275890842080116, valid accuracy: 0.965034965034965\n",
      ">>>>>> 84에서 성능이 개선되어 저장합니다. 0.11275890842080116\n",
      "[0085/1000] train loss: 0.06532133370637894, valid loss: 0.11225569248199463, valid accuracy: 0.965034965034965\n",
      ">>>>>> 85에서 성능이 개선되어 저장합니다. 0.11225569248199463\n",
      "[0086/1000] train loss: 0.07182890176773071, valid loss: 0.1117752194404602, valid accuracy: 0.965034965034965\n",
      ">>>>>> 86에서 성능이 개선되어 저장합니다. 0.1117752194404602\n",
      "[0087/1000] train loss: 0.07179024815559387, valid loss: 0.11131877452135086, valid accuracy: 0.965034965034965\n",
      ">>>>>> 87에서 성능이 개선되어 저장합니다. 0.11131877452135086\n",
      "[0088/1000] train loss: 0.06568225473165512, valid loss: 0.11087602004408836, valid accuracy: 0.965034965034965\n",
      ">>>>>> 88에서 성능이 개선되어 저장합니다. 0.11087602004408836\n",
      "[0089/1000] train loss: 0.06903582625091076, valid loss: 0.11045381426811218, valid accuracy: 0.958041958041958\n",
      ">>>>>> 89에서 성능이 개선되어 저장합니다. 0.11045381426811218\n",
      "[0090/1000] train loss: 0.0661756657063961, valid loss: 0.11003612354397774, valid accuracy: 0.958041958041958\n",
      ">>>>>> 90에서 성능이 개선되어 저장합니다. 0.11003612354397774\n",
      "[0091/1000] train loss: 0.0656614825129509, valid loss: 0.10961607843637466, valid accuracy: 0.958041958041958\n",
      ">>>>>> 91에서 성능이 개선되어 저장합니다. 0.10961607843637466\n",
      "[0092/1000] train loss: 0.06849304586648941, valid loss: 0.10918927937746048, valid accuracy: 0.958041958041958\n",
      ">>>>>> 92에서 성능이 개선되어 저장합니다. 0.10918927937746048\n",
      "[0093/1000] train loss: 0.06588844768702984, valid loss: 0.10880861058831215, valid accuracy: 0.958041958041958\n",
      ">>>>>> 93에서 성능이 개선되어 저장합니다. 0.10880861058831215\n",
      "[0094/1000] train loss: 0.06485187448561192, valid loss: 0.1084507666528225, valid accuracy: 0.951048951048951\n",
      ">>>>>> 94에서 성능이 개선되어 저장합니다. 0.1084507666528225\n",
      "[0095/1000] train loss: 0.06321598775684834, valid loss: 0.10813415423035622, valid accuracy: 0.951048951048951\n",
      ">>>>>> 95에서 성능이 개선되어 저장합니다. 0.10813415423035622\n",
      "[0096/1000] train loss: 0.059593381360173225, valid loss: 0.10782627388834953, valid accuracy: 0.951048951048951\n",
      ">>>>>> 96에서 성능이 개선되어 저장합니다. 0.10782627388834953\n",
      "[0097/1000] train loss: 0.06407357379794121, valid loss: 0.10752906650304794, valid accuracy: 0.951048951048951\n",
      ">>>>>> 97에서 성능이 개선되어 저장합니다. 0.10752906650304794\n",
      "[0098/1000] train loss: 0.061799975112080574, valid loss: 0.10721201822161674, valid accuracy: 0.951048951048951\n",
      ">>>>>> 98에서 성능이 개선되어 저장합니다. 0.10721201822161674\n",
      "[0099/1000] train loss: 0.06347314454615116, valid loss: 0.1069512628018856, valid accuracy: 0.951048951048951\n",
      ">>>>>> 99에서 성능이 개선되어 저장합니다. 0.1069512628018856\n",
      "[0100/1000] train loss: 0.06149126961827278, valid loss: 0.10672742128372192, valid accuracy: 0.951048951048951\n",
      ">>>>>> 100에서 성능이 개선되어 저장합니다. 0.10672742128372192\n",
      "[0101/1000] train loss: 0.06245633587241173, valid loss: 0.10650096461176872, valid accuracy: 0.951048951048951\n",
      ">>>>>> 101에서 성능이 개선되어 저장합니다. 0.10650096461176872\n",
      "[0102/1000] train loss: 0.059519436210393906, valid loss: 0.10626372694969177, valid accuracy: 0.951048951048951\n",
      ">>>>>> 102에서 성능이 개선되어 저장합니다. 0.10626372694969177\n",
      "[0103/1000] train loss: 0.055592406541109085, valid loss: 0.10597461462020874, valid accuracy: 0.951048951048951\n",
      ">>>>>> 103에서 성능이 개선되어 저장합니다. 0.10597461462020874\n",
      "[0104/1000] train loss: 0.0571456104516983, valid loss: 0.10569089651107788, valid accuracy: 0.951048951048951\n",
      ">>>>>> 104에서 성능이 개선되어 저장합니다. 0.10569089651107788\n",
      "[0105/1000] train loss: 0.05779927968978882, valid loss: 0.10542004555463791, valid accuracy: 0.951048951048951\n",
      ">>>>>> 105에서 성능이 개선되어 저장합니다. 0.10542004555463791\n",
      "[0106/1000] train loss: 0.056986995972692966, valid loss: 0.10515756160020828, valid accuracy: 0.958041958041958\n",
      ">>>>>> 106에서 성능이 개선되어 저장합니다. 0.10515756160020828\n",
      "[0107/1000] train loss: 0.05581142008304596, valid loss: 0.1049378253519535, valid accuracy: 0.958041958041958\n",
      ">>>>>> 107에서 성능이 개선되어 저장합니다. 0.1049378253519535\n",
      "[0108/1000] train loss: 0.056136300787329674, valid loss: 0.10471348091959953, valid accuracy: 0.958041958041958\n",
      ">>>>>> 108에서 성능이 개선되어 저장합니다. 0.10471348091959953\n",
      "[0109/1000] train loss: 0.05430242046713829, valid loss: 0.10452139377593994, valid accuracy: 0.958041958041958\n",
      ">>>>>> 109에서 성능이 개선되어 저장합니다. 0.10452139377593994\n",
      "[0110/1000] train loss: 0.05408882722258568, valid loss: 0.10434340313076973, valid accuracy: 0.958041958041958\n",
      ">>>>>> 110에서 성능이 개선되어 저장합니다. 0.10434340313076973\n",
      "[0111/1000] train loss: 0.055159399285912514, valid loss: 0.1041661873459816, valid accuracy: 0.958041958041958\n",
      ">>>>>> 111에서 성능이 개선되어 저장합니다. 0.1041661873459816\n",
      "[0112/1000] train loss: 0.05604042299091816, valid loss: 0.10398891195654869, valid accuracy: 0.958041958041958\n",
      ">>>>>> 112에서 성능이 개선되어 저장합니다. 0.10398891195654869\n",
      "[0113/1000] train loss: 0.055231641978025436, valid loss: 0.10388268902897835, valid accuracy: 0.958041958041958\n",
      ">>>>>> 113에서 성능이 개선되어 저장합니다. 0.10388268902897835\n",
      "[0114/1000] train loss: 0.05102730356156826, valid loss: 0.103742815554142, valid accuracy: 0.958041958041958\n",
      ">>>>>> 114에서 성능이 개선되어 저장합니다. 0.103742815554142\n",
      "[0115/1000] train loss: 0.041566597297787666, valid loss: 0.10360453277826309, valid accuracy: 0.958041958041958\n",
      ">>>>>> 115에서 성능이 개선되어 저장합니다. 0.10360453277826309\n",
      "[0116/1000] train loss: 0.049369923770427704, valid loss: 0.10344484820961952, valid accuracy: 0.958041958041958\n",
      ">>>>>> 116에서 성능이 개선되어 저장합니다. 0.10344484820961952\n",
      "[0117/1000] train loss: 0.05404806323349476, valid loss: 0.103299830108881, valid accuracy: 0.958041958041958\n",
      ">>>>>> 117에서 성능이 개선되어 저장합니다. 0.103299830108881\n",
      "[0118/1000] train loss: 0.05379987694323063, valid loss: 0.10319110751152039, valid accuracy: 0.958041958041958\n",
      ">>>>>> 118에서 성능이 개선되어 저장합니다. 0.10319110751152039\n",
      "[0119/1000] train loss: 0.0529487244784832, valid loss: 0.10306605696678162, valid accuracy: 0.958041958041958\n",
      ">>>>>> 119에서 성능이 개선되어 저장합니다. 0.10306605696678162\n",
      "[0120/1000] train loss: 0.05170580372214317, valid loss: 0.1029430665075779, valid accuracy: 0.958041958041958\n",
      ">>>>>> 120에서 성능이 개선되어 저장합니다. 0.1029430665075779\n",
      "[0121/1000] train loss: 0.052136246114969254, valid loss: 0.10280170291662216, valid accuracy: 0.958041958041958\n",
      ">>>>>> 121에서 성능이 개선되어 저장합니다. 0.10280170291662216\n",
      "[0122/1000] train loss: 0.052205611020326614, valid loss: 0.1027265191078186, valid accuracy: 0.958041958041958\n",
      ">>>>>> 122에서 성능이 개선되어 저장합니다. 0.1027265191078186\n",
      "[0123/1000] train loss: 0.04797404259443283, valid loss: 0.10259520635008812, valid accuracy: 0.958041958041958\n",
      ">>>>>> 123에서 성능이 개선되어 저장합니다. 0.10259520635008812\n",
      "[0124/1000] train loss: 0.049457380548119545, valid loss: 0.10241524502635002, valid accuracy: 0.958041958041958\n",
      ">>>>>> 124에서 성능이 개선되어 저장합니다. 0.10241524502635002\n",
      "[0125/1000] train loss: 0.04719318263232708, valid loss: 0.10224206745624542, valid accuracy: 0.958041958041958\n",
      ">>>>>> 125에서 성능이 개선되어 저장합니다. 0.10224206745624542\n",
      "[0126/1000] train loss: 0.04950982704758644, valid loss: 0.1020631231367588, valid accuracy: 0.958041958041958\n",
      ">>>>>> 126에서 성능이 개선되어 저장합니다. 0.1020631231367588\n",
      "[0127/1000] train loss: 0.04965109936892986, valid loss: 0.10193580389022827, valid accuracy: 0.958041958041958\n",
      ">>>>>> 127에서 성능이 개선되어 저장합니다. 0.10193580389022827\n",
      "[0128/1000] train loss: 0.049243563786149025, valid loss: 0.10184355825185776, valid accuracy: 0.958041958041958\n",
      ">>>>>> 128에서 성능이 개선되어 저장합니다. 0.10184355825185776\n",
      "[0129/1000] train loss: 0.048757344484329224, valid loss: 0.1017574854195118, valid accuracy: 0.958041958041958\n",
      ">>>>>> 129에서 성능이 개선되어 저장합니다. 0.1017574854195118\n",
      "[0130/1000] train loss: 0.044392168521881104, valid loss: 0.10170727968215942, valid accuracy: 0.958041958041958\n",
      ">>>>>> 130에서 성능이 개선되어 저장합니다. 0.10170727968215942\n",
      "[0131/1000] train loss: 0.047722186893224716, valid loss: 0.10165221989154816, valid accuracy: 0.958041958041958\n",
      ">>>>>> 131에서 성능이 개선되어 저장합니다. 0.10165221989154816\n",
      "[0132/1000] train loss: 0.047743428498506546, valid loss: 0.10162335634231567, valid accuracy: 0.958041958041958\n",
      ">>>>>> 132에서 성능이 개선되어 저장합니다. 0.10162335634231567\n",
      "[0133/1000] train loss: 0.04757307469844818, valid loss: 0.10154899209737778, valid accuracy: 0.958041958041958\n",
      ">>>>>> 133에서 성능이 개선되어 저장합니다. 0.10154899209737778\n",
      "[0134/1000] train loss: 0.04699071682989597, valid loss: 0.10150035843253136, valid accuracy: 0.958041958041958\n",
      ">>>>>> 134에서 성능이 개선되어 저장합니다. 0.10150035843253136\n",
      "[0135/1000] train loss: 0.04502605088055134, valid loss: 0.10148011520504951, valid accuracy: 0.958041958041958\n",
      ">>>>>> 135에서 성능이 개선되어 저장합니다. 0.10148011520504951\n",
      "[0136/1000] train loss: 0.04700214974582195, valid loss: 0.10144567489624023, valid accuracy: 0.958041958041958\n",
      ">>>>>> 136에서 성능이 개선되어 저장합니다. 0.10144567489624023\n",
      "[0137/1000] train loss: 0.04110592417418957, valid loss: 0.10147246345877647, valid accuracy: 0.958041958041958\n",
      "[0138/1000] train loss: 0.04569031670689583, valid loss: 0.1014765240252018, valid accuracy: 0.958041958041958\n",
      "[0139/1000] train loss: 0.04475119709968567, valid loss: 0.10151446983218193, valid accuracy: 0.958041958041958\n",
      "[0140/1000] train loss: 0.045463078655302525, valid loss: 0.10150931030511856, valid accuracy: 0.958041958041958\n",
      "[0141/1000] train loss: 0.04517369903624058, valid loss: 0.10146576538681984, valid accuracy: 0.958041958041958\n",
      "[0142/1000] train loss: 0.043772248551249504, valid loss: 0.10139479488134384, valid accuracy: 0.958041958041958\n",
      ">>>>>> 142에서 성능이 개선되어 저장합니다. 0.10139479488134384\n",
      "[0143/1000] train loss: 0.04477222543209791, valid loss: 0.10143611952662468, valid accuracy: 0.958041958041958\n",
      "[0144/1000] train loss: 0.03962993901222944, valid loss: 0.10137021914124489, valid accuracy: 0.958041958041958\n",
      ">>>>>> 144에서 성능이 개선되어 저장합니다. 0.10137021914124489\n",
      "[0145/1000] train loss: 0.04019367694854736, valid loss: 0.10139201208949089, valid accuracy: 0.958041958041958\n",
      "[0146/1000] train loss: 0.04261088836938143, valid loss: 0.10135677456855774, valid accuracy: 0.958041958041958\n",
      ">>>>>> 146에서 성능이 개선되어 저장합니다. 0.10135677456855774\n",
      "[0147/1000] train loss: 0.042836662381887436, valid loss: 0.10133489966392517, valid accuracy: 0.958041958041958\n",
      ">>>>>> 147에서 성능이 개선되어 저장합니다. 0.10133489966392517\n",
      "[0148/1000] train loss: 0.04174061957746744, valid loss: 0.10137632489204407, valid accuracy: 0.958041958041958\n",
      "[0149/1000] train loss: 0.042410681024193764, valid loss: 0.1013769693672657, valid accuracy: 0.958041958041958\n",
      "[0150/1000] train loss: 0.02812792733311653, valid loss: 0.10127236321568489, valid accuracy: 0.958041958041958\n",
      ">>>>>> 150에서 성능이 개선되어 저장합니다. 0.10127236321568489\n",
      "[0151/1000] train loss: 0.041875340044498444, valid loss: 0.10115249082446098, valid accuracy: 0.958041958041958\n",
      ">>>>>> 151에서 성능이 개선되어 저장합니다. 0.10115249082446098\n",
      "[0152/1000] train loss: 0.04114995151758194, valid loss: 0.10106588527560234, valid accuracy: 0.958041958041958\n",
      ">>>>>> 152에서 성능이 개선되어 저장합니다. 0.10106588527560234\n",
      "[0153/1000] train loss: 0.04139130935072899, valid loss: 0.10100012272596359, valid accuracy: 0.958041958041958\n",
      ">>>>>> 153에서 성능이 개선되어 저장합니다. 0.10100012272596359\n",
      "[0154/1000] train loss: 0.041274397633969784, valid loss: 0.10101500898599625, valid accuracy: 0.958041958041958\n",
      "[0155/1000] train loss: 0.03901976998895407, valid loss: 0.10101450607180595, valid accuracy: 0.958041958041958\n",
      "[0156/1000] train loss: 0.041023360565304756, valid loss: 0.10093733295798302, valid accuracy: 0.958041958041958\n",
      ">>>>>> 156에서 성능이 개선되어 저장합니다. 0.10093733295798302\n",
      "[0157/1000] train loss: 0.04053831472992897, valid loss: 0.1008494608104229, valid accuracy: 0.958041958041958\n",
      ">>>>>> 157에서 성능이 개선되어 저장합니다. 0.1008494608104229\n",
      "[0158/1000] train loss: 0.03614289313554764, valid loss: 0.10090066120028496, valid accuracy: 0.958041958041958\n",
      "[0159/1000] train loss: 0.040290193632245064, valid loss: 0.10096414387226105, valid accuracy: 0.958041958041958\n",
      "[0160/1000] train loss: 0.0388506930321455, valid loss: 0.1009415052831173, valid accuracy: 0.958041958041958\n",
      "[0161/1000] train loss: 0.03832882456481457, valid loss: 0.10089325159788132, valid accuracy: 0.958041958041958\n",
      "[0162/1000] train loss: 0.0388566805049777, valid loss: 0.1008617952466011, valid accuracy: 0.958041958041958\n",
      "[0163/1000] train loss: 0.0385248176753521, valid loss: 0.10081082955002785, valid accuracy: 0.958041958041958\n",
      ">>>>>> 163에서 성능이 개선되어 저장합니다. 0.10081082955002785\n",
      "[0164/1000] train loss: 0.03826780430972576, valid loss: 0.10076698660850525, valid accuracy: 0.958041958041958\n",
      ">>>>>> 164에서 성능이 개선되어 저장합니다. 0.10076698660850525\n",
      "[0165/1000] train loss: 0.038555738516151905, valid loss: 0.1007368303835392, valid accuracy: 0.958041958041958\n",
      ">>>>>> 165에서 성능이 개선되어 저장합니다. 0.1007368303835392\n",
      "[0166/1000] train loss: 0.037012701854109764, valid loss: 0.10071323439478874, valid accuracy: 0.958041958041958\n",
      ">>>>>> 166에서 성능이 개선되어 저장합니다. 0.10071323439478874\n",
      "[0167/1000] train loss: 0.03393167071044445, valid loss: 0.10067933052778244, valid accuracy: 0.958041958041958\n",
      ">>>>>> 167에서 성능이 개선되어 저장합니다. 0.10067933052778244\n",
      "[0168/1000] train loss: 0.03490242920815945, valid loss: 0.10050682350993156, valid accuracy: 0.958041958041958\n",
      ">>>>>> 168에서 성능이 개선되어 저장합니다. 0.10050682350993156\n",
      "[0169/1000] train loss: 0.03673100098967552, valid loss: 0.10035528615117073, valid accuracy: 0.958041958041958\n",
      ">>>>>> 169에서 성능이 개선되어 저장합니다. 0.10035528615117073\n",
      "[0170/1000] train loss: 0.03191383555531502, valid loss: 0.10022846609354019, valid accuracy: 0.958041958041958\n",
      ">>>>>> 170에서 성능이 개선되어 저장합니다. 0.10022846609354019\n",
      "[0171/1000] train loss: 0.03601605258882046, valid loss: 0.10017217695713043, valid accuracy: 0.958041958041958\n",
      ">>>>>> 171에서 성능이 개선되어 저장합니다. 0.10017217695713043\n",
      "[0172/1000] train loss: 0.03680222015827894, valid loss: 0.10007791593670845, valid accuracy: 0.958041958041958\n",
      ">>>>>> 172에서 성능이 개선되어 저장합니다. 0.10007791593670845\n",
      "[0173/1000] train loss: 0.0368939321488142, valid loss: 0.09995299950242043, valid accuracy: 0.958041958041958\n",
      ">>>>>> 173에서 성능이 개선되어 저장합니다. 0.09995299950242043\n",
      "[0174/1000] train loss: 0.03633711487054825, valid loss: 0.09995100647211075, valid accuracy: 0.958041958041958\n",
      ">>>>>> 174에서 성능이 개선되어 저장합니다. 0.09995100647211075\n",
      "[0175/1000] train loss: 0.035429803654551506, valid loss: 0.09986227005720139, valid accuracy: 0.958041958041958\n",
      ">>>>>> 175에서 성능이 개선되어 저장합니다. 0.09986227005720139\n",
      "[0176/1000] train loss: 0.034924380481243134, valid loss: 0.09974478557705879, valid accuracy: 0.958041958041958\n",
      ">>>>>> 176에서 성능이 개선되어 저장합니다. 0.09974478557705879\n",
      "[0177/1000] train loss: 0.03523937053978443, valid loss: 0.0996880754828453, valid accuracy: 0.958041958041958\n",
      ">>>>>> 177에서 성능이 개선되어 저장합니다. 0.0996880754828453\n",
      "[0178/1000] train loss: 0.03564178291708231, valid loss: 0.0995810441672802, valid accuracy: 0.958041958041958\n",
      ">>>>>> 178에서 성능이 개선되어 저장합니다. 0.0995810441672802\n",
      "[0179/1000] train loss: 0.035408915020525455, valid loss: 0.09952174127101898, valid accuracy: 0.958041958041958\n",
      ">>>>>> 179에서 성능이 개선되어 저장합니다. 0.09952174127101898\n",
      "[0180/1000] train loss: 0.030664924532175064, valid loss: 0.09942803531885147, valid accuracy: 0.958041958041958\n",
      ">>>>>> 180에서 성능이 개선되어 저장합니다. 0.09942803531885147\n",
      "[0181/1000] train loss: 0.03432033769786358, valid loss: 0.09943414479494095, valid accuracy: 0.958041958041958\n",
      "[0182/1000] train loss: 0.03422247525304556, valid loss: 0.09937870875000954, valid accuracy: 0.958041958041958\n",
      ">>>>>> 182에서 성능이 개선되어 저장합니다. 0.09937870875000954\n",
      "[0183/1000] train loss: 0.030572100542485714, valid loss: 0.09931313246488571, valid accuracy: 0.958041958041958\n",
      ">>>>>> 183에서 성능이 개선되어 저장합니다. 0.09931313246488571\n",
      "[0184/1000] train loss: 0.032573570497334, valid loss: 0.09910475090146065, valid accuracy: 0.958041958041958\n",
      ">>>>>> 184에서 성능이 개선되어 저장합니다. 0.09910475090146065\n",
      "[0185/1000] train loss: 0.03355497866868973, valid loss: 0.09897992759943008, valid accuracy: 0.958041958041958\n",
      ">>>>>> 185에서 성능이 개선되어 저장합니다. 0.09897992759943008\n",
      "[0186/1000] train loss: 0.03180135786533356, valid loss: 0.09894339367747307, valid accuracy: 0.958041958041958\n",
      ">>>>>> 186에서 성능이 개선되어 저장합니다. 0.09894339367747307\n",
      "[0187/1000] train loss: 0.03189766826108098, valid loss: 0.09898273646831512, valid accuracy: 0.958041958041958\n",
      "[0188/1000] train loss: 0.03295860253274441, valid loss: 0.09898775815963745, valid accuracy: 0.958041958041958\n",
      "[0189/1000] train loss: 0.03302059508860111, valid loss: 0.09906232729554176, valid accuracy: 0.958041958041958\n",
      "[0190/1000] train loss: 0.03302765358239412, valid loss: 0.09904542192816734, valid accuracy: 0.958041958041958\n",
      "[0191/1000] train loss: 0.018275567330420017, valid loss: 0.09893454238772392, valid accuracy: 0.958041958041958\n",
      ">>>>>> 191에서 성능이 개선되어 저장합니다. 0.09893454238772392\n",
      "[0192/1000] train loss: 0.032372609712183475, valid loss: 0.09885172918438911, valid accuracy: 0.958041958041958\n",
      ">>>>>> 192에서 성능이 개선되어 저장합니다. 0.09885172918438911\n",
      "[0193/1000] train loss: 0.032120129093527794, valid loss: 0.09877703711390495, valid accuracy: 0.958041958041958\n",
      ">>>>>> 193에서 성능이 개선되어 저장합니다. 0.09877703711390495\n",
      "[0194/1000] train loss: 0.03191103879362345, valid loss: 0.09875468164682388, valid accuracy: 0.958041958041958\n",
      ">>>>>> 194에서 성능이 개선되어 저장합니다. 0.09875468164682388\n",
      "[0195/1000] train loss: 0.03164236061275005, valid loss: 0.09870761632919312, valid accuracy: 0.958041958041958\n",
      ">>>>>> 195에서 성능이 개선되어 저장합니다. 0.09870761632919312\n",
      "[0196/1000] train loss: 0.029069234617054462, valid loss: 0.09869876503944397, valid accuracy: 0.958041958041958\n",
      ">>>>>> 196에서 성능이 개선되어 저장합니다. 0.09869876503944397\n",
      "[0197/1000] train loss: 0.03111765068024397, valid loss: 0.0987967997789383, valid accuracy: 0.958041958041958\n",
      "[0198/1000] train loss: 0.030599825084209442, valid loss: 0.09890429303050041, valid accuracy: 0.958041958041958\n",
      "[0199/1000] train loss: 0.031056485138833523, valid loss: 0.09899057820439339, valid accuracy: 0.958041958041958\n",
      "[0200/1000] train loss: 0.03054976277053356, valid loss: 0.09902075305581093, valid accuracy: 0.958041958041958\n",
      "[0201/1000] train loss: 0.030630316585302353, valid loss: 0.09900397807359695, valid accuracy: 0.958041958041958\n",
      "[0202/1000] train loss: 0.02826033253222704, valid loss: 0.09906277060508728, valid accuracy: 0.958041958041958\n",
      "[0203/1000] train loss: 0.029873164370656013, valid loss: 0.09921016171574593, valid accuracy: 0.958041958041958\n",
      "[0204/1000] train loss: 0.028667869977653027, valid loss: 0.09924933314323425, valid accuracy: 0.958041958041958\n",
      "[0205/1000] train loss: 0.0277616148814559, valid loss: 0.09931623563170433, valid accuracy: 0.958041958041958\n",
      "[0206/1000] train loss: 0.028616375289857388, valid loss: 0.09932900220155716, valid accuracy: 0.958041958041958\n",
      "206 에폭에서 조기종료 합니다. 0.09869876503944397에서 개선되지 않음.\n",
      "걸린시간(초): 1.2582557201385498\n"
     ]
    }
   ],
   "source": [
    "import time\n",
    "\n",
    "### 모델 학습(train) 로직 작성\n",
    "#### 검증 결과 -> train loss, valid_loss, valid_accuracy\n",
    "### 모델 성능이 개선될 때 마다 저장.\n",
    "### 조기종료 - 10 epoch 동안 성능 개선이 없으면 조기종료\n",
    "\n",
    "save_path = \"saved_models/bc_model.pt\"\n",
    "best_score = torch.inf   # validation loss 기준으로 저장/조기종료 여부 확인.\n",
    "patience = 10\n",
    "trigger_cnt = 0\n",
    "\n",
    "train_losses, valid_losses, valid_acces = [], [], []\n",
    "\n",
    "s = time.time()\n",
    "for epoch in range(epochs):\n",
    "    ################### train #######################\n",
    "    b_model.train()\n",
    "    train_loss = 0.0\n",
    "    for X_train, y_train in train_loader:\n",
    "        X_train, y_train = X_train.to(device), y_train.to(device)\n",
    "        pred = b_model(X_train)  # positive일 확률\n",
    "        loss = loss_fn(pred, y_train)\n",
    "        loss.backward()\n",
    "        optimizer.step()\n",
    "        optimizer.zero_grad()\n",
    "        train_loss += loss.item()\n",
    "    train_loss /= len(train_loader)\n",
    "\n",
    "    ################### validation ##################\n",
    "    b_model.eval()\n",
    "    valid_loss = valid_acc = 0.0\n",
    "    with torch.no_grad():\n",
    "        for X_test, y_test in test_loader:\n",
    "            X_test, y_test = X_test.to(device), y_test.to(device)\n",
    "            pred_test = b_model(X_test) # positive일 확률\n",
    "            valid_loss += loss_fn(pred_test, y_test).item()\n",
    "            #  이진 분류에서 accuracy\n",
    "            valid_acc += torch.sum((pred_test > 0.5).type(torch.int32) == y_test).item()\n",
    "        valid_loss /= len(test_loader)\n",
    "        valid_acc /= len(test_loader.dataset)\n",
    "        valid_losses.append(valid_loss)\n",
    "        valid_acces.append(valid_acc)\n",
    "    \n",
    "    log_template = \"[{:04d}/{}] train loss: {}, valid loss: {}, valid accuracy: {}\"\n",
    "    print(log_template.format(epoch+1, epochs, train_loss, valid_loss, valid_acc))\n",
    "    # 모델 저장, 조기종료\n",
    "    if valid_loss <  best_score: # 성능 개선\n",
    "        print(f\">>>>>> {epoch+1}에서 성능이 개선되어 저장합니다. {valid_loss}\")\n",
    "        torch.save(b_model, save_path)\n",
    "        best_score = valid_loss\n",
    "        trigger_cnt = 0\n",
    "    else:\n",
    "        trigger_cnt += 1\n",
    "        if patience == trigger_cnt:\n",
    "            print(f\"{epoch+1} 에폭에서 조기종료 합니다. {best_score}에서 개선되지 않음.\")\n",
    "            break\n",
    "    \n",
    "e = time.time()\n",
    "print(\"걸린시간(초):\", e-s)"
   ]
  },
  {
   "cell_type": "code",
   "execution_count": null,
   "metadata": {},
   "outputs": [],
   "source": [
    "## loss, acc 시각화"
   ]
  },
  {
   "cell_type": "code",
   "execution_count": 40,
   "metadata": {
    "collapsed": true,
    "jupyter": {
     "outputs_hidden": true
    },
    "scrolled": true
   },
   "outputs": [
    {
     "name": "stderr",
     "output_type": "stream",
     "text": [
      "C:\\Users\\Playdata\\AppData\\Local\\Temp\\ipykernel_9668\\1033361258.py:1: FutureWarning: You are using `torch.load` with `weights_only=False` (the current default value), which uses the default pickle module implicitly. It is possible to construct malicious pickle data which will execute arbitrary code during unpickling (See https://github.com/pytorch/pytorch/blob/main/SECURITY.md#untrusted-models for more details). In a future release, the default value for `weights_only` will be flipped to `True`. This limits the functions that could be executed during unpickling. Arbitrary objects will no longer be allowed to be loaded via this mode unless they are explicitly allowlisted by the user via `torch.serialization.add_safe_globals`. We recommend you start setting `weights_only=True` for any use case where you don't have full control of the loaded file. Please open an issue on GitHub for any issues related to this experimental feature.\n",
      "  best_model = torch.load(save_path)\n"
     ]
    },
    {
     "data": {
      "text/plain": [
       "BreastCancerModel(\n",
       "  (lr1): Linear(in_features=30, out_features=32, bias=True)\n",
       "  (lr2): Linear(in_features=32, out_features=8, bias=True)\n",
       "  (lr3): Linear(in_features=8, out_features=1, bias=True)\n",
       "  (relu): ReLU()\n",
       "  (logistic): Sigmoid()\n",
       ")"
      ]
     },
     "execution_count": 40,
     "metadata": {},
     "output_type": "execute_result"
    }
   ],
   "source": [
    "best_model = torch.load(save_path)\n",
    "best_model"
   ]
  },
  {
   "cell_type": "code",
   "execution_count": 53,
   "metadata": {},
   "outputs": [],
   "source": [
    "def predict_bc(model, X, device=device):\n",
    "    # model로 X를 추론한 결과를 반환\n",
    "    # label, 확률\n",
    "    result = []\n",
    "    with torch.no_grad():\n",
    "        pred_proba = model(X)\n",
    "        pred_class = (pred_proba > 0.5).type(torch.int32)\n",
    "        for class_index, proba in zip(pred_class, pred_proba):\n",
    "            # print(class_index, proba if class_index.item() == 1 else 1-proba)\n",
    "            result.append((class_index.item(), proba if class_index.item() == 1 else 1-proba))\n",
    "        return result"
   ]
  },
  {
   "cell_type": "code",
   "execution_count": 55,
   "metadata": {},
   "outputs": [],
   "source": [
    "new_data = torch.tensor(X_test_scaled[:5], dtype=torch.float32)\n",
    "# print(new_data.shape)\n",
    "result = predict_bc(best_model, new_data, device)"
   ]
  },
  {
   "cell_type": "code",
   "execution_count": 56,
   "metadata": {},
   "outputs": [
    {
     "data": {
      "text/plain": [
       "[(1, tensor([0.9979])),\n",
       " (0, tensor([0.9998])),\n",
       " (0, tensor([0.9984])),\n",
       " (1, tensor([0.9997])),\n",
       " (0, tensor([0.9943]))]"
      ]
     },
     "execution_count": 56,
     "metadata": {},
     "output_type": "execute_result"
    }
   ],
   "source": [
    "result"
   ]
  },
  {
   "cell_type": "code",
   "execution_count": null,
   "metadata": {},
   "outputs": [],
   "source": []
  },
  {
   "cell_type": "markdown",
   "metadata": {},
   "source": [
    "# 모델 유형별 구현 정리\n",
    "\n",
    "## 공통\n",
    "\n",
    "-   Input layer(첫번째 Layer)의 in_features\n",
    "    -   입력데이터의 feature(속성) 개수에 맞춰준다.\n",
    "-   Hidden layer 수\n",
    "    -   경험적(art)으로 정한다.\n",
    "    -   Hidden layer에 Linear를 사용하는 경우 보통 feature 수를 줄여 나간다. (핵심특성들을 추출해나가는 과정의 개념.)\n",
    "\n",
    "## 회귀 모델\n",
    "\n",
    "-   output layer의 출력 unit개수(out_features)\n",
    "    -   정답의 개수\n",
    "    -   ex\n",
    "        -   집값: 1\n",
    "        -   아파트가격, 단독가격, 빌라가격: 3 => y의 개수에 맞춘다.\n",
    "-   출력 Layer에 적용하는 activation 함수\n",
    "    -   일반적으로 **None**\n",
    "    -   값의 범위가 설정되 있고 그 범위의 값을 출력하는 함수가 있을 경우\n",
    "        -   ex) 0 ~ 1: logistic(Sigmoid), -1 ~ 1: hyperbolic tangent(Tanh)\n",
    "-   loss함수\n",
    "    -   MSELoss\n",
    "-   평가지표\n",
    "    -   MSE, RMSE, R square($R^2$)\n",
    "\n",
    "## 다중분류 모델\n",
    "\n",
    "-   output layer의 unit 개수\n",
    "    -   정답 class(고유값)의 개수\n",
    "-   출력 Layer에 적용하는 activation 함수\n",
    "    -   Softmax: 클래스별 확률을 출력\n",
    "-   loss함수\n",
    "    -   **categrocial crossentropy**\n",
    "    -   파이토치 함수\n",
    "        -   **CrossEntropyLoss** = NLLLoss(정답) + LogSoftmax(모델 예측값)\n",
    "        -   **NLLLoss**\n",
    "            -   정답을 OneHot Encoding 처리 후 Loss를 계산한다.\n",
    "            -   입력으로 LogSoftmax 처리한 모델 예측값과 onehot encoding 안 된 정답을 받는다.\n",
    "        -   **LogSoftmax**\n",
    "            -   입력값에 Softmax 계산후 그 Log를 계산한다.\n",
    "                -   NLLLoss의 모델 예측값 입력값으로 처리할 때 사용한다.\n",
    "\n",
    "```python\n",
    "pred = model(input)\n",
    "loss1 = nn.NLLLoss(nn.LogSoftmax(dim=-1)(pred), y)\n",
    "# or\n",
    "loss2 = nn.CrossEntropyLoss()(pred, y)\n",
    "```\n",
    "\n",
    "## 이진분류 모델\n",
    "\n",
    "-   output layer의 unit 개수\n",
    "    -   1개 (positive일 확률)\n",
    "-   출력 Layer에 적용하는 activation 함수\n",
    "    -   Sigmoid(Logistic)\n",
    "-   loss 함수\n",
    "    -   **Binary crossentropy**\n",
    "    -   파이토치 함수: **BCELoss**\n"
   ]
  },
  {
   "cell_type": "code",
   "execution_count": 2,
   "metadata": {},
   "outputs": [
    {
     "data": {
      "text/plain": [
       "torch.Size([3, 10])"
      ]
     },
     "execution_count": 2,
     "metadata": {},
     "output_type": "execute_result"
    }
   ],
   "source": [
    "import torch\n",
    "\n",
    "y = torch.randn(3, 10)\n",
    "y.shape"
   ]
  },
  {
   "cell_type": "code",
   "execution_count": 5,
   "metadata": {},
   "outputs": [
    {
     "data": {
      "text/plain": [
       "tensor([1, 3, 0])"
      ]
     },
     "execution_count": 5,
     "metadata": {},
     "output_type": "execute_result"
    }
   ],
   "source": [
    "y.argmax(-1)"
   ]
  },
  {
   "cell_type": "code",
   "execution_count": 6,
   "metadata": {},
   "outputs": [
    {
     "data": {
      "text/plain": [
       "torch.return_types.max(\n",
       "values=tensor([0.8207, 3.2270, 1.1005]),\n",
       "indices=tensor([1, 3, 0]))"
      ]
     },
     "execution_count": 6,
     "metadata": {},
     "output_type": "execute_result"
    }
   ],
   "source": [
    "y.max(-1)"
   ]
  },
  {
   "cell_type": "code",
   "execution_count": 8,
   "metadata": {},
   "outputs": [
    {
     "data": {
      "text/plain": [
       "tensor([-1.1755, -0.5662,  0.4015])"
      ]
     },
     "execution_count": 8,
     "metadata": {},
     "output_type": "execute_result"
    }
   ],
   "source": [
    "y.sum(-1)"
   ]
  },
  {
   "cell_type": "code",
   "execution_count": 10,
   "metadata": {},
   "outputs": [
    {
     "data": {
      "text/plain": [
       "tensor([[ 0.3004,  0.8207,  0.3793, -1.5469, -1.1062,  0.4135, -0.7181,  0.4332,\n",
       "         -0.1682,  0.0168],\n",
       "        [ 0.0907, -0.2183, -2.8074,  3.2270, -1.3272, -0.7209, -0.9432,  0.4112,\n",
       "          0.1030,  1.6189],\n",
       "        [ 1.1005, -1.6897, -0.0264,  0.6965,  0.8138, -0.8811,  0.3088,  0.0828,\n",
       "          0.3606, -0.3642]])"
      ]
     },
     "execution_count": 10,
     "metadata": {},
     "output_type": "execute_result"
    }
   ],
   "source": [
    "y"
   ]
  },
  {
   "cell_type": "code",
   "execution_count": 11,
   "metadata": {},
   "outputs": [
    {
     "data": {
      "text/plain": [
       "torch.Size([3, 10])"
      ]
     },
     "execution_count": 11,
     "metadata": {},
     "output_type": "execute_result"
    }
   ],
   "source": [
    "y.shape"
   ]
  },
  {
   "cell_type": "code",
   "execution_count": 13,
   "metadata": {},
   "outputs": [
    {
     "data": {
      "text/plain": [
       "torch.Size([3, 10])"
      ]
     },
     "execution_count": 13,
     "metadata": {},
     "output_type": "execute_result"
    }
   ],
   "source": [
    "f = torch.nn.Softmax(dim=1)\n",
    "proba = f(y)\n",
    "proba.shape"
   ]
  },
  {
   "cell_type": "code",
   "execution_count": 15,
   "metadata": {},
   "outputs": [
    {
     "name": "stdout",
     "output_type": "stream",
     "text": [
      "tensor([[0.1224, 0.2060, 0.1325, 0.0193, 0.0300, 0.1371, 0.0442, 0.1398, 0.0766,\n",
      "         0.0922],\n",
      "        [0.0304, 0.0223, 0.0017, 0.7007, 0.0074, 0.0135, 0.0108, 0.0419, 0.0308,\n",
      "         0.1403],\n",
      "        [0.2240, 0.0138, 0.0726, 0.1495, 0.1682, 0.0309, 0.1015, 0.0810, 0.1069,\n",
      "         0.0518]])\n"
     ]
    },
    {
     "data": {
      "text/plain": [
       "tensor([1.0000, 1.0000, 1.0000])"
      ]
     },
     "execution_count": 15,
     "metadata": {},
     "output_type": "execute_result"
    }
   ],
   "source": [
    "print(proba)\n",
    "proba.sum(-1)\n"
   ]
  }
 ],
 "metadata": {
  "kernelspec": {
   "display_name": "Python 3 (ipykernel)",
   "language": "python",
   "name": "python3"
  },
  "language_info": {
   "codemirror_mode": {
    "name": "ipython",
    "version": 3
   },
   "file_extension": ".py",
   "mimetype": "text/x-python",
   "name": "python",
   "nbconvert_exporter": "python",
   "pygments_lexer": "ipython3",
   "version": "3.12.7"
  },
  "toc": {
   "base_numbering": 1,
   "nav_menu": {},
   "number_sections": false,
   "sideBar": true,
   "skip_h1_title": false,
   "title_cell": "Table of Contents",
   "title_sidebar": "Contents",
   "toc_cell": false,
   "toc_position": {
    "height": "calc(100% - 180px)",
    "left": "10px",
    "top": "150px",
    "width": "512px"
   },
   "toc_section_display": true,
   "toc_window_display": false
  },
  "varInspector": {
   "cols": {
    "lenName": 16,
    "lenType": 16,
    "lenVar": 40
   },
   "kernels_config": {
    "python": {
     "delete_cmd_postfix": "",
     "delete_cmd_prefix": "del ",
     "library": "var_list.py",
     "varRefreshCmd": "print(var_dic_list())"
    },
    "r": {
     "delete_cmd_postfix": ") ",
     "delete_cmd_prefix": "rm(",
     "library": "var_list.r",
     "varRefreshCmd": "cat(var_dic_list()) "
    }
   },
   "types_to_exclude": [
    "module",
    "function",
    "builtin_function_or_method",
    "instance",
    "_Feature"
   ],
   "window_display": false
  }
 },
 "nbformat": 4,
 "nbformat_minor": 4
}
