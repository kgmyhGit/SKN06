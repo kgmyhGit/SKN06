{
 "cells": [
  {
   "cell_type": "markdown",
   "id": "82f2eb30-3659-4916-abc4-163a437dbb4a",
   "metadata": {},
   "source": [
    "# Universal Approximation Theorem\n",
    "\n",
    "Universal Approximation Theorem이란 1개의 비선형 Activation함수를 포함하고 있는 히든 레이어를 가진 Neural Network를 이용해 어떠한 함수든 근사시킬 수 있다는 이론."
   ]
  },
  {
   "cell_type": "code",
   "execution_count": null,
   "id": "de47d6f0-e8f5-436a-8d99-f163d5d337ea",
   "metadata": {},
   "outputs": [],
   "source": [
    "import numpy as np\n",
    "import matplotlib.pyplot as plt\n",
    "\n",
    "import torch\n",
    "import torch.nn as nn\n",
    "\n",
    "device = \"cuda\" if torch.cuda.is_available() else \"cpu\""
   ]
  },
  {
   "cell_type": "code",
   "execution_count": null,
   "id": "224ca831-20fc-48ed-9f54-4d9c990bb31e",
   "metadata": {},
   "outputs": [],
   "source": [
    "def func(x):\n",
    "    \"\"\"\n",
    "    근사시키려는 함수\n",
    "    \"\"\"\n",
    "    return 7*np.sin(x)*np.cos(x)*(2*x**2+5*x**3+x**2)*np.tan(x)+120 "
   ]
  },
  {
   "cell_type": "code",
   "execution_count": null,
   "id": "9725c795-16cf-47e5-9210-2e006c8497a0",
   "metadata": {},
   "outputs": [],
   "source": [
    "x = np.linspace(-10, 10, 100)\n",
    "y = func(x)"
   ]
  },
  {
   "cell_type": "code",
   "execution_count": null,
   "id": "afb8afc9-70dc-4947-8864-c68ba5fdf6ca",
   "metadata": {},
   "outputs": [],
   "source": [
    "plt.plot(x, y)\n",
    "plt.show()"
   ]
  },
  {
   "cell_type": "code",
   "execution_count": null,
   "id": "929d3abf-83b0-4d1b-878f-bbb9e89a1d44",
   "metadata": {},
   "outputs": [],
   "source": []
  },
  {
   "cell_type": "code",
   "execution_count": null,
   "id": "125260ba-c56b-4387-acd8-0c244b01fb98",
   "metadata": {},
   "outputs": [],
   "source": []
  },
  {
   "cell_type": "code",
   "execution_count": null,
   "id": "9d93c6fa-6ca1-43b4-a03c-835c31a88a43",
   "metadata": {},
   "outputs": [],
   "source": []
  },
  {
   "cell_type": "code",
   "execution_count": null,
   "id": "1dea0436-89cb-4de0-9818-e339cd0ccdb9",
   "metadata": {},
   "outputs": [],
   "source": []
  },
  {
   "cell_type": "code",
   "execution_count": null,
   "id": "e77de147-74c9-4a02-86c2-06276cba0850",
   "metadata": {},
   "outputs": [],
   "source": []
  },
  {
   "cell_type": "code",
   "execution_count": null,
   "id": "99a4b558-4bb4-4dae-aa84-321a7bb388ed",
   "metadata": {},
   "outputs": [],
   "source": []
  }
 ],
 "metadata": {
  "kernelspec": {
   "display_name": "Python 3 (ipykernel)",
   "language": "python",
   "name": "python3"
  },
  "language_info": {
   "codemirror_mode": {
    "name": "ipython",
    "version": 3
   },
   "file_extension": ".py",
   "mimetype": "text/x-python",
   "name": "python",
   "nbconvert_exporter": "python",
   "pygments_lexer": "ipython3",
   "version": "3.11.8"
  }
 },
 "nbformat": 4,
 "nbformat_minor": 5
}
