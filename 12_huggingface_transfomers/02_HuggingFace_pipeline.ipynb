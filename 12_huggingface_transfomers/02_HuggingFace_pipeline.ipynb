{
 "cells": [
  {
   "cell_type": "markdown",
   "id": "91454f7e-7c69-4a5a-98dd-66cb8cfd724d",
   "metadata": {},
   "source": [
    "# Package 설치"
   ]
  },
  {
   "cell_type": "code",
   "execution_count": 1,
   "id": "7044cc34-f820-455f-9813-de7641809699",
   "metadata": {},
   "outputs": [
    {
     "name": "stdout",
     "output_type": "stream",
     "text": [
      "Note: you may need to restart the kernel to use updated packages.\n"
     ]
    }
   ],
   "source": [
    "%pip install transformers tokenizers datasets accelerate evaluate scikit-learn -qU"
   ]
  },
  {
   "cell_type": "code",
   "execution_count": 3,
   "id": "c3d697bc-b07e-45c3-b7cb-dd34ff63315d",
   "metadata": {
    "collapsed": true,
    "jupyter": {
     "outputs_hidden": true
    }
   },
   "outputs": [
    {
     "name": "stdout",
     "output_type": "stream",
     "text": [
      "Collecting ipywidgets\n",
      "  Downloading ipywidgets-8.1.5-py3-none-any.whl.metadata (2.3 kB)\n",
      "Requirement already satisfied: tqdm in c:\\users\\playdata\\miniconda3\\envs\\ml\\lib\\site-packages (4.67.0)\n",
      "Requirement already satisfied: comm>=0.1.3 in c:\\users\\playdata\\miniconda3\\envs\\ml\\lib\\site-packages (from ipywidgets) (0.2.2)\n",
      "Requirement already satisfied: ipython>=6.1.0 in c:\\users\\playdata\\miniconda3\\envs\\ml\\lib\\site-packages (from ipywidgets) (8.28.0)\n",
      "Requirement already satisfied: traitlets>=4.3.1 in c:\\users\\playdata\\miniconda3\\envs\\ml\\lib\\site-packages (from ipywidgets) (5.14.3)\n",
      "Collecting widgetsnbextension~=4.0.12 (from ipywidgets)\n",
      "  Downloading widgetsnbextension-4.0.13-py3-none-any.whl.metadata (1.6 kB)\n",
      "Collecting jupyterlab-widgets~=3.0.12 (from ipywidgets)\n",
      "  Downloading jupyterlab_widgets-3.0.13-py3-none-any.whl.metadata (4.1 kB)\n",
      "Requirement already satisfied: colorama in c:\\users\\playdata\\miniconda3\\envs\\ml\\lib\\site-packages (from tqdm) (0.4.6)\n",
      "Requirement already satisfied: decorator in c:\\users\\playdata\\miniconda3\\envs\\ml\\lib\\site-packages (from ipython>=6.1.0->ipywidgets) (5.1.1)\n",
      "Requirement already satisfied: jedi>=0.16 in c:\\users\\playdata\\miniconda3\\envs\\ml\\lib\\site-packages (from ipython>=6.1.0->ipywidgets) (0.19.1)\n",
      "Requirement already satisfied: matplotlib-inline in c:\\users\\playdata\\miniconda3\\envs\\ml\\lib\\site-packages (from ipython>=6.1.0->ipywidgets) (0.1.7)\n",
      "Requirement already satisfied: prompt-toolkit<3.1.0,>=3.0.41 in c:\\users\\playdata\\miniconda3\\envs\\ml\\lib\\site-packages (from ipython>=6.1.0->ipywidgets) (3.0.48)\n",
      "Requirement already satisfied: pygments>=2.4.0 in c:\\users\\playdata\\miniconda3\\envs\\ml\\lib\\site-packages (from ipython>=6.1.0->ipywidgets) (2.18.0)\n",
      "Requirement already satisfied: stack-data in c:\\users\\playdata\\miniconda3\\envs\\ml\\lib\\site-packages (from ipython>=6.1.0->ipywidgets) (0.6.3)\n",
      "Requirement already satisfied: parso<0.9.0,>=0.8.3 in c:\\users\\playdata\\miniconda3\\envs\\ml\\lib\\site-packages (from jedi>=0.16->ipython>=6.1.0->ipywidgets) (0.8.4)\n",
      "Requirement already satisfied: wcwidth in c:\\users\\playdata\\miniconda3\\envs\\ml\\lib\\site-packages (from prompt-toolkit<3.1.0,>=3.0.41->ipython>=6.1.0->ipywidgets) (0.2.13)\n",
      "Requirement already satisfied: executing>=1.2.0 in c:\\users\\playdata\\miniconda3\\envs\\ml\\lib\\site-packages (from stack-data->ipython>=6.1.0->ipywidgets) (2.1.0)\n",
      "Requirement already satisfied: asttokens>=2.1.0 in c:\\users\\playdata\\miniconda3\\envs\\ml\\lib\\site-packages (from stack-data->ipython>=6.1.0->ipywidgets) (2.4.1)\n",
      "Requirement already satisfied: pure-eval in c:\\users\\playdata\\miniconda3\\envs\\ml\\lib\\site-packages (from stack-data->ipython>=6.1.0->ipywidgets) (0.2.3)\n",
      "Requirement already satisfied: six>=1.12.0 in c:\\users\\playdata\\miniconda3\\envs\\ml\\lib\\site-packages (from asttokens>=2.1.0->stack-data->ipython>=6.1.0->ipywidgets) (1.16.0)\n",
      "Downloading ipywidgets-8.1.5-py3-none-any.whl (139 kB)\n",
      "Downloading jupyterlab_widgets-3.0.13-py3-none-any.whl (214 kB)\n",
      "Downloading widgetsnbextension-4.0.13-py3-none-any.whl (2.3 MB)\n",
      "   ---------------------------------------- 0.0/2.3 MB ? eta -:--:--\n",
      "   ---------------------------------------- 2.3/2.3 MB 129.6 MB/s eta 0:00:00\n",
      "Installing collected packages: widgetsnbextension, jupyterlab-widgets, ipywidgets\n",
      "Successfully installed ipywidgets-8.1.5 jupyterlab-widgets-3.0.13 widgetsnbextension-4.0.13\n",
      "Note: you may need to restart the kernel to use updated packages.\n"
     ]
    }
   ],
   "source": [
    "%pip install ipywidgets tqdm"
   ]
  },
  {
   "cell_type": "code",
   "execution_count": 1,
   "id": "a1ff833e-5a78-4570-b2cc-f6f312bcfd0f",
   "metadata": {},
   "outputs": [
    {
     "name": "stdout",
     "output_type": "stream",
     "text": [
      "4.46.3\n",
      "3.1.0\n",
      "0.4.3\n",
      "0.20.3\n"
     ]
    }
   ],
   "source": [
    "import transformers\n",
    "import datasets\n",
    "import evaluate\n",
    "import tokenizers\n",
    "print(transformers.__version__)\n",
    "print(datasets.__version__)\n",
    "print(evaluate.__version__)\n",
    "print(tokenizers.__version__)"
   ]
  },
  {
   "cell_type": "markdown",
   "id": "e7e2b823-faf7-4894-a1b3-42d6f177cb99",
   "metadata": {},
   "source": [
    "# Hugging Face Pipeline을 이용한 모델 활용\n",
    "\n",
    "- Pipeline은 Transformers 라이브러리의 가장 기본적인 객체로, **전처리 - 추론 -> 후처리** 로 이어지는 일련의 과정을 자동화하여 손쉽게 모델을 사용할 수 있게 해준다.\n",
    "- Task에 따라 다양한 Pipeline 클래스를 제공하며 `pipeline` 함수를 이용해 쉽게 생성할 수 있다.\n",
    "- **task만 지정**해서 기본 제공 모델과 토크나이저를 사용하거나 **직접 모델과 토크나이저를 지정**해 생성할 수 있다.\n",
    "- https://huggingface.co/docs/transformers/pipeline_tutorial\n",
    "\n",
    "![huggingface_pipeline.png](figures/huggingface_pipeline.png)\n",
    "\n",
    "## 지원하는 주요 태스크\n",
    "### 자연어 처리 태스크\n",
    "- **text-classification**: 텍스트 분류\n",
    "- **text-generation**: 텍스트 생성\n",
    "- **translation**: 번역\n",
    "- **summarization**: 요약\n",
    "- **question-answering**: 질의응답\n",
    "- **fill-mask**: 마스크 토큰 채우기\n",
    "- **ner**: 개체명 인식\n",
    "- **feature-extraction**: 특징 추출(context vector)\n",
    "\n",
    "### 영상 처리 태스크\n",
    "- **image-classification**: 이미지 분류\n",
    "- **object-detection**\n",
    "  -  객체 검출 (Object Detection)\n",
    "  -  이미지 안에서 객체들의 위치와 class를 찾아내는 작업\n",
    "- **image-segmentation**\n",
    "  -  이미지 세분화 (Image Segmentation)\n",
    "  -  이미지를 픽셀 단위로 분할하여 각 픽셀이 어떤 객체에 속하는지 분류하는 작업"
   ]
  },
  {
   "cell_type": "markdown",
   "id": "9387713c",
   "metadata": {},
   "source": [
    "## pipeline 함수\n",
    "- 주요파라미터\n",
    "  - **task:** 수행하려는 작업의 유형을 문자열로 지정.\n",
    "  - **model:**\n",
    "    - 사용할 사전 학습된 모델의 이름 또는 경로를 지정한다. \n",
    "    - 모델이름(ID)은 `[모델소유자이름]/[모델이름]` 형식이다. Hugging Face에서 제공하는 모델의 경우는 사용자명이 생략되어 있다. . (ex: \"google/gemma-2-2b\", \"gpt2\")\n",
    "    - 모델을 명시적으로 지정하지 않으면, **task에 맞는 기본 모델이 로드**된다.\n",
    "  - **tokenizer:** 사용할 토크나이저를 지정. 생략하면 모델과 같이 제공되(model과 이름이 같은 토크나이저)는 토크나이저를 사용한다.\n",
    "  - **framework:** 사용할 딥러닝 프레임워크를 지정. 'pt'는 PyTorch(Default), 'tf'는 TensorFlow를 지정한다.\n",
    "  - **device:** 모델을 실행할 디바이스를 지정합니다. -1은 CPU, 0은 첫 번째 GPU를 의미합니다.\n",
    "  - **revision:** 모델의 특정 버전을 지정할 때 사용합니다.\n",
    "  - **use_fast:** \n",
    "    - 빠른 토크나이저를 사용할지 여부를 지정합니다. 기본값은 True입니다.\n",
    "    - 빠른 토크나이저는 `Rust` 언어로 구현되어 속도가 빠르다. 단 모든 모델에 대해 지원하지 않는다. 지원하지 않을 경우 `use_fast=True`로 설정해도 일반 토크나이저가 사용된다."
   ]
  },
  {
   "cell_type": "markdown",
   "id": "28c8ea19-fdf3-4d51-b50f-e039ce1f6f61",
   "metadata": {},
   "source": [
    "## 모델 검색\n",
    "![huggingface_model_search.png](figures/huggingface_model_search.png)\n",
    "\n"
   ]
  },
  {
   "cell_type": "markdown",
   "id": "b5ba95b6-785c-42e0-a86f-2d5bac732e33",
   "metadata": {},
   "source": [
    "### 텍스트 분류(감정분석)"
   ]
  },
  {
   "cell_type": "code",
   "execution_count": 2,
   "id": "58979db7-d47c-409c-b5e1-e23df4be33c5",
   "metadata": {},
   "outputs": [],
   "source": [
    "# 경고 출력 막기\n",
    "import warnings\n",
    "warnings.filterwarnings(action='ignore')"
   ]
  },
  {
   "cell_type": "code",
   "execution_count": 3,
   "id": "3e149e3e-6d6e-4b9b-9c11-ff29e78d3cad",
   "metadata": {},
   "outputs": [
    {
     "name": "stderr",
     "output_type": "stream",
     "text": [
      "No model was supplied, defaulted to distilbert/distilbert-base-uncased-finetuned-sst-2-english and revision 714eb0f (https://huggingface.co/distilbert/distilbert-base-uncased-finetuned-sst-2-english).\n",
      "Using a pipeline without specifying a model name and revision in production is not recommended.\n"
     ]
    },
    {
     "name": "stdout",
     "output_type": "stream",
     "text": [
      "[{'label': 'NEGATIVE', 'score': 0.9997994303703308}]\n"
     ]
    }
   ],
   "source": [
    "from transformers import pipeline\n",
    "# Module Not Found Error, tf-keras => 발생. framework=\"pt\"\n",
    "model = pipeline(task=\"text-classification\", framework=\"pt\")\n",
    "# (모델 다운로드)  모델, 토크나이저 로딩 -> 토큰화 -> 모델을 이용해 추론 -> 결과 후처리\n",
    "res = model(\"It is not funny.\")\n",
    "print(res)"
   ]
  },
  {
   "cell_type": "code",
   "execution_count": 4,
   "id": "c990b8c8-2f00-4c4d-84e8-22150883b111",
   "metadata": {},
   "outputs": [
    {
     "data": {
      "text/plain": [
       "transformers.pipelines.text_classification.TextClassificationPipeline"
      ]
     },
     "execution_count": 4,
     "metadata": {},
     "output_type": "execute_result"
    }
   ],
   "source": [
    "type(model)"
   ]
  },
  {
   "cell_type": "code",
   "execution_count": 6,
   "id": "fb370b80-23b6-4d80-bf97-e3d873bfb989",
   "metadata": {
    "tags": []
   },
   "outputs": [],
   "source": [
    "data = [ \n",
    "    \"The project was completed successfully.\", \n",
    "    \"She always brings positive energy to the team.\", \n",
    "    \"I am confident that we will achieve our goals.\",\n",
    "    \"The results were not as expected.\", \n",
    "    \"He struggled to meet the deadline.\", \n",
    "    \"The client was dissatisfied with the final product.\" \n",
    "]"
   ]
  },
  {
   "cell_type": "code",
   "execution_count": 7,
   "id": "6bb3130e-ade9-43f9-b3e8-793d4766a177",
   "metadata": {},
   "outputs": [],
   "source": [
    "res = model(data)"
   ]
  },
  {
   "cell_type": "code",
   "execution_count": 9,
   "id": "bb5ace80-dd20-473e-b522-8b4c07315589",
   "metadata": {},
   "outputs": [
    {
     "name": "stdout",
     "output_type": "stream",
     "text": [
      "[{'label': 'POSITIVE', 'score': 0.9998227953910828},\n",
      " {'label': 'POSITIVE', 'score': 0.9998812675476074},\n",
      " {'label': 'POSITIVE', 'score': 0.9998470544815063},\n",
      " {'label': 'NEGATIVE', 'score': 0.9978100657463074},\n",
      " {'label': 'NEGATIVE', 'score': 0.99960857629776},\n",
      " {'label': 'NEGATIVE', 'score': 0.9996129870414734}]\n"
     ]
    }
   ],
   "source": [
    "from pprint import pprint\n",
    "pprint(res)"
   ]
  },
  {
   "cell_type": "code",
   "execution_count": 10,
   "id": "97d377fa-cc5a-429d-9933-fcb65997d12c",
   "metadata": {},
   "outputs": [
    {
     "data": {
      "application/vnd.jupyter.widget-view+json": {
       "model_id": "44bdb22f3dfa469aa645998280688c22",
       "version_major": 2,
       "version_minor": 0
      },
      "text/plain": [
       "config.json:   0%|          | 0.00/629 [00:00<?, ?B/s]"
      ]
     },
     "metadata": {},
     "output_type": "display_data"
    },
    {
     "data": {
      "application/vnd.jupyter.widget-view+json": {
       "model_id": "4bddf488aaca4365be5d385f90400c08",
       "version_major": 2,
       "version_minor": 0
      },
      "text/plain": [
       "model.safetensors:   0%|          | 0.00/268M [00:00<?, ?B/s]"
      ]
     },
     "metadata": {},
     "output_type": "display_data"
    },
    {
     "data": {
      "application/vnd.jupyter.widget-view+json": {
       "model_id": "224177d8406945609865949e661b5b59",
       "version_major": 2,
       "version_minor": 0
      },
      "text/plain": [
       "tokenizer_config.json:   0%|          | 0.00/48.0 [00:00<?, ?B/s]"
      ]
     },
     "metadata": {},
     "output_type": "display_data"
    },
    {
     "data": {
      "application/vnd.jupyter.widget-view+json": {
       "model_id": "43bb7a55c9f347af92f962f2bb28844a",
       "version_major": 2,
       "version_minor": 0
      },
      "text/plain": [
       "vocab.txt:   0%|          | 0.00/232k [00:00<?, ?B/s]"
      ]
     },
     "metadata": {},
     "output_type": "display_data"
    }
   ],
   "source": [
    "model=\"distilbert-base-uncased-finetuned-sst-2-english\"\n",
    "classifier = pipeline(task=\"text-classification\", model=model, framework='pt')"
   ]
  },
  {
   "cell_type": "code",
   "execution_count": 11,
   "id": "5bb9fdee-2a87-48aa-8568-7cb81a75810c",
   "metadata": {},
   "outputs": [
    {
     "data": {
      "text/plain": [
       "[{'label': 'POSITIVE', 'score': 0.9855567812919617},\n",
       " {'label': 'POSITIVE', 'score': 0.7425776124000549},\n",
       " {'label': 'POSITIVE', 'score': 0.6555716395378113},\n",
       " {'label': 'NEGATIVE', 'score': 0.5247918367385864}]"
      ]
     },
     "execution_count": 11,
     "metadata": {},
     "output_type": "execute_result"
    }
   ],
   "source": [
    "kor_texts = [\n",
    "    \"이 영화 정말 재미있어요!\",\n",
    "    \"서비스가 별로였어요.\",\n",
    "    \"제품 품질이 우수합니다.\",\n",
    "    \"따듯하고 부드럽고 제품은 너무 좋습니다. 그런데 배송이 너무 늦네요.\"  # 애매한 것 0.56 정도 나오네.\n",
    "]\n",
    "classifier(kor_texts)"
   ]
  },
  {
   "cell_type": "code",
   "execution_count": 12,
   "id": "cc568631-140c-4d2b-a230-22156cc72e5e",
   "metadata": {},
   "outputs": [
    {
     "data": {
      "application/vnd.jupyter.widget-view+json": {
       "model_id": "03cc0bffdb154b12a2756f70a392ee54",
       "version_major": 2,
       "version_minor": 0
      },
      "text/plain": [
       "config.json:   0%|          | 0.00/687 [00:00<?, ?B/s]"
      ]
     },
     "metadata": {},
     "output_type": "display_data"
    },
    {
     "data": {
      "application/vnd.jupyter.widget-view+json": {
       "model_id": "86604ee591c14930b9e94960a3c94d55",
       "version_major": 2,
       "version_minor": 0
      },
      "text/plain": [
       "model.safetensors:   0%|          | 0.00/452M [00:00<?, ?B/s]"
      ]
     },
     "metadata": {},
     "output_type": "display_data"
    },
    {
     "data": {
      "application/vnd.jupyter.widget-view+json": {
       "model_id": "e0fb81d447ba43aca72589a62da2453d",
       "version_major": 2,
       "version_minor": 0
      },
      "text/plain": [
       "tokenizer_config.json:   0%|          | 0.00/60.0 [00:00<?, ?B/s]"
      ]
     },
     "metadata": {},
     "output_type": "display_data"
    },
    {
     "data": {
      "application/vnd.jupyter.widget-view+json": {
       "model_id": "509dc589dc014b2585f5d540a5c9ed36",
       "version_major": 2,
       "version_minor": 0
      },
      "text/plain": [
       "vocab.txt:   0%|          | 0.00/263k [00:00<?, ?B/s]"
      ]
     },
     "metadata": {},
     "output_type": "display_data"
    }
   ],
   "source": [
    "model = 'Copycats/koelectra-base-v3-generalized-sentiment-analysis' \n",
    "classifier = pipeline(task=\"text-classification\", model=model)\n",
    "res = classifier(kor_texts)"
   ]
  },
  {
   "cell_type": "code",
   "execution_count": 13,
   "id": "62d66336-8c19-4d61-9383-b7d5b3223f4a",
   "metadata": {},
   "outputs": [
    {
     "data": {
      "text/plain": [
       "[{'label': '1', 'score': 0.9897311329841614},\n",
       " {'label': '0', 'score': 0.9969298243522644},\n",
       " {'label': '1', 'score': 0.9640172123908997},\n",
       " {'label': '0', 'score': 0.5669127702713013}]"
      ]
     },
     "execution_count": 13,
     "metadata": {},
     "output_type": "execute_result"
    }
   ],
   "source": [
    "res"
   ]
  },
  {
   "cell_type": "code",
   "execution_count": null,
   "id": "d1d6f4a3-18b2-40ba-bdaf-1aeda121be7d",
   "metadata": {},
   "outputs": [],
   "source": [
    "kor_texts = [\n",
    "    \"이 영화 정말 재미있어요!\",\n",
    "    \"서비스가 별로였어요.\",\n",
    "    \"제품 품질이 우수합니다.\",\n",
    "    \"따듯하고 부드럽고 제품은 너무 좋습니다. 그런데 배송이 너무 늦네요.\"  # 애매한 것 0.56 정도 나오네.\n",
    "]"
   ]
  },
  {
   "cell_type": "markdown",
   "id": "c5b46756-4b5e-4bdc-be44-2d240e6dce03",
   "metadata": {
    "tags": []
   },
   "source": [
    "### 제로샷 분류\n",
    "- 제로샷(Zero-shot)은 각 개별 작업에 대한 특정 교육 없이 작업을 수행할 수 있는 task다.\n",
    "- 입력 텍스트와 함께 클래스 레이블을 제공하면 분류 작업을 한다.\n",
    "- 모델은  `task`에서 `Zero-Shot` 으로 시작하는 task를 선택하여 검색한다."
   ]
  },
  {
   "cell_type": "code",
   "execution_count": 16,
   "id": "5d07e8bd-53f1-4410-b52e-1e299ed7bcef",
   "metadata": {},
   "outputs": [
    {
     "name": "stdout",
     "output_type": "stream",
     "text": [
      "[{'labels': ['IT', 'business', 'sport', 'movie', 'education'],\n",
      "  'scores': [0.29554063081741333,\n",
      "             0.240149587392807,\n",
      "             0.16470593214035034,\n",
      "             0.16107183694839478,\n",
      "             0.13853201270103455],\n",
      "  'sequence': 'Python is a programming language.'},\n",
      " {'labels': ['sport', 'IT', 'business', 'movie', 'education'],\n",
      "  'scores': [0.9926486611366272,\n",
      "             0.00432586669921875,\n",
      "             0.0011035494972020388,\n",
      "             0.0011012055911123753,\n",
      "             0.0008206696365959942],\n",
      "  'sequence': 'I love soccer'},\n",
      " {'labels': ['business', 'IT', 'sport', 'movie', 'education'],\n",
      "  'scores': [0.7607609629631042,\n",
      "             0.11387484520673752,\n",
      "             0.048093654215335846,\n",
      "             0.04662804305553436,\n",
      "             0.030642475932836533],\n",
      "  'sequence': 'The stock price rose slightly.'}]\n"
     ]
    }
   ],
   "source": [
    "model = \"facebook/bart-large-mnli\"\n",
    "classifier = pipeline(\"zero-shot-classification\", model=model)\n",
    "text = [\n",
    "    \"Python is a programming language.\", \n",
    "    \"I love soccer\",\n",
    "    \"The stock price rose slightly.\"\n",
    "]\n",
    "label = [\"education\", \"IT\", \"sport\", \"business\", \"movie\"]\n",
    "res = classifier(text, candidate_labels=label)\n",
    "pprint(res)"
   ]
  },
  {
   "cell_type": "markdown",
   "id": "ffb317be-2e6e-4189-98df-3f9ebf981f91",
   "metadata": {},
   "source": [
    "### 텍스트 생성"
   ]
  },
  {
   "cell_type": "code",
   "execution_count": 20,
   "id": "126441da-5524-4303-abe4-648cecf2419f",
   "metadata": {},
   "outputs": [
    {
     "name": "stderr",
     "output_type": "stream",
     "text": [
      "Setting `pad_token_id` to `eos_token_id`:None for open-end generation.\n",
      "Setting `pad_token_id` to `eos_token_id`:None for open-end generation.\n"
     ]
    },
    {
     "data": {
      "text/plain": [
       "[[{'generated_text': \"Today weather \\xa0is a good thing for you... the humidity levels in the area are below 50%. \\xa0In many ways, it makes you happy to actually get out and try some hot air. \\xa0It's easy to understand this,\"}],\n",
       " [{'generated_text': \"Python is an open-source browser. Here's why.\\n\\nIt doesn't have any specific browser, and we don't have a special WebEngine that compiles it from source. Instead we can easily use the WebEngine.js library,\"}]]"
      ]
     },
     "execution_count": 20,
     "metadata": {},
     "output_type": "execute_result"
    }
   ],
   "source": [
    "generator = pipeline(task=\"text-generation\", model=\"gpt2\")\n",
    "# 모델 이름 : 사용자/모델이름    사용자가 생략된 것은 huggingface에 제공하는 모델.\n",
    "generator([\"Today weather\", \"Python is\"])"
   ]
  },
  {
   "cell_type": "code",
   "execution_count": null,
   "id": "46e31c62-1e89-49ef-b25c-c0957bd0b66e",
   "metadata": {},
   "outputs": [],
   "source": []
  },
  {
   "cell_type": "markdown",
   "id": "0f0ea454-a9ed-45dc-94eb-99766a349b5c",
   "metadata": {},
   "source": [
    "### 마스크 채우기"
   ]
  },
  {
   "cell_type": "code",
   "execution_count": 27,
   "id": "17d7118a-ab88-47ba-b54e-ae751f35741b",
   "metadata": {
    "tags": []
   },
   "outputs": [
    {
     "name": "stderr",
     "output_type": "stream",
     "text": [
      "Some weights of the model checkpoint at distilroberta-base were not used when initializing RobertaForMaskedLM: ['roberta.pooler.dense.bias', 'roberta.pooler.dense.weight']\n",
      "- This IS expected if you are initializing RobertaForMaskedLM from the checkpoint of a model trained on another task or with another architecture (e.g. initializing a BertForSequenceClassification model from a BertForPreTraining model).\n",
      "- This IS NOT expected if you are initializing RobertaForMaskedLM from the checkpoint of a model that you expect to be exactly identical (initializing a BertForSequenceClassification model from a BertForSequenceClassification model).\n"
     ]
    },
    {
     "name": "stdout",
     "output_type": "stream",
     "text": [
      "[[{'score': 0.27230772376060486,\n",
      "   'sequence': \"<s>I'm going to cry because<mask> am hurt.</s>\",\n",
      "   'token': 8930,\n",
      "   'token_str': ' cry'},\n",
      "  {'score': 0.059206705540418625,\n",
      "   'sequence': \"<s>I'm going to sleep because<mask> am hurt.</s>\",\n",
      "   'token': 3581,\n",
      "   'token_str': ' sleep'}],\n",
      " [{'score': 0.9910110235214233,\n",
      "   'sequence': \"<s>I'm going to<mask> because I am hurt.</s>\",\n",
      "   'token': 38,\n",
      "   'token_str': ' I'},\n",
      "  {'score': 0.008194930851459503,\n",
      "   'sequence': \"<s>I'm going to<mask> because i am hurt.</s>\",\n",
      "   'token': 939,\n",
      "   'token_str': ' i'}]]\n"
     ]
    }
   ],
   "source": [
    "text = \"I'm going to <mask> because <mask> am hurt.\"\n",
    "model=\"distilroberta-base\"\n",
    "unmask = pipeline(\"fill-mask\", model=model)\n",
    "res = unmask(text, top_k=2) # 확률높은 단어 k개. (default: 5개)\n",
    "pprint(res)"
   ]
  },
  {
   "cell_type": "code",
   "execution_count": 33,
   "id": "b79d04ce-c7b9-45bd-b5bd-e0b2c73f1bea",
   "metadata": {
    "scrolled": true
   },
   "outputs": [
    {
     "name": "stderr",
     "output_type": "stream",
     "text": [
      "Some weights of the model checkpoint at beomi/kcbert-base were not used when initializing BertForMaskedLM: ['bert.pooler.dense.bias', 'bert.pooler.dense.weight', 'cls.seq_relationship.bias', 'cls.seq_relationship.weight']\n",
      "- This IS expected if you are initializing BertForMaskedLM from the checkpoint of a model trained on another task or with another architecture (e.g. initializing a BertForSequenceClassification model from a BertForPreTraining model).\n",
      "- This IS NOT expected if you are initializing BertForMaskedLM from the checkpoint of a model that you expect to be exactly identical (initializing a BertForSequenceClassification model from a BertForSequenceClassification model).\n"
     ]
    },
    {
     "name": "stdout",
     "output_type": "stream",
     "text": [
      "[[{'score': 0.6340416669845581,\n",
      "   'sequence': '[CLS] 오늘 밤은 전국이 흐린 가운데 대부분 지역에서 가 내리겠고, 기온이 내려가면서 점차 [MASK] 이 '\n",
      "               '오는 곳이 많겠습니다 [SEP]',\n",
      "   'token': 4072,\n",
      "   'token_str': '##서'},\n",
      "  {'score': 0.11311744153499603,\n",
      "   'sequence': '[CLS] 오늘 밤은 전국이 흐린 가운데 대부분 지역에 비가 가 내리겠고, 기온이 내려가면서 점차 [MASK] '\n",
      "               '이 오는 곳이 많겠습니다 [SEP]',\n",
      "   'token': 28206,\n",
      "   'token_str': '비가'}],\n",
      " [{'score': 0.10058414191007614,\n",
      "   'sequence': '[CLS] 오늘 밤은 전국이 흐린 가운데 대부분 지역에 [MASK] 가 내리겠고, 기온이 내려가면서 점차 바람 '\n",
      "               '이 오는 곳이 많겠습니다 [SEP]',\n",
      "   'token': 10108,\n",
      "   'token_str': '바람'},\n",
      "  {'score': 0.049839746206998825,\n",
      "   'sequence': '[CLS] 오늘 밤은 전국이 흐린 가운데 대부분 지역에 [MASK] 가 내리겠고, 기온이 내려가면서 점차 영향 '\n",
      "               '이 오는 곳이 많겠습니다 [SEP]',\n",
      "   'token': 10741,\n",
      "   'token_str': '영향'}]]\n"
     ]
    }
   ],
   "source": [
    "text = \"오늘 밤은 전국이 흐린 가운데 대부분 지역에 [MASK]가 내리겠고, 기온이 내려가면서 점차 [MASK]이 오는 곳이 많겠습니다\"\n",
    "\n",
    "model='beomi/kcbert-base'\n",
    "unmask_kor = pipeline('fill-mask', model=model)\n",
    "res = unmask_kor(text, top_k=2)\n",
    "pprint(res)"
   ]
  },
  {
   "cell_type": "markdown",
   "id": "35cc4f2c-0757-4f96-9ec5-d7fe38ac0d94",
   "metadata": {},
   "source": [
    "### 개체명 인식\n",
    "- task: token-classification \n",
    "  - ner, pos 를 수행하는 task "
   ]
  },
  {
   "cell_type": "code",
   "execution_count": 34,
   "id": "c2c9e5a5-c389-4a67-9a56-ef89d45a5765",
   "metadata": {
    "collapsed": true,
    "jupyter": {
     "outputs_hidden": true
    }
   },
   "outputs": [
    {
     "data": {
      "application/vnd.jupyter.widget-view+json": {
       "model_id": "d03c6561b260465b86bf685f15511eab",
       "version_major": 2,
       "version_minor": 0
      },
      "text/plain": [
       "config.json:   0%|          | 0.00/998 [00:00<?, ?B/s]"
      ]
     },
     "metadata": {},
     "output_type": "display_data"
    },
    {
     "data": {
      "application/vnd.jupyter.widget-view+json": {
       "model_id": "0ab69b4735bb411fbe8887b9c01e3650",
       "version_major": 2,
       "version_minor": 0
      },
      "text/plain": [
       "model.safetensors:   0%|          | 0.00/1.33G [00:00<?, ?B/s]"
      ]
     },
     "metadata": {},
     "output_type": "display_data"
    },
    {
     "name": "stderr",
     "output_type": "stream",
     "text": [
      "Some weights of the model checkpoint at dbmdz/bert-large-cased-finetuned-conll03-english were not used when initializing BertForTokenClassification: ['bert.pooler.dense.bias', 'bert.pooler.dense.weight']\n",
      "- This IS expected if you are initializing BertForTokenClassification from the checkpoint of a model trained on another task or with another architecture (e.g. initializing a BertForSequenceClassification model from a BertForPreTraining model).\n",
      "- This IS NOT expected if you are initializing BertForTokenClassification from the checkpoint of a model that you expect to be exactly identical (initializing a BertForSequenceClassification model from a BertForSequenceClassification model).\n"
     ]
    },
    {
     "data": {
      "application/vnd.jupyter.widget-view+json": {
       "model_id": "124d3dc4f7ec4debbcff517e9f218204",
       "version_major": 2,
       "version_minor": 0
      },
      "text/plain": [
       "tokenizer_config.json:   0%|          | 0.00/60.0 [00:00<?, ?B/s]"
      ]
     },
     "metadata": {},
     "output_type": "display_data"
    },
    {
     "data": {
      "application/vnd.jupyter.widget-view+json": {
       "model_id": "d9d01ec04ce741c69c2359d164f6821a",
       "version_major": 2,
       "version_minor": 0
      },
      "text/plain": [
       "vocab.txt:   0%|          | 0.00/213k [00:00<?, ?B/s]"
      ]
     },
     "metadata": {},
     "output_type": "display_data"
    },
    {
     "name": "stdout",
     "output_type": "stream",
     "text": [
      "[{'end': 12,\n",
      "  'entity': 'I-PER',\n",
      "  'index': 4,\n",
      "  'score': 0.99938285,\n",
      "  'start': 11,\n",
      "  'word': 'S'},\n",
      " {'end': 14,\n",
      "  'entity': 'I-PER',\n",
      "  'index': 5,\n",
      "  'score': 0.99815494,\n",
      "  'start': 12,\n",
      "  'word': '##yl'},\n",
      " {'end': 16,\n",
      "  'entity': 'I-PER',\n",
      "  'index': 6,\n",
      "  'score': 0.99590707,\n",
      "  'start': 14,\n",
      "  'word': '##va'},\n",
      " {'end': 18,\n",
      "  'entity': 'I-PER',\n",
      "  'index': 7,\n",
      "  'score': 0.99923277,\n",
      "  'start': 16,\n",
      "  'word': '##in'},\n",
      " {'end': 35,\n",
      "  'entity': 'I-ORG',\n",
      "  'index': 12,\n",
      "  'score': 0.9738931,\n",
      "  'start': 33,\n",
      "  'word': 'Hu'},\n",
      " {'end': 40,\n",
      "  'entity': 'I-ORG',\n",
      "  'index': 13,\n",
      "  'score': 0.976115,\n",
      "  'start': 35,\n",
      "  'word': '##gging'},\n",
      " {'end': 45,\n",
      "  'entity': 'I-ORG',\n",
      "  'index': 14,\n",
      "  'score': 0.9887976,\n",
      "  'start': 41,\n",
      "  'word': 'Face'},\n",
      " {'end': 57,\n",
      "  'entity': 'I-LOC',\n",
      "  'index': 16,\n",
      "  'score': 0.9932106,\n",
      "  'start': 49,\n",
      "  'word': 'Brooklyn'}]\n"
     ]
    }
   ],
   "source": [
    "text = \"My name is Sylvain and I work at Hugging Face in Brooklyn.\"\n",
    "\n",
    "model = \"dbmdz/bert-large-cased-finetuned-conll03-english\"\n",
    "ner = pipeline(\"token-classification\", model=model)\n",
    "res = ner(text)\n",
    "pprint(res)"
   ]
  },
  {
   "cell_type": "markdown",
   "id": "be0029d1-ebad-4d30-8252-0a9eaa37c405",
   "metadata": {},
   "source": [
    "### 질의 응답\n",
    "- 문서와 질문을 주면 문서에서 답을 찾아 응답한다."
   ]
  },
  {
   "cell_type": "code",
   "execution_count": 41,
   "id": "b62a1b36",
   "metadata": {},
   "outputs": [],
   "source": [
    "model = \"distilbert-base-cased-distilled-squad\"\n",
    "question=\"Where do I work?\"\n",
    "context=\"My name is Sylvain and I work at Hugging Face in Brooklyn\""
   ]
  },
  {
   "cell_type": "code",
   "execution_count": 45,
   "id": "47181ff3-a1cb-4a0a-986f-1ba875a78165",
   "metadata": {},
   "outputs": [],
   "source": [
    "qa = pipeline('question-answering', model=model)\n",
    "res = qa(\n",
    "    question=question, # 질문\n",
    "    context=context    # 답을 찾을 문서\n",
    ")"
   ]
  },
  {
   "cell_type": "code",
   "execution_count": 46,
   "id": "1202eb08-f39a-41c5-b043-59c72a5e5532",
   "metadata": {},
   "outputs": [
    {
     "data": {
      "text/plain": [
       "{'score': 0.43262603878974915, 'start': 49, 'end': 57, 'answer': 'Brooklyn'}"
      ]
     },
     "execution_count": 46,
     "metadata": {},
     "output_type": "execute_result"
    }
   ],
   "source": [
    "res"
   ]
  },
  {
   "cell_type": "code",
   "execution_count": 51,
   "id": "7b9544c2-149f-406a-9097-13663ea82cb7",
   "metadata": {
    "tags": []
   },
   "outputs": [],
   "source": [
    "context = \"\"\"Sri Lankans are voting for a new president in the first election since mass protests sparked by the country's worst-ever economic crisis unseated the leader in 2022.\n",
    "Saturday's vote is widely regarded as a referendum on economic reforms meant to put the country on the road to recovery.\n",
    "But many are still struggling to make ends meet because of tax hikes, and cuts to subsidies and welfare.\n",
    "Multiple analysts predict that economic concerns will be front of mind for voters in what is shaping up to be a close race.\n",
    "\"The country's soaring inflation, skyrocketing cost-of-living and poverty have left the electorate desperate for solutions to stabilise prices and improve livelihoods,\" Soumya Bhowmick, an associate fellow at India-based think tank the Observer Research Foundation, told the BBC.\n",
    "\"With the country seeking to emerge from its economic collapse, this election serves as a crucial moment for shaping Sri Lanka’s recovery trajectory and restoring both domestic and international confidence in its governance.\"\n",
    "President Ranil Wickremesinghe, who was charged with the monumental task of leading Sri Lanka out of its economic collapse, is seeking another term.\n",
    "The 75-year-old was appointed by parliament a week after former president Gotabaya Rajapaksa was chased out of power.\n",
    "Shortly after taking office, Wickremesinghe crushed what was left of the protest movement. He has also been accused of shielding the Rajapaksa family from prosecution and allowing them to regroup - allegations he has denied.\n",
    "Another strong contender is leftist politician Anura Kumara Dissanayake, whose anti-corruption platform has seen him draw increasing public support.\n",
    "More candidates are running in Saturday's election than any other in Sri Lanka's history. But of more than three dozen, four are dominating the limelight.\n",
    "Other than Wickremesinghe and Dissanayake, there is also the leader of the opposition, Sajith Premadasa, and the 38-year-old nephew of the ousted president, Namal Rajapaksa.\n",
    "Counting begins once polls close at 16:00 local time (10:30 GMT), but results are not expected to become clear until Sunday morning.\"\"\"\n",
    "\n",
    "# question=\"How many candidates are there in total?\"\n",
    "question=\"When will the results be known?\" \n",
    "res = qa(question=question, context=context)"
   ]
  },
  {
   "cell_type": "code",
   "execution_count": 52,
   "id": "efd697dd-2b4b-4846-929c-ccde68596759",
   "metadata": {},
   "outputs": [
    {
     "name": "stdout",
     "output_type": "stream",
     "text": [
      "{'score': 0.8689843416213989, 'start': 2109, 'end': 2123, 'answer': 'Sunday morning'}\n"
     ]
    }
   ],
   "source": [
    "print(res)"
   ]
  },
  {
   "cell_type": "code",
   "execution_count": null,
   "id": "b2c35070-a091-48aa-bf66-10cb3b8186f0",
   "metadata": {},
   "outputs": [],
   "source": []
  },
  {
   "cell_type": "markdown",
   "id": "e79683e5-f872-4b4d-b46f-edd38428651e",
   "metadata": {},
   "source": [
    "### 문서 요약"
   ]
  },
  {
   "cell_type": "code",
   "execution_count": 53,
   "id": "0135048e-d1df-4734-9a10-dbaee7109e6a",
   "metadata": {},
   "outputs": [
    {
     "data": {
      "application/vnd.jupyter.widget-view+json": {
       "model_id": "8624626a6d45411a9ca926938e997b85",
       "version_major": 2,
       "version_minor": 0
      },
      "text/plain": [
       "config.json:   0%|          | 0.00/1.80k [00:00<?, ?B/s]"
      ]
     },
     "metadata": {},
     "output_type": "display_data"
    },
    {
     "data": {
      "application/vnd.jupyter.widget-view+json": {
       "model_id": "ca7fa11d03af46f98aa28b1fb91cf39c",
       "version_major": 2,
       "version_minor": 0
      },
      "text/plain": [
       "pytorch_model.bin:   0%|          | 0.00/1.22G [00:00<?, ?B/s]"
      ]
     },
     "metadata": {},
     "output_type": "display_data"
    },
    {
     "data": {
      "application/vnd.jupyter.widget-view+json": {
       "model_id": "51b48606d1f44d99be9c167911bf316b",
       "version_major": 2,
       "version_minor": 0
      },
      "text/plain": [
       "tokenizer_config.json:   0%|          | 0.00/26.0 [00:00<?, ?B/s]"
      ]
     },
     "metadata": {},
     "output_type": "display_data"
    },
    {
     "data": {
      "application/vnd.jupyter.widget-view+json": {
       "model_id": "bfe62da8113344dc84876ae62cbebcc1",
       "version_major": 2,
       "version_minor": 0
      },
      "text/plain": [
       "vocab.json:   0%|          | 0.00/899k [00:00<?, ?B/s]"
      ]
     },
     "metadata": {},
     "output_type": "display_data"
    },
    {
     "data": {
      "application/vnd.jupyter.widget-view+json": {
       "model_id": "3805afe617b948b4adcb4c93d9e29d72",
       "version_major": 2,
       "version_minor": 0
      },
      "text/plain": [
       "merges.txt:   0%|          | 0.00/456k [00:00<?, ?B/s]"
      ]
     },
     "metadata": {},
     "output_type": "display_data"
    }
   ],
   "source": [
    "model = \"sshleifer/distilbart-cnn-12-6\"\n",
    "summerizer = pipeline(\"summarization\", model=model)\n",
    "res = summerizer(context)"
   ]
  },
  {
   "cell_type": "code",
   "execution_count": 55,
   "id": "37e8c1a0-8894-4d9f-afa8-b2f6a16c8f87",
   "metadata": {},
   "outputs": [
    {
     "name": "stdout",
     "output_type": "stream",
     "text": [
      " Sri Lankans are voting for a new president in the first election since the country's worst-ever economic crisis unseated the leader in 2022 . The vote is widely regarded as a referendum on economic reforms meant to put the country on the road to recovery . Many are still struggling to make ends meet because of tax hikes, and cuts to subsidies and welfare .\n"
     ]
    }
   ],
   "source": [
    "print(res[0][\"summary_text\"])"
   ]
  },
  {
   "cell_type": "markdown",
   "id": "8be2c20d-c32d-44bf-98dc-552bc5409aa3",
   "metadata": {},
   "source": [
    "### 번역"
   ]
  },
  {
   "cell_type": "code",
   "execution_count": null,
   "id": "f050129d-7e5b-4cf2-b3a3-0e3ba21af591",
   "metadata": {},
   "outputs": [],
   "source": [
    "model = \"Helsinki-NLP/opus-mt-fr-en\"\n",
    "text = \"Ce cours est produit par Hugging Face.\""
   ]
  },
  {
   "cell_type": "code",
   "execution_count": null,
   "id": "e583f995-32bd-4454-b1ab-9d5cd1fdbcc3",
   "metadata": {},
   "outputs": [],
   "source": [
    "model = \"Helsinki-NLP/opus-mt-ko-en\""
   ]
  },
  {
   "cell_type": "code",
   "execution_count": null,
   "id": "453de109-8ce8-4cae-94e9-ce24f068c5ef",
   "metadata": {},
   "outputs": [],
   "source": []
  },
  {
   "cell_type": "markdown",
   "id": "bb854488-6677-49db-a82e-eee1a33c7264",
   "metadata": {},
   "source": [
    "### 이미지를 설명하는 텍스트 생성"
   ]
  },
  {
   "cell_type": "code",
   "execution_count": null,
   "id": "081aaf53-bed8-45ad-aab3-052f3cc6feca",
   "metadata": {},
   "outputs": [],
   "source": [
    "url = \"https://huggingface.co/datasets/Narsil/image_dummy/resolve/main/parrots.png\"\n",
    "url = \"https://th.bing.com/th?id=ORMS.c526884bbea37c0bb9501f4f83b601e4&pid=Wdp&w=268&h=140&qlt=90&c=1&rs=1&dpr=1&p=0\"\n",
    "url = \"http://images.cocodataset.org/val2017/000000039769.jpg\""
   ]
  },
  {
   "cell_type": "code",
   "execution_count": null,
   "id": "7bbcf876-b4bb-4202-afc4-e89404005eb5",
   "metadata": {},
   "outputs": [],
   "source": [
    "model = \"ydshieh/vit-gpt2-coco-en\""
   ]
  },
  {
   "cell_type": "markdown",
   "id": "117df1f4-5ebd-41ad-ab6f-9f69a70d99a7",
   "metadata": {},
   "source": [
    "### 이미지 분류"
   ]
  },
  {
   "cell_type": "code",
   "execution_count": null,
   "id": "1c9fbf6b-2697-427b-ab75-bd5a75348d5b",
   "metadata": {
    "tags": []
   },
   "outputs": [],
   "source": [
    "url = \"https://pds.joongang.co.kr/news/component/htmlphoto_mmdata/202306/25/488f9638-800c-4bac-ad65-82877fbff79b.jpg\""
   ]
  },
  {
   "cell_type": "code",
   "execution_count": null,
   "id": "897952e6-3aa2-4c10-956d-dde4fc14b917",
   "metadata": {},
   "outputs": [],
   "source": [
    "model = \"google/vit-base-patch16-224\""
   ]
  },
  {
   "cell_type": "code",
   "execution_count": null,
   "id": "b59f58d0-226f-4997-87d9-b4a029318940",
   "metadata": {},
   "outputs": [],
   "source": []
  },
  {
   "cell_type": "markdown",
   "id": "d2e2b6a3",
   "metadata": {},
   "source": [
    "### Object Detection"
   ]
  },
  {
   "cell_type": "code",
   "execution_count": null,
   "id": "b1416074-2c80-4df1-b4e7-38691a7fedc7",
   "metadata": {},
   "outputs": [],
   "source": [
    "image_path = r\"data/image1.jpg\"\n",
    "image_path = r\"data/image2.jpg\"\n",
    "image_path = r\"data/image3.jpg\"\n",
    "\n",
    "model='facebook/detr-resnet-50'"
   ]
  }
 ],
 "metadata": {
  "kernelspec": {
   "display_name": "Python 3 (ipykernel)",
   "language": "python",
   "name": "python3"
  },
  "language_info": {
   "codemirror_mode": {
    "name": "ipython",
    "version": 3
   },
   "file_extension": ".py",
   "mimetype": "text/x-python",
   "name": "python",
   "nbconvert_exporter": "python",
   "pygments_lexer": "ipython3",
   "version": "3.12.7"
  }
 },
 "nbformat": 4,
 "nbformat_minor": 5
}
