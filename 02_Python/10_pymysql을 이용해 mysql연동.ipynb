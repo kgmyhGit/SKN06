{
 "cells": [
  {
   "cell_type": "markdown",
   "id": "a2f58681",
   "metadata": {},
   "source": [
    "# pymysql\n",
    "\n",
    "-   파이썬에서 MySQL, MariaDB DBMS와 연동하는 다양한 함수를 제공하는 모듈\n",
    "-   Python [DB API 2.0](http://www.python.org/dev/peps/pep-0249) 표준을 따른다.\n",
    "-   https://github.com/PyMySQL/PyMySQL/\n",
    "-   https://pymysql.readthedocs.io/en/latest/\n"
   ]
  },
  {
   "cell_type": "markdown",
   "id": "43cccb80",
   "metadata": {},
   "source": [
    "# 설치\n",
    "\n",
    "-   조건\n",
    "    -   python version 3.6 이상\n",
    "    -   mysql version 5.6 이상\n",
    "-   설치\n",
    "    -   `pip install pymysql`\n",
    "    -   `conda install -c conda-forge pymysql`\n"
   ]
  },
  {
   "cell_type": "code",
   "execution_count": null,
   "id": "16ddb3ec",
   "metadata": {},
   "outputs": [],
   "source": []
  },
  {
   "cell_type": "markdown",
   "id": "7572463d",
   "metadata": {},
   "source": [
    "# 기본 작성 절차\n",
    "\n",
    "1. Database 연결\n",
    "    ```python\n",
    "       connection =  pymysql.connect(host:str=\"DBMS 서버 ip\",\n",
    "                                     port:int=port번호,\n",
    "                                     user:str=\"계정명\",\n",
    "                                     password:str=\"비밀번호\",\n",
    "                                     db:str=\"연결할데이터베이스이름\")\n",
    "    ```\n",
    "    - port 번호 기본값: 3306\n",
    "    - ContextManager 타입으로 with 구문을 이용해 작성하면 close() 작업을 자동으로 처리한다.\n",
    "2. Connection을 이용해 Cursor 생성\n",
    "    - Cursor: 연결된 Database에 sql문을 전송하고 select결과 조회 기능을 제공하는 객체\n",
    "    ```python\n",
    "        cursor = connection.cursor()\n",
    "    ```\n",
    "    - ContextManager 타입으로 with 구문을 이용해 작성하면 close() 작업을 자동으로 처리한다.\n",
    "3. Cusror를 이용해 SQL문 실행(DB Server로 전송)\n",
    "    ```python\n",
    "        cursor.execute(\"sql문\")\n",
    "    ```\n",
    "4. Select 결과 조회\n",
    "    - select 문을 실행한 경우 cursor를 의 fetch 메소드들을 이용해 select 결과를 조회한다.\n",
    "    ```python\n",
    "    result = cursor.fetchall()\n",
    "    ```\n",
    "5. 연결 닫기\n",
    "    - cursor, connection 연결을 닫는다.\n",
    "    - with문을 이용할 수 있다.\n",
    "    ```python\n",
    "    cursor.close()\n",
    "    connection.close()\n",
    "    ```\n"
   ]
  },
  {
   "cell_type": "markdown",
   "id": "3262b127",
   "metadata": {},
   "source": [
    "# 예제\n",
    "\n",
    "## 테이블 생성\n"
   ]
  },
  {
   "cell_type": "code",
   "execution_count": 13,
   "id": "1fbddc50-275f-4803-b3f9-2f8f19a86690",
   "metadata": {},
   "outputs": [],
   "source": [
    "create_sql = \"\"\"\n",
    "create table customer(\n",
    "  id  int  auto_increment  primary key,\n",
    "  name  varchar(20) not null,\n",
    "  email  varchar(50) not null unique, \n",
    "  tall   double,\n",
    "  birthday  date,\n",
    "  created_at  datetime  not null\n",
    ")\n",
    "\"\"\"\n",
    "# sql 문 마지막에 `;` 은 붙이지 않는다."
   ]
  },
  {
   "cell_type": "code",
   "execution_count": 14,
   "id": "d9b6ce09-4545-4540-aa6a-d73adf5a6c13",
   "metadata": {
    "scrolled": true
   },
   "outputs": [],
   "source": [
    "import pymysql\n",
    "\n",
    "try:\n",
    "    conn = None\n",
    "    \n",
    "    # 1. Database와 연결.\n",
    "    conn = pymysql.connect(\n",
    "        host=\"127.0.0.1\",    # DBMS 의 ip(host) : str\n",
    "        port=3306,           # DBMS의 port 번호: int\n",
    "        user=\"scott\",        # username: str\n",
    "        password=\"tiger\",    # password: str\n",
    "        db=\"mydb\"            #  연결할 Database이름: str\n",
    "    )  # 연결 성공하면 연결된 DB와 관련 작업할 수있는 기능을 제공하는 Connection객체를 반환\n",
    "    \n",
    "    # 2. Connection을 사용해서 Cursor 객체 생성\n",
    "    #    Cursor: sql 처리를 하는 기능을 제공.( sql 전송하고 처리결과를 받을 때까지를 관리)\n",
    "    cursor = conn.cursor()\n",
    "        \n",
    "    # 3. SQL 문 전송\n",
    "    cursor.execute(\"drop table if exists customer\") # 1\n",
    "    cursor.execute(create_sql) \n",
    "    \n",
    "finally:\n",
    "    # 4. 연결닫기(끊기)\n",
    "    if conn: # conn != None\n",
    "        cursor.close() # 4-1. cursor 연결 닫기\n",
    "        conn.close()  # 4-2. connection 연결 닫기"
   ]
  },
  {
   "cell_type": "code",
   "execution_count": null,
   "id": "6f676b11-04b4-4591-9601-51973a9415f7",
   "metadata": {},
   "outputs": [],
   "source": []
  },
  {
   "cell_type": "markdown",
   "id": "98b6a836-68da-4dcb-80fc-f0ac22949b8b",
   "metadata": {},
   "source": [
    "## 파이썬 타입과 연결된 sql 데이터타입 \n",
    "- str - 문자열타입(char, varchar, text,...)\n",
    "- int - 정수(tiny int , int, ....)\n",
    "- float - 실수(float, double)\n",
    "- decimal.Decimal - 실수(decimal)\n",
    "- datetime.date - date\n",
    "- datetime.time - time\n",
    "- datetime.datetime - datetime, timestamp"
   ]
  },
  {
   "cell_type": "markdown",
   "id": "6741499c-a897-4092-8f11-df4720345cf7",
   "metadata": {},
   "source": [
    "> ### datetime 모듈\n",
    "> - 파이썬에서 날짜, 시간을 다루는 모듈\n",
    "> - 날짜 type(class): date\n",
    "> - 시간 type: time\n",
    "> - 날짜시간 type: datetime"
   ]
  },
  {
   "cell_type": "code",
   "execution_count": 5,
   "id": "5331f2d6-96df-4509-9525-cc8cf765a1a1",
   "metadata": {},
   "outputs": [
    {
     "name": "stdout",
     "output_type": "stream",
     "text": [
      "2000 10 20\n",
      "2000 10 20 12 23 50\n",
      "2024-10-10 10:43:29.470829\n",
      "2024-10-10\n"
     ]
    }
   ],
   "source": [
    "from datetime import date, datetime, time\n",
    "a = date(2000, 10, 20)                                    # 날짜 객체 생성 - 년, 월, 일\n",
    "print(a.year, a.month, a.day)                             # data객체에서 년/월/일 조회\n",
    "b = datetime(2000,  10, 20, 12, 23, 50)                       # 날짜시간 객체 생성 - 년, 월, 일, 시, 분, 초 지정. (초는 생략가능)\n",
    "print(b.year, b.month, b.day, b.hour, b.minute, b.second) # 년/월/일/시/분/초 조회\n",
    "\n",
    "print(datetime.now())  # 실행시점의 일시로 datetime객체 생성 (sql: now())\n",
    "print(date.today())    # 실행시점의 날짜로 date객체 생성    (sql: curdate())"
   ]
  },
  {
   "cell_type": "markdown",
   "id": "59b4e786",
   "metadata": {},
   "source": [
    "## DML\n",
    "\n",
    "### insert\n"
   ]
  },
  {
   "cell_type": "code",
   "execution_count": 15,
   "id": "61deab37",
   "metadata": {},
   "outputs": [],
   "source": [
    "sql = \"insert into customer (name, email, tall, birthday, created_at) values('이순신', 'lee1@naver.com', 185.23, '2000-09-20', now())\""
   ]
  },
  {
   "cell_type": "code",
   "execution_count": 17,
   "id": "c78ebebd",
   "metadata": {
    "collapsed": true,
    "jupyter": {
     "outputs_hidden": true
    },
    "scrolled": true
   },
   "outputs": [
    {
     "ename": "IntegrityError",
     "evalue": "(1062, \"Duplicate entry 'lee1@naver.com' for key 'customer.email'\")",
     "output_type": "error",
     "traceback": [
      "\u001b[1;31m---------------------------------------------------------------------------\u001b[0m",
      "\u001b[1;31mIntegrityError\u001b[0m                            Traceback (most recent call last)",
      "Cell \u001b[1;32mIn[17], line 6\u001b[0m\n\u001b[0;32m      4\u001b[0m \u001b[38;5;28;01mwith\u001b[39;00m pymysql\u001b[38;5;241m.\u001b[39mconnect(host\u001b[38;5;241m=\u001b[39m\u001b[38;5;124m\"\u001b[39m\u001b[38;5;124m127.0.0.1\u001b[39m\u001b[38;5;124m\"\u001b[39m, port\u001b[38;5;241m=\u001b[39m\u001b[38;5;241m3306\u001b[39m, user\u001b[38;5;241m=\u001b[39m\u001b[38;5;124m\"\u001b[39m\u001b[38;5;124mscott\u001b[39m\u001b[38;5;124m\"\u001b[39m, password\u001b[38;5;241m=\u001b[39m\u001b[38;5;124m\"\u001b[39m\u001b[38;5;124mtiger\u001b[39m\u001b[38;5;124m\"\u001b[39m, db\u001b[38;5;241m=\u001b[39m\u001b[38;5;124m\"\u001b[39m\u001b[38;5;124mmydb\u001b[39m\u001b[38;5;124m\"\u001b[39m) \u001b[38;5;28;01mas\u001b[39;00m conn:\n\u001b[0;32m      5\u001b[0m     \u001b[38;5;28;01mwith\u001b[39;00m conn\u001b[38;5;241m.\u001b[39mcursor() \u001b[38;5;28;01mas\u001b[39;00m cursor:\n\u001b[1;32m----> 6\u001b[0m         result \u001b[38;5;241m=\u001b[39m \u001b[43mcursor\u001b[49m\u001b[38;5;241;43m.\u001b[39;49m\u001b[43mexecute\u001b[49m\u001b[43m(\u001b[49m\u001b[43msql\u001b[49m\u001b[43m)\u001b[49m \u001b[38;5;66;03m# 처리행수(insert/delete/update된행수, select 조회행수)\u001b[39;00m\n\u001b[0;32m      7\u001b[0m         \u001b[38;5;28mprint\u001b[39m(\u001b[38;5;124m\"\u001b[39m\u001b[38;5;124m처리 행수:\u001b[39m\u001b[38;5;124m\"\u001b[39m, result)\n\u001b[0;32m      8\u001b[0m         \u001b[38;5;66;03m# commit 처리 \u001b[39;00m\n",
      "File \u001b[1;32m~\\miniconda3\\envs\\python\\Lib\\site-packages\\pymysql\\cursors.py:153\u001b[0m, in \u001b[0;36mCursor.execute\u001b[1;34m(self, query, args)\u001b[0m\n\u001b[0;32m    149\u001b[0m     \u001b[38;5;28;01mpass\u001b[39;00m\n\u001b[0;32m    151\u001b[0m query \u001b[38;5;241m=\u001b[39m \u001b[38;5;28mself\u001b[39m\u001b[38;5;241m.\u001b[39mmogrify(query, args)\n\u001b[1;32m--> 153\u001b[0m result \u001b[38;5;241m=\u001b[39m \u001b[38;5;28;43mself\u001b[39;49m\u001b[38;5;241;43m.\u001b[39;49m\u001b[43m_query\u001b[49m\u001b[43m(\u001b[49m\u001b[43mquery\u001b[49m\u001b[43m)\u001b[49m\n\u001b[0;32m    154\u001b[0m \u001b[38;5;28mself\u001b[39m\u001b[38;5;241m.\u001b[39m_executed \u001b[38;5;241m=\u001b[39m query\n\u001b[0;32m    155\u001b[0m \u001b[38;5;28;01mreturn\u001b[39;00m result\n",
      "File \u001b[1;32m~\\miniconda3\\envs\\python\\Lib\\site-packages\\pymysql\\cursors.py:322\u001b[0m, in \u001b[0;36mCursor._query\u001b[1;34m(self, q)\u001b[0m\n\u001b[0;32m    320\u001b[0m conn \u001b[38;5;241m=\u001b[39m \u001b[38;5;28mself\u001b[39m\u001b[38;5;241m.\u001b[39m_get_db()\n\u001b[0;32m    321\u001b[0m \u001b[38;5;28mself\u001b[39m\u001b[38;5;241m.\u001b[39m_clear_result()\n\u001b[1;32m--> 322\u001b[0m \u001b[43mconn\u001b[49m\u001b[38;5;241;43m.\u001b[39;49m\u001b[43mquery\u001b[49m\u001b[43m(\u001b[49m\u001b[43mq\u001b[49m\u001b[43m)\u001b[49m\n\u001b[0;32m    323\u001b[0m \u001b[38;5;28mself\u001b[39m\u001b[38;5;241m.\u001b[39m_do_get_result()\n\u001b[0;32m    324\u001b[0m \u001b[38;5;28;01mreturn\u001b[39;00m \u001b[38;5;28mself\u001b[39m\u001b[38;5;241m.\u001b[39mrowcount\n",
      "File \u001b[1;32m~\\miniconda3\\envs\\python\\Lib\\site-packages\\pymysql\\connections.py:563\u001b[0m, in \u001b[0;36mConnection.query\u001b[1;34m(self, sql, unbuffered)\u001b[0m\n\u001b[0;32m    561\u001b[0m     sql \u001b[38;5;241m=\u001b[39m sql\u001b[38;5;241m.\u001b[39mencode(\u001b[38;5;28mself\u001b[39m\u001b[38;5;241m.\u001b[39mencoding, \u001b[38;5;124m\"\u001b[39m\u001b[38;5;124msurrogateescape\u001b[39m\u001b[38;5;124m\"\u001b[39m)\n\u001b[0;32m    562\u001b[0m \u001b[38;5;28mself\u001b[39m\u001b[38;5;241m.\u001b[39m_execute_command(COMMAND\u001b[38;5;241m.\u001b[39mCOM_QUERY, sql)\n\u001b[1;32m--> 563\u001b[0m \u001b[38;5;28mself\u001b[39m\u001b[38;5;241m.\u001b[39m_affected_rows \u001b[38;5;241m=\u001b[39m \u001b[38;5;28;43mself\u001b[39;49m\u001b[38;5;241;43m.\u001b[39;49m\u001b[43m_read_query_result\u001b[49m\u001b[43m(\u001b[49m\u001b[43munbuffered\u001b[49m\u001b[38;5;241;43m=\u001b[39;49m\u001b[43munbuffered\u001b[49m\u001b[43m)\u001b[49m\n\u001b[0;32m    564\u001b[0m \u001b[38;5;28;01mreturn\u001b[39;00m \u001b[38;5;28mself\u001b[39m\u001b[38;5;241m.\u001b[39m_affected_rows\n",
      "File \u001b[1;32m~\\miniconda3\\envs\\python\\Lib\\site-packages\\pymysql\\connections.py:825\u001b[0m, in \u001b[0;36mConnection._read_query_result\u001b[1;34m(self, unbuffered)\u001b[0m\n\u001b[0;32m    823\u001b[0m \u001b[38;5;28;01melse\u001b[39;00m:\n\u001b[0;32m    824\u001b[0m     result \u001b[38;5;241m=\u001b[39m MySQLResult(\u001b[38;5;28mself\u001b[39m)\n\u001b[1;32m--> 825\u001b[0m     \u001b[43mresult\u001b[49m\u001b[38;5;241;43m.\u001b[39;49m\u001b[43mread\u001b[49m\u001b[43m(\u001b[49m\u001b[43m)\u001b[49m\n\u001b[0;32m    826\u001b[0m \u001b[38;5;28mself\u001b[39m\u001b[38;5;241m.\u001b[39m_result \u001b[38;5;241m=\u001b[39m result\n\u001b[0;32m    827\u001b[0m \u001b[38;5;28;01mif\u001b[39;00m result\u001b[38;5;241m.\u001b[39mserver_status \u001b[38;5;129;01mis\u001b[39;00m \u001b[38;5;129;01mnot\u001b[39;00m \u001b[38;5;28;01mNone\u001b[39;00m:\n",
      "File \u001b[1;32m~\\miniconda3\\envs\\python\\Lib\\site-packages\\pymysql\\connections.py:1199\u001b[0m, in \u001b[0;36mMySQLResult.read\u001b[1;34m(self)\u001b[0m\n\u001b[0;32m   1197\u001b[0m \u001b[38;5;28;01mdef\u001b[39;00m \u001b[38;5;21mread\u001b[39m(\u001b[38;5;28mself\u001b[39m):\n\u001b[0;32m   1198\u001b[0m     \u001b[38;5;28;01mtry\u001b[39;00m:\n\u001b[1;32m-> 1199\u001b[0m         first_packet \u001b[38;5;241m=\u001b[39m \u001b[38;5;28;43mself\u001b[39;49m\u001b[38;5;241;43m.\u001b[39;49m\u001b[43mconnection\u001b[49m\u001b[38;5;241;43m.\u001b[39;49m\u001b[43m_read_packet\u001b[49m\u001b[43m(\u001b[49m\u001b[43m)\u001b[49m\n\u001b[0;32m   1201\u001b[0m         \u001b[38;5;28;01mif\u001b[39;00m first_packet\u001b[38;5;241m.\u001b[39mis_ok_packet():\n\u001b[0;32m   1202\u001b[0m             \u001b[38;5;28mself\u001b[39m\u001b[38;5;241m.\u001b[39m_read_ok_packet(first_packet)\n",
      "File \u001b[1;32m~\\miniconda3\\envs\\python\\Lib\\site-packages\\pymysql\\connections.py:775\u001b[0m, in \u001b[0;36mConnection._read_packet\u001b[1;34m(self, packet_type)\u001b[0m\n\u001b[0;32m    773\u001b[0m     \u001b[38;5;28;01mif\u001b[39;00m \u001b[38;5;28mself\u001b[39m\u001b[38;5;241m.\u001b[39m_result \u001b[38;5;129;01mis\u001b[39;00m \u001b[38;5;129;01mnot\u001b[39;00m \u001b[38;5;28;01mNone\u001b[39;00m \u001b[38;5;129;01mand\u001b[39;00m \u001b[38;5;28mself\u001b[39m\u001b[38;5;241m.\u001b[39m_result\u001b[38;5;241m.\u001b[39munbuffered_active \u001b[38;5;129;01mis\u001b[39;00m \u001b[38;5;28;01mTrue\u001b[39;00m:\n\u001b[0;32m    774\u001b[0m         \u001b[38;5;28mself\u001b[39m\u001b[38;5;241m.\u001b[39m_result\u001b[38;5;241m.\u001b[39munbuffered_active \u001b[38;5;241m=\u001b[39m \u001b[38;5;28;01mFalse\u001b[39;00m\n\u001b[1;32m--> 775\u001b[0m     \u001b[43mpacket\u001b[49m\u001b[38;5;241;43m.\u001b[39;49m\u001b[43mraise_for_error\u001b[49m\u001b[43m(\u001b[49m\u001b[43m)\u001b[49m\n\u001b[0;32m    776\u001b[0m \u001b[38;5;28;01mreturn\u001b[39;00m packet\n",
      "File \u001b[1;32m~\\miniconda3\\envs\\python\\Lib\\site-packages\\pymysql\\protocol.py:219\u001b[0m, in \u001b[0;36mMysqlPacket.raise_for_error\u001b[1;34m(self)\u001b[0m\n\u001b[0;32m    217\u001b[0m \u001b[38;5;28;01mif\u001b[39;00m DEBUG:\n\u001b[0;32m    218\u001b[0m     \u001b[38;5;28mprint\u001b[39m(\u001b[38;5;124m\"\u001b[39m\u001b[38;5;124merrno =\u001b[39m\u001b[38;5;124m\"\u001b[39m, errno)\n\u001b[1;32m--> 219\u001b[0m \u001b[43merr\u001b[49m\u001b[38;5;241;43m.\u001b[39;49m\u001b[43mraise_mysql_exception\u001b[49m\u001b[43m(\u001b[49m\u001b[38;5;28;43mself\u001b[39;49m\u001b[38;5;241;43m.\u001b[39;49m\u001b[43m_data\u001b[49m\u001b[43m)\u001b[49m\n",
      "File \u001b[1;32m~\\miniconda3\\envs\\python\\Lib\\site-packages\\pymysql\\err.py:150\u001b[0m, in \u001b[0;36mraise_mysql_exception\u001b[1;34m(data)\u001b[0m\n\u001b[0;32m    148\u001b[0m \u001b[38;5;28;01mif\u001b[39;00m errorclass \u001b[38;5;129;01mis\u001b[39;00m \u001b[38;5;28;01mNone\u001b[39;00m:\n\u001b[0;32m    149\u001b[0m     errorclass \u001b[38;5;241m=\u001b[39m InternalError \u001b[38;5;28;01mif\u001b[39;00m errno \u001b[38;5;241m<\u001b[39m \u001b[38;5;241m1000\u001b[39m \u001b[38;5;28;01melse\u001b[39;00m OperationalError\n\u001b[1;32m--> 150\u001b[0m \u001b[38;5;28;01mraise\u001b[39;00m errorclass(errno, errval)\n",
      "\u001b[1;31mIntegrityError\u001b[0m: (1062, \"Duplicate entry 'lee1@naver.com' for key 'customer.email'\")"
     ]
    }
   ],
   "source": [
    "# connection, cursor 생성 -> with 문으로 작성.\n",
    "# manual commit 이 default. \n",
    "##  DML(insert/update/delete) 처리 후 commit을 실행해야한다.\n",
    "with pymysql.connect(host=\"127.0.0.1\", port=3306, user=\"scott\", password=\"tiger\", db=\"mydb\") as conn:\n",
    "    with conn.cursor() as cursor:\n",
    "        result = cursor.execute(sql) # 처리행수(insert/delete/update된행수, select 조회행수)\n",
    "        print(\"처리 행수:\", result)\n",
    "        # commit 처리 \n",
    "        conn.commit()\n",
    "   "
   ]
  },
  {
   "cell_type": "markdown",
   "id": "c1d9de83",
   "metadata": {
    "ExecuteTime": {
     "end_time": "2022-04-19T06:23:30.323879Z",
     "start_time": "2022-04-19T06:23:30.304888Z"
    }
   },
   "source": [
    "### Parameterized Query\n",
    "\n",
    "-   Parameterized Query\n",
    "    -   SQL 문에서 컬럼 값이 들어가는 자리에 값대신 `%s` placeholder를 사용한뒤 execute()에서 placeholder에 넣을 값을 list나 tuple로 제공한다.\n",
    "    -   동일한 쿼리문을 값을 바꿔가면서 여러번 실행할 때 유용하다.\n"
   ]
  },
  {
   "cell_type": "code",
   "execution_count": 19,
   "id": "85b23241-9ea0-4d76-8ce4-1502e5d2c49f",
   "metadata": {
    "scrolled": true
   },
   "outputs": [
    {
     "name": "stdin",
     "output_type": "stream",
     "text": [
      "이름: 강감찬\n",
      "이메일주소: k@a.com\n"
     ]
    },
    {
     "name": "stdout",
     "output_type": "stream",
     "text": [
      "처리 행수: 1\n"
     ]
    }
   ],
   "source": [
    "import pymysql\n",
    "\n",
    "# insert할 값 입력받기\n",
    "name = input(\"이름:\")\n",
    "email = input(\"이메일주소:\")\n",
    "\n",
    "# SQL 실행\n",
    "insert_sql = \"insert into customer (name, email, tall, birthday, created_at) values (%s, %s, %s, %s, now())\"\n",
    "\n",
    "with pymysql.connect(host=\"127.0.0.1\", port=3306, user='scott', password='tiger', db='mydb') as conn:\n",
    "    with conn.cursor() as cursor:\n",
    "        result = cursor.execute(insert_sql, [name, email, 175.23, \"2010-01-01\"])\n",
    "        conn.commit()\n",
    "        print(\"처리 행수:\", result)"
   ]
  },
  {
   "cell_type": "markdown",
   "id": "7322f3bb",
   "metadata": {},
   "source": [
    "#### Parameterized Query를 이용해 여러개 행 insert\n",
    "\n",
    "- executemany() 사용\n",
    "    - insert할 값들을 가진 리스트를 넣어 한번에 여러 행을 insert한다.\n"
   ]
  },
  {
   "cell_type": "code",
   "execution_count": 22,
   "id": "f72beeb1",
   "metadata": {},
   "outputs": [],
   "source": [
    "from datetime import datetime, date\n",
    "datas = [\n",
    "    [\"김인영\", \"abc2@a.com\", 165, date(2005, 1, 12), datetime.now()],\n",
    "    [\"오수철\", \"def2@a.com\", 175, date(1995, 12, 20), datetime.now()],\n",
    "    [\"최유명\", \"ghi2@a.com\", 183, date(1978, 10, 28), datetime.now()],\n",
    "    [\"김명수\", \"jkl@abc.com\", 177, date(2000, 2, 12), datetime.now()],\n",
    "    [\"이지영\", \"mno@abc.com\", 163, date(1995, 4, 21), datetime.now()],\n",
    "    [\"박명수\", \"pqr@abc.com\", 185, date(2002, 7, 5), datetime.now()],\n",
    "]"
   ]
  },
  {
   "cell_type": "code",
   "execution_count": 23,
   "id": "2792bae6",
   "metadata": {},
   "outputs": [
    {
     "name": "stdout",
     "output_type": "stream",
     "text": [
      "insert된 총 행수: 6\n"
     ]
    }
   ],
   "source": [
    "insert_sql = \"insert into customer(name, email, tall, birthday, created_at) values(%s, %s, %s, %s, %s)\"\n",
    "with pymysql.connect(host=\"127.0.0.1\", port=3306, user='scott', password='tiger', db='mydb') as conn:\n",
    "    with conn.cursor() as cursor:\n",
    "        cnt = cursor.executemany(insert_sql, datas)  # executemany() 결과 행수 반환.\n",
    "        conn.commit()\n",
    "\n",
    "print(\"insert된 총 행수:\", cnt)"
   ]
  },
  {
   "cell_type": "markdown",
   "id": "d78f4253",
   "metadata": {},
   "source": [
    "### update/delete\n",
    "\n",
    "-   코딩 절차는 insert 와 동일\n"
   ]
  },
  {
   "cell_type": "code",
   "execution_count": 24,
   "id": "5f056266",
   "metadata": {},
   "outputs": [
    {
     "name": "stdin",
     "output_type": "stream",
     "text": [
      "변경할 키:  171.23\n",
      "변경할 고객 ID:  1\n"
     ]
    },
    {
     "name": "stdout",
     "output_type": "stream",
     "text": [
      "처리 행수:  1\n"
     ]
    }
   ],
   "source": [
    "update_sql = \"update customer set tall=%s where id=%s\"\n",
    "tall = float(input(\"변경할 키: \"))\n",
    "cust_id = int(input(\"변경할 고객 ID: \"))\n",
    "\n",
    "with pymysql.connect(host=\"127.0.0.1\", port=3306, user='scott', password='tiger', db='mydb') as conn:\n",
    "    with conn.cursor() as cursor:\n",
    "        result = cursor.execute(update_sql, [tall, cust_id])\n",
    "        print(\"처리 행수: \", result)\n",
    "        conn.commit()"
   ]
  },
  {
   "cell_type": "code",
   "execution_count": 25,
   "id": "c07f1e80-a9a4-4a8b-bd4c-e9d0fc1fcd7e",
   "metadata": {},
   "outputs": [
    {
     "name": "stdin",
     "output_type": "stream",
     "text": [
      "변경할 Email주소:  new@email.com\n",
      "변경할 키:  230\n",
      "변경할 고객 ID:  1\n"
     ]
    },
    {
     "name": "stdout",
     "output_type": "stream",
     "text": [
      "처리 행수:  1\n"
     ]
    }
   ],
   "source": [
    "update_sql = \"update customer set email=%s, tall=%s where id=%s\"\n",
    "email = input(\"변경할 Email주소: \")\n",
    "tall = float(input(\"변경할 키: \"))\n",
    "cust_id = int(input(\"변경할 고객 ID: \"))\n",
    "\n",
    "with pymysql.connect(host=\"127.0.0.1\", port=3306, user='scott', password='tiger', db='mydb') as conn:\n",
    "    with conn.cursor() as cursor:\n",
    "        result = cursor.execute(update_sql, [email, tall, cust_id])\n",
    "        print(\"처리 행수: \", result)\n",
    "        conn.commit()"
   ]
  },
  {
   "cell_type": "code",
   "execution_count": 26,
   "id": "55cc6af5",
   "metadata": {},
   "outputs": [
    {
     "name": "stdin",
     "output_type": "stream",
     "text": [
      "삭제기준 키: 180\n"
     ]
    },
    {
     "name": "stdout",
     "output_type": "stream",
     "text": [
      "처리 행수:  3\n"
     ]
    }
   ],
   "source": [
    "delete_sql = \"delete from customer where tall > %s\"\n",
    "\n",
    "tall = float(input(\"삭제기준 키:\"))\n",
    "\n",
    "with pymysql.connect(host=\"127.0.0.1\", port=3306, user='scott', password='tiger', db='mydb') as conn:\n",
    "    with conn.cursor() as cursor:\n",
    "        result = cursor.execute(delete_sql, [tall])\n",
    "        # result = cursor.execute(delete_sql, (tall,))\n",
    "        print(\"처리 행수: \", result)\n",
    "        conn.commit()"
   ]
  },
  {
   "cell_type": "code",
   "execution_count": null,
   "id": "ea34cdb7",
   "metadata": {},
   "outputs": [],
   "source": []
  },
  {
   "cell_type": "markdown",
   "id": "096891b8",
   "metadata": {},
   "source": [
    "## select (DQL - Data Query Language)\n",
    "\n",
    "-   조회결과 조회\n",
    "    -   cursor.execute(\"select문\") 실행 후 cursor의 결과 조회 메소드(fetch메소드)를 이용해 결과를 받는다.\n",
    "-   fetch메소드\n",
    "    -   **fetchall()**\n",
    "        -   조회한 모든 행을을 반환\n",
    "    -   **fetchmany(size=개수)**\n",
    "        -   전체 조회한 행들 중 지정한 size개수 만큼 반환.\n",
    "        -   연속적으로 실행하면 다음 size개수 만큼씩 반환한다.\n",
    "        -   더 이상 조회한 결과가 없으면 빈 튜플을 반환한다.\n",
    "    -   **fetchone()**\n",
    "        -   조회결과 중 첫번째 행만 반환\n",
    "        -   주로 pk 동등 조건으로 조회한 경우 사용\n"
   ]
  },
  {
   "cell_type": "markdown",
   "id": "524f4cb8",
   "metadata": {},
   "source": [
    "### fetchall()\n"
   ]
  },
  {
   "cell_type": "code",
   "execution_count": 27,
   "id": "93a06bf2",
   "metadata": {},
   "outputs": [
    {
     "name": "stdout",
     "output_type": "stream",
     "text": [
      "조회행수: 6\n"
     ]
    }
   ],
   "source": [
    "sql = \"select id, name, tall from customer\" \n",
    "with pymysql.connect(host=\"127.0.0.1\", port=3306, user='scott', password='tiger', db='mydb') as conn:\n",
    "    with conn.cursor() as cursor:\n",
    "        result = cursor.execute(sql)\n",
    "        print(\"조회행수:\", result)\n",
    "        resultset = cursor.fetchall()"
   ]
  },
  {
   "cell_type": "code",
   "execution_count": 29,
   "id": "82a62b01",
   "metadata": {},
   "outputs": [
    {
     "data": {
      "text/plain": [
       "((4, '유관순', 175.23),\n",
       " (5, '강감찬', 175.23),\n",
       " (6, '김인영', 165.0),\n",
       " (7, '오수철', 175.0),\n",
       " (9, '김명수', 177.0),\n",
       " (10, '이지영', 163.0))"
      ]
     },
     "execution_count": 29,
     "metadata": {},
     "output_type": "execute_result"
    }
   ],
   "source": [
    "resultset\n",
    "# tuple(개별행 - tuple(컬럼값들 ))"
   ]
  },
  {
   "cell_type": "code",
   "execution_count": 31,
   "id": "32518037-2b70-444d-8b57-7b4531d79b6f",
   "metadata": {},
   "outputs": [
    {
     "data": {
      "text/plain": [
       "'유관순'"
      ]
     },
     "execution_count": 31,
     "metadata": {},
     "output_type": "execute_result"
    }
   ],
   "source": [
    "# 첫번째 사람의 이름\n",
    "resultset[0][1]"
   ]
  },
  {
   "cell_type": "markdown",
   "id": "2be0cc74-4dbc-4964-b2f7-d897c9fe5ccd",
   "metadata": {},
   "source": [
    "### 조회결과를 dictionary로 반환\n",
    "- pymysql.cursors.DictCursor 사용\n",
    "    - Connection 생성시 또는 Cursor 생성시 지정한다.\n",
    "- key: 컬럼명, value: 컬럼값"
   ]
  },
  {
   "cell_type": "code",
   "execution_count": 32,
   "id": "bce604d1-9215-4afc-b54a-5ff44c82d488",
   "metadata": {},
   "outputs": [
    {
     "name": "stdout",
     "output_type": "stream",
     "text": [
      "조회행수: 6\n"
     ]
    }
   ],
   "source": [
    "sql = \"select id, name, tall from customer\" \n",
    "with pymysql.connect(host=\"127.0.0.1\", port=3306, user='scott', password='tiger', db='mydb') as conn:\n",
    "    with conn.cursor(pymysql.cursors.DictCursor) as cursor:  \n",
    "        result = cursor.execute(sql)\n",
    "        print(\"조회행수:\", result)\n",
    "        resultset = cursor.fetchall()"
   ]
  },
  {
   "cell_type": "code",
   "execution_count": 33,
   "id": "e04c153c-aad0-4b4a-92d3-a19ae9d9385d",
   "metadata": {},
   "outputs": [
    {
     "data": {
      "text/plain": [
       "[{'id': 4, 'name': '유관순', 'tall': 175.23},\n",
       " {'id': 5, 'name': '강감찬', 'tall': 175.23},\n",
       " {'id': 6, 'name': '김인영', 'tall': 165.0},\n",
       " {'id': 7, 'name': '오수철', 'tall': 175.0},\n",
       " {'id': 9, 'name': '김명수', 'tall': 177.0},\n",
       " {'id': 10, 'name': '이지영', 'tall': 163.0}]"
      ]
     },
     "execution_count": 33,
     "metadata": {},
     "output_type": "execute_result"
    }
   ],
   "source": [
    "resultset\n",
    "# list[dictionary{key:컬럼명, value:컬럼값}]"
   ]
  },
  {
   "cell_type": "markdown",
   "id": "b3a9867d",
   "metadata": {},
   "source": [
    "### fetchone()\n"
   ]
  },
  {
   "cell_type": "code",
   "execution_count": 44,
   "id": "97500b7b",
   "metadata": {},
   "outputs": [
    {
     "name": "stdout",
     "output_type": "stream",
     "text": [
      "조회행수: 1\n"
     ]
    }
   ],
   "source": [
    "sql = \"select * from customer where id = %s\" \n",
    "with pymysql.connect(host=\"127.0.0.1\", port=3306, user='scott', password='tiger', db='mydb') as conn:\n",
    "    with conn.cursor() as cursor:\n",
    "        result = cursor.execute(sql, [7])  #(2, )\n",
    "        print(\"조회행수:\", result)\n",
    "        resultset = cursor.fetchone()\n",
    "        # resultset = cursor.fetchall()"
   ]
  },
  {
   "cell_type": "code",
   "execution_count": 45,
   "id": "b0eaf81d",
   "metadata": {},
   "outputs": [
    {
     "name": "stdout",
     "output_type": "stream",
     "text": [
      "(7, '오수철', 'def2@a.com', 175.0, datetime.date(1995, 12, 20), datetime.datetime(2024, 10, 10, 11, 23, 44))\n"
     ]
    }
   ],
   "source": [
    "if resultset:  # 조회결과가 없으면 None\n",
    "    print(resultset)\n",
    "    # print(\"이름:\", resultset[1])\n",
    "else:\n",
    "    print(\"조회결과가 없음.\")"
   ]
  },
  {
   "cell_type": "markdown",
   "id": "cc8054bc",
   "metadata": {},
   "source": [
    "### fetchmany()\n"
   ]
  },
  {
   "cell_type": "code",
   "execution_count": 48,
   "id": "7d72f49c",
   "metadata": {},
   "outputs": [
    {
     "name": "stdout",
     "output_type": "stream",
     "text": [
      "조회행수: 6\n"
     ]
    }
   ],
   "source": [
    "sql = \"select id, name, birthday from customer\" \n",
    "with pymysql.connect(host=\"127.0.0.1\", port=3306, user='scott', password='tiger', db='mydb') as conn:\n",
    "    with conn.cursor() as cursor:\n",
    "        result = cursor.execute(sql)\n",
    "        print(\"조회행수:\", result)\n",
    "        resultset1 = cursor.fetchmany(size=2)  # 처음 두개\n",
    "        resultset2 = cursor.fetchmany(size=2)  # 다음 두개\n",
    "        resultset3 = cursor.fetchmany(size=2)\n",
    "        resultset4 = cursor.fetchmany(size=2)"
   ]
  },
  {
   "cell_type": "code",
   "execution_count": 49,
   "id": "50fffed5",
   "metadata": {},
   "outputs": [
    {
     "name": "stdout",
     "output_type": "stream",
     "text": [
      "((4, '유관순', datetime.date(2010, 1, 1)), (5, '강감찬', datetime.date(2010, 1, 1)))\n",
      "((6, '김인영', datetime.date(2005, 1, 12)), (7, '오수철', datetime.date(1995, 12, 20)), (9, '김명수', datetime.date(2000, 2, 12)))\n",
      "((10, '이지영', datetime.date(1995, 4, 21)),)\n",
      "()\n"
     ]
    }
   ],
   "source": [
    "print(resultset1)\n",
    "print(resultset2)\n",
    "print(resultset3)\n",
    "print(resultset4)"
   ]
  },
  {
   "cell_type": "markdown",
   "id": "fca900bd",
   "metadata": {},
   "source": [
    "### select문을 실행한 cursor 는 iterable 타입\n",
    "\n",
    "-   for in 문에 select query를 실행한 cursor를 사용하면 조회결과를 한 행씩 조회할 수 있다.\n"
   ]
  },
  {
   "cell_type": "code",
   "execution_count": 51,
   "id": "8332ff67",
   "metadata": {},
   "outputs": [
    {
     "name": "stdout",
     "output_type": "stream",
     "text": [
      "조회행수: 6\n",
      "4 , 유관순 , a@a.com , 175.23 , 2010-01-01 , 2024-10-10 11:17:34\n",
      "5 , 강감찬 , k@a.com , 175.23 , 2010-01-01 , 2024-10-10 11:17:50\n",
      "6 , 김인영 , abc2@a.com , 165.0 , 2005-01-12 , 2024-10-10 11:23:44\n",
      "7 , 오수철 , def2@a.com , 175.0 , 1995-12-20 , 2024-10-10 11:23:44\n",
      "9 , 김명수 , jkl@abc.com , 177.0 , 2000-02-12 , 2024-10-10 11:23:44\n",
      "10 , 이지영 , mno@abc.com , 163.0 , 1995-04-21 , 2024-10-10 11:23:44\n"
     ]
    }
   ],
   "source": [
    "sql = \"select * from customer\" \n",
    "with pymysql.connect(host=\"127.0.0.1\", port=3306, user='scott', password='tiger', db='mydb') as conn:\n",
    "    with conn.cursor() as cursor:\n",
    "        result = cursor.execute(sql)\n",
    "        print(\"조회행수:\", result)\n",
    "        for id, name, email, tall, birthday, created_at in cursor:\n",
    "            print(id, name, email, tall, birthday, created_at, sep=\" , \")\n",
    "        # for v in cursor:\n",
    "        #     print(v)"
   ]
  },
  {
   "cell_type": "code",
   "execution_count": null,
   "id": "c420bded-7489-47f2-9c68-0f48b77015b0",
   "metadata": {},
   "outputs": [],
   "source": []
  },
  {
   "cell_type": "code",
   "execution_count": 52,
   "id": "e739ace5-b888-4317-9ba4-6449a9bca4c1",
   "metadata": {},
   "outputs": [],
   "source": [
    "# database.py 모듈을 이용해서 hr_join DB와 관련된 select 실행.\n",
    "from database import HRDao  # Dao: Data Access Object\n",
    "import configparser as parser # config.ini 의 정보를 조회."
   ]
  },
  {
   "cell_type": "code",
   "execution_count": 53,
   "id": "1fb51731-4d19-4955-bbb5-3e300ac72533",
   "metadata": {},
   "outputs": [
    {
     "name": "stdout",
     "output_type": "stream",
     "text": [
      "host: 127.0.0.1\n"
     ]
    }
   ],
   "source": [
    "# configparser에서 MYSQL연결 정보 조회\n",
    "props = parser.ConfigParser()  # Parser객체 생성\n",
    "props.read(\"./config.ini\")     # ini 파일 읽기\n",
    "mysql_config = props['MYSQL']  # MYSQL Section \"[MYSQL]\"의 설정정보 조회\n",
    "print(\"host:\", mysql_config['host'])"
   ]
  },
  {
   "cell_type": "code",
   "execution_count": 57,
   "id": "95e166d8-41df-4f0e-b701-bbb953b2dc89",
   "metadata": {},
   "outputs": [
    {
     "data": {
      "text/plain": [
       "107"
      ]
     },
     "execution_count": 57,
     "metadata": {},
     "output_type": "execute_result"
    }
   ],
   "source": [
    "dao = HRDao(\n",
    "    mysql_config['host'],\n",
    "    3306, \n",
    "    mysql_config['user'],\n",
    "    mysql_config['password'],\n",
    "    mysql_config['db']\n",
    ")\n",
    "\n",
    "### 전직원 정보를 조회 - select_emp_all()\n",
    "all_emp = dao.select_all_emp()\n",
    "len(all_emp)"
   ]
  },
  {
   "cell_type": "code",
   "execution_count": 58,
   "id": "c983a6a1-12b9-4dea-9f4e-9fc9f66a1131",
   "metadata": {
    "collapsed": true,
    "jupyter": {
     "outputs_hidden": true
    }
   },
   "outputs": [
    {
     "name": "stdout",
     "output_type": "stream",
     "text": [
      "((110, 'Accounting', 'Seattle'), (10, 'Administration', 'Seattle'), (160, 'Benefits', 'Seattle'), (180, 'Construction', 'Seattle'), (190, 'Contracting', 'Seattle'), (140, 'Control And Credit', 'Seattle'), (130, 'Corporate Tax', 'Seattle'), (90, 'Executive', 'Seattle'), (100, 'Finance', 'Seattle'), (240, 'Government Sales', 'Seattle'), (40, 'Human Resources', 'New York'), (60, 'IT', 'San Francisco'), (230, 'IT Helpdesk', 'Seattle'), (210, 'IT Support', 'Seattle'), (170, 'Manufacturing', 'Seattle'), (20, 'Marketing', 'New York'), (220, 'NOC', 'Seattle'), (200, 'Operations', 'Seattle'), (270, 'Payroll', 'Seattle'), (70, 'Public Relations', 'New York'), (30, 'Purchasing', 'Seattle'), (260, 'Recruiting', 'Seattle'), (250, 'Retail Sales', 'Seattle'), (80, 'Sales', 'New York'), (150, 'Shareholder Services', 'Seattle'), (50, 'Shipping', 'San Francisco'), (120, 'Treasury', 'Seattle'))\n"
     ]
    }
   ],
   "source": [
    "all_dept = dao.select_dept()\n",
    "print(all_dept)"
   ]
  },
  {
   "cell_type": "code",
   "execution_count": 60,
   "id": "dc02ea0c-fc58-4cad-a082-f888159cf4c8",
   "metadata": {
    "collapsed": true,
    "jupyter": {
     "outputs_hidden": true
    },
    "scrolled": true
   },
   "outputs": [
    {
     "data": {
      "text/plain": [
       "[{'emp_id': 114,\n",
       "  'emp_name': 'Den',\n",
       "  'dept_name': 'Purchasing',\n",
       "  'job_title': 'Purchasing Manager',\n",
       "  'hire_date': datetime.date(2002, 12, 7),\n",
       "  'salary': '$11,000'},\n",
       " {'emp_id': 115,\n",
       "  'emp_name': 'Alexander',\n",
       "  'dept_name': 'Purchasing',\n",
       "  'job_title': 'Purchasing Manager',\n",
       "  'hire_date': datetime.date(2003, 5, 18),\n",
       "  'salary': '$9,100'},\n",
       " {'emp_id': 116,\n",
       "  'emp_name': 'Shelli',\n",
       "  'dept_name': 'Purchasing',\n",
       "  'job_title': 'Purchasing Clerk',\n",
       "  'hire_date': datetime.date(2005, 12, 24),\n",
       "  'salary': '$2,900'},\n",
       " {'emp_id': 117,\n",
       "  'emp_name': 'Sigal',\n",
       "  'dept_name': 'Purchasing',\n",
       "  'job_title': 'Purchasing Clerk',\n",
       "  'hire_date': datetime.date(2005, 7, 24),\n",
       "  'salary': '$2,800'},\n",
       " {'emp_id': 118,\n",
       "  'emp_name': 'Guy',\n",
       "  'dept_name': 'Purchasing',\n",
       "  'job_title': 'Purchasing Clerk',\n",
       "  'hire_date': datetime.date(2006, 11, 15),\n",
       "  'salary': '$2,600'},\n",
       " {'emp_id': 119,\n",
       "  'emp_name': 'Karen',\n",
       "  'dept_name': 'Purchasing',\n",
       "  'job_title': 'Purchasing Clerk',\n",
       "  'hire_date': datetime.date(2007, 8, 10),\n",
       "  'salary': '$2,500'}]"
      ]
     },
     "execution_count": 60,
     "metadata": {},
     "output_type": "execute_result"
    }
   ],
   "source": [
    "result = dao.select_emp_by_dept(30)\n",
    "result"
   ]
  }
 ],
 "metadata": {
  "kernelspec": {
   "display_name": "Python 3 (ipykernel)",
   "language": "python",
   "name": "python3"
  },
  "language_info": {
   "codemirror_mode": {
    "name": "ipython",
    "version": 3
   },
   "file_extension": ".py",
   "mimetype": "text/x-python",
   "name": "python",
   "nbconvert_exporter": "python",
   "pygments_lexer": "ipython3",
   "version": "3.12.5"
  },
  "toc": {
   "base_numbering": 1,
   "nav_menu": {},
   "number_sections": false,
   "sideBar": true,
   "skip_h1_title": false,
   "title_cell": "Table of Contents",
   "title_sidebar": "Contents",
   "toc_cell": false,
   "toc_position": {},
   "toc_section_display": true,
   "toc_window_display": false
  },
  "varInspector": {
   "cols": {
    "lenName": 16,
    "lenType": 16,
    "lenVar": 40
   },
   "kernels_config": {
    "python": {
     "delete_cmd_postfix": "",
     "delete_cmd_prefix": "del ",
     "library": "var_list.py",
     "varRefreshCmd": "print(var_dic_list())"
    },
    "r": {
     "delete_cmd_postfix": ") ",
     "delete_cmd_prefix": "rm(",
     "library": "var_list.r",
     "varRefreshCmd": "cat(var_dic_list()) "
    }
   },
   "types_to_exclude": [
    "module",
    "function",
    "builtin_function_or_method",
    "instance",
    "_Feature"
   ],
   "window_display": false
  }
 },
 "nbformat": 4,
 "nbformat_minor": 5
}
