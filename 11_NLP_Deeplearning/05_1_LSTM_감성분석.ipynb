{
 "cells": [
  {
   "cell_type": "markdown",
   "id": "e93c9500-6e1f-445a-a5e1-95e687853ae8",
   "metadata": {},
   "source": [
    "# Pytorch의 nn.Embedding\n",
    "- Pytorch의 Embedding Layer는 word2vec과 마찬가지로 word embedding vector를 찾는 **Lookup Table**이다.\n",
    "    - 단어의 **정수의 고유 index**가 입력으로 들어오면 Embedding Layer의 **그 index의 Vector**를 출력한다.\n",
    "    - 모델이 학습되는 동안 모델이 풀려는 문제에 맞는 값으로 Embedding Layer의 vector들이 업데이트 된다.\n",
    "    - Word2Vec의 embedding vector 학습을 nn.Embedding은 자신이 포함된 모델을 학습 하는 과정에서 한다고 생각하면 된다."
   ]
  },
  {
   "cell_type": "code",
   "execution_count": 1,
   "id": "bfee4328-7019-4f85-bb71-d7f172024ee6",
   "metadata": {},
   "outputs": [
    {
     "name": "stdout",
     "output_type": "stream",
     "text": [
      "cpu\n"
     ]
    }
   ],
   "source": [
    "import torch\n",
    "import torch.nn as nn\n",
    "import os\n",
    "import numpy as np\n",
    "from torchinfo import summary\n",
    "\n",
    "device = \"cuda\" if torch.cuda.is_available() else \"cpu\"\n",
    "print(device)"
   ]
  },
  {
   "cell_type": "code",
   "execution_count": 2,
   "id": "bb7d9976-fdf7-4222-9da5-166f90605f3d",
   "metadata": {},
   "outputs": [],
   "source": [
    "e_layer = nn.Embedding(\n",
    "    num_embeddings=10,  # vocab size (총 단어 개수/크기)\n",
    "    embedding_dim=5,    # embedding vector의 차원. (한개 단어를 몇개 값으로 표현.)\n",
    "    padding_idx=0,      # padding 토큰의 index를 지정.\n",
    "    #             (pad는 자리만 채우는 토큰이므로 학습이 안되도록 처리하기 위해서.)\n",
    "\n",
    "    # [PAD](padding) 토큰: 문장들의 토큰 개수를 맞추기 위해서 사용하는 토큰.\n",
    "    # EX)모든 문장의 토큰수를 10개 로 할 경우. 10개가 안되는 토큰은 나머지를 [PAD] \n",
    "    #  토큰으로 채운다.\n",
    ")"
   ]
  },
  {
   "cell_type": "code",
   "execution_count": 5,
   "id": "d936d8f7-a203-4452-978f-e2da81b7dafe",
   "metadata": {},
   "outputs": [
    {
     "data": {
      "text/plain": [
       "torch.Size([10, 5])"
      ]
     },
     "execution_count": 5,
     "metadata": {},
     "output_type": "execute_result"
    }
   ],
   "source": [
    "# embedding layer의 weight 조회\n",
    "e_layer.weight   # word embedding vector들.\n",
    "e_layer.weight.shape # [10: 단어수, 5:embedding 차원]"
   ]
  },
  {
   "cell_type": "code",
   "execution_count": 7,
   "id": "2d166e4e-4ced-4bc8-a188-12358670ad0d",
   "metadata": {},
   "outputs": [
    {
     "name": "stdout",
     "output_type": "stream",
     "text": [
      "torch.Size([1, 4, 5])\n",
      "tensor([[[-0.0095, -0.7010,  0.4702, -0.0711, -0.4668],\n",
      "         [ 0.5122, -2.9398,  1.3435,  1.8088, -0.0858],\n",
      "         [ 0.8444, -0.0644,  0.8419, -0.7564, -0.0973],\n",
      "         [ 1.9628,  0.8114,  0.2339, -1.2946,  1.5357]]],\n",
      "       grad_fn=<EmbeddingBackward0>)\n"
     ]
    }
   ],
   "source": [
    "# 입력 값 - 정수 tensor(LongTensor-int64)를 입력.\n",
    "## 한개 문서 : [1, 10, 7, 5] \n",
    "                        # 문서를 구성하는 토큰 idx들을 1차원으로 묶어서 전달\n",
    "input_data = torch.tensor([[1, 3, 2, 7]], dtype=torch.int64)\n",
    "e = e_layer(input_data)\n",
    "print(e.shape)\n",
    "print(e)  # [1: 문서수, 4: 토큰(단어)수, 5:embedding vector 차원]"
   ]
  },
  {
   "cell_type": "code",
   "execution_count": 12,
   "id": "97d5ddd0-3065-434f-b2a4-2afbbfc93166",
   "metadata": {},
   "outputs": [
    {
     "data": {
      "text/plain": [
       "tensor([[-0.0095, -0.7010,  0.4702, -0.0711, -0.4668],\n",
       "        [ 0.5122, -2.9398,  1.3435,  1.8088, -0.0858],\n",
       "        [ 0.8444, -0.0644,  0.8419, -0.7564, -0.0973],\n",
       "        [ 1.9628,  0.8114,  0.2339, -1.2946,  1.5357]],\n",
       "       grad_fn=<IndexBackward0>)"
      ]
     },
     "execution_count": 12,
     "metadata": {},
     "output_type": "execute_result"
    }
   ],
   "source": [
    "e_layer.weight[[1, 3, 2, 7]]"
   ]
  },
  {
   "cell_type": "markdown",
   "id": "ca59e731-381d-4a79-83c4-1fc20ba006e1",
   "metadata": {},
   "source": [
    "# 네이버 영화 댓글 감성분석(Sentiment Analysis)\n",
    "\n",
    "## 감성분석(Sentiment Analysis) 이란\n",
    "입력된 텍스트가 **긍적적인 글**인지 **부정적인**인지 또는 **중립적인** 글인지 분석하는 것을 감성(감정) 분석이라고 한다.   \n",
    "이를 통해 기업이 고객이 자신들의 기업 또는 제품에 대해 어떤 의견을 가지고 있는지 분석한다."
   ]
  },
  {
   "cell_type": "markdown",
   "id": "e7034ada-08b9-4163-b18d-ce429aef275b",
   "metadata": {},
   "source": [
    "# Dataset, DataLoader 생성\n",
    "\n",
    "## Korpora에서 Naver 영화 댓글 dataset 가져오기\n",
    "- https://ko-nlp.github.io/Korpora/ko-docs/corpuslist/nsmc.html\n",
    "- http://github.com/e9t/nsmc/\n",
    "    - input: 영화댓글\n",
    "    - output: 0(부정적댓글), 1(긍정적댓글)\n",
    "### API\n",
    "- **corpus 가져오기**\n",
    "    - `Korpora.load('nsmc')`\n",
    "- **text/label 조회**\n",
    "    - `corpus.get_all_texts()` : 전체 corpus의 text들을 tuple로 반환\n",
    "    - `corpus.get_all_labels()`: 전체 corpus의 label들을 list로 반환\n",
    "- **train/test set 나눠서 조회**\n",
    "    - `corpus.train`\n",
    "    - `corpus.test`\n",
    "    - `LabeledSentenceKorpusData` 객체에 text와 label들을 담아서 제공.\n",
    "        - `LabeledSentenceKorpusData.texts`: text들 tuple로 반환.\n",
    "        - `LabeledSentenceKorpusData.labels`: label들 list로 반환."
   ]
  },
  {
   "cell_type": "markdown",
   "id": "4d0e2ea3-6123-4ebd-8e98-27b1db6406ed",
   "metadata": {},
   "source": [
    "## 데이터 로딩"
   ]
  },
  {
   "cell_type": "code",
   "execution_count": null,
   "id": "fca0d338-9ece-49be-8d2f-4a893fe97f5b",
   "metadata": {},
   "outputs": [],
   "source": [
    "!pip install korpora"
   ]
  },
  {
   "cell_type": "code",
   "execution_count": 2,
   "id": "e0534360-f0ee-48ce-bb46-24c004d63272",
   "metadata": {},
   "outputs": [
    {
     "name": "stdout",
     "output_type": "stream",
     "text": [
      "\n",
      "    Korpora 는 다른 분들이 연구 목적으로 공유해주신 말뭉치들을\n",
      "    손쉽게 다운로드, 사용할 수 있는 기능만을 제공합니다.\n",
      "\n",
      "    말뭉치들을 공유해 주신 분들에게 감사드리며, 각 말뭉치 별 설명과 라이센스를 공유 드립니다.\n",
      "    해당 말뭉치에 대해 자세히 알고 싶으신 분은 아래의 description 을 참고,\n",
      "    해당 말뭉치를 연구/상용의 목적으로 이용하실 때에는 아래의 라이센스를 참고해 주시기 바랍니다.\n",
      "\n",
      "    # Description\n",
      "    Author : e9t@github\n",
      "    Repository : https://github.com/e9t/nsmc\n",
      "    References : www.lucypark.kr/docs/2015-pyconkr/#39\n",
      "\n",
      "    Naver sentiment movie corpus v1.0\n",
      "    This is a movie review dataset in the Korean language.\n",
      "    Reviews were scraped from Naver Movies.\n",
      "\n",
      "    The dataset construction is based on the method noted in\n",
      "    [Large movie review dataset][^1] from Maas et al., 2011.\n",
      "\n",
      "    [^1]: http://ai.stanford.edu/~amaas/data/sentiment/\n",
      "\n",
      "    # License\n",
      "    CC0 1.0 Universal (CC0 1.0) Public Domain Dedication\n",
      "    Details in https://creativecommons.org/publicdomain/zero/1.0/\n",
      "\n",
      "[Korpora] Corpus `nsmc` is already installed at C:\\Users\\Playdata\\Korpora\\nsmc\\ratings_train.txt\n",
      "[Korpora] Corpus `nsmc` is already installed at C:\\Users\\Playdata\\Korpora\\nsmc\\ratings_test.txt\n"
     ]
    }
   ],
   "source": [
    "import os\n",
    "import time\n",
    "\n",
    "from Korpora import Korpora\n",
    "\n",
    "corpus = Korpora.load('nsmc')"
   ]
  },
  {
   "cell_type": "code",
   "execution_count": 3,
   "id": "4200f90b-6ea3-4693-9b19-3bd6256d0c77",
   "metadata": {},
   "outputs": [],
   "source": [
    "all_input = corpus.get_all_texts()  # inupt: 댓글들 (전체)\n",
    "all_labels = corpus.get_all_labels()# output: 0:부정, 1긍정(전체)"
   ]
  },
  {
   "cell_type": "code",
   "execution_count": 4,
   "id": "883e2383-8d31-4148-abca-4711ddc9bc81",
   "metadata": {},
   "outputs": [
    {
     "data": {
      "text/plain": [
       "('아 더빙.. 진짜 짜증나네요 목소리',\n",
       " '흠...포스터보고 초딩영화줄....오버연기조차 가볍지 않구나',\n",
       " '너무재밓었다그래서보는것을추천한다',\n",
       " '교도소 이야기구먼 ..솔직히 재미는 없다..평점 조정',\n",
       " '사이몬페그의 익살스런 연기가 돋보였던 영화!스파이더맨에서 늙어보이기만 했던 커스틴 던스트가 너무나도 이뻐보였다')"
      ]
     },
     "execution_count": 4,
     "metadata": {},
     "output_type": "execute_result"
    }
   ],
   "source": [
    "all_input[:5]"
   ]
  },
  {
   "cell_type": "code",
   "execution_count": 5,
   "id": "9695b41c-e331-4f2b-9f65-d1847b058996",
   "metadata": {},
   "outputs": [
    {
     "data": {
      "text/plain": [
       "[0, 1, 0, 0, 1]"
      ]
     },
     "execution_count": 5,
     "metadata": {},
     "output_type": "execute_result"
    }
   ],
   "source": [
    "all_labels[:5]"
   ]
  },
  {
   "cell_type": "code",
   "execution_count": 6,
   "id": "232a23c0-06c5-49b7-b601-1ede1198b4bf",
   "metadata": {},
   "outputs": [
    {
     "data": {
      "text/plain": [
       "200000"
      ]
     },
     "execution_count": 6,
     "metadata": {},
     "output_type": "execute_result"
    }
   ],
   "source": [
    "len(all_input)"
   ]
  },
  {
   "cell_type": "code",
   "execution_count": 7,
   "id": "3954e7fe-b7b5-43d4-98f4-901619a4a54f",
   "metadata": {},
   "outputs": [
    {
     "data": {
      "text/plain": [
       "NSMC.train: size=150000\n",
       "  - NSMC.train.texts : list[str]\n",
       "  - NSMC.train.labels : list[int]"
      ]
     },
     "execution_count": 7,
     "metadata": {},
     "output_type": "execute_result"
    }
   ],
   "source": [
    "corpus.train"
   ]
  },
  {
   "cell_type": "code",
   "execution_count": 8,
   "id": "0398e060-ffc3-424c-a2f6-85e9d128a7ea",
   "metadata": {},
   "outputs": [
    {
     "data": {
      "text/plain": [
       "NSMC.test: size=50000\n",
       "  - NSMC.test.texts : list[str]\n",
       "  - NSMC.test.labels : list[int]"
      ]
     },
     "execution_count": 8,
     "metadata": {},
     "output_type": "execute_result"
    }
   ],
   "source": [
    "corpus.test"
   ]
  },
  {
   "cell_type": "code",
   "execution_count": 34,
   "id": "af6ea294-9a2a-4c30-917d-c9b95cdef587",
   "metadata": {
    "collapsed": true,
    "jupyter": {
     "outputs_hidden": true
    }
   },
   "outputs": [
    {
     "data": {
      "text/plain": [
       "('굳 ㅋ',\n",
       " 'GDNTOPCLASSINTHECLUB',\n",
       " '뭐야 이 평점들은.... 나쁘진 않지만 10점 짜리는 더더욱 아니잖아',\n",
       " '지루하지는 않은데 완전 막장임... 돈주고 보기에는....',\n",
       " '3D만 아니었어도 별 다섯 개 줬을텐데.. 왜 3D로 나와서 제 심기를 불편하게 하죠??',\n",
       " '음악이 주가 된, 최고의 음악영화',\n",
       " '진정한 쓰레기',\n",
       " '마치 미국애니에서 튀어나온듯한 창의력없는 로봇디자인부터가,고개를 젖게한다',\n",
       " '갈수록 개판되가는 중국영화 유치하고 내용없음 폼잡다 끝남 말도안되는 무기에 유치한cg남무 아 그립다 동사서독같은 영화가 이건 3류아류작이다',\n",
       " '이별의 아픔뒤에 찾아오는 새로운 인연의 기쁨 But, 모든 사람이 그렇지는 않네..')"
      ]
     },
     "execution_count": 34,
     "metadata": {},
     "output_type": "execute_result"
    }
   ],
   "source": [
    "corpus.test.texts[:10]"
   ]
  },
  {
   "cell_type": "code",
   "execution_count": 35,
   "id": "d403742f-b963-4901-9a48-93db949d30e5",
   "metadata": {},
   "outputs": [
    {
     "data": {
      "text/plain": [
       "[1, 0, 0, 0, 0, 1, 0, 0, 0, 1]"
      ]
     },
     "execution_count": 35,
     "metadata": {},
     "output_type": "execute_result"
    }
   ],
   "source": [
    "corpus.test.labels[:10]"
   ]
  },
  {
   "cell_type": "markdown",
   "id": "a2e7e54a-548d-4bf3-81aa-357ab249f41a",
   "metadata": {},
   "source": [
    "## 토큰화\n",
    "1. 형태소 단위 token화(분절)를 먼저 한다.\n",
    "    - konlpy로 token화 한 뒤 다시 한 문장으로 만든다.\n",
    "2. 1에서 처리한 corpus를 BPE 로 token화\n",
    "   \n",
    "### 전처리 함수\n",
    "\n",
    "#### 형태소 단위 분절"
   ]
  },
  {
   "cell_type": "code",
   "execution_count": 10,
   "id": "d0bbb39b-9f49-4d29-a969-4839c01f430e",
   "metadata": {},
   "outputs": [],
   "source": [
    "from konlpy.tag import Okt\n",
    "import string\n",
    "import re\n",
    "\n",
    "okt = Okt()\n",
    "def text_preprocessing(text):\n",
    "    \"\"\"\n",
    "    1. 영문 -> 소문자로 변환\n",
    "    2. 구두점 제거\n",
    "    3. 형태소 기반 토큰화\n",
    "    4. 형태소로 토큰화 한 뒤 다시 하나의 문자열로 묶어서 반환.\n",
    "    (stop word 제거)\n",
    "    \"\"\"\n",
    "    text = text.lower()\n",
    "    text = re.sub(f\"[{string.punctuation}]\", \" \", text) #구두점을 공백으로 변환\n",
    "    tokens = okt.morphs(text, stem=True) # stem:원형복원.\n",
    "    return ' '.join(tokens)"
   ]
  },
  {
   "cell_type": "code",
   "execution_count": 11,
   "id": "038a9810-9580-4f67-9671-b58e253cd96b",
   "metadata": {},
   "outputs": [
    {
     "data": {
      "text/plain": [
       "'내가 어제 밥을 먹었다'"
      ]
     },
     "execution_count": 11,
     "metadata": {},
     "output_type": "execute_result"
    }
   ],
   "source": [
    "' '.join(['내가', '어제', '밥을', '먹었다'])\n",
    "# ' '를 기준으로 리스트의 문자열들을 합친다."
   ]
  },
  {
   "cell_type": "code",
   "execution_count": 12,
   "id": "35f45e2f-f76a-4011-b963-d7feb214cc35",
   "metadata": {},
   "outputs": [
    {
     "data": {
      "text/plain": [
       "'[!\"#$%&\\'()*+,-./:;<=>?@[\\\\]^_`{|}~]'"
      ]
     },
     "execution_count": 12,
     "metadata": {},
     "output_type": "execute_result"
    }
   ],
   "source": [
    "# import string\n",
    "# list(string.punctuation)\n",
    "f\"[{string.punctuation}]\""
   ]
  },
  {
   "cell_type": "code",
   "execution_count": 13,
   "id": "6e658962-2fd6-4b1d-b4ef-a38de3ecc847",
   "metadata": {},
   "outputs": [
    {
     "data": {
      "text/plain": [
       "'아 더빙 진짜 짜증나다 목소리'"
      ]
     },
     "execution_count": 13,
     "metadata": {},
     "output_type": "execute_result"
    }
   ],
   "source": [
    "text_preprocessing('아 더빙.. 진짜 짜증나네요 목소리')"
   ]
  },
  {
   "cell_type": "code",
   "execution_count": 14,
   "id": "290da871-a5ef-4c11-87bb-b811b1b65a9f",
   "metadata": {},
   "outputs": [
    {
     "name": "stdout",
     "output_type": "stream",
     "text": [
      "200000\n"
     ]
    }
   ],
   "source": [
    "### train set/test set 전처리.\n",
    "train_input = corpus.train.texts\n",
    "\n",
    "train_texts = [text_preprocessing(txt) for txt in train_input]\n",
    "train_labels = corpus.train.labels\n",
    "\n",
    "test_input = corpus.test.texts\n",
    "test_texts = [text_preprocessing(txt) for txt in test_input]\n",
    "test_labels = corpus.test.labels\n",
    "\n",
    "## 전처리된 input을 합치기 (토큰화를 위해서)\n",
    "all_texts = train_texts + test_texts\n",
    "print(len(all_texts))"
   ]
  },
  {
   "cell_type": "code",
   "execution_count": 15,
   "id": "b22e73f3-376e-4c0c-9917-160d89df24da",
   "metadata": {},
   "outputs": [
    {
     "data": {
      "text/plain": [
       "(150000, 50000)"
      ]
     },
     "execution_count": 15,
     "metadata": {},
     "output_type": "execute_result"
    }
   ],
   "source": [
    "len(train_texts), len(test_texts)"
   ]
  },
  {
   "cell_type": "code",
   "execution_count": 16,
   "id": "e13872b4-101d-4f39-9662-90dae4cfc739",
   "metadata": {},
   "outputs": [],
   "source": [
    "import pickle\n",
    "import os\n",
    "os.makedirs('datasets/nsmc', exist_ok=True)\n",
    "with open('datasets/nsmc/trainset.pkl', 'wb') as fw:\n",
    "    pickle.dump({\"input\":train_texts, \"output\":train_labels}, fw)\n",
    "\n",
    "with open(\"datasets/nsmc/testset.pkl\", 'wb') as fw2:\n",
    "    pickle.dump({\"input\":test_texts, \"output\":test_labels}, fw2)"
   ]
  },
  {
   "cell_type": "markdown",
   "id": "2e519a68-d3a0-4481-bcf7-b121d8ba813f",
   "metadata": {},
   "source": [
    "### 토큰화\n",
    "- Subword 방식 토큰화 적용\n",
    "- Byte Pair Encoding 방식으로 huggingface tokenizer 사용\n",
    "    - BPE: 토큰을 글자 단위로 나눈뒤 가장 자주 등장하는 글자 쌍(byte paire)를 찾아 합친뒤 어휘사전에 추가한다.\n",
    "    - https://huggingface.co/docs/tokenizers/quicktour\n",
    "    - `pip install tokenizers`"
   ]
  },
  {
   "cell_type": "code",
   "execution_count": 17,
   "id": "9c46fb56-1bff-45f8-ba76-30276c89286d",
   "metadata": {},
   "outputs": [],
   "source": [
    "from tokenizers import Tokenizer\n",
    "from tokenizers.models import BPE\n",
    "from tokenizers.pre_tokenizers import Whitespace\n",
    "from tokenizers.trainers import BpeTrainer\n",
    "\n",
    "vocab_size = 30000 # max vocab size\n",
    "min_frequency = 5  # 5회 이상 나온 단어들만 사전에 추가.\n",
    "\n",
    "tokenizer = Tokenizer(\n",
    "    BPE(unk_token='[UNK]')\n",
    ")\n",
    "tokenizer.pre_tokenizer = Whitespace()\n",
    "trainer = BpeTrainer(\n",
    "    vocab_size=vocab_size,\n",
    "    min_frequency=min_frequency, \n",
    "    special_tokens=[\"[PAD]\", \"[UNK]\"], \n",
    "    continuing_subword_prefix=\"##\" # 시작하는 단어가 아닌 경우 ##을 앞에 붙인다.\n",
    "    # 시작하는 -> 시작,  ##하는\n",
    ")\n",
    "# 학습 \n",
    "# 학습데이터가 메모리에 있을때 train 함수\n",
    "tokenizer.train_from_iterator(all_texts, trainer=trainer) "
   ]
  },
  {
   "cell_type": "code",
   "execution_count": 18,
   "id": "0f162bdf-fac9-4468-a264-c656e4b3164d",
   "metadata": {},
   "outputs": [
    {
     "data": {
      "text/plain": [
       "26738"
      ]
     },
     "execution_count": 18,
     "metadata": {},
     "output_type": "execute_result"
    }
   ],
   "source": [
    "# 총 Vocab size\n",
    "tokenizer.get_vocab_size()"
   ]
  },
  {
   "cell_type": "code",
   "execution_count": 43,
   "id": "de9b29e1-384a-44e8-ab19-e53f0c1303c7",
   "metadata": {},
   "outputs": [
    {
     "name": "stdout",
     "output_type": "stream",
     "text": [
      "[PAD]의 id: 0\n",
      "北\n"
     ]
    }
   ],
   "source": [
    "print(f\"[PAD]의 id: {tokenizer.token_to_id('[PAD]')}\")\n",
    "print(tokenizer.id_to_token(300))"
   ]
  },
  {
   "cell_type": "code",
   "execution_count": 19,
   "id": "b7ee25b7-d520-4041-8951-b0a8196c8cca",
   "metadata": {},
   "outputs": [
    {
     "name": "stdout",
     "output_type": "stream",
     "text": [
      "아 더빙 진짜 짜증나다 목소리\n"
     ]
    },
    {
     "data": {
      "text/plain": [
       "[1986, 5881, 5426, 5667, 6087]"
      ]
     },
     "execution_count": 19,
     "metadata": {},
     "output_type": "execute_result"
    }
   ],
   "source": [
    "# 문장 토큰화\n",
    "print(all_texts[0])\n",
    "r = tokenizer.encode(all_texts[0])\n",
    "r.ids"
   ]
  },
  {
   "cell_type": "code",
   "execution_count": 49,
   "id": "493fdc2f-8b58-4cb3-b8ff-44eecb24e0df",
   "metadata": {},
   "outputs": [
    {
     "data": {
      "text/plain": [
       "['아', '더빙', '진짜', '짜증나다', '목소리']"
      ]
     },
     "execution_count": 49,
     "metadata": {},
     "output_type": "execute_result"
    }
   ],
   "source": [
    "r.tokens"
   ]
  },
  {
   "cell_type": "code",
   "execution_count": 50,
   "id": "6e1ddc04-af05-44ba-ad1d-bd901f5d7ee9",
   "metadata": {},
   "outputs": [
    {
     "data": {
      "text/plain": [
       "'아 더빙 진짜 짜증나다 목소리'"
      ]
     },
     "execution_count": 50,
     "metadata": {},
     "output_type": "execute_result"
    }
   ],
   "source": [
    "tokenizer.decode([1986, 5881, 5426, 5667, 6087])"
   ]
  },
  {
   "cell_type": "code",
   "execution_count": 60,
   "id": "e998d38b-e762-4fd5-b37f-8f8a2b6f5849",
   "metadata": {},
   "outputs": [],
   "source": [
    "### Tokenizer를 저장\n",
    "os.makedirs(\"saved_model/nsmc\", exist_ok=True)\n",
    "tokenizer.save(\"saved_model/nsmc/tokenizer.json\")"
   ]
  },
  {
   "cell_type": "code",
   "execution_count": 20,
   "id": "b52e3049-4139-447f-823c-6167d54f5c15",
   "metadata": {},
   "outputs": [
    {
     "data": {
      "text/plain": [
       "['아', '더빙', '진짜', '짜증나다', '목소리']"
      ]
     },
     "execution_count": 20,
     "metadata": {},
     "output_type": "execute_result"
    }
   ],
   "source": [
    "# 불러오기\n",
    "load_tokenizer = Tokenizer.from_file(\"saved_model/nsmc/tokenizer.json\")\n",
    "load_tokenizer.encode(all_texts[0]).tokens"
   ]
  },
  {
   "cell_type": "markdown",
   "id": "09f5c31d-633c-4a31-8f66-dff2ecf8e86a",
   "metadata": {},
   "source": [
    "## Dataset, DataLoader 생성"
   ]
  },
  {
   "cell_type": "code",
   "execution_count": 73,
   "id": "ebbe080d-27d7-4da6-8eaa-128a5f605459",
   "metadata": {},
   "outputs": [
    {
     "data": {
      "text/plain": [
       "[6216, 17173, 1, 11373, 3203]"
      ]
     },
     "execution_count": 73,
     "metadata": {},
     "output_type": "execute_result"
    }
   ],
   "source": [
    "tokenizer.encode(\"댓글 목록. 리스트에 \").ids"
   ]
  },
  {
   "cell_type": "code",
   "execution_count": 23,
   "id": "6accd4b5-5716-47c7-82f9-fec8517b41b9",
   "metadata": {},
   "outputs": [
    {
     "data": {
      "text/plain": [
       "['아 더빙 진짜 짜증나다 목소리',\n",
       " '흠 포스터 보고 초딩 영화 줄 오버 연기 조차 가볍다 않다',\n",
       " '너 무재 밓었 다그 래서 보다 추천 한 다',\n",
       " '교도소 이야기 구먼 솔직하다 재미 는 없다 평점 조정',\n",
       " '사이 몬페 그 의 익살스럽다 연기 가 돋보이다 영화 스파이더맨 에서 늙다 보이다 하다 커스틴 던스트 가 너무나도 이쁘다 보이다',\n",
       " '막 걸음 마 떼다 3 세 부터 초등학교 1 학년 생인 8 살다 영화 ㅋㅋㅋ 별 반개 도 아깝다 움',\n",
       " '원작 의 긴장감 을 제대로 살리다 하다',\n",
       " '별 반개 도 아깝다 욕 나오다 이응경 길용우 연 기 생활 이 몇 년 인지 정말 발 로 해도 그것 보단 낫다 납치 감금 만 반복 반복 이 드라마 는 가족 도 없다 연기 못 하다 사람 만 모 엿 네',\n",
       " '액션 이 없다 재미 있다 몇 안되다 영화',\n",
       " '왜케 평점 이 낮다 꽤 볼 만 한 데 헐리우드 식 화려하다 너무 길들이다 있다']"
      ]
     },
     "execution_count": 23,
     "metadata": {},
     "output_type": "execute_result"
    }
   ],
   "source": [
    "all_texts[:10]"
   ]
  },
  {
   "cell_type": "code",
   "execution_count": 27,
   "id": "ff27280e-dfb7-4947-9192-777e6984286f",
   "metadata": {},
   "outputs": [],
   "source": [
    "import torch\n",
    "from torch.utils.data import Dataset, DataLoader\n",
    "\n",
    "class NSMCDataset(Dataset):\n",
    "    \n",
    "    def __init__(self, texts, labels, max_length, tokenizer):\n",
    "        \"\"\"\n",
    "        texts: list - 댓글 목록. 리스트에 댓글들을 담아서 받는다. [\"댓글\", \"댓글\", ...]\n",
    "        labels: list - 댓글 감정 목록. \n",
    "        max_length: 개별 댓글의 token 개수. 모든 댓글의 토큰수를 max_length에 맞춘다.\n",
    "        tokenizer: Tokenizer\n",
    "        \"\"\"\n",
    "        self.max_length = max_length\n",
    "        self.tokenizer = tokenizer\n",
    "        self.texts = [self.__pad_token_sequences(tokenizer.encode(text).ids) \n",
    "                      for text in texts]\n",
    "        self.labels = labels\n",
    "\n",
    "    ###########################################################################################\n",
    "    # id로 구성된 개별 문장 tokenizer list를 받아서 패딩 추가 [20, 2, 1] => [20, 2, 1, 0, 0, 0, ..]\n",
    "    ############################################################################################\n",
    "    def __pad_token_sequences(self, token_sequences):\n",
    "        \"\"\"\n",
    "        token id로 구성된 개별 문서(댓글)의 token_id list를 받아서 max_length 길이에 맞추는 메소드\n",
    "        max_length 보다 토큰수가 적으면 [PAD] 추가, 많으면 max_length 크기로 줄인다.\n",
    "            ex) [20, 2, 1] => [20, 2, 1, 0, 0, 0, ..]\n",
    "        \"\"\"\n",
    "        pad_token = self.tokenizer.token_to_id('[PAD]')\n",
    "        seq_len = len(token_sequences) # 문장의 토큰개수\n",
    "        result = None\n",
    "        if seq_len > self.max_length: # 잘라내기.\n",
    "            result = token_sequences[:self.max_length]\n",
    "        else: # [PAD] 토큰을 추가.\n",
    "            result = token_sequences + ([pad_token] * (self.max_length - seq_len))\n",
    "        return result\n",
    "        \n",
    "    def __len__(self):\n",
    "        return len(self.texts)\n",
    "\n",
    "    def __getitem__(self, idx):\n",
    "        \"\"\"\n",
    "        idx 번째 text와 label을 학습 가능한 type으로 변환해서 반환\n",
    "        Parameter\n",
    "            idx: int 조회할 index\n",
    "        Return\n",
    "            tuple: (torch.LongTensor, torch.FloatTensor) - 댓글 토큰_id 리스트, 정답 Label\n",
    "        \"\"\"\n",
    "        txt = self.texts[idx]    # idx번째 댓글 문장 조회\n",
    "        label = self.labels[idx] # idx번째 정답\n",
    "        # encode = self.tokenizer.encode(txt) # 토큰화\n",
    "        # padding_encode = __pad_token_sequences(encode)\n",
    "\n",
    "        # (input, output) input: Embedding Layer에 입력으로 들어감. -> LongTensor, IntTensor(정수)\n",
    "        # output: [label]  # loss함수에 입력할 때 (batch, 1)\n",
    "        return (torch.tensor(txt, dtype=torch.int64),  \n",
    "                torch.tensor([label], dtype=torch.float32))\n",
    "        \n",
    "# BCELoss(): 정답 shape (batch, 1)   - [[1], [0], [0]]\n",
    "# CrossEntropyLoss(): 정답 shape (batch, ) - [1, 6, 3, ..]       \n",
    "    "
   ]
  },
  {
   "cell_type": "code",
   "execution_count": 70,
   "id": "d5bec1e7-4298-4df7-bf03-4a2b10dd14bd",
   "metadata": {},
   "outputs": [],
   "source": [
    "a = [ len(tokenizer.encode(text)) for text in all_texts]  # 모든 문장들의 토큰 개수 리스트."
   ]
  },
  {
   "cell_type": "code",
   "execution_count": 64,
   "id": "9401c469-7f62-4798-94f1-b6424cef1004",
   "metadata": {},
   "outputs": [
    {
     "data": {
      "text/plain": [
       "(0, 89)"
      ]
     },
     "execution_count": 64,
     "metadata": {},
     "output_type": "execute_result"
    }
   ],
   "source": [
    "min(a), max(a)"
   ]
  },
  {
   "cell_type": "code",
   "execution_count": 66,
   "id": "d47aadae-9277-4b39-9c5d-d696ec88ae49",
   "metadata": {},
   "outputs": [
    {
     "data": {
      "text/plain": [
       "array([29., 41.])"
      ]
     },
     "execution_count": 66,
     "metadata": {},
     "output_type": "execute_result"
    }
   ],
   "source": [
    "import numpy as np\n",
    "np.quantile(a, q=[0.9, 0.95])"
   ]
  },
  {
   "cell_type": "code",
   "execution_count": 26,
   "id": "c098ebc3-5625-4e27-b890-b0bba2cf9dda",
   "metadata": {},
   "outputs": [
    {
     "data": {
      "text/plain": [
       "(150000, 50000)"
      ]
     },
     "execution_count": 26,
     "metadata": {},
     "output_type": "execute_result"
    }
   ],
   "source": [
    "##### Dataset 생성\n",
    "# max_token수를 30개\n",
    "MAX_TOKEN = 30\n",
    "train_set = NSMCDataset(train_texts, train_labels, MAX_TOKEN, tokenizer)\n",
    "test_set = NSMCDataset(test_texts, test_labels, MAX_TOKEN, tokenizer)\n",
    "len(train_set), len(test_set)"
   ]
  },
  {
   "cell_type": "code",
   "execution_count": 28,
   "id": "c44b0fd4-18ba-4568-91e0-fcfb9d4e6a34",
   "metadata": {},
   "outputs": [
    {
     "data": {
      "text/plain": [
       "(tensor([  540, 11354,   506,  2408,  5414,  5426,  2408,  5414,   119,     0,\n",
       "             0,     0,     0,     0,     0,     0,     0,     0,     0,     0,\n",
       "             0,     0,     0,     0,     0,     0,     0,     0,     0,     0]),\n",
       " tensor([1.]))"
      ]
     },
     "execution_count": 28,
     "metadata": {},
     "output_type": "execute_result"
    }
   ],
   "source": [
    "train_set[10]"
   ]
  },
  {
   "cell_type": "code",
   "execution_count": 29,
   "id": "51801082-c238-4b5d-ac60-57fe28bbd5e9",
   "metadata": {},
   "outputs": [],
   "source": [
    "### DataLoader\n",
    "BATCH_SIZE = 64\n",
    "train_loader = DataLoader(train_set, batch_size=BATCH_SIZE, shuffle=True, drop_last=True)\n",
    "test_loader = DataLoader(test_set, batch_size=BATCH_SIZE)"
   ]
  },
  {
   "cell_type": "code",
   "execution_count": 30,
   "id": "1e29c474-ec23-4202-b058-e4206d39235e",
   "metadata": {},
   "outputs": [
    {
     "data": {
      "text/plain": [
       "(2343, 782)"
      ]
     },
     "execution_count": 30,
     "metadata": {},
     "output_type": "execute_result"
    }
   ],
   "source": [
    "len(train_loader), len(test_loader)"
   ]
  },
  {
   "cell_type": "markdown",
   "id": "42b5f038-b32c-4e4e-82c8-956c7cbe0c4d",
   "metadata": {},
   "source": [
    "# 모델링\n",
    "- Embedding Layer를 이용해 Word Embedding Vector를 추출한다.\n",
    "- LSTM을 이용해 Feature 추출\n",
    "- Linear + Sigmoid로 댓글 긍정일 확률 출력\n",
    "  \n",
    "![outline](figures/rnn/RNN_outline.png)\n",
    "\n",
    "## 모델 정의"
   ]
  },
  {
   "cell_type": "code",
   "execution_count": 32,
   "id": "f647d0c2-829a-41f6-a922-ee33b2450f8d",
   "metadata": {},
   "outputs": [],
   "source": [
    "import torch\n",
    "import torch.nn as nn\n",
    "from torchinfo import summary\n",
    "import numpy as np\n",
    "\n",
    "device = 'cuda' if torch.cuda.is_available() else \"cpu\""
   ]
  },
  {
   "cell_type": "code",
   "execution_count": 33,
   "id": "ac88afd6-5c8f-4ade-b930-86c9425e86e9",
   "metadata": {},
   "outputs": [],
   "source": [
    "class NaverCommentClassifier(nn.Module):\n",
    "\n",
    "    def __init__(self, vocab_size, embedding_dim, hidden_size, \n",
    "                 num_layers, bidirectional=True, dropout_rate=0.2):\n",
    "        \n",
    "        super().__init__()\n",
    "        self.embedding = nn.Embedding(\n",
    "            num_embeddings=vocab_size,   # vocab 크기(총 단어수)\n",
    "            embedding_dim=embedding_dim, # embedding vector의 차원수(개수)\n",
    "            padding_idx = 0              # [PAD]의 index. [PAD] 에 대한 weight는 학습하지 않는다.\n",
    "        )\n",
    "        # embedding layer의 출력 shape:  (64:batch, seq_len:문장의 토큰수, embedding vector차원수)\n",
    "        ##  (64, 30, embedding_dim)\n",
    "        self.lstm = nn.LSTM(\n",
    "            input_size=embedding_dim, \n",
    "            hidden_size=hidden_size,\n",
    "            num_layers=num_layers, \n",
    "            bidirectional=bidirectional,\n",
    "            dropout=dropout_rate\n",
    "        )\n",
    "        self.dropout = nn.Dropout(dropout_rate)\n",
    "\n",
    "        # 입력: lstm의 마지막 timestep의 output   out, (h, c) = lstm(X)\n",
    "        #  i_features = hidden_size * 2 if bidirectional else hidden_size\n",
    "        if bidirectional == True:\n",
    "            i_features = hidden_size * 2\n",
    "        else:\n",
    "            i_features = hidden_size\n",
    "        self.classifier = nn.Linear(i_features, 1)  # out_features: 1 - 긍정일 확률\n",
    "        self.sigmoid = nn.Sigmoid()\n",
    "\n",
    "    def forward(self, X):\n",
    "        # X:  [batch_size, seq_len(문장의 토큰수)]   [64, 30]\n",
    "        embedding_vector = self.embedding(X)\n",
    "        # embedding_vector: [batch_size, seq_len, embedding_dim] -> [seq_len, batch_size, embedding_dim]\n",
    "        embedding_vector = embedding_vector.transpose(1, 0)  # batch축과 seq_len 축을 바꾸기.\n",
    "        output, _ = self.lstm(embedding_vector)\n",
    "        # output: [seq_len, batch_size, hidden_size * (2 if bidirectional else 1)] \n",
    "#                                                                        => 마지막 output을 추출\n",
    "        output = output[-1] # shape: (batch_size, hidden_size)\n",
    "        output = self.dropout(output)\n",
    "        output = self.classifier(output)\n",
    "        last_output = self.sigmoid(output)\n",
    "        return last_output"
   ]
  },
  {
   "cell_type": "markdown",
   "id": "af1a0171-371e-4cb5-9bd5-ad1e3c14480d",
   "metadata": {},
   "source": [
    "## 모델 생성"
   ]
  },
  {
   "cell_type": "code",
   "execution_count": 34,
   "id": "7830d2b5-d5ed-4b53-a442-bebc83077aec",
   "metadata": {},
   "outputs": [],
   "source": [
    "model = NaverCommentClassifier(\n",
    "    vocab_size=tokenizer.get_vocab_size(), \n",
    "    embedding_dim=100, \n",
    "    hidden_size=32,\n",
    "    num_layers=2,\n",
    "    bidirectional=True,\n",
    "    dropout_rate=0.3\n",
    ")"
   ]
  },
  {
   "cell_type": "code",
   "execution_count": 85,
   "id": "ae04a25a-c6dc-4833-883b-54972a16c171",
   "metadata": {},
   "outputs": [
    {
     "name": "stdout",
     "output_type": "stream",
     "text": [
      "NaverCommentClassifier(\n",
      "  (embedding): Embedding(26739, 100, padding_idx=0)\n",
      "  (lstm): LSTM(100, 32, num_layers=2, dropout=0.3, bidirectional=True)\n",
      "  (dropout): Dropout(p=0.3, inplace=False)\n",
      "  (classifer): Linear(in_features=64, out_features=1, bias=True)\n",
      "  (sigmoid): Sigmoid()\n",
      ")\n"
     ]
    }
   ],
   "source": [
    "print(model)"
   ]
  },
  {
   "cell_type": "code",
   "execution_count": 91,
   "id": "cf7ea9ff-ac68-4885-b34f-24b600eb2f97",
   "metadata": {},
   "outputs": [
    {
     "data": {
      "text/plain": [
       "==========================================================================================\n",
       "Layer (type:depth-idx)                   Output Shape              Param #\n",
       "==========================================================================================\n",
       "NaverCommentClassifier                   [10, 1]                   --\n",
       "├─Embedding: 1-1                         [10, 30, 100]             2,673,900\n",
       "├─LSTM: 1-2                              [30, 10, 64]              59,392\n",
       "├─Dropout: 1-3                           [10, 64]                  --\n",
       "├─Linear: 1-4                            [10, 1]                   65\n",
       "├─Sigmoid: 1-5                           [10, 1]                   --\n",
       "==========================================================================================\n",
       "Total params: 2,733,357\n",
       "Trainable params: 2,733,357\n",
       "Non-trainable params: 0\n",
       "Total mult-adds (Units.MEGABYTES): 44.56\n",
       "==========================================================================================\n",
       "Input size (MB): 0.00\n",
       "Forward/backward pass size (MB): 0.39\n",
       "Params size (MB): 10.93\n",
       "Estimated Total Size (MB): 11.33\n",
       "=========================================================================================="
      ]
     },
     "execution_count": 91,
     "metadata": {},
     "output_type": "execute_result"
    }
   ],
   "source": [
    "i = torch.randint(1, 10, (10, 30), dtype=torch.int64)\n",
    "summary(model, input_data=i)"
   ]
  },
  {
   "cell_type": "code",
   "execution_count": 35,
   "id": "c195ad59-48f2-4050-9ea6-2c4aec2a37b9",
   "metadata": {},
   "outputs": [],
   "source": [
    "#학습 전에 추론\n",
    "x, y = next(iter(train_loader))\n",
    "y_hat = model(x)"
   ]
  },
  {
   "cell_type": "code",
   "execution_count": 37,
   "id": "de90f2ed-f4ab-4531-9139-ed5ee549a980",
   "metadata": {
    "scrolled": true
   },
   "outputs": [
    {
     "data": {
      "text/plain": [
       "torch.Size([64, 1])"
      ]
     },
     "execution_count": 37,
     "metadata": {},
     "output_type": "execute_result"
    }
   ],
   "source": [
    "y_hat.shape"
   ]
  },
  {
   "cell_type": "markdown",
   "id": "4bdd5885-8150-4529-ad3a-84931a8824c5",
   "metadata": {},
   "source": [
    "## 학습"
   ]
  },
  {
   "cell_type": "markdown",
   "id": "a48a1bf6-d8eb-42d0-996e-f975e93888af",
   "metadata": {},
   "source": [
    "### Train/Test 함수 정의"
   ]
  },
  {
   "cell_type": "code",
   "execution_count": 41,
   "id": "46099bec-eee3-4cef-921b-ce9ee6cf0f0d",
   "metadata": {},
   "outputs": [],
   "source": [
    "def train(model, dataloader, loss_fn, optimizer, device='cpu'):\n",
    "    # 1 epoch 학습\n",
    "    model = model.to(device)\n",
    "    model.train()\n",
    "    loss_list = []\n",
    "    for X, y in dataloader:\n",
    "        X, y = X.to(device), y.to(device)\n",
    "        # 추론\n",
    "        pred = model(X)\n",
    "        # loss 계산\n",
    "        loss = loss_fn(pred, y)\n",
    "        # gradient 계산\n",
    "        loss.backward()\n",
    "        # 파라미터 업데이트\n",
    "        optimizer.step()\n",
    "        # 파라미터 초기화\n",
    "        optimizer.zero_grad()\n",
    "        loss_list.append(loss.item())\n",
    "    return sum(loss_list)/len(dataloader)  # 1 에폭 train loss: step loss들 평균을 반환."
   ]
  },
  {
   "cell_type": "code",
   "execution_count": 46,
   "id": "4c5eb3ea-78e8-4248-a8ce-d07a4c362d1a",
   "metadata": {},
   "outputs": [],
   "source": [
    "def test(model, dataloader, loss_fn, device=\"cpu\"):\n",
    "    model = model.to(device)\n",
    "    model.eval()\n",
    "    loss_list = []\n",
    "    acc_list = 0\n",
    "    with torch.no_grad():\n",
    "        for X, y in dataloader:\n",
    "            X, y = X.to(device), y.to(device)\n",
    "            pred_proba = model(X) #  양성일 확률\n",
    "            pred_label = (pred_proba > 0.5).type(torch.int32) # bool -> int (False: 0, True: 1)\n",
    "            loss = loss_fn(pred_proba, y)\n",
    "            loss_list.append(loss.item())\n",
    "            acc_list += (y == pred_label).sum().item()\n",
    "        return sum(loss_list)/len(dataloader), acc_list/len(dataloader.dataset) # 검증 loss, accuracy "
   ]
  },
  {
   "cell_type": "markdown",
   "id": "4c8853d0-b137-47bb-8f0d-fc4f05700cf2",
   "metadata": {},
   "source": [
    "### Train"
   ]
  },
  {
   "cell_type": "code",
   "execution_count": 43,
   "id": "45e39276-080d-4586-81fb-8b33dd89f64a",
   "metadata": {},
   "outputs": [],
   "source": [
    "lr = 0.01\n",
    "epochs = 1\n",
    "loss_fn = nn.BCELoss()\n",
    "optimizer = torch.optim.Adam(model.parameters(), lr=lr)"
   ]
  },
  {
   "cell_type": "code",
   "execution_count": 47,
   "id": "cc54c6f2-b958-4abf-baa4-f4987587a55f",
   "metadata": {},
   "outputs": [
    {
     "name": "stdout",
     "output_type": "stream",
     "text": [
      "[0/1] train loss: 0.35809781592827394, val_loss: 0.36691004691450185, val_acc: 0.83836\n"
     ]
    }
   ],
   "source": [
    "for epoch in range(epochs):\n",
    "    # 학습\n",
    "    train_loss = train(model, train_loader, loss_fn, optimizer, device)\n",
    "    val_loss, val_acc = test(model, test_loader, loss_fn, device)\n",
    "    print(f\"[{epoch}/{epochs}] train loss: {train_loss}, val_loss: {val_loss}, val_acc: {val_acc}\")"
   ]
  },
  {
   "cell_type": "markdown",
   "id": "32690441-482a-46b1-b91b-b85329d2141f",
   "metadata": {},
   "source": [
    "## 모델저장"
   ]
  },
  {
   "cell_type": "code",
   "execution_count": 48,
   "id": "80c16618-1517-4371-8e37-ae3cf03428b0",
   "metadata": {},
   "outputs": [],
   "source": [
    "torch.save(model, 'saved_model/nsmc_model.pt')"
   ]
  },
  {
   "cell_type": "markdown",
   "id": "a3de7ed5-f7f6-4206-b16f-f8535a03405c",
   "metadata": {},
   "source": [
    "# 서비스"
   ]
  },
  {
   "cell_type": "markdown",
   "id": "827bdaa3-008d-4a93-aee6-0877e829ef32",
   "metadata": {},
   "source": [
    "## 전처리 함수들"
   ]
  },
  {
   "cell_type": "code",
   "execution_count": 51,
   "id": "1a2661a9-3964-4117-b273-e5d8bd4194b3",
   "metadata": {},
   "outputs": [],
   "source": [
    "from konlpy.tag import Okt\n",
    "okt = Okt()\n",
    "def text_preprocessing(text):\n",
    "    # 한문장(문서) 전처리.\n",
    "    text = text.lower()\n",
    "    text = re.sub(f\"[{string.punctuation}]+\", ' ', text)\n",
    "    return ' '.join(okt.morphs(text, stem=True))"
   ]
  },
  {
   "cell_type": "code",
   "execution_count": 52,
   "id": "315603df-159b-4317-9fb4-7897546b7cf7",
   "metadata": {},
   "outputs": [],
   "source": [
    "def pad_token_sequences(token_sequences, max_length):\n",
    "    \"\"\"padding 처리 메소드.\"\"\"\n",
    "    pad_token = tokenizer.token_to_id('[PAD]')  \n",
    "    seq_length = len(token_sequences)           \n",
    "    result = None\n",
    "    if seq_length > max_length:                 \n",
    "        result = token_sequences[:max_length]\n",
    "    else:                                            \n",
    "        result = token_sequences + ([pad_token] * (max_length - seq_length))\n",
    "    return result"
   ]
  },
  {
   "cell_type": "code",
   "execution_count": 53,
   "id": "8d73070a-0ee5-4f35-996c-b0d11ba08516",
   "metadata": {},
   "outputs": [],
   "source": [
    "def predict_data_preprocessing(text_list):\n",
    "    \"\"\"\n",
    "    모델에 입력할 수있는 input data를 생성\n",
    "    Parameter:\n",
    "        text_list: list - 추론할 댓글리스트\n",
    "    Return\n",
    "        torch.LongTensor - 댓글 token_id tensor\n",
    "    \"\"\"\n",
    "    # 전처리\n",
    "    text_list = [text_preprocessing(text) for text in text_list]\n",
    "    # 토큰화\n",
    "    tokens = [tokenizer.encode(text).ids for text in text_list]\n",
    "    # 토큰 + 패딩\n",
    "    pad_tokens = [pad_token_sequences(token, MAX_TOKEN) for token in tokens]\n",
    "    return torch.tensor(pad_tokens, dtype=torch.int64)"
   ]
  },
  {
   "cell_type": "markdown",
   "id": "a1e19997-6b61-446f-ac72-376cd34ee495",
   "metadata": {},
   "source": [
    "## 추론"
   ]
  },
  {
   "cell_type": "code",
   "execution_count": 54,
   "id": "a6fb00ab-60d0-45f2-bb16-505a5f5cc056",
   "metadata": {},
   "outputs": [
    {
     "data": {
      "text/plain": [
       "torch.Size([9, 30])"
      ]
     },
     "execution_count": 54,
     "metadata": {},
     "output_type": "execute_result"
    }
   ],
   "source": [
    "comment_list = [\"아 진짜 재미없다.\", \"여기 식당 먹을만 해요\", \"이걸 영화라고 만들었냐?\", \"기대 안하고 봐서 그런지 괜찮은데.\", \"이걸 영화라고 만들었나?\", \"아! 뭐야 진짜.\", \"재미있는데.\", \"연기 짱 좋아. 한번 더 볼 의향도 있다.\", \"뭐 그럭저럭\"]\n",
    "input_tensor = predict_data_preprocessing(comment_list)\n",
    "input_tensor.shape"
   ]
  },
  {
   "cell_type": "code",
   "execution_count": 61,
   "id": "5273ac02-81f3-4391-b802-f9dca1f8d032",
   "metadata": {},
   "outputs": [
    {
     "name": "stdout",
     "output_type": "stream",
     "text": [
      "아 진짜 재미없다.\t부정적 댓글\t0.9846872687339783\n",
      "여기 식당 먹을만 해요\t부정적 댓글\t0.7542984485626221\n",
      "이걸 영화라고 만들었냐?\t부정적 댓글\t0.9461966753005981\n",
      "기대 안하고 봐서 그런지 괜찮은데.\t긍정적 댓글\t0.753645122051239\n",
      "이걸 영화라고 만들었나?\t부정적 댓글\t0.9461966753005981\n",
      "아! 뭐야 진짜.\t부정적 댓글\t0.9483587741851807\n",
      "재미있는데.\t긍정적 댓글\t0.950312077999115\n",
      "연기 짱 좋아. 한번 더 볼 의향도 있다.\t긍정적 댓글\t0.9704426527023315\n",
      "뭐 그럭저럭\t부정적 댓글\t0.9635049104690552\n"
     ]
    }
   ],
   "source": [
    "# 추론\n",
    "model.eval()\n",
    "model.to(device)\n",
    "with torch.no_grad():\n",
    "    pred = model(input_tensor)\n",
    "    for txt, prob in zip(comment_list, pred):\n",
    "        label = \"긍정적 댓글\" if prob.item() > 0.5 else \"부정적 댓글\"\n",
    "        p = prob.item() if prob.item() > 0.5 else (1-prob).item()\n",
    "        print(txt, label, p, sep=\"\\t\")"
   ]
  },
  {
   "cell_type": "code",
   "execution_count": null,
   "id": "e6f55fd5-33a6-41f3-af3c-b968007076a0",
   "metadata": {},
   "outputs": [],
   "source": []
  },
  {
   "cell_type": "code",
   "execution_count": 63,
   "id": "06030345-039f-47bb-89e9-7514fe8e25b8",
   "metadata": {},
   "outputs": [
    {
     "name": "stdin",
     "output_type": "stream",
     "text": [
      "댓글: ㅣㅏㅁ어리만어리;ㅁㄴㅇ러;ㅣㅁㅇ\n"
     ]
    },
    {
     "name": "stdout",
     "output_type": "stream",
     "text": [
      "ㅣㅏㅁ어리만어리;ㅁㄴㅇ러;ㅣㅁㅇ\t부정적 댓글\t0.610584020614624\n"
     ]
    }
   ],
   "source": [
    "comment_list = [input(\"댓글:\")]\n",
    "input_tensor = predict_data_preprocessing(comment_list)\n",
    "\n",
    "model.eval()\n",
    "model.to(device)\n",
    "with torch.no_grad():\n",
    "    pred = model(input_tensor)\n",
    "    for txt, prob in zip(comment_list, pred):\n",
    "        label = \"긍정적 댓글\" if prob.item() > 0.5 else \"부정적 댓글\"\n",
    "        p = prob.item() if prob.item() > 0.5 else (1-prob).item()\n",
    "        print(txt, label, p, sep=\"\\t\")"
   ]
  },
  {
   "cell_type": "code",
   "execution_count": null,
   "id": "a0510a47-9189-4c2a-a6e9-33b04971f2b6",
   "metadata": {},
   "outputs": [],
   "source": []
  }
 ],
 "metadata": {
  "kernelspec": {
   "display_name": "Python 3 (ipykernel)",
   "language": "python",
   "name": "python3"
  },
  "language_info": {
   "codemirror_mode": {
    "name": "ipython",
    "version": 3
   },
   "file_extension": ".py",
   "mimetype": "text/x-python",
   "name": "python",
   "nbconvert_exporter": "python",
   "pygments_lexer": "ipython3",
   "version": "3.12.7"
  }
 },
 "nbformat": 4,
 "nbformat_minor": 5
}
